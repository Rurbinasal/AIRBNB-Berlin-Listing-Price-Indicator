{
 "cells": [
  {
   "cell_type": "markdown",
   "metadata": {},
   "source": [
    "# Set-up"
   ]
  },
  {
   "cell_type": "markdown",
   "metadata": {},
   "source": [
    "This notebook contains predictive modeling for various distinct target options, namely:\n",
    "\n",
    "3 Modeling: Binary Classification (**PRICE_BINARY**)\n",
    "- Binary split is set as a USD Price amount in the Dashboard\n",
    "\n",
    "4 Modeling: Multi-Class Classification (**PRICE_CLASS**)\n",
    "- TBD\n",
    "\n",
    "5 Modeling: Regression (**PRICE_LOG**)\n",
    "- TBD\n",
    "\n",
    "**As a consequence, the respective targets need to be selected via the Dashboard BEFORE running the corresponding section.**"
   ]
  },
  {
   "cell_type": "markdown",
   "metadata": {},
   "source": [
    "## Libraries and Dashboard"
   ]
  },
  {
   "cell_type": "code",
   "execution_count": 478,
   "metadata": {
    "code_folding": [
     0
    ]
   },
   "outputs": [],
   "source": [
    "# Import libraries\n",
    "\n",
    "# General\n",
    "import pandas as pd\n",
    "import numpy as np\n",
    "import seaborn as sns\n",
    "import matplotlib.pyplot as plt\n",
    "import math\n",
    "\n",
    "# Preprocessing\n",
    "from sklearn.model_selection import train_test_split\n",
    "from sklearn.utils import resample\n",
    "from sklearn.preprocessing import OneHotEncoder, MinMaxScaler, StandardScaler, PolynomialFeatures, LabelEncoder\n",
    "from sklearn.impute import SimpleImputer\n",
    "from sklearn.feature_extraction import DictVectorizer\n",
    "from sklearn.pipeline import Pipeline, make_pipeline  # Same, but with the latter it is not necessary to name estimator and transformer\n",
    "#from imblearn.pipeline import Pipeline as Imb_Pipe\n",
    "from sklearn.compose import ColumnTransformer\n",
    "from sklearn.cluster import DBSCAN\n",
    "\n",
    "# Feature Selection\n",
    "from sklearn.feature_selection import SelectKBest, chi2, f_classif, GenericUnivariateSelect, mutual_info_classif\n",
    "import eli5\n",
    "\n",
    "# Predictive Modeling (Models)\n",
    "from sklearn.dummy import DummyClassifier, DummyRegressor\n",
    "import statsmodels.api as sm\n",
    "import statsmodels.formula.api as smf\n",
    "from sklearn.model_selection import RandomizedSearchCV, GridSearchCV, cross_val_predict, cross_val_score, cross_validate, KFold\n",
    "from sklearn.tree import DecisionTreeClassifier, DecisionTreeRegressor\n",
    "from sklearn.svm import SVC, NuSVC, SVR\n",
    "from sklearn.linear_model import LinearRegression, LogisticRegression, PassiveAggressiveRegressor, ElasticNet, SGDRegressor, RANSACRegressor\n",
    "from sklearn.ensemble import AdaBoostClassifier, AdaBoostRegressor, GradientBoostingRegressor, VotingClassifier, RandomForestClassifier, RandomForestRegressor, GradientBoostingClassifier, IsolationForest\n",
    "from sklearn.neighbors import KNeighborsClassifier, KNeighborsRegressor\n",
    "from xgboost import XGBClassifier, XGBRegressor\n",
    "from scipy.stats import randint\n",
    "from sklearn.multiclass import OneVsRestClassifier\n",
    "\n",
    "# Evaluation Metrics\n",
    "from sklearn import metrics\n",
    "from sklearn.metrics import mean_absolute_error, mean_squared_error, r2_score, make_scorer, fbeta_score, accuracy_score, confusion_matrix, f1_score, precision_recall_curve, recall_score, precision_score, roc_auc_score\n",
    "from scipy.sparse import csr_matrix\n",
    "\n",
    "# Neural Networks\n",
    "from keras import models, layers, optimizers, regularizers\n",
    "from keras.utils.vis_utils import model_to_dot\n",
    "from IPython.display import SVG"
   ]
  },
  {
   "cell_type": "code",
   "execution_count": 479,
   "metadata": {
    "code_folding": [
     0
    ]
   },
   "outputs": [],
   "source": [
    "# Import data_engineered\n",
    "data = pd.read_pickle(f\"saves/{dataset_loc}_{dataset_date}/data_engineered.pkl\")"
   ]
  },
  {
   "cell_type": "code",
   "execution_count": 480,
   "metadata": {
    "code_folding": [
     0
    ]
   },
   "outputs": [],
   "source": [
    "# Feature selection\n",
    "\n",
    "#... by removing certain features\n",
    "all_features = [\n",
    "    el for el in data.columns if el not in [\n",
    "        'occupancy_rate', 'occupancy_class', 'price_log', 'price_class', 'price_binary',\n",
    "        \"review_scores_class_new\", \"review_scores_class\", \"review_scores_calc\"\n",
    "    ]\n",
    "]\n",
    "\n",
    "#... by only considering certain features\n",
    "key_features = [\n",
    "    \"accommodates\", \"bathrooms_log\", \"host_is_superhost\", \"property_type\",\n",
    "    \"room_type\", \"zipcode\"\n",
    "]\n",
    "\n",
    "#Display columns:\n",
    "#all_features\n",
    "#key_features"
   ]
  },
  {
   "cell_type": "code",
   "execution_count": 481,
   "metadata": {
    "code_folding": [
     0
    ]
   },
   "outputs": [],
   "source": [
    "# Dashboard (Global Variables)\n",
    "dataset_loc = \"berlin\"              # \"berlin\", \"paris\", \"amsterdam\"\n",
    "dataset_date = \"2020-03-17\"         # \"2019-12-11\", \"2020-01-10\", \"2020-02-18\", \"2020-03-17\", \"2020-05-14\"\n",
    "target = 'price_log'             # for regression: 'occupancy_rate', 'price_log' | for classification: 'price_class', 'occupancy_class'\n",
    "binary_split = 50                   # price at which \"price_binary\" will be split\n",
    "pred_features = key_features        # select from cell \"feature selection\" above: [all_features, key_features]\n",
    "scoring = 'neg_median_absolute_error'  # for regression: 'neg_mean_squared_error', 'r2', 'neg_mean_poisson_deviance', 'neg_median_absolute_error' | for classification: \"f1(_micro, _macro, _weighted for multiclass)\", \"recall\", \"precision\", \"accuracy\", \"roc_auc\"\n",
    "test_size = 0.2\n",
    "random_state = 42\n",
    "pd.set_option('display.max_rows', 200)"
   ]
  },
  {
   "cell_type": "code",
   "execution_count": 482,
   "metadata": {
    "code_folding": [
     0
    ]
   },
   "outputs": [
    {
     "name": "stdout",
     "output_type": "stream",
     "text": [
      "You are currently using \u001b[1mPRICE_LOG\u001b[0m as the target and \u001b[1mneg_median_absolute_error\u001b[0m for scoring to predict prices for \u001b[1mberlin\u001b[0m on \u001b[1m2020-03-17\u001b[0m\n",
      "\n",
      "You are currently using these features for its prediction:\n",
      "\u001b[1m['accommodates', 'bathrooms_log', 'host_is_superhost', 'property_type', 'room_type', 'zipcode']\u001b[0m\n",
      "\n",
      "No issues with your selection of pred_features have been detected. Please make sure to manually check for correctness nevertheless.\n"
     ]
    }
   ],
   "source": [
    "# Display target and used features\n",
    "# Print current setting for TARGET\n",
    "target_upper = target.upper()\n",
    "print(f\"You are currently using \\033[1m{target_upper}\\033[0m as the target and \\033[1m{scoring}\\033[0m for scoring to predict prices for \\033[1m{dataset_loc}\\033[0m on \\033[1m{dataset_date}\\033[0m\\n\")\n",
    "print(f\"You are currently using these features for its prediction:\\n\\033[1m{pred_features}\\033[0m\\n\")\n",
    "\n",
    "if target in pred_features:\n",
    "    print(f\"WARNING: You are using \\033[1m{target_upper}\\033[0m as predictor. Please remove before proceeding.\\n\")\n",
    "\n",
    "if target == 'price_binary':\n",
    "    if 'price_class' in pred_features:\n",
    "        print(f\"WARNING: Please remove \\033[1m'price_class'\\033[0m from features before proceeding with target \\033[1m{target_upper}\\033[0m\")\n",
    "    if 'price_log' in pred_features:\n",
    "        print(f\"WARNING: Please remove \\033[1m'price_log'\\033[0m from features before proceeding with target \\033[1m{target_upper}\\033[0m\")\n",
    "\n",
    "if target == 'price_class':\n",
    "    if 'price_binary' in pred_features:\n",
    "        print(f\"WARNING: Please remove \\033[1m'price_binary'\\033[0m from features before proceeding with target \\033[1m{target_upper}\\033[0m\")\n",
    "    if 'price_log' in pred_features:\n",
    "        print(f\"WARNING: Please remove \\033[1m'price_log'\\033[0m from features before proceeding with target \\033[1m{target_upper}\\033[0m\")\n",
    "\n",
    "if target == 'price_log':\n",
    "    if 'price_class' in pred_features:\n",
    "        print(f\"WARNING: Please remove \\033[1m'price_class'\\033[0m from features before proceeding with target \\033[1m{target_upper}\\033[0m\")\n",
    "    if 'price_binary' in pred_features:\n",
    "        print(f\"WARNING: Please remove \\033[1m'price_binary'\\033[0m from features before proceeding with target \\033[1m{target_upper}\\033[0m\")\n",
    "        \n",
    "if \"occupancy_class\" in pred_features and \"occupancy_rate\" in pred_features:\n",
    "    print(f\"WARNING: Please remove \\033[1m'ocupancy_class'\\033[0m or \\033[1m'ocupancy_rate'\\033[0m from features before proceeding with target \\033[1m{target_upper}\\033[0m\")\n",
    "\n",
    "else:\n",
    "    print(\"No issues with your selection of pred_features have been detected. Please make sure to manually check for correctness nevertheless.\")\n",
    "          "
   ]
  },
  {
   "cell_type": "markdown",
   "metadata": {},
   "source": [
    "## Global Functions and Variables"
   ]
  },
  {
   "cell_type": "code",
   "execution_count": 483,
   "metadata": {
    "code_folding": [
     0
    ]
   },
   "outputs": [],
   "source": [
    "# Create \"price_binary\" at given split\n",
    "price_binary = []\n",
    "for price in data.price_log:\n",
    "    if math.exp(price) <= binary_split:\n",
    "        price_binary.append(1)\n",
    "    else:\n",
    "        price_binary.append(2)\n",
    "data[\"price_binary\"] = price_binary"
   ]
  },
  {
   "cell_type": "code",
   "execution_count": 484,
   "metadata": {
    "code_folding": [
     0
    ]
   },
   "outputs": [],
   "source": [
    "# \"mean_absolute_percentage_error\": Function for mean absolute percentage error (MAPE)\n",
    "def mean_absolute_percentage_error(y_true, y_pred): \n",
    "    y_true, y_pred = np.array(y_true), np.array(y_pred)\n",
    "    return np.mean(np.abs((y_true - y_pred) / y_true)) * 100"
   ]
  },
  {
   "cell_type": "code",
   "execution_count": 485,
   "metadata": {
    "code_folding": [
     0
    ]
   },
   "outputs": [],
   "source": [
    "# \"median_absolute_percentage_error\": Function for median absolute percentage error (MAPE median)\n",
    "def median_absolute_percentage_error(y_true, y_pred): \n",
    "    y_true, y_pred = np.array(y_true), np.array(y_pred)\n",
    "    return np.median(np.abs((y_true - y_pred) / y_true)) * 100"
   ]
  },
  {
   "cell_type": "code",
   "execution_count": 486,
   "metadata": {
    "code_folding": [
     0
    ]
   },
   "outputs": [],
   "source": [
    "# \"print_target_setting\": Function for printing current setting for TARGET and the corresponding features\n",
    "def print_target_setting():\n",
    "    target_upper = target.upper()\n",
    "    y_upper = y_train.name.upper()\n",
    "    print(f\"You are currently using \\033[1m{target_upper}\\033[0m as the target and \\033[1m{scoring}\\033[0m for scoring to predict prices for \\033[1m{dataset_loc}\\033[0m on \\033[1m{dataset_date}\\033[0m\\n\")\n",
    "    print(f\"The target variable y is set to \\033[1m{y_upper}\\033[0m\\n\")\n",
    "    print(f\"You are currently using these features for its prediction:\\n\\033[1m{pred_features}\\033[0m\\n\")"
   ]
  },
  {
   "cell_type": "code",
   "execution_count": 487,
   "metadata": {
    "code_folding": [
     0
    ]
   },
   "outputs": [],
   "source": [
    "# \"feat_importances\": Function for retrieving feature importances\n",
    "def feat_importances(model,\n",
    "                     cv_model=True,\n",
    "                     named_steps=None,\n",
    "                     column_names=column_names):\n",
    "    if cv_model == True:\n",
    "        if named_steps == None:\n",
    "            print(\"Please provide named_steps parameter\")\n",
    "#            break\n",
    "        else:\n",
    "            importances = pd.DataFrame(\n",
    "                model.best_estimator_.named_steps[named_steps].\n",
    "                feature_importances_,\n",
    "                index=column_names,\n",
    "                columns=['weight'])\n",
    "    else:\n",
    "        importances = pd.DataFrame(model.feature_importances_,\n",
    "                                   index=column_names,\n",
    "                                   columns=['weight'])\n",
    "    importances.sort_values('weight', inplace=True, ascending=False)\n",
    "    #.plot(kind='barh', figsize=(20, len(importances) / 2))\n",
    "    return importances"
   ]
  },
  {
   "cell_type": "markdown",
   "metadata": {},
   "source": [
    "# Preprocessing (Train/Test Split and Pipeline)"
   ]
  },
  {
   "cell_type": "code",
   "execution_count": 488,
   "metadata": {
    "code_folding": [
     0
    ]
   },
   "outputs": [],
   "source": [
    "# Drop columns\n",
    "drop_columns = [el for el in data.columns if el not in pred_features]\n",
    "drop_columns.remove(target)\n",
    "data.drop(labels=drop_columns, inplace=True, axis=1)"
   ]
  },
  {
   "cell_type": "code",
   "execution_count": 489,
   "metadata": {
    "code_folding": [
     0
    ]
   },
   "outputs": [],
   "source": [
    "# Drop rows (optional, just temporary)\n",
    "#data = data[data.number_of_reviews_ltm_log>1.7]"
   ]
  },
  {
   "cell_type": "markdown",
   "metadata": {},
   "source": [
    "## Preprocessing pipeline"
   ]
  },
  {
   "cell_type": "code",
   "execution_count": 490,
   "metadata": {
    "code_folding": [
     0
    ]
   },
   "outputs": [
    {
     "data": {
      "text/plain": [
       "['property_type', 'room_type', 'zipcode']"
      ]
     },
     "execution_count": 490,
     "metadata": {},
     "output_type": "execute_result"
    }
   ],
   "source": [
    "# Create list for categorical predictors/features (used in \"Scaling with Preprocessing Pipeline\")\n",
    "cat_features = list(data.columns[data.dtypes == object])\n",
    "#cat_features.remove(\"neighbourhood\")\n",
    "#cat_features.remove(\"zipcode\")\n",
    "cat_features"
   ]
  },
  {
   "cell_type": "code",
   "execution_count": 491,
   "metadata": {
    "code_folding": [
     0
    ]
   },
   "outputs": [
    {
     "data": {
      "text/plain": [
       "['accommodates', 'bathrooms_log', 'host_is_superhost']"
      ]
     },
     "execution_count": 491,
     "metadata": {},
     "output_type": "execute_result"
    }
   ],
   "source": [
    "# Create list for numerical predictors/features (removing target column, used in \"Scaling with Preprocessing Pipeline\")\n",
    "num_features = list(data.columns[data.dtypes != object])\n",
    "num_features.remove(target)\n",
    "num_features"
   ]
  },
  {
   "cell_type": "code",
   "execution_count": 492,
   "metadata": {
    "code_folding": [
     0
    ]
   },
   "outputs": [],
   "source": [
    "# Build preprocessor pipeline\n",
    "# Pipeline for numerical features\n",
    "num_pipeline = Pipeline([('imputer_num', SimpleImputer(strategy='median')),\n",
    "                         ('std_scaler', StandardScaler())])\n",
    "\n",
    "# Pipeline for categorical features\n",
    "cat_pipeline = Pipeline([\n",
    "    ('imputer_cat', SimpleImputer(strategy='constant', fill_value='missing')),\n",
    "    ('1hot', OneHotEncoder(drop='first', handle_unknown='error'))\n",
    "])\n",
    "\n",
    "# Complete pipeline\n",
    "preprocessor = ColumnTransformer([('num', num_pipeline, num_features),\n",
    "                                  ('cat', cat_pipeline, cat_features)])"
   ]
  },
  {
   "cell_type": "markdown",
   "metadata": {},
   "source": [
    "## Train/test split"
   ]
  },
  {
   "cell_type": "code",
   "execution_count": 493,
   "metadata": {
    "code_folding": [
     0
    ]
   },
   "outputs": [],
   "source": [
    "# Define predictors and target variable\n",
    "X = data.drop([target], axis=1)\n",
    "y = data[target]"
   ]
  },
  {
   "cell_type": "code",
   "execution_count": 494,
   "metadata": {
    "code_folding": [
     0
    ]
   },
   "outputs": [],
   "source": [
    "# Split data into training and testing sets\n",
    "X_train, X_test, y_train, y_test = train_test_split(X,\n",
    "                                                    y,\n",
    "                                                    test_size=test_size,\n",
    "                                                    random_state=random_state,\n",
    "                                                    shuffle=True)\n",
    "#                                                   stratify=y) # Use stratify=y if labels are inbalanced (e.g. most wines are 5 or 6; check with value_counts()!)"
   ]
  },
  {
   "cell_type": "code",
   "execution_count": 495,
   "metadata": {
    "code_folding": [
     0
    ],
    "scrolled": true
   },
   "outputs": [],
   "source": [
    "# Saving preprocessed X_train and X_test\n",
    "X_train_prep_preprocessor = preprocessor.fit(X_train)\n",
    "\n",
    "X_train_prep = X_train_prep_preprocessor.transform(X_train)\n",
    "X_train_num_prep = num_pipeline.fit_transform(X_train[num_features])\n",
    "X_test_prep = X_train_prep_preprocessor.transform(X_test)"
   ]
  },
  {
   "cell_type": "code",
   "execution_count": 496,
   "metadata": {
    "code_folding": [
     0
    ]
   },
   "outputs": [],
   "source": [
    "# Get feature names from pipeline after one-hot encoding as \"column_names\"\n",
    "onehot_columns = list(preprocessor.named_transformers_['cat']['1hot'].get_feature_names(cat_features))\n",
    "column_names = num_features + onehot_columns"
   ]
  },
  {
   "cell_type": "markdown",
   "metadata": {},
   "source": [
    "## Outlier Detection"
   ]
  },
  {
   "cell_type": "code",
   "execution_count": 216,
   "metadata": {
    "code_folding": []
   },
   "outputs": [],
   "source": [
    "# Preprocess data\n",
    "train_outl = num_pipeline.fit_transform(X_train[num_features], y_train)"
   ]
  },
  {
   "cell_type": "code",
   "execution_count": 217,
   "metadata": {
    "code_folding": []
   },
   "outputs": [],
   "source": [
    "# Fit DBSCAN model\n",
    "outl_model = DBSCAN(eps=3.0, min_samples=10).fit(train_outl)\n",
    "outl_labels = outl_model.labels_"
   ]
  },
  {
   "cell_type": "code",
   "execution_count": 218,
   "metadata": {
    "code_folding": []
   },
   "outputs": [
    {
     "data": {
      "text/plain": [
       "0    8456\n",
       "1      34\n",
       "dtype: int64"
      ]
     },
     "execution_count": 218,
     "metadata": {},
     "output_type": "execute_result"
    }
   ],
   "source": [
    "# Display results (# of outliers)\n",
    "pd.Series(outl_labels).value_counts()"
   ]
  },
  {
   "cell_type": "code",
   "execution_count": 55,
   "metadata": {
    "code_folding": [
     0
    ]
   },
   "outputs": [
    {
     "data": {
      "image/png": "[encoded data removed]",
      "text/plain": [
       "<Figure size 720x720 with 1 Axes>"
      ]
     },
     "metadata": {
      "needs_background": "light"
     },
     "output_type": "display_data"
    }
   ],
   "source": [
    "# Illustrate results\n",
    "plt.figure(figsize=(10,10))\n",
    "\n",
    "unique_labels = set(outl_labels)\n",
    "colors = ['blue', 'red']\n",
    "\n",
    "for color,label in zip(colors, unique_labels):\n",
    "    sample_mask = [True if l == label else False for l in outl_labels]\n",
    "    plt.plot(train_outl[:,0][sample_mask], train_outl[:, 1][sample_mask], 'o', color=color);\n",
    "plt.xlabel('accommodates_per_bed');\n",
    "plt.ylabel('accommodates_per_room');"
   ]
  },
  {
   "cell_type": "markdown",
   "metadata": {},
   "source": [
    "Interpreting the results:\n",
    "\n",
    "- https://www.kaggle.com/kevinarvai/outlier-detection-practice-uni-multivariate\n",
    "- https://datascience.stackexchange.com/questions/46092/how-do-we-interpret-the-outputs-of-dbscan-clustering"
   ]
  },
  {
   "cell_type": "markdown",
   "metadata": {},
   "source": [
    "## Perform Feature Selection (add most useful to modeling pipeline)"
   ]
  },
  {
   "cell_type": "code",
   "execution_count": 18,
   "metadata": {
    "code_folding": [
     0
    ]
   },
   "outputs": [],
   "source": [
    "# Set X_fs to desired variable\n",
    "X_fs = X_train[\n",
    "    num_features]  # X_train_prep, X_train_num_prep, X_train[num_features]\n",
    "#X_fs = pd.DataFrame(X_fs, columns = X_train_prep_cols)"
   ]
  },
  {
   "cell_type": "markdown",
   "metadata": {},
   "source": [
    "**GenericUnivariateSelect** (Classification and Regression)"
   ]
  },
  {
   "cell_type": "code",
   "execution_count": 19,
   "metadata": {
    "code_folding": [
     0
    ]
   },
   "outputs": [],
   "source": [
    "# Apply GenericUnivariateSelect\n",
    "trans_GUS = GenericUnivariateSelect(score_func=lambda X, y: X.mean(axis=0),\n",
    "                                    mode='k_best',\n",
    "                                    param=15)  #mode='percentile', 'k_best'\n",
    "X_train_GUS = trans_GUS.fit_transform(X_fs, y_train)"
   ]
  },
  {
   "cell_type": "markdown",
   "metadata": {},
   "source": [
    "**mutual_info_classif** (Classification)"
   ]
  },
  {
   "cell_type": "code",
   "execution_count": 20,
   "metadata": {
    "code_folding": [
     0
    ]
   },
   "outputs": [],
   "source": [
    "# Fit mutual_info_classif\n",
    "#X_train_mic = mutual_info_classif(X_fs, y_train)"
   ]
  },
  {
   "cell_type": "code",
   "execution_count": 21,
   "metadata": {
    "code_folding": [
     0
    ]
   },
   "outputs": [],
   "source": [
    "# Plot feature importance\n",
    "#plt.subplots(1, figsize=(26, 1))\n",
    "#sns.heatmap(X_train_mic[:, np.newaxis].T, cmap='Blues', cbar=False, linewidths=1, annot=True)\n",
    "#plt.yticks([], [])\n",
    "#plt.gca().set_xticklabels(X_fs.columns, rotation=45, ha='right', fontsize=12)\n",
    "#plt.suptitle(\"Feature Importance (mutual_info_classif)\", fontsize=18, y=1.2)\n",
    "#plt.gcf().subplots_adjust(wspace=0.2)\n",
    "#pass"
   ]
  },
  {
   "cell_type": "code",
   "execution_count": 22,
   "metadata": {
    "code_folding": [
     0
    ]
   },
   "outputs": [],
   "source": [
    "# Apply GenericUnivariateSelect to reduce features (optional)\n",
    "#trans_mic = GenericUnivariateSelect(score_func=mutual_info_classif, mode='k_best', param=15) #mode='percentile', 'k_best',\n",
    "#X_train_mic_GUS = trans_mic.fit_transform(X_fs, y_train)"
   ]
  },
  {
   "cell_type": "code",
   "execution_count": 23,
   "metadata": {
    "code_folding": [
     0
    ]
   },
   "outputs": [],
   "source": [
    "# Print kept features\n",
    "#print(\"We started with {0} features but retained only {1} of them!\".format(\n",
    "#    X_fs.shape[1] - 1, X_train_mic_GUS.shape[1]))\n",
    "\n",
    "#columns_retained_Select = X_fs.columns[trans_mic.get_support()].values\n",
    "#pd.DataFrame(X_train_mic_GUS, columns=columns_retained_Select).head()"
   ]
  },
  {
   "cell_type": "markdown",
   "metadata": {},
   "source": [
    "**chi2** (Classification)"
   ]
  },
  {
   "cell_type": "code",
   "execution_count": null,
   "metadata": {},
   "outputs": [],
   "source": []
  },
  {
   "cell_type": "markdown",
   "metadata": {},
   "source": [
    "**mutual_info_regression** (Regression)"
   ]
  },
  {
   "cell_type": "code",
   "execution_count": null,
   "metadata": {},
   "outputs": [],
   "source": []
  },
  {
   "cell_type": "code",
   "execution_count": null,
   "metadata": {},
   "outputs": [],
   "source": []
  },
  {
   "cell_type": "markdown",
   "metadata": {},
   "source": [
    "# Modeling: Binary Classification (\"price_binary\")"
   ]
  },
  {
   "cell_type": "markdown",
   "metadata": {},
   "source": [
    "## Apply Classification Models"
   ]
  },
  {
   "cell_type": "code",
   "execution_count": 277,
   "metadata": {
    "code_folding": [
     0
    ],
    "scrolled": true
   },
   "outputs": [
    {
     "name": "stdout",
     "output_type": "stream",
     "text": [
      "You are currently using \u001b[1mPRICE_BINARY\u001b[0m as the target and \u001b[1mroc_auc\u001b[0m for scoring to predict prices for \u001b[1mberlin\u001b[0m on \u001b[1m2020-03-17\u001b[0m\n",
      "\n",
      "The target variable y is set to \u001b[1mPRICE_BINARY\u001b[0m\n",
      "\n",
      "You are currently using these features for its prediction:\n",
      "\u001b[1m['accommodates', 'bathrooms_log', 'host_is_superhost', 'property_type', 'room_type', 'zipcode']\u001b[0m\n",
      "\n",
      "Binary Split:  \u001b[1mUSD 50\u001b[0m\n"
     ]
    }
   ],
   "source": [
    "# Print current setting for TARGET\n",
    "print_target_setting()\n",
    "print(f\"Binary Split:  \\033[1mUSD {binary_split}\\033[0m\")"
   ]
  },
  {
   "cell_type": "code",
   "execution_count": 278,
   "metadata": {
    "code_folding": [
     0
    ]
   },
   "outputs": [],
   "source": [
    "# Select models for comparison\n",
    "models = {\n",
    "    'Baseline':\n",
    "    DummyClassifier(strategy='most_frequent'),\n",
    "    'LogReg':\n",
    "    LogisticRegression(max_iter=1000),\n",
    "    'KNN':\n",
    "    KNeighborsClassifier(),\n",
    "    'SVC':\n",
    "    SVC(kernel='rbf', C=1E6),\n",
    "    'Decision Tree':\n",
    "    DecisionTreeClassifier(criterion=\"gini\",\n",
    "                           max_depth=3,\n",
    "                           random_state=random_state),\n",
    "    'Random Forest':\n",
    "    RandomForestClassifier(random_state=random_state,\n",
    "                           max_features='sqrt',\n",
    "                           n_jobs=-1),\n",
    "    'Gradient Boost':\n",
    "    GradientBoostingClassifier(random_state=random_state),\n",
    "    'XGBoost':\n",
    "    XGBClassifier(),\n",
    "    'AdaBoost':\n",
    "    AdaBoostClassifier(random_state=random_state)\n",
    "}"
   ]
  },
  {
   "cell_type": "code",
   "execution_count": 279,
   "metadata": {
    "code_folding": [
     0
    ],
    "scrolled": false
   },
   "outputs": [
    {
     "name": "stderr",
     "output_type": "stream",
     "text": [
      "[Parallel(n_jobs=-1)]: Using backend LokyBackend with 4 concurrent workers.\n",
      "[Parallel(n_jobs=-1)]: Done   2 out of   5 | elapsed:    1.6s remaining:    2.4s\n",
      "[Parallel(n_jobs=-1)]: Done   5 out of   5 | elapsed:    1.6s finished\n",
      "/opt/anaconda3/envs/nf/lib/python3.6/site-packages/sklearn/metrics/_classification.py:1221: UndefinedMetricWarning: Precision is ill-defined and being set to 0.0 in labels with no predicted samples. Use `zero_division` parameter to control this behavior.\n",
      "  _warn_prf(average, modifier, msg_start, len(result))\n",
      "[Parallel(n_jobs=-1)]: Using backend LokyBackend with 4 concurrent workers.\n"
     ]
    },
    {
     "name": "stdout",
     "output_type": "stream",
     "text": [
      "Confusion Matrix Baseline: \n",
      "[[   0 3993]\n",
      " [   0 4497]]\n"
     ]
    },
    {
     "name": "stderr",
     "output_type": "stream",
     "text": [
      "[Parallel(n_jobs=-1)]: Done   2 out of   5 | elapsed:    0.2s remaining:    0.3s\n",
      "[Parallel(n_jobs=-1)]: Done   5 out of   5 | elapsed:    0.3s finished\n",
      "[Parallel(n_jobs=-1)]: Using backend LokyBackend with 4 concurrent workers.\n"
     ]
    },
    {
     "name": "stdout",
     "output_type": "stream",
     "text": [
      "Confusion Matrix LogReg: \n",
      "[[2941 1052]\n",
      " [ 793 3704]]\n"
     ]
    },
    {
     "name": "stderr",
     "output_type": "stream",
     "text": [
      "[Parallel(n_jobs=-1)]: Done   2 out of   5 | elapsed:    1.3s remaining:    2.0s\n",
      "[Parallel(n_jobs=-1)]: Done   5 out of   5 | elapsed:    1.8s finished\n",
      "[Parallel(n_jobs=-1)]: Using backend LokyBackend with 4 concurrent workers.\n"
     ]
    },
    {
     "name": "stdout",
     "output_type": "stream",
     "text": [
      "Confusion Matrix KNN: \n",
      "[[2837 1156]\n",
      " [ 962 3535]]\n"
     ]
    },
    {
     "name": "stderr",
     "output_type": "stream",
     "text": [
      "[Parallel(n_jobs=-1)]: Done   2 out of   5 | elapsed:  1.3min remaining:  2.0min\n",
      "[Parallel(n_jobs=-1)]: Done   5 out of   5 | elapsed:  2.0min finished\n",
      "[Parallel(n_jobs=-1)]: Using backend LokyBackend with 4 concurrent workers.\n",
      "[Parallel(n_jobs=-1)]: Done   2 out of   5 | elapsed:    0.1s remaining:    0.1s\n",
      "[Parallel(n_jobs=-1)]: Done   5 out of   5 | elapsed:    0.1s finished\n",
      "[Parallel(n_jobs=-1)]: Using backend LokyBackend with 4 concurrent workers.\n"
     ]
    },
    {
     "name": "stdout",
     "output_type": "stream",
     "text": [
      "Confusion Matrix SVC: \n",
      "[[2926 1067]\n",
      " [ 938 3559]]\n",
      "Confusion Matrix Decision Tree: \n",
      "[[2775 1218]\n",
      " [ 693 3804]]\n"
     ]
    },
    {
     "name": "stderr",
     "output_type": "stream",
     "text": [
      "[Parallel(n_jobs=-1)]: Done   2 out of   5 | elapsed:    2.8s remaining:    4.3s\n",
      "[Parallel(n_jobs=-1)]: Done   5 out of   5 | elapsed:    3.7s finished\n",
      "[Parallel(n_jobs=-1)]: Using backend LokyBackend with 4 concurrent workers.\n"
     ]
    },
    {
     "name": "stdout",
     "output_type": "stream",
     "text": [
      "Confusion Matrix Random Forest: \n",
      "[[2906 1087]\n",
      " [ 867 3630]]\n"
     ]
    },
    {
     "name": "stderr",
     "output_type": "stream",
     "text": [
      "[Parallel(n_jobs=-1)]: Done   2 out of   5 | elapsed:    0.8s remaining:    1.1s\n",
      "[Parallel(n_jobs=-1)]: Done   5 out of   5 | elapsed:    1.1s finished\n",
      "[Parallel(n_jobs=-1)]: Using backend LokyBackend with 4 concurrent workers.\n"
     ]
    },
    {
     "name": "stdout",
     "output_type": "stream",
     "text": [
      "Confusion Matrix Gradient Boost: \n",
      "[[2871 1122]\n",
      " [ 666 3831]]\n"
     ]
    },
    {
     "name": "stderr",
     "output_type": "stream",
     "text": [
      "[Parallel(n_jobs=-1)]: Done   2 out of   5 | elapsed:    0.8s remaining:    1.2s\n",
      "[Parallel(n_jobs=-1)]: Done   5 out of   5 | elapsed:    1.2s finished\n",
      "[Parallel(n_jobs=-1)]: Using backend LokyBackend with 4 concurrent workers.\n"
     ]
    },
    {
     "name": "stdout",
     "output_type": "stream",
     "text": [
      "Confusion Matrix XGBoost: \n",
      "[[2860 1133]\n",
      " [ 667 3830]]\n"
     ]
    },
    {
     "name": "stderr",
     "output_type": "stream",
     "text": [
      "[Parallel(n_jobs=-1)]: Done   2 out of   5 | elapsed:    0.5s remaining:    0.8s\n"
     ]
    },
    {
     "name": "stdout",
     "output_type": "stream",
     "text": [
      "Confusion Matrix AdaBoost: \n",
      "[[2904 1089]\n",
      " [ 792 3705]]\n"
     ]
    },
    {
     "name": "stderr",
     "output_type": "stream",
     "text": [
      "[Parallel(n_jobs=-1)]: Done   5 out of   5 | elapsed:    0.8s finished\n"
     ]
    },
    {
     "data": {
      "text/html": [
       "<div>\n",
       "<style scoped>\n",
       "    .dataframe tbody tr th:only-of-type {\n",
       "        vertical-align: middle;\n",
       "    }\n",
       "\n",
       "    .dataframe tbody tr th {\n",
       "        vertical-align: top;\n",
       "    }\n",
       "\n",
       "    .dataframe thead th {\n",
       "        text-align: right;\n",
       "    }\n",
       "</style>\n",
       "<table border=\"1\" class=\"dataframe\">\n",
       "  <thead>\n",
       "    <tr style=\"text-align: right;\">\n",
       "      <th></th>\n",
       "      <th>Model</th>\n",
       "      <th>Accuracy</th>\n",
       "      <th>Recall</th>\n",
       "      <th>Precision</th>\n",
       "      <th>F1 Score</th>\n",
       "      <th>ROC/AUC</th>\n",
       "    </tr>\n",
       "  </thead>\n",
       "  <tbody>\n",
       "    <tr>\n",
       "      <th>0</th>\n",
       "      <td>Baseline</td>\n",
       "      <td>0.529682</td>\n",
       "      <td>0.529682</td>\n",
       "      <td>0.280563</td>\n",
       "      <td>0.366825</td>\n",
       "      <td>0.500000</td>\n",
       "    </tr>\n",
       "    <tr>\n",
       "      <th>1</th>\n",
       "      <td>LogReg</td>\n",
       "      <td>0.782686</td>\n",
       "      <td>0.782686</td>\n",
       "      <td>0.782955</td>\n",
       "      <td>0.782085</td>\n",
       "      <td>0.780100</td>\n",
       "    </tr>\n",
       "    <tr>\n",
       "      <th>2</th>\n",
       "      <td>KNN</td>\n",
       "      <td>0.750530</td>\n",
       "      <td>0.750530</td>\n",
       "      <td>0.750375</td>\n",
       "      <td>0.750058</td>\n",
       "      <td>0.748286</td>\n",
       "    </tr>\n",
       "    <tr>\n",
       "      <th>3</th>\n",
       "      <td>SVC</td>\n",
       "      <td>0.763840</td>\n",
       "      <td>0.763840</td>\n",
       "      <td>0.763656</td>\n",
       "      <td>0.763571</td>\n",
       "      <td>0.762099</td>\n",
       "    </tr>\n",
       "    <tr>\n",
       "      <th>4</th>\n",
       "      <td>Decision Tree</td>\n",
       "      <td>0.774912</td>\n",
       "      <td>0.774912</td>\n",
       "      <td>0.777552</td>\n",
       "      <td>0.773200</td>\n",
       "      <td>0.770432</td>\n",
       "    </tr>\n",
       "    <tr>\n",
       "      <th>5</th>\n",
       "      <td>Random Forest</td>\n",
       "      <td>0.769847</td>\n",
       "      <td>0.769847</td>\n",
       "      <td>0.769864</td>\n",
       "      <td>0.769335</td>\n",
       "      <td>0.767489</td>\n",
       "    </tr>\n",
       "    <tr>\n",
       "      <th>6</th>\n",
       "      <td>Gradient Boost</td>\n",
       "      <td>0.789399</td>\n",
       "      <td>0.789399</td>\n",
       "      <td>0.791453</td>\n",
       "      <td>0.788104</td>\n",
       "      <td>0.785455</td>\n",
       "    </tr>\n",
       "    <tr>\n",
       "      <th>7</th>\n",
       "      <td>XGBoost</td>\n",
       "      <td>0.787986</td>\n",
       "      <td>0.787986</td>\n",
       "      <td>0.790136</td>\n",
       "      <td>0.786639</td>\n",
       "      <td>0.783966</td>\n",
       "    </tr>\n",
       "    <tr>\n",
       "      <th>8</th>\n",
       "      <td>AdaBoost</td>\n",
       "      <td>0.778445</td>\n",
       "      <td>0.778445</td>\n",
       "      <td>0.778896</td>\n",
       "      <td>0.777707</td>\n",
       "      <td>0.775578</td>\n",
       "    </tr>\n",
       "  </tbody>\n",
       "</table>\n",
       "</div>"
      ],
      "text/plain": [
       "            Model  Accuracy    Recall  Precision  F1 Score   ROC/AUC\n",
       "0        Baseline  0.529682  0.529682   0.280563  0.366825  0.500000\n",
       "1          LogReg  0.782686  0.782686   0.782955  0.782085  0.780100\n",
       "2             KNN  0.750530  0.750530   0.750375  0.750058  0.748286\n",
       "3             SVC  0.763840  0.763840   0.763656  0.763571  0.762099\n",
       "4   Decision Tree  0.774912  0.774912   0.777552  0.773200  0.770432\n",
       "5   Random Forest  0.769847  0.769847   0.769864  0.769335  0.767489\n",
       "6  Gradient Boost  0.789399  0.789399   0.791453  0.788104  0.785455\n",
       "7         XGBoost  0.787986  0.787986   0.790136  0.786639  0.783966\n",
       "8        AdaBoost  0.778445  0.778445   0.778896  0.777707  0.775578"
      ]
     },
     "execution_count": 279,
     "metadata": {},
     "output_type": "execute_result"
    }
   ],
   "source": [
    "# Calculate and display results\n",
    "results = pd.DataFrame(columns=['Model', 'Accuracy', 'Recall', 'Precision', 'F1 Score', 'ROC/AUC'])\n",
    "i = 0\n",
    "for m in models.items():\n",
    "    # Building a full pipeline with our preprocessor and a Classifier\n",
    "    pipe = Pipeline([('preprocessor', preprocessor), (m[0], m[1])])\n",
    "    # Making predictions on the training set using cross validation as well as calculating the probabilities\n",
    "    y_train_pred = cross_val_predict(pipe,\n",
    "                                     X_train,\n",
    "                                     y_train.values.ravel(),\n",
    "                                     cv=5,\n",
    "                                     verbose=4,\n",
    "                                     n_jobs=-1)\n",
    "    # Calculating metrices\n",
    "    temp = pd.DataFrame(\n",
    "        {\n",
    "            'Model': m[0],\n",
    "            'Accuracy': accuracy_score(y_train, y_train_pred),\n",
    "            'Recall': recall_score(y_train, y_train_pred, average=\"weighted\"),\n",
    "            'Precision': precision_score(\n",
    "                y_train, y_train_pred, average=\"weighted\"),\n",
    "            'F1 Score': f1_score(y_train, y_train_pred, average=\"weighted\"),\n",
    "            'ROC/AUC': roc_auc_score(y_train, y_train_pred)\n",
    "        },\n",
    "        index=[i])\n",
    "    print(f\"Confusion Matrix {m[0]}: \\n\" +\n",
    "          str(confusion_matrix(y_train, y_train_pred)))\n",
    "    i += 1\n",
    "    results = pd.concat([results, temp])\n",
    "results"
   ]
  },
  {
   "cell_type": "code",
   "execution_count": null,
   "metadata": {},
   "outputs": [],
   "source": []
  },
  {
   "cell_type": "markdown",
   "metadata": {},
   "source": [
    "## Clf Model 1: Logistic Regression"
   ]
  },
  {
   "cell_type": "code",
   "execution_count": 280,
   "metadata": {
    "code_folding": [
     0
    ]
   },
   "outputs": [],
   "source": [
    "# Create pipeline to use in RandomizedSearchCV and GridSearchCV\n",
    "pipeline_lr_bclf = Pipeline([('preprocessor', preprocessor),\n",
    "                            ('lr_bclf',\n",
    "                             LogisticRegression(penalty='l2',\n",
    "                                                max_iter=100,\n",
    "                                                C=0.9,\n",
    "                                                random_state=random_state,\n",
    "                                                l1_ratio=0.5,\n",
    "                                                n_jobs=-1))])"
   ]
  },
  {
   "cell_type": "markdown",
   "metadata": {},
   "source": [
    "### Hyperparameter Pre-Tuning with RandomizedSearchCV"
   ]
  },
  {
   "cell_type": "code",
   "execution_count": 281,
   "metadata": {
    "code_folding": [
     0
    ]
   },
   "outputs": [
    {
     "data": {
      "text/plain": [
       "dict_keys(['C', 'class_weight', 'dual', 'fit_intercept', 'intercept_scaling', 'l1_ratio', 'max_iter', 'multi_class', 'n_jobs', 'penalty', 'random_state', 'solver', 'tol', 'verbose', 'warm_start'])"
      ]
     },
     "execution_count": 281,
     "metadata": {},
     "output_type": "execute_result"
    }
   ],
   "source": [
    "# Display possible hyperparameters for LogisticRegression\n",
    "test_lr_bclf = LogisticRegression()\n",
    "test_lr_bclf.get_params().keys()"
   ]
  },
  {
   "cell_type": "markdown",
   "metadata": {},
   "source": [
    "**Default values for LogisticRegression** (as base for hyperparameter search):\n",
    "\n",
    "penalty='l2', dual=False, tol=0.0001, C=1.0, fit_intercept=True, intercept_scaling=1, class_weight=None, random_state=None, solver='lbfgs', max_iter=100, multi_class='auto', verbose=0, warm_start=False, n_jobs=None, l1_ratio=None,"
   ]
  },
  {
   "cell_type": "code",
   "execution_count": 283,
   "metadata": {
    "code_folding": [
     0
    ]
   },
   "outputs": [],
   "source": [
    "# Define hyperparameter distribution\n",
    "param_distribs_lr_bclf = {\n",
    "    'lr_bclf__penalty': ['l1', 'l2'],\n",
    "    'lr_bclf__max_iter': randint(low=10, high=100),\n",
    "    'lr_bclf__C': [0.01, 0.02, 0.05, 0.1, 0.2, 0.3, 0.5, 1, 2, 5, 10, 20, 50, 100, 200, 500, 1000],\n",
    "    'lr_bclf__l1_ratio': [None, 0.1, 0.2, 0.3, 0.5, 0.9, 1]\n",
    "}"
   ]
  },
  {
   "cell_type": "code",
   "execution_count": 284,
   "metadata": {
    "code_folding": [
     0
    ]
   },
   "outputs": [
    {
     "name": "stdout",
     "output_type": "stream",
     "text": [
      "Fitting 5 folds for each of 20 candidates, totalling 100 fits\n"
     ]
    },
    {
     "name": "stderr",
     "output_type": "stream",
     "text": [
      "[Parallel(n_jobs=-1)]: Using backend LokyBackend with 4 concurrent workers.\n",
      "[Parallel(n_jobs=-1)]: Done  17 tasks      | elapsed:    2.2s\n",
      "[Parallel(n_jobs=-1)]: Done  90 tasks      | elapsed:    5.0s\n",
      "[Parallel(n_jobs=-1)]: Done 100 out of 100 | elapsed:    5.5s finished\n",
      "/opt/anaconda3/envs/nf/lib/python3.6/site-packages/sklearn/linear_model/_logistic.py:1317: UserWarning: l1_ratio parameter is only used when penalty is 'elasticnet'. Got (penalty=l2)\n",
      "  \"(penalty={})\".format(self.penalty))\n"
     ]
    }
   ],
   "source": [
    "# Create and fit RandomizedSearchCV, save \"best_model\"\n",
    "rnd_lr_bclf = RandomizedSearchCV(pipeline_lr_bclf,\n",
    "                                 param_distribs_lr_bclf,\n",
    "                                 cv=5,\n",
    "                                 scoring=scoring,\n",
    "                                 n_iter=50,\n",
    "                                 return_train_score=True,\n",
    "                                 verbose=4,\n",
    "                                 n_jobs=-1,\n",
    "                                 random_state=random_state)\n",
    "\n",
    "best_model_rnd_lr_bclf = rnd_lr_bclf.fit(X_train, y_train)"
   ]
  },
  {
   "cell_type": "code",
   "execution_count": 285,
   "metadata": {
    "code_folding": [
     0
    ]
   },
   "outputs": [
    {
     "name": "stdout",
     "output_type": "stream",
     "text": [
      "Best score:\n",
      "0.85\n",
      "Best parameters:\n",
      "{'lr_bclf__C': 20, 'lr_bclf__l1_ratio': 0.1, 'lr_bclf__max_iter': 83, 'lr_bclf__penalty': 'l2'}\n"
     ]
    }
   ],
   "source": [
    "# Display best_score_, best_params_ and best_estimator_\n",
    "print('Best score:\\n{:.2f}'.format(rnd_lr_bclf.best_score_))\n",
    "print(\"Best parameters:\\n{}\".format(rnd_lr_bclf.best_params_))\n",
    "#print(\"Best estimator:\\n{}\".format(grid_rf_reg.best_estimator_))"
   ]
  },
  {
   "cell_type": "markdown",
   "metadata": {},
   "source": [
    "### Hyperparameter Tuning with GridSearchCV"
   ]
  },
  {
   "cell_type": "code",
   "execution_count": 289,
   "metadata": {
    "code_folding": [
     0
    ]
   },
   "outputs": [],
   "source": [
    "# Define hyperparameter grid\n",
    "param_grid_lr_bclf = {\n",
    "    'lr_bclf__penalty': ['l1', 'l2'],\n",
    "    'lr_bclf__max_iter': [100, 125, 150, 200],\n",
    "    'lr_bclf__C': [10, 20, 30],\n",
    "    'lr_bclf__l1_ratio': [None, 0.05, 0.1]\n",
    "}"
   ]
  },
  {
   "cell_type": "code",
   "execution_count": 307,
   "metadata": {
    "code_folding": [
     0
    ]
   },
   "outputs": [
    {
     "name": "stdout",
     "output_type": "stream",
     "text": [
      "Fitting 5 folds for each of 72 candidates, totalling 360 fits\n"
     ]
    },
    {
     "name": "stderr",
     "output_type": "stream",
     "text": [
      "[Parallel(n_jobs=-1)]: Using backend LokyBackend with 4 concurrent workers.\n",
      "[Parallel(n_jobs=-1)]: Done  17 tasks      | elapsed:    2.8s\n",
      "[Parallel(n_jobs=-1)]: Done  90 tasks      | elapsed:    6.1s\n",
      "[Parallel(n_jobs=-1)]: Done 213 tasks      | elapsed:   11.7s\n",
      "[Parallel(n_jobs=-1)]: Done 360 out of 360 | elapsed:   18.9s finished\n"
     ]
    }
   ],
   "source": [
    "# Create and fit GridSearchCV, save \"best_model\"\n",
    "grid_lr_bclf = GridSearchCV(pipeline_lr_bclf,\n",
    "                            param_grid_lr_bclf,\n",
    "                            cv=5,\n",
    "                            scoring=scoring,\n",
    "                            return_train_score=True,\n",
    "                            verbose=4,\n",
    "                            n_jobs=-1)\n",
    "\n",
    "grid_lr_bclf.fit(X_train, y_train)"
   ]
  },
  {
   "cell_type": "code",
   "execution_count": null,
   "metadata": {},
   "outputs": [],
   "source": [
    "# Save best model\n",
    "#HOW? Do I save grid_lr_bclf? grid_lr_bclf.best_estimator? with ['lr_bclf']? And how do I make Model Evaluation work (only works with ['lr_bclf'] but then results are shitty)\n",
    "best_model_grid_lr_bclf = grid_lr_bclf.best_estimator_['lr_bclf']"
   ]
  },
  {
   "cell_type": "code",
   "execution_count": 291,
   "metadata": {
    "code_folding": [
     0
    ]
   },
   "outputs": [
    {
     "name": "stdout",
     "output_type": "stream",
     "text": [
      "Best score:\n",
      "0.85\n",
      "Best parameters:\n",
      "{'lr_bclf__C': 20, 'lr_bclf__l1_ratio': None, 'lr_bclf__max_iter': 150, 'lr_bclf__penalty': 'l2'}\n"
     ]
    }
   ],
   "source": [
    "# Display best_score_, best_params_ and best_estimator_\n",
    "print('Best score:\\n{:.2f}'.format(grid_lr_bclf.best_score_))\n",
    "print(\"Best parameters:\\n{}\".format(grid_lr_bclf.best_params_))\n",
    "#print(\"Best estimator:\\n{}\".format(grid_rf_reg.best_estimator_))"
   ]
  },
  {
   "cell_type": "markdown",
   "metadata": {},
   "source": [
    "### Feature Importances"
   ]
  },
  {
   "cell_type": "code",
   "execution_count": 294,
   "metadata": {
    "code_folding": [
     0
    ]
   },
   "outputs": [],
   "source": [
    "# Get and print feature importances\n",
    "#grid_lr_bclf_fi = feat_importances(grid_lr_bclf, cv_model=True, named_steps='lr_bclf', column_names=column_names)\n",
    "#grid_lr_bclf_fi"
   ]
  },
  {
   "cell_type": "markdown",
   "metadata": {},
   "source": [
    "### !!! Model Evaluation"
   ]
  },
  {
   "cell_type": "code",
   "execution_count": 309,
   "metadata": {
    "code_folding": [
     0
    ]
   },
   "outputs": [
    {
     "name": "stdout",
     "output_type": "stream",
     "text": [
      "Accuracy: 0.79\n",
      "Recall: 0.75\n",
      "Precision: 0.79\n",
      "F1 Score: 0.77\n",
      "ROC/AUC: 0.78\n",
      "Confusion Matrix: \n",
      "[[2992 1001]\n",
      " [ 775 3722]]\n"
     ]
    }
   ],
   "source": [
    "# Calculating the accuracy, recall and precision for the test set with the best model\n",
    "y_pred_lr_bclf = best_model_grid_lr_bclf.predict(X_train_prep)\n",
    "\n",
    "print(\"Accuracy: {:.2f}\".format(accuracy_score(y_train, y_pred_lr_bclf)))\n",
    "print(\"Recall: {:.2f}\".format(recall_score(y_train, y_pred_lr_bclf)))\n",
    "print(\"Precision: {:.2f}\".format(precision_score(y_train, y_pred_lr_bclf)))\n",
    "print(\"F1 Score: {:.2f}\".format(f1_score(y_train, y_pred_lr_bclf)))\n",
    "print(\"ROC/AUC: {:.2f}\".format(roc_auc_score(y_train, y_pred_lr_bclf)))\n",
    "print(\"Confusion Matrix: \\n\" + str(confusion_matrix(y_train, y_pred_lr_bclf)))"
   ]
  },
  {
   "cell_type": "code",
   "execution_count": null,
   "metadata": {},
   "outputs": [],
   "source": []
  },
  {
   "cell_type": "markdown",
   "metadata": {},
   "source": [
    "## !!! NN Model 1: TBD"
   ]
  },
  {
   "cell_type": "code",
   "execution_count": null,
   "metadata": {},
   "outputs": [],
   "source": []
  },
  {
   "cell_type": "markdown",
   "metadata": {},
   "source": [
    "## Best Model Evaluation with Testing Set and Export"
   ]
  },
  {
   "cell_type": "code",
   "execution_count": null,
   "metadata": {},
   "outputs": [],
   "source": [
    "bclf_best_model = best_model_grid_lr_bclf"
   ]
  },
  {
   "cell_type": "code",
   "execution_count": null,
   "metadata": {},
   "outputs": [],
   "source": [
    "# Export best model using joblib"
   ]
  },
  {
   "cell_type": "code",
   "execution_count": null,
   "metadata": {},
   "outputs": [],
   "source": [
    "# Export best model at given binary_split\n",
    "bclf_best_model.to_pickle(f\"saves/{dataset_loc}_{dataset_date}/{target}_{binary_split}.pkl\")"
   ]
  },
  {
   "cell_type": "markdown",
   "metadata": {},
   "source": [
    "# Modeling: Multi-Class Classification (\"price_class\")"
   ]
  },
  {
   "cell_type": "markdown",
   "metadata": {},
   "source": [
    "## Apply Classification Models"
   ]
  },
  {
   "cell_type": "code",
   "execution_count": 411,
   "metadata": {
    "code_folding": [
     0
    ],
    "scrolled": true
   },
   "outputs": [
    {
     "name": "stdout",
     "output_type": "stream",
     "text": [
      "You are currently using \u001b[1mPRICE_CLASS\u001b[0m as the target and \u001b[1mf1\u001b[0m for scoring to predict prices for \u001b[1mberlin\u001b[0m on \u001b[1m2020-03-17\u001b[0m\n",
      "\n",
      "The target variable y is set to \u001b[1mPRICE_CLASS\u001b[0m\n",
      "\n",
      "You are currently using these features for its prediction:\n",
      "\u001b[1m['accommodates', 'accommodates_per_bed', 'am_balcony', 'am_breakfast', 'am_child_friendly', 'am_elevator', 'am_essentials', 'am_nature_and_views', 'am_pets_allowed', 'am_private_entrance', 'am_smoking_allowed', 'am_tv', 'am_white_goods', 'availability_90', 'bathrooms_log', 'bedrooms', 'calc_host_lst_count_sqrt_log', 'cancellation_policy', 'first_review_days_sqrt', 'host_acceptance_rate', 'host_is_superhost', 'host_response_rate', 'host_response_time', 'instant_bookable', 'last_review_days_sqrt', 'latitude', 'listing_no', 'longitude', 'maximum_nights', 'minimum_nights_log', 'neighbourhood_cleansed', 'number_of_reviews_ltm_log', 'price_extra_fees_sqrt', 'price_extra_people', 'property_type', 'review_scores_location', 'review_scores_rating_sqrt', 'room_type', 'text_len_sqrt', 'wk_mth_discount', 'zipcode']\u001b[0m\n",
      "\n"
     ]
    }
   ],
   "source": [
    "# Print current setting for TARGET\n",
    "print_target_setting()"
   ]
  },
  {
   "cell_type": "code",
   "execution_count": 412,
   "metadata": {
    "code_folding": [
     0
    ]
   },
   "outputs": [],
   "source": [
    "# Select models for comparison\n",
    "models = {\n",
    "    'Baseline':\n",
    "    DummyClassifier(strategy='most_frequent'),\n",
    "    'LogReg':\n",
    "    LogisticRegression(max_iter=1000),\n",
    "    'KNN':\n",
    "    KNeighborsClassifier(),\n",
    "    'SVC':\n",
    "    SVC(kernel='rbf', C=1E6),\n",
    "    'Decision Tree':\n",
    "    DecisionTreeClassifier(criterion=\"gini\",\n",
    "                           max_depth=3,\n",
    "                           random_state=random_state),\n",
    "    'Random Forest':\n",
    "    RandomForestClassifier(random_state=random_state,\n",
    "                           max_features='sqrt',\n",
    "                           n_jobs=-1),\n",
    "    'Gradient Boost':\n",
    "    GradientBoostingClassifier(random_state=random_state),\n",
    "    'XGBoost':\n",
    "    XGBClassifier(),\n",
    "    'AdaBoost':\n",
    "    AdaBoostClassifier(random_state=random_state)\n",
    "}"
   ]
  },
  {
   "cell_type": "code",
   "execution_count": 413,
   "metadata": {
    "code_folding": [],
    "scrolled": false
   },
   "outputs": [
    {
     "name": "stderr",
     "output_type": "stream",
     "text": [
      "[Parallel(n_jobs=-1)]: Using backend LokyBackend with 4 concurrent workers.\n",
      "[Parallel(n_jobs=-1)]: Done   2 out of   5 | elapsed:    2.0s remaining:    3.1s\n",
      "[Parallel(n_jobs=-1)]: Done   5 out of   5 | elapsed:    2.2s finished\n",
      "/opt/anaconda3/envs/nf/lib/python3.6/site-packages/sklearn/metrics/_classification.py:1221: UndefinedMetricWarning: Precision is ill-defined and being set to 0.0 in labels with no predicted samples. Use `zero_division` parameter to control this behavior.\n",
      "  _warn_prf(average, modifier, msg_start, len(result))\n",
      "[Parallel(n_jobs=-1)]: Using backend LokyBackend with 4 concurrent workers.\n"
     ]
    },
    {
     "name": "stdout",
     "output_type": "stream",
     "text": [
      "Confusion Matrix Baseline: \n",
      "[[   0    0  307    0    0    0    0    0    0    0    0]\n",
      " [   0    0 1057    0    0    0    0    0    0    0    0]\n",
      " [   0    0 1353    0    0    0    0    0    0    0    0]\n",
      " [   0    0 1276    0    0    0    0    0    0    0    0]\n",
      " [   0    0  926    0    0    0    0    0    0    0    0]\n",
      " [   0    0  817    0    0    0    0    0    0    0    0]\n",
      " [   0    0  665    0    0    0    0    0    0    0    0]\n",
      " [   0    0  449    0    0    0    0    0    0    0    0]\n",
      " [   0    0  457    0    0    0    0    0    0    0    0]\n",
      " [   0    0  786    0    0    0    0    0    0    0    0]\n",
      " [   0    0  397    0    0    0    0    0    0    0    0]]\n"
     ]
    },
    {
     "name": "stderr",
     "output_type": "stream",
     "text": [
      "[Parallel(n_jobs=-1)]: Done   2 out of   5 | elapsed:    2.7s remaining:    4.1s\n",
      "[Parallel(n_jobs=-1)]: Done   5 out of   5 | elapsed:    4.2s finished\n",
      "[Parallel(n_jobs=-1)]: Using backend LokyBackend with 4 concurrent workers.\n"
     ]
    },
    {
     "name": "stdout",
     "output_type": "stream",
     "text": [
      "Confusion Matrix LogReg: \n",
      "[[ 55 125  78  21   4   4   3   0   1  11   5]\n",
      " [ 27 447 404 121  25   9   3   0   0  18   3]\n",
      " [ 12 347 497 301  81  61  22  10   1  18   3]\n",
      " [ 15 167 401 297 150 125  39  12  14  47   9]\n",
      " [  3  54 177 217 167 130  61  21  26  61   9]\n",
      " [  1  30  86 196 129 143  94  23  22  80  13]\n",
      " [  1  15  53 105  99 139  71  17  25 122  18]\n",
      " [  1   8  25  51  63  79  47  21  19 116  19]\n",
      " [  1   5  15  44  44  74  48  20  22 159  25]\n",
      " [  3   6  15  42  43  73  65  32  49 352 106]\n",
      " [  0   1   2   7  17   7   4   8   8 176 167]]\n"
     ]
    },
    {
     "name": "stderr",
     "output_type": "stream",
     "text": [
      "[Parallel(n_jobs=-1)]: Done   2 out of   5 | elapsed:    2.9s remaining:    4.4s\n",
      "[Parallel(n_jobs=-1)]: Done   5 out of   5 | elapsed:    4.1s finished\n",
      "[Parallel(n_jobs=-1)]: Using backend LokyBackend with 4 concurrent workers.\n"
     ]
    },
    {
     "name": "stdout",
     "output_type": "stream",
     "text": [
      "Confusion Matrix KNN: \n",
      "[[ 80  96  73  35   9   4   6   0   1   3   0]\n",
      " [ 83 370 337 158  44  33  12   3   9   7   1]\n",
      " [ 64 390 441 233  71  72  36  13  10  19   4]\n",
      " [ 55 290 331 278 127  88  47  13  13  30   4]\n",
      " [ 48 140 203 178 146  96  39  15  13  44   4]\n",
      " [ 23 124 194 147  91  94  52  21  20  41  10]\n",
      " [ 19  87 147 106  75  78  65  19  14  49   6]\n",
      " [ 12  41  74  75  46  49  29  44  25  50   4]\n",
      " [ 16  50  68  65  44  37  41  18  40  64  14]\n",
      " [ 13  56  85  77  70  59  60  33  58 221  54]\n",
      " [  7  15  31  15  25  12  11  18  22 109 132]]\n"
     ]
    },
    {
     "name": "stderr",
     "output_type": "stream",
     "text": [
      "[Parallel(n_jobs=-1)]: Done   2 out of   5 | elapsed:   21.5s remaining:   32.3s\n",
      "[Parallel(n_jobs=-1)]: Done   5 out of   5 | elapsed:   31.9s finished\n",
      "[Parallel(n_jobs=-1)]: Using backend LokyBackend with 4 concurrent workers.\n"
     ]
    },
    {
     "name": "stdout",
     "output_type": "stream",
     "text": [
      "Confusion Matrix SVC: \n",
      "[[ 88 101  59  33   9   6   5   0   2   3   1]\n",
      " [ 58 428 338 157  34  18  11   3   3   6   1]\n",
      " [ 38 359 446 275  99  65  25  19  10  13   4]\n",
      " [ 25 195 310 356 152 110  47  29  15  31   6]\n",
      " [  9  66 158 199 204 125  72  22  33  30   8]\n",
      " [  7  30  93 145 142 171  90  46  34  54   5]\n",
      " [  5  20  65  88  94 109 120  43  43  66  12]\n",
      " [  0   9  34  56  55  70  45  66  35  73   6]\n",
      " [  2  10  22  43  45  68  50  39  62  96  20]\n",
      " [  0   9  17  52  47  55  74  58  94 284  96]\n",
      " [  0   3   4   8  10  11  16  15  18 124 188]]\n"
     ]
    },
    {
     "name": "stderr",
     "output_type": "stream",
     "text": [
      "[Parallel(n_jobs=-1)]: Done   2 out of   5 | elapsed:    0.3s remaining:    0.4s\n",
      "[Parallel(n_jobs=-1)]: Done   5 out of   5 | elapsed:    0.4s finished\n",
      "/opt/anaconda3/envs/nf/lib/python3.6/site-packages/sklearn/metrics/_classification.py:1221: UndefinedMetricWarning: Precision is ill-defined and being set to 0.0 in labels with no predicted samples. Use `zero_division` parameter to control this behavior.\n",
      "  _warn_prf(average, modifier, msg_start, len(result))\n",
      "[Parallel(n_jobs=-1)]: Using backend LokyBackend with 4 concurrent workers.\n"
     ]
    },
    {
     "name": "stdout",
     "output_type": "stream",
     "text": [
      "Confusion Matrix Decision Tree: \n",
      "[[  8  76 137   0   0  31   0   0   0  51   4]\n",
      " [  2 177 730   0   0 102   0   0   0  45   1]\n",
      " [  2 159 825   0   0 314   0   0   0  53   0]\n",
      " [  4  64 584   0   0 524   0   0   0  97   3]\n",
      " [  1  20 280   0   1 488   0   0   0 129   7]\n",
      " [  3  16 138   0   0 549   0   0   0 101  10]\n",
      " [  4   6 105   0   0 400   0   0   0 136  14]\n",
      " [  1   3  38   0   0 269   0   0   0 123  15]\n",
      " [  4   3  47   0   0 231   0   0   0 149  23]\n",
      " [ 14   3  50   0   0 301   0   0   0 336  82]\n",
      " [  9   3  18   0   0  54   0   0   0 176 137]]\n"
     ]
    },
    {
     "name": "stderr",
     "output_type": "stream",
     "text": [
      "[Parallel(n_jobs=-1)]: Done   2 out of   5 | elapsed:   11.9s remaining:   17.9s\n",
      "[Parallel(n_jobs=-1)]: Done   5 out of   5 | elapsed:   15.1s finished\n",
      "[Parallel(n_jobs=-1)]: Using backend LokyBackend with 4 concurrent workers.\n"
     ]
    },
    {
     "name": "stdout",
     "output_type": "stream",
     "text": [
      "Confusion Matrix Random Forest: \n",
      "[[ 65 130  82  17   3   5   2   0   0   2   1]\n",
      " [ 22 435 456  97  17   7   4   0   3  14   2]\n",
      " [  4 350 607 250  45  53  11   5   2  24   2]\n",
      " [  4 159 441 363 119  92  26   2   7  60   3]\n",
      " [  1  52 201 240 201 108  40   6   9  61   7]\n",
      " [  1  30 139 188 126 162  56  13  12  81   9]\n",
      " [  2  21  70 136  92 113  70  14  10 124  13]\n",
      " [  0   3  39  74  55  66  38  44  13 111   6]\n",
      " [  1   6  30  68  54  58  28  14  30 146  22]\n",
      " [  0   4  32  60  35  59  53  16  38 423  66]\n",
      " [  0   1   3  11  13  12   9   3  11 173 161]]\n"
     ]
    },
    {
     "name": "stderr",
     "output_type": "stream",
     "text": [
      "[Parallel(n_jobs=-1)]: Done   2 out of   5 | elapsed:  1.0min remaining:  1.6min\n",
      "[Parallel(n_jobs=-1)]: Done   5 out of   5 | elapsed:  1.6min finished\n",
      "[Parallel(n_jobs=-1)]: Using backend LokyBackend with 4 concurrent workers.\n"
     ]
    },
    {
     "name": "stdout",
     "output_type": "stream",
     "text": [
      "Confusion Matrix Gradient Boost: \n",
      "[[ 73 124  80  12   4   4   3   1   0   5   1]\n",
      " [ 39 448 412  96  12  18   5   6   5  14   2]\n",
      " [ 18 329 576 254  39  83  23   2   5  21   3]\n",
      " [ 12 132 438 365  88 121  34  15  16  50   5]\n",
      " [  5  52 195 239 120 131  57  25  25  67  10]\n",
      " [  0  30 101 198  92 177  69  21  30  84  15]\n",
      " [  3  14  68 126  76 127  69  24  36  99  23]\n",
      " [  0   5  29  71  47  80  38  32  25 107  15]\n",
      " [  1   7  17  58  38  64  30  20  29 164  29]\n",
      " [  2   4  14  55  53  67  49  20  45 384  93]\n",
      " [  0   1   4   9  10  11   4   7   5 160 186]]\n"
     ]
    },
    {
     "name": "stderr",
     "output_type": "stream",
     "text": [
      "[Parallel(n_jobs=-1)]: Done   2 out of   5 | elapsed:   35.8s remaining:   53.7s\n",
      "[Parallel(n_jobs=-1)]: Done   5 out of   5 | elapsed:   52.9s finished\n",
      "[Parallel(n_jobs=-1)]: Using backend LokyBackend with 4 concurrent workers.\n"
     ]
    },
    {
     "name": "stdout",
     "output_type": "stream",
     "text": [
      "Confusion Matrix XGBoost: \n",
      "[[ 66 134  76  14   3   6   0   0   0   6   2]\n",
      " [ 31 444 458  62  16  17   3   2   0  21   3]\n",
      " [  9 361 611 222  28  80   9   3   2  25   3]\n",
      " [  7 144 476 356  78 111  20   5   4  71   4]\n",
      " [  3  55 223 255 104 152  27   8  13  80   6]\n",
      " [  0  24 117 214  78 208  36  10  20  98  12]\n",
      " [  0  20  68 156  57 139  51  11  19 125  19]\n",
      " [  0   7  25  83  34  86  23  22  11 142  16]\n",
      " [  1   9  23  63  26  75  18   8  16 189  29]\n",
      " [  0   4  17  72  40  72  29   8  20 421 103]\n",
      " [  0   1   4  11   7  10   4   3   5 157 195]]\n"
     ]
    },
    {
     "name": "stderr",
     "output_type": "stream",
     "text": [
      "[Parallel(n_jobs=-1)]: Done   2 out of   5 | elapsed:    2.0s remaining:    3.0s\n"
     ]
    },
    {
     "name": "stdout",
     "output_type": "stream",
     "text": [
      "Confusion Matrix AdaBoost: \n",
      "[[ 55  99 103  22   2   4   1   0   0  14   7]\n",
      " [130 314 443 108  11  14   1   1   0  25  10]\n",
      " [ 98 258 571 249  37  65  18   3   4  34  16]\n",
      " [ 55 139 406 313  78 138  24   8  11  91  13]\n",
      " [ 26  63 182 250  85 155  20   5   6 107  27]\n",
      " [ 15  33 112 214  64 179  37  10  15 108  30]\n",
      " [  6  23  80 137  37 123  35   6   5 170  43]\n",
      " [  3  10  31  74  32  97  26   6   9 136  25]\n",
      " [  5  15  25  54  27  74  19   3   9 180  46]\n",
      " [  7  30  13  57  25 100  30  10  14 348 152]\n",
      " [  0   5   8  10   3  12  10   2   7 171 169]]\n"
     ]
    },
    {
     "name": "stderr",
     "output_type": "stream",
     "text": [
      "[Parallel(n_jobs=-1)]: Done   5 out of   5 | elapsed:    3.0s finished\n"
     ]
    },
    {
     "data": {
      "text/html": [
       "<div>\n",
       "<style scoped>\n",
       "    .dataframe tbody tr th:only-of-type {\n",
       "        vertical-align: middle;\n",
       "    }\n",
       "\n",
       "    .dataframe tbody tr th {\n",
       "        vertical-align: top;\n",
       "    }\n",
       "\n",
       "    .dataframe thead th {\n",
       "        text-align: right;\n",
       "    }\n",
       "</style>\n",
       "<table border=\"1\" class=\"dataframe\">\n",
       "  <thead>\n",
       "    <tr style=\"text-align: right;\">\n",
       "      <th></th>\n",
       "      <th>Model</th>\n",
       "      <th>Accuracy</th>\n",
       "      <th>Recall</th>\n",
       "      <th>Precision</th>\n",
       "      <th>F1 Score</th>\n",
       "    </tr>\n",
       "  </thead>\n",
       "  <tbody>\n",
       "    <tr>\n",
       "      <th>0</th>\n",
       "      <td>Baseline</td>\n",
       "      <td>0.159364</td>\n",
       "      <td>0.159364</td>\n",
       "      <td>0.025397</td>\n",
       "      <td>0.043812</td>\n",
       "    </tr>\n",
       "    <tr>\n",
       "      <th>1</th>\n",
       "      <td>LogReg</td>\n",
       "      <td>0.263722</td>\n",
       "      <td>0.263722</td>\n",
       "      <td>0.252461</td>\n",
       "      <td>0.251175</td>\n",
       "    </tr>\n",
       "    <tr>\n",
       "      <th>2</th>\n",
       "      <td>KNN</td>\n",
       "      <td>0.225088</td>\n",
       "      <td>0.225088</td>\n",
       "      <td>0.229258</td>\n",
       "      <td>0.218664</td>\n",
       "    </tr>\n",
       "    <tr>\n",
       "      <th>3</th>\n",
       "      <td>SVC</td>\n",
       "      <td>0.284217</td>\n",
       "      <td>0.284217</td>\n",
       "      <td>0.282050</td>\n",
       "      <td>0.281744</td>\n",
       "    </tr>\n",
       "    <tr>\n",
       "      <th>4</th>\n",
       "      <td>Decision Tree</td>\n",
       "      <td>0.239458</td>\n",
       "      <td>0.239458</td>\n",
       "      <td>0.260865</td>\n",
       "      <td>0.163596</td>\n",
       "    </tr>\n",
       "    <tr>\n",
       "      <th>5</th>\n",
       "      <td>Random Forest</td>\n",
       "      <td>0.301649</td>\n",
       "      <td>0.301649</td>\n",
       "      <td>0.307399</td>\n",
       "      <td>0.286645</td>\n",
       "    </tr>\n",
       "    <tr>\n",
       "      <th>6</th>\n",
       "      <td>Gradient Boost</td>\n",
       "      <td>0.289635</td>\n",
       "      <td>0.289635</td>\n",
       "      <td>0.276851</td>\n",
       "      <td>0.274505</td>\n",
       "    </tr>\n",
       "    <tr>\n",
       "      <th>7</th>\n",
       "      <td>XGBoost</td>\n",
       "      <td>0.293757</td>\n",
       "      <td>0.293757</td>\n",
       "      <td>0.286248</td>\n",
       "      <td>0.270193</td>\n",
       "    </tr>\n",
       "    <tr>\n",
       "      <th>8</th>\n",
       "      <td>AdaBoost</td>\n",
       "      <td>0.245465</td>\n",
       "      <td>0.245465</td>\n",
       "      <td>0.225560</td>\n",
       "      <td>0.221782</td>\n",
       "    </tr>\n",
       "  </tbody>\n",
       "</table>\n",
       "</div>"
      ],
      "text/plain": [
       "            Model  Accuracy    Recall  Precision  F1 Score\n",
       "0        Baseline  0.159364  0.159364   0.025397  0.043812\n",
       "1          LogReg  0.263722  0.263722   0.252461  0.251175\n",
       "2             KNN  0.225088  0.225088   0.229258  0.218664\n",
       "3             SVC  0.284217  0.284217   0.282050  0.281744\n",
       "4   Decision Tree  0.239458  0.239458   0.260865  0.163596\n",
       "5   Random Forest  0.301649  0.301649   0.307399  0.286645\n",
       "6  Gradient Boost  0.289635  0.289635   0.276851  0.274505\n",
       "7         XGBoost  0.293757  0.293757   0.286248  0.270193\n",
       "8        AdaBoost  0.245465  0.245465   0.225560  0.221782"
      ]
     },
     "execution_count": 413,
     "metadata": {},
     "output_type": "execute_result"
    }
   ],
   "source": [
    "# Calculate and display results\n",
    "results = pd.DataFrame(columns=['Model', 'Accuracy', 'Recall', 'Precision', 'F1 Score'])\n",
    "i = 0\n",
    "for m in models.items():\n",
    "    # Building a full pipeline with our preprocessor and a Classifier\n",
    "    pipe = Pipeline([('preprocessor', preprocessor), (m[0], m[1])])\n",
    "    # Making predictions on the training set using cross validation as well as calculating the probabilities\n",
    "    y_train_pred = cross_val_predict(pipe,\n",
    "                                     X_train,\n",
    "                                     y_train.values.ravel(),\n",
    "                                     cv=5,\n",
    "                                     verbose=4,\n",
    "                                     n_jobs=-1)\n",
    "    # Calculating metrices\n",
    "    temp = pd.DataFrame(\n",
    "        {\n",
    "            'Model': m[0],\n",
    "            'Accuracy': accuracy_score(y_train, y_train_pred),\n",
    "            'Recall': recall_score(y_train, y_train_pred, average=\"weighted\"),\n",
    "            'Precision': precision_score(\n",
    "                y_train, y_train_pred, average=\"weighted\"),\n",
    "            'F1 Score': f1_score(y_train, y_train_pred, average=\"weighted\"),\n",
    "        },\n",
    "        index=[i])\n",
    "    print(f\"Confusion Matrix {m[0]}: \\n\" +\n",
    "          str(confusion_matrix(y_train, y_train_pred)))\n",
    "    i += 1\n",
    "    results = pd.concat([results, temp])\n",
    "results"
   ]
  },
  {
   "cell_type": "code",
   "execution_count": 415,
   "metadata": {
    "code_folding": [
     0
    ]
   },
   "outputs": [
    {
     "name": "stdout",
     "output_type": "stream",
     "text": [
      "Accuracy:  0.24546525323910484\n",
      "Recall:  0.24546525323910484\n",
      "Precision:  0.22555966733807414\n",
      "F1 Score:  0.22178198870408516\n"
     ]
    }
   ],
   "source": [
    "# Apply LogReg with OVR\n",
    "lr_ovr_model = LogisticRegression(multi_class='ovr', max_iter=200)\n",
    "# fit model\n",
    "lr_ovr_model.fit(X_train_prep, y_train)\n",
    "# make predictions\n",
    "y_pred_lr_ovr = lr_ovr_model.predict(X_train_prep)\n",
    "\n",
    "print('Accuracy: ', accuracy_score(y_train, y_train_pred))\n",
    "print('Recall: ', recall_score(y_train, y_train_pred, average=\"weighted\"))\n",
    "print('Precision: ', precision_score(y_train, y_train_pred, average=\"weighted\"))\n",
    "print('F1 Score: ', f1_score(y_train, y_train_pred, average=\"weighted\"))"
   ]
  },
  {
   "cell_type": "markdown",
   "metadata": {},
   "source": [
    "## Clf Model 1: Logistic Regression"
   ]
  },
  {
   "cell_type": "code",
   "execution_count": 426,
   "metadata": {
    "code_folding": [
     0
    ]
   },
   "outputs": [],
   "source": [
    "# Create pipeline to use in RandomizedSearchCV and GridSearchCV\n",
    "pipeline_lr_clf = Pipeline([('preprocessor', preprocessor),\n",
    "                            ('lr_clf',\n",
    "                             LogisticRegression(penalty='l2',\n",
    "                                                max_iter=100,\n",
    "                                                C=0.9,\n",
    "#                                                multi_class='multinomial',\n",
    "                                                random_state=random_state,\n",
    "                                                l1_ratio=0.5,\n",
    "                                                n_jobs=-1))])"
   ]
  },
  {
   "cell_type": "markdown",
   "metadata": {},
   "source": [
    "### Hyperparameter Pre-Tuning with RandomizedSearchCV"
   ]
  },
  {
   "cell_type": "code",
   "execution_count": 427,
   "metadata": {
    "code_folding": [
     0
    ]
   },
   "outputs": [
    {
     "data": {
      "text/plain": [
       "dict_keys(['C', 'class_weight', 'dual', 'fit_intercept', 'intercept_scaling', 'l1_ratio', 'max_iter', 'multi_class', 'n_jobs', 'penalty', 'random_state', 'solver', 'tol', 'verbose', 'warm_start'])"
      ]
     },
     "execution_count": 427,
     "metadata": {},
     "output_type": "execute_result"
    }
   ],
   "source": [
    "# Display possible hyperparameters for LogisticRegression\n",
    "test_lr_clf = LogisticRegression()\n",
    "test_lr_clf.get_params().keys()"
   ]
  },
  {
   "cell_type": "markdown",
   "metadata": {},
   "source": [
    "**Default values for LogisticRegression** (as base for hyperparameter search):\n",
    "\n",
    "penalty='l2', dual=False, tol=0.0001, C=1.0, fit_intercept=True, intercept_scaling=1, class_weight=None, random_state=None, solver='lbfgs', max_iter=100, multi_class='auto', verbose=0, warm_start=False, n_jobs=None, l1_ratio=None,"
   ]
  },
  {
   "cell_type": "code",
   "execution_count": 428,
   "metadata": {
    "code_folding": [
     0
    ]
   },
   "outputs": [],
   "source": [
    "# Define hyperparameter distribution\n",
    "param_distribs_lr_clf = {\n",
    "    'lr_clf__penalty': ['l1', 'l2'],\n",
    "    'lr_clf__max_iter': randint(low=10, high=100),\n",
    "    'lr_clf__C': [0.01, 0.02, 0.05, 0.1, 0.2, 0.3, 0.5, 1, 2, 5, 10, 20, 50, 100, 200, 500, 1000],\n",
    "    'lr_clf__l1_ratio': [None, 0.1, 0.2, 0.3, 0.5, 0.9, 1]\n",
    "}"
   ]
  },
  {
   "cell_type": "code",
   "execution_count": 429,
   "metadata": {
    "code_folding": [
     0
    ]
   },
   "outputs": [
    {
     "name": "stdout",
     "output_type": "stream",
     "text": [
      "Fitting 5 folds for each of 50 candidates, totalling 250 fits\n"
     ]
    },
    {
     "name": "stderr",
     "output_type": "stream",
     "text": [
      "[Parallel(n_jobs=-1)]: Using backend LokyBackend with 4 concurrent workers.\n",
      "[Parallel(n_jobs=-1)]: Done  17 tasks      | elapsed:    2.2s\n",
      "[Parallel(n_jobs=-1)]: Done  90 tasks      | elapsed:    9.2s\n",
      "[Parallel(n_jobs=-1)]: Done 213 tasks      | elapsed:   29.0s\n",
      "[Parallel(n_jobs=-1)]: Done 250 out of 250 | elapsed:   35.5s finished\n",
      "/opt/anaconda3/envs/nf/lib/python3.6/site-packages/sklearn/linear_model/_logistic.py:1317: UserWarning: l1_ratio parameter is only used when penalty is 'elasticnet'. Got (penalty=l2)\n",
      "  \"(penalty={})\".format(self.penalty))\n"
     ]
    }
   ],
   "source": [
    "# Create and fit RandomizedSearchCV, save \"best_model\"\n",
    "rnd_lr_clf = RandomizedSearchCV(pipeline_lr_clf,\n",
    "                                 param_distribs_lr_clf,\n",
    "                                 cv=5,\n",
    "                                 scoring=scoring,\n",
    "                                 n_iter=50,\n",
    "                                 return_train_score=True,\n",
    "                                 verbose=4,\n",
    "                                 n_jobs=-1,\n",
    "                                 random_state=random_state)\n",
    "\n",
    "best_model_rnd_lr_clf = rnd_lr_clf.fit(X_train, y_train)"
   ]
  },
  {
   "cell_type": "code",
   "execution_count": 430,
   "metadata": {
    "code_folding": [
     0
    ]
   },
   "outputs": [
    {
     "name": "stdout",
     "output_type": "stream",
     "text": [
      "Best score:\n",
      "0.25\n",
      "Best parameters:\n",
      "{'lr_clf__C': 1, 'lr_clf__l1_ratio': 0.9, 'lr_clf__max_iter': 96, 'lr_clf__penalty': 'l2'}\n"
     ]
    }
   ],
   "source": [
    "# Display best_score_, best_params_ and best_estimator_\n",
    "print('Best score:\\n{:.2f}'.format(rnd_lr_clf.best_score_))\n",
    "print(\"Best parameters:\\n{}\".format(rnd_lr_clf.best_params_))\n",
    "#print(\"Best estimator:\\n{}\".format(grid_rf_reg.best_estimator_))"
   ]
  },
  {
   "cell_type": "markdown",
   "metadata": {},
   "source": [
    "### Hyperparameter Tuning with GridSearchCV"
   ]
  },
  {
   "cell_type": "code",
   "execution_count": 434,
   "metadata": {
    "code_folding": [
     0
    ]
   },
   "outputs": [],
   "source": [
    "# Define hyperparameter grid\n",
    "param_grid_lr_clf = {\n",
    "#    'lr_clf__penalty': ['l1', 'l2'],\n",
    "    'lr_clf__max_iter': [85, 100, 125],\n",
    "    'lr_clf__C': [0.1, 0.5, 1, 2],\n",
    "    'lr_clf__l1_ratio': [0.8, 0.9, 1]\n",
    "}"
   ]
  },
  {
   "cell_type": "code",
   "execution_count": 435,
   "metadata": {
    "code_folding": [
     0
    ],
    "scrolled": true
   },
   "outputs": [
    {
     "name": "stdout",
     "output_type": "stream",
     "text": [
      "Fitting 5 folds for each of 36 candidates, totalling 180 fits\n"
     ]
    },
    {
     "name": "stderr",
     "output_type": "stream",
     "text": [
      "[Parallel(n_jobs=-1)]: Using backend LokyBackend with 4 concurrent workers.\n",
      "[Parallel(n_jobs=-1)]: Done  17 tasks      | elapsed:    6.5s\n",
      "[Parallel(n_jobs=-1)]: Done  90 tasks      | elapsed:   35.3s\n",
      "[Parallel(n_jobs=-1)]: Done 180 out of 180 | elapsed:  1.2min finished\n",
      "/opt/anaconda3/envs/nf/lib/python3.6/site-packages/sklearn/linear_model/_logistic.py:1317: UserWarning: l1_ratio parameter is only used when penalty is 'elasticnet'. Got (penalty=l2)\n",
      "  \"(penalty={})\".format(self.penalty))\n"
     ]
    },
    {
     "data": {
      "text/plain": [
       "GridSearchCV(cv=5,\n",
       "             estimator=Pipeline(steps=[('preprocessor',\n",
       "                                        ColumnTransformer(transformers=[('num',\n",
       "                                                                         Pipeline(steps=[('imputer_num',\n",
       "                                                                                          SimpleImputer(strategy='median')),\n",
       "                                                                                         ('std_scaler',\n",
       "                                                                                          StandardScaler())]),\n",
       "                                                                         ['accommodates',\n",
       "                                                                          'accommodates_per_bed',\n",
       "                                                                          'am_balcony',\n",
       "                                                                          'am_breakfast',\n",
       "                                                                          'am_child_friendly',\n",
       "                                                                          'am_elevator',\n",
       "                                                                          'am_essentials',\n",
       "                                                                          'am_nature_and_views',\n",
       "                                                                          'am_pets_allo...\n",
       "                                                                         ['cancellation_policy',\n",
       "                                                                          'host_response_time',\n",
       "                                                                          'neighbourhood_cleansed',\n",
       "                                                                          'property_type',\n",
       "                                                                          'room_type',\n",
       "                                                                          'zipcode'])])),\n",
       "                                       ('lr_clf',\n",
       "                                        LogisticRegression(C=0.9, l1_ratio=0.5,\n",
       "                                                           n_jobs=-1,\n",
       "                                                           random_state=42))]),\n",
       "             n_jobs=-1,\n",
       "             param_grid={'lr_clf__C': [0.1, 0.5, 1, 2],\n",
       "                         'lr_clf__l1_ratio': [0.8, 0.9, 1],\n",
       "                         'lr_clf__max_iter': [85, 100, 125]},\n",
       "             return_train_score=True, scoring='f1_weighted', verbose=4)"
      ]
     },
     "execution_count": 435,
     "metadata": {},
     "output_type": "execute_result"
    }
   ],
   "source": [
    "# Create and fit GridSearchCV, save \"best_model\"\n",
    "grid_lr_clf = GridSearchCV(pipeline_lr_clf,\n",
    "                            param_grid_lr_clf,\n",
    "                            cv=5,\n",
    "                            scoring=scoring,\n",
    "                            return_train_score=True,\n",
    "                            verbose=4,\n",
    "                            n_jobs=-1)\n",
    "\n",
    "best_model_grid_lr_clf = grid_lr_clf.fit(X_train, y_train)"
   ]
  },
  {
   "cell_type": "code",
   "execution_count": 436,
   "metadata": {},
   "outputs": [],
   "source": [
    "# Save best model\n",
    "#HOW? Do I save grid_lr_clf? grid_lr_clf.best_estimator? with ['lr_clf']? And how do I make Model Evaluation work (only works with ['lr_clf'] but then results are shitty)\n",
    "best_model_grid_lr_clf = grid_lr_clf.best_estimator_['lr_clf']"
   ]
  },
  {
   "cell_type": "code",
   "execution_count": 437,
   "metadata": {
    "code_folding": [
     0
    ]
   },
   "outputs": [
    {
     "name": "stdout",
     "output_type": "stream",
     "text": [
      "Best score:\n",
      "0.25\n",
      "Best parameters:\n",
      "{'lr_clf__C': 1, 'lr_clf__l1_ratio': 0.8, 'lr_clf__max_iter': 100}\n"
     ]
    }
   ],
   "source": [
    "# Display best_score_, best_params_ and best_estimator_\n",
    "print('Best score:\\n{:.2f}'.format(grid_lr_clf.best_score_))\n",
    "print(\"Best parameters:\\n{}\".format(grid_lr_clf.best_params_))\n",
    "#print(\"Best estimator:\\n{}\".format(grid_rf_reg.best_estimator_))"
   ]
  },
  {
   "cell_type": "markdown",
   "metadata": {},
   "source": [
    "### Feature Importances"
   ]
  },
  {
   "cell_type": "code",
   "execution_count": 294,
   "metadata": {
    "code_folding": []
   },
   "outputs": [],
   "source": []
  },
  {
   "cell_type": "markdown",
   "metadata": {},
   "source": [
    "### Model Evaluation"
   ]
  },
  {
   "cell_type": "code",
   "execution_count": 442,
   "metadata": {
    "code_folding": [
     0
    ]
   },
   "outputs": [
    {
     "name": "stdout",
     "output_type": "stream",
     "text": [
      "Accuracy: 0.35\n",
      "Recall: 0.35\n",
      "Precision: 0.35\n",
      "F1 Score: 0.34\n",
      "Confusion Matrix: \n",
      "[[ 74 120  73  19   4   3   3   0   0   7   4]\n",
      " [ 20 543 350  94  20   7   3   1   1  18   0]\n",
      " [ 12 299 648 225  63  60  19   5   1  18   3]\n",
      " [ 11 144 369 412 112 119  32  11   9  48   9]\n",
      " [  6  45 178 211 209 127  52  17  13  62   6]\n",
      " [  0  27  75 182 112 228  67  20  15  82   9]\n",
      " [  1  10  58  97  84 125 126  15  21 111  17]\n",
      " [  0   7  23  51  54  70  48  42  18 118  18]\n",
      " [  1   8  15  47  42  64  39  13  56 149  23]\n",
      " [  2   2  15  35  38  68  49  23  33 450  71]\n",
      " [  0   1   3   6  14   9   8   6   7 139 204]]\n"
     ]
    }
   ],
   "source": [
    "# Calculating the accuracy, recall and precision for the test set with the best model\n",
    "y_pred_lr_clf = best_model_grid_lr_clf.predict(X_train_prep)\n",
    "\n",
    "print(\"Accuracy: {:.2f}\".format(accuracy_score(y_train, y_pred_lr_clf)))\n",
    "print(\"Recall: {:.2f}\".format(recall_score(y_train, y_pred_lr_clf, average='weighted')))\n",
    "print(\"Precision: {:.2f}\".format(precision_score(y_train, y_pred_lr_clf, average='weighted')))\n",
    "print(\"F1 Score: {:.2f}\".format(f1_score(y_train, y_pred_lr_clf, average='weighted')))\n",
    "#print(\"ROC/AUC: {:.2f}\".format(roc_auc_score(y_train, y_pred_lr_clf, multi_class='ovr')))\n",
    "print(\"Confusion Matrix: \\n\" + str(confusion_matrix(y_train, y_pred_lr_clf)))"
   ]
  },
  {
   "cell_type": "markdown",
   "metadata": {},
   "source": [
    "## Clf Model 2: Random Forest"
   ]
  },
  {
   "cell_type": "code",
   "execution_count": 443,
   "metadata": {
    "code_folding": [
     0
    ]
   },
   "outputs": [],
   "source": [
    "# Create pipeline to use in RandomizedSearchCV and GridSearchCV\n",
    "pipeline_rf_clf = Pipeline([('preprocessor', preprocessor),\n",
    "                            ('rf_clf',\n",
    "                             RandomForestClassifier(n_estimators=110,\n",
    "                                                    random_state=random_state,\n",
    "                                                    max_depth=5,\n",
    "                                                    max_features=20,\n",
    "                                                    n_jobs=-1))])"
   ]
  },
  {
   "cell_type": "markdown",
   "metadata": {},
   "source": [
    "### Hyperparameter Pre-Tuning with RandomizedSearchCV"
   ]
  },
  {
   "cell_type": "code",
   "execution_count": 444,
   "metadata": {
    "code_folding": [
     0
    ]
   },
   "outputs": [
    {
     "data": {
      "text/plain": [
       "dict_keys(['bootstrap', 'ccp_alpha', 'class_weight', 'criterion', 'max_depth', 'max_features', 'max_leaf_nodes', 'max_samples', 'min_impurity_decrease', 'min_impurity_split', 'min_samples_leaf', 'min_samples_split', 'min_weight_fraction_leaf', 'n_estimators', 'n_jobs', 'oob_score', 'random_state', 'verbose', 'warm_start'])"
      ]
     },
     "execution_count": 444,
     "metadata": {},
     "output_type": "execute_result"
    }
   ],
   "source": [
    "# Display possible hyperparameters for RandomForestClassifier\n",
    "test_rf_clf = RandomForestClassifier()\n",
    "test_rf_clf.get_params().keys()"
   ]
  },
  {
   "cell_type": "markdown",
   "metadata": {},
   "source": [
    "**Default values for LogisticRegression** (as base for hyperparameter search):\n",
    "\n",
    "penalty='l2', dual=False, tol=0.0001, C=1.0, fit_intercept=True, intercept_scaling=1, class_weight=None, random_state=None, solver='lbfgs', max_iter=100, multi_class='auto', verbose=0, warm_start=False, n_jobs=None, l1_ratio=None,"
   ]
  },
  {
   "cell_type": "code",
   "execution_count": 445,
   "metadata": {
    "code_folding": [
     0
    ]
   },
   "outputs": [],
   "source": [
    "# Define hyperparameter distribution\n",
    "param_distribs_rf_clf = {\n",
    "    'rf_clf__n_estimators': randint(low=10, high=500),\n",
    "    'rf_clf__max_depth': randint(low=1, high=30),\n",
    "    'rf_clf__max_features': randint(low=1, high=100),\n",
    "}"
   ]
  },
  {
   "cell_type": "code",
   "execution_count": 446,
   "metadata": {
    "code_folding": [
     0
    ]
   },
   "outputs": [
    {
     "name": "stdout",
     "output_type": "stream",
     "text": [
      "Fitting 5 folds for each of 10 candidates, totalling 50 fits\n"
     ]
    },
    {
     "name": "stderr",
     "output_type": "stream",
     "text": [
      "[Parallel(n_jobs=-1)]: Using backend LokyBackend with 4 concurrent workers.\n",
      "[Parallel(n_jobs=-1)]: Done  17 tasks      | elapsed:  3.2min\n",
      "[Parallel(n_jobs=-1)]: Done  50 out of  50 | elapsed:  9.0min finished\n"
     ]
    }
   ],
   "source": [
    "# Create and fit RandomizedSearchCV, save \"best_model\"\n",
    "rnd_rf_clf = RandomizedSearchCV(pipeline_rf_clf,\n",
    "                           param_distribs_rf_clf,\n",
    "                           cv=5,\n",
    "                           scoring=scoring,\n",
    "                           return_train_score=True,\n",
    "                           verbose=4,\n",
    "                           n_jobs=-1,\n",
    "                         random_state=random_state)\n",
    "\n",
    "rnd_rf_clf.fit(X_train, y_train)\n",
    "best_model_rnd_rf_clf = rnd_rf_clf.best_estimator_"
   ]
  },
  {
   "cell_type": "code",
   "execution_count": 450,
   "metadata": {
    "code_folding": [
     0
    ]
   },
   "outputs": [
    {
     "name": "stdout",
     "output_type": "stream",
     "text": [
      "Best score:\n",
      "0.30\n",
      "Best parameters:\n",
      "{'rf_clf__max_depth': 21, 'rf_clf__max_features': 33, 'rf_clf__n_estimators': 469}\n"
     ]
    }
   ],
   "source": [
    "# Display best_score_, best_params_ and best_estimator_\n",
    "print('Best score:\\n{:.2f}'.format(rnd_rf_clf.best_score_))\n",
    "print(\"Best parameters:\\n{}\".format(rnd_rf_clf.best_params_))\n",
    "#print(\"Best estimator:\\n{}\".format(grid_rf_reg.best_estimator_))"
   ]
  },
  {
   "cell_type": "markdown",
   "metadata": {},
   "source": [
    "### Hyperparameter Tuning with GridSearchCV"
   ]
  },
  {
   "cell_type": "code",
   "execution_count": 454,
   "metadata": {
    "code_folding": [
     0
    ]
   },
   "outputs": [],
   "source": [
    "# Define hyperparameter grid\n",
    "param_grid_rf_clf = {\n",
    "    'rf_clf__n_estimators': [450, 500],\n",
    "    'rf_clf__max_depth': [20, 25],\n",
    "    'rf_clf__max_features': [30, 35],\n",
    "}"
   ]
  },
  {
   "cell_type": "code",
   "execution_count": 455,
   "metadata": {
    "code_folding": [],
    "scrolled": true
   },
   "outputs": [
    {
     "name": "stdout",
     "output_type": "stream",
     "text": [
      "Fitting 4 folds for each of 8 candidates, totalling 32 fits\n"
     ]
    },
    {
     "name": "stderr",
     "output_type": "stream",
     "text": [
      "[Parallel(n_jobs=-1)]: Using backend LokyBackend with 4 concurrent workers.\n",
      "[Parallel(n_jobs=-1)]: Done  17 tasks      | elapsed:  6.0min\n",
      "[Parallel(n_jobs=-1)]: Done  32 out of  32 | elapsed: 10.1min finished\n"
     ]
    }
   ],
   "source": [
    "# Create and fit GridSearchCV, save \"best_model\"\n",
    "grid_rf_clf = GridSearchCV(pipeline_rf_clf,\n",
    "                            param_grid_rf_clf,\n",
    "                            cv=4,\n",
    "                            scoring=scoring,\n",
    "                            return_train_score=True,\n",
    "                            verbose=4,\n",
    "                            n_jobs=-1)\n",
    "\n",
    "best_model_grid_rf_clf = grid_rf_clf.fit(X_train, y_train)"
   ]
  },
  {
   "cell_type": "code",
   "execution_count": 456,
   "metadata": {
    "code_folding": [
     0
    ]
   },
   "outputs": [],
   "source": [
    "# Save best model\n",
    "#HOW? Do I save grid_lr_clf? grid_lr_clf.best_estimator? with ['lr_clf']? And how do I make Model Evaluation work (only works with ['lr_clf'] but then results are shitty)\n",
    "best_model_grid_rf_clf = grid_rf_clf.best_estimator_['rf_clf']"
   ]
  },
  {
   "cell_type": "code",
   "execution_count": 457,
   "metadata": {
    "code_folding": [
     0
    ]
   },
   "outputs": [
    {
     "name": "stdout",
     "output_type": "stream",
     "text": [
      "Best score:\n",
      "0.30\n",
      "Best parameters:\n",
      "{'rf_clf__max_depth': 25, 'rf_clf__max_features': 35, 'rf_clf__n_estimators': 450}\n"
     ]
    }
   ],
   "source": [
    "# Display best_score_, best_params_ and best_estimator_\n",
    "print('Best score:\\n{:.2f}'.format(grid_rf_clf.best_score_))\n",
    "print(\"Best parameters:\\n{}\".format(grid_rf_clf.best_params_))\n",
    "#print(\"Best estimator:\\n{}\".format(grid_rf_reg.best_estimator_))"
   ]
  },
  {
   "cell_type": "markdown",
   "metadata": {},
   "source": [
    "### Feature Importances"
   ]
  },
  {
   "cell_type": "code",
   "execution_count": 476,
   "metadata": {
    "code_folding": [
     0
    ],
    "scrolled": true
   },
   "outputs": [
    {
     "data": {
      "text/html": [
       "<div>\n",
       "<style scoped>\n",
       "    .dataframe tbody tr th:only-of-type {\n",
       "        vertical-align: middle;\n",
       "    }\n",
       "\n",
       "    .dataframe tbody tr th {\n",
       "        vertical-align: top;\n",
       "    }\n",
       "\n",
       "    .dataframe thead th {\n",
       "        text-align: right;\n",
       "    }\n",
       "</style>\n",
       "<table border=\"1\" class=\"dataframe\">\n",
       "  <thead>\n",
       "    <tr style=\"text-align: right;\">\n",
       "      <th></th>\n",
       "      <th>weight</th>\n",
       "    </tr>\n",
       "  </thead>\n",
       "  <tbody>\n",
       "    <tr>\n",
       "      <th>latitude</th>\n",
       "      <td>0.053475</td>\n",
       "    </tr>\n",
       "    <tr>\n",
       "      <th>longitude</th>\n",
       "      <td>0.052189</td>\n",
       "    </tr>\n",
       "    <tr>\n",
       "      <th>text_len_sqrt</th>\n",
       "      <td>0.049861</td>\n",
       "    </tr>\n",
       "    <tr>\n",
       "      <th>listing_no</th>\n",
       "      <td>0.046906</td>\n",
       "    </tr>\n",
       "    <tr>\n",
       "      <th>first_review_days_sqrt</th>\n",
       "      <td>0.045590</td>\n",
       "    </tr>\n",
       "    <tr>\n",
       "      <th>last_review_days_sqrt</th>\n",
       "      <td>0.045221</td>\n",
       "    </tr>\n",
       "    <tr>\n",
       "      <th>availability_90</th>\n",
       "      <td>0.043774</td>\n",
       "    </tr>\n",
       "    <tr>\n",
       "      <th>price_extra_fees_sqrt</th>\n",
       "      <td>0.041142</td>\n",
       "    </tr>\n",
       "    <tr>\n",
       "      <th>number_of_reviews_ltm_log</th>\n",
       "      <td>0.039622</td>\n",
       "    </tr>\n",
       "    <tr>\n",
       "      <th>host_acceptance_rate</th>\n",
       "      <td>0.034078</td>\n",
       "    </tr>\n",
       "    <tr>\n",
       "      <th>review_scores_rating_sqrt</th>\n",
       "      <td>0.032940</td>\n",
       "    </tr>\n",
       "    <tr>\n",
       "      <th>price_extra_people</th>\n",
       "      <td>0.031769</td>\n",
       "    </tr>\n",
       "    <tr>\n",
       "      <th>room_type_Private room</th>\n",
       "      <td>0.031012</td>\n",
       "    </tr>\n",
       "    <tr>\n",
       "      <th>maximum_nights</th>\n",
       "      <td>0.028774</td>\n",
       "    </tr>\n",
       "    <tr>\n",
       "      <th>minimum_nights_log</th>\n",
       "      <td>0.028319</td>\n",
       "    </tr>\n",
       "    <tr>\n",
       "      <th>accommodates</th>\n",
       "      <td>0.028069</td>\n",
       "    </tr>\n",
       "    <tr>\n",
       "      <th>calc_host_lst_count_sqrt_log</th>\n",
       "      <td>0.020518</td>\n",
       "    </tr>\n",
       "    <tr>\n",
       "      <th>accommodates_per_bed</th>\n",
       "      <td>0.017959</td>\n",
       "    </tr>\n",
       "    <tr>\n",
       "      <th>bedrooms</th>\n",
       "      <td>0.017844</td>\n",
       "    </tr>\n",
       "    <tr>\n",
       "      <th>host_response_rate</th>\n",
       "      <td>0.016925</td>\n",
       "    </tr>\n",
       "    <tr>\n",
       "      <th>bathrooms_log</th>\n",
       "      <td>0.010814</td>\n",
       "    </tr>\n",
       "    <tr>\n",
       "      <th>review_scores_location</th>\n",
       "      <td>0.009840</td>\n",
       "    </tr>\n",
       "    <tr>\n",
       "      <th>am_tv</th>\n",
       "      <td>0.009255</td>\n",
       "    </tr>\n",
       "    <tr>\n",
       "      <th>cancellation_policy_strict</th>\n",
       "      <td>0.008948</td>\n",
       "    </tr>\n",
       "    <tr>\n",
       "      <th>am_balcony</th>\n",
       "      <td>0.008566</td>\n",
       "    </tr>\n",
       "    <tr>\n",
       "      <th>am_elevator</th>\n",
       "      <td>0.008566</td>\n",
       "    </tr>\n",
       "    <tr>\n",
       "      <th>cancellation_policy_moderate</th>\n",
       "      <td>0.008442</td>\n",
       "    </tr>\n",
       "    <tr>\n",
       "      <th>instant_bookable</th>\n",
       "      <td>0.008298</td>\n",
       "    </tr>\n",
       "    <tr>\n",
       "      <th>host_is_superhost</th>\n",
       "      <td>0.007610</td>\n",
       "    </tr>\n",
       "    <tr>\n",
       "      <th>wk_mth_discount</th>\n",
       "      <td>0.007536</td>\n",
       "    </tr>\n",
       "    <tr>\n",
       "      <th>host_response_time_within an hour</th>\n",
       "      <td>0.007456</td>\n",
       "    </tr>\n",
       "    <tr>\n",
       "      <th>am_child_friendly</th>\n",
       "      <td>0.007280</td>\n",
       "    </tr>\n",
       "    <tr>\n",
       "      <th>am_private_entrance</th>\n",
       "      <td>0.007224</td>\n",
       "    </tr>\n",
       "    <tr>\n",
       "      <th>am_white_goods</th>\n",
       "      <td>0.006866</td>\n",
       "    </tr>\n",
       "    <tr>\n",
       "      <th>am_pets_allowed</th>\n",
       "      <td>0.006845</td>\n",
       "    </tr>\n",
       "    <tr>\n",
       "      <th>host_response_time_within a few hours</th>\n",
       "      <td>0.006434</td>\n",
       "    </tr>\n",
       "    <tr>\n",
       "      <th>am_smoking_allowed</th>\n",
       "      <td>0.005714</td>\n",
       "    </tr>\n",
       "    <tr>\n",
       "      <th>host_response_time_within a day</th>\n",
       "      <td>0.005443</td>\n",
       "    </tr>\n",
       "    <tr>\n",
       "      <th>neighbourhood_cleansed_nb_other</th>\n",
       "      <td>0.004374</td>\n",
       "    </tr>\n",
       "    <tr>\n",
       "      <th>neighbourhood_cleansed_Alexanderplatz</th>\n",
       "      <td>0.004197</td>\n",
       "    </tr>\n",
       "    <tr>\n",
       "      <th>zipcode_zip_other</th>\n",
       "      <td>0.004160</td>\n",
       "    </tr>\n",
       "    <tr>\n",
       "      <th>host_response_time_unknown</th>\n",
       "      <td>0.004015</td>\n",
       "    </tr>\n",
       "    <tr>\n",
       "      <th>property_type_Boutique hotel</th>\n",
       "      <td>0.003912</td>\n",
       "    </tr>\n",
       "    <tr>\n",
       "      <th>neighbourhood_cleansed_Brunnenstr. Süd</th>\n",
       "      <td>0.003231</td>\n",
       "    </tr>\n",
       "    <tr>\n",
       "      <th>am_breakfast</th>\n",
       "      <td>0.003216</td>\n",
       "    </tr>\n",
       "    <tr>\n",
       "      <th>neighbourhood_cleansed_Frankfurter Allee Süd FK</th>\n",
       "      <td>0.002968</td>\n",
       "    </tr>\n",
       "    <tr>\n",
       "      <th>neighbourhood_cleansed_Tempelhofer Vorstadt</th>\n",
       "      <td>0.002710</td>\n",
       "    </tr>\n",
       "    <tr>\n",
       "      <th>zipcode_zip_10119</th>\n",
       "      <td>0.002596</td>\n",
       "    </tr>\n",
       "    <tr>\n",
       "      <th>zipcode_zip_10245</th>\n",
       "      <td>0.002543</td>\n",
       "    </tr>\n",
       "    <tr>\n",
       "      <th>am_essentials</th>\n",
       "      <td>0.002475</td>\n",
       "    </tr>\n",
       "    <tr>\n",
       "      <th>am_nature_and_views</th>\n",
       "      <td>0.002362</td>\n",
       "    </tr>\n",
       "    <tr>\n",
       "      <th>neighbourhood_cleansed_Prenzlauer Berg Südwest</th>\n",
       "      <td>0.002200</td>\n",
       "    </tr>\n",
       "    <tr>\n",
       "      <th>neighbourhood_cleansed_Reuterstraße</th>\n",
       "      <td>0.002128</td>\n",
       "    </tr>\n",
       "    <tr>\n",
       "      <th>room_type_Shared room</th>\n",
       "      <td>0.002116</td>\n",
       "    </tr>\n",
       "    <tr>\n",
       "      <th>zipcode_zip_10405</th>\n",
       "      <td>0.002054</td>\n",
       "    </tr>\n",
       "    <tr>\n",
       "      <th>zipcode_zip_10247</th>\n",
       "      <td>0.002015</td>\n",
       "    </tr>\n",
       "    <tr>\n",
       "      <th>neighbourhood_cleansed_Prenzlauer Berg Süd</th>\n",
       "      <td>0.001905</td>\n",
       "    </tr>\n",
       "    <tr>\n",
       "      <th>neighbourhood_cleansed_südliche Luisenstadt</th>\n",
       "      <td>0.001856</td>\n",
       "    </tr>\n",
       "    <tr>\n",
       "      <th>zipcode_zip_10999</th>\n",
       "      <td>0.001827</td>\n",
       "    </tr>\n",
       "    <tr>\n",
       "      <th>zipcode_zip_10439</th>\n",
       "      <td>0.001758</td>\n",
       "    </tr>\n",
       "    <tr>\n",
       "      <th>zipcode_zip_10437</th>\n",
       "      <td>0.001726</td>\n",
       "    </tr>\n",
       "    <tr>\n",
       "      <th>neighbourhood_cleansed_Prenzlauer Berg Nordwest</th>\n",
       "      <td>0.001707</td>\n",
       "    </tr>\n",
       "    <tr>\n",
       "      <th>property_type_House</th>\n",
       "      <td>0.001691</td>\n",
       "    </tr>\n",
       "    <tr>\n",
       "      <th>neighbourhood_cleansed_Frankfurter Allee Nord</th>\n",
       "      <td>0.001615</td>\n",
       "    </tr>\n",
       "    <tr>\n",
       "      <th>neighbourhood_cleansed_Rixdorf</th>\n",
       "      <td>0.001610</td>\n",
       "    </tr>\n",
       "    <tr>\n",
       "      <th>neighbourhood_cleansed_Schöneberg-Nord</th>\n",
       "      <td>0.001566</td>\n",
       "    </tr>\n",
       "    <tr>\n",
       "      <th>zipcode_zip_10117</th>\n",
       "      <td>0.001520</td>\n",
       "    </tr>\n",
       "    <tr>\n",
       "      <th>neighbourhood_cleansed_Neuköllner Mitte/Zentrum</th>\n",
       "      <td>0.001512</td>\n",
       "    </tr>\n",
       "    <tr>\n",
       "      <th>zipcode_zip_10997</th>\n",
       "      <td>0.001478</td>\n",
       "    </tr>\n",
       "    <tr>\n",
       "      <th>zipcode_zip_10435</th>\n",
       "      <td>0.001472</td>\n",
       "    </tr>\n",
       "    <tr>\n",
       "      <th>neighbourhood_cleansed_Schillerpromenade</th>\n",
       "      <td>0.001430</td>\n",
       "    </tr>\n",
       "    <tr>\n",
       "      <th>zipcode_zip_10243</th>\n",
       "      <td>0.001430</td>\n",
       "    </tr>\n",
       "    <tr>\n",
       "      <th>zipcode_zip_10179</th>\n",
       "      <td>0.001409</td>\n",
       "    </tr>\n",
       "    <tr>\n",
       "      <th>zipcode_zip_10249</th>\n",
       "      <td>0.001328</td>\n",
       "    </tr>\n",
       "    <tr>\n",
       "      <th>neighbourhood_cleansed_Prenzlauer Berg Nord</th>\n",
       "      <td>0.001321</td>\n",
       "    </tr>\n",
       "    <tr>\n",
       "      <th>neighbourhood_cleansed_nördliche Luisenstadt</th>\n",
       "      <td>0.001290</td>\n",
       "    </tr>\n",
       "    <tr>\n",
       "      <th>zipcode_zip_10967</th>\n",
       "      <td>0.001282</td>\n",
       "    </tr>\n",
       "    <tr>\n",
       "      <th>neighbourhood_cleansed_Moabit West</th>\n",
       "      <td>0.001275</td>\n",
       "    </tr>\n",
       "    <tr>\n",
       "      <th>neighbourhood_cleansed_Helmholtzplatz</th>\n",
       "      <td>0.001251</td>\n",
       "    </tr>\n",
       "    <tr>\n",
       "      <th>zipcode_zip_nan</th>\n",
       "      <td>0.001244</td>\n",
       "    </tr>\n",
       "    <tr>\n",
       "      <th>zipcode_zip_10407</th>\n",
       "      <td>0.001238</td>\n",
       "    </tr>\n",
       "    <tr>\n",
       "      <th>zipcode_zip_12047</th>\n",
       "      <td>0.001230</td>\n",
       "    </tr>\n",
       "    <tr>\n",
       "      <th>zipcode_zip_10178</th>\n",
       "      <td>0.001208</td>\n",
       "    </tr>\n",
       "    <tr>\n",
       "      <th>neighbourhood_cleansed_Schöneberg-Süd</th>\n",
       "      <td>0.001189</td>\n",
       "    </tr>\n",
       "    <tr>\n",
       "      <th>zipcode_zip_12049</th>\n",
       "      <td>0.001149</td>\n",
       "    </tr>\n",
       "    <tr>\n",
       "      <th>neighbourhood_cleansed_Wedding Zentrum</th>\n",
       "      <td>0.001136</td>\n",
       "    </tr>\n",
       "    <tr>\n",
       "      <th>neighbourhood_cleansed_Moabit Ost</th>\n",
       "      <td>0.001133</td>\n",
       "    </tr>\n",
       "    <tr>\n",
       "      <th>zipcode_zip_10965</th>\n",
       "      <td>0.001128</td>\n",
       "    </tr>\n",
       "    <tr>\n",
       "      <th>neighbourhood_cleansed_Südliche Friedrichstadt</th>\n",
       "      <td>0.001111</td>\n",
       "    </tr>\n",
       "    <tr>\n",
       "      <th>zipcode_zip_12051</th>\n",
       "      <td>0.001110</td>\n",
       "    </tr>\n",
       "    <tr>\n",
       "      <th>zipcode_zip_12045</th>\n",
       "      <td>0.001086</td>\n",
       "    </tr>\n",
       "    <tr>\n",
       "      <th>zipcode_zip_10961</th>\n",
       "      <td>0.001076</td>\n",
       "    </tr>\n",
       "    <tr>\n",
       "      <th>neighbourhood_cleansed_Regierungsviertel</th>\n",
       "      <td>0.001068</td>\n",
       "    </tr>\n",
       "    <tr>\n",
       "      <th>neighbourhood_cleansed_Karl-Marx-Allee-Süd</th>\n",
       "      <td>0.001022</td>\n",
       "    </tr>\n",
       "    <tr>\n",
       "      <th>neighbourhood_cleansed_Osloer Straße</th>\n",
       "      <td>0.000965</td>\n",
       "    </tr>\n",
       "    <tr>\n",
       "      <th>cancellation_policy_super_strict</th>\n",
       "      <td>0.000956</td>\n",
       "    </tr>\n",
       "    <tr>\n",
       "      <th>neighbourhood_cleansed_Karl-Marx-Allee-Nord</th>\n",
       "      <td>0.000943</td>\n",
       "    </tr>\n",
       "    <tr>\n",
       "      <th>neighbourhood_cleansed_Tiergarten Süd</th>\n",
       "      <td>0.000930</td>\n",
       "    </tr>\n",
       "    <tr>\n",
       "      <th>zipcode_zip_13353</th>\n",
       "      <td>0.000923</td>\n",
       "    </tr>\n",
       "    <tr>\n",
       "      <th>room_type_Hotel room</th>\n",
       "      <td>0.000914</td>\n",
       "    </tr>\n",
       "    <tr>\n",
       "      <th>zipcode_zip_10777</th>\n",
       "      <td>0.000893</td>\n",
       "    </tr>\n",
       "    <tr>\n",
       "      <th>zipcode_zip_13359</th>\n",
       "      <td>0.000887</td>\n",
       "    </tr>\n",
       "    <tr>\n",
       "      <th>zipcode_zip_12053</th>\n",
       "      <td>0.000870</td>\n",
       "    </tr>\n",
       "    <tr>\n",
       "      <th>zipcode_zip_12059</th>\n",
       "      <td>0.000853</td>\n",
       "    </tr>\n",
       "    <tr>\n",
       "      <th>neighbourhood_cleansed_Düsseldorfer Straße</th>\n",
       "      <td>0.000844</td>\n",
       "    </tr>\n",
       "    <tr>\n",
       "      <th>zipcode_zip_10785</th>\n",
       "      <td>0.000843</td>\n",
       "    </tr>\n",
       "    <tr>\n",
       "      <th>zipcode_zip_12043</th>\n",
       "      <td>0.000819</td>\n",
       "    </tr>\n",
       "    <tr>\n",
       "      <th>zipcode_zip_10963</th>\n",
       "      <td>0.000807</td>\n",
       "    </tr>\n",
       "    <tr>\n",
       "      <th>neighbourhood_cleansed_Prenzlauer Berg Ost</th>\n",
       "      <td>0.000798</td>\n",
       "    </tr>\n",
       "    <tr>\n",
       "      <th>neighbourhood_cleansed_Parkviertel</th>\n",
       "      <td>0.000767</td>\n",
       "    </tr>\n",
       "    <tr>\n",
       "      <th>zipcode_zip_12055</th>\n",
       "      <td>0.000745</td>\n",
       "    </tr>\n",
       "    <tr>\n",
       "      <th>neighbourhood_cleansed_Otto-Suhr-Allee</th>\n",
       "      <td>0.000730</td>\n",
       "    </tr>\n",
       "    <tr>\n",
       "      <th>neighbourhood_cleansed_Friedenau</th>\n",
       "      <td>0.000724</td>\n",
       "    </tr>\n",
       "    <tr>\n",
       "      <th>zipcode_zip_10969</th>\n",
       "      <td>0.000710</td>\n",
       "    </tr>\n",
       "    <tr>\n",
       "      <th>neighbourhood_cleansed_Brunnenstr. Nord</th>\n",
       "      <td>0.000703</td>\n",
       "    </tr>\n",
       "    <tr>\n",
       "      <th>neighbourhood_cleansed_Tempelhof</th>\n",
       "      <td>0.000697</td>\n",
       "    </tr>\n",
       "    <tr>\n",
       "      <th>neighbourhood_cleansed_Kurfürstendamm</th>\n",
       "      <td>0.000691</td>\n",
       "    </tr>\n",
       "    <tr>\n",
       "      <th>neighbourhood_cleansed_Volkspark Wilmersdorf</th>\n",
       "      <td>0.000682</td>\n",
       "    </tr>\n",
       "    <tr>\n",
       "      <th>zipcode_zip_12435</th>\n",
       "      <td>0.000642</td>\n",
       "    </tr>\n",
       "    <tr>\n",
       "      <th>zipcode_zip_13357</th>\n",
       "      <td>0.000626</td>\n",
       "    </tr>\n",
       "    <tr>\n",
       "      <th>zipcode_zip_10559</th>\n",
       "      <td>0.000603</td>\n",
       "    </tr>\n",
       "    <tr>\n",
       "      <th>neighbourhood_cleansed_Weißensee</th>\n",
       "      <td>0.000600</td>\n",
       "    </tr>\n",
       "    <tr>\n",
       "      <th>zipcode_zip_10317</th>\n",
       "      <td>0.000592</td>\n",
       "    </tr>\n",
       "    <tr>\n",
       "      <th>zipcode_zip_13347</th>\n",
       "      <td>0.000590</td>\n",
       "    </tr>\n",
       "    <tr>\n",
       "      <th>property_type_Secondary unit</th>\n",
       "      <td>0.000588</td>\n",
       "    </tr>\n",
       "    <tr>\n",
       "      <th>neighbourhood_cleansed_Neu Lichtenberg</th>\n",
       "      <td>0.000570</td>\n",
       "    </tr>\n",
       "    <tr>\n",
       "      <th>zipcode_zip_10829</th>\n",
       "      <td>0.000570</td>\n",
       "    </tr>\n",
       "    <tr>\n",
       "      <th>zipcode_zip_10551</th>\n",
       "      <td>0.000560</td>\n",
       "    </tr>\n",
       "    <tr>\n",
       "      <th>neighbourhood_cleansed_Alt  Treptow</th>\n",
       "      <td>0.000539</td>\n",
       "    </tr>\n",
       "    <tr>\n",
       "      <th>neighbourhood_cleansed_Kantstraße</th>\n",
       "      <td>0.000520</td>\n",
       "    </tr>\n",
       "    <tr>\n",
       "      <th>neighbourhood_cleansed_Pankow Süd</th>\n",
       "      <td>0.000519</td>\n",
       "    </tr>\n",
       "    <tr>\n",
       "      <th>neighbourhood_cleansed_Alt-Lichtenberg</th>\n",
       "      <td>0.000509</td>\n",
       "    </tr>\n",
       "    <tr>\n",
       "      <th>zipcode_zip_10719</th>\n",
       "      <td>0.000501</td>\n",
       "    </tr>\n",
       "    <tr>\n",
       "      <th>zipcode_zip_10827</th>\n",
       "      <td>0.000498</td>\n",
       "    </tr>\n",
       "    <tr>\n",
       "      <th>zipcode_zip_13187</th>\n",
       "      <td>0.000473</td>\n",
       "    </tr>\n",
       "    <tr>\n",
       "      <th>zipcode_zip_10555</th>\n",
       "      <td>0.000469</td>\n",
       "    </tr>\n",
       "    <tr>\n",
       "      <th>zipcode_zip_10409</th>\n",
       "      <td>0.000453</td>\n",
       "    </tr>\n",
       "    <tr>\n",
       "      <th>neighbourhood_cleansed_Pankow Zentrum</th>\n",
       "      <td>0.000445</td>\n",
       "    </tr>\n",
       "    <tr>\n",
       "      <th>neighbourhood_cleansed_Neue Kantstraße</th>\n",
       "      <td>0.000444</td>\n",
       "    </tr>\n",
       "    <tr>\n",
       "      <th>zipcode_zip_13189</th>\n",
       "      <td>0.000441</td>\n",
       "    </tr>\n",
       "    <tr>\n",
       "      <th>zipcode_zip_10557</th>\n",
       "      <td>0.000415</td>\n",
       "    </tr>\n",
       "    <tr>\n",
       "      <th>zipcode_zip_10585</th>\n",
       "      <td>0.000414</td>\n",
       "    </tr>\n",
       "    <tr>\n",
       "      <th>zipcode_zip_10781</th>\n",
       "      <td>0.000410</td>\n",
       "    </tr>\n",
       "    <tr>\n",
       "      <th>zipcode_zip_13086</th>\n",
       "      <td>0.000408</td>\n",
       "    </tr>\n",
       "    <tr>\n",
       "      <th>neighbourhood_cleansed_Schloß Charlottenburg</th>\n",
       "      <td>0.000401</td>\n",
       "    </tr>\n",
       "    <tr>\n",
       "      <th>neighbourhood_cleansed_Westend</th>\n",
       "      <td>0.000396</td>\n",
       "    </tr>\n",
       "    <tr>\n",
       "      <th>zipcode_zip_10365</th>\n",
       "      <td>0.000395</td>\n",
       "    </tr>\n",
       "    <tr>\n",
       "      <th>neighbourhood_cleansed_Britz</th>\n",
       "      <td>0.000377</td>\n",
       "    </tr>\n",
       "    <tr>\n",
       "      <th>zipcode_zip_10553</th>\n",
       "      <td>0.000372</td>\n",
       "    </tr>\n",
       "    <tr>\n",
       "      <th>zipcode_zip_13355</th>\n",
       "      <td>0.000368</td>\n",
       "    </tr>\n",
       "    <tr>\n",
       "      <th>zipcode_zip_14057</th>\n",
       "      <td>0.000356</td>\n",
       "    </tr>\n",
       "    <tr>\n",
       "      <th>zipcode_zip_13088</th>\n",
       "      <td>0.000349</td>\n",
       "    </tr>\n",
       "    <tr>\n",
       "      <th>neighbourhood_cleansed_Mierendorffplatz</th>\n",
       "      <td>0.000348</td>\n",
       "    </tr>\n",
       "    <tr>\n",
       "      <th>zipcode_zip_14059</th>\n",
       "      <td>0.000337</td>\n",
       "    </tr>\n",
       "    <tr>\n",
       "      <th>zipcode_zip_10707</th>\n",
       "      <td>0.000332</td>\n",
       "    </tr>\n",
       "    <tr>\n",
       "      <th>zipcode_zip_10787</th>\n",
       "      <td>0.000332</td>\n",
       "    </tr>\n",
       "    <tr>\n",
       "      <th>zipcode_zip_10715</th>\n",
       "      <td>0.000326</td>\n",
       "    </tr>\n",
       "    <tr>\n",
       "      <th>zipcode_zip_12157</th>\n",
       "      <td>0.000318</td>\n",
       "    </tr>\n",
       "    <tr>\n",
       "      <th>zipcode_zip_10711</th>\n",
       "      <td>0.000314</td>\n",
       "    </tr>\n",
       "    <tr>\n",
       "      <th>zipcode_zip_10717</th>\n",
       "      <td>0.000314</td>\n",
       "    </tr>\n",
       "    <tr>\n",
       "      <th>zipcode_zip_10589</th>\n",
       "      <td>0.000312</td>\n",
       "    </tr>\n",
       "    <tr>\n",
       "      <th>zipcode_zip_10783</th>\n",
       "      <td>0.000307</td>\n",
       "    </tr>\n",
       "    <tr>\n",
       "      <th>zipcode_zip_10623</th>\n",
       "      <td>0.000304</td>\n",
       "    </tr>\n",
       "    <tr>\n",
       "      <th>neighbourhood_cleansed_Halensee</th>\n",
       "      <td>0.000304</td>\n",
       "    </tr>\n",
       "    <tr>\n",
       "      <th>zipcode_zip_10629</th>\n",
       "      <td>0.000303</td>\n",
       "    </tr>\n",
       "    <tr>\n",
       "      <th>neighbourhood_cleansed_Grunewald</th>\n",
       "      <td>0.000299</td>\n",
       "    </tr>\n",
       "    <tr>\n",
       "      <th>neighbourhood_cleansed_Zehlendorf  Nord</th>\n",
       "      <td>0.000287</td>\n",
       "    </tr>\n",
       "    <tr>\n",
       "      <th>zipcode_zip_12161</th>\n",
       "      <td>0.000287</td>\n",
       "    </tr>\n",
       "    <tr>\n",
       "      <th>zipcode_zip_12437</th>\n",
       "      <td>0.000281</td>\n",
       "    </tr>\n",
       "    <tr>\n",
       "      <th>zipcode_zip_13351</th>\n",
       "      <td>0.000270</td>\n",
       "    </tr>\n",
       "    <tr>\n",
       "      <th>zipcode_zip_10625</th>\n",
       "      <td>0.000268</td>\n",
       "    </tr>\n",
       "    <tr>\n",
       "      <th>neighbourhood_cleansed_Drakestr.</th>\n",
       "      <td>0.000267</td>\n",
       "    </tr>\n",
       "    <tr>\n",
       "      <th>zipcode_zip_12099</th>\n",
       "      <td>0.000262</td>\n",
       "    </tr>\n",
       "    <tr>\n",
       "      <th>neighbourhood_cleansed_Ost 2</th>\n",
       "      <td>0.000260</td>\n",
       "    </tr>\n",
       "    <tr>\n",
       "      <th>zipcode_zip_12163</th>\n",
       "      <td>0.000257</td>\n",
       "    </tr>\n",
       "    <tr>\n",
       "      <th>zipcode_zip_10627</th>\n",
       "      <td>0.000252</td>\n",
       "    </tr>\n",
       "    <tr>\n",
       "      <th>zipcode_zip_12347</th>\n",
       "      <td>0.000249</td>\n",
       "    </tr>\n",
       "    <tr>\n",
       "      <th>zipcode_zip_13407</th>\n",
       "      <td>0.000244</td>\n",
       "    </tr>\n",
       "    <tr>\n",
       "      <th>zipcode_zip_12101</th>\n",
       "      <td>0.000233</td>\n",
       "    </tr>\n",
       "    <tr>\n",
       "      <th>zipcode_zip_10587</th>\n",
       "      <td>0.000209</td>\n",
       "    </tr>\n",
       "    <tr>\n",
       "      <th>neighbourhood_cleansed_Plänterwald</th>\n",
       "      <td>0.000208</td>\n",
       "    </tr>\n",
       "    <tr>\n",
       "      <th>zipcode_zip_10315</th>\n",
       "      <td>0.000206</td>\n",
       "    </tr>\n",
       "    <tr>\n",
       "      <th>neighbourhood_cleansed_Baumschulenweg</th>\n",
       "      <td>0.000204</td>\n",
       "    </tr>\n",
       "    <tr>\n",
       "      <th>zipcode_zip_13156</th>\n",
       "      <td>0.000202</td>\n",
       "    </tr>\n",
       "    <tr>\n",
       "      <th>zipcode_zip_10318</th>\n",
       "      <td>0.000202</td>\n",
       "    </tr>\n",
       "    <tr>\n",
       "      <th>neighbourhood_cleansed_Karlshorst</th>\n",
       "      <td>0.000199</td>\n",
       "    </tr>\n",
       "    <tr>\n",
       "      <th>zipcode_zip_10367</th>\n",
       "      <td>0.000199</td>\n",
       "    </tr>\n",
       "    <tr>\n",
       "      <th>zipcode_zip_13409</th>\n",
       "      <td>0.000197</td>\n",
       "    </tr>\n",
       "    <tr>\n",
       "      <th>zipcode_zip_10823</th>\n",
       "      <td>0.000195</td>\n",
       "    </tr>\n",
       "    <tr>\n",
       "      <th>zipcode_zip_12103</th>\n",
       "      <td>0.000194</td>\n",
       "    </tr>\n",
       "    <tr>\n",
       "      <th>property_type_Bed and breakfast</th>\n",
       "      <td>0.000193</td>\n",
       "    </tr>\n",
       "    <tr>\n",
       "      <th>neighbourhood_cleansed_Blankenfelde/Niederschönhausen</th>\n",
       "      <td>0.000175</td>\n",
       "    </tr>\n",
       "    <tr>\n",
       "      <th>zipcode_zip_14197</th>\n",
       "      <td>0.000174</td>\n",
       "    </tr>\n",
       "    <tr>\n",
       "      <th>zipcode_zip_13349</th>\n",
       "      <td>0.000169</td>\n",
       "    </tr>\n",
       "    <tr>\n",
       "      <th>property_type_Unique space</th>\n",
       "      <td>0.000107</td>\n",
       "    </tr>\n",
       "    <tr>\n",
       "      <th>neighbourhood_cleansed_Barstraße</th>\n",
       "      <td>0.000106</td>\n",
       "    </tr>\n",
       "    <tr>\n",
       "      <th>zipcode_zip_10713</th>\n",
       "      <td>0.000099</td>\n",
       "    </tr>\n",
       "  </tbody>\n",
       "</table>\n",
       "</div>"
      ],
      "text/plain": [
       "                                                      weight\n",
       "latitude                                            0.053475\n",
       "longitude                                           0.052189\n",
       "text_len_sqrt                                       0.049861\n",
       "listing_no                                          0.046906\n",
       "first_review_days_sqrt                              0.045590\n",
       "last_review_days_sqrt                               0.045221\n",
       "availability_90                                     0.043774\n",
       "price_extra_fees_sqrt                               0.041142\n",
       "number_of_reviews_ltm_log                           0.039622\n",
       "host_acceptance_rate                                0.034078\n",
       "review_scores_rating_sqrt                           0.032940\n",
       "price_extra_people                                  0.031769\n",
       "room_type_Private room                              0.031012\n",
       "maximum_nights                                      0.028774\n",
       "minimum_nights_log                                  0.028319\n",
       "accommodates                                        0.028069\n",
       "calc_host_lst_count_sqrt_log                        0.020518\n",
       "accommodates_per_bed                                0.017959\n",
       "bedrooms                                            0.017844\n",
       "host_response_rate                                  0.016925\n",
       "bathrooms_log                                       0.010814\n",
       "review_scores_location                              0.009840\n",
       "am_tv                                               0.009255\n",
       "cancellation_policy_strict                          0.008948\n",
       "am_balcony                                          0.008566\n",
       "am_elevator                                         0.008566\n",
       "cancellation_policy_moderate                        0.008442\n",
       "instant_bookable                                    0.008298\n",
       "host_is_superhost                                   0.007610\n",
       "wk_mth_discount                                     0.007536\n",
       "host_response_time_within an hour                   0.007456\n",
       "am_child_friendly                                   0.007280\n",
       "am_private_entrance                                 0.007224\n",
       "am_white_goods                                      0.006866\n",
       "am_pets_allowed                                     0.006845\n",
       "host_response_time_within a few hours               0.006434\n",
       "am_smoking_allowed                                  0.005714\n",
       "host_response_time_within a day                     0.005443\n",
       "neighbourhood_cleansed_nb_other                     0.004374\n",
       "neighbourhood_cleansed_Alexanderplatz               0.004197\n",
       "zipcode_zip_other                                   0.004160\n",
       "host_response_time_unknown                          0.004015\n",
       "property_type_Boutique hotel                        0.003912\n",
       "neighbourhood_cleansed_Brunnenstr. Süd              0.003231\n",
       "am_breakfast                                        0.003216\n",
       "neighbourhood_cleansed_Frankfurter Allee Süd FK     0.002968\n",
       "neighbourhood_cleansed_Tempelhofer Vorstadt         0.002710\n",
       "zipcode_zip_10119                                   0.002596\n",
       "zipcode_zip_10245                                   0.002543\n",
       "am_essentials                                       0.002475\n",
       "am_nature_and_views                                 0.002362\n",
       "neighbourhood_cleansed_Prenzlauer Berg Südwest      0.002200\n",
       "neighbourhood_cleansed_Reuterstraße                 0.002128\n",
       "room_type_Shared room                               0.002116\n",
       "zipcode_zip_10405                                   0.002054\n",
       "zipcode_zip_10247                                   0.002015\n",
       "neighbourhood_cleansed_Prenzlauer Berg Süd          0.001905\n",
       "neighbourhood_cleansed_südliche Luisenstadt         0.001856\n",
       "zipcode_zip_10999                                   0.001827\n",
       "zipcode_zip_10439                                   0.001758\n",
       "zipcode_zip_10437                                   0.001726\n",
       "neighbourhood_cleansed_Prenzlauer Berg Nordwest     0.001707\n",
       "property_type_House                                 0.001691\n",
       "neighbourhood_cleansed_Frankfurter Allee Nord       0.001615\n",
       "neighbourhood_cleansed_Rixdorf                      0.001610\n",
       "neighbourhood_cleansed_Schöneberg-Nord              0.001566\n",
       "zipcode_zip_10117                                   0.001520\n",
       "neighbourhood_cleansed_Neuköllner Mitte/Zentrum     0.001512\n",
       "zipcode_zip_10997                                   0.001478\n",
       "zipcode_zip_10435                                   0.001472\n",
       "neighbourhood_cleansed_Schillerpromenade            0.001430\n",
       "zipcode_zip_10243                                   0.001430\n",
       "zipcode_zip_10179                                   0.001409\n",
       "zipcode_zip_10249                                   0.001328\n",
       "neighbourhood_cleansed_Prenzlauer Berg Nord         0.001321\n",
       "neighbourhood_cleansed_nördliche Luisenstadt        0.001290\n",
       "zipcode_zip_10967                                   0.001282\n",
       "neighbourhood_cleansed_Moabit West                  0.001275\n",
       "neighbourhood_cleansed_Helmholtzplatz               0.001251\n",
       "zipcode_zip_nan                                     0.001244\n",
       "zipcode_zip_10407                                   0.001238\n",
       "zipcode_zip_12047                                   0.001230\n",
       "zipcode_zip_10178                                   0.001208\n",
       "neighbourhood_cleansed_Schöneberg-Süd               0.001189\n",
       "zipcode_zip_12049                                   0.001149\n",
       "neighbourhood_cleansed_Wedding Zentrum              0.001136\n",
       "neighbourhood_cleansed_Moabit Ost                   0.001133\n",
       "zipcode_zip_10965                                   0.001128\n",
       "neighbourhood_cleansed_Südliche Friedrichstadt      0.001111\n",
       "zipcode_zip_12051                                   0.001110\n",
       "zipcode_zip_12045                                   0.001086\n",
       "zipcode_zip_10961                                   0.001076\n",
       "neighbourhood_cleansed_Regierungsviertel            0.001068\n",
       "neighbourhood_cleansed_Karl-Marx-Allee-Süd          0.001022\n",
       "neighbourhood_cleansed_Osloer Straße                0.000965\n",
       "cancellation_policy_super_strict                    0.000956\n",
       "neighbourhood_cleansed_Karl-Marx-Allee-Nord         0.000943\n",
       "neighbourhood_cleansed_Tiergarten Süd               0.000930\n",
       "zipcode_zip_13353                                   0.000923\n",
       "room_type_Hotel room                                0.000914\n",
       "zipcode_zip_10777                                   0.000893\n",
       "zipcode_zip_13359                                   0.000887\n",
       "zipcode_zip_12053                                   0.000870\n",
       "zipcode_zip_12059                                   0.000853\n",
       "neighbourhood_cleansed_Düsseldorfer Straße          0.000844\n",
       "zipcode_zip_10785                                   0.000843\n",
       "zipcode_zip_12043                                   0.000819\n",
       "zipcode_zip_10963                                   0.000807\n",
       "neighbourhood_cleansed_Prenzlauer Berg Ost          0.000798\n",
       "neighbourhood_cleansed_Parkviertel                  0.000767\n",
       "zipcode_zip_12055                                   0.000745\n",
       "neighbourhood_cleansed_Otto-Suhr-Allee              0.000730\n",
       "neighbourhood_cleansed_Friedenau                    0.000724\n",
       "zipcode_zip_10969                                   0.000710\n",
       "neighbourhood_cleansed_Brunnenstr. Nord             0.000703\n",
       "neighbourhood_cleansed_Tempelhof                    0.000697\n",
       "neighbourhood_cleansed_Kurfürstendamm               0.000691\n",
       "neighbourhood_cleansed_Volkspark Wilmersdorf        0.000682\n",
       "zipcode_zip_12435                                   0.000642\n",
       "zipcode_zip_13357                                   0.000626\n",
       "zipcode_zip_10559                                   0.000603\n",
       "neighbourhood_cleansed_Weißensee                    0.000600\n",
       "zipcode_zip_10317                                   0.000592\n",
       "zipcode_zip_13347                                   0.000590\n",
       "property_type_Secondary unit                        0.000588\n",
       "neighbourhood_cleansed_Neu Lichtenberg              0.000570\n",
       "zipcode_zip_10829                                   0.000570\n",
       "zipcode_zip_10551                                   0.000560\n",
       "neighbourhood_cleansed_Alt  Treptow                 0.000539\n",
       "neighbourhood_cleansed_Kantstraße                   0.000520\n",
       "neighbourhood_cleansed_Pankow Süd                   0.000519\n",
       "neighbourhood_cleansed_Alt-Lichtenberg              0.000509\n",
       "zipcode_zip_10719                                   0.000501\n",
       "zipcode_zip_10827                                   0.000498\n",
       "zipcode_zip_13187                                   0.000473\n",
       "zipcode_zip_10555                                   0.000469\n",
       "zipcode_zip_10409                                   0.000453\n",
       "neighbourhood_cleansed_Pankow Zentrum               0.000445\n",
       "neighbourhood_cleansed_Neue Kantstraße              0.000444\n",
       "zipcode_zip_13189                                   0.000441\n",
       "zipcode_zip_10557                                   0.000415\n",
       "zipcode_zip_10585                                   0.000414\n",
       "zipcode_zip_10781                                   0.000410\n",
       "zipcode_zip_13086                                   0.000408\n",
       "neighbourhood_cleansed_Schloß Charlottenburg        0.000401\n",
       "neighbourhood_cleansed_Westend                      0.000396\n",
       "zipcode_zip_10365                                   0.000395\n",
       "neighbourhood_cleansed_Britz                        0.000377\n",
       "zipcode_zip_10553                                   0.000372\n",
       "zipcode_zip_13355                                   0.000368\n",
       "zipcode_zip_14057                                   0.000356\n",
       "zipcode_zip_13088                                   0.000349\n",
       "neighbourhood_cleansed_Mierendorffplatz             0.000348\n",
       "zipcode_zip_14059                                   0.000337\n",
       "zipcode_zip_10707                                   0.000332\n",
       "zipcode_zip_10787                                   0.000332\n",
       "zipcode_zip_10715                                   0.000326\n",
       "zipcode_zip_12157                                   0.000318\n",
       "zipcode_zip_10711                                   0.000314\n",
       "zipcode_zip_10717                                   0.000314\n",
       "zipcode_zip_10589                                   0.000312\n",
       "zipcode_zip_10783                                   0.000307\n",
       "zipcode_zip_10623                                   0.000304\n",
       "neighbourhood_cleansed_Halensee                     0.000304\n",
       "zipcode_zip_10629                                   0.000303\n",
       "neighbourhood_cleansed_Grunewald                    0.000299\n",
       "neighbourhood_cleansed_Zehlendorf  Nord             0.000287\n",
       "zipcode_zip_12161                                   0.000287\n",
       "zipcode_zip_12437                                   0.000281\n",
       "zipcode_zip_13351                                   0.000270\n",
       "zipcode_zip_10625                                   0.000268\n",
       "neighbourhood_cleansed_Drakestr.                    0.000267\n",
       "zipcode_zip_12099                                   0.000262\n",
       "neighbourhood_cleansed_Ost 2                        0.000260\n",
       "zipcode_zip_12163                                   0.000257\n",
       "zipcode_zip_10627                                   0.000252\n",
       "zipcode_zip_12347                                   0.000249\n",
       "zipcode_zip_13407                                   0.000244\n",
       "zipcode_zip_12101                                   0.000233\n",
       "zipcode_zip_10587                                   0.000209\n",
       "neighbourhood_cleansed_Plänterwald                  0.000208\n",
       "zipcode_zip_10315                                   0.000206\n",
       "neighbourhood_cleansed_Baumschulenweg               0.000204\n",
       "zipcode_zip_13156                                   0.000202\n",
       "zipcode_zip_10318                                   0.000202\n",
       "neighbourhood_cleansed_Karlshorst                   0.000199\n",
       "zipcode_zip_10367                                   0.000199\n",
       "zipcode_zip_13409                                   0.000197\n",
       "zipcode_zip_10823                                   0.000195\n",
       "zipcode_zip_12103                                   0.000194\n",
       "property_type_Bed and breakfast                     0.000193\n",
       "neighbourhood_cleansed_Blankenfelde/Niederschön...  0.000175\n",
       "zipcode_zip_14197                                   0.000174\n",
       "zipcode_zip_13349                                   0.000169\n",
       "property_type_Unique space                          0.000107\n",
       "neighbourhood_cleansed_Barstraße                    0.000106\n",
       "zipcode_zip_10713                                   0.000099"
      ]
     },
     "execution_count": 476,
     "metadata": {},
     "output_type": "execute_result"
    }
   ],
   "source": [
    "# Get and print feature importances\n",
    "grid_rf_clf_fi = feat_importances(grid_rf_clf, cv_model=True, named_steps='rf_clf', column_names=column_names)\n",
    "grid_rf_clf_fi"
   ]
  },
  {
   "cell_type": "markdown",
   "metadata": {},
   "source": [
    "### Model Evaluation"
   ]
  },
  {
   "cell_type": "code",
   "execution_count": 459,
   "metadata": {
    "code_folding": [
     0
    ]
   },
   "outputs": [
    {
     "name": "stdout",
     "output_type": "stream",
     "text": [
      "Accuracy: 1.00\n",
      "Recall: 1.00\n",
      "Precision: 1.00\n",
      "F1 Score: 1.00\n",
      "Confusion Matrix: \n",
      "[[ 307    0    0    0    0    0    0    0    0    0    0]\n",
      " [   0 1057    0    0    0    0    0    0    0    0    0]\n",
      " [   0    0 1353    0    0    0    0    0    0    0    0]\n",
      " [   0    0    0 1276    0    0    0    0    0    0    0]\n",
      " [   0    0    0    0  926    0    0    0    0    0    0]\n",
      " [   0    0    0    0    0  817    0    0    0    0    0]\n",
      " [   0    0    0    0    0    0  665    0    0    0    0]\n",
      " [   0    0    0    0    0    0    0  449    0    0    0]\n",
      " [   0    0    0    0    0    0    0    0  457    0    0]\n",
      " [   0    0    0    0    0    0    0    0    0  786    0]\n",
      " [   0    0    0    0    0    0    0    0    0    0  397]]\n"
     ]
    }
   ],
   "source": [
    "# Calculating the accuracy, recall and precision for the test set with the best model\n",
    "y_pred_rf_clf = best_model_grid_rf_clf.predict(X_train_prep)\n",
    "\n",
    "print(\"Accuracy: {:.2f}\".format(accuracy_score(y_train, y_pred_rf_clf)))\n",
    "print(\"Recall: {:.2f}\".format(recall_score(y_train, y_pred_rf_clf, average='weighted')))\n",
    "print(\"Precision: {:.2f}\".format(precision_score(y_train, y_pred_rf_clf, average='weighted')))\n",
    "print(\"F1 Score: {:.2f}\".format(f1_score(y_train, y_pred_rf_clf, average='weighted')))\n",
    "#print(\"ROC/AUC: {:.2f}\".format(roc_auc_score(y_train, y_pred_lr_clf, multi_class='ovr')))\n",
    "print(\"Confusion Matrix: \\n\" + str(confusion_matrix(y_train, y_pred_rf_clf)))"
   ]
  },
  {
   "cell_type": "markdown",
   "metadata": {},
   "source": [
    "## Clf Model 3: XGBoost"
   ]
  },
  {
   "cell_type": "code",
   "execution_count": 460,
   "metadata": {
    "code_folding": [
     0
    ]
   },
   "outputs": [],
   "source": [
    "# Create pipeline to use in RandomizedSearchCV and GridSearchCV\n",
    "pipeline_xgb_clf = Pipeline([('preprocessor', preprocessor),\n",
    "                             ('xgb_clf',\n",
    "                              XGBClassifier(n_estimators=110,\n",
    "                                            random_state=random_state,\n",
    "                                            max_depth=5,\n",
    "                                            max_features=20,\n",
    "                                            scoring=scoring,\n",
    "                                            n_jobs=-1))])"
   ]
  },
  {
   "cell_type": "markdown",
   "metadata": {},
   "source": [
    "### Hyperparameter Pre-Tuning with RandomizedSearchCV"
   ]
  },
  {
   "cell_type": "code",
   "execution_count": 461,
   "metadata": {
    "code_folding": [
     0
    ]
   },
   "outputs": [
    {
     "data": {
      "text/plain": [
       "dict_keys(['base_score', 'booster', 'colsample_bylevel', 'colsample_bynode', 'colsample_bytree', 'gamma', 'learning_rate', 'max_delta_step', 'max_depth', 'min_child_weight', 'missing', 'n_estimators', 'n_jobs', 'nthread', 'objective', 'random_state', 'reg_alpha', 'reg_lambda', 'scale_pos_weight', 'seed', 'silent', 'subsample', 'verbosity'])"
      ]
     },
     "execution_count": 461,
     "metadata": {},
     "output_type": "execute_result"
    }
   ],
   "source": [
    "# Display possible hyperparameters for LogisticRegression\n",
    "test_xgb_clf = XGBClassifier()\n",
    "test_xgb_clf.get_params().keys()"
   ]
  },
  {
   "cell_type": "markdown",
   "metadata": {},
   "source": [
    "**Default values for LogisticRegression** (as base for hyperparameter search):\n",
    "\n",
    "penalty='l2', dual=False, tol=0.0001, C=1.0, fit_intercept=True, intercept_scaling=1, class_weight=None, random_state=None, solver='lbfgs', max_iter=100, multi_class='auto', verbose=0, warm_start=False, n_jobs=None, l1_ratio=None,"
   ]
  },
  {
   "cell_type": "code",
   "execution_count": 462,
   "metadata": {
    "code_folding": [
     0
    ]
   },
   "outputs": [],
   "source": [
    "# Define hyperparameter distribution\n",
    "param_distribs_xgb_clf = {\n",
    "    'xgb_clf__n_estimators': randint(low=10, high=200),\n",
    "    'xgb_clf__max_depth': randint(low=1, high=10),\n",
    "    'xgb_clf__learning_rate': [0.05, 0.1, 0.2, 0.3]\n",
    "}"
   ]
  },
  {
   "cell_type": "code",
   "execution_count": 463,
   "metadata": {
    "code_folding": [
     0
    ]
   },
   "outputs": [
    {
     "name": "stdout",
     "output_type": "stream",
     "text": [
      "Fitting 5 folds for each of 20 candidates, totalling 100 fits\n"
     ]
    },
    {
     "name": "stderr",
     "output_type": "stream",
     "text": [
      "[Parallel(n_jobs=-1)]: Using backend LokyBackend with 4 concurrent workers.\n",
      "[Parallel(n_jobs=-1)]: Done  17 tasks      | elapsed:  5.8min\n",
      "[Parallel(n_jobs=-1)]: Done  90 tasks      | elapsed: 20.4min\n",
      "[Parallel(n_jobs=-1)]: Done 100 out of 100 | elapsed: 25.0min finished\n"
     ]
    }
   ],
   "source": [
    "# Create and fit RandomizedSearchCV, save \"best_model\"\n",
    "rnd_xgb_clf = RandomizedSearchCV(pipeline_xgb_clf,\n",
    "                                 param_distribs_xgb_clf,\n",
    "                                 cv=5,\n",
    "                                 n_iter=20,\n",
    "                                 scoring=scoring,\n",
    "                                 return_train_score=True,\n",
    "                                 verbose=4,\n",
    "                                 n_jobs=-1,\n",
    "                                 random_state=random_state)\n",
    "\n",
    "best_model_rnd_xgb_clf = rnd_xgb_clf.fit(X_train, y_train)"
   ]
  },
  {
   "cell_type": "code",
   "execution_count": 464,
   "metadata": {
    "code_folding": [
     0
    ]
   },
   "outputs": [
    {
     "name": "stdout",
     "output_type": "stream",
     "text": [
      "Best score:\n",
      "0.30\n",
      "Best parameters:\n",
      "{'xgb_clf__learning_rate': 0.2, 'xgb_clf__max_depth': 8, 'xgb_clf__n_estimators': 126}\n"
     ]
    }
   ],
   "source": [
    "# Display best_score_, best_params_ and best_estimator_\n",
    "print('Best score:\\n{:.2f}'.format(rnd_xgb_clf.best_score_))\n",
    "print(\"Best parameters:\\n{}\".format(rnd_xgb_clf.best_params_))\n",
    "#print(\"Best estimator:\\n{}\".format(grid_rf_reg.best_estimator_))"
   ]
  },
  {
   "cell_type": "markdown",
   "metadata": {},
   "source": [
    "### Hyperparameter Tuning with GridSearchCV"
   ]
  },
  {
   "cell_type": "code",
   "execution_count": 466,
   "metadata": {
    "code_folding": [
     0
    ]
   },
   "outputs": [],
   "source": [
    "# Define hyperparameter grid\n",
    "param_grid_xgb_clf = {\n",
    "    'xgb_clf__n_estimators': [120, 130],\n",
    "    'xgb_clf__max_depth': [8, 10],\n",
    "    'xgb_clf__learning_rate': [0.2, 0.3]\n",
    "}"
   ]
  },
  {
   "cell_type": "code",
   "execution_count": 467,
   "metadata": {
    "code_folding": []
   },
   "outputs": [
    {
     "name": "stdout",
     "output_type": "stream",
     "text": [
      "Fitting 3 folds for each of 8 candidates, totalling 24 fits\n"
     ]
    },
    {
     "name": "stderr",
     "output_type": "stream",
     "text": [
      "[Parallel(n_jobs=-1)]: Using backend LokyBackend with 4 concurrent workers.\n",
      "[Parallel(n_jobs=-1)]: Done  17 tasks      | elapsed:  5.8min\n",
      "[Parallel(n_jobs=-1)]: Done  24 out of  24 | elapsed:  7.4min remaining:    0.0s\n",
      "[Parallel(n_jobs=-1)]: Done  24 out of  24 | elapsed:  7.4min finished\n"
     ]
    },
    {
     "data": {
      "text/plain": [
       "GridSearchCV(cv=3,\n",
       "             estimator=Pipeline(steps=[('preprocessor',\n",
       "                                        ColumnTransformer(transformers=[('num',\n",
       "                                                                         Pipeline(steps=[('imputer_num',\n",
       "                                                                                          SimpleImputer(strategy='median')),\n",
       "                                                                                         ('std_scaler',\n",
       "                                                                                          StandardScaler())]),\n",
       "                                                                         ['accommodates',\n",
       "                                                                          'accommodates_per_bed',\n",
       "                                                                          'am_balcony',\n",
       "                                                                          'am_breakfast',\n",
       "                                                                          'am_child_friendly',\n",
       "                                                                          'am_elevator',\n",
       "                                                                          'am_essentials',\n",
       "                                                                          'am_nature_and_views',\n",
       "                                                                          'am_pets_allo...\n",
       "                                                                          'neighbourhood_cleansed',\n",
       "                                                                          'property_type',\n",
       "                                                                          'room_type',\n",
       "                                                                          'zipcode'])])),\n",
       "                                       ('xgb_clf',\n",
       "                                        XGBClassifier(max_depth=5,\n",
       "                                                      max_features=20,\n",
       "                                                      n_estimators=110,\n",
       "                                                      n_jobs=-1,\n",
       "                                                      random_state=42,\n",
       "                                                      scoring='f1_weighted'))]),\n",
       "             n_jobs=-1,\n",
       "             param_grid={'xgb_clf__learning_rate': [0.2, 0.3],\n",
       "                         'xgb_clf__max_depth': [8, 10],\n",
       "                         'xgb_clf__n_estimators': [120, 130]},\n",
       "             return_train_score=True, scoring='f1_weighted', verbose=4)"
      ]
     },
     "execution_count": 467,
     "metadata": {},
     "output_type": "execute_result"
    }
   ],
   "source": [
    "# Create and fit GridSearchCV, save \"best_model\"\n",
    "grid_xgb_clf = GridSearchCV(pipeline_xgb_clf,\n",
    "                            param_grid_xgb_clf,\n",
    "                            cv=3,\n",
    "                            scoring=scoring,\n",
    "                            return_train_score=True,\n",
    "                            verbose=4,\n",
    "                            n_jobs=-1)\n",
    "\n",
    "best_model_grid_xgb_clf = grid_xgb_clf.fit(X_train, y_train)"
   ]
  },
  {
   "cell_type": "code",
   "execution_count": 469,
   "metadata": {
    "code_folding": [
     0
    ]
   },
   "outputs": [],
   "source": [
    "# Save best model\n",
    "#HOW? Do I save grid_lr_clf? grid_lr_clf.best_estimator? with ['lr_clf']? And how do I make Model Evaluation work (only works with ['lr_clf'] but then results are shitty)\n",
    "best_model_grid_xgb_clf = grid_xgb_clf.best_estimator_['xgb_clf']"
   ]
  },
  {
   "cell_type": "code",
   "execution_count": 470,
   "metadata": {
    "code_folding": [
     0
    ]
   },
   "outputs": [
    {
     "name": "stdout",
     "output_type": "stream",
     "text": [
      "Best score:\n",
      "0.29\n",
      "Best parameters:\n",
      "{'xgb_clf__learning_rate': 0.2, 'xgb_clf__max_depth': 10, 'xgb_clf__n_estimators': 130}\n"
     ]
    }
   ],
   "source": [
    "# Display best_score_, best_params_ and best_estimator_\n",
    "print('Best score:\\n{:.2f}'.format(grid_xgb_clf.best_score_))\n",
    "print(\"Best parameters:\\n{}\".format(grid_xgb_clf.best_params_))\n",
    "#print(\"Best estimator:\\n{}\".format(grid_rf_reg.best_estimator_))"
   ]
  },
  {
   "cell_type": "markdown",
   "metadata": {},
   "source": [
    "### Feature Importances"
   ]
  },
  {
   "cell_type": "code",
   "execution_count": 475,
   "metadata": {
    "code_folding": [
     0
    ],
    "scrolled": true
   },
   "outputs": [
    {
     "data": {
      "text/html": [
       "<div>\n",
       "<style scoped>\n",
       "    .dataframe tbody tr th:only-of-type {\n",
       "        vertical-align: middle;\n",
       "    }\n",
       "\n",
       "    .dataframe tbody tr th {\n",
       "        vertical-align: top;\n",
       "    }\n",
       "\n",
       "    .dataframe thead th {\n",
       "        text-align: right;\n",
       "    }\n",
       "</style>\n",
       "<table border=\"1\" class=\"dataframe\">\n",
       "  <thead>\n",
       "    <tr style=\"text-align: right;\">\n",
       "      <th></th>\n",
       "      <th>weight</th>\n",
       "    </tr>\n",
       "  </thead>\n",
       "  <tbody>\n",
       "    <tr>\n",
       "      <th>room_type_Private room</th>\n",
       "      <td>0.054966</td>\n",
       "    </tr>\n",
       "    <tr>\n",
       "      <th>room_type_Shared room</th>\n",
       "      <td>0.018998</td>\n",
       "    </tr>\n",
       "    <tr>\n",
       "      <th>property_type_Boutique hotel</th>\n",
       "      <td>0.017493</td>\n",
       "    </tr>\n",
       "    <tr>\n",
       "      <th>zipcode_zip_13407</th>\n",
       "      <td>0.013383</td>\n",
       "    </tr>\n",
       "    <tr>\n",
       "      <th>bedrooms</th>\n",
       "      <td>0.013143</td>\n",
       "    </tr>\n",
       "    <tr>\n",
       "      <th>neighbourhood_cleansed_Ost 2</th>\n",
       "      <td>0.012749</td>\n",
       "    </tr>\n",
       "    <tr>\n",
       "      <th>neighbourhood_cleansed_Alt-Lichtenberg</th>\n",
       "      <td>0.012494</td>\n",
       "    </tr>\n",
       "    <tr>\n",
       "      <th>room_type_Hotel room</th>\n",
       "      <td>0.011030</td>\n",
       "    </tr>\n",
       "    <tr>\n",
       "      <th>zipcode_zip_13187</th>\n",
       "      <td>0.010751</td>\n",
       "    </tr>\n",
       "    <tr>\n",
       "      <th>zipcode_zip_14057</th>\n",
       "      <td>0.010312</td>\n",
       "    </tr>\n",
       "    <tr>\n",
       "      <th>accommodates</th>\n",
       "      <td>0.009451</td>\n",
       "    </tr>\n",
       "    <tr>\n",
       "      <th>neighbourhood_cleansed_Friedenau</th>\n",
       "      <td>0.008156</td>\n",
       "    </tr>\n",
       "    <tr>\n",
       "      <th>zipcode_zip_13359</th>\n",
       "      <td>0.007994</td>\n",
       "    </tr>\n",
       "    <tr>\n",
       "      <th>neighbourhood_cleansed_nb_other</th>\n",
       "      <td>0.007631</td>\n",
       "    </tr>\n",
       "    <tr>\n",
       "      <th>neighbourhood_cleansed_Zehlendorf  Nord</th>\n",
       "      <td>0.007563</td>\n",
       "    </tr>\n",
       "    <tr>\n",
       "      <th>zipcode_zip_10553</th>\n",
       "      <td>0.007483</td>\n",
       "    </tr>\n",
       "    <tr>\n",
       "      <th>neighbourhood_cleansed_Wedding Zentrum</th>\n",
       "      <td>0.007422</td>\n",
       "    </tr>\n",
       "    <tr>\n",
       "      <th>zipcode_zip_10243</th>\n",
       "      <td>0.007294</td>\n",
       "    </tr>\n",
       "    <tr>\n",
       "      <th>property_type_Secondary unit</th>\n",
       "      <td>0.007289</td>\n",
       "    </tr>\n",
       "    <tr>\n",
       "      <th>zipcode_zip_10707</th>\n",
       "      <td>0.007269</td>\n",
       "    </tr>\n",
       "    <tr>\n",
       "      <th>cancellation_policy_super_strict</th>\n",
       "      <td>0.007202</td>\n",
       "    </tr>\n",
       "    <tr>\n",
       "      <th>bathrooms_log</th>\n",
       "      <td>0.007115</td>\n",
       "    </tr>\n",
       "    <tr>\n",
       "      <th>neighbourhood_cleansed_südliche Luisenstadt</th>\n",
       "      <td>0.006945</td>\n",
       "    </tr>\n",
       "    <tr>\n",
       "      <th>zipcode_zip_10717</th>\n",
       "      <td>0.006924</td>\n",
       "    </tr>\n",
       "    <tr>\n",
       "      <th>zipcode_zip_10119</th>\n",
       "      <td>0.006911</td>\n",
       "    </tr>\n",
       "    <tr>\n",
       "      <th>zipcode_zip_10783</th>\n",
       "      <td>0.006894</td>\n",
       "    </tr>\n",
       "    <tr>\n",
       "      <th>zipcode_zip_12103</th>\n",
       "      <td>0.006793</td>\n",
       "    </tr>\n",
       "    <tr>\n",
       "      <th>zipcode_zip_10587</th>\n",
       "      <td>0.006700</td>\n",
       "    </tr>\n",
       "    <tr>\n",
       "      <th>zipcode_zip_13353</th>\n",
       "      <td>0.006660</td>\n",
       "    </tr>\n",
       "    <tr>\n",
       "      <th>neighbourhood_cleansed_Tempelhof</th>\n",
       "      <td>0.006578</td>\n",
       "    </tr>\n",
       "    <tr>\n",
       "      <th>zipcode_zip_13088</th>\n",
       "      <td>0.006563</td>\n",
       "    </tr>\n",
       "    <tr>\n",
       "      <th>zipcode_zip_10623</th>\n",
       "      <td>0.006499</td>\n",
       "    </tr>\n",
       "    <tr>\n",
       "      <th>zipcode_zip_10555</th>\n",
       "      <td>0.006387</td>\n",
       "    </tr>\n",
       "    <tr>\n",
       "      <th>zipcode_zip_10589</th>\n",
       "      <td>0.006326</td>\n",
       "    </tr>\n",
       "    <tr>\n",
       "      <th>neighbourhood_cleansed_Schöneberg-Nord</th>\n",
       "      <td>0.006293</td>\n",
       "    </tr>\n",
       "    <tr>\n",
       "      <th>neighbourhood_cleansed_Alexanderplatz</th>\n",
       "      <td>0.006273</td>\n",
       "    </tr>\n",
       "    <tr>\n",
       "      <th>zipcode_zip_10178</th>\n",
       "      <td>0.006212</td>\n",
       "    </tr>\n",
       "    <tr>\n",
       "      <th>zipcode_zip_10435</th>\n",
       "      <td>0.006151</td>\n",
       "    </tr>\n",
       "    <tr>\n",
       "      <th>zipcode_zip_10965</th>\n",
       "      <td>0.006052</td>\n",
       "    </tr>\n",
       "    <tr>\n",
       "      <th>neighbourhood_cleansed_Neu Lichtenberg</th>\n",
       "      <td>0.006048</td>\n",
       "    </tr>\n",
       "    <tr>\n",
       "      <th>zipcode_zip_10629</th>\n",
       "      <td>0.005938</td>\n",
       "    </tr>\n",
       "    <tr>\n",
       "      <th>calc_host_lst_count_sqrt_log</th>\n",
       "      <td>0.005938</td>\n",
       "    </tr>\n",
       "    <tr>\n",
       "      <th>zipcode_zip_14059</th>\n",
       "      <td>0.005891</td>\n",
       "    </tr>\n",
       "    <tr>\n",
       "      <th>neighbourhood_cleansed_Prenzlauer Berg Südwest</th>\n",
       "      <td>0.005885</td>\n",
       "    </tr>\n",
       "    <tr>\n",
       "      <th>neighbourhood_cleansed_Moabit Ost</th>\n",
       "      <td>0.005859</td>\n",
       "    </tr>\n",
       "    <tr>\n",
       "      <th>neighbourhood_cleansed_Otto-Suhr-Allee</th>\n",
       "      <td>0.005796</td>\n",
       "    </tr>\n",
       "    <tr>\n",
       "      <th>am_essentials</th>\n",
       "      <td>0.005793</td>\n",
       "    </tr>\n",
       "    <tr>\n",
       "      <th>zipcode_zip_10551</th>\n",
       "      <td>0.005791</td>\n",
       "    </tr>\n",
       "    <tr>\n",
       "      <th>neighbourhood_cleansed_Osloer Straße</th>\n",
       "      <td>0.005789</td>\n",
       "    </tr>\n",
       "    <tr>\n",
       "      <th>neighbourhood_cleansed_Parkviertel</th>\n",
       "      <td>0.005724</td>\n",
       "    </tr>\n",
       "    <tr>\n",
       "      <th>neighbourhood_cleansed_Helmholtzplatz</th>\n",
       "      <td>0.005640</td>\n",
       "    </tr>\n",
       "    <tr>\n",
       "      <th>zipcode_zip_10405</th>\n",
       "      <td>0.005610</td>\n",
       "    </tr>\n",
       "    <tr>\n",
       "      <th>zipcode_zip_10247</th>\n",
       "      <td>0.005561</td>\n",
       "    </tr>\n",
       "    <tr>\n",
       "      <th>neighbourhood_cleansed_Rixdorf</th>\n",
       "      <td>0.005527</td>\n",
       "    </tr>\n",
       "    <tr>\n",
       "      <th>zipcode_zip_10409</th>\n",
       "      <td>0.005518</td>\n",
       "    </tr>\n",
       "    <tr>\n",
       "      <th>zipcode_zip_12049</th>\n",
       "      <td>0.005502</td>\n",
       "    </tr>\n",
       "    <tr>\n",
       "      <th>neighbourhood_cleansed_nördliche Luisenstadt</th>\n",
       "      <td>0.005500</td>\n",
       "    </tr>\n",
       "    <tr>\n",
       "      <th>am_elevator</th>\n",
       "      <td>0.005457</td>\n",
       "    </tr>\n",
       "    <tr>\n",
       "      <th>zipcode_zip_10249</th>\n",
       "      <td>0.005435</td>\n",
       "    </tr>\n",
       "    <tr>\n",
       "      <th>neighbourhood_cleansed_Brunnenstr. Süd</th>\n",
       "      <td>0.005409</td>\n",
       "    </tr>\n",
       "    <tr>\n",
       "      <th>zipcode_zip_12045</th>\n",
       "      <td>0.005394</td>\n",
       "    </tr>\n",
       "    <tr>\n",
       "      <th>zipcode_zip_10245</th>\n",
       "      <td>0.005228</td>\n",
       "    </tr>\n",
       "    <tr>\n",
       "      <th>zipcode_zip_12053</th>\n",
       "      <td>0.005208</td>\n",
       "    </tr>\n",
       "    <tr>\n",
       "      <th>zipcode_zip_10439</th>\n",
       "      <td>0.005203</td>\n",
       "    </tr>\n",
       "    <tr>\n",
       "      <th>neighbourhood_cleansed_Prenzlauer Berg Nordwest</th>\n",
       "      <td>0.005187</td>\n",
       "    </tr>\n",
       "    <tr>\n",
       "      <th>zipcode_zip_10407</th>\n",
       "      <td>0.005177</td>\n",
       "    </tr>\n",
       "    <tr>\n",
       "      <th>neighbourhood_cleansed_Schillerpromenade</th>\n",
       "      <td>0.005116</td>\n",
       "    </tr>\n",
       "    <tr>\n",
       "      <th>zipcode_zip_13189</th>\n",
       "      <td>0.005064</td>\n",
       "    </tr>\n",
       "    <tr>\n",
       "      <th>neighbourhood_cleansed_Frankfurter Allee Süd FK</th>\n",
       "      <td>0.005019</td>\n",
       "    </tr>\n",
       "    <tr>\n",
       "      <th>review_scores_location</th>\n",
       "      <td>0.004995</td>\n",
       "    </tr>\n",
       "    <tr>\n",
       "      <th>zipcode_zip_other</th>\n",
       "      <td>0.004989</td>\n",
       "    </tr>\n",
       "    <tr>\n",
       "      <th>zipcode_zip_13086</th>\n",
       "      <td>0.004960</td>\n",
       "    </tr>\n",
       "    <tr>\n",
       "      <th>zipcode_zip_12157</th>\n",
       "      <td>0.004957</td>\n",
       "    </tr>\n",
       "    <tr>\n",
       "      <th>zipcode_zip_13351</th>\n",
       "      <td>0.004941</td>\n",
       "    </tr>\n",
       "    <tr>\n",
       "      <th>neighbourhood_cleansed_Düsseldorfer Straße</th>\n",
       "      <td>0.004876</td>\n",
       "    </tr>\n",
       "    <tr>\n",
       "      <th>neighbourhood_cleansed_Prenzlauer Berg Nord</th>\n",
       "      <td>0.004858</td>\n",
       "    </tr>\n",
       "    <tr>\n",
       "      <th>zipcode_zip_12043</th>\n",
       "      <td>0.004839</td>\n",
       "    </tr>\n",
       "    <tr>\n",
       "      <th>zipcode_zip_10179</th>\n",
       "      <td>0.004794</td>\n",
       "    </tr>\n",
       "    <tr>\n",
       "      <th>neighbourhood_cleansed_Karl-Marx-Allee-Süd</th>\n",
       "      <td>0.004779</td>\n",
       "    </tr>\n",
       "    <tr>\n",
       "      <th>am_breakfast</th>\n",
       "      <td>0.004775</td>\n",
       "    </tr>\n",
       "    <tr>\n",
       "      <th>neighbourhood_cleansed_Kurfürstendamm</th>\n",
       "      <td>0.004750</td>\n",
       "    </tr>\n",
       "    <tr>\n",
       "      <th>wk_mth_discount</th>\n",
       "      <td>0.004747</td>\n",
       "    </tr>\n",
       "    <tr>\n",
       "      <th>am_nature_and_views</th>\n",
       "      <td>0.004687</td>\n",
       "    </tr>\n",
       "    <tr>\n",
       "      <th>minimum_nights_log</th>\n",
       "      <td>0.004670</td>\n",
       "    </tr>\n",
       "    <tr>\n",
       "      <th>zipcode_zip_12051</th>\n",
       "      <td>0.004667</td>\n",
       "    </tr>\n",
       "    <tr>\n",
       "      <th>neighbourhood_cleansed_Westend</th>\n",
       "      <td>0.004666</td>\n",
       "    </tr>\n",
       "    <tr>\n",
       "      <th>zipcode_zip_10785</th>\n",
       "      <td>0.004639</td>\n",
       "    </tr>\n",
       "    <tr>\n",
       "      <th>neighbourhood_cleansed_Mierendorffplatz</th>\n",
       "      <td>0.004625</td>\n",
       "    </tr>\n",
       "    <tr>\n",
       "      <th>host_response_time_unknown</th>\n",
       "      <td>0.004614</td>\n",
       "    </tr>\n",
       "    <tr>\n",
       "      <th>zipcode_zip_12059</th>\n",
       "      <td>0.004593</td>\n",
       "    </tr>\n",
       "    <tr>\n",
       "      <th>price_extra_people</th>\n",
       "      <td>0.004534</td>\n",
       "    </tr>\n",
       "    <tr>\n",
       "      <th>zipcode_zip_12055</th>\n",
       "      <td>0.004458</td>\n",
       "    </tr>\n",
       "    <tr>\n",
       "      <th>zipcode_zip_10117</th>\n",
       "      <td>0.004456</td>\n",
       "    </tr>\n",
       "    <tr>\n",
       "      <th>neighbourhood_cleansed_Pankow Süd</th>\n",
       "      <td>0.004432</td>\n",
       "    </tr>\n",
       "    <tr>\n",
       "      <th>property_type_House</th>\n",
       "      <td>0.004413</td>\n",
       "    </tr>\n",
       "    <tr>\n",
       "      <th>neighbourhood_cleansed_Tempelhofer Vorstadt</th>\n",
       "      <td>0.004400</td>\n",
       "    </tr>\n",
       "    <tr>\n",
       "      <th>neighbourhood_cleansed_Moabit West</th>\n",
       "      <td>0.004383</td>\n",
       "    </tr>\n",
       "    <tr>\n",
       "      <th>zipcode_zip_10777</th>\n",
       "      <td>0.004377</td>\n",
       "    </tr>\n",
       "    <tr>\n",
       "      <th>neighbourhood_cleansed_Kantstraße</th>\n",
       "      <td>0.004302</td>\n",
       "    </tr>\n",
       "    <tr>\n",
       "      <th>neighbourhood_cleansed_Prenzlauer Berg Süd</th>\n",
       "      <td>0.004275</td>\n",
       "    </tr>\n",
       "    <tr>\n",
       "      <th>zipcode_zip_10557</th>\n",
       "      <td>0.004265</td>\n",
       "    </tr>\n",
       "    <tr>\n",
       "      <th>zipcode_zip_10437</th>\n",
       "      <td>0.004263</td>\n",
       "    </tr>\n",
       "    <tr>\n",
       "      <th>neighbourhood_cleansed_Neuköllner Mitte/Zentrum</th>\n",
       "      <td>0.004224</td>\n",
       "    </tr>\n",
       "    <tr>\n",
       "      <th>neighbourhood_cleansed_Südliche Friedrichstadt</th>\n",
       "      <td>0.004195</td>\n",
       "    </tr>\n",
       "    <tr>\n",
       "      <th>zipcode_zip_nan</th>\n",
       "      <td>0.004192</td>\n",
       "    </tr>\n",
       "    <tr>\n",
       "      <th>neighbourhood_cleansed_Weißensee</th>\n",
       "      <td>0.004143</td>\n",
       "    </tr>\n",
       "    <tr>\n",
       "      <th>host_response_time_within a few hours</th>\n",
       "      <td>0.004107</td>\n",
       "    </tr>\n",
       "    <tr>\n",
       "      <th>zipcode_zip_12163</th>\n",
       "      <td>0.004087</td>\n",
       "    </tr>\n",
       "    <tr>\n",
       "      <th>am_private_entrance</th>\n",
       "      <td>0.004058</td>\n",
       "    </tr>\n",
       "    <tr>\n",
       "      <th>accommodates_per_bed</th>\n",
       "      <td>0.004043</td>\n",
       "    </tr>\n",
       "    <tr>\n",
       "      <th>am_white_goods</th>\n",
       "      <td>0.004037</td>\n",
       "    </tr>\n",
       "    <tr>\n",
       "      <th>host_response_rate</th>\n",
       "      <td>0.004012</td>\n",
       "    </tr>\n",
       "    <tr>\n",
       "      <th>zipcode_zip_13347</th>\n",
       "      <td>0.004004</td>\n",
       "    </tr>\n",
       "    <tr>\n",
       "      <th>zipcode_zip_10787</th>\n",
       "      <td>0.003997</td>\n",
       "    </tr>\n",
       "    <tr>\n",
       "      <th>am_tv</th>\n",
       "      <td>0.003970</td>\n",
       "    </tr>\n",
       "    <tr>\n",
       "      <th>latitude</th>\n",
       "      <td>0.003969</td>\n",
       "    </tr>\n",
       "    <tr>\n",
       "      <th>zipcode_zip_12435</th>\n",
       "      <td>0.003965</td>\n",
       "    </tr>\n",
       "    <tr>\n",
       "      <th>zipcode_zip_10585</th>\n",
       "      <td>0.003965</td>\n",
       "    </tr>\n",
       "    <tr>\n",
       "      <th>neighbourhood_cleansed_Karl-Marx-Allee-Nord</th>\n",
       "      <td>0.003935</td>\n",
       "    </tr>\n",
       "    <tr>\n",
       "      <th>zipcode_zip_12047</th>\n",
       "      <td>0.003920</td>\n",
       "    </tr>\n",
       "    <tr>\n",
       "      <th>longitude</th>\n",
       "      <td>0.003906</td>\n",
       "    </tr>\n",
       "    <tr>\n",
       "      <th>neighbourhood_cleansed_Brunnenstr. Nord</th>\n",
       "      <td>0.003901</td>\n",
       "    </tr>\n",
       "    <tr>\n",
       "      <th>zipcode_zip_10967</th>\n",
       "      <td>0.003895</td>\n",
       "    </tr>\n",
       "    <tr>\n",
       "      <th>zipcode_zip_10999</th>\n",
       "      <td>0.003894</td>\n",
       "    </tr>\n",
       "    <tr>\n",
       "      <th>zipcode_zip_10719</th>\n",
       "      <td>0.003889</td>\n",
       "    </tr>\n",
       "    <tr>\n",
       "      <th>listing_no</th>\n",
       "      <td>0.003883</td>\n",
       "    </tr>\n",
       "    <tr>\n",
       "      <th>review_scores_rating_sqrt</th>\n",
       "      <td>0.003872</td>\n",
       "    </tr>\n",
       "    <tr>\n",
       "      <th>availability_90</th>\n",
       "      <td>0.003867</td>\n",
       "    </tr>\n",
       "    <tr>\n",
       "      <th>neighbourhood_cleansed_Plänterwald</th>\n",
       "      <td>0.003850</td>\n",
       "    </tr>\n",
       "    <tr>\n",
       "      <th>neighbourhood_cleansed_Regierungsviertel</th>\n",
       "      <td>0.003842</td>\n",
       "    </tr>\n",
       "    <tr>\n",
       "      <th>neighbourhood_cleansed_Reuterstraße</th>\n",
       "      <td>0.003815</td>\n",
       "    </tr>\n",
       "    <tr>\n",
       "      <th>zipcode_zip_10559</th>\n",
       "      <td>0.003788</td>\n",
       "    </tr>\n",
       "    <tr>\n",
       "      <th>neighbourhood_cleansed_Britz</th>\n",
       "      <td>0.003767</td>\n",
       "    </tr>\n",
       "    <tr>\n",
       "      <th>zipcode_zip_12161</th>\n",
       "      <td>0.003764</td>\n",
       "    </tr>\n",
       "    <tr>\n",
       "      <th>price_extra_fees_sqrt</th>\n",
       "      <td>0.003748</td>\n",
       "    </tr>\n",
       "    <tr>\n",
       "      <th>neighbourhood_cleansed_Prenzlauer Berg Ost</th>\n",
       "      <td>0.003730</td>\n",
       "    </tr>\n",
       "    <tr>\n",
       "      <th>neighbourhood_cleansed_Volkspark Wilmersdorf</th>\n",
       "      <td>0.003716</td>\n",
       "    </tr>\n",
       "    <tr>\n",
       "      <th>neighbourhood_cleansed_Alt  Treptow</th>\n",
       "      <td>0.003683</td>\n",
       "    </tr>\n",
       "    <tr>\n",
       "      <th>first_review_days_sqrt</th>\n",
       "      <td>0.003681</td>\n",
       "    </tr>\n",
       "    <tr>\n",
       "      <th>zipcode_zip_10715</th>\n",
       "      <td>0.003669</td>\n",
       "    </tr>\n",
       "    <tr>\n",
       "      <th>zipcode_zip_12347</th>\n",
       "      <td>0.003664</td>\n",
       "    </tr>\n",
       "    <tr>\n",
       "      <th>zipcode_zip_10997</th>\n",
       "      <td>0.003663</td>\n",
       "    </tr>\n",
       "    <tr>\n",
       "      <th>am_balcony</th>\n",
       "      <td>0.003648</td>\n",
       "    </tr>\n",
       "    <tr>\n",
       "      <th>cancellation_policy_moderate</th>\n",
       "      <td>0.003643</td>\n",
       "    </tr>\n",
       "    <tr>\n",
       "      <th>cancellation_policy_strict</th>\n",
       "      <td>0.003635</td>\n",
       "    </tr>\n",
       "    <tr>\n",
       "      <th>host_response_time_within a day</th>\n",
       "      <td>0.003629</td>\n",
       "    </tr>\n",
       "    <tr>\n",
       "      <th>zipcode_zip_10627</th>\n",
       "      <td>0.003623</td>\n",
       "    </tr>\n",
       "    <tr>\n",
       "      <th>last_review_days_sqrt</th>\n",
       "      <td>0.003619</td>\n",
       "    </tr>\n",
       "    <tr>\n",
       "      <th>am_pets_allowed</th>\n",
       "      <td>0.003606</td>\n",
       "    </tr>\n",
       "    <tr>\n",
       "      <th>host_response_time_within an hour</th>\n",
       "      <td>0.003597</td>\n",
       "    </tr>\n",
       "    <tr>\n",
       "      <th>text_len_sqrt</th>\n",
       "      <td>0.003577</td>\n",
       "    </tr>\n",
       "    <tr>\n",
       "      <th>am_child_friendly</th>\n",
       "      <td>0.003555</td>\n",
       "    </tr>\n",
       "    <tr>\n",
       "      <th>host_is_superhost</th>\n",
       "      <td>0.003531</td>\n",
       "    </tr>\n",
       "    <tr>\n",
       "      <th>maximum_nights</th>\n",
       "      <td>0.003530</td>\n",
       "    </tr>\n",
       "    <tr>\n",
       "      <th>host_acceptance_rate</th>\n",
       "      <td>0.003523</td>\n",
       "    </tr>\n",
       "    <tr>\n",
       "      <th>neighbourhood_cleansed_Schöneberg-Süd</th>\n",
       "      <td>0.003509</td>\n",
       "    </tr>\n",
       "    <tr>\n",
       "      <th>number_of_reviews_ltm_log</th>\n",
       "      <td>0.003498</td>\n",
       "    </tr>\n",
       "    <tr>\n",
       "      <th>neighbourhood_cleansed_Drakestr.</th>\n",
       "      <td>0.003492</td>\n",
       "    </tr>\n",
       "    <tr>\n",
       "      <th>zipcode_zip_10781</th>\n",
       "      <td>0.003480</td>\n",
       "    </tr>\n",
       "    <tr>\n",
       "      <th>neighbourhood_cleansed_Grunewald</th>\n",
       "      <td>0.003445</td>\n",
       "    </tr>\n",
       "    <tr>\n",
       "      <th>zipcode_zip_10969</th>\n",
       "      <td>0.003388</td>\n",
       "    </tr>\n",
       "    <tr>\n",
       "      <th>zipcode_zip_10365</th>\n",
       "      <td>0.003382</td>\n",
       "    </tr>\n",
       "    <tr>\n",
       "      <th>zipcode_zip_10317</th>\n",
       "      <td>0.003353</td>\n",
       "    </tr>\n",
       "    <tr>\n",
       "      <th>am_smoking_allowed</th>\n",
       "      <td>0.003310</td>\n",
       "    </tr>\n",
       "    <tr>\n",
       "      <th>neighbourhood_cleansed_Tiergarten Süd</th>\n",
       "      <td>0.003217</td>\n",
       "    </tr>\n",
       "    <tr>\n",
       "      <th>zipcode_zip_14197</th>\n",
       "      <td>0.003181</td>\n",
       "    </tr>\n",
       "    <tr>\n",
       "      <th>neighbourhood_cleansed_Halensee</th>\n",
       "      <td>0.003176</td>\n",
       "    </tr>\n",
       "    <tr>\n",
       "      <th>instant_bookable</th>\n",
       "      <td>0.003075</td>\n",
       "    </tr>\n",
       "    <tr>\n",
       "      <th>zipcode_zip_13357</th>\n",
       "      <td>0.003074</td>\n",
       "    </tr>\n",
       "    <tr>\n",
       "      <th>zipcode_zip_10963</th>\n",
       "      <td>0.003046</td>\n",
       "    </tr>\n",
       "    <tr>\n",
       "      <th>zipcode_zip_13355</th>\n",
       "      <td>0.002945</td>\n",
       "    </tr>\n",
       "    <tr>\n",
       "      <th>neighbourhood_cleansed_Frankfurter Allee Nord</th>\n",
       "      <td>0.002911</td>\n",
       "    </tr>\n",
       "    <tr>\n",
       "      <th>neighbourhood_cleansed_Baumschulenweg</th>\n",
       "      <td>0.002856</td>\n",
       "    </tr>\n",
       "    <tr>\n",
       "      <th>zipcode_zip_10961</th>\n",
       "      <td>0.002832</td>\n",
       "    </tr>\n",
       "    <tr>\n",
       "      <th>zipcode_zip_12099</th>\n",
       "      <td>0.002758</td>\n",
       "    </tr>\n",
       "    <tr>\n",
       "      <th>neighbourhood_cleansed_Schloß Charlottenburg</th>\n",
       "      <td>0.002734</td>\n",
       "    </tr>\n",
       "    <tr>\n",
       "      <th>zipcode_zip_10625</th>\n",
       "      <td>0.002596</td>\n",
       "    </tr>\n",
       "    <tr>\n",
       "      <th>zipcode_zip_12101</th>\n",
       "      <td>0.002596</td>\n",
       "    </tr>\n",
       "    <tr>\n",
       "      <th>neighbourhood_cleansed_Neue Kantstraße</th>\n",
       "      <td>0.002455</td>\n",
       "    </tr>\n",
       "    <tr>\n",
       "      <th>zipcode_zip_10367</th>\n",
       "      <td>0.002427</td>\n",
       "    </tr>\n",
       "    <tr>\n",
       "      <th>zipcode_zip_10829</th>\n",
       "      <td>0.002406</td>\n",
       "    </tr>\n",
       "    <tr>\n",
       "      <th>neighbourhood_cleansed_Pankow Zentrum</th>\n",
       "      <td>0.002389</td>\n",
       "    </tr>\n",
       "    <tr>\n",
       "      <th>zipcode_zip_10823</th>\n",
       "      <td>0.001947</td>\n",
       "    </tr>\n",
       "    <tr>\n",
       "      <th>zipcode_zip_10711</th>\n",
       "      <td>0.001921</td>\n",
       "    </tr>\n",
       "    <tr>\n",
       "      <th>zipcode_zip_10827</th>\n",
       "      <td>0.001878</td>\n",
       "    </tr>\n",
       "    <tr>\n",
       "      <th>property_type_Bed and breakfast</th>\n",
       "      <td>0.001812</td>\n",
       "    </tr>\n",
       "    <tr>\n",
       "      <th>zipcode_zip_10318</th>\n",
       "      <td>0.001785</td>\n",
       "    </tr>\n",
       "    <tr>\n",
       "      <th>zipcode_zip_10315</th>\n",
       "      <td>0.001756</td>\n",
       "    </tr>\n",
       "    <tr>\n",
       "      <th>neighbourhood_cleansed_Blankenfelde/Niederschönhausen</th>\n",
       "      <td>0.001691</td>\n",
       "    </tr>\n",
       "    <tr>\n",
       "      <th>neighbourhood_cleansed_Barstraße</th>\n",
       "      <td>0.001523</td>\n",
       "    </tr>\n",
       "    <tr>\n",
       "      <th>neighbourhood_cleansed_Karlshorst</th>\n",
       "      <td>0.001491</td>\n",
       "    </tr>\n",
       "    <tr>\n",
       "      <th>zipcode_zip_13349</th>\n",
       "      <td>0.001258</td>\n",
       "    </tr>\n",
       "    <tr>\n",
       "      <th>zipcode_zip_12437</th>\n",
       "      <td>0.000839</td>\n",
       "    </tr>\n",
       "    <tr>\n",
       "      <th>zipcode_zip_13156</th>\n",
       "      <td>0.000000</td>\n",
       "    </tr>\n",
       "    <tr>\n",
       "      <th>zipcode_zip_13409</th>\n",
       "      <td>0.000000</td>\n",
       "    </tr>\n",
       "    <tr>\n",
       "      <th>zipcode_zip_10713</th>\n",
       "      <td>0.000000</td>\n",
       "    </tr>\n",
       "    <tr>\n",
       "      <th>property_type_Unique space</th>\n",
       "      <td>0.000000</td>\n",
       "    </tr>\n",
       "  </tbody>\n",
       "</table>\n",
       "</div>"
      ],
      "text/plain": [
       "                                                      weight\n",
       "room_type_Private room                              0.054966\n",
       "room_type_Shared room                               0.018998\n",
       "property_type_Boutique hotel                        0.017493\n",
       "zipcode_zip_13407                                   0.013383\n",
       "bedrooms                                            0.013143\n",
       "neighbourhood_cleansed_Ost 2                        0.012749\n",
       "neighbourhood_cleansed_Alt-Lichtenberg              0.012494\n",
       "room_type_Hotel room                                0.011030\n",
       "zipcode_zip_13187                                   0.010751\n",
       "zipcode_zip_14057                                   0.010312\n",
       "accommodates                                        0.009451\n",
       "neighbourhood_cleansed_Friedenau                    0.008156\n",
       "zipcode_zip_13359                                   0.007994\n",
       "neighbourhood_cleansed_nb_other                     0.007631\n",
       "neighbourhood_cleansed_Zehlendorf  Nord             0.007563\n",
       "zipcode_zip_10553                                   0.007483\n",
       "neighbourhood_cleansed_Wedding Zentrum              0.007422\n",
       "zipcode_zip_10243                                   0.007294\n",
       "property_type_Secondary unit                        0.007289\n",
       "zipcode_zip_10707                                   0.007269\n",
       "cancellation_policy_super_strict                    0.007202\n",
       "bathrooms_log                                       0.007115\n",
       "neighbourhood_cleansed_südliche Luisenstadt         0.006945\n",
       "zipcode_zip_10717                                   0.006924\n",
       "zipcode_zip_10119                                   0.006911\n",
       "zipcode_zip_10783                                   0.006894\n",
       "zipcode_zip_12103                                   0.006793\n",
       "zipcode_zip_10587                                   0.006700\n",
       "zipcode_zip_13353                                   0.006660\n",
       "neighbourhood_cleansed_Tempelhof                    0.006578\n",
       "zipcode_zip_13088                                   0.006563\n",
       "zipcode_zip_10623                                   0.006499\n",
       "zipcode_zip_10555                                   0.006387\n",
       "zipcode_zip_10589                                   0.006326\n",
       "neighbourhood_cleansed_Schöneberg-Nord              0.006293\n",
       "neighbourhood_cleansed_Alexanderplatz               0.006273\n",
       "zipcode_zip_10178                                   0.006212\n",
       "zipcode_zip_10435                                   0.006151\n",
       "zipcode_zip_10965                                   0.006052\n",
       "neighbourhood_cleansed_Neu Lichtenberg              0.006048\n",
       "zipcode_zip_10629                                   0.005938\n",
       "calc_host_lst_count_sqrt_log                        0.005938\n",
       "zipcode_zip_14059                                   0.005891\n",
       "neighbourhood_cleansed_Prenzlauer Berg Südwest      0.005885\n",
       "neighbourhood_cleansed_Moabit Ost                   0.005859\n",
       "neighbourhood_cleansed_Otto-Suhr-Allee              0.005796\n",
       "am_essentials                                       0.005793\n",
       "zipcode_zip_10551                                   0.005791\n",
       "neighbourhood_cleansed_Osloer Straße                0.005789\n",
       "neighbourhood_cleansed_Parkviertel                  0.005724\n",
       "neighbourhood_cleansed_Helmholtzplatz               0.005640\n",
       "zipcode_zip_10405                                   0.005610\n",
       "zipcode_zip_10247                                   0.005561\n",
       "neighbourhood_cleansed_Rixdorf                      0.005527\n",
       "zipcode_zip_10409                                   0.005518\n",
       "zipcode_zip_12049                                   0.005502\n",
       "neighbourhood_cleansed_nördliche Luisenstadt        0.005500\n",
       "am_elevator                                         0.005457\n",
       "zipcode_zip_10249                                   0.005435\n",
       "neighbourhood_cleansed_Brunnenstr. Süd              0.005409\n",
       "zipcode_zip_12045                                   0.005394\n",
       "zipcode_zip_10245                                   0.005228\n",
       "zipcode_zip_12053                                   0.005208\n",
       "zipcode_zip_10439                                   0.005203\n",
       "neighbourhood_cleansed_Prenzlauer Berg Nordwest     0.005187\n",
       "zipcode_zip_10407                                   0.005177\n",
       "neighbourhood_cleansed_Schillerpromenade            0.005116\n",
       "zipcode_zip_13189                                   0.005064\n",
       "neighbourhood_cleansed_Frankfurter Allee Süd FK     0.005019\n",
       "review_scores_location                              0.004995\n",
       "zipcode_zip_other                                   0.004989\n",
       "zipcode_zip_13086                                   0.004960\n",
       "zipcode_zip_12157                                   0.004957\n",
       "zipcode_zip_13351                                   0.004941\n",
       "neighbourhood_cleansed_Düsseldorfer Straße          0.004876\n",
       "neighbourhood_cleansed_Prenzlauer Berg Nord         0.004858\n",
       "zipcode_zip_12043                                   0.004839\n",
       "zipcode_zip_10179                                   0.004794\n",
       "neighbourhood_cleansed_Karl-Marx-Allee-Süd          0.004779\n",
       "am_breakfast                                        0.004775\n",
       "neighbourhood_cleansed_Kurfürstendamm               0.004750\n",
       "wk_mth_discount                                     0.004747\n",
       "am_nature_and_views                                 0.004687\n",
       "minimum_nights_log                                  0.004670\n",
       "zipcode_zip_12051                                   0.004667\n",
       "neighbourhood_cleansed_Westend                      0.004666\n",
       "zipcode_zip_10785                                   0.004639\n",
       "neighbourhood_cleansed_Mierendorffplatz             0.004625\n",
       "host_response_time_unknown                          0.004614\n",
       "zipcode_zip_12059                                   0.004593\n",
       "price_extra_people                                  0.004534\n",
       "zipcode_zip_12055                                   0.004458\n",
       "zipcode_zip_10117                                   0.004456\n",
       "neighbourhood_cleansed_Pankow Süd                   0.004432\n",
       "property_type_House                                 0.004413\n",
       "neighbourhood_cleansed_Tempelhofer Vorstadt         0.004400\n",
       "neighbourhood_cleansed_Moabit West                  0.004383\n",
       "zipcode_zip_10777                                   0.004377\n",
       "neighbourhood_cleansed_Kantstraße                   0.004302\n",
       "neighbourhood_cleansed_Prenzlauer Berg Süd          0.004275\n",
       "zipcode_zip_10557                                   0.004265\n",
       "zipcode_zip_10437                                   0.004263\n",
       "neighbourhood_cleansed_Neuköllner Mitte/Zentrum     0.004224\n",
       "neighbourhood_cleansed_Südliche Friedrichstadt      0.004195\n",
       "zipcode_zip_nan                                     0.004192\n",
       "neighbourhood_cleansed_Weißensee                    0.004143\n",
       "host_response_time_within a few hours               0.004107\n",
       "zipcode_zip_12163                                   0.004087\n",
       "am_private_entrance                                 0.004058\n",
       "accommodates_per_bed                                0.004043\n",
       "am_white_goods                                      0.004037\n",
       "host_response_rate                                  0.004012\n",
       "zipcode_zip_13347                                   0.004004\n",
       "zipcode_zip_10787                                   0.003997\n",
       "am_tv                                               0.003970\n",
       "latitude                                            0.003969\n",
       "zipcode_zip_12435                                   0.003965\n",
       "zipcode_zip_10585                                   0.003965\n",
       "neighbourhood_cleansed_Karl-Marx-Allee-Nord         0.003935\n",
       "zipcode_zip_12047                                   0.003920\n",
       "longitude                                           0.003906\n",
       "neighbourhood_cleansed_Brunnenstr. Nord             0.003901\n",
       "zipcode_zip_10967                                   0.003895\n",
       "zipcode_zip_10999                                   0.003894\n",
       "zipcode_zip_10719                                   0.003889\n",
       "listing_no                                          0.003883\n",
       "review_scores_rating_sqrt                           0.003872\n",
       "availability_90                                     0.003867\n",
       "neighbourhood_cleansed_Plänterwald                  0.003850\n",
       "neighbourhood_cleansed_Regierungsviertel            0.003842\n",
       "neighbourhood_cleansed_Reuterstraße                 0.003815\n",
       "zipcode_zip_10559                                   0.003788\n",
       "neighbourhood_cleansed_Britz                        0.003767\n",
       "zipcode_zip_12161                                   0.003764\n",
       "price_extra_fees_sqrt                               0.003748\n",
       "neighbourhood_cleansed_Prenzlauer Berg Ost          0.003730\n",
       "neighbourhood_cleansed_Volkspark Wilmersdorf        0.003716\n",
       "neighbourhood_cleansed_Alt  Treptow                 0.003683\n",
       "first_review_days_sqrt                              0.003681\n",
       "zipcode_zip_10715                                   0.003669\n",
       "zipcode_zip_12347                                   0.003664\n",
       "zipcode_zip_10997                                   0.003663\n",
       "am_balcony                                          0.003648\n",
       "cancellation_policy_moderate                        0.003643\n",
       "cancellation_policy_strict                          0.003635\n",
       "host_response_time_within a day                     0.003629\n",
       "zipcode_zip_10627                                   0.003623\n",
       "last_review_days_sqrt                               0.003619\n",
       "am_pets_allowed                                     0.003606\n",
       "host_response_time_within an hour                   0.003597\n",
       "text_len_sqrt                                       0.003577\n",
       "am_child_friendly                                   0.003555\n",
       "host_is_superhost                                   0.003531\n",
       "maximum_nights                                      0.003530\n",
       "host_acceptance_rate                                0.003523\n",
       "neighbourhood_cleansed_Schöneberg-Süd               0.003509\n",
       "number_of_reviews_ltm_log                           0.003498\n",
       "neighbourhood_cleansed_Drakestr.                    0.003492\n",
       "zipcode_zip_10781                                   0.003480\n",
       "neighbourhood_cleansed_Grunewald                    0.003445\n",
       "zipcode_zip_10969                                   0.003388\n",
       "zipcode_zip_10365                                   0.003382\n",
       "zipcode_zip_10317                                   0.003353\n",
       "am_smoking_allowed                                  0.003310\n",
       "neighbourhood_cleansed_Tiergarten Süd               0.003217\n",
       "zipcode_zip_14197                                   0.003181\n",
       "neighbourhood_cleansed_Halensee                     0.003176\n",
       "instant_bookable                                    0.003075\n",
       "zipcode_zip_13357                                   0.003074\n",
       "zipcode_zip_10963                                   0.003046\n",
       "zipcode_zip_13355                                   0.002945\n",
       "neighbourhood_cleansed_Frankfurter Allee Nord       0.002911\n",
       "neighbourhood_cleansed_Baumschulenweg               0.002856\n",
       "zipcode_zip_10961                                   0.002832\n",
       "zipcode_zip_12099                                   0.002758\n",
       "neighbourhood_cleansed_Schloß Charlottenburg        0.002734\n",
       "zipcode_zip_10625                                   0.002596\n",
       "zipcode_zip_12101                                   0.002596\n",
       "neighbourhood_cleansed_Neue Kantstraße              0.002455\n",
       "zipcode_zip_10367                                   0.002427\n",
       "zipcode_zip_10829                                   0.002406\n",
       "neighbourhood_cleansed_Pankow Zentrum               0.002389\n",
       "zipcode_zip_10823                                   0.001947\n",
       "zipcode_zip_10711                                   0.001921\n",
       "zipcode_zip_10827                                   0.001878\n",
       "property_type_Bed and breakfast                     0.001812\n",
       "zipcode_zip_10318                                   0.001785\n",
       "zipcode_zip_10315                                   0.001756\n",
       "neighbourhood_cleansed_Blankenfelde/Niederschön...  0.001691\n",
       "neighbourhood_cleansed_Barstraße                    0.001523\n",
       "neighbourhood_cleansed_Karlshorst                   0.001491\n",
       "zipcode_zip_13349                                   0.001258\n",
       "zipcode_zip_12437                                   0.000839\n",
       "zipcode_zip_13156                                   0.000000\n",
       "zipcode_zip_13409                                   0.000000\n",
       "zipcode_zip_10713                                   0.000000\n",
       "property_type_Unique space                          0.000000"
      ]
     },
     "execution_count": 475,
     "metadata": {},
     "output_type": "execute_result"
    }
   ],
   "source": [
    "# Get and print feature importances\n",
    "grid_xgb_clf_fi = feat_importances(grid_xgb_clf, cv_model=True, named_steps='xgb_clf', column_names=column_names)\n",
    "grid_xgb_clf_fi"
   ]
  },
  {
   "cell_type": "markdown",
   "metadata": {},
   "source": [
    "### Model Evaluation"
   ]
  },
  {
   "cell_type": "code",
   "execution_count": 477,
   "metadata": {
    "code_folding": [
     0
    ]
   },
   "outputs": [
    {
     "name": "stdout",
     "output_type": "stream",
     "text": [
      "Accuracy: 1.00\n",
      "Recall: 1.00\n",
      "Precision: 1.00\n",
      "F1 Score: 1.00\n",
      "Confusion Matrix: \n",
      "[[ 307    0    0    0    0    0    0    0    0    0    0]\n",
      " [   0 1057    0    0    0    0    0    0    0    0    0]\n",
      " [   0    0 1353    0    0    0    0    0    0    0    0]\n",
      " [   0    0    0 1276    0    0    0    0    0    0    0]\n",
      " [   0    0    0    0  926    0    0    0    0    0    0]\n",
      " [   0    0    0    0    0  817    0    0    0    0    0]\n",
      " [   0    0    0    0    0    0  665    0    0    0    0]\n",
      " [   0    0    0    0    0    0    0  449    0    0    0]\n",
      " [   0    0    0    0    0    0    0    0  457    0    0]\n",
      " [   0    0    0    0    0    0    0    0    0  786    0]\n",
      " [   0    0    0    0    0    0    0    0    0    0  397]]\n"
     ]
    }
   ],
   "source": [
    "# Calculating the accuracy, recall and precision for the test set with the best model\n",
    "y_pred_xgb_clf = best_model_grid_xgb_clf.predict(X_train_prep)\n",
    "\n",
    "print(\"Accuracy: {:.2f}\".format(accuracy_score(y_train, y_pred_xgb_clf)))\n",
    "print(\"Recall: {:.2f}\".format(recall_score(y_train, y_pred_xgb_clf, average='weighted')))\n",
    "print(\"Precision: {:.2f}\".format(precision_score(y_train, y_pred_xgb_clf, average='weighted')))\n",
    "print(\"F1 Score: {:.2f}\".format(f1_score(y_train, y_pred_xgb_clf, average='weighted')))\n",
    "#print(\"ROC/AUC: {:.2f}\".format(roc_auc_score(y_train, y_pred_lr_clf, multi_class='ovr')))\n",
    "print(\"Confusion Matrix: \\n\" + str(confusion_matrix(y_train, y_pred_xgb_clf)))"
   ]
  },
  {
   "cell_type": "code",
   "execution_count": null,
   "metadata": {},
   "outputs": [],
   "source": []
  },
  {
   "cell_type": "markdown",
   "metadata": {},
   "source": [
    "## !!! NN Model 1: TBD"
   ]
  },
  {
   "cell_type": "code",
   "execution_count": null,
   "metadata": {},
   "outputs": [],
   "source": []
  },
  {
   "cell_type": "code",
   "execution_count": null,
   "metadata": {},
   "outputs": [],
   "source": []
  },
  {
   "cell_type": "code",
   "execution_count": null,
   "metadata": {},
   "outputs": [],
   "source": []
  },
  {
   "cell_type": "markdown",
   "metadata": {},
   "source": [
    "# Modeling: Regression (\"price_log\")"
   ]
  },
  {
   "cell_type": "markdown",
   "metadata": {},
   "source": [
    "## Apply Regression Models"
   ]
  },
  {
   "cell_type": "code",
   "execution_count": 497,
   "metadata": {
    "code_folding": [
     0
    ],
    "scrolled": true
   },
   "outputs": [
    {
     "name": "stdout",
     "output_type": "stream",
     "text": [
      "You are currently using \u001b[1mPRICE_LOG\u001b[0m as the target and \u001b[1mneg_median_absolute_error\u001b[0m for scoring to predict prices for \u001b[1mberlin\u001b[0m on \u001b[1m2020-03-17\u001b[0m\n",
      "\n",
      "The target variable y is set to \u001b[1mPRICE_LOG\u001b[0m\n",
      "\n",
      "You are currently using these features for its prediction:\n",
      "\u001b[1m['accommodates', 'bathrooms_log', 'host_is_superhost', 'property_type', 'room_type', 'zipcode']\u001b[0m\n",
      "\n"
     ]
    }
   ],
   "source": [
    "# Print current setting for TARGET\n",
    "print_target_setting()"
   ]
  },
  {
   "cell_type": "code",
   "execution_count": 498,
   "metadata": {
    "code_folding": [
     0
    ]
   },
   "outputs": [],
   "source": [
    "# Select models for comparison\n",
    "models = {\n",
    "    'Baseline':\n",
    "    DummyRegressor(strategy='mean'),\n",
    "    'LinReg':\n",
    "    LinearRegression(),\n",
    "    'Passive Aggressive':\n",
    "    PassiveAggressiveRegressor(),\n",
    "    #        'RANSAC' : RANSACRegressor(),\n",
    "    'ElasticNet':\n",
    "    ElasticNet(),\n",
    "    'Stochastic Gradient Descent':\n",
    "    SGDRegressor(max_iter=1000, tol=1e-3),\n",
    "    'Decision Tree':\n",
    "    DecisionTreeRegressor(criterion=\"mse\",\n",
    "                          max_depth=3,\n",
    "                          random_state=random_state),\n",
    "    'Random Forest':\n",
    "    RandomForestRegressor(random_state=random_state,\n",
    "                          max_features='sqrt',\n",
    "                          n_jobs=-1),\n",
    "    'Gradient Boost':\n",
    "    GradientBoostingRegressor(random_state=random_state),\n",
    "    'XGBoost':\n",
    "    XGBRegressor(),\n",
    "    'AdaBoost':\n",
    "    AdaBoostRegressor(random_state=random_state),\n",
    "    'SVR':\n",
    "    SVR()\n",
    "}"
   ]
  },
  {
   "cell_type": "code",
   "execution_count": 502,
   "metadata": {
    "code_folding": [
     0
    ]
   },
   "outputs": [
    {
     "name": "stderr",
     "output_type": "stream",
     "text": [
      "[Parallel(n_jobs=-1)]: Using backend LokyBackend with 4 concurrent workers.\n",
      "[Parallel(n_jobs=-1)]: Done   2 out of   5 | elapsed:    0.1s remaining:    0.2s\n",
      "[Parallel(n_jobs=-1)]: Done   5 out of   5 | elapsed:    0.1s finished\n",
      "[Parallel(n_jobs=-1)]: Using backend LokyBackend with 4 concurrent workers.\n",
      "[Parallel(n_jobs=-1)]: Done   2 out of   5 | elapsed:    0.1s remaining:    0.2s\n",
      "[Parallel(n_jobs=-1)]: Done   5 out of   5 | elapsed:    0.2s finished\n",
      "[Parallel(n_jobs=-1)]: Using backend LokyBackend with 4 concurrent workers.\n",
      "[Parallel(n_jobs=-1)]: Done   2 out of   5 | elapsed:    0.1s remaining:    0.1s\n",
      "[Parallel(n_jobs=-1)]: Done   5 out of   5 | elapsed:    0.1s finished\n",
      "[Parallel(n_jobs=-1)]: Using backend LokyBackend with 4 concurrent workers.\n",
      "[Parallel(n_jobs=-1)]: Done   2 out of   5 | elapsed:    0.1s remaining:    0.1s\n",
      "[Parallel(n_jobs=-1)]: Done   5 out of   5 | elapsed:    0.1s finished\n",
      "[Parallel(n_jobs=-1)]: Using backend LokyBackend with 4 concurrent workers.\n",
      "[Parallel(n_jobs=-1)]: Done   2 out of   5 | elapsed:    0.2s remaining:    0.2s\n",
      "[Parallel(n_jobs=-1)]: Done   5 out of   5 | elapsed:    0.3s finished\n",
      "[Parallel(n_jobs=-1)]: Using backend LokyBackend with 4 concurrent workers.\n",
      "[Parallel(n_jobs=-1)]: Done   2 out of   5 | elapsed:    0.1s remaining:    0.1s\n",
      "[Parallel(n_jobs=-1)]: Done   5 out of   5 | elapsed:    0.1s finished\n",
      "[Parallel(n_jobs=-1)]: Using backend LokyBackend with 4 concurrent workers.\n",
      "[Parallel(n_jobs=-1)]: Done   2 out of   5 | elapsed:    4.1s remaining:    6.1s\n",
      "[Parallel(n_jobs=-1)]: Done   5 out of   5 | elapsed:    5.2s finished\n",
      "[Parallel(n_jobs=-1)]: Using backend LokyBackend with 4 concurrent workers.\n",
      "[Parallel(n_jobs=-1)]: Done   2 out of   5 | elapsed:    0.7s remaining:    1.0s\n",
      "[Parallel(n_jobs=-1)]: Done   5 out of   5 | elapsed:    1.0s finished\n",
      "[Parallel(n_jobs=-1)]: Using backend LokyBackend with 4 concurrent workers.\n",
      "[Parallel(n_jobs=-1)]: Done   2 out of   5 | elapsed:    0.8s remaining:    1.1s\n",
      "[Parallel(n_jobs=-1)]: Done   5 out of   5 | elapsed:    1.1s finished\n",
      "[Parallel(n_jobs=-1)]: Using backend LokyBackend with 4 concurrent workers.\n",
      "[Parallel(n_jobs=-1)]: Done   2 out of   5 | elapsed:    0.3s remaining:    0.4s\n",
      "[Parallel(n_jobs=-1)]: Done   5 out of   5 | elapsed:    0.4s finished\n",
      "[Parallel(n_jobs=-1)]: Using backend LokyBackend with 4 concurrent workers.\n",
      "[Parallel(n_jobs=-1)]: Done   2 out of   5 | elapsed:    4.1s remaining:    6.1s\n",
      "[Parallel(n_jobs=-1)]: Done   5 out of   5 | elapsed:    5.8s finished\n"
     ]
    },
    {
     "data": {
      "text/html": [
       "<div>\n",
       "<style scoped>\n",
       "    .dataframe tbody tr th:only-of-type {\n",
       "        vertical-align: middle;\n",
       "    }\n",
       "\n",
       "    .dataframe tbody tr th {\n",
       "        vertical-align: top;\n",
       "    }\n",
       "\n",
       "    .dataframe thead th {\n",
       "        text-align: right;\n",
       "    }\n",
       "</style>\n",
       "<table border=\"1\" class=\"dataframe\">\n",
       "  <thead>\n",
       "    <tr style=\"text-align: right;\">\n",
       "      <th></th>\n",
       "      <th>Model</th>\n",
       "      <th>MSE</th>\n",
       "      <th>RMSE</th>\n",
       "      <th>R2</th>\n",
       "      <th>MAE</th>\n",
       "      <th>MAPE</th>\n",
       "      <th>MAPE median</th>\n",
       "    </tr>\n",
       "  </thead>\n",
       "  <tbody>\n",
       "    <tr>\n",
       "      <th>0</th>\n",
       "      <td>Baseline</td>\n",
       "      <td>0.33</td>\n",
       "      <td>0.57</td>\n",
       "      <td>-0.00</td>\n",
       "      <td>0.46</td>\n",
       "      <td>11.766269</td>\n",
       "      <td>9.480414</td>\n",
       "    </tr>\n",
       "    <tr>\n",
       "      <th>1</th>\n",
       "      <td>LinReg</td>\n",
       "      <td>0.18</td>\n",
       "      <td>0.42</td>\n",
       "      <td>0.47</td>\n",
       "      <td>0.32</td>\n",
       "      <td>8.189259</td>\n",
       "      <td>6.350431</td>\n",
       "    </tr>\n",
       "    <tr>\n",
       "      <th>2</th>\n",
       "      <td>Passive Aggressive</td>\n",
       "      <td>0.41</td>\n",
       "      <td>0.64</td>\n",
       "      <td>-0.26</td>\n",
       "      <td>0.49</td>\n",
       "      <td>12.554444</td>\n",
       "      <td>9.810969</td>\n",
       "    </tr>\n",
       "    <tr>\n",
       "      <th>3</th>\n",
       "      <td>ElasticNet</td>\n",
       "      <td>0.33</td>\n",
       "      <td>0.57</td>\n",
       "      <td>-0.00</td>\n",
       "      <td>0.46</td>\n",
       "      <td>11.766269</td>\n",
       "      <td>9.480414</td>\n",
       "    </tr>\n",
       "    <tr>\n",
       "      <th>4</th>\n",
       "      <td>Stochastic Gradient Descent</td>\n",
       "      <td>0.45</td>\n",
       "      <td>0.67</td>\n",
       "      <td>-0.36</td>\n",
       "      <td>0.45</td>\n",
       "      <td>11.297791</td>\n",
       "      <td>7.983731</td>\n",
       "    </tr>\n",
       "    <tr>\n",
       "      <th>5</th>\n",
       "      <td>Decision Tree</td>\n",
       "      <td>0.20</td>\n",
       "      <td>0.45</td>\n",
       "      <td>0.38</td>\n",
       "      <td>0.34</td>\n",
       "      <td>8.801486</td>\n",
       "      <td>6.853865</td>\n",
       "    </tr>\n",
       "    <tr>\n",
       "      <th>6</th>\n",
       "      <td>Random Forest</td>\n",
       "      <td>0.17</td>\n",
       "      <td>0.42</td>\n",
       "      <td>0.47</td>\n",
       "      <td>0.32</td>\n",
       "      <td>8.208741</td>\n",
       "      <td>6.412036</td>\n",
       "    </tr>\n",
       "    <tr>\n",
       "      <th>7</th>\n",
       "      <td>Gradient Boost</td>\n",
       "      <td>0.17</td>\n",
       "      <td>0.41</td>\n",
       "      <td>0.49</td>\n",
       "      <td>0.32</td>\n",
       "      <td>8.083885</td>\n",
       "      <td>6.310400</td>\n",
       "    </tr>\n",
       "    <tr>\n",
       "      <th>8</th>\n",
       "      <td>XGBoost</td>\n",
       "      <td>0.17</td>\n",
       "      <td>0.41</td>\n",
       "      <td>0.49</td>\n",
       "      <td>0.32</td>\n",
       "      <td>8.101294</td>\n",
       "      <td>6.337200</td>\n",
       "    </tr>\n",
       "    <tr>\n",
       "      <th>9</th>\n",
       "      <td>AdaBoost</td>\n",
       "      <td>0.20</td>\n",
       "      <td>0.45</td>\n",
       "      <td>0.38</td>\n",
       "      <td>0.35</td>\n",
       "      <td>8.917254</td>\n",
       "      <td>7.012431</td>\n",
       "    </tr>\n",
       "    <tr>\n",
       "      <th>10</th>\n",
       "      <td>SVR</td>\n",
       "      <td>0.17</td>\n",
       "      <td>0.41</td>\n",
       "      <td>0.50</td>\n",
       "      <td>0.31</td>\n",
       "      <td>7.943683</td>\n",
       "      <td>6.219377</td>\n",
       "    </tr>\n",
       "  </tbody>\n",
       "</table>\n",
       "</div>"
      ],
      "text/plain": [
       "                          Model   MSE  RMSE     R2   MAE       MAPE  \\\n",
       "0                      Baseline  0.33  0.57  -0.00  0.46  11.766269   \n",
       "1                        LinReg  0.18  0.42   0.47  0.32   8.189259   \n",
       "2            Passive Aggressive  0.41  0.64  -0.26  0.49  12.554444   \n",
       "3                    ElasticNet  0.33  0.57  -0.00  0.46  11.766269   \n",
       "4   Stochastic Gradient Descent  0.45  0.67  -0.36  0.45  11.297791   \n",
       "5                 Decision Tree  0.20  0.45   0.38  0.34   8.801486   \n",
       "6                 Random Forest  0.17  0.42   0.47  0.32   8.208741   \n",
       "7                Gradient Boost  0.17  0.41   0.49  0.32   8.083885   \n",
       "8                       XGBoost  0.17  0.41   0.49  0.32   8.101294   \n",
       "9                      AdaBoost  0.20  0.45   0.38  0.35   8.917254   \n",
       "10                          SVR  0.17  0.41   0.50  0.31   7.943683   \n",
       "\n",
       "    MAPE median  \n",
       "0      9.480414  \n",
       "1      6.350431  \n",
       "2      9.810969  \n",
       "3      9.480414  \n",
       "4      7.983731  \n",
       "5      6.853865  \n",
       "6      6.412036  \n",
       "7      6.310400  \n",
       "8      6.337200  \n",
       "9      7.012431  \n",
       "10     6.219377  "
      ]
     },
     "execution_count": 502,
     "metadata": {},
     "output_type": "execute_result"
    }
   ],
   "source": [
    "# Calculate and display results\n",
    "results = pd.DataFrame(columns=['Model', 'MSE', 'RMSE', 'R2', 'MAE', 'MAPE', 'MAPE median'])\n",
    "i = 0\n",
    "for m in models.items():\n",
    "    # Building a full pipeline with our preprocessor and a Classifier\n",
    "    pipe = Pipeline([('preprocessor', preprocessor), (m[0], m[1])])\n",
    "    # Making predictions on the training set using cross validation as well as calculating the probabilities\n",
    "    y_train_pred = cross_val_predict(pipe,\n",
    "                                     X_train,\n",
    "                                     y_train.values.ravel(),\n",
    "                                     cv=5,\n",
    "                                     verbose=4,\n",
    "                                     n_jobs=-1)\n",
    "    # Calculating metrices\n",
    "    temp = pd.DataFrame(\n",
    "        {\n",
    "            'Model':\n",
    "            m[0],\n",
    "            'MSE':\n",
    "            \"{:.2f}\".format(mean_squared_error(y_train, y_train_pred)),\n",
    "            'RMSE':\n",
    "            \"{:.2f}\".format(\n",
    "                mean_squared_error(y_train, y_train_pred, squared=False)),\n",
    "            'R2':\n",
    "            \"{:.2f}\".format(r2_score(y_train, y_train_pred)),\n",
    "            'MAE':\n",
    "            \"{:.2f}\".format(mean_absolute_error(y_train, y_train_pred)),\n",
    "            'MAPE': mean_absolute_percentage_error(y_train, y_train_pred),\n",
    "            'MAPE median': median_absolute_percentage_error(y_train, y_train_pred)\n",
    "        },\n",
    "        index=[i])\n",
    "    i += 1\n",
    "    results = pd.concat([results, temp])\n",
    "results"
   ]
  },
  {
   "cell_type": "markdown",
   "metadata": {},
   "source": [
    "## Reg Model 1: XGBoost"
   ]
  },
  {
   "cell_type": "code",
   "execution_count": 503,
   "metadata": {
    "code_folding": [
     0
    ]
   },
   "outputs": [],
   "source": [
    "# Create pipeline to use in RandomizedSearchCV and GridSearchCV\n",
    "pipeline_xgb_reg = Pipeline([('preprocessor', preprocessor),\n",
    "                             ('xgb_reg',\n",
    "                              XGBRegressor(n_estimators=184,\n",
    "                                           learning_rate=0.05,\n",
    "                                           random_state=random_state,\n",
    "                                           max_depth=8,\n",
    "                                           bootstrap=True,\n",
    "                                           max_features=20,\n",
    "                                           scoring=scoring,\n",
    "                                           n_jobs=-1))])"
   ]
  },
  {
   "cell_type": "markdown",
   "metadata": {},
   "source": [
    "### Hyperparameter Pre-Tuning with RandomizedSearchCV"
   ]
  },
  {
   "cell_type": "code",
   "execution_count": 504,
   "metadata": {
    "code_folding": [
     0
    ],
    "scrolled": true
   },
   "outputs": [
    {
     "data": {
      "text/plain": [
       "dict_keys(['base_score', 'booster', 'colsample_bylevel', 'colsample_bynode', 'colsample_bytree', 'gamma', 'importance_type', 'learning_rate', 'max_delta_step', 'max_depth', 'min_child_weight', 'missing', 'n_estimators', 'n_jobs', 'nthread', 'objective', 'random_state', 'reg_alpha', 'reg_lambda', 'scale_pos_weight', 'seed', 'silent', 'subsample', 'verbosity'])"
      ]
     },
     "execution_count": 504,
     "metadata": {},
     "output_type": "execute_result"
    }
   ],
   "source": [
    "# Display possible hyperparameters for XGBoost Regressor\n",
    "test_xgb_reg = XGBRegressor()\n",
    "test_xgb_reg.get_params().keys()"
   ]
  },
  {
   "cell_type": "markdown",
   "metadata": {},
   "source": [
    "**Default values for XGBRegressor** (as base for hyperparameter search):\n",
    "\n",
    "max_depth=3, learning_rate=0.1, n_estimators=100, verbosity=1, silent=None, objective='reg:linear', booster='gbtree', n_jobs=1, nthread=None, gamma=0, min_child_weight=1, max_delta_step=0, subsample=1, colsample_bytree=1, colsample_bylevel=1, colsample_bynode=1, reg_alpha=0, reg_lambda=1, scale_pos_weight=1, base_score=0.5, random_state=0, seed=None, missing=None, importance_type='gain'"
   ]
  },
  {
   "cell_type": "code",
   "execution_count": 505,
   "metadata": {
    "code_folding": [
     0
    ]
   },
   "outputs": [],
   "source": [
    "# Define hyperparameter distribution\n",
    "param_distribs_xgb_reg = {\n",
    "    'xgb_reg__n_estimators': randint(low=10, high=200),\n",
    "    'xgb_reg__max_depth': randint(low=1, high=10),\n",
    "    'xgb_reg__learning_rate': [0.01, 0.02, 0.05, 0.1, 0.2, 0.3]\n",
    "}"
   ]
  },
  {
   "cell_type": "code",
   "execution_count": 506,
   "metadata": {
    "code_folding": [
     0
    ]
   },
   "outputs": [
    {
     "name": "stdout",
     "output_type": "stream",
     "text": [
      "Fitting 5 folds for each of 10 candidates, totalling 50 fits\n"
     ]
    },
    {
     "name": "stderr",
     "output_type": "stream",
     "text": [
      "[Parallel(n_jobs=-1)]: Using backend LokyBackend with 4 concurrent workers.\n",
      "[Parallel(n_jobs=-1)]: Done  17 tasks      | elapsed:    8.4s\n",
      "[Parallel(n_jobs=-1)]: Done  50 out of  50 | elapsed:   17.1s finished\n"
     ]
    },
    {
     "name": "stdout",
     "output_type": "stream",
     "text": [
      "[23:55:00] WARNING: src/objective/regression_obj.cu:152: reg:linear is now deprecated in favor of reg:squarederror.\n"
     ]
    }
   ],
   "source": [
    "# Create and fit RandomizedSearchCV, save \"best_model\"\n",
    "rnd_xgb_reg = RandomizedSearchCV(pipeline_xgb_reg,\n",
    "                                 param_distribs_xgb_reg,\n",
    "                                 cv=5,\n",
    "                                 scoring=scoring,\n",
    "                                 n_iter=10,\n",
    "                                 return_train_score=True,\n",
    "                                 verbose=4,\n",
    "                                 n_jobs=-1,\n",
    "                                 random_state=random_state)\n",
    "\n",
    "best_model_rnd_xgb_reg = rnd_xgb_reg.fit(X_train, y_train)"
   ]
  },
  {
   "cell_type": "code",
   "execution_count": 507,
   "metadata": {
    "code_folding": [
     0
    ]
   },
   "outputs": [
    {
     "name": "stdout",
     "output_type": "stream",
     "text": [
      "Best score:\n",
      "-0.25\n",
      "Best parameters:\n",
      "{'xgb_reg__learning_rate': 0.1, 'xgb_reg__max_depth': 8, 'xgb_reg__n_estimators': 198}\n"
     ]
    }
   ],
   "source": [
    "# Display best_score_, best_params_ and best_estimator_\n",
    "print('Best score:\\n{:.2f}'.format(rnd_xgb_reg.best_score_))\n",
    "print(\"Best parameters:\\n{}\".format(rnd_xgb_reg.best_params_))\n",
    "#print(\"Best estimator:\\n{}\".format(grid_rf_reg.best_estimator_))"
   ]
  },
  {
   "cell_type": "markdown",
   "metadata": {},
   "source": [
    "### Hyperparameter Tuning with GridSearchCV"
   ]
  },
  {
   "cell_type": "code",
   "execution_count": 508,
   "metadata": {
    "code_folding": []
   },
   "outputs": [],
   "source": [
    "# Define hyperparameter grid\n",
    "param_grid_xgb_reg = {\n",
    "#    'xgb_reg__bootstrap': [True, False],\n",
    "#    'xgb_reg__n_estimators': [190, 230, 290],\n",
    "    'xgb_reg__max_features': [15, 30, 45],\n",
    "#    'xgb_reg__max_depth': [6, 8, 10],\n",
    "    'xgb_reg__learning_rate': [0.05, 0.1, 0.2]\n",
    "}"
   ]
  },
  {
   "cell_type": "code",
   "execution_count": 509,
   "metadata": {
    "code_folding": [
     0
    ]
   },
   "outputs": [
    {
     "name": "stdout",
     "output_type": "stream",
     "text": [
      "Fitting 5 folds for each of 9 candidates, totalling 45 fits\n"
     ]
    },
    {
     "name": "stderr",
     "output_type": "stream",
     "text": [
      "[Parallel(n_jobs=-1)]: Using backend LokyBackend with 4 concurrent workers.\n",
      "[Parallel(n_jobs=-1)]: Done  17 tasks      | elapsed:   11.5s\n",
      "[Parallel(n_jobs=-1)]: Done  45 out of  45 | elapsed:   26.0s finished\n"
     ]
    },
    {
     "name": "stdout",
     "output_type": "stream",
     "text": [
      "[23:56:04] WARNING: src/objective/regression_obj.cu:152: reg:linear is now deprecated in favor of reg:squarederror.\n"
     ]
    }
   ],
   "source": [
    "# Create and fit GridSearchCV, save \"best_model\"\n",
    "grid_xgb_reg = GridSearchCV(pipeline_xgb_reg,\n",
    "                            param_grid_xgb_reg,\n",
    "                            cv=5,\n",
    "                            scoring=scoring,\n",
    "                            return_train_score=True,\n",
    "                            verbose=4,\n",
    "                            n_jobs=-1)\n",
    "\n",
    "grid_xgb_reg.fit(X_train, y_train)\n",
    "best_model_xgb_reg = grid_xgb_reg.best_estimator_"
   ]
  },
  {
   "cell_type": "code",
   "execution_count": 510,
   "metadata": {
    "code_folding": [
     0
    ]
   },
   "outputs": [
    {
     "name": "stdout",
     "output_type": "stream",
     "text": [
      "Best score:\n",
      "-0.25\n",
      "Best parameters:\n",
      "{'xgb_reg__learning_rate': 0.1, 'xgb_reg__max_features': 15}\n"
     ]
    }
   ],
   "source": [
    "# Display best_score_, best_params_ and best_estimator_\n",
    "print('Best score:\\n{:.2f}'.format(grid_xgb_reg.best_score_))\n",
    "print(\"Best parameters:\\n{}\".format(grid_xgb_reg.best_params_))\n",
    "#print(\"Best estimator:\\n{}\".format(grid_rf_reg.best_estimator_))"
   ]
  },
  {
   "cell_type": "markdown",
   "metadata": {},
   "source": [
    "### Feature Importances"
   ]
  },
  {
   "cell_type": "code",
   "execution_count": 512,
   "metadata": {
    "code_folding": [
     0
    ],
    "scrolled": true
   },
   "outputs": [
    {
     "data": {
      "text/html": [
       "<div>\n",
       "<style scoped>\n",
       "    .dataframe tbody tr th:only-of-type {\n",
       "        vertical-align: middle;\n",
       "    }\n",
       "\n",
       "    .dataframe tbody tr th {\n",
       "        vertical-align: top;\n",
       "    }\n",
       "\n",
       "    .dataframe thead th {\n",
       "        text-align: right;\n",
       "    }\n",
       "</style>\n",
       "<table border=\"1\" class=\"dataframe\">\n",
       "  <thead>\n",
       "    <tr style=\"text-align: right;\">\n",
       "      <th></th>\n",
       "      <th>weight</th>\n",
       "    </tr>\n",
       "  </thead>\n",
       "  <tbody>\n",
       "    <tr>\n",
       "      <th>room_type_Private room</th>\n",
       "      <td>0.103239</td>\n",
       "    </tr>\n",
       "    <tr>\n",
       "      <th>zipcode_zip_13359</th>\n",
       "      <td>0.036468</td>\n",
       "    </tr>\n",
       "    <tr>\n",
       "      <th>zipcode_zip_10117</th>\n",
       "      <td>0.034721</td>\n",
       "    </tr>\n",
       "    <tr>\n",
       "      <th>room_type_Shared room</th>\n",
       "      <td>0.032740</td>\n",
       "    </tr>\n",
       "    <tr>\n",
       "      <th>zipcode_zip_10179</th>\n",
       "      <td>0.032430</td>\n",
       "    </tr>\n",
       "    <tr>\n",
       "      <th>room_type_Hotel room</th>\n",
       "      <td>0.024847</td>\n",
       "    </tr>\n",
       "    <tr>\n",
       "      <th>zipcode_zip_10119</th>\n",
       "      <td>0.022948</td>\n",
       "    </tr>\n",
       "    <tr>\n",
       "      <th>zipcode_zip_10557</th>\n",
       "      <td>0.022343</td>\n",
       "    </tr>\n",
       "    <tr>\n",
       "      <th>zipcode_zip_10178</th>\n",
       "      <td>0.021019</td>\n",
       "    </tr>\n",
       "    <tr>\n",
       "      <th>zipcode_zip_10969</th>\n",
       "      <td>0.019363</td>\n",
       "    </tr>\n",
       "    <tr>\n",
       "      <th>zipcode_zip_10439</th>\n",
       "      <td>0.017651</td>\n",
       "    </tr>\n",
       "    <tr>\n",
       "      <th>zipcode_zip_10997</th>\n",
       "      <td>0.017341</td>\n",
       "    </tr>\n",
       "    <tr>\n",
       "      <th>zipcode_zip_10999</th>\n",
       "      <td>0.017001</td>\n",
       "    </tr>\n",
       "    <tr>\n",
       "      <th>zipcode_zip_10829</th>\n",
       "      <td>0.016048</td>\n",
       "    </tr>\n",
       "    <tr>\n",
       "      <th>zipcode_zip_10435</th>\n",
       "      <td>0.015815</td>\n",
       "    </tr>\n",
       "    <tr>\n",
       "      <th>zipcode_zip_10711</th>\n",
       "      <td>0.015600</td>\n",
       "    </tr>\n",
       "    <tr>\n",
       "      <th>property_type_Boutique hotel</th>\n",
       "      <td>0.014515</td>\n",
       "    </tr>\n",
       "    <tr>\n",
       "      <th>zipcode_zip_10785</th>\n",
       "      <td>0.013651</td>\n",
       "    </tr>\n",
       "    <tr>\n",
       "      <th>zipcode_zip_other</th>\n",
       "      <td>0.013577</td>\n",
       "    </tr>\n",
       "    <tr>\n",
       "      <th>zipcode_zip_13353</th>\n",
       "      <td>0.013514</td>\n",
       "    </tr>\n",
       "    <tr>\n",
       "      <th>zipcode_zip_10245</th>\n",
       "      <td>0.013065</td>\n",
       "    </tr>\n",
       "    <tr>\n",
       "      <th>zipcode_zip_13407</th>\n",
       "      <td>0.012828</td>\n",
       "    </tr>\n",
       "    <tr>\n",
       "      <th>zipcode_zip_10405</th>\n",
       "      <td>0.012581</td>\n",
       "    </tr>\n",
       "    <tr>\n",
       "      <th>zipcode_zip_10719</th>\n",
       "      <td>0.011769</td>\n",
       "    </tr>\n",
       "    <tr>\n",
       "      <th>zipcode_zip_10437</th>\n",
       "      <td>0.011552</td>\n",
       "    </tr>\n",
       "    <tr>\n",
       "      <th>zipcode_zip_13349</th>\n",
       "      <td>0.011184</td>\n",
       "    </tr>\n",
       "    <tr>\n",
       "      <th>zipcode_zip_10555</th>\n",
       "      <td>0.010972</td>\n",
       "    </tr>\n",
       "    <tr>\n",
       "      <th>zipcode_zip_10823</th>\n",
       "      <td>0.010630</td>\n",
       "    </tr>\n",
       "    <tr>\n",
       "      <th>zipcode_zip_10787</th>\n",
       "      <td>0.009906</td>\n",
       "    </tr>\n",
       "    <tr>\n",
       "      <th>zipcode_zip_12047</th>\n",
       "      <td>0.009550</td>\n",
       "    </tr>\n",
       "    <tr>\n",
       "      <th>zipcode_zip_13409</th>\n",
       "      <td>0.009376</td>\n",
       "    </tr>\n",
       "    <tr>\n",
       "      <th>zipcode_zip_10365</th>\n",
       "      <td>0.009326</td>\n",
       "    </tr>\n",
       "    <tr>\n",
       "      <th>zipcode_zip_14057</th>\n",
       "      <td>0.009174</td>\n",
       "    </tr>\n",
       "    <tr>\n",
       "      <th>zipcode_zip_12157</th>\n",
       "      <td>0.008876</td>\n",
       "    </tr>\n",
       "    <tr>\n",
       "      <th>zipcode_zip_13189</th>\n",
       "      <td>0.008692</td>\n",
       "    </tr>\n",
       "    <tr>\n",
       "      <th>zipcode_zip_12103</th>\n",
       "      <td>0.008627</td>\n",
       "    </tr>\n",
       "    <tr>\n",
       "      <th>zipcode_zip_10967</th>\n",
       "      <td>0.008255</td>\n",
       "    </tr>\n",
       "    <tr>\n",
       "      <th>zipcode_zip_13347</th>\n",
       "      <td>0.008195</td>\n",
       "    </tr>\n",
       "    <tr>\n",
       "      <th>zipcode_zip_12099</th>\n",
       "      <td>0.008183</td>\n",
       "    </tr>\n",
       "    <tr>\n",
       "      <th>zipcode_zip_12053</th>\n",
       "      <td>0.008130</td>\n",
       "    </tr>\n",
       "    <tr>\n",
       "      <th>zipcode_zip_10589</th>\n",
       "      <td>0.008000</td>\n",
       "    </tr>\n",
       "    <tr>\n",
       "      <th>zipcode_zip_10553</th>\n",
       "      <td>0.007982</td>\n",
       "    </tr>\n",
       "    <tr>\n",
       "      <th>zipcode_zip_12059</th>\n",
       "      <td>0.007975</td>\n",
       "    </tr>\n",
       "    <tr>\n",
       "      <th>bathrooms_log</th>\n",
       "      <td>0.007827</td>\n",
       "    </tr>\n",
       "    <tr>\n",
       "      <th>zipcode_zip_13351</th>\n",
       "      <td>0.007655</td>\n",
       "    </tr>\n",
       "    <tr>\n",
       "      <th>zipcode_zip_13086</th>\n",
       "      <td>0.007527</td>\n",
       "    </tr>\n",
       "    <tr>\n",
       "      <th>accommodates</th>\n",
       "      <td>0.007507</td>\n",
       "    </tr>\n",
       "    <tr>\n",
       "      <th>zipcode_zip_10247</th>\n",
       "      <td>0.007466</td>\n",
       "    </tr>\n",
       "    <tr>\n",
       "      <th>zipcode_zip_10965</th>\n",
       "      <td>0.007278</td>\n",
       "    </tr>\n",
       "    <tr>\n",
       "      <th>zipcode_zip_12043</th>\n",
       "      <td>0.007195</td>\n",
       "    </tr>\n",
       "    <tr>\n",
       "      <th>zipcode_zip_10315</th>\n",
       "      <td>0.007182</td>\n",
       "    </tr>\n",
       "    <tr>\n",
       "      <th>zipcode_zip_10551</th>\n",
       "      <td>0.007168</td>\n",
       "    </tr>\n",
       "    <tr>\n",
       "      <th>zipcode_zip_10707</th>\n",
       "      <td>0.007156</td>\n",
       "    </tr>\n",
       "    <tr>\n",
       "      <th>zipcode_zip_10317</th>\n",
       "      <td>0.007156</td>\n",
       "    </tr>\n",
       "    <tr>\n",
       "      <th>zipcode_zip_12347</th>\n",
       "      <td>0.007134</td>\n",
       "    </tr>\n",
       "    <tr>\n",
       "      <th>zipcode_zip_10559</th>\n",
       "      <td>0.007100</td>\n",
       "    </tr>\n",
       "    <tr>\n",
       "      <th>zipcode_zip_10249</th>\n",
       "      <td>0.007087</td>\n",
       "    </tr>\n",
       "    <tr>\n",
       "      <th>zipcode_zip_12437</th>\n",
       "      <td>0.007057</td>\n",
       "    </tr>\n",
       "    <tr>\n",
       "      <th>zipcode_zip_12051</th>\n",
       "      <td>0.006966</td>\n",
       "    </tr>\n",
       "    <tr>\n",
       "      <th>zipcode_zip_13357</th>\n",
       "      <td>0.006714</td>\n",
       "    </tr>\n",
       "    <tr>\n",
       "      <th>zipcode_zip_10243</th>\n",
       "      <td>0.006420</td>\n",
       "    </tr>\n",
       "    <tr>\n",
       "      <th>property_type_Bed and breakfast</th>\n",
       "      <td>0.006105</td>\n",
       "    </tr>\n",
       "    <tr>\n",
       "      <th>zipcode_zip_13355</th>\n",
       "      <td>0.006054</td>\n",
       "    </tr>\n",
       "    <tr>\n",
       "      <th>zipcode_zip_14197</th>\n",
       "      <td>0.005770</td>\n",
       "    </tr>\n",
       "    <tr>\n",
       "      <th>zipcode_zip_13187</th>\n",
       "      <td>0.005512</td>\n",
       "    </tr>\n",
       "    <tr>\n",
       "      <th>zipcode_zip_12055</th>\n",
       "      <td>0.005355</td>\n",
       "    </tr>\n",
       "    <tr>\n",
       "      <th>zipcode_zip_10777</th>\n",
       "      <td>0.005339</td>\n",
       "    </tr>\n",
       "    <tr>\n",
       "      <th>zipcode_zip_10629</th>\n",
       "      <td>0.005265</td>\n",
       "    </tr>\n",
       "    <tr>\n",
       "      <th>zipcode_zip_10587</th>\n",
       "      <td>0.005183</td>\n",
       "    </tr>\n",
       "    <tr>\n",
       "      <th>zipcode_zip_10715</th>\n",
       "      <td>0.005020</td>\n",
       "    </tr>\n",
       "    <tr>\n",
       "      <th>zipcode_zip_10963</th>\n",
       "      <td>0.005019</td>\n",
       "    </tr>\n",
       "    <tr>\n",
       "      <th>zipcode_zip_10409</th>\n",
       "      <td>0.004781</td>\n",
       "    </tr>\n",
       "    <tr>\n",
       "      <th>zipcode_zip_12435</th>\n",
       "      <td>0.004741</td>\n",
       "    </tr>\n",
       "    <tr>\n",
       "      <th>zipcode_zip_12101</th>\n",
       "      <td>0.004736</td>\n",
       "    </tr>\n",
       "    <tr>\n",
       "      <th>zipcode_zip_10781</th>\n",
       "      <td>0.004434</td>\n",
       "    </tr>\n",
       "    <tr>\n",
       "      <th>zipcode_zip_12045</th>\n",
       "      <td>0.004338</td>\n",
       "    </tr>\n",
       "    <tr>\n",
       "      <th>zipcode_zip_10783</th>\n",
       "      <td>0.004297</td>\n",
       "    </tr>\n",
       "    <tr>\n",
       "      <th>zipcode_zip_10367</th>\n",
       "      <td>0.004271</td>\n",
       "    </tr>\n",
       "    <tr>\n",
       "      <th>zipcode_zip_nan</th>\n",
       "      <td>0.004211</td>\n",
       "    </tr>\n",
       "    <tr>\n",
       "      <th>zipcode_zip_12049</th>\n",
       "      <td>0.004026</td>\n",
       "    </tr>\n",
       "    <tr>\n",
       "      <th>zipcode_zip_10318</th>\n",
       "      <td>0.003731</td>\n",
       "    </tr>\n",
       "    <tr>\n",
       "      <th>zipcode_zip_10623</th>\n",
       "      <td>0.003603</td>\n",
       "    </tr>\n",
       "    <tr>\n",
       "      <th>zipcode_zip_10625</th>\n",
       "      <td>0.003546</td>\n",
       "    </tr>\n",
       "    <tr>\n",
       "      <th>zipcode_zip_10713</th>\n",
       "      <td>0.003367</td>\n",
       "    </tr>\n",
       "    <tr>\n",
       "      <th>zipcode_zip_10827</th>\n",
       "      <td>0.003153</td>\n",
       "    </tr>\n",
       "    <tr>\n",
       "      <th>zipcode_zip_10627</th>\n",
       "      <td>0.003046</td>\n",
       "    </tr>\n",
       "    <tr>\n",
       "      <th>property_type_House</th>\n",
       "      <td>0.002966</td>\n",
       "    </tr>\n",
       "    <tr>\n",
       "      <th>zipcode_zip_12163</th>\n",
       "      <td>0.002914</td>\n",
       "    </tr>\n",
       "    <tr>\n",
       "      <th>zipcode_zip_13156</th>\n",
       "      <td>0.002862</td>\n",
       "    </tr>\n",
       "    <tr>\n",
       "      <th>zipcode_zip_14059</th>\n",
       "      <td>0.002366</td>\n",
       "    </tr>\n",
       "    <tr>\n",
       "      <th>zipcode_zip_13088</th>\n",
       "      <td>0.002201</td>\n",
       "    </tr>\n",
       "    <tr>\n",
       "      <th>host_is_superhost</th>\n",
       "      <td>0.002174</td>\n",
       "    </tr>\n",
       "    <tr>\n",
       "      <th>zipcode_zip_12161</th>\n",
       "      <td>0.002124</td>\n",
       "    </tr>\n",
       "    <tr>\n",
       "      <th>zipcode_zip_10407</th>\n",
       "      <td>0.001931</td>\n",
       "    </tr>\n",
       "    <tr>\n",
       "      <th>zipcode_zip_10717</th>\n",
       "      <td>0.001658</td>\n",
       "    </tr>\n",
       "    <tr>\n",
       "      <th>property_type_Unique space</th>\n",
       "      <td>0.001651</td>\n",
       "    </tr>\n",
       "    <tr>\n",
       "      <th>property_type_Secondary unit</th>\n",
       "      <td>0.001575</td>\n",
       "    </tr>\n",
       "    <tr>\n",
       "      <th>zipcode_zip_10585</th>\n",
       "      <td>0.001423</td>\n",
       "    </tr>\n",
       "    <tr>\n",
       "      <th>zipcode_zip_10961</th>\n",
       "      <td>0.000000</td>\n",
       "    </tr>\n",
       "  </tbody>\n",
       "</table>\n",
       "</div>"
      ],
      "text/plain": [
       "                                   weight\n",
       "room_type_Private room           0.103239\n",
       "zipcode_zip_13359                0.036468\n",
       "zipcode_zip_10117                0.034721\n",
       "room_type_Shared room            0.032740\n",
       "zipcode_zip_10179                0.032430\n",
       "room_type_Hotel room             0.024847\n",
       "zipcode_zip_10119                0.022948\n",
       "zipcode_zip_10557                0.022343\n",
       "zipcode_zip_10178                0.021019\n",
       "zipcode_zip_10969                0.019363\n",
       "zipcode_zip_10439                0.017651\n",
       "zipcode_zip_10997                0.017341\n",
       "zipcode_zip_10999                0.017001\n",
       "zipcode_zip_10829                0.016048\n",
       "zipcode_zip_10435                0.015815\n",
       "zipcode_zip_10711                0.015600\n",
       "property_type_Boutique hotel     0.014515\n",
       "zipcode_zip_10785                0.013651\n",
       "zipcode_zip_other                0.013577\n",
       "zipcode_zip_13353                0.013514\n",
       "zipcode_zip_10245                0.013065\n",
       "zipcode_zip_13407                0.012828\n",
       "zipcode_zip_10405                0.012581\n",
       "zipcode_zip_10719                0.011769\n",
       "zipcode_zip_10437                0.011552\n",
       "zipcode_zip_13349                0.011184\n",
       "zipcode_zip_10555                0.010972\n",
       "zipcode_zip_10823                0.010630\n",
       "zipcode_zip_10787                0.009906\n",
       "zipcode_zip_12047                0.009550\n",
       "zipcode_zip_13409                0.009376\n",
       "zipcode_zip_10365                0.009326\n",
       "zipcode_zip_14057                0.009174\n",
       "zipcode_zip_12157                0.008876\n",
       "zipcode_zip_13189                0.008692\n",
       "zipcode_zip_12103                0.008627\n",
       "zipcode_zip_10967                0.008255\n",
       "zipcode_zip_13347                0.008195\n",
       "zipcode_zip_12099                0.008183\n",
       "zipcode_zip_12053                0.008130\n",
       "zipcode_zip_10589                0.008000\n",
       "zipcode_zip_10553                0.007982\n",
       "zipcode_zip_12059                0.007975\n",
       "bathrooms_log                    0.007827\n",
       "zipcode_zip_13351                0.007655\n",
       "zipcode_zip_13086                0.007527\n",
       "accommodates                     0.007507\n",
       "zipcode_zip_10247                0.007466\n",
       "zipcode_zip_10965                0.007278\n",
       "zipcode_zip_12043                0.007195\n",
       "zipcode_zip_10315                0.007182\n",
       "zipcode_zip_10551                0.007168\n",
       "zipcode_zip_10707                0.007156\n",
       "zipcode_zip_10317                0.007156\n",
       "zipcode_zip_12347                0.007134\n",
       "zipcode_zip_10559                0.007100\n",
       "zipcode_zip_10249                0.007087\n",
       "zipcode_zip_12437                0.007057\n",
       "zipcode_zip_12051                0.006966\n",
       "zipcode_zip_13357                0.006714\n",
       "zipcode_zip_10243                0.006420\n",
       "property_type_Bed and breakfast  0.006105\n",
       "zipcode_zip_13355                0.006054\n",
       "zipcode_zip_14197                0.005770\n",
       "zipcode_zip_13187                0.005512\n",
       "zipcode_zip_12055                0.005355\n",
       "zipcode_zip_10777                0.005339\n",
       "zipcode_zip_10629                0.005265\n",
       "zipcode_zip_10587                0.005183\n",
       "zipcode_zip_10715                0.005020\n",
       "zipcode_zip_10963                0.005019\n",
       "zipcode_zip_10409                0.004781\n",
       "zipcode_zip_12435                0.004741\n",
       "zipcode_zip_12101                0.004736\n",
       "zipcode_zip_10781                0.004434\n",
       "zipcode_zip_12045                0.004338\n",
       "zipcode_zip_10783                0.004297\n",
       "zipcode_zip_10367                0.004271\n",
       "zipcode_zip_nan                  0.004211\n",
       "zipcode_zip_12049                0.004026\n",
       "zipcode_zip_10318                0.003731\n",
       "zipcode_zip_10623                0.003603\n",
       "zipcode_zip_10625                0.003546\n",
       "zipcode_zip_10713                0.003367\n",
       "zipcode_zip_10827                0.003153\n",
       "zipcode_zip_10627                0.003046\n",
       "property_type_House              0.002966\n",
       "zipcode_zip_12163                0.002914\n",
       "zipcode_zip_13156                0.002862\n",
       "zipcode_zip_14059                0.002366\n",
       "zipcode_zip_13088                0.002201\n",
       "host_is_superhost                0.002174\n",
       "zipcode_zip_12161                0.002124\n",
       "zipcode_zip_10407                0.001931\n",
       "zipcode_zip_10717                0.001658\n",
       "property_type_Unique space       0.001651\n",
       "property_type_Secondary unit     0.001575\n",
       "zipcode_zip_10585                0.001423\n",
       "zipcode_zip_10961                0.000000"
      ]
     },
     "execution_count": 512,
     "metadata": {},
     "output_type": "execute_result"
    }
   ],
   "source": [
    "# Display feature importances\n",
    "fi_xgb_reg = pd.DataFrame(grid_xgb_reg.best_estimator_.named_steps['xgb_reg'].feature_importances_, columns=['weight'], index=column_names)\n",
    "fi_xgb_reg.sort_values('weight', inplace=True, ascending=False)\n",
    "fi_xgb_reg"
   ]
  },
  {
   "cell_type": "markdown",
   "metadata": {},
   "source": [
    "### Final Evaluation Best Model"
   ]
  },
  {
   "cell_type": "code",
   "execution_count": 513,
   "metadata": {
    "code_folding": []
   },
   "outputs": [
    {
     "name": "stderr",
     "output_type": "stream",
     "text": [
      "/opt/anaconda3/envs/nf/lib/python3.6/site-packages/sklearn/compose/_column_transformer.py:440: FutureWarning: Given feature/column names or counts do not match the ones for the data given during fit. This will fail from v0.24.\n",
      "  FutureWarning)\n"
     ]
    },
    {
     "ename": "ValueError",
     "evalue": "Specifying the columns using strings is only supported for pandas DataFrames",
     "output_type": "error",
     "traceback": [
      "\u001b[0;31m---------------------------------------------------------------------------\u001b[0m",
      "\u001b[0;31mEmpty\u001b[0m                                     Traceback (most recent call last)",
      "\u001b[0;32m/opt/anaconda3/envs/nf/lib/python3.6/site-packages/joblib/parallel.py\u001b[0m in \u001b[0;36mdispatch_one_batch\u001b[0;34m(self, iterator)\u001b[0m\n\u001b[1;32m    807\u001b[0m             \u001b[0;32mtry\u001b[0m\u001b[0;34m:\u001b[0m\u001b[0;34m\u001b[0m\u001b[0;34m\u001b[0m\u001b[0m\n\u001b[0;32m--> 808\u001b[0;31m                 \u001b[0mtasks\u001b[0m \u001b[0;34m=\u001b[0m \u001b[0mself\u001b[0m\u001b[0;34m.\u001b[0m\u001b[0m_ready_batches\u001b[0m\u001b[0;34m.\u001b[0m\u001b[0mget\u001b[0m\u001b[0;34m(\u001b[0m\u001b[0mblock\u001b[0m\u001b[0;34m=\u001b[0m\u001b[0;32mFalse\u001b[0m\u001b[0;34m)\u001b[0m\u001b[0;34m\u001b[0m\u001b[0;34m\u001b[0m\u001b[0m\n\u001b[0m\u001b[1;32m    809\u001b[0m             \u001b[0;32mexcept\u001b[0m \u001b[0mqueue\u001b[0m\u001b[0;34m.\u001b[0m\u001b[0mEmpty\u001b[0m\u001b[0;34m:\u001b[0m\u001b[0;34m\u001b[0m\u001b[0;34m\u001b[0m\u001b[0m\n",
      "\u001b[0;32m/opt/anaconda3/envs/nf/lib/python3.6/queue.py\u001b[0m in \u001b[0;36mget\u001b[0;34m(self, block, timeout)\u001b[0m\n\u001b[1;32m    160\u001b[0m                 \u001b[0;32mif\u001b[0m \u001b[0;32mnot\u001b[0m \u001b[0mself\u001b[0m\u001b[0;34m.\u001b[0m\u001b[0m_qsize\u001b[0m\u001b[0;34m(\u001b[0m\u001b[0;34m)\u001b[0m\u001b[0;34m:\u001b[0m\u001b[0;34m\u001b[0m\u001b[0;34m\u001b[0m\u001b[0m\n\u001b[0;32m--> 161\u001b[0;31m                     \u001b[0;32mraise\u001b[0m \u001b[0mEmpty\u001b[0m\u001b[0;34m\u001b[0m\u001b[0;34m\u001b[0m\u001b[0m\n\u001b[0m\u001b[1;32m    162\u001b[0m             \u001b[0;32melif\u001b[0m \u001b[0mtimeout\u001b[0m \u001b[0;32mis\u001b[0m \u001b[0;32mNone\u001b[0m\u001b[0;34m:\u001b[0m\u001b[0;34m\u001b[0m\u001b[0;34m\u001b[0m\u001b[0m\n",
      "\u001b[0;31mEmpty\u001b[0m: ",
      "\nDuring handling of the above exception, another exception occurred:\n",
      "\u001b[0;31mValueError\u001b[0m                                Traceback (most recent call last)",
      "\u001b[0;32m<ipython-input-513-bc928897f7a5>\u001b[0m in \u001b[0;36m<module>\u001b[0;34m\u001b[0m\n\u001b[1;32m      1\u001b[0m \u001b[0;31m# Predict target with \"best model\"\u001b[0m\u001b[0;34m\u001b[0m\u001b[0;34m\u001b[0m\u001b[0;34m\u001b[0m\u001b[0m\n\u001b[0;32m----> 2\u001b[0;31m \u001b[0my_train_pred_xgb_reg\u001b[0m \u001b[0;34m=\u001b[0m \u001b[0mbest_model_xgb_reg\u001b[0m\u001b[0;34m.\u001b[0m\u001b[0mpredict\u001b[0m\u001b[0;34m(\u001b[0m\u001b[0mX_train_prep\u001b[0m\u001b[0;34m)\u001b[0m\u001b[0;34m\u001b[0m\u001b[0;34m\u001b[0m\u001b[0m\n\u001b[0m",
      "\u001b[0;32m/opt/anaconda3/envs/nf/lib/python3.6/site-packages/sklearn/utils/metaestimators.py\u001b[0m in \u001b[0;36m<lambda>\u001b[0;34m(*args, **kwargs)\u001b[0m\n\u001b[1;32m    117\u001b[0m \u001b[0;34m\u001b[0m\u001b[0m\n\u001b[1;32m    118\u001b[0m         \u001b[0;31m# lambda, but not partial, allows help() to work with update_wrapper\u001b[0m\u001b[0;34m\u001b[0m\u001b[0;34m\u001b[0m\u001b[0;34m\u001b[0m\u001b[0m\n\u001b[0;32m--> 119\u001b[0;31m         \u001b[0mout\u001b[0m \u001b[0;34m=\u001b[0m \u001b[0;32mlambda\u001b[0m \u001b[0;34m*\u001b[0m\u001b[0margs\u001b[0m\u001b[0;34m,\u001b[0m \u001b[0;34m**\u001b[0m\u001b[0mkwargs\u001b[0m\u001b[0;34m:\u001b[0m \u001b[0mself\u001b[0m\u001b[0;34m.\u001b[0m\u001b[0mfn\u001b[0m\u001b[0;34m(\u001b[0m\u001b[0mobj\u001b[0m\u001b[0;34m,\u001b[0m \u001b[0;34m*\u001b[0m\u001b[0margs\u001b[0m\u001b[0;34m,\u001b[0m \u001b[0;34m**\u001b[0m\u001b[0mkwargs\u001b[0m\u001b[0;34m)\u001b[0m\u001b[0;34m\u001b[0m\u001b[0;34m\u001b[0m\u001b[0m\n\u001b[0m\u001b[1;32m    120\u001b[0m         \u001b[0;31m# update the docstring of the returned function\u001b[0m\u001b[0;34m\u001b[0m\u001b[0;34m\u001b[0m\u001b[0;34m\u001b[0m\u001b[0m\n\u001b[1;32m    121\u001b[0m         \u001b[0mupdate_wrapper\u001b[0m\u001b[0;34m(\u001b[0m\u001b[0mout\u001b[0m\u001b[0;34m,\u001b[0m \u001b[0mself\u001b[0m\u001b[0;34m.\u001b[0m\u001b[0mfn\u001b[0m\u001b[0;34m)\u001b[0m\u001b[0;34m\u001b[0m\u001b[0;34m\u001b[0m\u001b[0m\n",
      "\u001b[0;32m/opt/anaconda3/envs/nf/lib/python3.6/site-packages/sklearn/pipeline.py\u001b[0m in \u001b[0;36mpredict\u001b[0;34m(self, X, **predict_params)\u001b[0m\n\u001b[1;32m    405\u001b[0m         \u001b[0mXt\u001b[0m \u001b[0;34m=\u001b[0m \u001b[0mX\u001b[0m\u001b[0;34m\u001b[0m\u001b[0;34m\u001b[0m\u001b[0m\n\u001b[1;32m    406\u001b[0m         \u001b[0;32mfor\u001b[0m \u001b[0m_\u001b[0m\u001b[0;34m,\u001b[0m \u001b[0mname\u001b[0m\u001b[0;34m,\u001b[0m \u001b[0mtransform\u001b[0m \u001b[0;32min\u001b[0m \u001b[0mself\u001b[0m\u001b[0;34m.\u001b[0m\u001b[0m_iter\u001b[0m\u001b[0;34m(\u001b[0m\u001b[0mwith_final\u001b[0m\u001b[0;34m=\u001b[0m\u001b[0;32mFalse\u001b[0m\u001b[0;34m)\u001b[0m\u001b[0;34m:\u001b[0m\u001b[0;34m\u001b[0m\u001b[0;34m\u001b[0m\u001b[0m\n\u001b[0;32m--> 407\u001b[0;31m             \u001b[0mXt\u001b[0m \u001b[0;34m=\u001b[0m \u001b[0mtransform\u001b[0m\u001b[0;34m.\u001b[0m\u001b[0mtransform\u001b[0m\u001b[0;34m(\u001b[0m\u001b[0mXt\u001b[0m\u001b[0;34m)\u001b[0m\u001b[0;34m\u001b[0m\u001b[0;34m\u001b[0m\u001b[0m\n\u001b[0m\u001b[1;32m    408\u001b[0m         \u001b[0;32mreturn\u001b[0m \u001b[0mself\u001b[0m\u001b[0;34m.\u001b[0m\u001b[0msteps\u001b[0m\u001b[0;34m[\u001b[0m\u001b[0;34m-\u001b[0m\u001b[0;36m1\u001b[0m\u001b[0;34m]\u001b[0m\u001b[0;34m[\u001b[0m\u001b[0;34m-\u001b[0m\u001b[0;36m1\u001b[0m\u001b[0;34m]\u001b[0m\u001b[0;34m.\u001b[0m\u001b[0mpredict\u001b[0m\u001b[0;34m(\u001b[0m\u001b[0mXt\u001b[0m\u001b[0;34m,\u001b[0m \u001b[0;34m**\u001b[0m\u001b[0mpredict_params\u001b[0m\u001b[0;34m)\u001b[0m\u001b[0;34m\u001b[0m\u001b[0;34m\u001b[0m\u001b[0m\n\u001b[1;32m    409\u001b[0m \u001b[0;34m\u001b[0m\u001b[0m\n",
      "\u001b[0;32m/opt/anaconda3/envs/nf/lib/python3.6/site-packages/sklearn/compose/_column_transformer.py\u001b[0m in \u001b[0;36mtransform\u001b[0;34m(self, X)\u001b[0m\n\u001b[1;32m    602\u001b[0m         \u001b[0;31m# TODO: also call _check_n_features(reset=False) in 0.24\u001b[0m\u001b[0;34m\u001b[0m\u001b[0;34m\u001b[0m\u001b[0;34m\u001b[0m\u001b[0m\n\u001b[1;32m    603\u001b[0m         \u001b[0mself\u001b[0m\u001b[0;34m.\u001b[0m\u001b[0m_validate_features\u001b[0m\u001b[0;34m(\u001b[0m\u001b[0mX\u001b[0m\u001b[0;34m.\u001b[0m\u001b[0mshape\u001b[0m\u001b[0;34m[\u001b[0m\u001b[0;36m1\u001b[0m\u001b[0;34m]\u001b[0m\u001b[0;34m,\u001b[0m \u001b[0mX_feature_names\u001b[0m\u001b[0;34m)\u001b[0m\u001b[0;34m\u001b[0m\u001b[0;34m\u001b[0m\u001b[0m\n\u001b[0;32m--> 604\u001b[0;31m         \u001b[0mXs\u001b[0m \u001b[0;34m=\u001b[0m \u001b[0mself\u001b[0m\u001b[0;34m.\u001b[0m\u001b[0m_fit_transform\u001b[0m\u001b[0;34m(\u001b[0m\u001b[0mX\u001b[0m\u001b[0;34m,\u001b[0m \u001b[0;32mNone\u001b[0m\u001b[0;34m,\u001b[0m \u001b[0m_transform_one\u001b[0m\u001b[0;34m,\u001b[0m \u001b[0mfitted\u001b[0m\u001b[0;34m=\u001b[0m\u001b[0;32mTrue\u001b[0m\u001b[0;34m)\u001b[0m\u001b[0;34m\u001b[0m\u001b[0;34m\u001b[0m\u001b[0m\n\u001b[0m\u001b[1;32m    605\u001b[0m         \u001b[0mself\u001b[0m\u001b[0;34m.\u001b[0m\u001b[0m_validate_output\u001b[0m\u001b[0;34m(\u001b[0m\u001b[0mXs\u001b[0m\u001b[0;34m)\u001b[0m\u001b[0;34m\u001b[0m\u001b[0;34m\u001b[0m\u001b[0m\n\u001b[1;32m    606\u001b[0m \u001b[0;34m\u001b[0m\u001b[0m\n",
      "\u001b[0;32m/opt/anaconda3/envs/nf/lib/python3.6/site-packages/sklearn/compose/_column_transformer.py\u001b[0m in \u001b[0;36m_fit_transform\u001b[0;34m(self, X, y, func, fitted)\u001b[0m\n\u001b[1;32m    465\u001b[0m                     message=self._log_message(name, idx, len(transformers)))\n\u001b[1;32m    466\u001b[0m                 for idx, (name, trans, column, weight) in enumerate(\n\u001b[0;32m--> 467\u001b[0;31m                         self._iter(fitted=fitted, replace_strings=True), 1))\n\u001b[0m\u001b[1;32m    468\u001b[0m         \u001b[0;32mexcept\u001b[0m \u001b[0mValueError\u001b[0m \u001b[0;32mas\u001b[0m \u001b[0me\u001b[0m\u001b[0;34m:\u001b[0m\u001b[0;34m\u001b[0m\u001b[0;34m\u001b[0m\u001b[0m\n\u001b[1;32m    469\u001b[0m             \u001b[0;32mif\u001b[0m \u001b[0;34m\"Expected 2D array, got 1D array instead\"\u001b[0m \u001b[0;32min\u001b[0m \u001b[0mstr\u001b[0m\u001b[0;34m(\u001b[0m\u001b[0me\u001b[0m\u001b[0;34m)\u001b[0m\u001b[0;34m:\u001b[0m\u001b[0;34m\u001b[0m\u001b[0;34m\u001b[0m\u001b[0m\n",
      "\u001b[0;32m/opt/anaconda3/envs/nf/lib/python3.6/site-packages/joblib/parallel.py\u001b[0m in \u001b[0;36m__call__\u001b[0;34m(self, iterable)\u001b[0m\n\u001b[1;32m   1027\u001b[0m             \u001b[0;31m# remaining jobs.\u001b[0m\u001b[0;34m\u001b[0m\u001b[0;34m\u001b[0m\u001b[0;34m\u001b[0m\u001b[0m\n\u001b[1;32m   1028\u001b[0m             \u001b[0mself\u001b[0m\u001b[0;34m.\u001b[0m\u001b[0m_iterating\u001b[0m \u001b[0;34m=\u001b[0m \u001b[0;32mFalse\u001b[0m\u001b[0;34m\u001b[0m\u001b[0;34m\u001b[0m\u001b[0m\n\u001b[0;32m-> 1029\u001b[0;31m             \u001b[0;32mif\u001b[0m \u001b[0mself\u001b[0m\u001b[0;34m.\u001b[0m\u001b[0mdispatch_one_batch\u001b[0m\u001b[0;34m(\u001b[0m\u001b[0miterator\u001b[0m\u001b[0;34m)\u001b[0m\u001b[0;34m:\u001b[0m\u001b[0;34m\u001b[0m\u001b[0;34m\u001b[0m\u001b[0m\n\u001b[0m\u001b[1;32m   1030\u001b[0m                 \u001b[0mself\u001b[0m\u001b[0;34m.\u001b[0m\u001b[0m_iterating\u001b[0m \u001b[0;34m=\u001b[0m \u001b[0mself\u001b[0m\u001b[0;34m.\u001b[0m\u001b[0m_original_iterator\u001b[0m \u001b[0;32mis\u001b[0m \u001b[0;32mnot\u001b[0m \u001b[0;32mNone\u001b[0m\u001b[0;34m\u001b[0m\u001b[0;34m\u001b[0m\u001b[0m\n\u001b[1;32m   1031\u001b[0m \u001b[0;34m\u001b[0m\u001b[0m\n",
      "\u001b[0;32m/opt/anaconda3/envs/nf/lib/python3.6/site-packages/joblib/parallel.py\u001b[0m in \u001b[0;36mdispatch_one_batch\u001b[0;34m(self, iterator)\u001b[0m\n\u001b[1;32m    817\u001b[0m                 \u001b[0mbig_batch_size\u001b[0m \u001b[0;34m=\u001b[0m \u001b[0mbatch_size\u001b[0m \u001b[0;34m*\u001b[0m \u001b[0mn_jobs\u001b[0m\u001b[0;34m\u001b[0m\u001b[0;34m\u001b[0m\u001b[0m\n\u001b[1;32m    818\u001b[0m \u001b[0;34m\u001b[0m\u001b[0m\n\u001b[0;32m--> 819\u001b[0;31m                 \u001b[0mislice\u001b[0m \u001b[0;34m=\u001b[0m \u001b[0mlist\u001b[0m\u001b[0;34m(\u001b[0m\u001b[0mitertools\u001b[0m\u001b[0;34m.\u001b[0m\u001b[0mislice\u001b[0m\u001b[0;34m(\u001b[0m\u001b[0miterator\u001b[0m\u001b[0;34m,\u001b[0m \u001b[0mbig_batch_size\u001b[0m\u001b[0;34m)\u001b[0m\u001b[0;34m)\u001b[0m\u001b[0;34m\u001b[0m\u001b[0;34m\u001b[0m\u001b[0m\n\u001b[0m\u001b[1;32m    820\u001b[0m                 \u001b[0;32mif\u001b[0m \u001b[0mlen\u001b[0m\u001b[0;34m(\u001b[0m\u001b[0mislice\u001b[0m\u001b[0;34m)\u001b[0m \u001b[0;34m==\u001b[0m \u001b[0;36m0\u001b[0m\u001b[0;34m:\u001b[0m\u001b[0;34m\u001b[0m\u001b[0;34m\u001b[0m\u001b[0m\n\u001b[1;32m    821\u001b[0m                     \u001b[0;32mreturn\u001b[0m \u001b[0;32mFalse\u001b[0m\u001b[0;34m\u001b[0m\u001b[0;34m\u001b[0m\u001b[0m\n",
      "\u001b[0;32m/opt/anaconda3/envs/nf/lib/python3.6/site-packages/sklearn/compose/_column_transformer.py\u001b[0m in \u001b[0;36m<genexpr>\u001b[0;34m(.0)\u001b[0m\n\u001b[1;32m    464\u001b[0m                     \u001b[0mmessage_clsname\u001b[0m\u001b[0;34m=\u001b[0m\u001b[0;34m'ColumnTransformer'\u001b[0m\u001b[0;34m,\u001b[0m\u001b[0;34m\u001b[0m\u001b[0;34m\u001b[0m\u001b[0m\n\u001b[1;32m    465\u001b[0m                     message=self._log_message(name, idx, len(transformers)))\n\u001b[0;32m--> 466\u001b[0;31m                 for idx, (name, trans, column, weight) in enumerate(\n\u001b[0m\u001b[1;32m    467\u001b[0m                         self._iter(fitted=fitted, replace_strings=True), 1))\n\u001b[1;32m    468\u001b[0m         \u001b[0;32mexcept\u001b[0m \u001b[0mValueError\u001b[0m \u001b[0;32mas\u001b[0m \u001b[0me\u001b[0m\u001b[0;34m:\u001b[0m\u001b[0;34m\u001b[0m\u001b[0;34m\u001b[0m\u001b[0m\n",
      "\u001b[0;32m/opt/anaconda3/envs/nf/lib/python3.6/site-packages/sklearn/utils/__init__.py\u001b[0m in \u001b[0;36m_safe_indexing\u001b[0;34m(X, indices, axis)\u001b[0m\n\u001b[1;32m    386\u001b[0m     \u001b[0;32mif\u001b[0m \u001b[0maxis\u001b[0m \u001b[0;34m==\u001b[0m \u001b[0;36m1\u001b[0m \u001b[0;32mand\u001b[0m \u001b[0mindices_dtype\u001b[0m \u001b[0;34m==\u001b[0m \u001b[0;34m'str'\u001b[0m \u001b[0;32mand\u001b[0m \u001b[0;32mnot\u001b[0m \u001b[0mhasattr\u001b[0m\u001b[0;34m(\u001b[0m\u001b[0mX\u001b[0m\u001b[0;34m,\u001b[0m \u001b[0;34m'loc'\u001b[0m\u001b[0;34m)\u001b[0m\u001b[0;34m:\u001b[0m\u001b[0;34m\u001b[0m\u001b[0;34m\u001b[0m\u001b[0m\n\u001b[1;32m    387\u001b[0m         raise ValueError(\n\u001b[0;32m--> 388\u001b[0;31m             \u001b[0;34m\"Specifying the columns using strings is only supported for \"\u001b[0m\u001b[0;34m\u001b[0m\u001b[0;34m\u001b[0m\u001b[0m\n\u001b[0m\u001b[1;32m    389\u001b[0m             \u001b[0;34m\"pandas DataFrames\"\u001b[0m\u001b[0;34m\u001b[0m\u001b[0;34m\u001b[0m\u001b[0m\n\u001b[1;32m    390\u001b[0m         )\n",
      "\u001b[0;31mValueError\u001b[0m: Specifying the columns using strings is only supported for pandas DataFrames"
     ]
    }
   ],
   "source": [
    "# Predict target with \"best model\"\n",
    "y_train_pred_xgb_reg = best_model_xgb_reg.predict(X_train_prep)"
   ]
  },
  {
   "cell_type": "code",
   "execution_count": null,
   "metadata": {
    "code_folding": [
     0
    ]
   },
   "outputs": [],
   "source": [
    "# Final evaluation of \"best model\"\n",
    "print(\"MSE: {:.2f}\".format(mean_squared_error(y_test, y_train_pred_xgb_reg))),\n",
    "print(\"RMSE: {:.2f}\".format(\n",
    "    mean_squared_error(y_test, y_train_pred_xgb_reg, squared=False))),\n",
    "print(\"MAE: {:.2f}\".format(mean_absolute_error(y_test, y_train_pred_xgb_reg))),\n",
    "print(\"R2: {:.2f}\".format(r2_score(y_test, y_train_pred_xgb_reg))),"
   ]
  },
  {
   "cell_type": "code",
   "execution_count": null,
   "metadata": {
    "code_folding": [
     0
    ]
   },
   "outputs": [],
   "source": [
    "# Display confidence interval (scipy stats)\n",
    "confidence = 0.95\n",
    "squared_errors = (y_train_pred_xgb_reg - y_test)**2\n",
    "np.sqrt(\n",
    "    stats.t.interval(confidence,\n",
    "                     len(squared_errors) - 1,\n",
    "                     loc=squared_errors.mean(),\n",
    "                     scale=stats.sem(squared_errors)))"
   ]
  },
  {
   "cell_type": "code",
   "execution_count": null,
   "metadata": {},
   "outputs": [],
   "source": []
  },
  {
   "cell_type": "markdown",
   "metadata": {},
   "source": [
    "## Reg Model 2: Support Vector Machines"
   ]
  },
  {
   "cell_type": "code",
   "execution_count": 514,
   "metadata": {
    "code_folding": [
     0
    ]
   },
   "outputs": [],
   "source": [
    "# Create pipeline to use in RandomizedSearchCV and GridSearchCV\n",
    "pipeline_svm_reg = Pipeline([('preprocessor', preprocessor),\n",
    "                             ('svm_reg', SVR(kernel='rbf', C=1, degree=3))])"
   ]
  },
  {
   "cell_type": "markdown",
   "metadata": {},
   "source": [
    "### Hyperparameter Pre-Tuning with RandomizedSearchCV"
   ]
  },
  {
   "cell_type": "code",
   "execution_count": 515,
   "metadata": {
    "code_folding": [
     0
    ],
    "scrolled": true
   },
   "outputs": [
    {
     "data": {
      "text/plain": [
       "dict_keys(['C', 'cache_size', 'coef0', 'degree', 'epsilon', 'gamma', 'kernel', 'max_iter', 'shrinking', 'tol', 'verbose'])"
      ]
     },
     "execution_count": 515,
     "metadata": {},
     "output_type": "execute_result"
    }
   ],
   "source": [
    "# Display possible hyperparameters for Supply Vector Machine\n",
    "test_svr_reg = SVR()\n",
    "test_svr_reg.get_params().keys()"
   ]
  },
  {
   "cell_type": "markdown",
   "metadata": {},
   "source": [
    "**Default values for Supply Vector Machine** (as base for hyperparameter search):\n",
    "\n",
    "kernel='rbf', degree=3, gamma='scale', coef0=0.0, tol=0.001, C=1.0, epsilon=0.1, shrinking=True, cache_size=200, verbose=False, max_iter=-1"
   ]
  },
  {
   "cell_type": "code",
   "execution_count": 516,
   "metadata": {
    "code_folding": [
     0
    ]
   },
   "outputs": [],
   "source": [
    "# Define hyperparameter distribution\n",
    "param_distribs_svm_reg = {\n",
    "    'svm_reg__kernel': ['linear', 'poly', 'rbf'],\n",
    "    'svm_reg__C': [0.1, 0.5, 1, 2, 5, 10, 50, 100, 500, 1000],\n",
    "    'svm_reg__degree': randint(low=1, high=5)\n",
    "}"
   ]
  },
  {
   "cell_type": "code",
   "execution_count": null,
   "metadata": {
    "code_folding": []
   },
   "outputs": [],
   "source": [
    "# Create and fit RandomizedSearchCV, save \"best_model\"\n",
    "rnd_svm_reg = RandomizedSearchCV(pipeline_svm_reg,\n",
    "                                 param_distribs_svm_reg,\n",
    "                                 cv=5,\n",
    "                                 scoring=scoring,\n",
    "                                 n_iter=5,\n",
    "                                 return_train_score=True,\n",
    "                                 verbose=4,\n",
    "                                 n_jobs=-1,\n",
    "                                 random_state=random_state)\n",
    "\n",
    "best_model_rnd_svm_reg = rnd_svm_reg.fit(X_train, y_train)"
   ]
  },
  {
   "cell_type": "code",
   "execution_count": null,
   "metadata": {
    "code_folding": [
     0
    ]
   },
   "outputs": [],
   "source": [
    "# Display best_score_, best_params_ and best_estimator_\n",
    "print('Best score:\\n{:.2f}'.format(rnd_svm_reg.best_score_))\n",
    "print(\"Best parameters:\\n{}\".format(rnd_svm_reg.best_params_))\n",
    "#print(\"Best estimator:\\n{}\".format(grid_rf_reg.best_estimator_))"
   ]
  },
  {
   "cell_type": "markdown",
   "metadata": {},
   "source": [
    "### Hyperparameter Tuning with GridSearchCV"
   ]
  },
  {
   "cell_type": "code",
   "execution_count": 51,
   "metadata": {
    "code_folding": [
     0
    ]
   },
   "outputs": [],
   "source": [
    "# Define hyperparameter grid\n",
    "param_grid_svm_reg = {\n",
    "#    'svm_reg__kernel': ['linear', 'poly', 'rbf'],\n",
    "#    'xgb_reg__C': [0.01, 0.05, 0.1, 1, 5, 10, 50, 100],\n",
    "#    'xgb_reg__degree': [1, 3, 5]\n",
    "}"
   ]
  },
  {
   "cell_type": "code",
   "execution_count": 55,
   "metadata": {
    "code_folding": [
     0
    ]
   },
   "outputs": [
    {
     "name": "stdout",
     "output_type": "stream",
     "text": [
      "Fitting 5 folds for each of 12 candidates, totalling 60 fits\n"
     ]
    },
    {
     "name": "stderr",
     "output_type": "stream",
     "text": [
      "[Parallel(n_jobs=-1)]: Using backend LokyBackend with 4 concurrent workers.\n",
      "[Parallel(n_jobs=-1)]: Done  17 tasks      | elapsed:   49.1s\n",
      "[Parallel(n_jobs=-1)]: Done  60 out of  60 | elapsed:  2.5min finished\n"
     ]
    },
    {
     "name": "stdout",
     "output_type": "stream",
     "text": [
      "[15:47:18] WARNING: src/objective/regression_obj.cu:152: reg:linear is now deprecated in favor of reg:squarederror.\n"
     ]
    }
   ],
   "source": [
    "# Create and fit GridSearchCV, save \"best_model\"\n",
    "grid_svm_reg = GridSearchCV(pipeline_svm_reg,\n",
    "                            param_grid_svm_reg,\n",
    "                            cv=5,\n",
    "                            scoring=scoring,\n",
    "                            return_train_score=True,\n",
    "                            verbose=4,\n",
    "                            n_jobs=-1)\n",
    "\n",
    "grid_svm_reg.fit(X_train, y_train)\n",
    "best_model_svm_reg = grid_svm_reg.best_estimator_"
   ]
  },
  {
   "cell_type": "code",
   "execution_count": 56,
   "metadata": {
    "code_folding": [
     0
    ]
   },
   "outputs": [
    {
     "name": "stdout",
     "output_type": "stream",
     "text": [
      "Best score:\n",
      "-0.12\n",
      "Best parameters:\n",
      "{'xgb_reg__learning_rate': 0.05, 'xgb_reg__max_features': 15}\n"
     ]
    }
   ],
   "source": [
    "# Display best_score_, best_params_ and best_estimator_\n",
    "print('Best score:\\n{:.2f}'.format(grid_svm_reg.best_score_))\n",
    "print(\"Best parameters:\\n{}\".format(grid_svm_reg.best_params_))\n",
    "#print(\"Best estimator:\\n{}\".format(grid_rf_reg.best_estimator_))"
   ]
  },
  {
   "cell_type": "markdown",
   "metadata": {},
   "source": [
    "### Feature Importances"
   ]
  },
  {
   "cell_type": "code",
   "execution_count": 45,
   "metadata": {
    "code_folding": [
     0
    ],
    "scrolled": true
   },
   "outputs": [
    {
     "data": {
      "text/html": [
       "<div>\n",
       "<style scoped>\n",
       "    .dataframe tbody tr th:only-of-type {\n",
       "        vertical-align: middle;\n",
       "    }\n",
       "\n",
       "    .dataframe tbody tr th {\n",
       "        vertical-align: top;\n",
       "    }\n",
       "\n",
       "    .dataframe thead th {\n",
       "        text-align: right;\n",
       "    }\n",
       "</style>\n",
       "<table border=\"1\" class=\"dataframe\">\n",
       "  <thead>\n",
       "    <tr style=\"text-align: right;\">\n",
       "      <th></th>\n",
       "      <th>weight</th>\n",
       "    </tr>\n",
       "  </thead>\n",
       "  <tbody>\n",
       "    <tr>\n",
       "      <th>room_type_Private room</th>\n",
       "      <td>0.405381</td>\n",
       "    </tr>\n",
       "    <tr>\n",
       "      <th>bedrooms</th>\n",
       "      <td>0.028635</td>\n",
       "    </tr>\n",
       "    <tr>\n",
       "      <th>room_type_Shared room</th>\n",
       "      <td>0.027683</td>\n",
       "    </tr>\n",
       "    <tr>\n",
       "      <th>property_type_Boutique hotel</th>\n",
       "      <td>0.025367</td>\n",
       "    </tr>\n",
       "    <tr>\n",
       "      <th>neighbourhood_cleansed_Osloer Straße</th>\n",
       "      <td>0.017542</td>\n",
       "    </tr>\n",
       "    <tr>\n",
       "      <th>room_type_Hotel room</th>\n",
       "      <td>0.013085</td>\n",
       "    </tr>\n",
       "    <tr>\n",
       "      <th>neighbourhood_cleansed_Alexanderplatz</th>\n",
       "      <td>0.013000</td>\n",
       "    </tr>\n",
       "    <tr>\n",
       "      <th>bathrooms_log</th>\n",
       "      <td>0.011078</td>\n",
       "    </tr>\n",
       "    <tr>\n",
       "      <th>calc_host_lst_count_sqrt_log</th>\n",
       "      <td>0.009484</td>\n",
       "    </tr>\n",
       "    <tr>\n",
       "      <th>zipcode_zip_10119</th>\n",
       "      <td>0.009205</td>\n",
       "    </tr>\n",
       "    <tr>\n",
       "      <th>zipcode_zip_10117</th>\n",
       "      <td>0.008356</td>\n",
       "    </tr>\n",
       "    <tr>\n",
       "      <th>zipcode_zip_12099</th>\n",
       "      <td>0.007882</td>\n",
       "    </tr>\n",
       "    <tr>\n",
       "      <th>neighbourhood_cleansed_Brunnenstr. Süd</th>\n",
       "      <td>0.007591</td>\n",
       "    </tr>\n",
       "    <tr>\n",
       "      <th>zipcode_zip_10178</th>\n",
       "      <td>0.007219</td>\n",
       "    </tr>\n",
       "    <tr>\n",
       "      <th>neighbourhood_cleansed_nb_other</th>\n",
       "      <td>0.007025</td>\n",
       "    </tr>\n",
       "    <tr>\n",
       "      <th>accommodates</th>\n",
       "      <td>0.006805</td>\n",
       "    </tr>\n",
       "    <tr>\n",
       "      <th>cancellation_policy_super_strict</th>\n",
       "      <td>0.006364</td>\n",
       "    </tr>\n",
       "    <tr>\n",
       "      <th>price_extra_people</th>\n",
       "      <td>0.006227</td>\n",
       "    </tr>\n",
       "    <tr>\n",
       "      <th>am_elevator</th>\n",
       "      <td>0.005970</td>\n",
       "    </tr>\n",
       "    <tr>\n",
       "      <th>zipcode_zip_10969</th>\n",
       "      <td>0.005516</td>\n",
       "    </tr>\n",
       "    <tr>\n",
       "      <th>zipcode_zip_other</th>\n",
       "      <td>0.005443</td>\n",
       "    </tr>\n",
       "    <tr>\n",
       "      <th>zipcode_zip_12103</th>\n",
       "      <td>0.005261</td>\n",
       "    </tr>\n",
       "    <tr>\n",
       "      <th>zipcode_zip_10785</th>\n",
       "      <td>0.004764</td>\n",
       "    </tr>\n",
       "    <tr>\n",
       "      <th>neighbourhood_cleansed_Grunewald</th>\n",
       "      <td>0.004632</td>\n",
       "    </tr>\n",
       "    <tr>\n",
       "      <th>wk_mth_discount</th>\n",
       "      <td>0.004498</td>\n",
       "    </tr>\n",
       "    <tr>\n",
       "      <th>zipcode_zip_10179</th>\n",
       "      <td>0.004495</td>\n",
       "    </tr>\n",
       "    <tr>\n",
       "      <th>zipcode_zip_10405</th>\n",
       "      <td>0.004339</td>\n",
       "    </tr>\n",
       "    <tr>\n",
       "      <th>minimum_nights_log</th>\n",
       "      <td>0.004291</td>\n",
       "    </tr>\n",
       "    <tr>\n",
       "      <th>zipcode_zip_13088</th>\n",
       "      <td>0.004233</td>\n",
       "    </tr>\n",
       "    <tr>\n",
       "      <th>neighbourhood_cleansed_Frankfurter Allee Süd FK</th>\n",
       "      <td>0.004078</td>\n",
       "    </tr>\n",
       "    <tr>\n",
       "      <th>neighbourhood_cleansed_Regierungsviertel</th>\n",
       "      <td>0.003972</td>\n",
       "    </tr>\n",
       "    <tr>\n",
       "      <th>neighbourhood_cleansed_südliche Luisenstadt</th>\n",
       "      <td>0.003880</td>\n",
       "    </tr>\n",
       "    <tr>\n",
       "      <th>zipcode_zip_10711</th>\n",
       "      <td>0.003812</td>\n",
       "    </tr>\n",
       "    <tr>\n",
       "      <th>zipcode_zip_10777</th>\n",
       "      <td>0.003786</td>\n",
       "    </tr>\n",
       "    <tr>\n",
       "      <th>zipcode_zip_10551</th>\n",
       "      <td>0.003776</td>\n",
       "    </tr>\n",
       "    <tr>\n",
       "      <th>zipcode_zip_10719</th>\n",
       "      <td>0.003759</td>\n",
       "    </tr>\n",
       "    <tr>\n",
       "      <th>review_scores_rating_sqrt</th>\n",
       "      <td>0.003681</td>\n",
       "    </tr>\n",
       "    <tr>\n",
       "      <th>neighbourhood_cleansed_Prenzlauer Berg Süd</th>\n",
       "      <td>0.003672</td>\n",
       "    </tr>\n",
       "    <tr>\n",
       "      <th>zipcode_zip_10997</th>\n",
       "      <td>0.003632</td>\n",
       "    </tr>\n",
       "    <tr>\n",
       "      <th>am_tv</th>\n",
       "      <td>0.003631</td>\n",
       "    </tr>\n",
       "    <tr>\n",
       "      <th>zipcode_zip_12437</th>\n",
       "      <td>0.003561</td>\n",
       "    </tr>\n",
       "    <tr>\n",
       "      <th>zipcode_zip_10553</th>\n",
       "      <td>0.003550</td>\n",
       "    </tr>\n",
       "    <tr>\n",
       "      <th>zipcode_zip_10965</th>\n",
       "      <td>0.003462</td>\n",
       "    </tr>\n",
       "    <tr>\n",
       "      <th>neighbourhood_cleansed_Weißensee</th>\n",
       "      <td>0.003437</td>\n",
       "    </tr>\n",
       "    <tr>\n",
       "      <th>latitude</th>\n",
       "      <td>0.003394</td>\n",
       "    </tr>\n",
       "    <tr>\n",
       "      <th>neighbourhood_cleansed_Friedenau</th>\n",
       "      <td>0.003379</td>\n",
       "    </tr>\n",
       "    <tr>\n",
       "      <th>neighbourhood_cleansed_Karl-Marx-Allee-Süd</th>\n",
       "      <td>0.003347</td>\n",
       "    </tr>\n",
       "    <tr>\n",
       "      <th>zipcode_zip_13349</th>\n",
       "      <td>0.003342</td>\n",
       "    </tr>\n",
       "    <tr>\n",
       "      <th>longitude</th>\n",
       "      <td>0.003313</td>\n",
       "    </tr>\n",
       "    <tr>\n",
       "      <th>availability_90</th>\n",
       "      <td>0.003237</td>\n",
       "    </tr>\n",
       "    <tr>\n",
       "      <th>neighbourhood_cleansed_Pankow Zentrum</th>\n",
       "      <td>0.003146</td>\n",
       "    </tr>\n",
       "    <tr>\n",
       "      <th>zipcode_zip_10245</th>\n",
       "      <td>0.003107</td>\n",
       "    </tr>\n",
       "    <tr>\n",
       "      <th>neighbourhood_cleansed_nördliche Luisenstadt</th>\n",
       "      <td>0.003100</td>\n",
       "    </tr>\n",
       "    <tr>\n",
       "      <th>zipcode_zip_10999</th>\n",
       "      <td>0.003082</td>\n",
       "    </tr>\n",
       "    <tr>\n",
       "      <th>zipcode_zip_10787</th>\n",
       "      <td>0.003069</td>\n",
       "    </tr>\n",
       "    <tr>\n",
       "      <th>zipcode_zip_12161</th>\n",
       "      <td>0.003062</td>\n",
       "    </tr>\n",
       "    <tr>\n",
       "      <th>neighbourhood_cleansed_Schöneberg-Nord</th>\n",
       "      <td>0.003056</td>\n",
       "    </tr>\n",
       "    <tr>\n",
       "      <th>neighbourhood_cleansed_Moabit West</th>\n",
       "      <td>0.003013</td>\n",
       "    </tr>\n",
       "    <tr>\n",
       "      <th>price_extra_fees_sqrt</th>\n",
       "      <td>0.003011</td>\n",
       "    </tr>\n",
       "    <tr>\n",
       "      <th>zipcode_zip_10963</th>\n",
       "      <td>0.003004</td>\n",
       "    </tr>\n",
       "    <tr>\n",
       "      <th>neighbourhood_cleansed_Tiergarten Süd</th>\n",
       "      <td>0.002964</td>\n",
       "    </tr>\n",
       "    <tr>\n",
       "      <th>zipcode_zip_13353</th>\n",
       "      <td>0.002937</td>\n",
       "    </tr>\n",
       "    <tr>\n",
       "      <th>neighbourhood_cleansed_Mierendorffplatz</th>\n",
       "      <td>0.002931</td>\n",
       "    </tr>\n",
       "    <tr>\n",
       "      <th>zipcode_zip_10247</th>\n",
       "      <td>0.002929</td>\n",
       "    </tr>\n",
       "    <tr>\n",
       "      <th>neighbourhood_cleansed_Prenzlauer Berg Südwest</th>\n",
       "      <td>0.002899</td>\n",
       "    </tr>\n",
       "    <tr>\n",
       "      <th>zipcode_zip_12435</th>\n",
       "      <td>0.002882</td>\n",
       "    </tr>\n",
       "    <tr>\n",
       "      <th>neighbourhood_cleansed_Schillerpromenade</th>\n",
       "      <td>0.002801</td>\n",
       "    </tr>\n",
       "    <tr>\n",
       "      <th>zipcode_zip_12347</th>\n",
       "      <td>0.002775</td>\n",
       "    </tr>\n",
       "    <tr>\n",
       "      <th>zipcode_zip_10585</th>\n",
       "      <td>0.002758</td>\n",
       "    </tr>\n",
       "    <tr>\n",
       "      <th>zipcode_zip_14057</th>\n",
       "      <td>0.002753</td>\n",
       "    </tr>\n",
       "    <tr>\n",
       "      <th>zipcode_zip_10407</th>\n",
       "      <td>0.002734</td>\n",
       "    </tr>\n",
       "    <tr>\n",
       "      <th>zipcode_zip_10243</th>\n",
       "      <td>0.002704</td>\n",
       "    </tr>\n",
       "    <tr>\n",
       "      <th>neighbourhood_cleansed_Brunnenstr. Nord</th>\n",
       "      <td>0.002682</td>\n",
       "    </tr>\n",
       "    <tr>\n",
       "      <th>zipcode_zip_10823</th>\n",
       "      <td>0.002668</td>\n",
       "    </tr>\n",
       "    <tr>\n",
       "      <th>neighbourhood_cleansed_Halensee</th>\n",
       "      <td>0.002658</td>\n",
       "    </tr>\n",
       "    <tr>\n",
       "      <th>zipcode_zip_13086</th>\n",
       "      <td>0.002658</td>\n",
       "    </tr>\n",
       "    <tr>\n",
       "      <th>neighbourhood_cleansed_Tempelhof</th>\n",
       "      <td>0.002648</td>\n",
       "    </tr>\n",
       "    <tr>\n",
       "      <th>neighbourhood_cleansed_Moabit Ost</th>\n",
       "      <td>0.002618</td>\n",
       "    </tr>\n",
       "    <tr>\n",
       "      <th>zipcode_zip_10827</th>\n",
       "      <td>0.002613</td>\n",
       "    </tr>\n",
       "    <tr>\n",
       "      <th>zipcode_zip_12053</th>\n",
       "      <td>0.002598</td>\n",
       "    </tr>\n",
       "    <tr>\n",
       "      <th>zipcode_zip_12055</th>\n",
       "      <td>0.002591</td>\n",
       "    </tr>\n",
       "    <tr>\n",
       "      <th>neighbourhood_cleansed_Neu Lichtenberg</th>\n",
       "      <td>0.002562</td>\n",
       "    </tr>\n",
       "    <tr>\n",
       "      <th>neighbourhood_cleansed_Zehlendorf  Nord</th>\n",
       "      <td>0.002559</td>\n",
       "    </tr>\n",
       "    <tr>\n",
       "      <th>zipcode_zip_10439</th>\n",
       "      <td>0.002526</td>\n",
       "    </tr>\n",
       "    <tr>\n",
       "      <th>zipcode_zip_nan</th>\n",
       "      <td>0.002516</td>\n",
       "    </tr>\n",
       "    <tr>\n",
       "      <th>zipcode_zip_10435</th>\n",
       "      <td>0.002490</td>\n",
       "    </tr>\n",
       "    <tr>\n",
       "      <th>neighbourhood_cleansed_Neuköllner Mitte/Zentrum</th>\n",
       "      <td>0.002484</td>\n",
       "    </tr>\n",
       "    <tr>\n",
       "      <th>neighbourhood_cleansed_Rixdorf</th>\n",
       "      <td>0.002483</td>\n",
       "    </tr>\n",
       "    <tr>\n",
       "      <th>neighbourhood_cleansed_Reuterstraße</th>\n",
       "      <td>0.002469</td>\n",
       "    </tr>\n",
       "    <tr>\n",
       "      <th>number_of_reviews_ltm_log</th>\n",
       "      <td>0.002467</td>\n",
       "    </tr>\n",
       "    <tr>\n",
       "      <th>zipcode_zip_12059</th>\n",
       "      <td>0.002448</td>\n",
       "    </tr>\n",
       "    <tr>\n",
       "      <th>last_review_days_sqrt</th>\n",
       "      <td>0.002446</td>\n",
       "    </tr>\n",
       "    <tr>\n",
       "      <th>neighbourhood_cleansed_Kurfürstendamm</th>\n",
       "      <td>0.002428</td>\n",
       "    </tr>\n",
       "    <tr>\n",
       "      <th>zipcode_zip_10559</th>\n",
       "      <td>0.002427</td>\n",
       "    </tr>\n",
       "    <tr>\n",
       "      <th>neighbourhood_cleansed_Britz</th>\n",
       "      <td>0.002423</td>\n",
       "    </tr>\n",
       "    <tr>\n",
       "      <th>neighbourhood_cleansed_Parkviertel</th>\n",
       "      <td>0.002402</td>\n",
       "    </tr>\n",
       "    <tr>\n",
       "      <th>neighbourhood_cleansed_Prenzlauer Berg Nord</th>\n",
       "      <td>0.002379</td>\n",
       "    </tr>\n",
       "    <tr>\n",
       "      <th>maximum_nights</th>\n",
       "      <td>0.002373</td>\n",
       "    </tr>\n",
       "    <tr>\n",
       "      <th>host_is_superhost</th>\n",
       "      <td>0.002361</td>\n",
       "    </tr>\n",
       "    <tr>\n",
       "      <th>zipcode_zip_12049</th>\n",
       "      <td>0.002356</td>\n",
       "    </tr>\n",
       "    <tr>\n",
       "      <th>zipcode_zip_13357</th>\n",
       "      <td>0.002344</td>\n",
       "    </tr>\n",
       "    <tr>\n",
       "      <th>am_essentials</th>\n",
       "      <td>0.002334</td>\n",
       "    </tr>\n",
       "    <tr>\n",
       "      <th>neighbourhood_cleansed_Otto-Suhr-Allee</th>\n",
       "      <td>0.002308</td>\n",
       "    </tr>\n",
       "    <tr>\n",
       "      <th>text_len_sqrt</th>\n",
       "      <td>0.002303</td>\n",
       "    </tr>\n",
       "    <tr>\n",
       "      <th>neighbourhood_cleansed_Baumschulenweg</th>\n",
       "      <td>0.002279</td>\n",
       "    </tr>\n",
       "    <tr>\n",
       "      <th>zipcode_zip_10623</th>\n",
       "      <td>0.002271</td>\n",
       "    </tr>\n",
       "    <tr>\n",
       "      <th>neighbourhood_cleansed_Frankfurter Allee Nord</th>\n",
       "      <td>0.002262</td>\n",
       "    </tr>\n",
       "    <tr>\n",
       "      <th>neighbourhood_cleansed_Pankow Süd</th>\n",
       "      <td>0.002260</td>\n",
       "    </tr>\n",
       "    <tr>\n",
       "      <th>zipcode_zip_13347</th>\n",
       "      <td>0.002259</td>\n",
       "    </tr>\n",
       "    <tr>\n",
       "      <th>neighbourhood_cleansed_Helmholtzplatz</th>\n",
       "      <td>0.002239</td>\n",
       "    </tr>\n",
       "    <tr>\n",
       "      <th>neighbourhood_cleansed_Alt  Treptow</th>\n",
       "      <td>0.002233</td>\n",
       "    </tr>\n",
       "    <tr>\n",
       "      <th>zipcode_zip_10587</th>\n",
       "      <td>0.002228</td>\n",
       "    </tr>\n",
       "    <tr>\n",
       "      <th>zipcode_zip_10961</th>\n",
       "      <td>0.002182</td>\n",
       "    </tr>\n",
       "    <tr>\n",
       "      <th>zipcode_zip_10437</th>\n",
       "      <td>0.002160</td>\n",
       "    </tr>\n",
       "    <tr>\n",
       "      <th>property_type_House</th>\n",
       "      <td>0.002105</td>\n",
       "    </tr>\n",
       "    <tr>\n",
       "      <th>neighbourhood_cleansed_Tempelhofer Vorstadt</th>\n",
       "      <td>0.002104</td>\n",
       "    </tr>\n",
       "    <tr>\n",
       "      <th>zipcode_zip_12043</th>\n",
       "      <td>0.002099</td>\n",
       "    </tr>\n",
       "    <tr>\n",
       "      <th>zipcode_zip_12157</th>\n",
       "      <td>0.002098</td>\n",
       "    </tr>\n",
       "    <tr>\n",
       "      <th>zipcode_zip_12047</th>\n",
       "      <td>0.002091</td>\n",
       "    </tr>\n",
       "    <tr>\n",
       "      <th>neighbourhood_cleansed_Schloß Charlottenburg</th>\n",
       "      <td>0.001999</td>\n",
       "    </tr>\n",
       "    <tr>\n",
       "      <th>property_type_Bed and breakfast</th>\n",
       "      <td>0.001996</td>\n",
       "    </tr>\n",
       "    <tr>\n",
       "      <th>first_review_days_sqrt</th>\n",
       "      <td>0.001976</td>\n",
       "    </tr>\n",
       "    <tr>\n",
       "      <th>neighbourhood_cleansed_Prenzlauer Berg Nordwest</th>\n",
       "      <td>0.001911</td>\n",
       "    </tr>\n",
       "    <tr>\n",
       "      <th>zipcode_zip_10249</th>\n",
       "      <td>0.001910</td>\n",
       "    </tr>\n",
       "    <tr>\n",
       "      <th>zipcode_zip_13187</th>\n",
       "      <td>0.001866</td>\n",
       "    </tr>\n",
       "    <tr>\n",
       "      <th>zipcode_zip_12051</th>\n",
       "      <td>0.001862</td>\n",
       "    </tr>\n",
       "    <tr>\n",
       "      <th>neighbourhood_cleansed_Neue Kantstraße</th>\n",
       "      <td>0.001857</td>\n",
       "    </tr>\n",
       "    <tr>\n",
       "      <th>zipcode_zip_12045</th>\n",
       "      <td>0.001825</td>\n",
       "    </tr>\n",
       "    <tr>\n",
       "      <th>am_balcony</th>\n",
       "      <td>0.001815</td>\n",
       "    </tr>\n",
       "    <tr>\n",
       "      <th>zipcode_zip_10555</th>\n",
       "      <td>0.001799</td>\n",
       "    </tr>\n",
       "    <tr>\n",
       "      <th>zipcode_zip_12163</th>\n",
       "      <td>0.001784</td>\n",
       "    </tr>\n",
       "    <tr>\n",
       "      <th>zipcode_zip_10409</th>\n",
       "      <td>0.001781</td>\n",
       "    </tr>\n",
       "    <tr>\n",
       "      <th>zipcode_zip_10557</th>\n",
       "      <td>0.001698</td>\n",
       "    </tr>\n",
       "    <tr>\n",
       "      <th>am_breakfast</th>\n",
       "      <td>0.001695</td>\n",
       "    </tr>\n",
       "    <tr>\n",
       "      <th>zipcode_zip_10715</th>\n",
       "      <td>0.001677</td>\n",
       "    </tr>\n",
       "    <tr>\n",
       "      <th>zipcode_zip_10967</th>\n",
       "      <td>0.001667</td>\n",
       "    </tr>\n",
       "    <tr>\n",
       "      <th>zipcode_zip_10625</th>\n",
       "      <td>0.001635</td>\n",
       "    </tr>\n",
       "    <tr>\n",
       "      <th>neighbourhood_cleansed_Wedding Zentrum</th>\n",
       "      <td>0.001604</td>\n",
       "    </tr>\n",
       "    <tr>\n",
       "      <th>zipcode_zip_10781</th>\n",
       "      <td>0.001596</td>\n",
       "    </tr>\n",
       "    <tr>\n",
       "      <th>neighbourhood_cleansed_Düsseldorfer Straße</th>\n",
       "      <td>0.001556</td>\n",
       "    </tr>\n",
       "    <tr>\n",
       "      <th>neighbourhood_cleansed_Schöneberg-Süd</th>\n",
       "      <td>0.001521</td>\n",
       "    </tr>\n",
       "    <tr>\n",
       "      <th>zipcode_zip_10713</th>\n",
       "      <td>0.001512</td>\n",
       "    </tr>\n",
       "    <tr>\n",
       "      <th>cancellation_policy_strict</th>\n",
       "      <td>0.001496</td>\n",
       "    </tr>\n",
       "    <tr>\n",
       "      <th>am_private_entrance</th>\n",
       "      <td>0.001489</td>\n",
       "    </tr>\n",
       "    <tr>\n",
       "      <th>neighbourhood_cleansed_Volkspark Wilmersdorf</th>\n",
       "      <td>0.001439</td>\n",
       "    </tr>\n",
       "    <tr>\n",
       "      <th>instant_bookable</th>\n",
       "      <td>0.001431</td>\n",
       "    </tr>\n",
       "    <tr>\n",
       "      <th>neighbourhood_cleansed_Kantstraße</th>\n",
       "      <td>0.001423</td>\n",
       "    </tr>\n",
       "    <tr>\n",
       "      <th>am_nature_and_views</th>\n",
       "      <td>0.001404</td>\n",
       "    </tr>\n",
       "    <tr>\n",
       "      <th>cancellation_policy_moderate</th>\n",
       "      <td>0.001370</td>\n",
       "    </tr>\n",
       "    <tr>\n",
       "      <th>neighbourhood_cleansed_Südliche Friedrichstadt</th>\n",
       "      <td>0.001323</td>\n",
       "    </tr>\n",
       "    <tr>\n",
       "      <th>am_smoking_allowed</th>\n",
       "      <td>0.001313</td>\n",
       "    </tr>\n",
       "    <tr>\n",
       "      <th>neighbourhood_cleansed_Westend</th>\n",
       "      <td>0.001309</td>\n",
       "    </tr>\n",
       "    <tr>\n",
       "      <th>accommodates_per_bed</th>\n",
       "      <td>0.001248</td>\n",
       "    </tr>\n",
       "    <tr>\n",
       "      <th>zipcode_zip_10317</th>\n",
       "      <td>0.001247</td>\n",
       "    </tr>\n",
       "    <tr>\n",
       "      <th>zipcode_zip_14197</th>\n",
       "      <td>0.001234</td>\n",
       "    </tr>\n",
       "    <tr>\n",
       "      <th>zipcode_zip_13189</th>\n",
       "      <td>0.001178</td>\n",
       "    </tr>\n",
       "    <tr>\n",
       "      <th>neighbourhood_cleansed_Prenzlauer Berg Ost</th>\n",
       "      <td>0.001120</td>\n",
       "    </tr>\n",
       "    <tr>\n",
       "      <th>neighbourhood_cleansed_Karl-Marx-Allee-Nord</th>\n",
       "      <td>0.001088</td>\n",
       "    </tr>\n",
       "    <tr>\n",
       "      <th>zipcode_zip_13359</th>\n",
       "      <td>0.001073</td>\n",
       "    </tr>\n",
       "    <tr>\n",
       "      <th>zipcode_zip_13351</th>\n",
       "      <td>0.001072</td>\n",
       "    </tr>\n",
       "    <tr>\n",
       "      <th>zipcode_zip_13409</th>\n",
       "      <td>0.001059</td>\n",
       "    </tr>\n",
       "    <tr>\n",
       "      <th>property_type_Secondary unit</th>\n",
       "      <td>0.001038</td>\n",
       "    </tr>\n",
       "    <tr>\n",
       "      <th>zipcode_zip_10829</th>\n",
       "      <td>0.001034</td>\n",
       "    </tr>\n",
       "    <tr>\n",
       "      <th>zipcode_zip_10365</th>\n",
       "      <td>0.001022</td>\n",
       "    </tr>\n",
       "    <tr>\n",
       "      <th>am_pets_allowed</th>\n",
       "      <td>0.000997</td>\n",
       "    </tr>\n",
       "    <tr>\n",
       "      <th>zipcode_zip_14059</th>\n",
       "      <td>0.000942</td>\n",
       "    </tr>\n",
       "    <tr>\n",
       "      <th>am_white_goods</th>\n",
       "      <td>0.000916</td>\n",
       "    </tr>\n",
       "    <tr>\n",
       "      <th>neighbourhood_cleansed_Ost 2</th>\n",
       "      <td>0.000889</td>\n",
       "    </tr>\n",
       "    <tr>\n",
       "      <th>zipcode_zip_13156</th>\n",
       "      <td>0.000862</td>\n",
       "    </tr>\n",
       "    <tr>\n",
       "      <th>am_child_friendly</th>\n",
       "      <td>0.000836</td>\n",
       "    </tr>\n",
       "    <tr>\n",
       "      <th>neighbourhood_cleansed_Alt-Lichtenberg</th>\n",
       "      <td>0.000799</td>\n",
       "    </tr>\n",
       "    <tr>\n",
       "      <th>property_type_Unique space</th>\n",
       "      <td>0.000689</td>\n",
       "    </tr>\n",
       "    <tr>\n",
       "      <th>zipcode_zip_10367</th>\n",
       "      <td>0.000540</td>\n",
       "    </tr>\n",
       "    <tr>\n",
       "      <th>zipcode_zip_10315</th>\n",
       "      <td>0.000295</td>\n",
       "    </tr>\n",
       "    <tr>\n",
       "      <th>zipcode_zip_13355</th>\n",
       "      <td>0.000000</td>\n",
       "    </tr>\n",
       "    <tr>\n",
       "      <th>neighbourhood_cleansed_Karlshorst</th>\n",
       "      <td>0.000000</td>\n",
       "    </tr>\n",
       "    <tr>\n",
       "      <th>zipcode_zip_13407</th>\n",
       "      <td>0.000000</td>\n",
       "    </tr>\n",
       "    <tr>\n",
       "      <th>zipcode_zip_10318</th>\n",
       "      <td>0.000000</td>\n",
       "    </tr>\n",
       "    <tr>\n",
       "      <th>neighbourhood_cleansed_Plänterwald</th>\n",
       "      <td>0.000000</td>\n",
       "    </tr>\n",
       "    <tr>\n",
       "      <th>neighbourhood_cleansed_Barstraße</th>\n",
       "      <td>0.000000</td>\n",
       "    </tr>\n",
       "    <tr>\n",
       "      <th>zipcode_zip_10589</th>\n",
       "      <td>0.000000</td>\n",
       "    </tr>\n",
       "    <tr>\n",
       "      <th>zipcode_zip_10627</th>\n",
       "      <td>0.000000</td>\n",
       "    </tr>\n",
       "    <tr>\n",
       "      <th>zipcode_zip_10629</th>\n",
       "      <td>0.000000</td>\n",
       "    </tr>\n",
       "    <tr>\n",
       "      <th>zipcode_zip_10707</th>\n",
       "      <td>0.000000</td>\n",
       "    </tr>\n",
       "    <tr>\n",
       "      <th>zipcode_zip_10717</th>\n",
       "      <td>0.000000</td>\n",
       "    </tr>\n",
       "    <tr>\n",
       "      <th>zipcode_zip_12101</th>\n",
       "      <td>0.000000</td>\n",
       "    </tr>\n",
       "    <tr>\n",
       "      <th>zipcode_zip_10783</th>\n",
       "      <td>0.000000</td>\n",
       "    </tr>\n",
       "    <tr>\n",
       "      <th>neighbourhood_cleansed_Drakestr.</th>\n",
       "      <td>0.000000</td>\n",
       "    </tr>\n",
       "    <tr>\n",
       "      <th>neighbourhood_cleansed_Blankenfelde/Niederschönhausen</th>\n",
       "      <td>0.000000</td>\n",
       "    </tr>\n",
       "  </tbody>\n",
       "</table>\n",
       "</div>"
      ],
      "text/plain": [
       "                                                      weight\n",
       "room_type_Private room                              0.405381\n",
       "bedrooms                                            0.028635\n",
       "room_type_Shared room                               0.027683\n",
       "property_type_Boutique hotel                        0.025367\n",
       "neighbourhood_cleansed_Osloer Straße                0.017542\n",
       "room_type_Hotel room                                0.013085\n",
       "neighbourhood_cleansed_Alexanderplatz               0.013000\n",
       "bathrooms_log                                       0.011078\n",
       "calc_host_lst_count_sqrt_log                        0.009484\n",
       "zipcode_zip_10119                                   0.009205\n",
       "zipcode_zip_10117                                   0.008356\n",
       "zipcode_zip_12099                                   0.007882\n",
       "neighbourhood_cleansed_Brunnenstr. Süd              0.007591\n",
       "zipcode_zip_10178                                   0.007219\n",
       "neighbourhood_cleansed_nb_other                     0.007025\n",
       "accommodates                                        0.006805\n",
       "cancellation_policy_super_strict                    0.006364\n",
       "price_extra_people                                  0.006227\n",
       "am_elevator                                         0.005970\n",
       "zipcode_zip_10969                                   0.005516\n",
       "zipcode_zip_other                                   0.005443\n",
       "zipcode_zip_12103                                   0.005261\n",
       "zipcode_zip_10785                                   0.004764\n",
       "neighbourhood_cleansed_Grunewald                    0.004632\n",
       "wk_mth_discount                                     0.004498\n",
       "zipcode_zip_10179                                   0.004495\n",
       "zipcode_zip_10405                                   0.004339\n",
       "minimum_nights_log                                  0.004291\n",
       "zipcode_zip_13088                                   0.004233\n",
       "neighbourhood_cleansed_Frankfurter Allee Süd FK     0.004078\n",
       "neighbourhood_cleansed_Regierungsviertel            0.003972\n",
       "neighbourhood_cleansed_südliche Luisenstadt         0.003880\n",
       "zipcode_zip_10711                                   0.003812\n",
       "zipcode_zip_10777                                   0.003786\n",
       "zipcode_zip_10551                                   0.003776\n",
       "zipcode_zip_10719                                   0.003759\n",
       "review_scores_rating_sqrt                           0.003681\n",
       "neighbourhood_cleansed_Prenzlauer Berg Süd          0.003672\n",
       "zipcode_zip_10997                                   0.003632\n",
       "am_tv                                               0.003631\n",
       "zipcode_zip_12437                                   0.003561\n",
       "zipcode_zip_10553                                   0.003550\n",
       "zipcode_zip_10965                                   0.003462\n",
       "neighbourhood_cleansed_Weißensee                    0.003437\n",
       "latitude                                            0.003394\n",
       "neighbourhood_cleansed_Friedenau                    0.003379\n",
       "neighbourhood_cleansed_Karl-Marx-Allee-Süd          0.003347\n",
       "zipcode_zip_13349                                   0.003342\n",
       "longitude                                           0.003313\n",
       "availability_90                                     0.003237\n",
       "neighbourhood_cleansed_Pankow Zentrum               0.003146\n",
       "zipcode_zip_10245                                   0.003107\n",
       "neighbourhood_cleansed_nördliche Luisenstadt        0.003100\n",
       "zipcode_zip_10999                                   0.003082\n",
       "zipcode_zip_10787                                   0.003069\n",
       "zipcode_zip_12161                                   0.003062\n",
       "neighbourhood_cleansed_Schöneberg-Nord              0.003056\n",
       "neighbourhood_cleansed_Moabit West                  0.003013\n",
       "price_extra_fees_sqrt                               0.003011\n",
       "zipcode_zip_10963                                   0.003004\n",
       "neighbourhood_cleansed_Tiergarten Süd               0.002964\n",
       "zipcode_zip_13353                                   0.002937\n",
       "neighbourhood_cleansed_Mierendorffplatz             0.002931\n",
       "zipcode_zip_10247                                   0.002929\n",
       "neighbourhood_cleansed_Prenzlauer Berg Südwest      0.002899\n",
       "zipcode_zip_12435                                   0.002882\n",
       "neighbourhood_cleansed_Schillerpromenade            0.002801\n",
       "zipcode_zip_12347                                   0.002775\n",
       "zipcode_zip_10585                                   0.002758\n",
       "zipcode_zip_14057                                   0.002753\n",
       "zipcode_zip_10407                                   0.002734\n",
       "zipcode_zip_10243                                   0.002704\n",
       "neighbourhood_cleansed_Brunnenstr. Nord             0.002682\n",
       "zipcode_zip_10823                                   0.002668\n",
       "neighbourhood_cleansed_Halensee                     0.002658\n",
       "zipcode_zip_13086                                   0.002658\n",
       "neighbourhood_cleansed_Tempelhof                    0.002648\n",
       "neighbourhood_cleansed_Moabit Ost                   0.002618\n",
       "zipcode_zip_10827                                   0.002613\n",
       "zipcode_zip_12053                                   0.002598\n",
       "zipcode_zip_12055                                   0.002591\n",
       "neighbourhood_cleansed_Neu Lichtenberg              0.002562\n",
       "neighbourhood_cleansed_Zehlendorf  Nord             0.002559\n",
       "zipcode_zip_10439                                   0.002526\n",
       "zipcode_zip_nan                                     0.002516\n",
       "zipcode_zip_10435                                   0.002490\n",
       "neighbourhood_cleansed_Neuköllner Mitte/Zentrum     0.002484\n",
       "neighbourhood_cleansed_Rixdorf                      0.002483\n",
       "neighbourhood_cleansed_Reuterstraße                 0.002469\n",
       "number_of_reviews_ltm_log                           0.002467\n",
       "zipcode_zip_12059                                   0.002448\n",
       "last_review_days_sqrt                               0.002446\n",
       "neighbourhood_cleansed_Kurfürstendamm               0.002428\n",
       "zipcode_zip_10559                                   0.002427\n",
       "neighbourhood_cleansed_Britz                        0.002423\n",
       "neighbourhood_cleansed_Parkviertel                  0.002402\n",
       "neighbourhood_cleansed_Prenzlauer Berg Nord         0.002379\n",
       "maximum_nights                                      0.002373\n",
       "host_is_superhost                                   0.002361\n",
       "zipcode_zip_12049                                   0.002356\n",
       "zipcode_zip_13357                                   0.002344\n",
       "am_essentials                                       0.002334\n",
       "neighbourhood_cleansed_Otto-Suhr-Allee              0.002308\n",
       "text_len_sqrt                                       0.002303\n",
       "neighbourhood_cleansed_Baumschulenweg               0.002279\n",
       "zipcode_zip_10623                                   0.002271\n",
       "neighbourhood_cleansed_Frankfurter Allee Nord       0.002262\n",
       "neighbourhood_cleansed_Pankow Süd                   0.002260\n",
       "zipcode_zip_13347                                   0.002259\n",
       "neighbourhood_cleansed_Helmholtzplatz               0.002239\n",
       "neighbourhood_cleansed_Alt  Treptow                 0.002233\n",
       "zipcode_zip_10587                                   0.002228\n",
       "zipcode_zip_10961                                   0.002182\n",
       "zipcode_zip_10437                                   0.002160\n",
       "property_type_House                                 0.002105\n",
       "neighbourhood_cleansed_Tempelhofer Vorstadt         0.002104\n",
       "zipcode_zip_12043                                   0.002099\n",
       "zipcode_zip_12157                                   0.002098\n",
       "zipcode_zip_12047                                   0.002091\n",
       "neighbourhood_cleansed_Schloß Charlottenburg        0.001999\n",
       "property_type_Bed and breakfast                     0.001996\n",
       "first_review_days_sqrt                              0.001976\n",
       "neighbourhood_cleansed_Prenzlauer Berg Nordwest     0.001911\n",
       "zipcode_zip_10249                                   0.001910\n",
       "zipcode_zip_13187                                   0.001866\n",
       "zipcode_zip_12051                                   0.001862\n",
       "neighbourhood_cleansed_Neue Kantstraße              0.001857\n",
       "zipcode_zip_12045                                   0.001825\n",
       "am_balcony                                          0.001815\n",
       "zipcode_zip_10555                                   0.001799\n",
       "zipcode_zip_12163                                   0.001784\n",
       "zipcode_zip_10409                                   0.001781\n",
       "zipcode_zip_10557                                   0.001698\n",
       "am_breakfast                                        0.001695\n",
       "zipcode_zip_10715                                   0.001677\n",
       "zipcode_zip_10967                                   0.001667\n",
       "zipcode_zip_10625                                   0.001635\n",
       "neighbourhood_cleansed_Wedding Zentrum              0.001604\n",
       "zipcode_zip_10781                                   0.001596\n",
       "neighbourhood_cleansed_Düsseldorfer Straße          0.001556\n",
       "neighbourhood_cleansed_Schöneberg-Süd               0.001521\n",
       "zipcode_zip_10713                                   0.001512\n",
       "cancellation_policy_strict                          0.001496\n",
       "am_private_entrance                                 0.001489\n",
       "neighbourhood_cleansed_Volkspark Wilmersdorf        0.001439\n",
       "instant_bookable                                    0.001431\n",
       "neighbourhood_cleansed_Kantstraße                   0.001423\n",
       "am_nature_and_views                                 0.001404\n",
       "cancellation_policy_moderate                        0.001370\n",
       "neighbourhood_cleansed_Südliche Friedrichstadt      0.001323\n",
       "am_smoking_allowed                                  0.001313\n",
       "neighbourhood_cleansed_Westend                      0.001309\n",
       "accommodates_per_bed                                0.001248\n",
       "zipcode_zip_10317                                   0.001247\n",
       "zipcode_zip_14197                                   0.001234\n",
       "zipcode_zip_13189                                   0.001178\n",
       "neighbourhood_cleansed_Prenzlauer Berg Ost          0.001120\n",
       "neighbourhood_cleansed_Karl-Marx-Allee-Nord         0.001088\n",
       "zipcode_zip_13359                                   0.001073\n",
       "zipcode_zip_13351                                   0.001072\n",
       "zipcode_zip_13409                                   0.001059\n",
       "property_type_Secondary unit                        0.001038\n",
       "zipcode_zip_10829                                   0.001034\n",
       "zipcode_zip_10365                                   0.001022\n",
       "am_pets_allowed                                     0.000997\n",
       "zipcode_zip_14059                                   0.000942\n",
       "am_white_goods                                      0.000916\n",
       "neighbourhood_cleansed_Ost 2                        0.000889\n",
       "zipcode_zip_13156                                   0.000862\n",
       "am_child_friendly                                   0.000836\n",
       "neighbourhood_cleansed_Alt-Lichtenberg              0.000799\n",
       "property_type_Unique space                          0.000689\n",
       "zipcode_zip_10367                                   0.000540\n",
       "zipcode_zip_10315                                   0.000295\n",
       "zipcode_zip_13355                                   0.000000\n",
       "neighbourhood_cleansed_Karlshorst                   0.000000\n",
       "zipcode_zip_13407                                   0.000000\n",
       "zipcode_zip_10318                                   0.000000\n",
       "neighbourhood_cleansed_Plänterwald                  0.000000\n",
       "neighbourhood_cleansed_Barstraße                    0.000000\n",
       "zipcode_zip_10589                                   0.000000\n",
       "zipcode_zip_10627                                   0.000000\n",
       "zipcode_zip_10629                                   0.000000\n",
       "zipcode_zip_10707                                   0.000000\n",
       "zipcode_zip_10717                                   0.000000\n",
       "zipcode_zip_12101                                   0.000000\n",
       "zipcode_zip_10783                                   0.000000\n",
       "neighbourhood_cleansed_Drakestr.                    0.000000\n",
       "neighbourhood_cleansed_Blankenfelde/Niederschön...  0.000000"
      ]
     },
     "execution_count": 45,
     "metadata": {},
     "output_type": "execute_result"
    }
   ],
   "source": [
    "# Display feature importances\n",
    "fi_svm_reg = pd.DataFrame(grid_svm_reg.best_estimator_.named_steps['svm_reg'].feature_importances_, columns=['weight'], index=column_names)\n",
    "fi_svm_reg.sort_values('weight', inplace=True, ascending=False)\n",
    "fi_svm_reg"
   ]
  },
  {
   "cell_type": "markdown",
   "metadata": {},
   "source": [
    "### Final Evaluation Best Model"
   ]
  },
  {
   "cell_type": "markdown",
   "metadata": {},
   "source": [
    "## NN Model 1: Neural Networks"
   ]
  },
  {
   "cell_type": "code",
   "execution_count": null,
   "metadata": {
    "code_folding": [
     0
    ]
   },
   "outputs": [],
   "source": [
    "# Print current setting for TARGET\n",
    "target_upper = target.upper()\n",
    "y_upper = y_train.name.upper()\n",
    "print(\"You are currently using \" + f\"\\033[1m{target_upper}\\033[0m\" +\n",
    "      \" as the target\")\n",
    "print(\"The target variable y is currently set to \" +\n",
    "      f\"\\033[1m{y_upper}\\033[0m\")"
   ]
  },
  {
   "cell_type": "code",
   "execution_count": null,
   "metadata": {},
   "outputs": [],
   "source": [
    "# Build the model\n",
    "model_nn_seq = models.Sequential()\n",
    "model_nn_seq.add(\n",
    "    layers.Dense(128,\n",
    "                 input_shape=(X_train_prep.shape[1], ),\n",
    "                 kernel_regularizer=regularizers.l1(0.005),\n",
    "                 activation='relu'))\n",
    "model_nn_seq.add(\n",
    "    layers.Dense(256,\n",
    "                 kernel_regularizer=regularizers.l1(0.005),\n",
    "                 activation='relu'))\n",
    "model_nn_seq.add(\n",
    "    layers.Dense(256,\n",
    "                 kernel_regularizer=regularizers.l1(0.005),\n",
    "                 activation='relu'))\n",
    "model_nn_seq.add(\n",
    "    layers.Dense(512,\n",
    "                 kernel_regularizer=regularizers.l1(0.005),\n",
    "                 activation='relu'))\n",
    "model_nn_seq.add(layers.Dense(1, activation='linear'))\n",
    "\n",
    "# Compile the model\n",
    "model_nn_seq.compile(loss='mean_squared_error',\n",
    "                     optimizer='adam',\n",
    "                     metrics=['mean_squared_error'])\n",
    "\n",
    "# Model summary\n",
    "print(model_nn_seq.summary())\n",
    "\n",
    "# Visualize the neural network\n",
    "#SVG(model_to_dot(model_nn_seq, show_layer_names=False, show_shapes=True).create(prog='dot', format='svg'))"
   ]
  },
  {
   "cell_type": "code",
   "execution_count": null,
   "metadata": {
    "code_folding": [
     0
    ]
   },
   "outputs": [],
   "source": [
    "# Train the model\n",
    "#model_nn_seq_start = time.time()\n",
    "\n",
    "model_nn_seq_history = model_nn_seq.fit(X_train_prep,\n",
    "                                        y_train,\n",
    "                                        epochs=20,\n",
    "                                        batch_size=256,\n",
    "                                        validation_split=0.2)\n",
    "\n",
    "#model_nn_seq_end = time.time()\n",
    "\n",
    "#print(f\"Time taken to run: {round((model_nn_seq_end - model_nn_seq_start)/60,1)} minutes\")"
   ]
  },
  {
   "cell_type": "code",
   "execution_count": null,
   "metadata": {},
   "outputs": [],
   "source": [
    "# Evaluate the model\n",
    "#model_nn_seq_model_evaluation(model_nn_seq, skip_epochs=2, X_train=X_train, X_test=X_test)\n",
    "\n",
    "#score_nn_seq = model_nn_seq.evaluate(X_train_prep, y_train,verbose=1)\n",
    "#print(score_nn_seq)"
   ]
  },
  {
   "cell_type": "markdown",
   "metadata": {},
   "source": [
    "## Final Evaluation with Testing Set"
   ]
  },
  {
   "cell_type": "code",
   "execution_count": null,
   "metadata": {},
   "outputs": [],
   "source": [
    "best_models_reg = [best_model_xgb_reg, best_model_svm_reg]"
   ]
  },
  {
   "cell_type": "code",
   "execution_count": null,
   "metadata": {
    "code_folding": [
     0
    ]
   },
   "outputs": [],
   "source": [
    "# Transform X_test for final evaluation\n",
    "#X_test_prep = preprocessor.transform(X_test)"
   ]
  },
  {
   "cell_type": "code",
   "execution_count": null,
   "metadata": {
    "code_folding": [
     0
    ]
   },
   "outputs": [],
   "source": [
    "# Predict target with \"best model\"\n",
    "#y_pred_rf_reg = best_model_rf_reg.predict(X_test_prep)"
   ]
  },
  {
   "cell_type": "code",
   "execution_count": null,
   "metadata": {
    "code_folding": [
     0
    ]
   },
   "outputs": [],
   "source": [
    "# Final evaluation of \"best model\"\n",
    "#print(\"MSE: {:.2f}\".format(mean_squared_error(y_test, y_pred_rf_reg))),\n",
    "#print(\"RMSE: {:.2f}\".format(mean_squared_error(y_test, y_pred_rf_reg, squared=False))),\n",
    "#print(\"MAE: {:.2f}\".format(mean_absolute_error(y_test, y_pred_rf_reg))),\n",
    "#print(\"R2: {:.2f}\".format(r2_score(y_test, y_pred_rf_reg))),"
   ]
  },
  {
   "cell_type": "code",
   "execution_count": null,
   "metadata": {},
   "outputs": [],
   "source": [
    "# Illustrate best model\n",
    "#fig, axes = plt.subplots(1, 2, figsize = (14, 6))\n",
    "#axes = axes.flatten()\n",
    "\n",
    "#y_pred = best_model.predict(X_test_prep)\n",
    "#axes[0].scatter(y_test, y_pred)\n",
    "#axes[0].set_xlabel('y_test')\n",
    "#axes[0].set_ylabel('y_pred')\n",
    "\n",
    "#coef = best_model.best_estimator_.named_steps['xgb'].coef_\n",
    "#mean_coef = np.mean(coef)\n",
    "#axes[1].plot(coef, 'o')\n",
    "#axes[1].set_xlabel('coefficient index')\n",
    "#axes[1].set_ylabel('coefficient size')\n",
    "#axes[1].axhline(y = mean_coef, color = 'red', linestyle = '--', alpha = 0.5)\n",
    "#plt.show()"
   ]
  },
  {
   "cell_type": "code",
   "execution_count": null,
   "metadata": {
    "code_folding": [
     0
    ]
   },
   "outputs": [],
   "source": [
    "# Display confidence interval (scipy stats)\n",
    "#confidence = 0.95\n",
    "#squared_errors = (y_pred_rf_reg - y_test) ** 2\n",
    "#np.sqrt(stats.t.interval(confidence, len(squared_errors) - 1,\n",
    "#                         loc=squared_errors.mean(),\n",
    "#                         scale=stats.sem(squared_errors)))"
   ]
  },
  {
   "cell_type": "code",
   "execution_count": null,
   "metadata": {},
   "outputs": [],
   "source": []
  }
 ],
 "metadata": {
  "kernelspec": {
   "display_name": "Python [conda env:nf] *",
   "language": "python",
   "name": "conda-env-nf-py"
  },
  "language_info": {
   "codemirror_mode": {
    "name": "ipython",
    "version": 3
   },
   "file_extension": ".py",
   "mimetype": "text/x-python",
   "name": "python",
   "nbconvert_exporter": "python",
   "pygments_lexer": "ipython3",
   "version": "3.6.10"
  },
  "toc": {
   "base_numbering": 1,
   "nav_menu": {},
   "number_sections": true,
   "sideBar": true,
   "skip_h1_title": false,
   "title_cell": "Table of Contents",
   "title_sidebar": "Contents",
   "toc_cell": false,
   "toc_position": {
    "height": "calc(100% - 180px)",
    "left": "10px",
    "top": "150px",
    "width": "384px"
   },
   "toc_section_display": true,
   "toc_window_display": true
  }
 },
 "nbformat": 4,
 "nbformat_minor": 4
}
