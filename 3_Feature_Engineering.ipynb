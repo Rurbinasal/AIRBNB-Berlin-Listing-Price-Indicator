{
 "cells": [
  {
   "cell_type": "markdown",
   "metadata": {},
   "source": [
    "# Set-up"
   ]
  },
  {
   "cell_type": "code",
   "execution_count": 1,
   "metadata": {
    "code_folding": [
     0
    ]
   },
   "outputs": [],
   "source": [
    "# Import libraries\n",
    "import pandas as pd\n",
    "import numpy as np\n",
    "import seaborn as sns\n",
    "import os, glob\n",
    "import math\n",
    "from datetime import datetime\n",
    "import matplotlib.pyplot as plt"
   ]
  },
  {
   "cell_type": "code",
   "execution_count": 2,
   "metadata": {
    "code_folding": [
     0
    ]
   },
   "outputs": [],
   "source": [
    "# Dashboard (Global Variables)\n",
    "dataset_data=\"2020-03-17\" # \"2019-12-11\", \"2020-01-10\", \"2020-02-18\", \"2020-03-17\", \"2020-05-14\"\n",
    "dataset_data_plus2mth=\"2020-05-14\"\n",
    "review_tf=(\"2019-12-15\", \"2020-03-15\") # Timeframe for which reviews are considered in calculating occupancy rate\n",
    "occ_thr=0.3 # Threshold for when a listing is deemed a \"permanent rental\"\n",
    "pd.set_option('display.max_columns', 150)\n",
    "pd.set_option('display.max_rows', 100)\n",
    "pd.options.display.max_seq_items = 300\n",
    "#pd.options.display.max_rows = 4000\n",
    "sns.set(style=\"white\")\n",
    "review_rate=0.5    # Assumed share of bookings that were followed up by a user review"
   ]
  },
  {
   "cell_type": "code",
   "execution_count": 3,
   "metadata": {
    "code_folding": []
   },
   "outputs": [],
   "source": [
    "# Import data_clean\n",
    "data = pd.read_pickle(\"saves/data_clean.pkl\")"
   ]
  },
  {
   "cell_type": "code",
   "execution_count": 4,
   "metadata": {
    "code_folding": []
   },
   "outputs": [
    {
     "name": "stdout",
     "output_type": "stream",
     "text": [
      "(517826, 2)\n"
     ]
    },
    {
     "data": {
      "text/html": [
       "<div>\n",
       "<style scoped>\n",
       "    .dataframe tbody tr th:only-of-type {\n",
       "        vertical-align: middle;\n",
       "    }\n",
       "\n",
       "    .dataframe tbody tr th {\n",
       "        vertical-align: top;\n",
       "    }\n",
       "\n",
       "    .dataframe thead th {\n",
       "        text-align: right;\n",
       "    }\n",
       "</style>\n",
       "<table border=\"1\" class=\"dataframe\">\n",
       "  <thead>\n",
       "    <tr style=\"text-align: right;\">\n",
       "      <th></th>\n",
       "      <th>listing_id</th>\n",
       "      <th>date</th>\n",
       "    </tr>\n",
       "  </thead>\n",
       "  <tbody>\n",
       "    <tr>\n",
       "      <th>0</th>\n",
       "      <td>2015</td>\n",
       "      <td>2016-04-11</td>\n",
       "    </tr>\n",
       "    <tr>\n",
       "      <th>1</th>\n",
       "      <td>2015</td>\n",
       "      <td>2016-04-15</td>\n",
       "    </tr>\n",
       "    <tr>\n",
       "      <th>2</th>\n",
       "      <td>2015</td>\n",
       "      <td>2016-04-26</td>\n",
       "    </tr>\n",
       "  </tbody>\n",
       "</table>\n",
       "</div>"
      ],
      "text/plain": [
       "   listing_id       date\n",
       "0        2015 2016-04-11\n",
       "1        2015 2016-04-15\n",
       "2        2015 2016-04-26"
      ]
     },
     "execution_count": 4,
     "metadata": {},
     "output_type": "execute_result"
    }
   ],
   "source": [
    "# Import reviews.csv and convert date to datetime\n",
    "data_rev = pd.read_csv(f\"data/{dataset_data_plus2mth}/reviews.csv\")\n",
    "data_rev.date = data_rev.date.astype('datetime64[D]')\n",
    "print(data_rev.shape)\n",
    "data_rev.head(3)"
   ]
  },
  {
   "cell_type": "markdown",
   "metadata": {},
   "source": [
    "# Feature Engineering"
   ]
  },
  {
   "cell_type": "markdown",
   "metadata": {},
   "source": [
    "## General Features"
   ]
  },
  {
   "cell_type": "markdown",
   "metadata": {},
   "source": [
    "**Change column content**"
   ]
  },
  {
   "cell_type": "code",
   "execution_count": 5,
   "metadata": {
    "code_folding": [
     0
    ]
   },
   "outputs": [],
   "source": [
    "# Reduce cancellation_policy to 4 classes\n",
    "data.cancellation_policy.replace([\"strict_14_with_grace_period\", \"super_strict_60\", \"super_strict_30\"], [\"strict\", \"super_strict\", \"super_strict\"], inplace=True)"
   ]
  },
  {
   "cell_type": "code",
   "execution_count": 6,
   "metadata": {
    "code_folding": [
     0
    ]
   },
   "outputs": [],
   "source": [
    "# Reduce property_type to 6 classes, as per Airbnb classification (see listing creation in pdf)\n",
    "data.property_type.replace([\"Condominium\", \"Loft\", \"Vacation home\"], \"Apartment\", inplace=True)\n",
    "data.property_type.replace([\"Aparthotel\", \"Hostel\", \"Hotel\", \"Resort\", \"Serviced apartment\"], \"Boutique hotel\", inplace=True)\n",
    "data.property_type.replace([\"Casa particular (Cuba)\", \"Farm stay\", \"Nature lodge\", \"Pension (South Korea)\"], \"Bed and breakfast\", inplace=True)\n",
    "data.property_type.replace([\"Bungalow\", \"Cabin\", \"Chalet\", \"Cottage\", \"Dome house\", \"Earth house\", \"Houseboat\", \"Hut\", \"Lighthouse\", \"Tiny house\", \"Townhouse\", \"Villa\"], \"House\", inplace=True)\n",
    "data.property_type.replace([\"Guesthouse\", \"Guest suite\"], \"Secondary unit\", inplace=True)\n",
    "data.property_type.replace([\"Barn\", \"Boat\", \"Bus\", \"Camper/RV\", \"Campsite\", \"Castle\", \"Cave\", \"Igloo\", \"Island\", \"Plane\", \"Tent\", \"Tipi\", \"Train\", \"Treehouse\", \"Windmill\", \"Yurt\"], \"Unique space\", inplace=True)"
   ]
  },
  {
   "cell_type": "code",
   "execution_count": 7,
   "metadata": {
    "code_folding": [
     0
    ]
   },
   "outputs": [],
   "source": [
    "# Drop all listings that are not in the above 6 classes\n",
    "data = data[data.property_type.isin([\"Apartment\", \"Boutique hotel\", \"Bed and breakfast\", \"House\", \"Secondary unit\", \"Unique space\"])]"
   ]
  },
  {
   "cell_type": "code",
   "execution_count": 8,
   "metadata": {
    "code_folding": [
     0
    ]
   },
   "outputs": [],
   "source": [
    "# Fill all columns with \"0\" of \"monthly_price\" and \"weekly_price\" with 7x/30x \"price\"\n",
    "data[\"monthly_price\"] = np.where(data.monthly_price==0, data.price*30, data.monthly_price)\n",
    "data[\"weekly_price\"] = np.where(data.weekly_price==0, data.price*7, data.weekly_price)"
   ]
  },
  {
   "cell_type": "markdown",
   "metadata": {},
   "source": [
    "**Convert binary features to 1/0**"
   ]
  },
  {
   "cell_type": "code",
   "execution_count": 9,
   "metadata": {
    "code_folding": [
     0
    ]
   },
   "outputs": [],
   "source": [
    "# Convert t/f to 1/0 for various features\n",
    "data.host_is_superhost.replace([\"t\", \"f\"], [1, 0], inplace=True)\n",
    "data.host_identity_verified.replace([\"t\", \"f\"], [1, 0], inplace=True)\n",
    "data.is_location_exact.replace([\"t\", \"f\"], [1, 0], inplace=True)\n",
    "data.instant_bookable.replace([\"t\", \"f\"], [1, 0], inplace=True)"
   ]
  },
  {
   "cell_type": "code",
   "execution_count": 10,
   "metadata": {
    "code_folding": [
     0
    ]
   },
   "outputs": [],
   "source": [
    "# Change availability_365 to 1/0\n",
    "data.availability_365 = np.where(data.availability_365!=0, 1, 0)"
   ]
  },
  {
   "cell_type": "code",
   "execution_count": 11,
   "metadata": {
    "code_folding": [
     0
    ]
   },
   "outputs": [],
   "source": [
    "# Create 1/0 for text descriptions\n",
    "#data[\"description_exist\"] = [0 for i in range(len(data.index))]\n",
    "data[\"description_exist\"] = np.where(data.description!=\"\", 1, 0)\n",
    "data[\"house_rules_exist\"] = np.where(data.house_rules!=\"\", 1, 0)\n",
    "data[\"interaction_exist\"] = np.where(data.interaction!=\"\", 1, 0)\n",
    "data[\"neighborhood_overview_exist\"] = np.where(data.neighborhood_overview!=\"\", 1, 0)\n",
    "data[\"notes_exist\"] = np.where(data.notes!=\"\", 1, 0)\n",
    "data[\"space_exist\"] = np.where(data.space!=\"\", 1, 0)\n",
    "data[\"summary_exist\"] = np.where(data.summary!=\"\", 1, 0)\n",
    "data[\"transit_exist\"] = np.where(data.transit!=\"\", 1, 0)"
   ]
  },
  {
   "cell_type": "markdown",
   "metadata": {},
   "source": [
    "**Create numerical features**"
   ]
  },
  {
   "cell_type": "code",
   "execution_count": 12,
   "metadata": {
    "code_folding": [
     0
    ]
   },
   "outputs": [],
   "source": [
    "# Calculate \"price_calc\" for one person from \"price\", \"guests_included\", \"extra_people\" and remove listings where \"price_calc\" ends up being <= 5\n",
    "data[\"price_calc\"] = data.price - 0.5*data.extra_people*(data.guests_included-1)\n",
    "data = data[data.price_calc > 5]"
   ]
  },
  {
   "cell_type": "code",
   "execution_count": 13,
   "metadata": {
    "code_folding": [
     0
    ]
   },
   "outputs": [],
   "source": [
    "# Calculate \"price_extra_people\" (price) for additional persons from \"price\", \"guests_included\", \"extra_people\" and \"accommodates\"\n",
    "data[\"price_extra_people\"] = (data.extra_people*(data.accommodates-data.guests_included)+(0.5*data.extra_people*(data.guests_included-1)))/(data.accommodates-1)\n",
    "data.price_extra_people.fillna(0, inplace=True)"
   ]
  },
  {
   "cell_type": "code",
   "execution_count": 14,
   "metadata": {
    "code_folding": [
     0
    ]
   },
   "outputs": [],
   "source": [
    "# Calculate occurrence of \"price_extra_fees\" from \"security_deposit\" and \"cleaning_fee\"\n",
    "data[\"price_extra_fees\"] = 0 + data.security_deposit + data.cleaning_fee"
   ]
  },
  {
   "cell_type": "code",
   "execution_count": 15,
   "metadata": {
    "code_folding": [
     0
    ]
   },
   "outputs": [],
   "source": [
    "# Calculate \"descr_detail\" as measure for how well the listing is described\n",
    "data[\"descr_detail\"] = 0 + data.description_exist + data.house_rules_exist + data.interaction_exist + data.neighborhood_overview_exist + data.notes_exist + data.space_exist + data.summary_exist + data.transit_exist"
   ]
  },
  {
   "cell_type": "code",
   "execution_count": 16,
   "metadata": {
    "code_folding": [
     0
    ]
   },
   "outputs": [],
   "source": [
    "# Calculate \"accommodates_per_bed\" as feature to de-correlate \"accommodates\", \"beds\" and \"bedrooms\"\n",
    "data[\"accommodates_per_bed\"] = data.accommodates/data.beds"
   ]
  },
  {
   "cell_type": "code",
   "execution_count": 17,
   "metadata": {
    "code_folding": [
     0
    ]
   },
   "outputs": [],
   "source": [
    "# Calculate \"wk_mth_discount\" from \"monthly_price\" and \"weekly_price\" with \"price\"\n",
    "data[\"wk_mth_discount\"] = ((data.price*30-data.monthly_price)/(data.price*30) + (data.price*7-data.weekly_price)/(data.price*7)) / 2"
   ]
  },
  {
   "cell_type": "code",
   "execution_count": 18,
   "metadata": {
    "code_folding": [
     0
    ]
   },
   "outputs": [],
   "source": [
    "# Calculate days since \"first_review_days\"\n",
    "data[\"first_review_days\"] = (datetime.strptime(dataset_data, '%Y-%m-%d'))-data.first_review\n",
    "data.first_review_days = [i.days for i in data.first_review_days]"
   ]
  },
  {
   "cell_type": "code",
   "execution_count": 19,
   "metadata": {
    "code_folding": [
     0
    ]
   },
   "outputs": [],
   "source": [
    "# Calculate days since \"last_review_days\"\n",
    "data[\"last_review_days\"] = (datetime.strptime(dataset_data, '%Y-%m-%d'))-data.last_review\n",
    "data.last_review_days = [i.days for i in data.last_review_days]"
   ]
  },
  {
   "cell_type": "markdown",
   "metadata": {},
   "source": [
    "**Create categorical features**"
   ]
  },
  {
   "cell_type": "code",
   "execution_count": 20,
   "metadata": {
    "code_folding": []
   },
   "outputs": [],
   "source": [
    "# Categorize listings by \"state\" (basic, moderate, luxurious)"
   ]
  },
  {
   "cell_type": "code",
   "execution_count": 21,
   "metadata": {
    "code_folding": [
     0
    ]
   },
   "outputs": [],
   "source": [
    "# Create \"text_len\" as word count from text-based (.split().count)\n",
    "data[\"description_len\"] = [len(i.split()) for i in data.description]\n",
    "data[\"house_rules_len\"] = [len(i.split()) for i in data.house_rules]\n",
    "data[\"interaction_len\"] = [len(i.split()) for i in data.interaction]\n",
    "data[\"neighborhood_overview_len\"] = [len(i.split()) for i in data.neighborhood_overview]\n",
    "data[\"notes_len\"] = [len(i.split()) for i in data.notes]\n",
    "data[\"space_len\"] = [len(i.split()) for i in data.space]\n",
    "data[\"summary_len\"] = [len(i.split()) for i in data.summary]\n",
    "data[\"transit_len\"] = [len(i.split()) for i in data.transit]\n",
    "data[\"text_len\"] = (data.description_len/data.description_len.max() + data.house_rules_len/data.house_rules_len.max() +\n",
    "                    data.interaction_len/data.interaction_len.max() + data.neighborhood_overview_len/data.neighborhood_overview_len.max() +\n",
    "                    data.notes_len/data.notes_len.max() + data.space_len/data.space_len.max() + data.summary_len/data.summary_len.max() +\n",
    "                    data.transit_len/data.transit_len.max()) / 8\n",
    "data.text_len = data.text_len/data.text_len.max()"
   ]
  },
  {
   "cell_type": "code",
   "execution_count": 22,
   "metadata": {
    "code_folding": []
   },
   "outputs": [],
   "source": [
    "# Categorize listings as \"review_scores_class\" by \"review_scores_rating\"\n",
    "review_scores_class = []\n",
    "for score in data.review_scores_rating:\n",
    "    if score == 0:\n",
    "        review_scores_class.append(0)\n",
    "    elif score <= 89:\n",
    "        review_scores_class.append(1)\n",
    "    elif score <= 93:\n",
    "        review_scores_class.append(2)\n",
    "    elif score <= 96:\n",
    "        review_scores_class.append(3)\n",
    "    elif score <= 99:\n",
    "        review_scores_class.append(4)\n",
    "    else:\n",
    "        review_scores_class.append(5)\n",
    "data[\"review_scores_class\"] = review_scores_class"
   ]
  },
  {
   "cell_type": "code",
   "execution_count": 23,
   "metadata": {
    "code_folding": [
     0
    ]
   },
   "outputs": [],
   "source": [
    "# Categorize listings as \"price_class\" by \"price_calc\"\n",
    "price_class = []\n",
    "for price in data.price_calc:\n",
    "    if price <= 30:\n",
    "        price_class.append(0)\n",
    "    elif price <= 45:\n",
    "        price_class.append(1)\n",
    "    elif price <= 70:\n",
    "        price_class.append(2)\n",
    "    elif price <= 100:\n",
    "        price_class.append(3)\n",
    "    else:\n",
    "        price_class.append(4)\n",
    "data[\"price_class\"] = price_class"
   ]
  },
  {
   "cell_type": "markdown",
   "metadata": {},
   "source": [
    "**Convert text columns into meaningful information**"
   ]
  },
  {
   "cell_type": "code",
   "execution_count": 24,
   "metadata": {},
   "outputs": [],
   "source": [
    "# TO-DO: data.description.sample(5)"
   ]
  },
  {
   "cell_type": "markdown",
   "metadata": {},
   "source": [
    "**Create log/sqrt from existing features**\n",
    "\n",
    "Now we will replace certain features, which have relatively high skew (see 2_Clean), with their log"
   ]
  },
  {
   "cell_type": "code",
   "execution_count": 25,
   "metadata": {
    "code_folding": [
     0
    ]
   },
   "outputs": [],
   "source": [
    "# Create log \"bathrooms_log\" for numerical feature \"bathrooms\"\n",
    "data[\"bathrooms_log\"] = [math.log(el) for el in data[\"bathrooms\"]]"
   ]
  },
  {
   "cell_type": "code",
   "execution_count": 26,
   "metadata": {
    "code_folding": [
     0
    ]
   },
   "outputs": [],
   "source": [
    "# Create sqrt and log \"calc_host_lst_count_sqrt_log\" for numerical feature \"calculated_host_listings_count\"\n",
    "data[\"calc_host_lst_count_sqrt_log\"] = [math.log(math.sqrt(el)) for el in data[\"calculated_host_listings_count\"]]"
   ]
  },
  {
   "cell_type": "code",
   "execution_count": 27,
   "metadata": {
    "code_folding": [
     0
    ]
   },
   "outputs": [],
   "source": [
    "# Create sqrt \"first_review_days_sqrt\" for numerical feature \"first_review_days\"\n",
    "data[\"first_review_days_sqrt\"] = [math.sqrt(el) for el in data.first_review_days]"
   ]
  },
  {
   "cell_type": "code",
   "execution_count": 28,
   "metadata": {
    "code_folding": [
     0
    ]
   },
   "outputs": [],
   "source": [
    "# Create sqrt \"last_review_days_sqrt\" for numerical feature \"last_review_days\"\n",
    "data[\"last_review_days_sqrt\"] = [math.sqrt(el) for el in data.last_review_days]"
   ]
  },
  {
   "cell_type": "code",
   "execution_count": 29,
   "metadata": {
    "code_folding": [
     0
    ]
   },
   "outputs": [],
   "source": [
    "# Create sqrt \"minimum_nights_sqrt\" for numerical feature \"minimum_nights\"\n",
    "data[\"minimum_nights_log\"] = [math.sqrt(el) for el in data[\"minimum_nights\"]]"
   ]
  },
  {
   "cell_type": "code",
   "execution_count": 30,
   "metadata": {
    "code_folding": [
     0
    ],
    "scrolled": true
   },
   "outputs": [],
   "source": [
    "# Create log \"price_extra_fees_sqrt\" for numerical feature \"price_extra_fees\"\n",
    "data[\"price_extra_fees_sqrt\"] = [math.sqrt(el) for el in data[\"price_extra_fees\"]]"
   ]
  },
  {
   "cell_type": "code",
   "execution_count": 31,
   "metadata": {
    "code_folding": [
     0
    ]
   },
   "outputs": [],
   "source": [
    "# Create log \"price_log\" for numerical feature \"price_calc\"\n",
    "data[\"price_log\"] = [math.log(el) for el in data[\"price_calc\"]]"
   ]
  },
  {
   "cell_type": "code",
   "execution_count": 32,
   "metadata": {
    "code_folding": [
     0
    ]
   },
   "outputs": [],
   "source": [
    "# Create sqrt \"review_scores_rating_sqrt\" for numerical feature \"review_scores_rating\"\n",
    "review_max = data.review_scores_rating.max()\n",
    "data[\"review_scores_rating_sqrt\"] = [math.sqrt(review_max-el) for el in data.review_scores_rating]\n",
    "review_log_max = data.review_scores_rating_sqrt.max()\n",
    "data[\"review_scores_rating_sqrt\"] = [(review_log_max-el) for el in data.review_scores_rating_sqrt]\n",
    "#data[\"review_scores_rating_sqrt\"].plot(kind='hist', bins=50, figsize=(12,6), facecolor='grey',edgecolor='black');"
   ]
  },
  {
   "cell_type": "code",
   "execution_count": 33,
   "metadata": {
    "code_folding": [
     0
    ]
   },
   "outputs": [],
   "source": [
    "# Create log \"text_len_sqrt\" for numerical feature \"text_len\"\n",
    "data[\"text_len_sqrt\"] = [math.sqrt(el) for el in data[\"text_len\"]]"
   ]
  },
  {
   "cell_type": "markdown",
   "metadata": {},
   "source": [
    "## Occupancy"
   ]
  },
  {
   "cell_type": "markdown",
   "metadata": {},
   "source": [
    "Calculation of **occupancy rate** is inspired by the **San Francisco model**, which is also applied by [Inside AirBnB](http://insideairbnb.com/about.html):\n",
    "\n",
    "- (**A**) Determine the **average length of stay for Berlin**\n",
    "- (**B**) Calculate **reviews relevant for considered timeframe**\n",
    "- (**C**) Determine **active months in timeframe** from price (not relevant if only 1 month)\n",
    "- (**D**) Estimate **# of bookings in considered timeframe** using (**B**)\n",
    "- (**E**) **Occupancy rate** = (**D**)x(**A**) / ((**C**)/months x time span)\n",
    "\n",
    "Read more about the core idea behind the calculations of the model [here](https://sfbos.org/sites/default/files/FileCenter/Documents/52601-BLA.ShortTermRentals.051315.pdf). Assumptions were adapted for the purpose of this analysis, mainly due to the core idea of considering only the two most recent years."
   ]
  },
  {
   "cell_type": "markdown",
   "metadata": {},
   "source": [
    "(**A**) Determine the **average length of stay for Berlin** (assumed 3 days in most cities)\n",
    "\n",
    "For the purpose of this model, around **3 nights** are assumed as average length of stay in Berlin and used as basis for calculation, unless a higher minimum length is specified\n",
    "- Back in 2016, [4.6](https://www.airbnbcitizen.com/wp-content/uploads/2016/04/airbnb-community-berlin-en.pdf) has been reported as the average length of stay\n",
    "- Inside AirBnB uses 3 nights for cities where no current data is available, but uses [6.3 nights](http://insideairbnb.com/berlin/#) for its Berlin visualization"
   ]
  },
  {
   "cell_type": "code",
   "execution_count": 34,
   "metadata": {
    "code_folding": [
     0
    ]
   },
   "outputs": [],
   "source": [
    "# Add column to main dataframe for avg length of stay, being either a) 5 nights or b) minimum_nights if higher than 5 or c) avg of min and max if max is 5 or lower\n",
    "avg_nights = []\n",
    "for idx in data.index:\n",
    "    if data.maximum_nights[idx] <= 5:\n",
    "        avg_nights.append(\n",
    "            (data.maximum_nights[idx] + data.minimum_nights[idx]) / 2)\n",
    "    elif data.minimum_nights[idx] > 3:\n",
    "        avg_nights.append(data.minimum_nights[idx])\n",
    "    else:\n",
    "        avg_nights.append(3)\n",
    "data[\"avg_nights\"] = avg_nights"
   ]
  },
  {
   "cell_type": "markdown",
   "metadata": {},
   "source": [
    "(**B**) Calculate **reviews in considered timeframe**"
   ]
  },
  {
   "cell_type": "code",
   "execution_count": 35,
   "metadata": {
    "code_folding": [
     0
    ]
   },
   "outputs": [
    {
     "data": {
      "text/plain": [
       "(8352, 1)"
      ]
     },
     "execution_count": 35,
     "metadata": {},
     "output_type": "execute_result"
    }
   ],
   "source": [
    "# Keep only reviews within a specified timeframe (see Dashboard)\n",
    "data_rev_count = data_rev[(data_rev.date > review_tf[0]) & (data_rev.date < review_tf[1])]\n",
    "data_rev_count = pd.DataFrame(data_rev_count.listing_id.value_counts()) # Count reviews per listing and save as table\n",
    "data_rev_count.shape"
   ]
  },
  {
   "cell_type": "code",
   "execution_count": 36,
   "metadata": {
    "code_folding": []
   },
   "outputs": [],
   "source": [
    "# Merge review count to \"data\"\n",
    "data_rev_count.rename(columns={\"listing_id\": \"reviews_3mth\"}, inplace=True)     # Change column name\n",
    "data = pd.merge(data, data_rev_count, how=\"left\", left_index=True, right_index=True)    # Add column to main dataset\n",
    "data.reviews_3mth.fillna(0, inplace=True)"
   ]
  },
  {
   "cell_type": "markdown",
   "metadata": {},
   "source": [
    "(**C**) Determine **active months and relevant months** from price"
   ]
  },
  {
   "cell_type": "code",
   "execution_count": 37,
   "metadata": {
    "code_folding": [
     0
    ]
   },
   "outputs": [],
   "source": [
    "# Count the months where listings were online with a price (not relevant if 1 mth)\n",
    "data[\"active_months\"] = 1\n",
    "relevant_mths = 1"
   ]
  },
  {
   "cell_type": "markdown",
   "metadata": {},
   "source": [
    "(**D**) Estimate **# of bookings in considered timeframe** by dividing (**B**) through an assumed 50% review rate (i.e. one review corresponds to two bookings)"
   ]
  },
  {
   "cell_type": "code",
   "execution_count": 38,
   "metadata": {
    "code_folding": [
     0
    ]
   },
   "outputs": [],
   "source": [
    "# Calculate bookings estimate and replace NaN with 0\n",
    "data[\"bookings_est\"] = data.reviews_3mth / review_rate\n",
    "data.bookings_est.fillna(0, inplace=True)"
   ]
  },
  {
   "cell_type": "markdown",
   "metadata": {},
   "source": [
    "(**E**) **Occupancy rate** = (**D**)x(**A**) / ((**C**)/months x time span)"
   ]
  },
  {
   "cell_type": "code",
   "execution_count": 39,
   "metadata": {
    "code_folding": [
     0
    ]
   },
   "outputs": [],
   "source": [
    "# Calculate occupancy rate\n",
    "data[\"occupancy_rate\"] = data.bookings_est * data.avg_nights / (data.active_months/relevant_mths*90)"
   ]
  },
  {
   "cell_type": "markdown",
   "metadata": {},
   "source": [
    "**Modify occupancy rate**"
   ]
  },
  {
   "cell_type": "code",
   "execution_count": 40,
   "metadata": {
    "code_folding": [
     0
    ]
   },
   "outputs": [],
   "source": [
    "# Cap occupancy at 100%\n",
    "occupancy_temp = []\n",
    "for rate in data.occupancy_rate:\n",
    "    if rate < 1:\n",
    "        occupancy_temp.append(rate)\n",
    "    else:\n",
    "        occupancy_temp.append(1)\n",
    "data.occupancy_rate = occupancy_temp"
   ]
  },
  {
   "cell_type": "code",
   "execution_count": 41,
   "metadata": {
    "code_folding": [
     0
    ]
   },
   "outputs": [],
   "source": [
    "# Split occupancy into 2 classes according to threshold (splitting into temporary and permanent rentals)\n",
    "occupancy_class = []\n",
    "for rate in data.occupancy_rate:\n",
    "    if rate < 0.3:\n",
    "        occupancy_class.append(0)\n",
    "    else:\n",
    "        occupancy_class.append(1)\n",
    "data[\"occupancy_class\"] = occupancy_class"
   ]
  },
  {
   "cell_type": "code",
   "execution_count": 42,
   "metadata": {
    "code_folding": [
     0
    ]
   },
   "outputs": [
    {
     "data": {
      "text/plain": [
       "0    7485\n",
       "1    3128\n",
       "Name: occupancy_class, dtype: int64"
      ]
     },
     "execution_count": 42,
     "metadata": {},
     "output_type": "execute_result"
    }
   ],
   "source": [
    "# Show occupancy split\n",
    "data.occupancy_class.value_counts()"
   ]
  },
  {
   "cell_type": "markdown",
   "metadata": {},
   "source": [
    "## Final Check, Cleaning and Export"
   ]
  },
  {
   "cell_type": "code",
   "execution_count": 43,
   "metadata": {
    "code_folding": [
     0
    ]
   },
   "outputs": [],
   "source": [
    "# Sort columns in dataset\n",
    "data = data.reindex(sorted(data.columns, reverse=False), axis=1)"
   ]
  },
  {
   "cell_type": "code",
   "execution_count": 44,
   "metadata": {
    "code_folding": [
     0
    ]
   },
   "outputs": [],
   "source": [
    "# Drop further columns\n",
    "data.drop(\n",
    "    [\n",
    "        \"active_months\",\n",
    "        \"amenities\",\n",
    "        \"am_coffee_machine\",\n",
    "        \"am_cooking_basics\",\n",
    "        \"am_parking\",\n",
    "        \"availability_365\",\n",
    "        \"avg_nights\",\n",
    "        \"bathrooms\",\n",
    "        \"beds\",\n",
    "        \"bookings_est\",\n",
    "        \"calculated_host_listings_count\",\n",
    "        \"cleaning_fee\",\n",
    "        \"descr_detail\",\n",
    "        \"description\",\n",
    "        \"description_exist\",\n",
    "        \"description_len\",\n",
    "        \"description_exist\",\n",
    "        \"extra_people\",\n",
    "        \"first_review\",\n",
    "        \"first_review_days\",\n",
    "        \"guests_included\",\n",
    "        \"host_identity_verified\",\n",
    "        \"house_rules\",\n",
    "        \"house_rules_exist\",\n",
    "        \"house_rules_len\",\n",
    "        \"interaction\",\n",
    "        \"interaction_exist\",\n",
    "        \"interaction_len\",\n",
    "        \"is_location_exact\",\n",
    "        \"last_review\",\n",
    "        \"last_review_days\",\n",
    "        \"minimum_nights\",\n",
    "        \"monthly_price\",\n",
    "        \"name\",\n",
    "        \"neighborhood_overview\",\n",
    "        \"neighborhood_overview_exist\",\n",
    "        \"neighborhood_overview_len\",\n",
    "        \"notes\",\n",
    "        \"notes_exist\",\n",
    "        \"notes_len\",\n",
    "#        \"occupancy_class\",\n",
    "        \"price\",\n",
    "        \"price_calc\",\n",
    "        #        \"price_avg\", \"price_diff\", \"price_diff_perc\",\n",
    "        \"price_extra_fees\",\n",
    "        \"review_scores_rating\",\n",
    "        \"reviews_3mth\",\n",
    "        \"security_deposit\",\n",
    "        \"space\",\n",
    "        \"space_exist\",\n",
    "        \"space_len\",\n",
    "        \"summary\",\n",
    "        \"summary_exist\",\n",
    "        \"summary_len\",\n",
    "        \"text_len\",\n",
    "        \"transit\",\n",
    "        \"transit_exist\",\n",
    "        \"transit_len\",\n",
    "        \"weekly_price\"\n",
    "    ],\n",
    "    inplace=True,\n",
    "    axis=1)"
   ]
  },
  {
   "cell_type": "markdown",
   "metadata": {},
   "source": [
    "| **DROPPED FEATURE** | **REASONING** |\n",
    "| :----- | :----- |\n",
    "| **am_coffee_machine** | high correlation (>0.3) with >5 other features |\n",
    "| **am_parking** | high correlation (>0.3) with >5 other features |\n",
    "| **availability_365** | high correlation (>0.3) with >5 other features |\n",
    "| **descr_detail** | dropped in favour of **text_len** |\n",
    "| **** |  |\n",
    "| **** |  |\n",
    "| **** |  |\n",
    "| **** |  |\n",
    "| **** |  |\n",
    "| **** |  |\n",
    "| **** |  |\n",
    "| **** |  |\n",
    "| **** |  |\n"
   ]
  },
  {
   "cell_type": "code",
   "execution_count": 45,
   "metadata": {
    "code_folding": [
     0
    ],
    "scrolled": false
   },
   "outputs": [
    {
     "name": "stdout",
     "output_type": "stream",
     "text": [
      "<class 'pandas.core.frame.DataFrame'>\n",
      "Int64Index: 10613 entries, 3176 to 42885615\n",
      "Data columns (total 40 columns):\n",
      " #   Column                        Non-Null Count  Dtype  \n",
      "---  ------                        --------------  -----  \n",
      " 0   accommodates                  10613 non-null  int64  \n",
      " 1   accommodates_per_bed          10613 non-null  float64\n",
      " 2   am_balcony                    10613 non-null  float64\n",
      " 3   am_breakfast                  10613 non-null  float64\n",
      " 4   am_child_friendly             10613 non-null  float64\n",
      " 5   am_elevator                   10613 non-null  float64\n",
      " 6   am_essentials                 10613 non-null  float64\n",
      " 7   am_nature_and_views           10613 non-null  float64\n",
      " 8   am_pets_allowed               10613 non-null  float64\n",
      " 9   am_private_entrance           10613 non-null  float64\n",
      " 10  am_smoking_allowed            10613 non-null  float64\n",
      " 11  am_tv                         10613 non-null  float64\n",
      " 12  am_white_goods                10613 non-null  float64\n",
      " 13  availability_90               10613 non-null  int64  \n",
      " 14  bathrooms_log                 10613 non-null  float64\n",
      " 15  bedrooms                      10613 non-null  float64\n",
      " 16  calc_host_lst_count_sqrt_log  10613 non-null  float64\n",
      " 17  cancellation_policy           10613 non-null  object \n",
      " 18  first_review_days_sqrt        10613 non-null  float64\n",
      " 19  host_is_superhost             10613 non-null  int64  \n",
      " 20  instant_bookable              10613 non-null  int64  \n",
      " 21  last_review_days_sqrt         10613 non-null  float64\n",
      " 22  latitude                      10613 non-null  float64\n",
      " 23  longitude                     10613 non-null  float64\n",
      " 24  maximum_nights                10613 non-null  int64  \n",
      " 25  minimum_nights_log            10613 non-null  float64\n",
      " 26  neighbourhood_cleansed        10613 non-null  object \n",
      " 27  occupancy_class               10613 non-null  int64  \n",
      " 28  occupancy_rate                10613 non-null  float64\n",
      " 29  price_class                   10613 non-null  int64  \n",
      " 30  price_extra_fees_sqrt         10613 non-null  float64\n",
      " 31  price_extra_people            10613 non-null  float64\n",
      " 32  price_log                     10613 non-null  float64\n",
      " 33  property_type                 10613 non-null  object \n",
      " 34  review_scores_class           10613 non-null  int64  \n",
      " 35  review_scores_rating_sqrt     10613 non-null  float64\n",
      " 36  room_type                     10613 non-null  object \n",
      " 37  text_len_sqrt                 10613 non-null  float64\n",
      " 38  wk_mth_discount               10613 non-null  float64\n",
      " 39  zipcode                       10613 non-null  object \n",
      "dtypes: float64(27), int64(8), object(5)\n",
      "memory usage: 3.6+ MB\n"
     ]
    }
   ],
   "source": [
    "# Review datatypes (data.info()) (post-engineering)\n",
    "data.info()"
   ]
  },
  {
   "cell_type": "code",
   "execution_count": 46,
   "metadata": {
    "code_folding": [
     0
    ]
   },
   "outputs": [
    {
     "name": "stdout",
     "output_type": "stream",
     "text": [
      "(10613, 40)\n"
     ]
    },
    {
     "data": {
      "text/html": [
       "<div>\n",
       "<style scoped>\n",
       "    .dataframe tbody tr th:only-of-type {\n",
       "        vertical-align: middle;\n",
       "    }\n",
       "\n",
       "    .dataframe tbody tr th {\n",
       "        vertical-align: top;\n",
       "    }\n",
       "\n",
       "    .dataframe thead th {\n",
       "        text-align: right;\n",
       "    }\n",
       "</style>\n",
       "<table border=\"1\" class=\"dataframe\">\n",
       "  <thead>\n",
       "    <tr style=\"text-align: right;\">\n",
       "      <th></th>\n",
       "      <th>accommodates</th>\n",
       "      <th>accommodates_per_bed</th>\n",
       "      <th>am_balcony</th>\n",
       "      <th>am_breakfast</th>\n",
       "      <th>am_child_friendly</th>\n",
       "      <th>am_elevator</th>\n",
       "      <th>am_essentials</th>\n",
       "      <th>am_nature_and_views</th>\n",
       "      <th>am_pets_allowed</th>\n",
       "      <th>am_private_entrance</th>\n",
       "      <th>am_smoking_allowed</th>\n",
       "      <th>am_tv</th>\n",
       "      <th>am_white_goods</th>\n",
       "      <th>availability_90</th>\n",
       "      <th>bathrooms_log</th>\n",
       "      <th>bedrooms</th>\n",
       "      <th>calc_host_lst_count_sqrt_log</th>\n",
       "      <th>cancellation_policy</th>\n",
       "      <th>first_review_days_sqrt</th>\n",
       "      <th>host_is_superhost</th>\n",
       "      <th>instant_bookable</th>\n",
       "      <th>last_review_days_sqrt</th>\n",
       "      <th>latitude</th>\n",
       "      <th>longitude</th>\n",
       "      <th>maximum_nights</th>\n",
       "      <th>minimum_nights_log</th>\n",
       "      <th>neighbourhood_cleansed</th>\n",
       "      <th>occupancy_class</th>\n",
       "      <th>occupancy_rate</th>\n",
       "      <th>price_class</th>\n",
       "      <th>price_extra_fees_sqrt</th>\n",
       "      <th>price_extra_people</th>\n",
       "      <th>price_log</th>\n",
       "      <th>property_type</th>\n",
       "      <th>review_scores_class</th>\n",
       "      <th>review_scores_rating_sqrt</th>\n",
       "      <th>room_type</th>\n",
       "      <th>text_len_sqrt</th>\n",
       "      <th>wk_mth_discount</th>\n",
       "      <th>zipcode</th>\n",
       "    </tr>\n",
       "    <tr>\n",
       "      <th>id</th>\n",
       "      <th></th>\n",
       "      <th></th>\n",
       "      <th></th>\n",
       "      <th></th>\n",
       "      <th></th>\n",
       "      <th></th>\n",
       "      <th></th>\n",
       "      <th></th>\n",
       "      <th></th>\n",
       "      <th></th>\n",
       "      <th></th>\n",
       "      <th></th>\n",
       "      <th></th>\n",
       "      <th></th>\n",
       "      <th></th>\n",
       "      <th></th>\n",
       "      <th></th>\n",
       "      <th></th>\n",
       "      <th></th>\n",
       "      <th></th>\n",
       "      <th></th>\n",
       "      <th></th>\n",
       "      <th></th>\n",
       "      <th></th>\n",
       "      <th></th>\n",
       "      <th></th>\n",
       "      <th></th>\n",
       "      <th></th>\n",
       "      <th></th>\n",
       "      <th></th>\n",
       "      <th></th>\n",
       "      <th></th>\n",
       "      <th></th>\n",
       "      <th></th>\n",
       "      <th></th>\n",
       "      <th></th>\n",
       "      <th></th>\n",
       "      <th></th>\n",
       "      <th></th>\n",
       "      <th></th>\n",
       "    </tr>\n",
       "  </thead>\n",
       "  <tbody>\n",
       "    <tr>\n",
       "      <th>3176</th>\n",
       "      <td>4</td>\n",
       "      <td>2.0</td>\n",
       "      <td>0.0</td>\n",
       "      <td>0.0</td>\n",
       "      <td>1.0</td>\n",
       "      <td>0.0</td>\n",
       "      <td>1.0</td>\n",
       "      <td>0.0</td>\n",
       "      <td>0.0</td>\n",
       "      <td>0.0</td>\n",
       "      <td>0.0</td>\n",
       "      <td>0.0</td>\n",
       "      <td>1.0</td>\n",
       "      <td>0</td>\n",
       "      <td>0.0</td>\n",
       "      <td>1.0</td>\n",
       "      <td>0.0</td>\n",
       "      <td>strict</td>\n",
       "      <td>62.633857</td>\n",
       "      <td>0</td>\n",
       "      <td>0</td>\n",
       "      <td>16.248077</td>\n",
       "      <td>52.53500</td>\n",
       "      <td>13.41758</td>\n",
       "      <td>1125</td>\n",
       "      <td>7.874008</td>\n",
       "      <td>Prenzlauer Berg Südwest</td>\n",
       "      <td>0</td>\n",
       "      <td>0.0</td>\n",
       "      <td>3</td>\n",
       "      <td>20.000000</td>\n",
       "      <td>16.666667</td>\n",
       "      <td>4.382027</td>\n",
       "      <td>Apartment</td>\n",
       "      <td>2</td>\n",
       "      <td>6.298521</td>\n",
       "      <td>Entire home/apt</td>\n",
       "      <td>0.771052</td>\n",
       "      <td>0.235450</td>\n",
       "      <td>zip_10405</td>\n",
       "    </tr>\n",
       "    <tr>\n",
       "      <th>3309</th>\n",
       "      <td>1</td>\n",
       "      <td>1.0</td>\n",
       "      <td>0.0</td>\n",
       "      <td>0.0</td>\n",
       "      <td>0.0</td>\n",
       "      <td>0.0</td>\n",
       "      <td>1.0</td>\n",
       "      <td>0.0</td>\n",
       "      <td>1.0</td>\n",
       "      <td>0.0</td>\n",
       "      <td>0.0</td>\n",
       "      <td>0.0</td>\n",
       "      <td>1.0</td>\n",
       "      <td>45</td>\n",
       "      <td>0.0</td>\n",
       "      <td>1.0</td>\n",
       "      <td>0.0</td>\n",
       "      <td>strict</td>\n",
       "      <td>49.081565</td>\n",
       "      <td>0</td>\n",
       "      <td>0</td>\n",
       "      <td>17.058722</td>\n",
       "      <td>52.49885</td>\n",
       "      <td>13.34906</td>\n",
       "      <td>35</td>\n",
       "      <td>2.645751</td>\n",
       "      <td>Schöneberg-Nord</td>\n",
       "      <td>0</td>\n",
       "      <td>0.0</td>\n",
       "      <td>0</td>\n",
       "      <td>16.733201</td>\n",
       "      <td>0.000000</td>\n",
       "      <td>3.332205</td>\n",
       "      <td>Apartment</td>\n",
       "      <td>1</td>\n",
       "      <td>5.627647</td>\n",
       "      <td>Private room</td>\n",
       "      <td>0.863851</td>\n",
       "      <td>0.197024</td>\n",
       "      <td>zip_10777</td>\n",
       "    </tr>\n",
       "    <tr>\n",
       "      <th>6883</th>\n",
       "      <td>2</td>\n",
       "      <td>2.0</td>\n",
       "      <td>0.0</td>\n",
       "      <td>0.0</td>\n",
       "      <td>0.0</td>\n",
       "      <td>1.0</td>\n",
       "      <td>1.0</td>\n",
       "      <td>0.0</td>\n",
       "      <td>0.0</td>\n",
       "      <td>0.0</td>\n",
       "      <td>0.0</td>\n",
       "      <td>1.0</td>\n",
       "      <td>1.0</td>\n",
       "      <td>0</td>\n",
       "      <td>0.0</td>\n",
       "      <td>1.0</td>\n",
       "      <td>0.0</td>\n",
       "      <td>moderate</td>\n",
       "      <td>60.687725</td>\n",
       "      <td>0</td>\n",
       "      <td>0</td>\n",
       "      <td>5.477226</td>\n",
       "      <td>52.51171</td>\n",
       "      <td>13.45477</td>\n",
       "      <td>90</td>\n",
       "      <td>1.732051</td>\n",
       "      <td>Frankfurter Allee Süd FK</td>\n",
       "      <td>0</td>\n",
       "      <td>0.0</td>\n",
       "      <td>4</td>\n",
       "      <td>6.244998</td>\n",
       "      <td>0.000000</td>\n",
       "      <td>4.828314</td>\n",
       "      <td>Apartment</td>\n",
       "      <td>4</td>\n",
       "      <td>7.944272</td>\n",
       "      <td>Entire home/apt</td>\n",
       "      <td>0.627994</td>\n",
       "      <td>0.471181</td>\n",
       "      <td>zip_10243</td>\n",
       "    </tr>\n",
       "  </tbody>\n",
       "</table>\n",
       "</div>"
      ],
      "text/plain": [
       "      accommodates  accommodates_per_bed  am_balcony  am_breakfast  \\\n",
       "id                                                                   \n",
       "3176             4                   2.0         0.0           0.0   \n",
       "3309             1                   1.0         0.0           0.0   \n",
       "6883             2                   2.0         0.0           0.0   \n",
       "\n",
       "      am_child_friendly  am_elevator  am_essentials  am_nature_and_views  \\\n",
       "id                                                                         \n",
       "3176                1.0          0.0            1.0                  0.0   \n",
       "3309                0.0          0.0            1.0                  0.0   \n",
       "6883                0.0          1.0            1.0                  0.0   \n",
       "\n",
       "      am_pets_allowed  am_private_entrance  am_smoking_allowed  am_tv  \\\n",
       "id                                                                      \n",
       "3176              0.0                  0.0                 0.0    0.0   \n",
       "3309              1.0                  0.0                 0.0    0.0   \n",
       "6883              0.0                  0.0                 0.0    1.0   \n",
       "\n",
       "      am_white_goods  availability_90  bathrooms_log  bedrooms  \\\n",
       "id                                                               \n",
       "3176             1.0                0            0.0       1.0   \n",
       "3309             1.0               45            0.0       1.0   \n",
       "6883             1.0                0            0.0       1.0   \n",
       "\n",
       "      calc_host_lst_count_sqrt_log cancellation_policy  \\\n",
       "id                                                       \n",
       "3176                           0.0              strict   \n",
       "3309                           0.0              strict   \n",
       "6883                           0.0            moderate   \n",
       "\n",
       "      first_review_days_sqrt  host_is_superhost  instant_bookable  \\\n",
       "id                                                                  \n",
       "3176               62.633857                  0                 0   \n",
       "3309               49.081565                  0                 0   \n",
       "6883               60.687725                  0                 0   \n",
       "\n",
       "      last_review_days_sqrt  latitude  longitude  maximum_nights  \\\n",
       "id                                                                 \n",
       "3176              16.248077  52.53500   13.41758            1125   \n",
       "3309              17.058722  52.49885   13.34906              35   \n",
       "6883               5.477226  52.51171   13.45477              90   \n",
       "\n",
       "      minimum_nights_log    neighbourhood_cleansed  occupancy_class  \\\n",
       "id                                                                    \n",
       "3176            7.874008   Prenzlauer Berg Südwest                0   \n",
       "3309            2.645751           Schöneberg-Nord                0   \n",
       "6883            1.732051  Frankfurter Allee Süd FK                0   \n",
       "\n",
       "      occupancy_rate  price_class  price_extra_fees_sqrt  price_extra_people  \\\n",
       "id                                                                             \n",
       "3176             0.0            3              20.000000           16.666667   \n",
       "3309             0.0            0              16.733201            0.000000   \n",
       "6883             0.0            4               6.244998            0.000000   \n",
       "\n",
       "      price_log property_type  review_scores_class  review_scores_rating_sqrt  \\\n",
       "id                                                                              \n",
       "3176   4.382027     Apartment                    2                   6.298521   \n",
       "3309   3.332205     Apartment                    1                   5.627647   \n",
       "6883   4.828314     Apartment                    4                   7.944272   \n",
       "\n",
       "            room_type  text_len_sqrt  wk_mth_discount    zipcode  \n",
       "id                                                                \n",
       "3176  Entire home/apt       0.771052         0.235450  zip_10405  \n",
       "3309     Private room       0.863851         0.197024  zip_10777  \n",
       "6883  Entire home/apt       0.627994         0.471181  zip_10243  "
      ]
     },
     "execution_count": 46,
     "metadata": {},
     "output_type": "execute_result"
    }
   ],
   "source": [
    "# Display engineered dataset\n",
    "print(data.shape)\n",
    "data.head(3)"
   ]
  },
  {
   "cell_type": "markdown",
   "metadata": {},
   "source": [
    "**Export data_engineered**"
   ]
  },
  {
   "cell_type": "code",
   "execution_count": 47,
   "metadata": {
    "code_folding": [
     0
    ]
   },
   "outputs": [],
   "source": [
    "# Export dataset for further use in 4_Predictive Modeling\n",
    "data.to_pickle(\"saves/data_engineered.pkl\")"
   ]
  },
  {
   "cell_type": "code",
   "execution_count": 48,
   "metadata": {
    "code_folding": [
     0
    ]
   },
   "outputs": [],
   "source": [
    "# Alternative: Export with to_csv and save dtypes separately\n",
    "#data.to_csv(r'saves/data_engineered.csv', index = True)\n",
    "#data.dtypes.to_frame('types').to_csv('saves/types_engineered.csv')"
   ]
  },
  {
   "cell_type": "code",
   "execution_count": null,
   "metadata": {},
   "outputs": [],
   "source": []
  }
 ],
 "metadata": {
  "kernelspec": {
   "display_name": "Python 3",
   "language": "python",
   "name": "python3"
  },
  "language_info": {
   "codemirror_mode": {
    "name": "ipython",
    "version": 3
   },
   "file_extension": ".py",
   "mimetype": "text/x-python",
   "name": "python",
   "nbconvert_exporter": "python",
   "pygments_lexer": "ipython3",
   "version": "3.6.10"
  },
  "toc": {
   "base_numbering": 1,
   "nav_menu": {},
   "number_sections": true,
   "sideBar": true,
   "skip_h1_title": false,
   "title_cell": "Table of Contents",
   "title_sidebar": "Contents",
   "toc_cell": false,
   "toc_position": {
    "height": "calc(100% - 180px)",
    "left": "10px",
    "top": "150px",
    "width": "288px"
   },
   "toc_section_display": true,
   "toc_window_display": true
  }
 },
 "nbformat": 4,
 "nbformat_minor": 4
}
