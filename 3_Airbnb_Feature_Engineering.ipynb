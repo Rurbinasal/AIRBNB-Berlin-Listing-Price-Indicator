{
 "cells": [
  {
   "cell_type": "code",
   "execution_count": 1130,
   "metadata": {
    "code_folding": [
     0
    ]
   },
   "outputs": [],
   "source": [
    "# Import libraries\n",
    "import pandas as pd\n",
    "import numpy as np\n",
    "import seaborn as sns\n",
    "import os, glob\n",
    "import math\n",
    "from datetime import datetime\n",
    "import matplotlib.pyplot as plt"
   ]
  },
  {
   "cell_type": "code",
   "execution_count": 1131,
   "metadata": {
    "code_folding": [
     0
    ]
   },
   "outputs": [],
   "source": [
    "# Dashboard\n",
    "pd.set_option('display.max_columns', 150)\n",
    "pd.set_option('display.max_rows', 30)\n",
    "pd.options.display.max_seq_items = 300\n",
    "#pd.options.display.max_rows = 4000\n",
    "sns.set(style=\"white\")\n",
    "review_rate=0.5    # Assumed share of bookings that were followed up by a user review"
   ]
  },
  {
   "cell_type": "code",
   "execution_count": 1132,
   "metadata": {
    "code_folding": [
     0
    ]
   },
   "outputs": [],
   "source": [
    "# Import data_clean\n",
    "data = pd.read_pickle(\"saves/data_clean.pkl\")"
   ]
  },
  {
   "cell_type": "code",
   "execution_count": 1133,
   "metadata": {
    "code_folding": [
     0
    ]
   },
   "outputs": [],
   "source": [
    "# Alternative: Import from csv\n",
    "#data_types_clean = pd.read_csv('saves/types_clean.csv')['types']\n",
    "#data = pd.read_csv(\"saves/data_clean.csv\", dtype=data_types_clean.to_dict())\n",
    "#data.set_index('id', inplace=True)"
   ]
  },
  {
   "cell_type": "code",
   "execution_count": 1134,
   "metadata": {
    "code_folding": [
     0
    ],
    "collapsed": true
   },
   "outputs": [
    {
     "name": "stdout",
     "output_type": "stream",
     "text": [
      "(543302, 2)\n"
     ]
    },
    {
     "data": {
      "text/html": [
       "<div>\n",
       "<style scoped>\n",
       "    .dataframe tbody tr th:only-of-type {\n",
       "        vertical-align: middle;\n",
       "    }\n",
       "\n",
       "    .dataframe tbody tr th {\n",
       "        vertical-align: top;\n",
       "    }\n",
       "\n",
       "    .dataframe thead th {\n",
       "        text-align: right;\n",
       "    }\n",
       "</style>\n",
       "<table border=\"1\" class=\"dataframe\">\n",
       "  <thead>\n",
       "    <tr style=\"text-align: right;\">\n",
       "      <th></th>\n",
       "      <th>listing_id</th>\n",
       "      <th>date</th>\n",
       "    </tr>\n",
       "  </thead>\n",
       "  <tbody>\n",
       "    <tr>\n",
       "      <th>0</th>\n",
       "      <td>3176</td>\n",
       "      <td>2009-06-20</td>\n",
       "    </tr>\n",
       "    <tr>\n",
       "      <th>1</th>\n",
       "      <td>3176</td>\n",
       "      <td>2010-11-07</td>\n",
       "    </tr>\n",
       "    <tr>\n",
       "      <th>2</th>\n",
       "      <td>3176</td>\n",
       "      <td>2010-11-24</td>\n",
       "    </tr>\n",
       "  </tbody>\n",
       "</table>\n",
       "</div>"
      ],
      "text/plain": [
       "   listing_id       date\n",
       "0        3176 2009-06-20\n",
       "1        3176 2010-11-07\n",
       "2        3176 2010-11-24"
      ]
     },
     "execution_count": 1134,
     "metadata": {},
     "output_type": "execute_result"
    }
   ],
   "source": [
    "# Import reviews.csv and convert date to datetime\n",
    "data_rev = pd.read_csv(\"data/2020-02-18/reviews.csv\")\n",
    "data_rev.date = data_rev.date.astype('datetime64[D]')\n",
    "print(data_rev.shape)\n",
    "data_rev.head(3)"
   ]
  },
  {
   "cell_type": "code",
   "execution_count": 1135,
   "metadata": {
    "code_folding": [
     0
    ]
   },
   "outputs": [
    {
     "name": "stderr",
     "output_type": "stream",
     "text": [
      "/opt/anaconda3/envs/nf/lib/python3.6/site-packages/IPython/core/interactiveshell.py:3063: DtypeWarning: Columns (43,87) have mixed types. Specify dtype option on import or set low_memory=False.\n",
      "  # can fill in the output value.\n",
      "/opt/anaconda3/envs/nf/lib/python3.6/site-packages/IPython/core/interactiveshell.py:3063: DtypeWarning: Columns (38,43,61,62,84,85,94) have mixed types. Specify dtype option on import or set low_memory=False.\n",
      "  # can fill in the output value.\n",
      "/opt/anaconda3/envs/nf/lib/python3.6/site-packages/IPython/core/interactiveshell.py:3063: DtypeWarning: Columns (43) have mixed types. Specify dtype option on import or set low_memory=False.\n",
      "  # can fill in the output value.\n",
      "/opt/anaconda3/envs/nf/lib/python3.6/site-packages/IPython/core/interactiveshell.py:3063: DtypeWarning: Columns (43,61,62) have mixed types. Specify dtype option on import or set low_memory=False.\n",
      "  # can fill in the output value.\n"
     ]
    },
    {
     "name": "stdout",
     "output_type": "stream",
     "text": [
      "(23688, 23)\n"
     ]
    },
    {
     "data": {
      "text/html": [
       "<div>\n",
       "<style scoped>\n",
       "    .dataframe tbody tr th:only-of-type {\n",
       "        vertical-align: middle;\n",
       "    }\n",
       "\n",
       "    .dataframe tbody tr th {\n",
       "        vertical-align: top;\n",
       "    }\n",
       "\n",
       "    .dataframe thead th {\n",
       "        text-align: right;\n",
       "    }\n",
       "</style>\n",
       "<table border=\"1\" class=\"dataframe\">\n",
       "  <thead>\n",
       "    <tr style=\"text-align: right;\">\n",
       "      <th></th>\n",
       "      <th>2020-02</th>\n",
       "      <th>2020-01</th>\n",
       "      <th>2019-12</th>\n",
       "      <th>2019-11</th>\n",
       "      <th>2019-10</th>\n",
       "      <th>2019-09</th>\n",
       "      <th>2019-08</th>\n",
       "      <th>2019-07</th>\n",
       "      <th>2019-06</th>\n",
       "      <th>2019-05</th>\n",
       "      <th>2019-04</th>\n",
       "      <th>2019-03</th>\n",
       "      <th>2019-02</th>\n",
       "      <th>2019-01</th>\n",
       "      <th>2018-12</th>\n",
       "      <th>2018-11</th>\n",
       "      <th>2018-10</th>\n",
       "      <th>2018-09</th>\n",
       "      <th>2018-08</th>\n",
       "      <th>2018-07</th>\n",
       "      <th>2018-06</th>\n",
       "      <th>2018-05</th>\n",
       "      <th>2018-04</th>\n",
       "    </tr>\n",
       "    <tr>\n",
       "      <th>id</th>\n",
       "      <th></th>\n",
       "      <th></th>\n",
       "      <th></th>\n",
       "      <th></th>\n",
       "      <th></th>\n",
       "      <th></th>\n",
       "      <th></th>\n",
       "      <th></th>\n",
       "      <th></th>\n",
       "      <th></th>\n",
       "      <th></th>\n",
       "      <th></th>\n",
       "      <th></th>\n",
       "      <th></th>\n",
       "      <th></th>\n",
       "      <th></th>\n",
       "      <th></th>\n",
       "      <th></th>\n",
       "      <th></th>\n",
       "      <th></th>\n",
       "      <th></th>\n",
       "      <th></th>\n",
       "      <th></th>\n",
       "    </tr>\n",
       "  </thead>\n",
       "  <tbody>\n",
       "    <tr>\n",
       "      <th>3176</th>\n",
       "      <td>90.0</td>\n",
       "      <td>90.0</td>\n",
       "      <td>90.0</td>\n",
       "      <td>90.0</td>\n",
       "      <td>90.0</td>\n",
       "      <td>90.0</td>\n",
       "      <td>90.0</td>\n",
       "      <td>90.0</td>\n",
       "      <td>90.0</td>\n",
       "      <td>90.0</td>\n",
       "      <td>90.0</td>\n",
       "      <td>90.0</td>\n",
       "      <td>90.0</td>\n",
       "      <td>90.0</td>\n",
       "      <td>90.0</td>\n",
       "      <td>90.0</td>\n",
       "      <td>90.0</td>\n",
       "      <td>90.0</td>\n",
       "      <td>90.0</td>\n",
       "      <td>90.0</td>\n",
       "      <td>90.0</td>\n",
       "      <td>90.0</td>\n",
       "      <td>90.0</td>\n",
       "    </tr>\n",
       "    <tr>\n",
       "      <th>3309</th>\n",
       "      <td>28.0</td>\n",
       "      <td>28.0</td>\n",
       "      <td>28.0</td>\n",
       "      <td>28.0</td>\n",
       "      <td>28.0</td>\n",
       "      <td>28.0</td>\n",
       "      <td>28.0</td>\n",
       "      <td>28.0</td>\n",
       "      <td>28.0</td>\n",
       "      <td>NaN</td>\n",
       "      <td>NaN</td>\n",
       "      <td>NaN</td>\n",
       "      <td>26.0</td>\n",
       "      <td>26.0</td>\n",
       "      <td>26.0</td>\n",
       "      <td>26.0</td>\n",
       "      <td>26.0</td>\n",
       "      <td>26.0</td>\n",
       "      <td>26.0</td>\n",
       "      <td>26.0</td>\n",
       "      <td>26.0</td>\n",
       "      <td>26.0</td>\n",
       "      <td>26.0</td>\n",
       "    </tr>\n",
       "    <tr>\n",
       "      <th>6883</th>\n",
       "      <td>125.0</td>\n",
       "      <td>125.0</td>\n",
       "      <td>125.0</td>\n",
       "      <td>125.0</td>\n",
       "      <td>125.0</td>\n",
       "      <td>125.0</td>\n",
       "      <td>125.0</td>\n",
       "      <td>125.0</td>\n",
       "      <td>NaN</td>\n",
       "      <td>NaN</td>\n",
       "      <td>NaN</td>\n",
       "      <td>NaN</td>\n",
       "      <td>NaN</td>\n",
       "      <td>NaN</td>\n",
       "      <td>NaN</td>\n",
       "      <td>NaN</td>\n",
       "      <td>125.0</td>\n",
       "      <td>125.0</td>\n",
       "      <td>125.0</td>\n",
       "      <td>125.0</td>\n",
       "      <td>NaN</td>\n",
       "      <td>NaN</td>\n",
       "      <td>NaN</td>\n",
       "    </tr>\n",
       "    <tr>\n",
       "      <th>7071</th>\n",
       "      <td>33.0</td>\n",
       "      <td>33.0</td>\n",
       "      <td>33.0</td>\n",
       "      <td>33.0</td>\n",
       "      <td>33.0</td>\n",
       "      <td>33.0</td>\n",
       "      <td>33.0</td>\n",
       "      <td>33.0</td>\n",
       "      <td>33.0</td>\n",
       "      <td>33.0</td>\n",
       "      <td>33.0</td>\n",
       "      <td>33.0</td>\n",
       "      <td>34.0</td>\n",
       "      <td>42.0</td>\n",
       "      <td>42.0</td>\n",
       "      <td>42.0</td>\n",
       "      <td>42.0</td>\n",
       "      <td>47.0</td>\n",
       "      <td>47.0</td>\n",
       "      <td>47.0</td>\n",
       "      <td>47.0</td>\n",
       "      <td>47.0</td>\n",
       "      <td>40.0</td>\n",
       "    </tr>\n",
       "    <tr>\n",
       "      <th>9991</th>\n",
       "      <td>180.0</td>\n",
       "      <td>180.0</td>\n",
       "      <td>180.0</td>\n",
       "      <td>180.0</td>\n",
       "      <td>180.0</td>\n",
       "      <td>180.0</td>\n",
       "      <td>180.0</td>\n",
       "      <td>180.0</td>\n",
       "      <td>180.0</td>\n",
       "      <td>180.0</td>\n",
       "      <td>180.0</td>\n",
       "      <td>180.0</td>\n",
       "      <td>180.0</td>\n",
       "      <td>180.0</td>\n",
       "      <td>180.0</td>\n",
       "      <td>180.0</td>\n",
       "      <td>180.0</td>\n",
       "      <td>180.0</td>\n",
       "      <td>180.0</td>\n",
       "      <td>180.0</td>\n",
       "      <td>180.0</td>\n",
       "      <td>180.0</td>\n",
       "      <td>180.0</td>\n",
       "    </tr>\n",
       "  </tbody>\n",
       "</table>\n",
       "</div>"
      ],
      "text/plain": [
       "      2020-02  2020-01  2019-12  2019-11  2019-10  2019-09  2019-08  2019-07  \\\n",
       "id                                                                             \n",
       "3176     90.0     90.0     90.0     90.0     90.0     90.0     90.0     90.0   \n",
       "3309     28.0     28.0     28.0     28.0     28.0     28.0     28.0     28.0   \n",
       "6883    125.0    125.0    125.0    125.0    125.0    125.0    125.0    125.0   \n",
       "7071     33.0     33.0     33.0     33.0     33.0     33.0     33.0     33.0   \n",
       "9991    180.0    180.0    180.0    180.0    180.0    180.0    180.0    180.0   \n",
       "\n",
       "      2019-06  2019-05  2019-04  2019-03  2019-02  2019-01  2018-12  2018-11  \\\n",
       "id                                                                             \n",
       "3176     90.0     90.0     90.0     90.0     90.0     90.0     90.0     90.0   \n",
       "3309     28.0      NaN      NaN      NaN     26.0     26.0     26.0     26.0   \n",
       "6883      NaN      NaN      NaN      NaN      NaN      NaN      NaN      NaN   \n",
       "7071     33.0     33.0     33.0     33.0     34.0     42.0     42.0     42.0   \n",
       "9991    180.0    180.0    180.0    180.0    180.0    180.0    180.0    180.0   \n",
       "\n",
       "      2018-10  2018-09  2018-08  2018-07  2018-06  2018-05  2018-04  \n",
       "id                                                                   \n",
       "3176     90.0     90.0     90.0     90.0     90.0     90.0     90.0  \n",
       "3309     26.0     26.0     26.0     26.0     26.0     26.0     26.0  \n",
       "6883    125.0    125.0    125.0    125.0      NaN      NaN      NaN  \n",
       "7071     42.0     47.0     47.0     47.0     47.0     47.0     40.0  \n",
       "9991    180.0    180.0    180.0    180.0    180.0    180.0    180.0  "
      ]
     },
     "execution_count": 1135,
     "metadata": {},
     "output_type": "execute_result"
    }
   ],
   "source": [
    "# Create time series dataframe with prices for the time period 04/2018-03/2020 (2 years)\n",
    "\n",
    "# Save \"price\" column of data (02/2020) as \"data_ts\"\n",
    "data_ts = pd.DataFrame(data.price.copy())\n",
    "\n",
    "# Rename \"price\" column to reflect the date \"2020-02\"\n",
    "data_ts.rename(columns={\"price\": \"2020-02\"}, inplace=True)\n",
    "\n",
    "# Import other files from 2 year period and add price column (renamed to reflect the date) to \"data_ts\"\n",
    "all_files = glob.glob(os.path.join(\"data/timeseries\", \"*.csv.gz\"))         # save paths of files as list\n",
    "for f in all_files:                                                        # loop through all paths\n",
    "    df_temp = pd.read_csv(f, sep=',')                                      # import each file from path and save as temporary dataframe\n",
    "    df_temp.drop(df_temp.columns.difference(['id','price']), 1, inplace=True)        # keep only columns 'id' and 'price' in temporary dataframe\n",
    "    df_temp.price = [float(i.strip(\"$\").replace(\",\",\"\")) for i in df_temp.price]        # convert 'price' into float\n",
    "    data_ts = pd.merge(data_ts, df_temp, how=\"left\", left_on='id', right_on='id')        # add 'price' from temporary dataframe onto full 'data_ts'\n",
    "    f_date = f.split('/')[-1].split('_')[0]                                # temporarily save date from file path\n",
    "    data_ts.rename(columns={\"price\": f_date}, inplace=True)                # change new 'price' column to reflect the date\n",
    "    \n",
    "# Set id as index again and sort columns (newest date to left)\n",
    "data_ts.set_index('id', inplace=True)\n",
    "data_ts = data_ts.reindex(sorted(data_ts.columns, reverse=True), axis=1)\n",
    "\n",
    "# Print new dataframe and its shape\n",
    "print(data_ts.shape)\n",
    "data_ts.head()"
   ]
  },
  {
   "cell_type": "markdown",
   "metadata": {},
   "source": [
    "# Feature Engineering"
   ]
  },
  {
   "cell_type": "markdown",
   "metadata": {},
   "source": [
    "## Occupancy"
   ]
  },
  {
   "cell_type": "markdown",
   "metadata": {},
   "source": [
    "Calculation of **occupancy rate** is inspired by the **San Francisco model**, which is also applied by [Inside AirBnB](http://insideairbnb.com/about.html):\n",
    "\n",
    "- (**A**) Determine the **average length of stay for Berlin**\n",
    "- (**B**) Calculate **reviews in last two years**\n",
    "- (**C**) Determine **active months in last two years** from price\n",
    "- (**D**) Estimate **# of bookings in last two years** using (**B**)\n",
    "- (**E**) **Occupancy rate** = (**D**)x(**A**) / ((**C**)/23 x 365)\n",
    "\n",
    "Read more about the core idea behind the calculations of the model [here](https://sfbos.org/sites/default/files/FileCenter/Documents/52601-BLA.ShortTermRentals.051315.pdf). Assumptions were adapted for the purpose of this analysis, mainly due to the core idea of considering only the two most recent years."
   ]
  },
  {
   "cell_type": "markdown",
   "metadata": {},
   "source": [
    "(**A**) Determine the **average length of stay for Berlin** (assumed 3 days in most cities)\n",
    "\n",
    "For the purpose of this model, **5 nights** are assumed as average length of stay in Berlin and used as basis for calculation, unless a higher minimum length is specified\n",
    "- Back in 2016, [4.6](https://www.airbnbcitizen.com/wp-content/uploads/2016/04/airbnb-community-berlin-en.pdf) has been reported as the average length of stay\n",
    "- Inside AirBnB uses 3 nights for cities where no current data is available, but uses [6.3 nights](http://insideairbnb.com/berlin/#) for its Berlin visualization"
   ]
  },
  {
   "cell_type": "code",
   "execution_count": 1136,
   "metadata": {
    "code_folding": [
     0
    ]
   },
   "outputs": [],
   "source": [
    "# Add column to main dataframe for avg length of stay, being either a) 5 nights or b) minimum_nights if higher than 5 or c) avg of min and max if max is 5 or lower\n",
    "avg_nights = []\n",
    "for idx in data.index:\n",
    "    if data.maximum_nights[idx] <=5:\n",
    "        avg_nights.append((data.maximum_nights[idx]+data.minimum_nights[idx])/2)\n",
    "    elif data.minimum_nights[idx] >3:\n",
    "        avg_nights.append(data.minimum_nights[idx])\n",
    "    else:\n",
    "        avg_nights.append(3)\n",
    "data[\"avg_nights\"] = avg_nights"
   ]
  },
  {
   "cell_type": "markdown",
   "metadata": {},
   "source": [
    "(**B**) Calculate **reviews in last two years**"
   ]
  },
  {
   "cell_type": "code",
   "execution_count": 1137,
   "metadata": {
    "code_folding": [
     0
    ]
   },
   "outputs": [],
   "source": [
    "# Create target dataframe\n",
    "data_rev_count = data_rev[data_rev.date > \"2018-03-31\"]                          # Remove all reviews older than April 2018\n",
    "data_rev_count = pd.DataFrame(data_rev_count.listing_id.value_counts())          # Count reviews per listing and save as table\n",
    "data_rev_count.rename(columns={\"listing_id\": \"reviews_lt2yr\"}, inplace=True)     # Change column name\n",
    "data = pd.merge(data, data_rev_count, how=\"left\", left_index=True, right_index=True)    # Add column to main dataset\n",
    "data.reviews_lt2yr.fillna(0, inplace=True)"
   ]
  },
  {
   "cell_type": "markdown",
   "metadata": {},
   "source": [
    "(**C**) Determine **active months in last two years** from price"
   ]
  },
  {
   "cell_type": "code",
   "execution_count": 1138,
   "metadata": {
    "code_folding": [
     0
    ]
   },
   "outputs": [],
   "source": [
    "# Count the months where listings were online with a price\n",
    "data[\"active_months_lt2yr\"] = data_ts.count(axis=1)"
   ]
  },
  {
   "cell_type": "markdown",
   "metadata": {},
   "source": [
    "(**D**) Estimate **# of bookings in last two years** by dividing (**B**) through a assumed 50% review rate (i.e. one review corresponds to two bookings)"
   ]
  },
  {
   "cell_type": "code",
   "execution_count": 1139,
   "metadata": {
    "code_folding": [
     0
    ]
   },
   "outputs": [],
   "source": [
    "# Calculate bookings estimate and replace NaN with 0\n",
    "data[\"bookings_est\"] = data.reviews_lt2yr / review_rate\n",
    "data.bookings_est.fillna(0, inplace=True)"
   ]
  },
  {
   "cell_type": "markdown",
   "metadata": {},
   "source": [
    "(**E**) **Occupancy rate** = (**D**)x(**A**) / ((**C**)/23 x 365)"
   ]
  },
  {
   "cell_type": "code",
   "execution_count": 1140,
   "metadata": {
    "code_folding": [
     0
    ]
   },
   "outputs": [],
   "source": [
    "# Calculate occupancy rate\n",
    "data[\"occupancy_rate\"] = data.bookings_est * data.avg_nights / (data.active_months_lt2yr/23*365)"
   ]
  },
  {
   "cell_type": "code",
   "execution_count": 1141,
   "metadata": {
    "code_folding": [
     0
    ]
   },
   "outputs": [],
   "source": [
    "# Capping occupancy at 80%\n",
    "occupancy_temp = []\n",
    "for rate in data.occupancy_rate:\n",
    "    if rate < 0.8:\n",
    "        occupancy_temp.append(rate)\n",
    "    else:\n",
    "        occupancy_temp.append(0.8)\n",
    "data.occupancy_rate = occupancy_temp"
   ]
  },
  {
   "cell_type": "code",
   "execution_count": 1142,
   "metadata": {
    "code_folding": [
     0
    ]
   },
   "outputs": [],
   "source": [
    "# Split occupancy into 5 classes (TARGET)\n",
    "occupancy_class = []\n",
    "for rate in data.occupancy_rate:\n",
    "    if rate == 0:\n",
    "        occupancy_class.append(0)\n",
    "    elif rate < 0.2:\n",
    "        occupancy_class.append(1)\n",
    "    elif rate < 0.4:\n",
    "        occupancy_class.append(2)\n",
    "    elif rate < 0.6:\n",
    "        occupancy_class.append(3)\n",
    "    elif rate < 0.8:\n",
    "        occupancy_class.append(4)\n",
    "    else:\n",
    "        occupancy_class.append(5)\n",
    "data[\"occupancy_class\"] = occupancy_class"
   ]
  },
  {
   "cell_type": "markdown",
   "metadata": {},
   "source": [
    "## Seasonality"
   ]
  },
  {
   "cell_type": "markdown",
   "metadata": {},
   "source": [
    "**Fill empty values in data_ts to calculate weighted avg price and seasonal weight (2 yrs from Apr'18 - Mar'20)**"
   ]
  },
  {
   "cell_type": "code",
   "execution_count": 1143,
   "metadata": {
    "code_folding": [
     0
    ]
   },
   "outputs": [],
   "source": [
    "# Get a weighted average for monthly price\n",
    "\n",
    "# Calculate monthly average for columns in 'data_ts' and save as list\n",
    "mth_avg = []\n",
    "for col in data_ts.columns:\n",
    "    mth_avg.append(data_ts[col].mean())\n",
    "\n",
    "# Save weighted monthly average as dictionary\n",
    "mth = [\"02_Feb\", \"01_Jan\", \"12_Dec\", \"11_Nov\", \"10_Oct\", \"09_Sep\", \"08_Aug\", \"07_Jul\", \"06_Jun\", \"05_May\", \"04_Apr\", \"03_Mar\"]\n",
    "\n",
    "\n",
    "mth_avg_weight = {}\n",
    "for i in range(11):\n",
    "    mth_avg_weight.update({mth[i]:(mth_avg[i]*0.7+mth_avg[i+12]*0.3)})\n",
    "mth_avg_weight.update({mth[11]:mth_avg[11]*0.95})\n",
    "#print(mth_avg_weight)"
   ]
  },
  {
   "cell_type": "code",
   "execution_count": 1144,
   "metadata": {
    "code_folding": [
     0
    ],
    "collapsed": true
   },
   "outputs": [
    {
     "data": {
      "image/png": "[encoded data removed]",
      "text/plain": [
       "<Figure size 432x288 with 1 Axes>"
      ]
     },
     "metadata": {},
     "output_type": "display_data"
    },
    {
     "data": {
      "text/plain": [
       "<Figure size 432x288 with 0 Axes>"
      ]
     },
     "metadata": {},
     "output_type": "display_data"
    }
   ],
   "source": [
    "# Plot weighted average monthly price over year - IGNORE AS LOGICALLY REFLECTS MAR HIGHEST, APR LOWEST\n",
    "lists = sorted(mth_avg_weight.items()) # sorted by key, return a list of tuples\n",
    "\n",
    "x, y = zip(*lists) # unpack a list of pairs into two tuples\n",
    "\n",
    "plt.plot(x, y)\n",
    "plt.show()\n",
    "plt.tight_layout()"
   ]
  },
  {
   "cell_type": "code",
   "execution_count": 1145,
   "metadata": {
    "code_folding": [
     0
    ]
   },
   "outputs": [
    {
     "data": {
      "text/html": [
       "<div>\n",
       "<style scoped>\n",
       "    .dataframe tbody tr th:only-of-type {\n",
       "        vertical-align: middle;\n",
       "    }\n",
       "\n",
       "    .dataframe tbody tr th {\n",
       "        vertical-align: top;\n",
       "    }\n",
       "\n",
       "    .dataframe thead th {\n",
       "        text-align: right;\n",
       "    }\n",
       "</style>\n",
       "<table border=\"1\" class=\"dataframe\">\n",
       "  <thead>\n",
       "    <tr style=\"text-align: right;\">\n",
       "      <th></th>\n",
       "      <th>2020-02</th>\n",
       "      <th>2020-01</th>\n",
       "      <th>2019-12</th>\n",
       "      <th>2019-11</th>\n",
       "      <th>2019-10</th>\n",
       "      <th>2019-09</th>\n",
       "      <th>2019-08</th>\n",
       "      <th>2019-07</th>\n",
       "      <th>2019-06</th>\n",
       "      <th>2019-05</th>\n",
       "      <th>2019-04</th>\n",
       "      <th>2019-03</th>\n",
       "      <th>2019-02</th>\n",
       "      <th>2019-01</th>\n",
       "      <th>2018-12</th>\n",
       "      <th>2018-11</th>\n",
       "      <th>2018-10</th>\n",
       "      <th>2018-09</th>\n",
       "      <th>2018-08</th>\n",
       "      <th>2018-07</th>\n",
       "      <th>2018-06</th>\n",
       "      <th>2018-05</th>\n",
       "      <th>2018-04</th>\n",
       "    </tr>\n",
       "    <tr>\n",
       "      <th>id</th>\n",
       "      <th></th>\n",
       "      <th></th>\n",
       "      <th></th>\n",
       "      <th></th>\n",
       "      <th></th>\n",
       "      <th></th>\n",
       "      <th></th>\n",
       "      <th></th>\n",
       "      <th></th>\n",
       "      <th></th>\n",
       "      <th></th>\n",
       "      <th></th>\n",
       "      <th></th>\n",
       "      <th></th>\n",
       "      <th></th>\n",
       "      <th></th>\n",
       "      <th></th>\n",
       "      <th></th>\n",
       "      <th></th>\n",
       "      <th></th>\n",
       "      <th></th>\n",
       "      <th></th>\n",
       "      <th></th>\n",
       "    </tr>\n",
       "  </thead>\n",
       "  <tbody>\n",
       "    <tr>\n",
       "      <th>3176</th>\n",
       "      <td>90.0</td>\n",
       "      <td>90.0</td>\n",
       "      <td>90.0</td>\n",
       "      <td>90.0</td>\n",
       "      <td>90.0</td>\n",
       "      <td>90.0</td>\n",
       "      <td>90.0</td>\n",
       "      <td>90.0</td>\n",
       "      <td>90.0</td>\n",
       "      <td>90.0</td>\n",
       "      <td>90.0</td>\n",
       "      <td>90.0</td>\n",
       "      <td>90.0</td>\n",
       "      <td>90.0</td>\n",
       "      <td>90.0</td>\n",
       "      <td>90.0</td>\n",
       "      <td>90.0</td>\n",
       "      <td>90.0</td>\n",
       "      <td>90.0</td>\n",
       "      <td>90.0</td>\n",
       "      <td>90.0</td>\n",
       "      <td>90.0</td>\n",
       "      <td>90.0</td>\n",
       "    </tr>\n",
       "    <tr>\n",
       "      <th>3309</th>\n",
       "      <td>28.0</td>\n",
       "      <td>28.0</td>\n",
       "      <td>28.0</td>\n",
       "      <td>28.0</td>\n",
       "      <td>28.0</td>\n",
       "      <td>28.0</td>\n",
       "      <td>28.0</td>\n",
       "      <td>28.0</td>\n",
       "      <td>28.0</td>\n",
       "      <td>28.0</td>\n",
       "      <td>28.0</td>\n",
       "      <td>28.0</td>\n",
       "      <td>26.0</td>\n",
       "      <td>26.0</td>\n",
       "      <td>26.0</td>\n",
       "      <td>26.0</td>\n",
       "      <td>26.0</td>\n",
       "      <td>26.0</td>\n",
       "      <td>26.0</td>\n",
       "      <td>26.0</td>\n",
       "      <td>26.0</td>\n",
       "      <td>26.0</td>\n",
       "      <td>26.0</td>\n",
       "    </tr>\n",
       "    <tr>\n",
       "      <th>6883</th>\n",
       "      <td>125.0</td>\n",
       "      <td>125.0</td>\n",
       "      <td>125.0</td>\n",
       "      <td>125.0</td>\n",
       "      <td>125.0</td>\n",
       "      <td>125.0</td>\n",
       "      <td>125.0</td>\n",
       "      <td>125.0</td>\n",
       "      <td>125.0</td>\n",
       "      <td>125.0</td>\n",
       "      <td>125.0</td>\n",
       "      <td>125.0</td>\n",
       "      <td>125.0</td>\n",
       "      <td>125.0</td>\n",
       "      <td>125.0</td>\n",
       "      <td>125.0</td>\n",
       "      <td>125.0</td>\n",
       "      <td>125.0</td>\n",
       "      <td>125.0</td>\n",
       "      <td>125.0</td>\n",
       "      <td>125.0</td>\n",
       "      <td>125.0</td>\n",
       "      <td>125.0</td>\n",
       "    </tr>\n",
       "    <tr>\n",
       "      <th>7071</th>\n",
       "      <td>33.0</td>\n",
       "      <td>33.0</td>\n",
       "      <td>33.0</td>\n",
       "      <td>33.0</td>\n",
       "      <td>33.0</td>\n",
       "      <td>33.0</td>\n",
       "      <td>33.0</td>\n",
       "      <td>33.0</td>\n",
       "      <td>33.0</td>\n",
       "      <td>33.0</td>\n",
       "      <td>33.0</td>\n",
       "      <td>33.0</td>\n",
       "      <td>34.0</td>\n",
       "      <td>42.0</td>\n",
       "      <td>42.0</td>\n",
       "      <td>42.0</td>\n",
       "      <td>42.0</td>\n",
       "      <td>47.0</td>\n",
       "      <td>47.0</td>\n",
       "      <td>47.0</td>\n",
       "      <td>47.0</td>\n",
       "      <td>47.0</td>\n",
       "      <td>40.0</td>\n",
       "    </tr>\n",
       "    <tr>\n",
       "      <th>9991</th>\n",
       "      <td>180.0</td>\n",
       "      <td>180.0</td>\n",
       "      <td>180.0</td>\n",
       "      <td>180.0</td>\n",
       "      <td>180.0</td>\n",
       "      <td>180.0</td>\n",
       "      <td>180.0</td>\n",
       "      <td>180.0</td>\n",
       "      <td>180.0</td>\n",
       "      <td>180.0</td>\n",
       "      <td>180.0</td>\n",
       "      <td>180.0</td>\n",
       "      <td>180.0</td>\n",
       "      <td>180.0</td>\n",
       "      <td>180.0</td>\n",
       "      <td>180.0</td>\n",
       "      <td>180.0</td>\n",
       "      <td>180.0</td>\n",
       "      <td>180.0</td>\n",
       "      <td>180.0</td>\n",
       "      <td>180.0</td>\n",
       "      <td>180.0</td>\n",
       "      <td>180.0</td>\n",
       "    </tr>\n",
       "  </tbody>\n",
       "</table>\n",
       "</div>"
      ],
      "text/plain": [
       "      2020-02  2020-01  2019-12  2019-11  2019-10  2019-09  2019-08  2019-07  \\\n",
       "id                                                                             \n",
       "3176     90.0     90.0     90.0     90.0     90.0     90.0     90.0     90.0   \n",
       "3309     28.0     28.0     28.0     28.0     28.0     28.0     28.0     28.0   \n",
       "6883    125.0    125.0    125.0    125.0    125.0    125.0    125.0    125.0   \n",
       "7071     33.0     33.0     33.0     33.0     33.0     33.0     33.0     33.0   \n",
       "9991    180.0    180.0    180.0    180.0    180.0    180.0    180.0    180.0   \n",
       "\n",
       "      2019-06  2019-05  2019-04  2019-03  2019-02  2019-01  2018-12  2018-11  \\\n",
       "id                                                                             \n",
       "3176     90.0     90.0     90.0     90.0     90.0     90.0     90.0     90.0   \n",
       "3309     28.0     28.0     28.0     28.0     26.0     26.0     26.0     26.0   \n",
       "6883    125.0    125.0    125.0    125.0    125.0    125.0    125.0    125.0   \n",
       "7071     33.0     33.0     33.0     33.0     34.0     42.0     42.0     42.0   \n",
       "9991    180.0    180.0    180.0    180.0    180.0    180.0    180.0    180.0   \n",
       "\n",
       "      2018-10  2018-09  2018-08  2018-07  2018-06  2018-05  2018-04  \n",
       "id                                                                   \n",
       "3176     90.0     90.0     90.0     90.0     90.0     90.0     90.0  \n",
       "3309     26.0     26.0     26.0     26.0     26.0     26.0     26.0  \n",
       "6883    125.0    125.0    125.0    125.0    125.0    125.0    125.0  \n",
       "7071     42.0     47.0     47.0     47.0     47.0     47.0     40.0  \n",
       "9991    180.0    180.0    180.0    180.0    180.0    180.0    180.0  "
      ]
     },
     "execution_count": 1145,
     "metadata": {},
     "output_type": "execute_result"
    }
   ],
   "source": [
    "# Fill empty cells with values from next period\n",
    "data_ts_filled = data_ts.copy()\n",
    "for i, col in enumerate(data_ts_filled.columns):\n",
    "    if i > 0:\n",
    "        data_ts_filled[col] = data_ts_filled[col].fillna(data_ts_filled[data_ts_filled.columns[i-1]])\n",
    "data_ts_filled.head()"
   ]
  },
  {
   "cell_type": "code",
   "execution_count": 1146,
   "metadata": {
    "code_folding": [
     0
    ]
   },
   "outputs": [],
   "source": [
    "# Create column with calculated weighted average price\n",
    "#weight = 0.4\n",
    "#price_avg = []\n",
    "#for \n",
    "data[\"price_avg\"] = data_ts_filled.iloc[:,0]*0.5 + data_ts_filled.iloc[:,7]*0.25 + data_ts_filled.iloc[:,15]*0.15 + data_ts_filled.iloc[:,22]*0.10 "
   ]
  },
  {
   "cell_type": "code",
   "execution_count": 1147,
   "metadata": {
    "code_folding": [
     0
    ]
   },
   "outputs": [],
   "source": [
    "# Create column with calculated price difference between current price and weighted average price\n",
    "data[\"price_diff\"] = data.price - data.price_avg"
   ]
  },
  {
   "cell_type": "code",
   "execution_count": 1148,
   "metadata": {
    "code_folding": [
     0
    ]
   },
   "outputs": [],
   "source": [
    "# Create column with calculated price difference as percentage\n",
    "data[\"price_diff_perc\"] = data.price_diff / data.price"
   ]
  },
  {
   "cell_type": "code",
   "execution_count": 1149,
   "metadata": {
    "code_folding": [
     0
    ],
    "scrolled": true
   },
   "outputs": [],
   "source": [
    "# Output individual listings from data for review\n",
    "#data[data.index==42343281]"
   ]
  },
  {
   "cell_type": "code",
   "execution_count": 1150,
   "metadata": {
    "code_folding": [
     0
    ],
    "collapsed": true
   },
   "outputs": [
    {
     "data": {
      "text/html": [
       "<div>\n",
       "<style scoped>\n",
       "    .dataframe tbody tr th:only-of-type {\n",
       "        vertical-align: middle;\n",
       "    }\n",
       "\n",
       "    .dataframe tbody tr th {\n",
       "        vertical-align: top;\n",
       "    }\n",
       "\n",
       "    .dataframe thead th {\n",
       "        text-align: right;\n",
       "    }\n",
       "</style>\n",
       "<table border=\"1\" class=\"dataframe\">\n",
       "  <thead>\n",
       "    <tr style=\"text-align: right;\">\n",
       "      <th></th>\n",
       "      <th>2020-02</th>\n",
       "      <th>2020-01</th>\n",
       "      <th>2019-12</th>\n",
       "      <th>2019-11</th>\n",
       "      <th>2019-10</th>\n",
       "      <th>2019-09</th>\n",
       "      <th>2019-08</th>\n",
       "      <th>2019-07</th>\n",
       "      <th>2019-06</th>\n",
       "      <th>2019-05</th>\n",
       "      <th>2019-04</th>\n",
       "      <th>2019-03</th>\n",
       "      <th>2019-02</th>\n",
       "      <th>2019-01</th>\n",
       "      <th>2018-12</th>\n",
       "      <th>2018-11</th>\n",
       "      <th>2018-10</th>\n",
       "      <th>2018-09</th>\n",
       "      <th>2018-08</th>\n",
       "      <th>2018-07</th>\n",
       "      <th>2018-06</th>\n",
       "      <th>2018-05</th>\n",
       "      <th>2018-04</th>\n",
       "    </tr>\n",
       "    <tr>\n",
       "      <th>id</th>\n",
       "      <th></th>\n",
       "      <th></th>\n",
       "      <th></th>\n",
       "      <th></th>\n",
       "      <th></th>\n",
       "      <th></th>\n",
       "      <th></th>\n",
       "      <th></th>\n",
       "      <th></th>\n",
       "      <th></th>\n",
       "      <th></th>\n",
       "      <th></th>\n",
       "      <th></th>\n",
       "      <th></th>\n",
       "      <th></th>\n",
       "      <th></th>\n",
       "      <th></th>\n",
       "      <th></th>\n",
       "      <th></th>\n",
       "      <th></th>\n",
       "      <th></th>\n",
       "      <th></th>\n",
       "      <th></th>\n",
       "    </tr>\n",
       "  </thead>\n",
       "  <tbody>\n",
       "    <tr>\n",
       "      <th>36609709</th>\n",
       "      <td>350.0</td>\n",
       "      <td>72.0</td>\n",
       "      <td>77.0</td>\n",
       "      <td>77.0</td>\n",
       "      <td>77.0</td>\n",
       "      <td>77.0</td>\n",
       "      <td>100.0</td>\n",
       "      <td>NaN</td>\n",
       "      <td>NaN</td>\n",
       "      <td>NaN</td>\n",
       "      <td>NaN</td>\n",
       "      <td>NaN</td>\n",
       "      <td>NaN</td>\n",
       "      <td>NaN</td>\n",
       "      <td>NaN</td>\n",
       "      <td>NaN</td>\n",
       "      <td>NaN</td>\n",
       "      <td>NaN</td>\n",
       "      <td>NaN</td>\n",
       "      <td>NaN</td>\n",
       "      <td>NaN</td>\n",
       "      <td>NaN</td>\n",
       "      <td>NaN</td>\n",
       "    </tr>\n",
       "  </tbody>\n",
       "</table>\n",
       "</div>"
      ],
      "text/plain": [
       "          2020-02  2020-01  2019-12  2019-11  2019-10  2019-09  2019-08  \\\n",
       "id                                                                        \n",
       "36609709    350.0     72.0     77.0     77.0     77.0     77.0    100.0   \n",
       "\n",
       "          2019-07  2019-06  2019-05  2019-04  2019-03  2019-02  2019-01  \\\n",
       "id                                                                        \n",
       "36609709      NaN      NaN      NaN      NaN      NaN      NaN      NaN   \n",
       "\n",
       "          2018-12  2018-11  2018-10  2018-09  2018-08  2018-07  2018-06  \\\n",
       "id                                                                        \n",
       "36609709      NaN      NaN      NaN      NaN      NaN      NaN      NaN   \n",
       "\n",
       "          2018-05  2018-04  \n",
       "id                          \n",
       "36609709      NaN      NaN  "
      ]
     },
     "execution_count": 1150,
     "metadata": {},
     "output_type": "execute_result"
    }
   ],
   "source": [
    "# Output individual listings from data_ts for review\n",
    "data_ts[data_ts.index==36609709]"
   ]
  },
  {
   "cell_type": "code",
   "execution_count": 1151,
   "metadata": {
    "code_folding": [
     0
    ],
    "collapsed": true
   },
   "outputs": [
    {
     "data": {
      "text/html": [
       "<div>\n",
       "<style scoped>\n",
       "    .dataframe tbody tr th:only-of-type {\n",
       "        vertical-align: middle;\n",
       "    }\n",
       "\n",
       "    .dataframe tbody tr th {\n",
       "        vertical-align: top;\n",
       "    }\n",
       "\n",
       "    .dataframe thead th {\n",
       "        text-align: right;\n",
       "    }\n",
       "</style>\n",
       "<table border=\"1\" class=\"dataframe\">\n",
       "  <thead>\n",
       "    <tr style=\"text-align: right;\">\n",
       "      <th></th>\n",
       "      <th>2020-02</th>\n",
       "      <th>2020-01</th>\n",
       "      <th>2019-12</th>\n",
       "      <th>2019-11</th>\n",
       "      <th>2019-10</th>\n",
       "      <th>2019-09</th>\n",
       "      <th>2019-08</th>\n",
       "      <th>2019-07</th>\n",
       "      <th>2019-06</th>\n",
       "      <th>2019-05</th>\n",
       "      <th>2019-04</th>\n",
       "      <th>2019-03</th>\n",
       "      <th>2019-02</th>\n",
       "      <th>2019-01</th>\n",
       "      <th>2018-12</th>\n",
       "      <th>2018-11</th>\n",
       "      <th>2018-10</th>\n",
       "      <th>2018-09</th>\n",
       "      <th>2018-08</th>\n",
       "      <th>2018-07</th>\n",
       "      <th>2018-06</th>\n",
       "      <th>2018-05</th>\n",
       "      <th>2018-04</th>\n",
       "    </tr>\n",
       "    <tr>\n",
       "      <th>id</th>\n",
       "      <th></th>\n",
       "      <th></th>\n",
       "      <th></th>\n",
       "      <th></th>\n",
       "      <th></th>\n",
       "      <th></th>\n",
       "      <th></th>\n",
       "      <th></th>\n",
       "      <th></th>\n",
       "      <th></th>\n",
       "      <th></th>\n",
       "      <th></th>\n",
       "      <th></th>\n",
       "      <th></th>\n",
       "      <th></th>\n",
       "      <th></th>\n",
       "      <th></th>\n",
       "      <th></th>\n",
       "      <th></th>\n",
       "      <th></th>\n",
       "      <th></th>\n",
       "      <th></th>\n",
       "      <th></th>\n",
       "    </tr>\n",
       "  </thead>\n",
       "  <tbody>\n",
       "    <tr>\n",
       "      <th>36609709</th>\n",
       "      <td>350.0</td>\n",
       "      <td>72.0</td>\n",
       "      <td>77.0</td>\n",
       "      <td>77.0</td>\n",
       "      <td>77.0</td>\n",
       "      <td>77.0</td>\n",
       "      <td>100.0</td>\n",
       "      <td>100.0</td>\n",
       "      <td>100.0</td>\n",
       "      <td>100.0</td>\n",
       "      <td>100.0</td>\n",
       "      <td>100.0</td>\n",
       "      <td>100.0</td>\n",
       "      <td>100.0</td>\n",
       "      <td>100.0</td>\n",
       "      <td>100.0</td>\n",
       "      <td>100.0</td>\n",
       "      <td>100.0</td>\n",
       "      <td>100.0</td>\n",
       "      <td>100.0</td>\n",
       "      <td>100.0</td>\n",
       "      <td>100.0</td>\n",
       "      <td>100.0</td>\n",
       "    </tr>\n",
       "  </tbody>\n",
       "</table>\n",
       "</div>"
      ],
      "text/plain": [
       "          2020-02  2020-01  2019-12  2019-11  2019-10  2019-09  2019-08  \\\n",
       "id                                                                        \n",
       "36609709    350.0     72.0     77.0     77.0     77.0     77.0    100.0   \n",
       "\n",
       "          2019-07  2019-06  2019-05  2019-04  2019-03  2019-02  2019-01  \\\n",
       "id                                                                        \n",
       "36609709    100.0    100.0    100.0    100.0    100.0    100.0    100.0   \n",
       "\n",
       "          2018-12  2018-11  2018-10  2018-09  2018-08  2018-07  2018-06  \\\n",
       "id                                                                        \n",
       "36609709    100.0    100.0    100.0    100.0    100.0    100.0    100.0   \n",
       "\n",
       "          2018-05  2018-04  \n",
       "id                          \n",
       "36609709    100.0    100.0  "
      ]
     },
     "execution_count": 1151,
     "metadata": {},
     "output_type": "execute_result"
    }
   ],
   "source": [
    "# Output individual listings from data_ts_filled for review\n",
    "data_ts_filled[data_ts_filled.index==36609709]"
   ]
  },
  {
   "cell_type": "code",
   "execution_count": 1152,
   "metadata": {
    "code_folding": [
     0
    ],
    "collapsed": true
   },
   "outputs": [
    {
     "data": {
      "text/html": [
       "<div>\n",
       "<style scoped>\n",
       "    .dataframe tbody tr th:only-of-type {\n",
       "        vertical-align: middle;\n",
       "    }\n",
       "\n",
       "    .dataframe tbody tr th {\n",
       "        vertical-align: top;\n",
       "    }\n",
       "\n",
       "    .dataframe thead th {\n",
       "        text-align: right;\n",
       "    }\n",
       "</style>\n",
       "<table border=\"1\" class=\"dataframe\">\n",
       "  <thead>\n",
       "    <tr style=\"text-align: right;\">\n",
       "      <th></th>\n",
       "      <th>accommodates</th>\n",
       "      <th>am_balcony</th>\n",
       "      <th>am_breakfast</th>\n",
       "      <th>am_child_friendly</th>\n",
       "      <th>am_coffee_machine</th>\n",
       "      <th>am_cooking_basics</th>\n",
       "      <th>am_elevator</th>\n",
       "      <th>am_essentials</th>\n",
       "      <th>am_nature_and_views</th>\n",
       "      <th>am_parking</th>\n",
       "      <th>am_pets_allowed</th>\n",
       "      <th>am_private_entrance</th>\n",
       "      <th>am_smoking_allowed</th>\n",
       "      <th>am_tv</th>\n",
       "      <th>am_white_goods</th>\n",
       "      <th>amenities</th>\n",
       "      <th>availability_365</th>\n",
       "      <th>bathrooms</th>\n",
       "      <th>bedrooms</th>\n",
       "      <th>beds</th>\n",
       "      <th>calculated_host_listings_count</th>\n",
       "      <th>cancellation_policy</th>\n",
       "      <th>cleaning_fee</th>\n",
       "      <th>description</th>\n",
       "      <th>extra_people</th>\n",
       "      <th>guests_included</th>\n",
       "      <th>host_identity_verified</th>\n",
       "      <th>host_is_superhost</th>\n",
       "      <th>house_rules</th>\n",
       "      <th>instant_bookable</th>\n",
       "      <th>interaction</th>\n",
       "      <th>is_location_exact</th>\n",
       "      <th>latitude</th>\n",
       "      <th>longitude</th>\n",
       "      <th>maximum_nights</th>\n",
       "      <th>minimum_nights</th>\n",
       "      <th>monthly_price</th>\n",
       "      <th>name</th>\n",
       "      <th>neighborhood_overview</th>\n",
       "      <th>neighbourhood</th>\n",
       "      <th>notes</th>\n",
       "      <th>price</th>\n",
       "      <th>property_type</th>\n",
       "      <th>review_scores_rating</th>\n",
       "      <th>room_type</th>\n",
       "      <th>security_deposit</th>\n",
       "      <th>space</th>\n",
       "      <th>summary</th>\n",
       "      <th>transit</th>\n",
       "      <th>weekly_price</th>\n",
       "      <th>zipcode</th>\n",
       "      <th>avg_nights</th>\n",
       "      <th>reviews_lt2yr</th>\n",
       "      <th>active_months_lt2yr</th>\n",
       "      <th>bookings_est</th>\n",
       "      <th>occupancy_rate</th>\n",
       "      <th>occupancy_class</th>\n",
       "      <th>price_avg</th>\n",
       "      <th>price_diff</th>\n",
       "      <th>price_diff_perc</th>\n",
       "    </tr>\n",
       "    <tr>\n",
       "      <th>id</th>\n",
       "      <th></th>\n",
       "      <th></th>\n",
       "      <th></th>\n",
       "      <th></th>\n",
       "      <th></th>\n",
       "      <th></th>\n",
       "      <th></th>\n",
       "      <th></th>\n",
       "      <th></th>\n",
       "      <th></th>\n",
       "      <th></th>\n",
       "      <th></th>\n",
       "      <th></th>\n",
       "      <th></th>\n",
       "      <th></th>\n",
       "      <th></th>\n",
       "      <th></th>\n",
       "      <th></th>\n",
       "      <th></th>\n",
       "      <th></th>\n",
       "      <th></th>\n",
       "      <th></th>\n",
       "      <th></th>\n",
       "      <th></th>\n",
       "      <th></th>\n",
       "      <th></th>\n",
       "      <th></th>\n",
       "      <th></th>\n",
       "      <th></th>\n",
       "      <th></th>\n",
       "      <th></th>\n",
       "      <th></th>\n",
       "      <th></th>\n",
       "      <th></th>\n",
       "      <th></th>\n",
       "      <th></th>\n",
       "      <th></th>\n",
       "      <th></th>\n",
       "      <th></th>\n",
       "      <th></th>\n",
       "      <th></th>\n",
       "      <th></th>\n",
       "      <th></th>\n",
       "      <th></th>\n",
       "      <th></th>\n",
       "      <th></th>\n",
       "      <th></th>\n",
       "      <th></th>\n",
       "      <th></th>\n",
       "      <th></th>\n",
       "      <th></th>\n",
       "      <th></th>\n",
       "      <th></th>\n",
       "      <th></th>\n",
       "      <th></th>\n",
       "      <th></th>\n",
       "      <th></th>\n",
       "      <th></th>\n",
       "      <th></th>\n",
       "      <th></th>\n",
       "    </tr>\n",
       "  </thead>\n",
       "  <tbody>\n",
       "    <tr>\n",
       "      <th>593920</th>\n",
       "      <td>3</td>\n",
       "      <td>0.0</td>\n",
       "      <td>0.0</td>\n",
       "      <td>1.0</td>\n",
       "      <td>0.0</td>\n",
       "      <td>0.0</td>\n",
       "      <td>0.0</td>\n",
       "      <td>0.0</td>\n",
       "      <td>0.0</td>\n",
       "      <td>1.0</td>\n",
       "      <td>0.0</td>\n",
       "      <td>0.0</td>\n",
       "      <td>0.0</td>\n",
       "      <td>0.0</td>\n",
       "      <td>1.0</td>\n",
       "      <td>{Internet,Wifi,Kitchen,\"Free parking on premis...</td>\n",
       "      <td>0</td>\n",
       "      <td>1.0</td>\n",
       "      <td>1.0</td>\n",
       "      <td>2.0</td>\n",
       "      <td>1</td>\n",
       "      <td>strict_14_with_grace_period</td>\n",
       "      <td>5.0</td>\n",
       "      <td>A cosy, artsy apartment, centrally located, fo...</td>\n",
       "      <td>0.0</td>\n",
       "      <td>1</td>\n",
       "      <td>f</td>\n",
       "      <td>f</td>\n",
       "      <td>No smoking please and try to water my plants.</td>\n",
       "      <td>f</td>\n",
       "      <td>I am good with email contact, as I am often ab...</td>\n",
       "      <td>t</td>\n",
       "      <td>52.49517</td>\n",
       "      <td>13.40122</td>\n",
       "      <td>1125</td>\n",
       "      <td>1</td>\n",
       "      <td>700.0</td>\n",
       "      <td>1,5 rooms in wonderful Kreuzberg</td>\n",
       "      <td>My neighborhood in Kreuzberg is the \"Bergmannk...</td>\n",
       "      <td>Kreuzberg</td>\n",
       "      <td>The house is on the quiet side and the neighbo...</td>\n",
       "      <td>179.0</td>\n",
       "      <td>Apartment</td>\n",
       "      <td>100.0</td>\n",
       "      <td>Entire home/apt</td>\n",
       "      <td>0.0</td>\n",
       "      <td>A little jewel of an apartment, open kitchen/l...</td>\n",
       "      <td>A cosy, artsy apartment, centrally located, fo...</td>\n",
       "      <td>- M41 bus stop right in front of the door, str...</td>\n",
       "      <td>230.0</td>\n",
       "      <td>zip_10961</td>\n",
       "      <td>3.0</td>\n",
       "      <td>0.0</td>\n",
       "      <td>23</td>\n",
       "      <td>0.0</td>\n",
       "      <td>0.000000</td>\n",
       "      <td>0</td>\n",
       "      <td>107.0</td>\n",
       "      <td>72.0</td>\n",
       "      <td>0.402235</td>\n",
       "    </tr>\n",
       "    <tr>\n",
       "      <th>1564806</th>\n",
       "      <td>6</td>\n",
       "      <td>0.0</td>\n",
       "      <td>0.0</td>\n",
       "      <td>1.0</td>\n",
       "      <td>0.0</td>\n",
       "      <td>0.0</td>\n",
       "      <td>1.0</td>\n",
       "      <td>0.0</td>\n",
       "      <td>0.0</td>\n",
       "      <td>1.0</td>\n",
       "      <td>0.0</td>\n",
       "      <td>0.0</td>\n",
       "      <td>0.0</td>\n",
       "      <td>1.0</td>\n",
       "      <td>1.0</td>\n",
       "      <td>{TV,Internet,Wifi,\"Paid parking off premises\",...</td>\n",
       "      <td>77</td>\n",
       "      <td>1.5</td>\n",
       "      <td>1.0</td>\n",
       "      <td>1.0</td>\n",
       "      <td>49</td>\n",
       "      <td>strict_14_with_grace_period</td>\n",
       "      <td>0.0</td>\n",
       "      <td>with 12-man communal shared bathroom, TV, WIFI...</td>\n",
       "      <td>23.0</td>\n",
       "      <td>1</td>\n",
       "      <td>f</td>\n",
       "      <td>f</td>\n",
       "      <td>- check out before 10:00 am. - no smoking in t...</td>\n",
       "      <td>f</td>\n",
       "      <td>There is always at least 1 member of staff on ...</td>\n",
       "      <td>t</td>\n",
       "      <td>52.51614</td>\n",
       "      <td>13.42485</td>\n",
       "      <td>14</td>\n",
       "      <td>1</td>\n",
       "      <td>0.0</td>\n",
       "      <td>6-Bed mixed dorm ,Shared Bathroom 3</td>\n",
       "      <td>Welcome Traveler. The Singer Hostel and  Apart...</td>\n",
       "      <td>Mitte</td>\n",
       "      <td>Since 01.01.2014 the city of Berlin had to ado...</td>\n",
       "      <td>150.0</td>\n",
       "      <td>Hostel</td>\n",
       "      <td>91.0</td>\n",
       "      <td>Shared room</td>\n",
       "      <td>0.0</td>\n",
       "      <td>The Singer 109 Hostel is located in the heart ...</td>\n",
       "      <td>with 12-man communal shared bathroom, TV, WIFI...</td>\n",
       "      <td>U-Bahn / Underground /Subway / Metro: U5 (Stra...</td>\n",
       "      <td>0.0</td>\n",
       "      <td>zip_10179</td>\n",
       "      <td>3.0</td>\n",
       "      <td>66.0</td>\n",
       "      <td>23</td>\n",
       "      <td>132.0</td>\n",
       "      <td>0.800000</td>\n",
       "      <td>5</td>\n",
       "      <td>85.0</td>\n",
       "      <td>65.0</td>\n",
       "      <td>0.433333</td>\n",
       "    </tr>\n",
       "    <tr>\n",
       "      <th>1564917</th>\n",
       "      <td>4</td>\n",
       "      <td>0.0</td>\n",
       "      <td>0.0</td>\n",
       "      <td>1.0</td>\n",
       "      <td>0.0</td>\n",
       "      <td>0.0</td>\n",
       "      <td>1.0</td>\n",
       "      <td>0.0</td>\n",
       "      <td>0.0</td>\n",
       "      <td>1.0</td>\n",
       "      <td>0.0</td>\n",
       "      <td>0.0</td>\n",
       "      <td>0.0</td>\n",
       "      <td>1.0</td>\n",
       "      <td>1.0</td>\n",
       "      <td>{TV,Internet,Wifi,\"Paid parking off premises\",...</td>\n",
       "      <td>85</td>\n",
       "      <td>1.5</td>\n",
       "      <td>1.0</td>\n",
       "      <td>1.0</td>\n",
       "      <td>49</td>\n",
       "      <td>strict_14_with_grace_period</td>\n",
       "      <td>0.0</td>\n",
       "      <td>with bathroom, TV, WIFI, bed linen, and storag...</td>\n",
       "      <td>29.0</td>\n",
       "      <td>1</td>\n",
       "      <td>f</td>\n",
       "      <td>f</td>\n",
       "      <td>- Check out before 10:00 a.m. - No smoking in ...</td>\n",
       "      <td>f</td>\n",
       "      <td>There is always at least 1 member of staff on ...</td>\n",
       "      <td>t</td>\n",
       "      <td>52.51767</td>\n",
       "      <td>13.42518</td>\n",
       "      <td>14</td>\n",
       "      <td>1</td>\n",
       "      <td>0.0</td>\n",
       "      <td>4-Bedroom mixed, Ensuite , TV No. 1</td>\n",
       "      <td>Welcome Traveler. The Singer Hostel and  Apart...</td>\n",
       "      <td>Mitte</td>\n",
       "      <td>Since 01.01.2014 the city of Berlin had to ado...</td>\n",
       "      <td>99.0</td>\n",
       "      <td>Hostel</td>\n",
       "      <td>93.0</td>\n",
       "      <td>Shared room</td>\n",
       "      <td>0.0</td>\n",
       "      <td>The Singer 109 Hostel is located in the heart ...</td>\n",
       "      <td>with bathroom, TV, WIFI, bed linen, and storag...</td>\n",
       "      <td>U-Bahn / Underground /Subway / Metro: U5 (Stra...</td>\n",
       "      <td>0.0</td>\n",
       "      <td>zip_10179</td>\n",
       "      <td>3.0</td>\n",
       "      <td>92.0</td>\n",
       "      <td>23</td>\n",
       "      <td>184.0</td>\n",
       "      <td>0.800000</td>\n",
       "      <td>5</td>\n",
       "      <td>66.0</td>\n",
       "      <td>33.0</td>\n",
       "      <td>0.333333</td>\n",
       "    </tr>\n",
       "    <tr>\n",
       "      <th>1565012</th>\n",
       "      <td>6</td>\n",
       "      <td>0.0</td>\n",
       "      <td>0.0</td>\n",
       "      <td>1.0</td>\n",
       "      <td>0.0</td>\n",
       "      <td>0.0</td>\n",
       "      <td>1.0</td>\n",
       "      <td>0.0</td>\n",
       "      <td>0.0</td>\n",
       "      <td>1.0</td>\n",
       "      <td>0.0</td>\n",
       "      <td>0.0</td>\n",
       "      <td>0.0</td>\n",
       "      <td>1.0</td>\n",
       "      <td>1.0</td>\n",
       "      <td>{TV,Internet,Wifi,\"Paid parking off premises\",...</td>\n",
       "      <td>86</td>\n",
       "      <td>1.5</td>\n",
       "      <td>1.0</td>\n",
       "      <td>1.0</td>\n",
       "      <td>49</td>\n",
       "      <td>strict_14_with_grace_period</td>\n",
       "      <td>0.0</td>\n",
       "      <td>with en-suite bathroom, TV, WIFI, bed linen, a...</td>\n",
       "      <td>27.0</td>\n",
       "      <td>1</td>\n",
       "      <td>f</td>\n",
       "      <td>f</td>\n",
       "      <td>- check out before 10:00 am. - no smoking in t...</td>\n",
       "      <td>f</td>\n",
       "      <td>There is always at least 1 member of staff on ...</td>\n",
       "      <td>t</td>\n",
       "      <td>52.51756</td>\n",
       "      <td>13.42441</td>\n",
       "      <td>14</td>\n",
       "      <td>1</td>\n",
       "      <td>0.0</td>\n",
       "      <td>6-Bedroom mixed, Ensuite , TV No. 1</td>\n",
       "      <td>Welcome Traveler. The Singer Hostel and  Apart...</td>\n",
       "      <td>Mitte</td>\n",
       "      <td>Since 01.01.2014 the city of Berlin had to ado...</td>\n",
       "      <td>150.0</td>\n",
       "      <td>Hostel</td>\n",
       "      <td>93.0</td>\n",
       "      <td>Shared room</td>\n",
       "      <td>0.0</td>\n",
       "      <td>The Singer 109 Hostel is located in the heart ...</td>\n",
       "      <td>with en-suite bathroom, TV, WIFI, bed linen, a...</td>\n",
       "      <td>U-Bahn / Underground /Subway / Metro: U5 (Stra...</td>\n",
       "      <td>0.0</td>\n",
       "      <td>zip_10179</td>\n",
       "      <td>3.0</td>\n",
       "      <td>55.0</td>\n",
       "      <td>23</td>\n",
       "      <td>110.0</td>\n",
       "      <td>0.800000</td>\n",
       "      <td>5</td>\n",
       "      <td>87.5</td>\n",
       "      <td>62.5</td>\n",
       "      <td>0.416667</td>\n",
       "    </tr>\n",
       "    <tr>\n",
       "      <th>1565047</th>\n",
       "      <td>8</td>\n",
       "      <td>0.0</td>\n",
       "      <td>0.0</td>\n",
       "      <td>1.0</td>\n",
       "      <td>0.0</td>\n",
       "      <td>0.0</td>\n",
       "      <td>1.0</td>\n",
       "      <td>0.0</td>\n",
       "      <td>0.0</td>\n",
       "      <td>0.0</td>\n",
       "      <td>0.0</td>\n",
       "      <td>0.0</td>\n",
       "      <td>0.0</td>\n",
       "      <td>1.0</td>\n",
       "      <td>1.0</td>\n",
       "      <td>{TV,Internet,Wifi,Kitchen,Elevator,Heating,\"Fa...</td>\n",
       "      <td>76</td>\n",
       "      <td>1.0</td>\n",
       "      <td>1.0</td>\n",
       "      <td>1.0</td>\n",
       "      <td>49</td>\n",
       "      <td>strict_14_with_grace_period</td>\n",
       "      <td>0.0</td>\n",
       "      <td>with en-suite bathroom, TV, WIFI, bed linen, a...</td>\n",
       "      <td>23.0</td>\n",
       "      <td>1</td>\n",
       "      <td>f</td>\n",
       "      <td>f</td>\n",
       "      <td>- check out before 11:00 am. - no smoking in t...</td>\n",
       "      <td>f</td>\n",
       "      <td>There is always at least 1 member of staff on ...</td>\n",
       "      <td>t</td>\n",
       "      <td>52.51778</td>\n",
       "      <td>13.42640</td>\n",
       "      <td>14</td>\n",
       "      <td>1</td>\n",
       "      <td>0.0</td>\n",
       "      <td>8-bed dorm mixed Ensuite ,Kitchen 1</td>\n",
       "      <td>Welcome Traveler. The Singer Hostel and  Apart...</td>\n",
       "      <td>Mitte</td>\n",
       "      <td>Since 01.01.2014 the city of Berlin had to ado...</td>\n",
       "      <td>150.0</td>\n",
       "      <td>Hostel</td>\n",
       "      <td>91.0</td>\n",
       "      <td>Shared room</td>\n",
       "      <td>0.0</td>\n",
       "      <td>The Singer 109 Hostel is located in the heart ...</td>\n",
       "      <td>with en-suite bathroom, TV, WIFI, bed linen, a...</td>\n",
       "      <td>U-Bahn / Metro : U5 ( Strausberger Platz );  U...</td>\n",
       "      <td>0.0</td>\n",
       "      <td>zip_10179</td>\n",
       "      <td>3.0</td>\n",
       "      <td>36.0</td>\n",
       "      <td>23</td>\n",
       "      <td>72.0</td>\n",
       "      <td>0.591781</td>\n",
       "      <td>3</td>\n",
       "      <td>91.0</td>\n",
       "      <td>59.0</td>\n",
       "      <td>0.393333</td>\n",
       "    </tr>\n",
       "  </tbody>\n",
       "</table>\n",
       "</div>"
      ],
      "text/plain": [
       "         accommodates  am_balcony  am_breakfast  am_child_friendly  \\\n",
       "id                                                                   \n",
       "593920              3         0.0           0.0                1.0   \n",
       "1564806             6         0.0           0.0                1.0   \n",
       "1564917             4         0.0           0.0                1.0   \n",
       "1565012             6         0.0           0.0                1.0   \n",
       "1565047             8         0.0           0.0                1.0   \n",
       "\n",
       "         am_coffee_machine  am_cooking_basics  am_elevator  am_essentials  \\\n",
       "id                                                                          \n",
       "593920                 0.0                0.0          0.0            0.0   \n",
       "1564806                0.0                0.0          1.0            0.0   \n",
       "1564917                0.0                0.0          1.0            0.0   \n",
       "1565012                0.0                0.0          1.0            0.0   \n",
       "1565047                0.0                0.0          1.0            0.0   \n",
       "\n",
       "         am_nature_and_views  am_parking  am_pets_allowed  \\\n",
       "id                                                          \n",
       "593920                   0.0         1.0              0.0   \n",
       "1564806                  0.0         1.0              0.0   \n",
       "1564917                  0.0         1.0              0.0   \n",
       "1565012                  0.0         1.0              0.0   \n",
       "1565047                  0.0         0.0              0.0   \n",
       "\n",
       "         am_private_entrance  am_smoking_allowed  am_tv  am_white_goods  \\\n",
       "id                                                                        \n",
       "593920                   0.0                 0.0    0.0             1.0   \n",
       "1564806                  0.0                 0.0    1.0             1.0   \n",
       "1564917                  0.0                 0.0    1.0             1.0   \n",
       "1565012                  0.0                 0.0    1.0             1.0   \n",
       "1565047                  0.0                 0.0    1.0             1.0   \n",
       "\n",
       "                                                 amenities  availability_365  \\\n",
       "id                                                                             \n",
       "593920   {Internet,Wifi,Kitchen,\"Free parking on premis...                 0   \n",
       "1564806  {TV,Internet,Wifi,\"Paid parking off premises\",...                77   \n",
       "1564917  {TV,Internet,Wifi,\"Paid parking off premises\",...                85   \n",
       "1565012  {TV,Internet,Wifi,\"Paid parking off premises\",...                86   \n",
       "1565047  {TV,Internet,Wifi,Kitchen,Elevator,Heating,\"Fa...                76   \n",
       "\n",
       "         bathrooms  bedrooms  beds  calculated_host_listings_count  \\\n",
       "id                                                                   \n",
       "593920         1.0       1.0   2.0                               1   \n",
       "1564806        1.5       1.0   1.0                              49   \n",
       "1564917        1.5       1.0   1.0                              49   \n",
       "1565012        1.5       1.0   1.0                              49   \n",
       "1565047        1.0       1.0   1.0                              49   \n",
       "\n",
       "                 cancellation_policy  cleaning_fee  \\\n",
       "id                                                   \n",
       "593920   strict_14_with_grace_period           5.0   \n",
       "1564806  strict_14_with_grace_period           0.0   \n",
       "1564917  strict_14_with_grace_period           0.0   \n",
       "1565012  strict_14_with_grace_period           0.0   \n",
       "1565047  strict_14_with_grace_period           0.0   \n",
       "\n",
       "                                               description  extra_people  \\\n",
       "id                                                                         \n",
       "593920   A cosy, artsy apartment, centrally located, fo...           0.0   \n",
       "1564806  with 12-man communal shared bathroom, TV, WIFI...          23.0   \n",
       "1564917  with bathroom, TV, WIFI, bed linen, and storag...          29.0   \n",
       "1565012  with en-suite bathroom, TV, WIFI, bed linen, a...          27.0   \n",
       "1565047  with en-suite bathroom, TV, WIFI, bed linen, a...          23.0   \n",
       "\n",
       "         guests_included host_identity_verified host_is_superhost  \\\n",
       "id                                                                  \n",
       "593920                 1                      f                 f   \n",
       "1564806                1                      f                 f   \n",
       "1564917                1                      f                 f   \n",
       "1565012                1                      f                 f   \n",
       "1565047                1                      f                 f   \n",
       "\n",
       "                                               house_rules instant_bookable  \\\n",
       "id                                                                            \n",
       "593920       No smoking please and try to water my plants.                f   \n",
       "1564806  - check out before 10:00 am. - no smoking in t...                f   \n",
       "1564917  - Check out before 10:00 a.m. - No smoking in ...                f   \n",
       "1565012  - check out before 10:00 am. - no smoking in t...                f   \n",
       "1565047  - check out before 11:00 am. - no smoking in t...                f   \n",
       "\n",
       "                                               interaction is_location_exact  \\\n",
       "id                                                                             \n",
       "593920   I am good with email contact, as I am often ab...                 t   \n",
       "1564806  There is always at least 1 member of staff on ...                 t   \n",
       "1564917  There is always at least 1 member of staff on ...                 t   \n",
       "1565012  There is always at least 1 member of staff on ...                 t   \n",
       "1565047  There is always at least 1 member of staff on ...                 t   \n",
       "\n",
       "         latitude  longitude  maximum_nights  minimum_nights  monthly_price  \\\n",
       "id                                                                            \n",
       "593920   52.49517   13.40122            1125               1          700.0   \n",
       "1564806  52.51614   13.42485              14               1            0.0   \n",
       "1564917  52.51767   13.42518              14               1            0.0   \n",
       "1565012  52.51756   13.42441              14               1            0.0   \n",
       "1565047  52.51778   13.42640              14               1            0.0   \n",
       "\n",
       "                                        name  \\\n",
       "id                                             \n",
       "593920      1,5 rooms in wonderful Kreuzberg   \n",
       "1564806  6-Bed mixed dorm ,Shared Bathroom 3   \n",
       "1564917  4-Bedroom mixed, Ensuite , TV No. 1   \n",
       "1565012  6-Bedroom mixed, Ensuite , TV No. 1   \n",
       "1565047  8-bed dorm mixed Ensuite ,Kitchen 1   \n",
       "\n",
       "                                     neighborhood_overview neighbourhood  \\\n",
       "id                                                                         \n",
       "593920   My neighborhood in Kreuzberg is the \"Bergmannk...     Kreuzberg   \n",
       "1564806  Welcome Traveler. The Singer Hostel and  Apart...         Mitte   \n",
       "1564917  Welcome Traveler. The Singer Hostel and  Apart...         Mitte   \n",
       "1565012  Welcome Traveler. The Singer Hostel and  Apart...         Mitte   \n",
       "1565047  Welcome Traveler. The Singer Hostel and  Apart...         Mitte   \n",
       "\n",
       "                                                     notes  price  \\\n",
       "id                                                                  \n",
       "593920   The house is on the quiet side and the neighbo...  179.0   \n",
       "1564806  Since 01.01.2014 the city of Berlin had to ado...  150.0   \n",
       "1564917  Since 01.01.2014 the city of Berlin had to ado...   99.0   \n",
       "1565012  Since 01.01.2014 the city of Berlin had to ado...  150.0   \n",
       "1565047  Since 01.01.2014 the city of Berlin had to ado...  150.0   \n",
       "\n",
       "        property_type  review_scores_rating        room_type  \\\n",
       "id                                                             \n",
       "593920      Apartment                 100.0  Entire home/apt   \n",
       "1564806        Hostel                  91.0      Shared room   \n",
       "1564917        Hostel                  93.0      Shared room   \n",
       "1565012        Hostel                  93.0      Shared room   \n",
       "1565047        Hostel                  91.0      Shared room   \n",
       "\n",
       "         security_deposit                                              space  \\\n",
       "id                                                                             \n",
       "593920                0.0  A little jewel of an apartment, open kitchen/l...   \n",
       "1564806               0.0  The Singer 109 Hostel is located in the heart ...   \n",
       "1564917               0.0  The Singer 109 Hostel is located in the heart ...   \n",
       "1565012               0.0  The Singer 109 Hostel is located in the heart ...   \n",
       "1565047               0.0  The Singer 109 Hostel is located in the heart ...   \n",
       "\n",
       "                                                   summary  \\\n",
       "id                                                           \n",
       "593920   A cosy, artsy apartment, centrally located, fo...   \n",
       "1564806  with 12-man communal shared bathroom, TV, WIFI...   \n",
       "1564917  with bathroom, TV, WIFI, bed linen, and storag...   \n",
       "1565012  with en-suite bathroom, TV, WIFI, bed linen, a...   \n",
       "1565047  with en-suite bathroom, TV, WIFI, bed linen, a...   \n",
       "\n",
       "                                                   transit  weekly_price  \\\n",
       "id                                                                         \n",
       "593920   - M41 bus stop right in front of the door, str...         230.0   \n",
       "1564806  U-Bahn / Underground /Subway / Metro: U5 (Stra...           0.0   \n",
       "1564917  U-Bahn / Underground /Subway / Metro: U5 (Stra...           0.0   \n",
       "1565012  U-Bahn / Underground /Subway / Metro: U5 (Stra...           0.0   \n",
       "1565047  U-Bahn / Metro : U5 ( Strausberger Platz );  U...           0.0   \n",
       "\n",
       "           zipcode  avg_nights  reviews_lt2yr  active_months_lt2yr  \\\n",
       "id                                                                   \n",
       "593920   zip_10961         3.0            0.0                   23   \n",
       "1564806  zip_10179         3.0           66.0                   23   \n",
       "1564917  zip_10179         3.0           92.0                   23   \n",
       "1565012  zip_10179         3.0           55.0                   23   \n",
       "1565047  zip_10179         3.0           36.0                   23   \n",
       "\n",
       "         bookings_est  occupancy_rate  occupancy_class  price_avg  price_diff  \\\n",
       "id                                                                              \n",
       "593920            0.0        0.000000                0      107.0        72.0   \n",
       "1564806         132.0        0.800000                5       85.0        65.0   \n",
       "1564917         184.0        0.800000                5       66.0        33.0   \n",
       "1565012         110.0        0.800000                5       87.5        62.5   \n",
       "1565047          72.0        0.591781                3       91.0        59.0   \n",
       "\n",
       "         price_diff_perc  \n",
       "id                        \n",
       "593920          0.402235  \n",
       "1564806         0.433333  \n",
       "1564917         0.333333  \n",
       "1565012         0.416667  \n",
       "1565047         0.393333  "
      ]
     },
     "execution_count": 1152,
     "metadata": {},
     "output_type": "execute_result"
    }
   ],
   "source": [
    "# Check highest price vs avg differences\n",
    "data[data.price_diff_perc>0.33].head()"
   ]
  },
  {
   "cell_type": "code",
   "execution_count": null,
   "metadata": {},
   "outputs": [],
   "source": []
  },
  {
   "cell_type": "markdown",
   "metadata": {},
   "source": [
    "## Other Features"
   ]
  },
  {
   "cell_type": "markdown",
   "metadata": {},
   "source": [
    "**Change column content**"
   ]
  },
  {
   "cell_type": "code",
   "execution_count": 1153,
   "metadata": {
    "code_folding": [
     0
    ]
   },
   "outputs": [],
   "source": [
    "# Reduce cancellation_policy to 4 classes\n",
    "data.cancellation_policy.replace([\"strict_14_with_grace_period\", \"super_strict_60\", \"super_strict_30\"], [\"strict\", \"super_strict\", \"super_strict\"], inplace=True)"
   ]
  },
  {
   "cell_type": "code",
   "execution_count": 1154,
   "metadata": {
    "code_folding": [
     0
    ]
   },
   "outputs": [],
   "source": [
    "# Reduce property_type to 6 classes, as per Airbnb classification (see listing creation in pdf)\n",
    "data.property_type.replace([\"Condominium\", \"Loft\", \"Vacation home\"], \"Apartment\", inplace=True)\n",
    "data.property_type.replace([\"Aparthotel\", \"Hostel\", \"Hotel\", \"Resort\", \"Serviced apartment\"], \"Boutique hotel\", inplace=True)\n",
    "data.property_type.replace([\"Casa particular (Cuba)\", \"Farm stay\", \"Nature lodge\", \"Pension (South Korea)\"], \"Bed and breakfast\", inplace=True)\n",
    "data.property_type.replace([\"Bungalow\", \"Cabin\", \"Chalet\", \"Cottage\", \"Dome house\", \"Earth house\", \"Houseboat\", \"Hut\", \"Lighthouse\", \"Tiny house\", \"Townhouse\", \"Villa\"], \"House\", inplace=True)\n",
    "data.property_type.replace([\"Guesthouse\", \"Guest suite\"], \"Secondary unit\", inplace=True)\n",
    "data.property_type.replace([\"Barn\", \"Boat\", \"Bus\", \"Camper/RV\", \"Campsite\", \"Castle\", \"Cave\", \"Igloo\", \"Island\", \"Plane\", \"Tent\", \"Tipi\", \"Train\", \"Treehouse\", \"Windmill\", \"Yurt\"], \"Unique space\", inplace=True)\n"
   ]
  },
  {
   "cell_type": "code",
   "execution_count": 1155,
   "metadata": {
    "code_folding": [
     0
    ]
   },
   "outputs": [],
   "source": [
    "# Drop all listings that are not in the above 6 classes\n",
    "data = data[data.property_type.isin([\"Apartment\", \"Boutique hotel\", \"Bed and breakfast\", \"House\", \"Secondary unit\", \"Unique space\"])]"
   ]
  },
  {
   "cell_type": "code",
   "execution_count": 1156,
   "metadata": {
    "code_folding": [
     0
    ]
   },
   "outputs": [],
   "source": [
    "# Fill all columns with \"0\" of \"monthly_price\" and \"weekly_price\" with 7x/30x \"price\"\n",
    "data[\"monthly_price\"] = np.where(data.monthly_price==0, data.price*30, data.monthly_price)\n",
    "data[\"weekly_price\"] = np.where(data.weekly_price==0, data.price*7, data.weekly_price)\n"
   ]
  },
  {
   "cell_type": "markdown",
   "metadata": {},
   "source": [
    "**Convert binary features to 1/0**"
   ]
  },
  {
   "cell_type": "code",
   "execution_count": 1157,
   "metadata": {
    "code_folding": [
     0
    ]
   },
   "outputs": [],
   "source": [
    "# Convert t/f to 1/0 for various features\n",
    "data.host_is_superhost.replace([\"t\", \"f\"], [1, 0], inplace=True)\n",
    "data.host_identity_verified.replace([\"t\", \"f\"], [1, 0], inplace=True)\n",
    "data.is_location_exact.replace([\"t\", \"f\"], [1, 0], inplace=True)\n",
    "data.instant_bookable.replace([\"t\", \"f\"], [1, 0], inplace=True)"
   ]
  },
  {
   "cell_type": "code",
   "execution_count": 1158,
   "metadata": {
    "code_folding": [
     0
    ]
   },
   "outputs": [],
   "source": [
    "# Change availability_365 to 1/0\n",
    "data.availability_365 = np.where(data.availability_365!=0, 1, 0)"
   ]
  },
  {
   "cell_type": "code",
   "execution_count": 1159,
   "metadata": {
    "code_folding": [
     0
    ]
   },
   "outputs": [],
   "source": [
    "# Create 1/0 for text descriptions\n",
    "#data[\"description_exist\"] = [0 for i in range(len(data.index))]\n",
    "data[\"description_exist\"] = np.where(data.description!=\"\", 1, 0)\n",
    "data[\"house_rules_exist\"] = np.where(data.house_rules!=\"\", 1, 0)\n",
    "data[\"interaction_exist\"] = np.where(data.interaction!=\"\", 1, 0)\n",
    "data[\"neighborhood_overview_exist\"] = np.where(data.neighborhood_overview!=\"\", 1, 0)\n",
    "data[\"notes_exist\"] = np.where(data.notes!=\"\", 1, 0)\n",
    "data[\"space_exist\"] = np.where(data.space!=\"\", 1, 0)\n",
    "data[\"summary_exist\"] = np.where(data.summary!=\"\", 1, 0)\n",
    "data[\"transit_exist\"] = np.where(data.transit!=\"\", 1, 0)"
   ]
  },
  {
   "cell_type": "markdown",
   "metadata": {},
   "source": [
    "**Create numerical features**"
   ]
  },
  {
   "cell_type": "code",
   "execution_count": 1160,
   "metadata": {
    "code_folding": [
     0
    ]
   },
   "outputs": [],
   "source": [
    "# Calculate \"price_calc\" for one person from \"price\", \"guests_included\", \"extra_people\" and remove listings where \"price_calc\" ends up being <= 5\n",
    "data[\"price_calc\"] = data.price - 0.5*data.extra_people*(data.guests_included-1)\n",
    "data = data[data.price_calc > 5]"
   ]
  },
  {
   "cell_type": "code",
   "execution_count": 1161,
   "metadata": {
    "code_folding": [
     0
    ]
   },
   "outputs": [],
   "source": [
    "# Calculate \"price_extra_people\" (price) for additional persons from \"price\", \"guests_included\", \"extra_people\" and \"accommodates\"\n",
    "data[\"price_extra_people\"] = (data.extra_people*(data.accommodates-data.guests_included)+(0.5*data.extra_people*(data.guests_included-1)))/(data.accommodates-1)\n",
    "data.price_extra_people.fillna(0, inplace=True)"
   ]
  },
  {
   "cell_type": "code",
   "execution_count": 1162,
   "metadata": {
    "code_folding": [
     0
    ]
   },
   "outputs": [],
   "source": [
    "# Calculate existance of \"price_extra_fees\" from \"security_deposit\" and \"cleaning_fee\"\n",
    "data[\"price_extra_fees\"] = 0 + data.security_deposit + data.cleaning_fee"
   ]
  },
  {
   "cell_type": "code",
   "execution_count": 1163,
   "metadata": {
    "code_folding": [
     0
    ]
   },
   "outputs": [],
   "source": [
    "# Calculate \"descr_detail\" as measure for how well the listing is described\n",
    "data[\"descr_detail\"] = 0 + data.description_exist + data.house_rules_exist + data.interaction_exist + data.neighborhood_overview_exist + data.notes_exist + data.space_exist + data.summary_exist + data.transit_exist"
   ]
  },
  {
   "cell_type": "code",
   "execution_count": 1164,
   "metadata": {
    "code_folding": [
     0
    ]
   },
   "outputs": [],
   "source": [
    "# Calculate \"accommodates_per_room\" as feature to de-correlate \"accommodates\" and \"bedrooms\"\n",
    "data[\"accommodates_per_room\"] = data.accommodates/data.bedrooms"
   ]
  },
  {
   "cell_type": "code",
   "execution_count": 1165,
   "metadata": {
    "code_folding": [
     0
    ]
   },
   "outputs": [],
   "source": [
    "# Calculate \"accommodates_per_bed\" as feature to de-correlate \"accommodates\" and \"beds\" and \"bedrooms\"\n",
    "data[\"accommodates_per_bed\"] = data.accommodates/data.beds"
   ]
  },
  {
   "cell_type": "code",
   "execution_count": 1166,
   "metadata": {
    "code_folding": [
     0
    ]
   },
   "outputs": [],
   "source": [
    "# Calculate \"wk_mth_discount\" from \"monthly_price\" and \"weekly_price\" with \"price\"\n",
    "data[\"wk_mth_discount\"] = ((data.price*30-data.monthly_price)/(data.price*30) + (data.price*7-data.weekly_price)/(data.price*7)) / 2"
   ]
  },
  {
   "cell_type": "markdown",
   "metadata": {},
   "source": [
    "**Create categorical features**"
   ]
  },
  {
   "cell_type": "code",
   "execution_count": 1167,
   "metadata": {},
   "outputs": [],
   "source": [
    "# Categorize listings by \"state\" (basic, moderate, luxurious)"
   ]
  },
  {
   "cell_type": "code",
   "execution_count": 1168,
   "metadata": {
    "code_folding": [
     0
    ]
   },
   "outputs": [],
   "source": [
    "# Modify text-based columns by counting words (.split().count)\n",
    "data[\"description_len\"] = [len(i.split()) for i in data.description]\n",
    "data[\"house_rules_len\"] = [len(i.split()) for i in data.house_rules]\n",
    "data[\"interaction_len\"] = [len(i.split()) for i in data.interaction]\n",
    "data[\"neighborhood_overview_len\"] = [len(i.split()) for i in data.neighborhood_overview]\n",
    "data[\"notes_len\"] = [len(i.split()) for i in data.notes]\n",
    "data[\"space_len\"] = [len(i.split()) for i in data.space]\n",
    "data[\"summary_len\"] = [len(i.split()) for i in data.summary]\n",
    "data[\"transit_len\"] = [len(i.split()) for i in data.transit]\n",
    "data[\"text_len\"] = (data.description_len/data.description_len.max() + data.house_rules_len/data.house_rules_len.max() +\n",
    "                    data.interaction_len/data.interaction_len.max() + data.neighborhood_overview_len/data.neighborhood_overview_len.max() +\n",
    "                    data.notes_len/data.notes_len.max() + data.space_len/data.space_len.max() + data.summary_len/data.summary_len.max() +\n",
    "                    data.transit_len/data.transit_len.max()) / 8\n",
    "data.text_len = data.text_len/data.text_len.max()"
   ]
  },
  {
   "cell_type": "markdown",
   "metadata": {},
   "source": [
    "**Convert text columns into meaningful information**"
   ]
  },
  {
   "cell_type": "code",
   "execution_count": 1169,
   "metadata": {
    "collapsed": true
   },
   "outputs": [
    {
     "data": {
      "text/plain": [
       "id\n",
       "22376273    Centrally located large bedroom in Berlin-Moab...\n",
       "40342585    Our cozy apartment is perfectly located betwee...\n",
       "20784798    Super bright and huge apartment located right ...\n",
       "9133614     This beautiful 2Room apartment with design fur...\n",
       "24876567    Everything you need for a romantic getaway for...\n",
       "Name: description, dtype: object"
      ]
     },
     "execution_count": 1169,
     "metadata": {},
     "output_type": "execute_result"
    }
   ],
   "source": [
    "data.description.sample(5)"
   ]
  },
  {
   "cell_type": "code",
   "execution_count": null,
   "metadata": {},
   "outputs": [],
   "source": []
  },
  {
   "cell_type": "code",
   "execution_count": null,
   "metadata": {},
   "outputs": [],
   "source": []
  },
  {
   "cell_type": "code",
   "execution_count": null,
   "metadata": {},
   "outputs": [],
   "source": []
  },
  {
   "cell_type": "code",
   "execution_count": null,
   "metadata": {},
   "outputs": [],
   "source": []
  },
  {
   "cell_type": "markdown",
   "metadata": {},
   "source": [
    "**Create log/sqrt from existing features**\n",
    "\n",
    "Now we will replace certain features, which have relatively high skew (see 2_Clean), with their log"
   ]
  },
  {
   "cell_type": "code",
   "execution_count": 1170,
   "metadata": {
    "code_folding": [
     0
    ]
   },
   "outputs": [],
   "source": [
    "# Create log \"bathrooms_log\" for numerical feature \"bathrooms\"\n",
    "data[\"bathrooms_log\"] = [math.log(el) for el in data[\"bathrooms\"]]"
   ]
  },
  {
   "cell_type": "code",
   "execution_count": 1171,
   "metadata": {
    "code_folding": [
     0
    ]
   },
   "outputs": [],
   "source": [
    "# Create sqrt \"minimum_nights_sqrt\" for numerical feature \"minimum_nights\"\n",
    "data[\"minimum_nights_log\"] = [math.sqrt(el) for el in data[\"minimum_nights\"]]"
   ]
  },
  {
   "cell_type": "code",
   "execution_count": 1172,
   "metadata": {
    "code_folding": [
     0
    ],
    "scrolled": true
   },
   "outputs": [],
   "source": [
    "# Create log \"price_extra_fees_sqrt\" for numerical feature \"price_extra_fees\"\n",
    "data[\"price_extra_fees_sqrt\"] = [math.sqrt(el) for el in data[\"price_extra_fees\"]]"
   ]
  },
  {
   "cell_type": "code",
   "execution_count": 1173,
   "metadata": {
    "code_folding": [
     0
    ]
   },
   "outputs": [],
   "source": [
    "# Create log \"price_log\" for numerical feature \"price_calc\"\n",
    "data[\"price_log\"] = [math.log(el) for el in data[\"price_calc\"]]"
   ]
  },
  {
   "cell_type": "code",
   "execution_count": 1174,
   "metadata": {
    "code_folding": [
     0
    ]
   },
   "outputs": [],
   "source": [
    "# Create sqrt \"review_scores_rating_sqrt\" for numerical feature \"review_scores_rating\"\n",
    "review_max = data.review_scores_rating.max()\n",
    "data[\"review_scores_rating_sqrt\"] = [math.sqrt(review_max-el) for el in data.review_scores_rating]\n",
    "review_log_max = data.review_scores_rating_sqrt.max()\n",
    "data[\"review_scores_rating_sqrt\"] = [(review_log_max-el) for el in data.review_scores_rating_sqrt]\n",
    "#data[\"review_scores_rating_sqrt\"].plot(kind='hist', bins=50, figsize=(12,6), facecolor='grey',edgecolor='black');"
   ]
  },
  {
   "cell_type": "code",
   "execution_count": 1175,
   "metadata": {
    "code_folding": [
     0
    ]
   },
   "outputs": [],
   "source": [
    "# Create log \"text_len_sqrt\" for numerical feature \"text_len\"\n",
    "data[\"text_len_sqrt\"] = [math.sqrt(el) for el in data[\"text_len\"]]"
   ]
  },
  {
   "cell_type": "markdown",
   "metadata": {},
   "source": [
    "**Final check and cleaning before export**"
   ]
  },
  {
   "cell_type": "code",
   "execution_count": 1176,
   "metadata": {
    "code_folding": [
     0
    ]
   },
   "outputs": [],
   "source": [
    "# Drop further columns\n",
    "data.drop([\"accommodates\", \"active_months_lt2yr\", \"amenities\", \"am_coffee_machine\",\n",
    "           \"am_cooking_basics\", \"am_parking\", \"availability_365\",\n",
    "           \"avg_nights\", \"bathrooms\", \"beds\", \"bookings_est\", \n",
    "           \"cleaning_fee\", \"descr_detail\", \"description\", \"description_exist\", \"description_len\",\n",
    "           \"description_exist\", \"extra_people\", \"guests_included\", \"host_identity_verified\",\n",
    "           \"house_rules\", \"house_rules_exist\", \"house_rules_len\", \"interaction\", \"interaction_exist\", \n",
    "           \"interaction_len\", \"is_location_exact\", \"minimum_nights\",\n",
    "           \"monthly_price\", \"name\", \"neighborhood_overview\", \"neighborhood_overview_exist\", \n",
    "           \"neighborhood_overview_len\", \"notes\", \"notes_exist\", \"notes_len\", \"occupancy_rate\",\n",
    "           \"price\", \"price_avg\", \"price_calc\", \"price_diff\", \"price_diff_perc\", \"price_extra_fees\", \n",
    "           \"review_scores_rating\", \"reviews_lt2yr\", \"security_deposit\", \n",
    "           \"space\", \"space_exist\", \"space_len\", \"summary\", \"summary_exist\", \"summary_len\", \"text_len\",\n",
    "           \"transit\", \"transit_exist\", \"transit_len\", \"weekly_price\"], inplace=True, axis=1)"
   ]
  },
  {
   "cell_type": "markdown",
   "metadata": {},
   "source": [
    "| **DROPPED FEATURE** | **REASONING** |\n",
    "| :----- | :----- |\n",
    "| **am_coffee_machine** | high correlation (>0.3) with >5 other features |\n",
    "| **am_parking** | high correlation (>0.3) with >5 other features |\n",
    "| **availability_365** | high correlation (>0.3) with >5 other features |\n",
    "| **descr_detail** | dropped in favour of **text_len** |\n",
    "| **** |  |\n",
    "| **** |  |\n",
    "| **** |  |\n",
    "| **** |  |\n",
    "| **** |  |\n",
    "| **** |  |\n",
    "| **** |  |\n",
    "| **** |  |\n",
    "| **** |  |\n"
   ]
  },
  {
   "cell_type": "code",
   "execution_count": 1177,
   "metadata": {
    "code_folding": [
     0
    ],
    "collapsed": true
   },
   "outputs": [
    {
     "name": "stdout",
     "output_type": "stream",
     "text": [
      "<class 'pandas.core.frame.DataFrame'>\n",
      "Int64Index: 23623 entries, 3176 to 42361801\n",
      "Data columns (total 34 columns):\n",
      "am_balcony                        23623 non-null float64\n",
      "am_breakfast                      23623 non-null float64\n",
      "am_child_friendly                 23623 non-null float64\n",
      "am_elevator                       23623 non-null float64\n",
      "am_essentials                     23623 non-null float64\n",
      "am_nature_and_views               23623 non-null float64\n",
      "am_pets_allowed                   23623 non-null float64\n",
      "am_private_entrance               23623 non-null float64\n",
      "am_smoking_allowed                23623 non-null float64\n",
      "am_tv                             23623 non-null float64\n",
      "am_white_goods                    23623 non-null float64\n",
      "bedrooms                          23623 non-null float64\n",
      "calculated_host_listings_count    23623 non-null int64\n",
      "cancellation_policy               23623 non-null object\n",
      "host_is_superhost                 23623 non-null int64\n",
      "instant_bookable                  23623 non-null int64\n",
      "latitude                          23623 non-null float64\n",
      "longitude                         23623 non-null float64\n",
      "maximum_nights                    23623 non-null int64\n",
      "neighbourhood                     23623 non-null object\n",
      "property_type                     23623 non-null object\n",
      "room_type                         23623 non-null object\n",
      "zipcode                           23623 non-null object\n",
      "occupancy_class                   23623 non-null int64\n",
      "price_extra_people                23623 non-null float64\n",
      "accommodates_per_room             23623 non-null float64\n",
      "accommodates_per_bed              23623 non-null float64\n",
      "wk_mth_discount                   23623 non-null float64\n",
      "bathrooms_log                     23623 non-null float64\n",
      "minimum_nights_log                23623 non-null float64\n",
      "price_extra_fees_sqrt             23623 non-null float64\n",
      "price_log                         23623 non-null float64\n",
      "review_scores_rating_sqrt         23623 non-null float64\n",
      "text_len_sqrt                     23623 non-null float64\n",
      "dtypes: float64(24), int64(5), object(5)\n",
      "memory usage: 6.3+ MB\n"
     ]
    }
   ],
   "source": [
    "# Review datatypes (data.info()) (post-engineering)\n",
    "data.info()"
   ]
  },
  {
   "cell_type": "code",
   "execution_count": 1178,
   "metadata": {
    "code_folding": [
     0
    ]
   },
   "outputs": [],
   "source": [
    "# Sort columns in dataset\n",
    "data = data.reindex(sorted(data.columns, reverse=False), axis=1)"
   ]
  },
  {
   "cell_type": "code",
   "execution_count": 1179,
   "metadata": {
    "code_folding": [
     0
    ],
    "collapsed": true
   },
   "outputs": [
    {
     "name": "stdout",
     "output_type": "stream",
     "text": [
      "(23623, 34)\n"
     ]
    },
    {
     "data": {
      "text/html": [
       "<div>\n",
       "<style scoped>\n",
       "    .dataframe tbody tr th:only-of-type {\n",
       "        vertical-align: middle;\n",
       "    }\n",
       "\n",
       "    .dataframe tbody tr th {\n",
       "        vertical-align: top;\n",
       "    }\n",
       "\n",
       "    .dataframe thead th {\n",
       "        text-align: right;\n",
       "    }\n",
       "</style>\n",
       "<table border=\"1\" class=\"dataframe\">\n",
       "  <thead>\n",
       "    <tr style=\"text-align: right;\">\n",
       "      <th></th>\n",
       "      <th>accommodates_per_bed</th>\n",
       "      <th>accommodates_per_room</th>\n",
       "      <th>am_balcony</th>\n",
       "      <th>am_breakfast</th>\n",
       "      <th>am_child_friendly</th>\n",
       "      <th>am_elevator</th>\n",
       "      <th>am_essentials</th>\n",
       "      <th>am_nature_and_views</th>\n",
       "      <th>am_pets_allowed</th>\n",
       "      <th>am_private_entrance</th>\n",
       "      <th>am_smoking_allowed</th>\n",
       "      <th>am_tv</th>\n",
       "      <th>am_white_goods</th>\n",
       "      <th>bathrooms_log</th>\n",
       "      <th>bedrooms</th>\n",
       "      <th>calculated_host_listings_count</th>\n",
       "      <th>cancellation_policy</th>\n",
       "      <th>host_is_superhost</th>\n",
       "      <th>instant_bookable</th>\n",
       "      <th>latitude</th>\n",
       "      <th>longitude</th>\n",
       "      <th>maximum_nights</th>\n",
       "      <th>minimum_nights_log</th>\n",
       "      <th>neighbourhood</th>\n",
       "      <th>occupancy_class</th>\n",
       "      <th>price_extra_fees_sqrt</th>\n",
       "      <th>price_extra_people</th>\n",
       "      <th>price_log</th>\n",
       "      <th>property_type</th>\n",
       "      <th>review_scores_rating_sqrt</th>\n",
       "      <th>room_type</th>\n",
       "      <th>text_len_sqrt</th>\n",
       "      <th>wk_mth_discount</th>\n",
       "      <th>zipcode</th>\n",
       "    </tr>\n",
       "    <tr>\n",
       "      <th>id</th>\n",
       "      <th></th>\n",
       "      <th></th>\n",
       "      <th></th>\n",
       "      <th></th>\n",
       "      <th></th>\n",
       "      <th></th>\n",
       "      <th></th>\n",
       "      <th></th>\n",
       "      <th></th>\n",
       "      <th></th>\n",
       "      <th></th>\n",
       "      <th></th>\n",
       "      <th></th>\n",
       "      <th></th>\n",
       "      <th></th>\n",
       "      <th></th>\n",
       "      <th></th>\n",
       "      <th></th>\n",
       "      <th></th>\n",
       "      <th></th>\n",
       "      <th></th>\n",
       "      <th></th>\n",
       "      <th></th>\n",
       "      <th></th>\n",
       "      <th></th>\n",
       "      <th></th>\n",
       "      <th></th>\n",
       "      <th></th>\n",
       "      <th></th>\n",
       "      <th></th>\n",
       "      <th></th>\n",
       "      <th></th>\n",
       "      <th></th>\n",
       "      <th></th>\n",
       "    </tr>\n",
       "  </thead>\n",
       "  <tbody>\n",
       "    <tr>\n",
       "      <th>3176</th>\n",
       "      <td>2.0</td>\n",
       "      <td>4.0</td>\n",
       "      <td>0.0</td>\n",
       "      <td>0.0</td>\n",
       "      <td>1.0</td>\n",
       "      <td>0.0</td>\n",
       "      <td>1.0</td>\n",
       "      <td>0.0</td>\n",
       "      <td>0.0</td>\n",
       "      <td>0.0</td>\n",
       "      <td>0.0</td>\n",
       "      <td>0.0</td>\n",
       "      <td>1.0</td>\n",
       "      <td>0.0</td>\n",
       "      <td>1.0</td>\n",
       "      <td>1</td>\n",
       "      <td>strict</td>\n",
       "      <td>0</td>\n",
       "      <td>0</td>\n",
       "      <td>52.53500</td>\n",
       "      <td>13.41758</td>\n",
       "      <td>1125</td>\n",
       "      <td>7.874008</td>\n",
       "      <td>Prenzlauer Berg</td>\n",
       "      <td>4</td>\n",
       "      <td>20.000000</td>\n",
       "      <td>16.666667</td>\n",
       "      <td>4.382027</td>\n",
       "      <td>Apartment</td>\n",
       "      <td>6.298521</td>\n",
       "      <td>Entire home/apt</td>\n",
       "      <td>0.772455</td>\n",
       "      <td>0.235450</td>\n",
       "      <td>zip_10405</td>\n",
       "    </tr>\n",
       "    <tr>\n",
       "      <th>3309</th>\n",
       "      <td>1.0</td>\n",
       "      <td>1.0</td>\n",
       "      <td>0.0</td>\n",
       "      <td>0.0</td>\n",
       "      <td>0.0</td>\n",
       "      <td>0.0</td>\n",
       "      <td>1.0</td>\n",
       "      <td>0.0</td>\n",
       "      <td>1.0</td>\n",
       "      <td>0.0</td>\n",
       "      <td>0.0</td>\n",
       "      <td>0.0</td>\n",
       "      <td>1.0</td>\n",
       "      <td>0.0</td>\n",
       "      <td>1.0</td>\n",
       "      <td>1</td>\n",
       "      <td>strict</td>\n",
       "      <td>0</td>\n",
       "      <td>0</td>\n",
       "      <td>52.49885</td>\n",
       "      <td>13.34906</td>\n",
       "      <td>35</td>\n",
       "      <td>2.645751</td>\n",
       "      <td>Schöneberg</td>\n",
       "      <td>1</td>\n",
       "      <td>16.733201</td>\n",
       "      <td>0.000000</td>\n",
       "      <td>3.332205</td>\n",
       "      <td>Apartment</td>\n",
       "      <td>5.627647</td>\n",
       "      <td>Private room</td>\n",
       "      <td>0.863107</td>\n",
       "      <td>0.197024</td>\n",
       "      <td>zip_10777</td>\n",
       "    </tr>\n",
       "    <tr>\n",
       "      <th>6883</th>\n",
       "      <td>2.0</td>\n",
       "      <td>2.0</td>\n",
       "      <td>0.0</td>\n",
       "      <td>0.0</td>\n",
       "      <td>0.0</td>\n",
       "      <td>1.0</td>\n",
       "      <td>1.0</td>\n",
       "      <td>0.0</td>\n",
       "      <td>0.0</td>\n",
       "      <td>0.0</td>\n",
       "      <td>0.0</td>\n",
       "      <td>1.0</td>\n",
       "      <td>1.0</td>\n",
       "      <td>0.0</td>\n",
       "      <td>1.0</td>\n",
       "      <td>1</td>\n",
       "      <td>moderate</td>\n",
       "      <td>0</td>\n",
       "      <td>0</td>\n",
       "      <td>52.51171</td>\n",
       "      <td>13.45477</td>\n",
       "      <td>90</td>\n",
       "      <td>1.732051</td>\n",
       "      <td>Friedrichshain</td>\n",
       "      <td>3</td>\n",
       "      <td>6.244998</td>\n",
       "      <td>0.000000</td>\n",
       "      <td>4.828314</td>\n",
       "      <td>Apartment</td>\n",
       "      <td>7.944272</td>\n",
       "      <td>Entire home/apt</td>\n",
       "      <td>0.630012</td>\n",
       "      <td>0.471181</td>\n",
       "      <td>zip_10243</td>\n",
       "    </tr>\n",
       "  </tbody>\n",
       "</table>\n",
       "</div>"
      ],
      "text/plain": [
       "      accommodates_per_bed  accommodates_per_room  am_balcony  am_breakfast  \\\n",
       "id                                                                            \n",
       "3176                   2.0                    4.0         0.0           0.0   \n",
       "3309                   1.0                    1.0         0.0           0.0   \n",
       "6883                   2.0                    2.0         0.0           0.0   \n",
       "\n",
       "      am_child_friendly  am_elevator  am_essentials  am_nature_and_views  \\\n",
       "id                                                                         \n",
       "3176                1.0          0.0            1.0                  0.0   \n",
       "3309                0.0          0.0            1.0                  0.0   \n",
       "6883                0.0          1.0            1.0                  0.0   \n",
       "\n",
       "      am_pets_allowed  am_private_entrance  am_smoking_allowed  am_tv  \\\n",
       "id                                                                      \n",
       "3176              0.0                  0.0                 0.0    0.0   \n",
       "3309              1.0                  0.0                 0.0    0.0   \n",
       "6883              0.0                  0.0                 0.0    1.0   \n",
       "\n",
       "      am_white_goods  bathrooms_log  bedrooms  calculated_host_listings_count  \\\n",
       "id                                                                              \n",
       "3176             1.0            0.0       1.0                               1   \n",
       "3309             1.0            0.0       1.0                               1   \n",
       "6883             1.0            0.0       1.0                               1   \n",
       "\n",
       "     cancellation_policy  host_is_superhost  instant_bookable  latitude  \\\n",
       "id                                                                        \n",
       "3176              strict                  0                 0  52.53500   \n",
       "3309              strict                  0                 0  52.49885   \n",
       "6883            moderate                  0                 0  52.51171   \n",
       "\n",
       "      longitude  maximum_nights  minimum_nights_log    neighbourhood  \\\n",
       "id                                                                     \n",
       "3176   13.41758            1125            7.874008  Prenzlauer Berg   \n",
       "3309   13.34906              35            2.645751       Schöneberg   \n",
       "6883   13.45477              90            1.732051   Friedrichshain   \n",
       "\n",
       "      occupancy_class  price_extra_fees_sqrt  price_extra_people  price_log  \\\n",
       "id                                                                            \n",
       "3176                4              20.000000           16.666667   4.382027   \n",
       "3309                1              16.733201            0.000000   3.332205   \n",
       "6883                3               6.244998            0.000000   4.828314   \n",
       "\n",
       "     property_type  review_scores_rating_sqrt        room_type  text_len_sqrt  \\\n",
       "id                                                                              \n",
       "3176     Apartment                   6.298521  Entire home/apt       0.772455   \n",
       "3309     Apartment                   5.627647     Private room       0.863107   \n",
       "6883     Apartment                   7.944272  Entire home/apt       0.630012   \n",
       "\n",
       "      wk_mth_discount    zipcode  \n",
       "id                                \n",
       "3176         0.235450  zip_10405  \n",
       "3309         0.197024  zip_10777  \n",
       "6883         0.471181  zip_10243  "
      ]
     },
     "execution_count": 1179,
     "metadata": {},
     "output_type": "execute_result"
    }
   ],
   "source": [
    "# Display engineered dataset\n",
    "print(data.shape)\n",
    "data.head(3)"
   ]
  },
  {
   "cell_type": "markdown",
   "metadata": {},
   "source": [
    "**Export data_engineered**"
   ]
  },
  {
   "cell_type": "code",
   "execution_count": 1180,
   "metadata": {
    "code_folding": [
     0
    ]
   },
   "outputs": [],
   "source": [
    "# Export dataset for further use in 4_Predictive Modeling\n",
    "data.to_pickle(\"saves/data_engineered.pkl\")"
   ]
  },
  {
   "cell_type": "code",
   "execution_count": 1181,
   "metadata": {
    "code_folding": [
     0
    ]
   },
   "outputs": [],
   "source": [
    "# Alternative: Export with to_csv and save dtypes separately\n",
    "#data.to_csv(r'saves/data_engineered.csv', index = True)\n",
    "#data.dtypes.to_frame('types').to_csv('saves/types_engineered.csv')"
   ]
  },
  {
   "cell_type": "code",
   "execution_count": null,
   "metadata": {},
   "outputs": [],
   "source": []
  }
 ],
 "metadata": {
  "kernelspec": {
   "display_name": "Python 3",
   "language": "python",
   "name": "python3"
  },
  "language_info": {
   "codemirror_mode": {
    "name": "ipython",
    "version": 3
   },
   "file_extension": ".py",
   "mimetype": "text/x-python",
   "name": "python",
   "nbconvert_exporter": "python",
   "pygments_lexer": "ipython3",
   "version": "3.6.10"
  },
  "toc": {
   "base_numbering": 1,
   "nav_menu": {},
   "number_sections": true,
   "sideBar": true,
   "skip_h1_title": false,
   "title_cell": "Table of Contents",
   "title_sidebar": "Contents",
   "toc_cell": false,
   "toc_position": {},
   "toc_section_display": true,
   "toc_window_display": true
  }
 },
 "nbformat": 4,
 "nbformat_minor": 4
}
