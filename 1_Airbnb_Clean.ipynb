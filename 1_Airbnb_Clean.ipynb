{
 "cells": [
  {
   "cell_type": "markdown",
   "metadata": {},
   "source": [
    "# Business Understanding and Set-up"
   ]
  },
  {
   "cell_type": "code",
   "execution_count": 1,
   "metadata": {
    "code_folding": []
   },
   "outputs": [
    {
     "ename": "ModuleNotFoundError",
     "evalue": "No module named 'geopandas'",
     "output_type": "error",
     "traceback": [
      "\u001b[0;31m---------------------------------------------------------------------------\u001b[0m",
      "\u001b[0;31mModuleNotFoundError\u001b[0m                       Traceback (most recent call last)",
      "\u001b[0;32m<ipython-input-1-aee57402ca75>\u001b[0m in \u001b[0;36m<module>\u001b[0;34m\u001b[0m\n\u001b[1;32m      6\u001b[0m \u001b[0;32mfrom\u001b[0m \u001b[0mnumpy\u001b[0m \u001b[0;32mimport\u001b[0m \u001b[0mloadtxt\u001b[0m\u001b[0;34m\u001b[0m\u001b[0;34m\u001b[0m\u001b[0m\n\u001b[1;32m      7\u001b[0m \u001b[0;32mimport\u001b[0m \u001b[0mos\u001b[0m\u001b[0;34m,\u001b[0m \u001b[0mglob\u001b[0m\u001b[0;34m\u001b[0m\u001b[0;34m\u001b[0m\u001b[0m\n\u001b[0;32m----> 8\u001b[0;31m \u001b[0;32mimport\u001b[0m \u001b[0mgeopandas\u001b[0m \u001b[0;32mas\u001b[0m \u001b[0mgpd\u001b[0m\u001b[0;34m\u001b[0m\u001b[0;34m\u001b[0m\u001b[0m\n\u001b[0m\u001b[1;32m      9\u001b[0m \u001b[0mget_ipython\u001b[0m\u001b[0;34m(\u001b[0m\u001b[0;34m)\u001b[0m\u001b[0;34m.\u001b[0m\u001b[0mrun_line_magic\u001b[0m\u001b[0;34m(\u001b[0m\u001b[0;34m'matplotlib'\u001b[0m\u001b[0;34m,\u001b[0m \u001b[0;34m'inline'\u001b[0m\u001b[0;34m)\u001b[0m\u001b[0;34m\u001b[0m\u001b[0;34m\u001b[0m\u001b[0m\n",
      "\u001b[0;31mModuleNotFoundError\u001b[0m: No module named 'geopandas'"
     ]
    }
   ],
   "source": [
    "# Import Libraries\n",
    "import pandas as pd\n",
    "import numpy as np\n",
    "import seaborn as sns\n",
    "import matplotlib.pyplot as plt\n",
    "from numpy import loadtxt\n",
    "import os, glob\n",
    "import geopandas as gpd\n",
    "%matplotlib inline"
   ]
  },
  {
   "cell_type": "code",
   "execution_count": null,
   "metadata": {
    "code_folding": []
   },
   "outputs": [],
   "source": [
    "#Dashboard\n",
    "pd.set_option('display.max_columns', 150)\n",
    "pd.set_option('display.max_rows', 100)\n",
    "pd.options.display.max_seq_items = 300\n",
    "#pd.options.display.max_rows = 4000\n",
    "sns.set(style=\"white\")"
   ]
  },
  {
   "cell_type": "markdown",
   "metadata": {},
   "source": [
    "# Data Mining"
   ]
  },
  {
   "cell_type": "markdown",
   "metadata": {},
   "source": [
    "## Data Checks\n",
    "\n",
    "The monthly data for Berlin is composed of various files that are briefly visualized here (based on Dec 2019):\n",
    "\n",
    "- listings.csv.gz\n",
    "- listings.csv\n",
    "- reviews.csv.gz\n",
    "- reviews.csv\n",
    "- calendar.csv.gz\n",
    "- neighbourhoods.csv\n",
    "- neighbourhoods.geojson"
   ]
  },
  {
   "cell_type": "markdown",
   "metadata": {},
   "source": [
    "**listings.csv.gz**"
   ]
  },
  {
   "cell_type": "code",
   "execution_count": null,
   "metadata": {
    "code_folding": [
     0
    ]
   },
   "outputs": [],
   "source": [
    "# Display contents of listings.csv.gz as well as its shape\n",
    "data_2020_02_18_listings_gz = pd.read_csv(\"data/2020-02-18/listings.csv.gz\")\n",
    "print(data_2020_02_18_listings_gz.shape)\n",
    "data_2020_02_18_listings_gz.head(3)"
   ]
  },
  {
   "cell_type": "markdown",
   "metadata": {},
   "source": [
    "**listings.csv**"
   ]
  },
  {
   "cell_type": "code",
   "execution_count": null,
   "metadata": {
    "code_folding": [
     0
    ]
   },
   "outputs": [],
   "source": [
    "# Display contents of listings.csv as well as its shape\n",
    "data_2020_02_18_listings = pd.read_csv(\"data/2020-02-18/listings.csv\")\n",
    "print(data_2020_02_18_listings.shape)\n",
    "data_2020_02_18_listings.head(2)"
   ]
  },
  {
   "cell_type": "markdown",
   "metadata": {},
   "source": [
    "**reviews.csv.gz**"
   ]
  },
  {
   "cell_type": "code",
   "execution_count": null,
   "metadata": {
    "code_folding": [
     0
    ]
   },
   "outputs": [],
   "source": [
    "# Display contents of reviews.csv.gz as well as its shape\n",
    "data_2020_02_18_reviews_gz = pd.read_csv(\"data/2020-02-18/reviews.csv.gz\")\n",
    "print(data_2020_02_18_reviews_gz.shape)\n",
    "data_2020_02_18_reviews_gz.head(2)"
   ]
  },
  {
   "cell_type": "markdown",
   "metadata": {},
   "source": [
    "**reviews.csv**"
   ]
  },
  {
   "cell_type": "code",
   "execution_count": null,
   "metadata": {
    "code_folding": []
   },
   "outputs": [],
   "source": [
    "# Display contents of reviews.csv as well as its shape\n",
    "data_2020_02_18_reviews = pd.read_csv(\"data/2020-02-18/reviews.csv\")\n",
    "print(data_2020_02_18_reviews.shape)\n",
    "data_2020_02_18_reviews.head(2)"
   ]
  },
  {
   "cell_type": "markdown",
   "metadata": {},
   "source": [
    "**calendar.csv.gz**"
   ]
  },
  {
   "cell_type": "code",
   "execution_count": null,
   "metadata": {
    "code_folding": [
     0
    ]
   },
   "outputs": [],
   "source": [
    "# Display contents of calendar.csv.gz as well as its shape\n",
    "data_2020_02_18_cal = pd.read_csv(\"data/2020-02-18/calendar.csv.gz\")\n",
    "print(data_2020_02_18_cal.shape)\n",
    "data_2020_02_18_cal.head(2)"
   ]
  },
  {
   "cell_type": "markdown",
   "metadata": {},
   "source": [
    "**neighbourhoods.csv**"
   ]
  },
  {
   "cell_type": "code",
   "execution_count": null,
   "metadata": {
    "code_folding": [
     0
    ]
   },
   "outputs": [],
   "source": [
    "# Display contents of neighbourhoods.csv as well as its shape\n",
    "data_2020_02_18_neighb = pd.read_csv(\"data/2020-02-18/neighbourhoods.csv\")\n",
    "print(data_2020_02_18_neighb.shape)\n",
    "data_2020_02_18_neighb.head(2)"
   ]
  },
  {
   "cell_type": "markdown",
   "metadata": {},
   "source": [
    "**neighbourhoods.geojson**"
   ]
  },
  {
   "cell_type": "code",
   "execution_count": null,
   "metadata": {
    "code_folding": [
     0
    ]
   },
   "outputs": [],
   "source": [
    "# Display contents of neighbourhoods.geojson as well as its shape\n",
    "data_2020_02_18_neighb_geojson = gpd.read_file('data/2020-02-18/neighbourhoods.geojson')\n",
    "print(data_2020_02_18_neighb_geojson.shape)\n",
    "data_2020_02_18_neighb_geojson.head(2)"
   ]
  },
  {
   "cell_type": "markdown",
   "metadata": {},
   "source": [
    "## Data Import"
   ]
  },
  {
   "cell_type": "markdown",
   "metadata": {},
   "source": [
    "**Create main dataset (listings on February 22nd, i.e. pre-COVID-19)**"
   ]
  },
  {
   "cell_type": "code",
   "execution_count": null,
   "metadata": {
    "code_folding": [
     0
    ]
   },
   "outputs": [],
   "source": [
    "# Import dataset as DataFrame (as csv-file)\n",
    "data_raw = pd.read_csv(\"data/2020-02-18/listings.csv.gz\")"
   ]
  },
  {
   "cell_type": "code",
   "execution_count": null,
   "metadata": {
    "code_folding": [
     0
    ]
   },
   "outputs": [],
   "source": [
    "# Assign data_raw to data (in order to always keep a freshly imported data_raw) and set id as index\n",
    "data = data_raw.copy()\n",
    "data.set_index('id', inplace=True)"
   ]
  },
  {
   "cell_type": "markdown",
   "metadata": {},
   "source": [
    "# Data Cleaning"
   ]
  },
  {
   "cell_type": "markdown",
   "metadata": {},
   "source": [
    "## Pre-cleaning"
   ]
  },
  {
   "cell_type": "code",
   "execution_count": null,
   "metadata": {
    "code_folding": [
     0
    ]
   },
   "outputs": [],
   "source": [
    "# Display shape of \"data\"\n",
    "data.shape"
   ]
  },
  {
   "cell_type": "code",
   "execution_count": null,
   "metadata": {
    "code_folding": [
     0
    ]
   },
   "outputs": [],
   "source": [
    "# Display head(1) of \"data\"\n",
    "data.head(1)"
   ]
  },
  {
   "cell_type": "code",
   "execution_count": null,
   "metadata": {
    "code_folding": [
     0
    ]
   },
   "outputs": [],
   "source": [
    "# Display columns of \"data\"\n",
    "#data.columns"
   ]
  },
  {
   "cell_type": "code",
   "execution_count": null,
   "metadata": {
    "code_folding": [
     0
    ]
   },
   "outputs": [],
   "source": [
    "# Define columns for pre-cleaning drop\n",
    "drop_columns = ['access', 'availability_30',\n",
    "       'availability_60', 'availability_90',\n",
    "       'calculated_host_listings_count_entire_homes',\n",
    "       'calculated_host_listings_count_private_rooms',\n",
    "       'calculated_host_listings_count_shared_rooms', 'calendar_last_scraped',\n",
    "       'calendar_updated', 'city', \n",
    "       'country', 'country_code', \n",
    "       'first_review', \n",
    "       'host_about',\n",
    "       'host_name', 'host_neighbourhood', 'host_picture_url',\n",
    "       'host_thumbnail_url', 'host_total_listings_count', 'host_url',\n",
    "       'host_verifications',\n",
    "       'interaction',\n",
    "       'jurisdiction_names', 'last_review', 'last_scraped',\n",
    "       'license', 'listing_url', 'market',\n",
    "       'maximum_maximum_nights', 'maximum_minimum_nights',\n",
    "       'maximum_nights_avg_ntm', 'medium_url', 'minimum_maximum_nights',\n",
    "       'minimum_minimum_nights', 'minimum_nights_avg_ntm',\n",
    "       'neighborhood_overview',\n",
    "       'neighbourhood_cleansed', 'neighbourhood_group_cleansed', 'notes',\n",
    "       'picture_url', 'review_scores_rating', 'scrape_id',\n",
    "       'smart_location', 'state', 'street', \n",
    "       'thumbnail_url', 'transit', 'xl_picture_url']"
   ]
  },
  {
   "cell_type": "code",
   "execution_count": null,
   "metadata": {
    "code_folding": [
     0
    ]
   },
   "outputs": [],
   "source": [
    "# Drop innecessary columns\n",
    "data.drop(labels=drop_columns, inplace=True, axis=1)"
   ]
  },
  {
   "cell_type": "markdown",
   "metadata": {},
   "source": [
    "## Inspection"
   ]
  },
  {
   "cell_type": "code",
   "execution_count": null,
   "metadata": {
    "code_folding": [
     0
    ]
   },
   "outputs": [],
   "source": [
    "# Display shape of \"data\"\n",
    "data.shape"
   ]
  },
  {
   "cell_type": "code",
   "execution_count": null,
   "metadata": {
    "code_folding": [
     0
    ]
   },
   "outputs": [],
   "source": [
    "# Display head(5) of remaining \"data\"\n",
    "data.head(5)"
   ]
  },
  {
   "cell_type": "code",
   "execution_count": null,
   "metadata": {
    "code_folding": [
     0
    ]
   },
   "outputs": [],
   "source": [
    "# Describe data (summary)\n",
    "data.describe().round(2).T"
   ]
  },
  {
   "cell_type": "code",
   "execution_count": null,
   "metadata": {
    "code_folding": [
     0
    ],
    "scrolled": true
   },
   "outputs": [],
   "source": [
    "# List datatypes (data.info()) (pre-cleaning)\n",
    "data.info()"
   ]
  },
  {
   "cell_type": "code",
   "execution_count": null,
   "metadata": {
    "code_folding": [
     0
    ]
   },
   "outputs": [],
   "source": [
    "# List unique entries per column\n",
    "data.nunique()"
   ]
  },
  {
   "cell_type": "code",
   "execution_count": null,
   "metadata": {
    "code_folding": [
     0
    ]
   },
   "outputs": [],
   "source": [
    "# List missing values (pre-cleaning)\n",
    "\n",
    "def count_missing(data):\n",
    "    null_cols = data.columns[data.isnull().any(axis=0)]\n",
    "    X_null = data[null_cols].isnull().sum()\n",
    "    X_null = X_null.sort_values(ascending=False)\n",
    "    print(X_null)\n",
    "    \n",
    "count_missing(data)"
   ]
  },
  {
   "cell_type": "markdown",
   "metadata": {},
   "source": [
    "## Observations\n",
    "\n",
    "- **host_response_rate** and **host_response_time** are unfortunately not available for half of the dataset and consequently the columns have been removed\n",
    "- **review_scores** are difficult to replace if they do not exist, but at 0 they will distort the modeling. Hence, missing values are set to mean of the column\n",
    "- listings without **name** and the few rows without enhanced **host information** (e.g. superhost), **bedrooms** or **bathrooms** are removed and not substantial in number\n",
    "- missing values for **summary** and **description** are replaced with \"\" and kept in order to calculate length during feature engineering\n",
    "- several features with missing values will be directly converted to 1/0 for simplification (**house_rules, security_deposit, space, cleaning_fee, monthly_price, weekly_price**)"
   ]
  },
  {
   "cell_type": "markdown",
   "metadata": {},
   "source": [
    "## Data Handling"
   ]
  },
  {
   "cell_type": "code",
   "execution_count": 184,
   "metadata": {
    "code_folding": [
     0
    ]
   },
   "outputs": [],
   "source": [
    "# Convert numeric objects to floats\n",
    "data.price = [float(i.strip(\"$\").replace(\",\",\"\")) for i in data.price]"
   ]
  },
  {
   "cell_type": "code",
   "execution_count": 185,
   "metadata": {
    "code_folding": []
   },
   "outputs": [],
   "source": [
    "# Handle varying dtypes in monthly_price, weekly_price and zipcode"
   ]
  },
  {
   "cell_type": "markdown",
   "metadata": {},
   "source": [
    "**Drop rows**"
   ]
  },
  {
   "cell_type": "code",
   "execution_count": 186,
   "metadata": {
    "code_folding": [
     0
    ]
   },
   "outputs": [],
   "source": [
    "# Drop irrelevant rows with few missing values\n",
    "data.dropna(subset=[\"name\", \"host_is_superhost\", \"bedrooms\", \"bathrooms\", \"zipcode\"], inplace=True)"
   ]
  },
  {
   "cell_type": "code",
   "execution_count": 187,
   "metadata": {},
   "outputs": [],
   "source": [
    "# Remove \"poor\" listings (price too low/too high, TBD)"
   ]
  },
  {
   "cell_type": "markdown",
   "metadata": {},
   "source": [
    "**Handle missing values**"
   ]
  },
  {
   "cell_type": "code",
   "execution_count": 188,
   "metadata": {
    "code_folding": [
     0
    ]
   },
   "outputs": [],
   "source": [
    "# Convert columns with missing values to 1/0\n",
    "data.house_rules.where(data.house_rules.isnull(), 1, inplace=True)\n",
    "data.house_rules.fillna(0, inplace=True)\n",
    "\n",
    "data.security_deposit.where(data.security_deposit.isnull(), 1, inplace=True)\n",
    "data.security_deposit.fillna(0, inplace=True)\n",
    "\n",
    "data.space.where(data.space.isnull(), 1, inplace=True)\n",
    "data.space.fillna(0, inplace=True)\n",
    "\n",
    "data.cleaning_fee.where(data.cleaning_fee.isnull(), 1, inplace=True)\n",
    "data.cleaning_fee.fillna(0, inplace=True)\n",
    "\n",
    "data.monthly_price.where(data.monthly_price.isnull(), 1, inplace=True)\n",
    "data.monthly_price.fillna(0, inplace=True)\n",
    "\n",
    "data.weekly_price.where(data.weekly_price.isnull(), 1, inplace=True)\n",
    "data.weekly_price.fillna(0, inplace=True)"
   ]
  },
  {
   "cell_type": "code",
   "execution_count": 189,
   "metadata": {
    "code_folding": [
     0
    ]
   },
   "outputs": [],
   "source": [
    "# Fill missing values of \"beds\" with 0 and then set all with \"bed_type\" Real Bed to at least 1\n",
    "data.beds.fillna(0, inplace=True)\n",
    "data.beds = np.where((data.beds==0) & (data.bed_type==\"Real Bed\"), 1, data.beds)"
   ]
  },
  {
   "cell_type": "code",
   "execution_count": 190,
   "metadata": {
    "code_folding": [
     0
    ]
   },
   "outputs": [],
   "source": [
    "# Fill review_scores with mean\n",
    "data.review_scores_value.fillna(data.review_scores_value.mean(), inplace=True)\n",
    "data.review_scores_checkin.fillna(data.review_scores_checkin.mean(), inplace=True)\n",
    "data.review_scores_location.fillna(data.review_scores_location.mean(), inplace=True)\n",
    "data.review_scores_communication.fillna(data.review_scores_communication.mean(), inplace=True)\n",
    "data.review_scores_accuracy.fillna(data.review_scores_accuracy.mean(), inplace=True)\n",
    "data.review_scores_cleanliness.fillna(data.review_scores_cleanliness.mean(), inplace=True)"
   ]
  },
  {
   "cell_type": "code",
   "execution_count": 191,
   "metadata": {
    "code_folding": [
     0
    ]
   },
   "outputs": [],
   "source": [
    "# Fill missing text values with \"\"\n",
    "data.summary.fillna(\"\", inplace=True)\n",
    "data.description.fillna(\"\", inplace=True)"
   ]
  },
  {
   "cell_type": "markdown",
   "metadata": {},
   "source": [
    "**Final check and cleaning before export**"
   ]
  },
  {
   "cell_type": "code",
   "execution_count": 183,
   "metadata": {
    "code_folding": [
     0
    ]
   },
   "outputs": [],
   "source": [
    "# Drop further columns\n",
    "data.drop([\"bed_type\", \"host_acceptance_rate\", \"host_location\", \"host_response_rate\", \"host_response_time\", \n",
    "           \"reviews_per_month\", \"square_feet\"], inplace=True, axis=1)"
   ]
  },
  {
   "cell_type": "code",
   "execution_count": 199,
   "metadata": {
    "code_folding": [
     0
    ]
   },
   "outputs": [
    {
     "name": "stdout",
     "output_type": "stream",
     "text": [
      "<class 'pandas.core.frame.DataFrame'>\n",
      "Int64Index: 24527 entries, 3176 to 42361801\n",
      "Data columns (total 51 columns):\n",
      "accommodates                        24527 non-null int64\n",
      "amenities                           24527 non-null object\n",
      "availability_365                    24527 non-null int64\n",
      "bathrooms                           24527 non-null float64\n",
      "bed_type                            24527 non-null object\n",
      "bedrooms                            24527 non-null float64\n",
      "beds                                24527 non-null float64\n",
      "calculated_host_listings_count      24527 non-null int64\n",
      "cancellation_policy                 24527 non-null object\n",
      "cleaning_fee                        24527 non-null int64\n",
      "description                         24527 non-null object\n",
      "experiences_offered                 24527 non-null object\n",
      "extra_people                        24527 non-null object\n",
      "guests_included                     24527 non-null int64\n",
      "has_availability                    24527 non-null object\n",
      "host_has_profile_pic                24527 non-null object\n",
      "host_id                             24527 non-null int64\n",
      "host_identity_verified              24527 non-null object\n",
      "host_is_superhost                   24527 non-null object\n",
      "host_listings_count                 24527 non-null float64\n",
      "host_since                          24527 non-null object\n",
      "house_rules                         24527 non-null int64\n",
      "instant_bookable                    24527 non-null object\n",
      "is_business_travel_ready            24527 non-null object\n",
      "is_location_exact                   24527 non-null object\n",
      "latitude                            24527 non-null float64\n",
      "longitude                           24527 non-null float64\n",
      "maximum_nights                      24527 non-null int64\n",
      "minimum_nights                      24527 non-null int64\n",
      "monthly_price                       24527 non-null int64\n",
      "name                                24527 non-null object\n",
      "neighbourhood                       24527 non-null object\n",
      "number_of_reviews                   24527 non-null int64\n",
      "number_of_reviews_ltm               24527 non-null int64\n",
      "price                               24527 non-null float64\n",
      "property_type                       24527 non-null object\n",
      "require_guest_phone_verification    24527 non-null object\n",
      "require_guest_profile_picture       24527 non-null object\n",
      "requires_license                    24527 non-null object\n",
      "review_scores_accuracy              24527 non-null float64\n",
      "review_scores_checkin               24527 non-null float64\n",
      "review_scores_cleanliness           24527 non-null float64\n",
      "review_scores_communication         24527 non-null float64\n",
      "review_scores_location              24527 non-null float64\n",
      "review_scores_value                 24527 non-null float64\n",
      "room_type                           24527 non-null object\n",
      "security_deposit                    24527 non-null int64\n",
      "space                               24527 non-null int64\n",
      "summary                             24527 non-null object\n",
      "weekly_price                        24527 non-null int64\n",
      "zipcode                             24527 non-null object\n",
      "dtypes: float64(13), int64(15), object(23)\n",
      "memory usage: 9.7+ MB\n"
     ]
    }
   ],
   "source": [
    "# List datatypes (data.info()) (pre-cleaning)\n",
    "data.info()"
   ]
  },
  {
   "cell_type": "code",
   "execution_count": 196,
   "metadata": {
    "code_folding": [
     0
    ]
   },
   "outputs": [
    {
     "name": "stdout",
     "output_type": "stream",
     "text": [
      "Series([], dtype: float64)\n"
     ]
    }
   ],
   "source": [
    "# List missing values (post-cleaning)\n",
    "\n",
    "def count_missing(data):\n",
    "    null_cols = data.columns[data.isnull().any(axis=0)]\n",
    "    X_null = data[null_cols].isnull().sum()\n",
    "    X_null = X_null.sort_values(ascending=False)\n",
    "    print(X_null)\n",
    "    \n",
    "count_missing(data)"
   ]
  },
  {
   "cell_type": "code",
   "execution_count": 192,
   "metadata": {
    "code_folding": [
     0
    ]
   },
   "outputs": [],
   "source": [
    "# Sort columns in dataset\n",
    "data = data.reindex(sorted(data.columns, reverse=False), axis=1)"
   ]
  },
  {
   "cell_type": "code",
   "execution_count": 193,
   "metadata": {
    "code_folding": [
     0
    ]
   },
   "outputs": [
    {
     "data": {
      "text/html": [
       "<div>\n",
       "<style scoped>\n",
       "    .dataframe tbody tr th:only-of-type {\n",
       "        vertical-align: middle;\n",
       "    }\n",
       "\n",
       "    .dataframe tbody tr th {\n",
       "        vertical-align: top;\n",
       "    }\n",
       "\n",
       "    .dataframe thead th {\n",
       "        text-align: right;\n",
       "    }\n",
       "</style>\n",
       "<table border=\"1\" class=\"dataframe\">\n",
       "  <thead>\n",
       "    <tr style=\"text-align: right;\">\n",
       "      <th></th>\n",
       "      <th>accommodates</th>\n",
       "      <th>amenities</th>\n",
       "      <th>availability_365</th>\n",
       "      <th>bathrooms</th>\n",
       "      <th>bed_type</th>\n",
       "      <th>bedrooms</th>\n",
       "      <th>beds</th>\n",
       "      <th>calculated_host_listings_count</th>\n",
       "      <th>cancellation_policy</th>\n",
       "      <th>cleaning_fee</th>\n",
       "      <th>description</th>\n",
       "      <th>experiences_offered</th>\n",
       "      <th>extra_people</th>\n",
       "      <th>guests_included</th>\n",
       "      <th>has_availability</th>\n",
       "      <th>host_has_profile_pic</th>\n",
       "      <th>host_id</th>\n",
       "      <th>host_identity_verified</th>\n",
       "      <th>host_is_superhost</th>\n",
       "      <th>host_listings_count</th>\n",
       "      <th>host_since</th>\n",
       "      <th>house_rules</th>\n",
       "      <th>instant_bookable</th>\n",
       "      <th>is_business_travel_ready</th>\n",
       "      <th>is_location_exact</th>\n",
       "      <th>latitude</th>\n",
       "      <th>longitude</th>\n",
       "      <th>maximum_nights</th>\n",
       "      <th>minimum_nights</th>\n",
       "      <th>monthly_price</th>\n",
       "      <th>name</th>\n",
       "      <th>neighbourhood</th>\n",
       "      <th>number_of_reviews</th>\n",
       "      <th>number_of_reviews_ltm</th>\n",
       "      <th>price</th>\n",
       "      <th>property_type</th>\n",
       "      <th>require_guest_phone_verification</th>\n",
       "      <th>require_guest_profile_picture</th>\n",
       "      <th>requires_license</th>\n",
       "      <th>review_scores_accuracy</th>\n",
       "      <th>review_scores_checkin</th>\n",
       "      <th>review_scores_cleanliness</th>\n",
       "      <th>review_scores_communication</th>\n",
       "      <th>review_scores_location</th>\n",
       "      <th>review_scores_value</th>\n",
       "      <th>room_type</th>\n",
       "      <th>security_deposit</th>\n",
       "      <th>space</th>\n",
       "      <th>summary</th>\n",
       "      <th>weekly_price</th>\n",
       "      <th>zipcode</th>\n",
       "    </tr>\n",
       "    <tr>\n",
       "      <th>id</th>\n",
       "      <th></th>\n",
       "      <th></th>\n",
       "      <th></th>\n",
       "      <th></th>\n",
       "      <th></th>\n",
       "      <th></th>\n",
       "      <th></th>\n",
       "      <th></th>\n",
       "      <th></th>\n",
       "      <th></th>\n",
       "      <th></th>\n",
       "      <th></th>\n",
       "      <th></th>\n",
       "      <th></th>\n",
       "      <th></th>\n",
       "      <th></th>\n",
       "      <th></th>\n",
       "      <th></th>\n",
       "      <th></th>\n",
       "      <th></th>\n",
       "      <th></th>\n",
       "      <th></th>\n",
       "      <th></th>\n",
       "      <th></th>\n",
       "      <th></th>\n",
       "      <th></th>\n",
       "      <th></th>\n",
       "      <th></th>\n",
       "      <th></th>\n",
       "      <th></th>\n",
       "      <th></th>\n",
       "      <th></th>\n",
       "      <th></th>\n",
       "      <th></th>\n",
       "      <th></th>\n",
       "      <th></th>\n",
       "      <th></th>\n",
       "      <th></th>\n",
       "      <th></th>\n",
       "      <th></th>\n",
       "      <th></th>\n",
       "      <th></th>\n",
       "      <th></th>\n",
       "      <th></th>\n",
       "      <th></th>\n",
       "      <th></th>\n",
       "      <th></th>\n",
       "      <th></th>\n",
       "      <th></th>\n",
       "      <th></th>\n",
       "      <th></th>\n",
       "    </tr>\n",
       "  </thead>\n",
       "  <tbody>\n",
       "    <tr>\n",
       "      <th>3176</th>\n",
       "      <td>4</td>\n",
       "      <td>{Internet,Wifi,Kitchen,\"Buzzer/wireless interc...</td>\n",
       "      <td>221</td>\n",
       "      <td>1.0</td>\n",
       "      <td>Real Bed</td>\n",
       "      <td>1.0</td>\n",
       "      <td>2.0</td>\n",
       "      <td>1</td>\n",
       "      <td>strict_14_with_grace_period</td>\n",
       "      <td>1</td>\n",
       "      <td>This beautiful first floor apartment  is situa...</td>\n",
       "      <td>none</td>\n",
       "      <td>$20.00</td>\n",
       "      <td>2</td>\n",
       "      <td>t</td>\n",
       "      <td>t</td>\n",
       "      <td>3718</td>\n",
       "      <td>t</td>\n",
       "      <td>f</td>\n",
       "      <td>1.0</td>\n",
       "      <td>2008-10-19</td>\n",
       "      <td>1</td>\n",
       "      <td>f</td>\n",
       "      <td>f</td>\n",
       "      <td>t</td>\n",
       "      <td>52.53500</td>\n",
       "      <td>13.41758</td>\n",
       "      <td>1125</td>\n",
       "      <td>62</td>\n",
       "      <td>1</td>\n",
       "      <td>Fabulous Flat in great Location</td>\n",
       "      <td>Prenzlauer Berg</td>\n",
       "      <td>145</td>\n",
       "      <td>1</td>\n",
       "      <td>90.0</td>\n",
       "      <td>Apartment</td>\n",
       "      <td>f</td>\n",
       "      <td>f</td>\n",
       "      <td>t</td>\n",
       "      <td>9.0</td>\n",
       "      <td>9.0</td>\n",
       "      <td>9.0</td>\n",
       "      <td>9.0</td>\n",
       "      <td>10.0</td>\n",
       "      <td>9.0</td>\n",
       "      <td>Entire home/apt</td>\n",
       "      <td>1</td>\n",
       "      <td>1</td>\n",
       "      <td>This beautiful first floor apartment  is situa...</td>\n",
       "      <td>1</td>\n",
       "      <td>10405</td>\n",
       "    </tr>\n",
       "    <tr>\n",
       "      <th>3309</th>\n",
       "      <td>1</td>\n",
       "      <td>{Internet,Wifi,\"Pets live on this property\",Ca...</td>\n",
       "      <td>293</td>\n",
       "      <td>1.0</td>\n",
       "      <td>Pull-out Sofa</td>\n",
       "      <td>1.0</td>\n",
       "      <td>1.0</td>\n",
       "      <td>1</td>\n",
       "      <td>strict_14_with_grace_period</td>\n",
       "      <td>1</td>\n",
       "      <td>First of all: I prefer short-notice bookings. ...</td>\n",
       "      <td>none</td>\n",
       "      <td>$18.00</td>\n",
       "      <td>1</td>\n",
       "      <td>t</td>\n",
       "      <td>t</td>\n",
       "      <td>4108</td>\n",
       "      <td>f</td>\n",
       "      <td>f</td>\n",
       "      <td>1.0</td>\n",
       "      <td>2008-11-07</td>\n",
       "      <td>1</td>\n",
       "      <td>f</td>\n",
       "      <td>f</td>\n",
       "      <td>t</td>\n",
       "      <td>52.49885</td>\n",
       "      <td>13.34906</td>\n",
       "      <td>35</td>\n",
       "      <td>7</td>\n",
       "      <td>1</td>\n",
       "      <td>BerlinSpot Schöneberg near KaDeWe</td>\n",
       "      <td>Schöneberg</td>\n",
       "      <td>27</td>\n",
       "      <td>1</td>\n",
       "      <td>28.0</td>\n",
       "      <td>Apartment</td>\n",
       "      <td>f</td>\n",
       "      <td>f</td>\n",
       "      <td>t</td>\n",
       "      <td>9.0</td>\n",
       "      <td>9.0</td>\n",
       "      <td>9.0</td>\n",
       "      <td>10.0</td>\n",
       "      <td>9.0</td>\n",
       "      <td>9.0</td>\n",
       "      <td>Private room</td>\n",
       "      <td>1</td>\n",
       "      <td>1</td>\n",
       "      <td>First of all: I prefer short-notice bookings. ...</td>\n",
       "      <td>1</td>\n",
       "      <td>10777</td>\n",
       "    </tr>\n",
       "    <tr>\n",
       "      <th>6883</th>\n",
       "      <td>2</td>\n",
       "      <td>{TV,\"Cable TV\",Internet,Wifi,\"Air conditioning...</td>\n",
       "      <td>8</td>\n",
       "      <td>1.0</td>\n",
       "      <td>Real Bed</td>\n",
       "      <td>1.0</td>\n",
       "      <td>1.0</td>\n",
       "      <td>1</td>\n",
       "      <td>moderate</td>\n",
       "      <td>1</td>\n",
       "      <td>Stay in a stylish loft on the second floor and...</td>\n",
       "      <td>none</td>\n",
       "      <td>$0.00</td>\n",
       "      <td>1</td>\n",
       "      <td>t</td>\n",
       "      <td>t</td>\n",
       "      <td>16149</td>\n",
       "      <td>t</td>\n",
       "      <td>f</td>\n",
       "      <td>1.0</td>\n",
       "      <td>2009-05-07</td>\n",
       "      <td>1</td>\n",
       "      <td>f</td>\n",
       "      <td>f</td>\n",
       "      <td>t</td>\n",
       "      <td>52.51171</td>\n",
       "      <td>13.45477</td>\n",
       "      <td>90</td>\n",
       "      <td>3</td>\n",
       "      <td>1</td>\n",
       "      <td>Stylish East Side Loft in Center with AC &amp; 2 b...</td>\n",
       "      <td>Friedrichshain</td>\n",
       "      <td>132</td>\n",
       "      <td>8</td>\n",
       "      <td>125.0</td>\n",
       "      <td>Loft</td>\n",
       "      <td>t</td>\n",
       "      <td>f</td>\n",
       "      <td>t</td>\n",
       "      <td>10.0</td>\n",
       "      <td>10.0</td>\n",
       "      <td>10.0</td>\n",
       "      <td>10.0</td>\n",
       "      <td>10.0</td>\n",
       "      <td>10.0</td>\n",
       "      <td>Entire home/apt</td>\n",
       "      <td>1</td>\n",
       "      <td>1</td>\n",
       "      <td></td>\n",
       "      <td>1</td>\n",
       "      <td>10243</td>\n",
       "    </tr>\n",
       "  </tbody>\n",
       "</table>\n",
       "</div>"
      ],
      "text/plain": [
       "      accommodates                                          amenities  \\\n",
       "id                                                                      \n",
       "3176             4  {Internet,Wifi,Kitchen,\"Buzzer/wireless interc...   \n",
       "3309             1  {Internet,Wifi,\"Pets live on this property\",Ca...   \n",
       "6883             2  {TV,\"Cable TV\",Internet,Wifi,\"Air conditioning...   \n",
       "\n",
       "      availability_365  bathrooms       bed_type  bedrooms  beds  \\\n",
       "id                                                                 \n",
       "3176               221        1.0       Real Bed       1.0   2.0   \n",
       "3309               293        1.0  Pull-out Sofa       1.0   1.0   \n",
       "6883                 8        1.0       Real Bed       1.0   1.0   \n",
       "\n",
       "      calculated_host_listings_count          cancellation_policy  \\\n",
       "id                                                                  \n",
       "3176                               1  strict_14_with_grace_period   \n",
       "3309                               1  strict_14_with_grace_period   \n",
       "6883                               1                     moderate   \n",
       "\n",
       "      cleaning_fee                                        description  \\\n",
       "id                                                                      \n",
       "3176             1  This beautiful first floor apartment  is situa...   \n",
       "3309             1  First of all: I prefer short-notice bookings. ...   \n",
       "6883             1  Stay in a stylish loft on the second floor and...   \n",
       "\n",
       "     experiences_offered extra_people  guests_included has_availability  \\\n",
       "id                                                                        \n",
       "3176                none       $20.00                2                t   \n",
       "3309                none       $18.00                1                t   \n",
       "6883                none        $0.00                1                t   \n",
       "\n",
       "     host_has_profile_pic  host_id host_identity_verified host_is_superhost  \\\n",
       "id                                                                            \n",
       "3176                    t     3718                      t                 f   \n",
       "3309                    t     4108                      f                 f   \n",
       "6883                    t    16149                      t                 f   \n",
       "\n",
       "      host_listings_count  host_since  house_rules instant_bookable  \\\n",
       "id                                                                    \n",
       "3176                  1.0  2008-10-19            1                f   \n",
       "3309                  1.0  2008-11-07            1                f   \n",
       "6883                  1.0  2009-05-07            1                f   \n",
       "\n",
       "     is_business_travel_ready is_location_exact  latitude  longitude  \\\n",
       "id                                                                     \n",
       "3176                        f                 t  52.53500   13.41758   \n",
       "3309                        f                 t  52.49885   13.34906   \n",
       "6883                        f                 t  52.51171   13.45477   \n",
       "\n",
       "      maximum_nights  minimum_nights  monthly_price  \\\n",
       "id                                                    \n",
       "3176            1125              62              1   \n",
       "3309              35               7              1   \n",
       "6883              90               3              1   \n",
       "\n",
       "                                                   name    neighbourhood  \\\n",
       "id                                                                         \n",
       "3176                    Fabulous Flat in great Location  Prenzlauer Berg   \n",
       "3309                  BerlinSpot Schöneberg near KaDeWe       Schöneberg   \n",
       "6883  Stylish East Side Loft in Center with AC & 2 b...   Friedrichshain   \n",
       "\n",
       "      number_of_reviews  number_of_reviews_ltm  price property_type  \\\n",
       "id                                                                    \n",
       "3176                145                      1   90.0     Apartment   \n",
       "3309                 27                      1   28.0     Apartment   \n",
       "6883                132                      8  125.0          Loft   \n",
       "\n",
       "     require_guest_phone_verification require_guest_profile_picture  \\\n",
       "id                                                                    \n",
       "3176                                f                             f   \n",
       "3309                                f                             f   \n",
       "6883                                t                             f   \n",
       "\n",
       "     requires_license  review_scores_accuracy  review_scores_checkin  \\\n",
       "id                                                                     \n",
       "3176                t                     9.0                    9.0   \n",
       "3309                t                     9.0                    9.0   \n",
       "6883                t                    10.0                   10.0   \n",
       "\n",
       "      review_scores_cleanliness  review_scores_communication  \\\n",
       "id                                                             \n",
       "3176                        9.0                          9.0   \n",
       "3309                        9.0                         10.0   \n",
       "6883                       10.0                         10.0   \n",
       "\n",
       "      review_scores_location  review_scores_value        room_type  \\\n",
       "id                                                                   \n",
       "3176                    10.0                  9.0  Entire home/apt   \n",
       "3309                     9.0                  9.0     Private room   \n",
       "6883                    10.0                 10.0  Entire home/apt   \n",
       "\n",
       "      security_deposit  space  \\\n",
       "id                              \n",
       "3176                 1      1   \n",
       "3309                 1      1   \n",
       "6883                 1      1   \n",
       "\n",
       "                                                summary  weekly_price zipcode  \n",
       "id                                                                             \n",
       "3176  This beautiful first floor apartment  is situa...             1   10405  \n",
       "3309  First of all: I prefer short-notice bookings. ...             1   10777  \n",
       "6883                                                                1   10243  "
      ]
     },
     "execution_count": 193,
     "metadata": {},
     "output_type": "execute_result"
    }
   ],
   "source": [
    "# Display cleaned dataset\n",
    "data.head(3)"
   ]
  },
  {
   "cell_type": "markdown",
   "metadata": {},
   "source": [
    "**Export data_clean**"
   ]
  },
  {
   "cell_type": "code",
   "execution_count": 197,
   "metadata": {
    "code_folding": [
     0
    ]
   },
   "outputs": [],
   "source": [
    "# Export dataset for further use in 2_Airbnb_EDA and 3_Airbnb_Feature_Engineering\n",
    "data.to_csv(r'data_clean.csv', index = True)"
   ]
  },
  {
   "cell_type": "markdown",
   "metadata": {},
   "source": [
    "**BACKUP**"
   ]
  },
  {
   "cell_type": "code",
   "execution_count": 198,
   "metadata": {
    "scrolled": true
   },
   "outputs": [],
   "source": [
    "# Import Airbnb listing data for the time period 04/2018-03/2020 (2 years)\n",
    "#all_files = glob.glob(os.path.join(\"data\", \"*.csv.gz\"))\n",
    "#all_df = []\n",
    "#for f in all_files:\n",
    "#    df = pd.read_csv(f, sep=',')\n",
    "#    df['file'] = f.split('/')[-1]\n",
    "#    all_df.append(df)\n",
    "#data_raw = pd.concat(all_df, ignore_index=True, sort=True)"
   ]
  },
  {
   "cell_type": "code",
   "execution_count": 202,
   "metadata": {},
   "outputs": [
    {
     "data": {
      "text/plain": [
       "0      4285\n",
       "1      2889\n",
       "2      2033\n",
       "3      1532\n",
       "4      1229\n",
       "5       962\n",
       "6       802\n",
       "7       686\n",
       "8       584\n",
       "9       534\n",
       "10      498\n",
       "12      402\n",
       "11      395\n",
       "13      316\n",
       "14      288\n",
       "15      280\n",
       "16      251\n",
       "18      232\n",
       "17      222\n",
       "19      206\n",
       "20      194\n",
       "21      166\n",
       "22      154\n",
       "23      153\n",
       "26      143\n",
       "25      140\n",
       "24      134\n",
       "27      120\n",
       "29      110\n",
       "28      107\n",
       "32      105\n",
       "33      104\n",
       "31      100\n",
       "34       92\n",
       "37       92\n",
       "30       90\n",
       "35       86\n",
       "40       83\n",
       "39       81\n",
       "36       80\n",
       "41       75\n",
       "38       73\n",
       "43       70\n",
       "45       63\n",
       "44       62\n",
       "47       62\n",
       "55       59\n",
       "48       57\n",
       "46       55\n",
       "49       54\n",
       "       ... \n",
       "522       1\n",
       "285       1\n",
       "299       1\n",
       "315       1\n",
       "331       1\n",
       "347       1\n",
       "395       1\n",
       "459       1\n",
       "491       1\n",
       "507       1\n",
       "571       1\n",
       "237       1\n",
       "284       1\n",
       "316       1\n",
       "348       1\n",
       "428       1\n",
       "520       1\n",
       "456       1\n",
       "530       1\n",
       "440       1\n",
       "259       1\n",
       "275       1\n",
       "355       1\n",
       "276       1\n",
       "356       1\n",
       "388       1\n",
       "404       1\n",
       "468       1\n",
       "548       1\n",
       "830       1\n",
       "526       1\n",
       "334       1\n",
       "229       1\n",
       "293       1\n",
       "501       1\n",
       "286       1\n",
       "262       1\n",
       "263       1\n",
       "279       1\n",
       "295       1\n",
       "311       1\n",
       "327       1\n",
       "343       1\n",
       "359       1\n",
       "375       1\n",
       "455       1\n",
       "383       1\n",
       "264       1\n",
       "296       1\n",
       "447       1\n",
       "Name: number_of_reviews, Length: 372, dtype: int64"
      ]
     },
     "execution_count": 202,
     "metadata": {},
     "output_type": "execute_result"
    }
   ],
   "source": [
    "data.number_of_reviews.value_counts()"
   ]
  },
  {
   "cell_type": "code",
   "execution_count": null,
   "metadata": {},
   "outputs": [],
   "source": []
  }
 ],
 "metadata": {
  "kernelspec": {
   "display_name": "Python 3",
   "language": "python",
   "name": "python3"
  },
  "language_info": {
   "codemirror_mode": {
    "name": "ipython",
    "version": 3
   },
   "file_extension": ".py",
   "mimetype": "text/x-python",
   "name": "python",
   "nbconvert_exporter": "python",
   "pygments_lexer": "ipython3",
   "version": "3.7.6"
  },
  "toc": {
   "base_numbering": 1,
   "nav_menu": {},
   "number_sections": true,
   "sideBar": true,
   "skip_h1_title": false,
   "title_cell": "Table of Contents",
   "title_sidebar": "Contents",
   "toc_cell": false,
   "toc_position": {
    "height": "calc(100% - 180px)",
    "left": "10px",
    "top": "150px",
    "width": "384px"
   },
   "toc_section_display": true,
   "toc_window_display": true
  }
 },
 "nbformat": 4,
 "nbformat_minor": 4
}
