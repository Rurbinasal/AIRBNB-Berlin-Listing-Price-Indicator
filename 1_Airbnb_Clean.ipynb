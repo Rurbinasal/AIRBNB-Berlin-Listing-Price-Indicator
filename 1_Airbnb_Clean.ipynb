{
 "cells": [
  {
   "cell_type": "markdown",
   "metadata": {},
   "source": [
    "# Business Understanding and Set-up"
   ]
  },
  {
   "cell_type": "markdown",
   "metadata": {},
   "source": [
    "## Background and Key Question\n",
    "\n",
    "**Airbnb**\n",
    "\n",
    "Brief description\n",
    "\n",
    "**Key Question**\n",
    "\n",
    "1. Taking data from a specific listing time stamp (in this case Jan 2020), **can we predict its occupancy rate** in the following month, based on reviews from March 2020? (regression)\n",
    "2. Including changes in price and other features from previous months, **can we predict changes in occupancy levels** based on feature values and changes? (classification)\n",
    "\n",
    "**Assumptions**\n",
    "\n",
    "As the data is accessible information only and does not include data such as actual occupancy, several assumptions were necessary to perform the analysis. Some of the key ones are described below\n",
    "\n",
    "| **TOPIC** | **ASSUMPTION** |\n",
    "| :----- | :----- |\n",
    "| **Occupancy calculation** | Please refer to 3 - Feature Engineering for a detailed explanation of how to calculate occupancy |\n",
    "| **Avg. length of stay (Berlin)** | 3 days, while adjusting for max. length <= 5 and min. length > 3 |\n",
    "| **Days in advance booking** | Two weeks on average, while longer stays are typically booked further in advance (needs further validation) |\n",
    "| **Data date selection** | Main dataset \"data\" is taken from Jan 10th 2020 (in order to stay clear of COVID effects). Airbnb allows 0-14 days after completion of trip (avg. 3 days). Hence, reviews from Mar 1-31 2020 are used as a proxy to calculate occupation in the month affected by price on Jan 10th 2020 (approx. Jan 24th-Feb 23th) |\n",
    "| **** |  |\n",
    "| **** |  |\n",
    "\n"
   ]
  },
  {
   "cell_type": "markdown",
   "metadata": {},
   "source": [
    "## Feature Glossary\n",
    "\n",
    "[LINK](https://github.com/L-Lewis/Airbnb-neural-network-price-prediction/blob/master/Airbnb-price-prediction.ipynb)"
   ]
  },
  {
   "cell_type": "markdown",
   "metadata": {},
   "source": [
    "| **FEATURE** | **DESCRIPTION** |\n",
    "| :----- | :----- |\n",
    "| **name** | header of Airbnb listing |\n",
    "| **** |  |\n",
    "| **** |  |\n",
    "| **** |  |\n",
    "| **** |  |\n",
    "| **** |  |\n",
    "| **** |  |\n",
    "| **** |  |\n",
    "| **** |  |\n",
    "| **** |  |\n",
    "| **** |  |\n",
    "\n"
   ]
  },
  {
   "cell_type": "markdown",
   "metadata": {},
   "source": [
    "## Dataset Glossary"
   ]
  },
  {
   "cell_type": "markdown",
   "metadata": {},
   "source": [
    "| **DATASET** | **DESCRIPTION** |\n",
    "| :----- | :----- |\n",
    "| **data_raw** | Originally imported dataset listings.csv.gz (February 2020) |\n",
    "| **data** | Naming for main working dataset throughout all notebooks |\n",
    "| **data_clean** | Export from Notebook 1-Clean, import for Notebooks 2-EDA and 3-Feature Engineering |\n",
    "| **data_engineered** | Export from Notebook 3-Feature Engineering, import for Notebook 4-Predictive Modeling |\n",
    "| **** |  |\n",
    "| **** |  |\n",
    "| **** |  |\n",
    "| **** |  |\n",
    "| **** |  |\n",
    "| **** |  |\n",
    "| **** |  |\n",
    "| **** |  |\n",
    "\n"
   ]
  },
  {
   "cell_type": "markdown",
   "metadata": {},
   "source": [
    "## Target Feature(s) and Metric(s)"
   ]
  },
  {
   "cell_type": "markdown",
   "metadata": {},
   "source": [
    "**Target 1**:\n",
    "- Feature: Occupancy class\n",
    "- Metric: F1-Score"
   ]
  },
  {
   "cell_type": "markdown",
   "metadata": {},
   "source": [
    "## Libraries and Dashboard"
   ]
  },
  {
   "cell_type": "code",
   "execution_count": 1378,
   "metadata": {
    "code_folding": [
     0
    ]
   },
   "outputs": [],
   "source": [
    "# Import Libraries\n",
    "import pandas as pd\n",
    "import numpy as np\n",
    "import seaborn as sns\n",
    "import matplotlib.pyplot as plt\n",
    "from numpy import loadtxt\n",
    "import os, glob\n",
    "import geopandas as gpd\n",
    "%matplotlib inline"
   ]
  },
  {
   "cell_type": "code",
   "execution_count": 1379,
   "metadata": {
    "code_folding": [
     0
    ]
   },
   "outputs": [],
   "source": [
    "#Dashboard\n",
    "pd.set_option('display.max_columns', 150)\n",
    "pd.set_option('display.max_rows', 100)\n",
    "pd.options.display.max_seq_items = 300\n",
    "#pd.options.display.max_rows = 4000\n",
    "sns.set(style=\"white\")"
   ]
  },
  {
   "cell_type": "markdown",
   "metadata": {},
   "source": [
    "# Data Mining"
   ]
  },
  {
   "cell_type": "markdown",
   "metadata": {},
   "source": [
    "## Data Checks\n",
    "\n",
    "The monthly data for Berlin is composed of various files that are briefly visualized here (based on Dec 2019):\n",
    "\n",
    "- listings.csv.gz\n",
    "- listings.csv\n",
    "- reviews.csv.gz\n",
    "- reviews.csv\n",
    "- calendar.csv.gz\n",
    "- neighbourhoods.csv\n",
    "- neighbourhoods.geojson"
   ]
  },
  {
   "cell_type": "markdown",
   "metadata": {},
   "source": [
    "**listings.csv.gz**"
   ]
  },
  {
   "cell_type": "code",
   "execution_count": 1380,
   "metadata": {
    "code_folding": [
     0
    ]
   },
   "outputs": [
    {
     "name": "stdout",
     "output_type": "stream",
     "text": [
      "(25349, 106)\n"
     ]
    },
    {
     "name": "stderr",
     "output_type": "stream",
     "text": [
      "/opt/anaconda3/envs/nf/lib/python3.6/site-packages/IPython/core/interactiveshell.py:3072: DtypeWarning: Columns (43,61,62) have mixed types.Specify dtype option on import or set low_memory=False.\n",
      "  interactivity=interactivity, compiler=compiler, result=result)\n"
     ]
    },
    {
     "data": {
      "text/html": [
       "<div>\n",
       "<style scoped>\n",
       "    .dataframe tbody tr th:only-of-type {\n",
       "        vertical-align: middle;\n",
       "    }\n",
       "\n",
       "    .dataframe tbody tr th {\n",
       "        vertical-align: top;\n",
       "    }\n",
       "\n",
       "    .dataframe thead th {\n",
       "        text-align: right;\n",
       "    }\n",
       "</style>\n",
       "<table border=\"1\" class=\"dataframe\">\n",
       "  <thead>\n",
       "    <tr style=\"text-align: right;\">\n",
       "      <th></th>\n",
       "      <th>id</th>\n",
       "      <th>listing_url</th>\n",
       "      <th>scrape_id</th>\n",
       "      <th>last_scraped</th>\n",
       "      <th>name</th>\n",
       "      <th>summary</th>\n",
       "      <th>space</th>\n",
       "      <th>description</th>\n",
       "      <th>experiences_offered</th>\n",
       "      <th>neighborhood_overview</th>\n",
       "      <th>notes</th>\n",
       "      <th>transit</th>\n",
       "      <th>access</th>\n",
       "      <th>interaction</th>\n",
       "      <th>house_rules</th>\n",
       "      <th>thumbnail_url</th>\n",
       "      <th>medium_url</th>\n",
       "      <th>picture_url</th>\n",
       "      <th>xl_picture_url</th>\n",
       "      <th>host_id</th>\n",
       "      <th>host_url</th>\n",
       "      <th>host_name</th>\n",
       "      <th>host_since</th>\n",
       "      <th>host_location</th>\n",
       "      <th>host_about</th>\n",
       "      <th>host_response_time</th>\n",
       "      <th>host_response_rate</th>\n",
       "      <th>host_acceptance_rate</th>\n",
       "      <th>host_is_superhost</th>\n",
       "      <th>host_thumbnail_url</th>\n",
       "      <th>host_picture_url</th>\n",
       "      <th>host_neighbourhood</th>\n",
       "      <th>host_listings_count</th>\n",
       "      <th>host_total_listings_count</th>\n",
       "      <th>host_verifications</th>\n",
       "      <th>host_has_profile_pic</th>\n",
       "      <th>host_identity_verified</th>\n",
       "      <th>street</th>\n",
       "      <th>neighbourhood</th>\n",
       "      <th>neighbourhood_cleansed</th>\n",
       "      <th>neighbourhood_group_cleansed</th>\n",
       "      <th>city</th>\n",
       "      <th>state</th>\n",
       "      <th>zipcode</th>\n",
       "      <th>market</th>\n",
       "      <th>smart_location</th>\n",
       "      <th>country_code</th>\n",
       "      <th>country</th>\n",
       "      <th>latitude</th>\n",
       "      <th>longitude</th>\n",
       "      <th>is_location_exact</th>\n",
       "      <th>property_type</th>\n",
       "      <th>room_type</th>\n",
       "      <th>accommodates</th>\n",
       "      <th>bathrooms</th>\n",
       "      <th>bedrooms</th>\n",
       "      <th>beds</th>\n",
       "      <th>bed_type</th>\n",
       "      <th>amenities</th>\n",
       "      <th>square_feet</th>\n",
       "      <th>price</th>\n",
       "      <th>weekly_price</th>\n",
       "      <th>monthly_price</th>\n",
       "      <th>security_deposit</th>\n",
       "      <th>cleaning_fee</th>\n",
       "      <th>guests_included</th>\n",
       "      <th>extra_people</th>\n",
       "      <th>minimum_nights</th>\n",
       "      <th>maximum_nights</th>\n",
       "      <th>minimum_minimum_nights</th>\n",
       "      <th>maximum_minimum_nights</th>\n",
       "      <th>minimum_maximum_nights</th>\n",
       "      <th>maximum_maximum_nights</th>\n",
       "      <th>minimum_nights_avg_ntm</th>\n",
       "      <th>maximum_nights_avg_ntm</th>\n",
       "      <th>calendar_updated</th>\n",
       "      <th>has_availability</th>\n",
       "      <th>availability_30</th>\n",
       "      <th>availability_60</th>\n",
       "      <th>availability_90</th>\n",
       "      <th>availability_365</th>\n",
       "      <th>calendar_last_scraped</th>\n",
       "      <th>number_of_reviews</th>\n",
       "      <th>number_of_reviews_ltm</th>\n",
       "      <th>first_review</th>\n",
       "      <th>last_review</th>\n",
       "      <th>review_scores_rating</th>\n",
       "      <th>review_scores_accuracy</th>\n",
       "      <th>review_scores_cleanliness</th>\n",
       "      <th>review_scores_checkin</th>\n",
       "      <th>review_scores_communication</th>\n",
       "      <th>review_scores_location</th>\n",
       "      <th>review_scores_value</th>\n",
       "      <th>requires_license</th>\n",
       "      <th>license</th>\n",
       "      <th>jurisdiction_names</th>\n",
       "      <th>instant_bookable</th>\n",
       "      <th>is_business_travel_ready</th>\n",
       "      <th>cancellation_policy</th>\n",
       "      <th>require_guest_profile_picture</th>\n",
       "      <th>require_guest_phone_verification</th>\n",
       "      <th>calculated_host_listings_count</th>\n",
       "      <th>calculated_host_listings_count_entire_homes</th>\n",
       "      <th>calculated_host_listings_count_private_rooms</th>\n",
       "      <th>calculated_host_listings_count_shared_rooms</th>\n",
       "      <th>reviews_per_month</th>\n",
       "    </tr>\n",
       "  </thead>\n",
       "  <tbody>\n",
       "    <tr>\n",
       "      <th>0</th>\n",
       "      <td>2015</td>\n",
       "      <td>https://www.airbnb.com/rooms/2015</td>\n",
       "      <td>20200110222913</td>\n",
       "      <td>2020-01-11</td>\n",
       "      <td>Berlin-Mitte Value! Quiet courtyard/very central</td>\n",
       "      <td>Great location!  30 of 75 sq meters. This wood...</td>\n",
       "      <td>A+++ location! This „Einliegerwohnung“ is an e...</td>\n",
       "      <td>Great location!  30 of 75 sq meters. This wood...</td>\n",
       "      <td>none</td>\n",
       "      <td>It is located in the former East Berlin area o...</td>\n",
       "      <td>This is my home, not a hotel. I rent out occas...</td>\n",
       "      <td>Close to U-Bahn U8 and U2 (metro), Trams M12, ...</td>\n",
       "      <td>Simple kitchen/cooking, refrigerator, microwav...</td>\n",
       "      <td>Always available</td>\n",
       "      <td>No parties No events No pets No smoking, not e...</td>\n",
       "      <td>NaN</td>\n",
       "      <td>NaN</td>\n",
       "      <td>https://a0.muscache.com/im/pictures/260fd609-7...</td>\n",
       "      <td>NaN</td>\n",
       "      <td>2217</td>\n",
       "      <td>https://www.airbnb.com/users/show/2217</td>\n",
       "      <td>Ion</td>\n",
       "      <td>2008-08-18</td>\n",
       "      <td>Key Biscayne, Florida, United States</td>\n",
       "      <td>Believe in sharing economy.</td>\n",
       "      <td>within an hour</td>\n",
       "      <td>100%</td>\n",
       "      <td>NaN</td>\n",
       "      <td>f</td>\n",
       "      <td>https://a0.muscache.com/im/pictures/user/21428...</td>\n",
       "      <td>https://a0.muscache.com/im/pictures/user/21428...</td>\n",
       "      <td>Mitte</td>\n",
       "      <td>6.0</td>\n",
       "      <td>6.0</td>\n",
       "      <td>['email', 'phone', 'reviews', 'jumio', 'offlin...</td>\n",
       "      <td>t</td>\n",
       "      <td>t</td>\n",
       "      <td>Berlin, Berlin, Germany</td>\n",
       "      <td>Mitte</td>\n",
       "      <td>Brunnenstr. Süd</td>\n",
       "      <td>Mitte</td>\n",
       "      <td>Berlin</td>\n",
       "      <td>Berlin</td>\n",
       "      <td>10119</td>\n",
       "      <td>Berlin</td>\n",
       "      <td>Berlin, Germany</td>\n",
       "      <td>DE</td>\n",
       "      <td>Germany</td>\n",
       "      <td>52.53454</td>\n",
       "      <td>13.40256</td>\n",
       "      <td>f</td>\n",
       "      <td>Guesthouse</td>\n",
       "      <td>Entire home/apt</td>\n",
       "      <td>3</td>\n",
       "      <td>1.0</td>\n",
       "      <td>1.0</td>\n",
       "      <td>0.0</td>\n",
       "      <td>Real Bed</td>\n",
       "      <td>{TV,\"Cable TV\",Wifi,Kitchen,Gym,\"Free street p...</td>\n",
       "      <td>NaN</td>\n",
       "      <td>$60.00</td>\n",
       "      <td>NaN</td>\n",
       "      <td>NaN</td>\n",
       "      <td>$250.00</td>\n",
       "      <td>$30.00</td>\n",
       "      <td>1</td>\n",
       "      <td>$28.00</td>\n",
       "      <td>4</td>\n",
       "      <td>1125</td>\n",
       "      <td>4</td>\n",
       "      <td>59</td>\n",
       "      <td>1125</td>\n",
       "      <td>1125</td>\n",
       "      <td>41.0</td>\n",
       "      <td>1125.0</td>\n",
       "      <td>a week ago</td>\n",
       "      <td>t</td>\n",
       "      <td>8</td>\n",
       "      <td>8</td>\n",
       "      <td>15</td>\n",
       "      <td>194</td>\n",
       "      <td>2020-01-11</td>\n",
       "      <td>130</td>\n",
       "      <td>10</td>\n",
       "      <td>2016-04-11</td>\n",
       "      <td>2019-10-12</td>\n",
       "      <td>93.0</td>\n",
       "      <td>10.0</td>\n",
       "      <td>9.0</td>\n",
       "      <td>10.0</td>\n",
       "      <td>10.0</td>\n",
       "      <td>10.0</td>\n",
       "      <td>9.0</td>\n",
       "      <td>t</td>\n",
       "      <td>NaN</td>\n",
       "      <td>NaN</td>\n",
       "      <td>f</td>\n",
       "      <td>f</td>\n",
       "      <td>strict_14_with_grace_period</td>\n",
       "      <td>f</td>\n",
       "      <td>f</td>\n",
       "      <td>6</td>\n",
       "      <td>6</td>\n",
       "      <td>0</td>\n",
       "      <td>0</td>\n",
       "      <td>2.84</td>\n",
       "    </tr>\n",
       "    <tr>\n",
       "      <th>1</th>\n",
       "      <td>3176</td>\n",
       "      <td>https://www.airbnb.com/rooms/3176</td>\n",
       "      <td>20200110222913</td>\n",
       "      <td>2020-01-11</td>\n",
       "      <td>Fabulous Flat in great Location</td>\n",
       "      <td>This beautiful first floor apartment  is situa...</td>\n",
       "      <td>1st floor (68m2) apartment on Kollwitzplatz/ P...</td>\n",
       "      <td>This beautiful first floor apartment  is situa...</td>\n",
       "      <td>none</td>\n",
       "      <td>The neighbourhood is famous for its variety of...</td>\n",
       "      <td>We welcome FAMILIES and cater especially for y...</td>\n",
       "      <td>We are 5 min walk  away from the tram M2, whic...</td>\n",
       "      <td>The apartment will be entirely yours. We are c...</td>\n",
       "      <td>Feel free to ask any questions prior to bookin...</td>\n",
       "      <td>It’s a non smoking flat, which likes to be tre...</td>\n",
       "      <td>NaN</td>\n",
       "      <td>NaN</td>\n",
       "      <td>https://a0.muscache.com/im/pictures/243355/84a...</td>\n",
       "      <td>NaN</td>\n",
       "      <td>3718</td>\n",
       "      <td>https://www.airbnb.com/users/show/3718</td>\n",
       "      <td>Britta</td>\n",
       "      <td>2008-10-19</td>\n",
       "      <td>Coledale, New South Wales, Australia</td>\n",
       "      <td>We love to travel ourselves a lot and prefer t...</td>\n",
       "      <td>within a day</td>\n",
       "      <td>67%</td>\n",
       "      <td>NaN</td>\n",
       "      <td>f</td>\n",
       "      <td>https://a0.muscache.com/im/users/3718/profile_...</td>\n",
       "      <td>https://a0.muscache.com/im/users/3718/profile_...</td>\n",
       "      <td>Prenzlauer Berg</td>\n",
       "      <td>1.0</td>\n",
       "      <td>1.0</td>\n",
       "      <td>['email', 'phone', 'facebook', 'reviews', 'man...</td>\n",
       "      <td>t</td>\n",
       "      <td>t</td>\n",
       "      <td>Berlin, Berlin, Germany</td>\n",
       "      <td>Prenzlauer Berg</td>\n",
       "      <td>Prenzlauer Berg Südwest</td>\n",
       "      <td>Pankow</td>\n",
       "      <td>Berlin</td>\n",
       "      <td>Berlin</td>\n",
       "      <td>10405</td>\n",
       "      <td>Berlin</td>\n",
       "      <td>Berlin, Germany</td>\n",
       "      <td>DE</td>\n",
       "      <td>Germany</td>\n",
       "      <td>52.53500</td>\n",
       "      <td>13.41758</td>\n",
       "      <td>t</td>\n",
       "      <td>Apartment</td>\n",
       "      <td>Entire home/apt</td>\n",
       "      <td>4</td>\n",
       "      <td>1.0</td>\n",
       "      <td>1.0</td>\n",
       "      <td>2.0</td>\n",
       "      <td>Real Bed</td>\n",
       "      <td>{Internet,Wifi,Kitchen,\"Buzzer/wireless interc...</td>\n",
       "      <td>720.0</td>\n",
       "      <td>$90.00</td>\n",
       "      <td>$520.00</td>\n",
       "      <td>$1,900.00</td>\n",
       "      <td>$300.00</td>\n",
       "      <td>$100.00</td>\n",
       "      <td>2</td>\n",
       "      <td>$20.00</td>\n",
       "      <td>62</td>\n",
       "      <td>1125</td>\n",
       "      <td>62</td>\n",
       "      <td>62</td>\n",
       "      <td>1125</td>\n",
       "      <td>1125</td>\n",
       "      <td>62.0</td>\n",
       "      <td>1125.0</td>\n",
       "      <td>4 months ago</td>\n",
       "      <td>t</td>\n",
       "      <td>0</td>\n",
       "      <td>0</td>\n",
       "      <td>14</td>\n",
       "      <td>289</td>\n",
       "      <td>2020-01-11</td>\n",
       "      <td>145</td>\n",
       "      <td>1</td>\n",
       "      <td>2009-06-20</td>\n",
       "      <td>2019-06-27</td>\n",
       "      <td>93.0</td>\n",
       "      <td>9.0</td>\n",
       "      <td>9.0</td>\n",
       "      <td>9.0</td>\n",
       "      <td>9.0</td>\n",
       "      <td>10.0</td>\n",
       "      <td>9.0</td>\n",
       "      <td>t</td>\n",
       "      <td>NaN</td>\n",
       "      <td>NaN</td>\n",
       "      <td>f</td>\n",
       "      <td>f</td>\n",
       "      <td>strict_14_with_grace_period</td>\n",
       "      <td>f</td>\n",
       "      <td>f</td>\n",
       "      <td>1</td>\n",
       "      <td>1</td>\n",
       "      <td>0</td>\n",
       "      <td>0</td>\n",
       "      <td>1.13</td>\n",
       "    </tr>\n",
       "    <tr>\n",
       "      <th>2</th>\n",
       "      <td>3309</td>\n",
       "      <td>https://www.airbnb.com/rooms/3309</td>\n",
       "      <td>20200110222913</td>\n",
       "      <td>2020-01-11</td>\n",
       "      <td>BerlinSpot Schöneberg near KaDeWe</td>\n",
       "      <td>First of all: I prefer short-notice bookings. ...</td>\n",
       "      <td>Your room is really big and has 26 sqm, is ver...</td>\n",
       "      <td>First of all: I prefer short-notice bookings. ...</td>\n",
       "      <td>none</td>\n",
       "      <td>My flat is in the middle of West-Berlin, direc...</td>\n",
       "      <td>The flat is a strictly non-smoking facility! A...</td>\n",
       "      <td>The public transportation is excellent: Severa...</td>\n",
       "      <td>I do have a strictly non-smoker-flat.  Keep th...</td>\n",
       "      <td>I'm working as a freelancing photographer. My ...</td>\n",
       "      <td>House-Rules and Information ..............(deu...</td>\n",
       "      <td>NaN</td>\n",
       "      <td>NaN</td>\n",
       "      <td>https://a0.muscache.com/im/pictures/29054294/b...</td>\n",
       "      <td>NaN</td>\n",
       "      <td>4108</td>\n",
       "      <td>https://www.airbnb.com/users/show/4108</td>\n",
       "      <td>Jana</td>\n",
       "      <td>2008-11-07</td>\n",
       "      <td>Berlin, Berlin, Germany</td>\n",
       "      <td>ENJOY EVERY DAY AS IF IT'S YOUR LAST!!! \\r\\n\\r...</td>\n",
       "      <td>within a day</td>\n",
       "      <td>100%</td>\n",
       "      <td>NaN</td>\n",
       "      <td>f</td>\n",
       "      <td>https://a0.muscache.com/im/pictures/user/d8049...</td>\n",
       "      <td>https://a0.muscache.com/im/pictures/user/d8049...</td>\n",
       "      <td>Schöneberg</td>\n",
       "      <td>1.0</td>\n",
       "      <td>1.0</td>\n",
       "      <td>['email', 'phone', 'reviews', 'jumio', 'govern...</td>\n",
       "      <td>t</td>\n",
       "      <td>f</td>\n",
       "      <td>Berlin, Berlin, Germany</td>\n",
       "      <td>Schöneberg</td>\n",
       "      <td>Schöneberg-Nord</td>\n",
       "      <td>Tempelhof - Schöneberg</td>\n",
       "      <td>Berlin</td>\n",
       "      <td>Berlin</td>\n",
       "      <td>10777</td>\n",
       "      <td>Berlin</td>\n",
       "      <td>Berlin, Germany</td>\n",
       "      <td>DE</td>\n",
       "      <td>Germany</td>\n",
       "      <td>52.49885</td>\n",
       "      <td>13.34906</td>\n",
       "      <td>t</td>\n",
       "      <td>Apartment</td>\n",
       "      <td>Private room</td>\n",
       "      <td>1</td>\n",
       "      <td>1.0</td>\n",
       "      <td>1.0</td>\n",
       "      <td>1.0</td>\n",
       "      <td>Pull-out Sofa</td>\n",
       "      <td>{Internet,Wifi,\"Pets live on this property\",Ca...</td>\n",
       "      <td>0.0</td>\n",
       "      <td>$28.00</td>\n",
       "      <td>$175.00</td>\n",
       "      <td>$599.00</td>\n",
       "      <td>$250.00</td>\n",
       "      <td>$30.00</td>\n",
       "      <td>1</td>\n",
       "      <td>$18.00</td>\n",
       "      <td>7</td>\n",
       "      <td>35</td>\n",
       "      <td>7</td>\n",
       "      <td>7</td>\n",
       "      <td>35</td>\n",
       "      <td>35</td>\n",
       "      <td>7.0</td>\n",
       "      <td>35.0</td>\n",
       "      <td>6 weeks ago</td>\n",
       "      <td>t</td>\n",
       "      <td>0</td>\n",
       "      <td>10</td>\n",
       "      <td>40</td>\n",
       "      <td>315</td>\n",
       "      <td>2020-01-11</td>\n",
       "      <td>27</td>\n",
       "      <td>1</td>\n",
       "      <td>2013-08-12</td>\n",
       "      <td>2019-05-31</td>\n",
       "      <td>89.0</td>\n",
       "      <td>9.0</td>\n",
       "      <td>9.0</td>\n",
       "      <td>9.0</td>\n",
       "      <td>10.0</td>\n",
       "      <td>9.0</td>\n",
       "      <td>9.0</td>\n",
       "      <td>t</td>\n",
       "      <td>NaN</td>\n",
       "      <td>NaN</td>\n",
       "      <td>f</td>\n",
       "      <td>f</td>\n",
       "      <td>strict_14_with_grace_period</td>\n",
       "      <td>f</td>\n",
       "      <td>f</td>\n",
       "      <td>1</td>\n",
       "      <td>0</td>\n",
       "      <td>1</td>\n",
       "      <td>0</td>\n",
       "      <td>0.35</td>\n",
       "    </tr>\n",
       "  </tbody>\n",
       "</table>\n",
       "</div>"
      ],
      "text/plain": [
       "     id                        listing_url       scrape_id last_scraped  \\\n",
       "0  2015  https://www.airbnb.com/rooms/2015  20200110222913   2020-01-11   \n",
       "1  3176  https://www.airbnb.com/rooms/3176  20200110222913   2020-01-11   \n",
       "2  3309  https://www.airbnb.com/rooms/3309  20200110222913   2020-01-11   \n",
       "\n",
       "                                               name  \\\n",
       "0  Berlin-Mitte Value! Quiet courtyard/very central   \n",
       "1                   Fabulous Flat in great Location   \n",
       "2                 BerlinSpot Schöneberg near KaDeWe   \n",
       "\n",
       "                                             summary  \\\n",
       "0  Great location!  30 of 75 sq meters. This wood...   \n",
       "1  This beautiful first floor apartment  is situa...   \n",
       "2  First of all: I prefer short-notice bookings. ...   \n",
       "\n",
       "                                               space  \\\n",
       "0  A+++ location! This „Einliegerwohnung“ is an e...   \n",
       "1  1st floor (68m2) apartment on Kollwitzplatz/ P...   \n",
       "2  Your room is really big and has 26 sqm, is ver...   \n",
       "\n",
       "                                         description experiences_offered  \\\n",
       "0  Great location!  30 of 75 sq meters. This wood...                none   \n",
       "1  This beautiful first floor apartment  is situa...                none   \n",
       "2  First of all: I prefer short-notice bookings. ...                none   \n",
       "\n",
       "                               neighborhood_overview  \\\n",
       "0  It is located in the former East Berlin area o...   \n",
       "1  The neighbourhood is famous for its variety of...   \n",
       "2  My flat is in the middle of West-Berlin, direc...   \n",
       "\n",
       "                                               notes  \\\n",
       "0  This is my home, not a hotel. I rent out occas...   \n",
       "1  We welcome FAMILIES and cater especially for y...   \n",
       "2  The flat is a strictly non-smoking facility! A...   \n",
       "\n",
       "                                             transit  \\\n",
       "0  Close to U-Bahn U8 and U2 (metro), Trams M12, ...   \n",
       "1  We are 5 min walk  away from the tram M2, whic...   \n",
       "2  The public transportation is excellent: Severa...   \n",
       "\n",
       "                                              access  \\\n",
       "0  Simple kitchen/cooking, refrigerator, microwav...   \n",
       "1  The apartment will be entirely yours. We are c...   \n",
       "2  I do have a strictly non-smoker-flat.  Keep th...   \n",
       "\n",
       "                                         interaction  \\\n",
       "0                                   Always available   \n",
       "1  Feel free to ask any questions prior to bookin...   \n",
       "2  I'm working as a freelancing photographer. My ...   \n",
       "\n",
       "                                         house_rules  thumbnail_url  \\\n",
       "0  No parties No events No pets No smoking, not e...            NaN   \n",
       "1  It’s a non smoking flat, which likes to be tre...            NaN   \n",
       "2  House-Rules and Information ..............(deu...            NaN   \n",
       "\n",
       "   medium_url                                        picture_url  \\\n",
       "0         NaN  https://a0.muscache.com/im/pictures/260fd609-7...   \n",
       "1         NaN  https://a0.muscache.com/im/pictures/243355/84a...   \n",
       "2         NaN  https://a0.muscache.com/im/pictures/29054294/b...   \n",
       "\n",
       "   xl_picture_url  host_id                                host_url host_name  \\\n",
       "0             NaN     2217  https://www.airbnb.com/users/show/2217       Ion   \n",
       "1             NaN     3718  https://www.airbnb.com/users/show/3718    Britta   \n",
       "2             NaN     4108  https://www.airbnb.com/users/show/4108      Jana   \n",
       "\n",
       "   host_since                         host_location  \\\n",
       "0  2008-08-18  Key Biscayne, Florida, United States   \n",
       "1  2008-10-19  Coledale, New South Wales, Australia   \n",
       "2  2008-11-07               Berlin, Berlin, Germany   \n",
       "\n",
       "                                          host_about host_response_time  \\\n",
       "0                        Believe in sharing economy.     within an hour   \n",
       "1  We love to travel ourselves a lot and prefer t...       within a day   \n",
       "2  ENJOY EVERY DAY AS IF IT'S YOUR LAST!!! \\r\\n\\r...       within a day   \n",
       "\n",
       "  host_response_rate  host_acceptance_rate host_is_superhost  \\\n",
       "0               100%                   NaN                 f   \n",
       "1                67%                   NaN                 f   \n",
       "2               100%                   NaN                 f   \n",
       "\n",
       "                                  host_thumbnail_url  \\\n",
       "0  https://a0.muscache.com/im/pictures/user/21428...   \n",
       "1  https://a0.muscache.com/im/users/3718/profile_...   \n",
       "2  https://a0.muscache.com/im/pictures/user/d8049...   \n",
       "\n",
       "                                    host_picture_url host_neighbourhood  \\\n",
       "0  https://a0.muscache.com/im/pictures/user/21428...              Mitte   \n",
       "1  https://a0.muscache.com/im/users/3718/profile_...    Prenzlauer Berg   \n",
       "2  https://a0.muscache.com/im/pictures/user/d8049...         Schöneberg   \n",
       "\n",
       "   host_listings_count  host_total_listings_count  \\\n",
       "0                  6.0                        6.0   \n",
       "1                  1.0                        1.0   \n",
       "2                  1.0                        1.0   \n",
       "\n",
       "                                  host_verifications host_has_profile_pic  \\\n",
       "0  ['email', 'phone', 'reviews', 'jumio', 'offlin...                    t   \n",
       "1  ['email', 'phone', 'facebook', 'reviews', 'man...                    t   \n",
       "2  ['email', 'phone', 'reviews', 'jumio', 'govern...                    t   \n",
       "\n",
       "  host_identity_verified                   street    neighbourhood  \\\n",
       "0                      t  Berlin, Berlin, Germany            Mitte   \n",
       "1                      t  Berlin, Berlin, Germany  Prenzlauer Berg   \n",
       "2                      f  Berlin, Berlin, Germany       Schöneberg   \n",
       "\n",
       "    neighbourhood_cleansed neighbourhood_group_cleansed    city   state  \\\n",
       "0          Brunnenstr. Süd                        Mitte  Berlin  Berlin   \n",
       "1  Prenzlauer Berg Südwest                       Pankow  Berlin  Berlin   \n",
       "2          Schöneberg-Nord       Tempelhof - Schöneberg  Berlin  Berlin   \n",
       "\n",
       "  zipcode  market   smart_location country_code  country  latitude  longitude  \\\n",
       "0   10119  Berlin  Berlin, Germany           DE  Germany  52.53454   13.40256   \n",
       "1   10405  Berlin  Berlin, Germany           DE  Germany  52.53500   13.41758   \n",
       "2   10777  Berlin  Berlin, Germany           DE  Germany  52.49885   13.34906   \n",
       "\n",
       "  is_location_exact property_type        room_type  accommodates  bathrooms  \\\n",
       "0                 f    Guesthouse  Entire home/apt             3        1.0   \n",
       "1                 t     Apartment  Entire home/apt             4        1.0   \n",
       "2                 t     Apartment     Private room             1        1.0   \n",
       "\n",
       "   bedrooms  beds       bed_type  \\\n",
       "0       1.0   0.0       Real Bed   \n",
       "1       1.0   2.0       Real Bed   \n",
       "2       1.0   1.0  Pull-out Sofa   \n",
       "\n",
       "                                           amenities  square_feet   price  \\\n",
       "0  {TV,\"Cable TV\",Wifi,Kitchen,Gym,\"Free street p...          NaN  $60.00   \n",
       "1  {Internet,Wifi,Kitchen,\"Buzzer/wireless interc...        720.0  $90.00   \n",
       "2  {Internet,Wifi,\"Pets live on this property\",Ca...          0.0  $28.00   \n",
       "\n",
       "  weekly_price monthly_price security_deposit cleaning_fee  guests_included  \\\n",
       "0          NaN           NaN          $250.00       $30.00                1   \n",
       "1      $520.00     $1,900.00          $300.00      $100.00                2   \n",
       "2      $175.00       $599.00          $250.00       $30.00                1   \n",
       "\n",
       "  extra_people  minimum_nights  maximum_nights  minimum_minimum_nights  \\\n",
       "0       $28.00               4            1125                       4   \n",
       "1       $20.00              62            1125                      62   \n",
       "2       $18.00               7              35                       7   \n",
       "\n",
       "   maximum_minimum_nights  minimum_maximum_nights  maximum_maximum_nights  \\\n",
       "0                      59                    1125                    1125   \n",
       "1                      62                    1125                    1125   \n",
       "2                       7                      35                      35   \n",
       "\n",
       "   minimum_nights_avg_ntm  maximum_nights_avg_ntm calendar_updated  \\\n",
       "0                    41.0                  1125.0       a week ago   \n",
       "1                    62.0                  1125.0     4 months ago   \n",
       "2                     7.0                    35.0      6 weeks ago   \n",
       "\n",
       "  has_availability  availability_30  availability_60  availability_90  \\\n",
       "0                t                8                8               15   \n",
       "1                t                0                0               14   \n",
       "2                t                0               10               40   \n",
       "\n",
       "   availability_365 calendar_last_scraped  number_of_reviews  \\\n",
       "0               194            2020-01-11                130   \n",
       "1               289            2020-01-11                145   \n",
       "2               315            2020-01-11                 27   \n",
       "\n",
       "   number_of_reviews_ltm first_review last_review  review_scores_rating  \\\n",
       "0                     10   2016-04-11  2019-10-12                  93.0   \n",
       "1                      1   2009-06-20  2019-06-27                  93.0   \n",
       "2                      1   2013-08-12  2019-05-31                  89.0   \n",
       "\n",
       "   review_scores_accuracy  review_scores_cleanliness  review_scores_checkin  \\\n",
       "0                    10.0                        9.0                   10.0   \n",
       "1                     9.0                        9.0                    9.0   \n",
       "2                     9.0                        9.0                    9.0   \n",
       "\n",
       "   review_scores_communication  review_scores_location  review_scores_value  \\\n",
       "0                         10.0                    10.0                  9.0   \n",
       "1                          9.0                    10.0                  9.0   \n",
       "2                         10.0                     9.0                  9.0   \n",
       "\n",
       "  requires_license license  jurisdiction_names instant_bookable  \\\n",
       "0                t     NaN                 NaN                f   \n",
       "1                t     NaN                 NaN                f   \n",
       "2                t     NaN                 NaN                f   \n",
       "\n",
       "  is_business_travel_ready          cancellation_policy  \\\n",
       "0                        f  strict_14_with_grace_period   \n",
       "1                        f  strict_14_with_grace_period   \n",
       "2                        f  strict_14_with_grace_period   \n",
       "\n",
       "  require_guest_profile_picture require_guest_phone_verification  \\\n",
       "0                             f                                f   \n",
       "1                             f                                f   \n",
       "2                             f                                f   \n",
       "\n",
       "   calculated_host_listings_count  \\\n",
       "0                               6   \n",
       "1                               1   \n",
       "2                               1   \n",
       "\n",
       "   calculated_host_listings_count_entire_homes  \\\n",
       "0                                            6   \n",
       "1                                            1   \n",
       "2                                            0   \n",
       "\n",
       "   calculated_host_listings_count_private_rooms  \\\n",
       "0                                             0   \n",
       "1                                             0   \n",
       "2                                             1   \n",
       "\n",
       "   calculated_host_listings_count_shared_rooms  reviews_per_month  \n",
       "0                                            0               2.84  \n",
       "1                                            0               1.13  \n",
       "2                                            0               0.35  "
      ]
     },
     "execution_count": 1380,
     "metadata": {},
     "output_type": "execute_result"
    }
   ],
   "source": [
    "# Display contents of listings.csv.gz as well as its shape\n",
    "data_2020_01_10_listings_gz = pd.read_csv(\"data/2020-01_listings.csv.gz\")\n",
    "print(data_2020_01_10_listings_gz.shape)\n",
    "data_2020_01_10_listings_gz.head(3)"
   ]
  },
  {
   "cell_type": "markdown",
   "metadata": {},
   "source": [
    "**listings.csv**"
   ]
  },
  {
   "cell_type": "code",
   "execution_count": 1381,
   "metadata": {
    "code_folding": [
     0
    ]
   },
   "outputs": [
    {
     "name": "stdout",
     "output_type": "stream",
     "text": [
      "(25197, 16)\n"
     ]
    },
    {
     "data": {
      "text/html": [
       "<div>\n",
       "<style scoped>\n",
       "    .dataframe tbody tr th:only-of-type {\n",
       "        vertical-align: middle;\n",
       "    }\n",
       "\n",
       "    .dataframe tbody tr th {\n",
       "        vertical-align: top;\n",
       "    }\n",
       "\n",
       "    .dataframe thead th {\n",
       "        text-align: right;\n",
       "    }\n",
       "</style>\n",
       "<table border=\"1\" class=\"dataframe\">\n",
       "  <thead>\n",
       "    <tr style=\"text-align: right;\">\n",
       "      <th></th>\n",
       "      <th>id</th>\n",
       "      <th>name</th>\n",
       "      <th>host_id</th>\n",
       "      <th>host_name</th>\n",
       "      <th>neighbourhood_group</th>\n",
       "      <th>neighbourhood</th>\n",
       "      <th>latitude</th>\n",
       "      <th>longitude</th>\n",
       "      <th>room_type</th>\n",
       "      <th>price</th>\n",
       "      <th>minimum_nights</th>\n",
       "      <th>number_of_reviews</th>\n",
       "      <th>last_review</th>\n",
       "      <th>reviews_per_month</th>\n",
       "      <th>calculated_host_listings_count</th>\n",
       "      <th>availability_365</th>\n",
       "    </tr>\n",
       "  </thead>\n",
       "  <tbody>\n",
       "    <tr>\n",
       "      <th>0</th>\n",
       "      <td>3176</td>\n",
       "      <td>Fabulous Flat in great Location</td>\n",
       "      <td>3718</td>\n",
       "      <td>Britta</td>\n",
       "      <td>Pankow</td>\n",
       "      <td>Prenzlauer Berg Südwest</td>\n",
       "      <td>52.53500</td>\n",
       "      <td>13.41758</td>\n",
       "      <td>Entire home/apt</td>\n",
       "      <td>90</td>\n",
       "      <td>62</td>\n",
       "      <td>145</td>\n",
       "      <td>2019-06-27</td>\n",
       "      <td>1.12</td>\n",
       "      <td>1</td>\n",
       "      <td>221</td>\n",
       "    </tr>\n",
       "    <tr>\n",
       "      <th>1</th>\n",
       "      <td>3309</td>\n",
       "      <td>BerlinSpot Schöneberg near KaDeWe</td>\n",
       "      <td>4108</td>\n",
       "      <td>Jana</td>\n",
       "      <td>Tempelhof - Schöneberg</td>\n",
       "      <td>Schöneberg-Nord</td>\n",
       "      <td>52.49885</td>\n",
       "      <td>13.34906</td>\n",
       "      <td>Private room</td>\n",
       "      <td>28</td>\n",
       "      <td>7</td>\n",
       "      <td>27</td>\n",
       "      <td>2019-05-31</td>\n",
       "      <td>0.34</td>\n",
       "      <td>1</td>\n",
       "      <td>293</td>\n",
       "    </tr>\n",
       "  </tbody>\n",
       "</table>\n",
       "</div>"
      ],
      "text/plain": [
       "     id                               name  host_id host_name  \\\n",
       "0  3176    Fabulous Flat in great Location     3718    Britta   \n",
       "1  3309  BerlinSpot Schöneberg near KaDeWe     4108      Jana   \n",
       "\n",
       "      neighbourhood_group            neighbourhood  latitude  longitude  \\\n",
       "0                  Pankow  Prenzlauer Berg Südwest  52.53500   13.41758   \n",
       "1  Tempelhof - Schöneberg          Schöneberg-Nord  52.49885   13.34906   \n",
       "\n",
       "         room_type  price  minimum_nights  number_of_reviews last_review  \\\n",
       "0  Entire home/apt     90              62                145  2019-06-27   \n",
       "1     Private room     28               7                 27  2019-05-31   \n",
       "\n",
       "   reviews_per_month  calculated_host_listings_count  availability_365  \n",
       "0               1.12                               1               221  \n",
       "1               0.34                               1               293  "
      ]
     },
     "execution_count": 1381,
     "metadata": {},
     "output_type": "execute_result"
    }
   ],
   "source": [
    "# Display contents of listings.csv as well as its shape\n",
    "data_2020_02_18_listings = pd.read_csv(\"data/2020-02-18/listings.csv\")\n",
    "print(data_2020_02_18_listings.shape)\n",
    "data_2020_02_18_listings.head(2)"
   ]
  },
  {
   "cell_type": "markdown",
   "metadata": {},
   "source": [
    "**reviews.csv.gz**"
   ]
  },
  {
   "cell_type": "code",
   "execution_count": 1382,
   "metadata": {
    "code_folding": [
     0
    ]
   },
   "outputs": [
    {
     "name": "stdout",
     "output_type": "stream",
     "text": [
      "(543302, 6)\n"
     ]
    },
    {
     "data": {
      "text/html": [
       "<div>\n",
       "<style scoped>\n",
       "    .dataframe tbody tr th:only-of-type {\n",
       "        vertical-align: middle;\n",
       "    }\n",
       "\n",
       "    .dataframe tbody tr th {\n",
       "        vertical-align: top;\n",
       "    }\n",
       "\n",
       "    .dataframe thead th {\n",
       "        text-align: right;\n",
       "    }\n",
       "</style>\n",
       "<table border=\"1\" class=\"dataframe\">\n",
       "  <thead>\n",
       "    <tr style=\"text-align: right;\">\n",
       "      <th></th>\n",
       "      <th>listing_id</th>\n",
       "      <th>id</th>\n",
       "      <th>date</th>\n",
       "      <th>reviewer_id</th>\n",
       "      <th>reviewer_name</th>\n",
       "      <th>comments</th>\n",
       "    </tr>\n",
       "  </thead>\n",
       "  <tbody>\n",
       "    <tr>\n",
       "      <th>0</th>\n",
       "      <td>3176</td>\n",
       "      <td>4283</td>\n",
       "      <td>2009-06-20</td>\n",
       "      <td>21475</td>\n",
       "      <td>Milan</td>\n",
       "      <td>excellent stay, i would highly recommend it. a...</td>\n",
       "    </tr>\n",
       "    <tr>\n",
       "      <th>1</th>\n",
       "      <td>3176</td>\n",
       "      <td>134722</td>\n",
       "      <td>2010-11-07</td>\n",
       "      <td>263467</td>\n",
       "      <td>George</td>\n",
       "      <td>Britta's apartment in Berlin is in a great are...</td>\n",
       "    </tr>\n",
       "  </tbody>\n",
       "</table>\n",
       "</div>"
      ],
      "text/plain": [
       "   listing_id      id        date  reviewer_id reviewer_name  \\\n",
       "0        3176    4283  2009-06-20        21475         Milan   \n",
       "1        3176  134722  2010-11-07       263467        George   \n",
       "\n",
       "                                            comments  \n",
       "0  excellent stay, i would highly recommend it. a...  \n",
       "1  Britta's apartment in Berlin is in a great are...  "
      ]
     },
     "execution_count": 1382,
     "metadata": {},
     "output_type": "execute_result"
    }
   ],
   "source": [
    "# Display contents of reviews.csv.gz as well as its shape\n",
    "data_2020_02_18_reviews_gz = pd.read_csv(\"data/2020-02-18/reviews.csv.gz\")\n",
    "print(data_2020_02_18_reviews_gz.shape)\n",
    "data_2020_02_18_reviews_gz.head(2)"
   ]
  },
  {
   "cell_type": "markdown",
   "metadata": {},
   "source": [
    "**reviews.csv**"
   ]
  },
  {
   "cell_type": "code",
   "execution_count": 1383,
   "metadata": {
    "code_folding": [
     0
    ]
   },
   "outputs": [
    {
     "name": "stdout",
     "output_type": "stream",
     "text": [
      "(543302, 2)\n"
     ]
    },
    {
     "data": {
      "text/html": [
       "<div>\n",
       "<style scoped>\n",
       "    .dataframe tbody tr th:only-of-type {\n",
       "        vertical-align: middle;\n",
       "    }\n",
       "\n",
       "    .dataframe tbody tr th {\n",
       "        vertical-align: top;\n",
       "    }\n",
       "\n",
       "    .dataframe thead th {\n",
       "        text-align: right;\n",
       "    }\n",
       "</style>\n",
       "<table border=\"1\" class=\"dataframe\">\n",
       "  <thead>\n",
       "    <tr style=\"text-align: right;\">\n",
       "      <th></th>\n",
       "      <th>listing_id</th>\n",
       "      <th>date</th>\n",
       "    </tr>\n",
       "  </thead>\n",
       "  <tbody>\n",
       "    <tr>\n",
       "      <th>0</th>\n",
       "      <td>3176</td>\n",
       "      <td>2009-06-20</td>\n",
       "    </tr>\n",
       "    <tr>\n",
       "      <th>1</th>\n",
       "      <td>3176</td>\n",
       "      <td>2010-11-07</td>\n",
       "    </tr>\n",
       "  </tbody>\n",
       "</table>\n",
       "</div>"
      ],
      "text/plain": [
       "   listing_id        date\n",
       "0        3176  2009-06-20\n",
       "1        3176  2010-11-07"
      ]
     },
     "execution_count": 1383,
     "metadata": {},
     "output_type": "execute_result"
    }
   ],
   "source": [
    "# Display contents of reviews.csv as well as its shape\n",
    "data_2020_02_18_reviews = pd.read_csv(\"data/2020-02-18/reviews.csv\")\n",
    "print(data_2020_02_18_reviews.shape)\n",
    "data_2020_02_18_reviews.head(2)"
   ]
  },
  {
   "cell_type": "markdown",
   "metadata": {},
   "source": [
    "**calendar.csv.gz**"
   ]
  },
  {
   "cell_type": "code",
   "execution_count": 1384,
   "metadata": {
    "code_folding": [
     0
    ]
   },
   "outputs": [
    {
     "ename": "KeyboardInterrupt",
     "evalue": "",
     "output_type": "error",
     "traceback": [
      "\u001b[0;31m---------------------------------------------------------------------------\u001b[0m",
      "\u001b[0;31mKeyboardInterrupt\u001b[0m                         Traceback (most recent call last)",
      "\u001b[0;32m<ipython-input-1384-f002e6747a77>\u001b[0m in \u001b[0;36m<module>\u001b[0;34m\u001b[0m\n\u001b[1;32m      1\u001b[0m \u001b[0;31m# Display contents of calendar.csv.gz as well as its shape\u001b[0m\u001b[0;34m\u001b[0m\u001b[0;34m\u001b[0m\u001b[0;34m\u001b[0m\u001b[0m\n\u001b[0;32m----> 2\u001b[0;31m \u001b[0mdata_2020_02_18_cal\u001b[0m \u001b[0;34m=\u001b[0m \u001b[0mpd\u001b[0m\u001b[0;34m.\u001b[0m\u001b[0mread_csv\u001b[0m\u001b[0;34m(\u001b[0m\u001b[0;34m\"data/2020-02-18/calendar.csv.gz\"\u001b[0m\u001b[0;34m)\u001b[0m\u001b[0;34m\u001b[0m\u001b[0;34m\u001b[0m\u001b[0m\n\u001b[0m\u001b[1;32m      3\u001b[0m \u001b[0mprint\u001b[0m\u001b[0;34m(\u001b[0m\u001b[0mdata_2020_02_18_cal\u001b[0m\u001b[0;34m.\u001b[0m\u001b[0mshape\u001b[0m\u001b[0;34m)\u001b[0m\u001b[0;34m\u001b[0m\u001b[0;34m\u001b[0m\u001b[0m\n\u001b[1;32m      4\u001b[0m \u001b[0mdata_2020_02_18_cal\u001b[0m\u001b[0;34m.\u001b[0m\u001b[0mhead\u001b[0m\u001b[0;34m(\u001b[0m\u001b[0;36m2\u001b[0m\u001b[0;34m)\u001b[0m\u001b[0;34m\u001b[0m\u001b[0;34m\u001b[0m\u001b[0m\n",
      "\u001b[0;32m/opt/anaconda3/envs/nf/lib/python3.6/site-packages/pandas/io/parsers.py\u001b[0m in \u001b[0;36mparser_f\u001b[0;34m(filepath_or_buffer, sep, delimiter, header, names, index_col, usecols, squeeze, prefix, mangle_dupe_cols, dtype, engine, converters, true_values, false_values, skipinitialspace, skiprows, skipfooter, nrows, na_values, keep_default_na, na_filter, verbose, skip_blank_lines, parse_dates, infer_datetime_format, keep_date_col, date_parser, dayfirst, cache_dates, iterator, chunksize, compression, thousands, decimal, lineterminator, quotechar, quoting, doublequote, escapechar, comment, encoding, dialect, error_bad_lines, warn_bad_lines, delim_whitespace, low_memory, memory_map, float_precision)\u001b[0m\n\u001b[1;32m    674\u001b[0m         )\n\u001b[1;32m    675\u001b[0m \u001b[0;34m\u001b[0m\u001b[0m\n\u001b[0;32m--> 676\u001b[0;31m         \u001b[0;32mreturn\u001b[0m \u001b[0m_read\u001b[0m\u001b[0;34m(\u001b[0m\u001b[0mfilepath_or_buffer\u001b[0m\u001b[0;34m,\u001b[0m \u001b[0mkwds\u001b[0m\u001b[0;34m)\u001b[0m\u001b[0;34m\u001b[0m\u001b[0;34m\u001b[0m\u001b[0m\n\u001b[0m\u001b[1;32m    677\u001b[0m \u001b[0;34m\u001b[0m\u001b[0m\n\u001b[1;32m    678\u001b[0m     \u001b[0mparser_f\u001b[0m\u001b[0;34m.\u001b[0m\u001b[0m__name__\u001b[0m \u001b[0;34m=\u001b[0m \u001b[0mname\u001b[0m\u001b[0;34m\u001b[0m\u001b[0;34m\u001b[0m\u001b[0m\n",
      "\u001b[0;32m/opt/anaconda3/envs/nf/lib/python3.6/site-packages/pandas/io/parsers.py\u001b[0m in \u001b[0;36m_read\u001b[0;34m(filepath_or_buffer, kwds)\u001b[0m\n\u001b[1;32m    452\u001b[0m \u001b[0;34m\u001b[0m\u001b[0m\n\u001b[1;32m    453\u001b[0m     \u001b[0;32mtry\u001b[0m\u001b[0;34m:\u001b[0m\u001b[0;34m\u001b[0m\u001b[0;34m\u001b[0m\u001b[0m\n\u001b[0;32m--> 454\u001b[0;31m         \u001b[0mdata\u001b[0m \u001b[0;34m=\u001b[0m \u001b[0mparser\u001b[0m\u001b[0;34m.\u001b[0m\u001b[0mread\u001b[0m\u001b[0;34m(\u001b[0m\u001b[0mnrows\u001b[0m\u001b[0;34m)\u001b[0m\u001b[0;34m\u001b[0m\u001b[0;34m\u001b[0m\u001b[0m\n\u001b[0m\u001b[1;32m    455\u001b[0m     \u001b[0;32mfinally\u001b[0m\u001b[0;34m:\u001b[0m\u001b[0;34m\u001b[0m\u001b[0;34m\u001b[0m\u001b[0m\n\u001b[1;32m    456\u001b[0m         \u001b[0mparser\u001b[0m\u001b[0;34m.\u001b[0m\u001b[0mclose\u001b[0m\u001b[0;34m(\u001b[0m\u001b[0;34m)\u001b[0m\u001b[0;34m\u001b[0m\u001b[0;34m\u001b[0m\u001b[0m\n",
      "\u001b[0;32m/opt/anaconda3/envs/nf/lib/python3.6/site-packages/pandas/io/parsers.py\u001b[0m in \u001b[0;36mread\u001b[0;34m(self, nrows)\u001b[0m\n\u001b[1;32m   1131\u001b[0m     \u001b[0;32mdef\u001b[0m \u001b[0mread\u001b[0m\u001b[0;34m(\u001b[0m\u001b[0mself\u001b[0m\u001b[0;34m,\u001b[0m \u001b[0mnrows\u001b[0m\u001b[0;34m=\u001b[0m\u001b[0;32mNone\u001b[0m\u001b[0;34m)\u001b[0m\u001b[0;34m:\u001b[0m\u001b[0;34m\u001b[0m\u001b[0;34m\u001b[0m\u001b[0m\n\u001b[1;32m   1132\u001b[0m         \u001b[0mnrows\u001b[0m \u001b[0;34m=\u001b[0m \u001b[0m_validate_integer\u001b[0m\u001b[0;34m(\u001b[0m\u001b[0;34m\"nrows\"\u001b[0m\u001b[0;34m,\u001b[0m \u001b[0mnrows\u001b[0m\u001b[0;34m)\u001b[0m\u001b[0;34m\u001b[0m\u001b[0;34m\u001b[0m\u001b[0m\n\u001b[0;32m-> 1133\u001b[0;31m         \u001b[0mret\u001b[0m \u001b[0;34m=\u001b[0m \u001b[0mself\u001b[0m\u001b[0;34m.\u001b[0m\u001b[0m_engine\u001b[0m\u001b[0;34m.\u001b[0m\u001b[0mread\u001b[0m\u001b[0;34m(\u001b[0m\u001b[0mnrows\u001b[0m\u001b[0;34m)\u001b[0m\u001b[0;34m\u001b[0m\u001b[0;34m\u001b[0m\u001b[0m\n\u001b[0m\u001b[1;32m   1134\u001b[0m \u001b[0;34m\u001b[0m\u001b[0m\n\u001b[1;32m   1135\u001b[0m         \u001b[0;31m# May alter columns / col_dict\u001b[0m\u001b[0;34m\u001b[0m\u001b[0;34m\u001b[0m\u001b[0;34m\u001b[0m\u001b[0m\n",
      "\u001b[0;32m/opt/anaconda3/envs/nf/lib/python3.6/site-packages/pandas/io/parsers.py\u001b[0m in \u001b[0;36mread\u001b[0;34m(self, nrows)\u001b[0m\n\u001b[1;32m   2035\u001b[0m     \u001b[0;32mdef\u001b[0m \u001b[0mread\u001b[0m\u001b[0;34m(\u001b[0m\u001b[0mself\u001b[0m\u001b[0;34m,\u001b[0m \u001b[0mnrows\u001b[0m\u001b[0;34m=\u001b[0m\u001b[0;32mNone\u001b[0m\u001b[0;34m)\u001b[0m\u001b[0;34m:\u001b[0m\u001b[0;34m\u001b[0m\u001b[0;34m\u001b[0m\u001b[0m\n\u001b[1;32m   2036\u001b[0m         \u001b[0;32mtry\u001b[0m\u001b[0;34m:\u001b[0m\u001b[0;34m\u001b[0m\u001b[0;34m\u001b[0m\u001b[0m\n\u001b[0;32m-> 2037\u001b[0;31m             \u001b[0mdata\u001b[0m \u001b[0;34m=\u001b[0m \u001b[0mself\u001b[0m\u001b[0;34m.\u001b[0m\u001b[0m_reader\u001b[0m\u001b[0;34m.\u001b[0m\u001b[0mread\u001b[0m\u001b[0;34m(\u001b[0m\u001b[0mnrows\u001b[0m\u001b[0;34m)\u001b[0m\u001b[0;34m\u001b[0m\u001b[0;34m\u001b[0m\u001b[0m\n\u001b[0m\u001b[1;32m   2038\u001b[0m         \u001b[0;32mexcept\u001b[0m \u001b[0mStopIteration\u001b[0m\u001b[0;34m:\u001b[0m\u001b[0;34m\u001b[0m\u001b[0;34m\u001b[0m\u001b[0m\n\u001b[1;32m   2039\u001b[0m             \u001b[0;32mif\u001b[0m \u001b[0mself\u001b[0m\u001b[0;34m.\u001b[0m\u001b[0m_first_chunk\u001b[0m\u001b[0;34m:\u001b[0m\u001b[0;34m\u001b[0m\u001b[0;34m\u001b[0m\u001b[0m\n",
      "\u001b[0;32mpandas/_libs/parsers.pyx\u001b[0m in \u001b[0;36mpandas._libs.parsers.TextReader.read\u001b[0;34m()\u001b[0m\n",
      "\u001b[0;32mpandas/_libs/parsers.pyx\u001b[0m in \u001b[0;36mpandas._libs.parsers.TextReader._read_low_memory\u001b[0;34m()\u001b[0m\n",
      "\u001b[0;32mpandas/_libs/parsers.pyx\u001b[0m in \u001b[0;36mpandas._libs.parsers.TextReader._read_rows\u001b[0;34m()\u001b[0m\n",
      "\u001b[0;32mpandas/_libs/parsers.pyx\u001b[0m in \u001b[0;36mpandas._libs.parsers.TextReader._convert_column_data\u001b[0;34m()\u001b[0m\n",
      "\u001b[0;32mpandas/_libs/parsers.pyx\u001b[0m in \u001b[0;36mpandas._libs.parsers.TextReader._convert_tokens\u001b[0;34m()\u001b[0m\n",
      "\u001b[0;32mpandas/_libs/parsers.pyx\u001b[0m in \u001b[0;36mpandas._libs.parsers.TextReader._convert_with_dtype\u001b[0;34m()\u001b[0m\n",
      "\u001b[0;32m/opt/anaconda3/envs/nf/lib/python3.6/site-packages/pandas/core/dtypes/common.py\u001b[0m in \u001b[0;36mis_categorical_dtype\u001b[0;34m(arr_or_dtype)\u001b[0m\n\u001b[1;32m    540\u001b[0m \u001b[0;34m\u001b[0m\u001b[0m\n\u001b[1;32m    541\u001b[0m \u001b[0;34m\u001b[0m\u001b[0m\n\u001b[0;32m--> 542\u001b[0;31m \u001b[0;32mdef\u001b[0m \u001b[0mis_categorical_dtype\u001b[0m\u001b[0;34m(\u001b[0m\u001b[0marr_or_dtype\u001b[0m\u001b[0;34m)\u001b[0m \u001b[0;34m->\u001b[0m \u001b[0mbool\u001b[0m\u001b[0;34m:\u001b[0m\u001b[0;34m\u001b[0m\u001b[0;34m\u001b[0m\u001b[0m\n\u001b[0m\u001b[1;32m    543\u001b[0m     \"\"\"\n\u001b[1;32m    544\u001b[0m     \u001b[0mCheck\u001b[0m \u001b[0mwhether\u001b[0m \u001b[0man\u001b[0m \u001b[0marray\u001b[0m\u001b[0;34m-\u001b[0m\u001b[0mlike\u001b[0m \u001b[0;32mor\u001b[0m \u001b[0mdtype\u001b[0m \u001b[0;32mis\u001b[0m \u001b[0mof\u001b[0m \u001b[0mthe\u001b[0m \u001b[0mCategorical\u001b[0m \u001b[0mdtype\u001b[0m\u001b[0;34m.\u001b[0m\u001b[0;34m\u001b[0m\u001b[0;34m\u001b[0m\u001b[0m\n",
      "\u001b[0;31mKeyboardInterrupt\u001b[0m: "
     ]
    }
   ],
   "source": [
    "# Display contents of calendar.csv.gz as well as its shape\n",
    "data_2020_02_18_cal = pd.read_csv(\"data/2020-02-18/calendar.csv.gz\")\n",
    "print(data_2020_02_18_cal.shape)\n",
    "data_2020_02_18_cal.head(2)"
   ]
  },
  {
   "cell_type": "markdown",
   "metadata": {},
   "source": [
    "**neighbourhoods.csv**"
   ]
  },
  {
   "cell_type": "code",
   "execution_count": null,
   "metadata": {
    "code_folding": [
     0
    ]
   },
   "outputs": [],
   "source": [
    "# Display contents of neighbourhoods.csv as well as its shape\n",
    "data_2020_02_18_neighb = pd.read_csv(\"data/2020-02-18/neighbourhoods.csv\")\n",
    "print(data_2020_02_18_neighb.shape)\n",
    "data_2020_02_18_neighb.head(2)"
   ]
  },
  {
   "cell_type": "markdown",
   "metadata": {},
   "source": [
    "**neighbourhoods.geojson**"
   ]
  },
  {
   "cell_type": "code",
   "execution_count": null,
   "metadata": {
    "code_folding": [
     0
    ]
   },
   "outputs": [],
   "source": [
    "# Display contents of neighbourhoods.geojson as well as its shape\n",
    "data_2020_02_18_neighb_geojson = gpd.read_file('data/2020-02-18/neighbourhoods.geojson')\n",
    "print(data_2020_02_18_neighb_geojson.shape)\n",
    "data_2020_02_18_neighb_geojson.head(2)"
   ]
  },
  {
   "cell_type": "markdown",
   "metadata": {},
   "source": [
    "## Data Import"
   ]
  },
  {
   "cell_type": "markdown",
   "metadata": {},
   "source": [
    "**Create main dataset (listings on January 10th, i.e. pre-COVID-19)**"
   ]
  },
  {
   "cell_type": "code",
   "execution_count": null,
   "metadata": {
    "code_folding": []
   },
   "outputs": [],
   "source": [
    "# Import dataset as DataFrame (as csv-file)\n",
    "data_raw = pd.read_csv(\"data/2020-01_listings.csv.gz\")"
   ]
  },
  {
   "cell_type": "code",
   "execution_count": null,
   "metadata": {
    "code_folding": [
     0
    ]
   },
   "outputs": [],
   "source": [
    "# Assign data_raw to data (in order to always keep a freshly imported data_raw) and set id as index\n",
    "data = data_raw.copy()\n",
    "data.set_index('id', inplace=True)"
   ]
  },
  {
   "cell_type": "markdown",
   "metadata": {},
   "source": [
    "# Data Cleaning"
   ]
  },
  {
   "cell_type": "markdown",
   "metadata": {},
   "source": [
    "## Pre-cleaning"
   ]
  },
  {
   "cell_type": "code",
   "execution_count": null,
   "metadata": {
    "code_folding": [
     0
    ]
   },
   "outputs": [],
   "source": [
    "# Display shape of \"data\"\n",
    "data.shape"
   ]
  },
  {
   "cell_type": "code",
   "execution_count": null,
   "metadata": {
    "code_folding": [
     0
    ]
   },
   "outputs": [],
   "source": [
    "# Display head(1) of \"data\"\n",
    "data.head(1)"
   ]
  },
  {
   "cell_type": "code",
   "execution_count": null,
   "metadata": {
    "code_folding": [
     0
    ]
   },
   "outputs": [],
   "source": [
    "# Display columns of \"data\"\n",
    "#data.columns"
   ]
  },
  {
   "cell_type": "code",
   "execution_count": null,
   "metadata": {
    "code_folding": [
     0
    ]
   },
   "outputs": [],
   "source": [
    "# Define columns for pre-cleaning drop\n",
    "drop_columns = ['access', 'availability_30',\n",
    "       'availability_60',# 'availability_90',\n",
    "       'calculated_host_listings_count_entire_homes',\n",
    "       'calculated_host_listings_count_private_rooms',\n",
    "       'calculated_host_listings_count_shared_rooms', 'calendar_last_scraped',\n",
    "       'calendar_updated', 'city', \n",
    "       'country', 'country_code', \n",
    "#       'first_review', \n",
    "       'host_about', 'host_id',\n",
    "       'host_name', 'host_neighbourhood', 'host_picture_url',\n",
    "       'host_thumbnail_url', 'host_total_listings_count', 'host_since', 'host_url',\n",
    "       'host_verifications', 'jurisdiction_names', \n",
    "#       'last_review', \n",
    "       'last_scraped',\n",
    "       'license', 'listing_url', 'market',\n",
    "       'maximum_maximum_nights', 'maximum_minimum_nights',\n",
    "       'maximum_nights_avg_ntm', 'medium_url', 'minimum_maximum_nights',\n",
    "       'minimum_minimum_nights', 'minimum_nights_avg_ntm',\n",
    "       'neighbourhood_cleansed', 'neighbourhood_group_cleansed',\n",
    "       'picture_url', 'review_scores_accuracy',\n",
    "       'review_scores_checkin', 'review_scores_cleanliness',\n",
    "       'review_scores_communication', 'review_scores_location', \n",
    "       'review_scores_value', 'scrape_id',\n",
    "       'smart_location', 'state', 'street', \n",
    "       'thumbnail_url', 'xl_picture_url']"
   ]
  },
  {
   "cell_type": "code",
   "execution_count": null,
   "metadata": {
    "code_folding": [
     0
    ]
   },
   "outputs": [],
   "source": [
    "# Drop innecessary columns\n",
    "data.drop(labels=drop_columns, inplace=True, axis=1)"
   ]
  },
  {
   "cell_type": "markdown",
   "metadata": {},
   "source": [
    "## Inspection"
   ]
  },
  {
   "cell_type": "code",
   "execution_count": null,
   "metadata": {
    "code_folding": [
     0
    ]
   },
   "outputs": [],
   "source": [
    "# Display shape of \"data\"\n",
    "data.shape"
   ]
  },
  {
   "cell_type": "code",
   "execution_count": null,
   "metadata": {
    "code_folding": [
     0
    ]
   },
   "outputs": [],
   "source": [
    "# Display head(5) of remaining \"data\"\n",
    "data.head(5)"
   ]
  },
  {
   "cell_type": "code",
   "execution_count": null,
   "metadata": {
    "code_folding": [
     0
    ]
   },
   "outputs": [],
   "source": [
    "# Describe data (summary)\n",
    "data.describe().round(2).T"
   ]
  },
  {
   "cell_type": "code",
   "execution_count": null,
   "metadata": {
    "code_folding": [
     0
    ]
   },
   "outputs": [],
   "source": [
    "# List datatypes (data.info()) (pre-cleaning)\n",
    "data.info()"
   ]
  },
  {
   "cell_type": "code",
   "execution_count": null,
   "metadata": {
    "code_folding": [],
    "scrolled": true
   },
   "outputs": [],
   "source": [
    "# Show maximum/minimum value for each numerical column\n",
    "#num_features = list(data.columns[data.dtypes!=object])\n",
    "#data[num_features].max()\n",
    "#data[num_features].min()"
   ]
  },
  {
   "cell_type": "markdown",
   "metadata": {},
   "source": [
    "Several rows with unusually high values can be identified and may in some cases be dropped at a certain threshold during data handling. Some particular features include:\n",
    "\n",
    "| **FEATURE** | **MAX_VALUE** |\n",
    "| :----- | :----- |\n",
    "| **calculated_host_listings_count** | 55 |\n",
    "| **accommodates** | 16 |\n",
    "| **bedrooms** | 12 |\n",
    "| **beds** | 24 |\n",
    "| **minimum_nights** | 1.124 |\n",
    "| **maximum_nights** | 10.000 |\n",
    "| **number_of_reviews_ltm** | 516 (potentially misleading; actually had less reviews on Airbnb |\n",
    "| **price** | 8.983 |"
   ]
  },
  {
   "cell_type": "code",
   "execution_count": null,
   "metadata": {
    "code_folding": [
     0
    ]
   },
   "outputs": [],
   "source": [
    "# List unique entries per column\n",
    "data.nunique()"
   ]
  },
  {
   "cell_type": "code",
   "execution_count": null,
   "metadata": {
    "code_folding": [
     0
    ]
   },
   "outputs": [],
   "source": [
    "# List missing values (pre-cleaning)\n",
    "\n",
    "def count_missing(data):\n",
    "    null_cols = data.columns[data.isnull().any(axis=0)]\n",
    "    X_null = data[null_cols].isnull().sum()\n",
    "    X_null = X_null.sort_values(ascending=False)\n",
    "    print(X_null)\n",
    "    \n",
    "count_missing(data)"
   ]
  },
  {
   "cell_type": "markdown",
   "metadata": {},
   "source": [
    "## Observations\n",
    "\n",
    "- **host_response_rate** and **host_response_time** are unfortunately not available for half of the dataset and consequently the columns have been removed\n",
    "- **review_scores** are difficult to replace if they do not exist, but at 0 they will distort the modeling. Hence, missing values are set to mean of the column\n",
    "- listings without **name** and the few rows without enhanced **host information** (e.g. superhost), **bedrooms** or **bathrooms** are removed and not substantial in number\n",
    "- missing values for **summary** and **description** are replaced with \"\" and kept in order to calculate length during feature engineering\n",
    "- several features with missing values will be directly converted to 1/0 for simplification (**house_rules, security_deposit, space, cleaning_fee, monthly_price, weekly_price**)\n"
   ]
  },
  {
   "cell_type": "markdown",
   "metadata": {},
   "source": [
    "## Data Handling"
   ]
  },
  {
   "cell_type": "markdown",
   "metadata": {},
   "source": [
    "**Handle missing/incorrect values**"
   ]
  },
  {
   "cell_type": "code",
   "execution_count": null,
   "metadata": {
    "code_folding": [
     0
    ]
   },
   "outputs": [],
   "source": [
    "# Convert columns with missing values to 1/0\n",
    "#data.security_deposit.where(data.security_deposit.isnull(), 1, inplace=True)\n",
    "data.security_deposit.fillna(\"0\", inplace=True)\n",
    "\n",
    "#data.cleaning_fee.where(data.cleaning_fee.isnull(), 1, inplace=True)\n",
    "data.cleaning_fee.fillna(\"0\", inplace=True)\n",
    "\n",
    "#data.monthly_price.where(data.monthly_price.isnull(), 1, inplace=True)\n",
    "data.monthly_price.fillna(\"0\", inplace=True)\n",
    "\n",
    "#data.weekly_price.where(data.weekly_price.isnull(), 1, inplace=True)\n",
    "data.weekly_price.fillna(\"0\", inplace=True)"
   ]
  },
  {
   "cell_type": "code",
   "execution_count": null,
   "metadata": {
    "code_folding": [
     0
    ]
   },
   "outputs": [],
   "source": [
    "# Fill missing values of \"beds\" with 0 and then set all with \"bed_type\" Real Bed to at least 1, those with value \"0\" to 0.5\n",
    "data.beds.fillna(0, inplace=True)\n",
    "data.beds = np.where((data.beds==0) & (data.bed_type==\"Real Bed\"), 1, data.beds)\n",
    "data.beds = np.where((data.beds==0), 0.5, data.beds)"
   ]
  },
  {
   "cell_type": "code",
   "execution_count": null,
   "metadata": {
    "code_folding": [
     0
    ]
   },
   "outputs": [],
   "source": [
    "# Set all with \"bathrooms\" 0 to at least 0.5\n",
    "data.bathrooms = np.where(data.bathrooms==0, 0.5, data.bathrooms)"
   ]
  },
  {
   "cell_type": "code",
   "execution_count": null,
   "metadata": {
    "code_folding": [
     0
    ]
   },
   "outputs": [],
   "source": [
    "# Set all with \"bedrooms\" 0 to at least 0.5\n",
    "data.bedrooms = np.where(data.bedrooms==0, 0.5, data.bedrooms)"
   ]
  },
  {
   "cell_type": "code",
   "execution_count": null,
   "metadata": {
    "code_folding": [
     0
    ]
   },
   "outputs": [],
   "source": [
    "# Fill review_scores with mean\n",
    "data.review_scores_rating.fillna(data.review_scores_rating.mean(), inplace=True)\n",
    "#data.review_scores_value.fillna(data.review_scores_value.mean(), inplace=True)\n",
    "#data.review_scores_checkin.fillna(data.review_scores_checkin.mean(), inplace=True)\n",
    "#data.review_scores_location.fillna(data.review_scores_location.mean(), inplace=True)\n",
    "#data.review_scores_communication.fillna(data.review_scores_communication.mean(), inplace=True)\n",
    "#data.review_scores_accuracy.fillna(data.review_scores_accuracy.mean(), inplace=True)\n",
    "#data.review_scores_cleanliness.fillna(data.review_scores_cleanliness.mean(), inplace=True)"
   ]
  },
  {
   "cell_type": "code",
   "execution_count": null,
   "metadata": {
    "code_folding": [
     0
    ]
   },
   "outputs": [],
   "source": [
    "# Fill missing text values with \"\"\n",
    "data.description.fillna(\"\", inplace=True)\n",
    "data.interaction.fillna(\"\", inplace=True)\n",
    "data.house_rules.fillna(\"\", inplace=True)\n",
    "data.neighborhood_overview.fillna(\"\", inplace=True)\n",
    "data.notes.fillna(\"\", inplace=True)\n",
    "data.space.fillna(\"\", inplace=True)\n",
    "data.summary.fillna(\"\", inplace=True)\n",
    "data.transit.fillna(\"\", inplace=True)"
   ]
  },
  {
   "cell_type": "markdown",
   "metadata": {},
   "source": [
    "**Handle wrong/varying datatypes**"
   ]
  },
  {
   "cell_type": "code",
   "execution_count": null,
   "metadata": {
    "code_folding": [
     0
    ]
   },
   "outputs": [],
   "source": [
    "# Convert numeric objects to float\n",
    "data.cleaning_fee = [float(i.strip(\"$\").replace(\",\",\"\")) for i in data.cleaning_fee]\n",
    "data.extra_people = [float(i.strip(\"$\").replace(\",\",\"\")) for i in data.extra_people]\n",
    "data.monthly_price = [float(i.strip(\"$\").replace(\",\",\"\")) for i in data.monthly_price]\n",
    "data.price = [float(i.strip(\"$\").replace(\",\",\"\")) for i in data.price]\n",
    "data.security_deposit = [float(i.strip(\"$\").replace(\",\",\"\")) for i in data.security_deposit]\n",
    "data.weekly_price = [float(i.strip(\"$\").replace(\",\",\"\")) for i in data.weekly_price]\n",
    "data.zipcode = [\"zip_\"+str(i)[:5] for i in data.zipcode]"
   ]
  },
  {
   "cell_type": "code",
   "execution_count": null,
   "metadata": {
    "code_folding": [
     0
    ]
   },
   "outputs": [],
   "source": [
    "# Convert date objects to datetime\n",
    "data.first_review = data.first_review.astype('datetime64[D]')\n",
    "data.last_review = data.last_review.astype('datetime64[D]')\n"
   ]
  },
  {
   "cell_type": "markdown",
   "metadata": {},
   "source": [
    "**Add select amenities as column to data**"
   ]
  },
  {
   "cell_type": "code",
   "execution_count": null,
   "metadata": {
    "code_folding": [
     0
    ]
   },
   "outputs": [],
   "source": [
    "# Create temporary list with all amenities per listing\n",
    "amenities_temp = [data.amenities[i].strip(\"{\").strip(\"}\").split(',') for i in data.index]"
   ]
  },
  {
   "cell_type": "code",
   "execution_count": null,
   "metadata": {
    "code_folding": [
     0
    ]
   },
   "outputs": [],
   "source": [
    "# Add all amenities to single list in order to count occurrences\n",
    "amenities = []\n",
    "for lst in amenities_temp:\n",
    "    for item in lst:\n",
    "        amenities.append(item)\n",
    "amenities = pd.Series(amenities)"
   ]
  },
  {
   "cell_type": "code",
   "execution_count": null,
   "metadata": {
    "code_folding": [
     0
    ],
    "scrolled": true
   },
   "outputs": [],
   "source": [
    "# Display count of individual amenities\n",
    "#amenities.value_counts()"
   ]
  },
  {
   "cell_type": "markdown",
   "metadata": {},
   "source": [
    "Out of the full list of amenities, not all will have a significant impact on the price. For the purpose of this analysis, an initial selection has been made and then enhanced by some great [previous work](https://github.com/L-Lewis/Airbnb-neural-network-price-prediction/blob/master/Airbnb-price-prediction.ipynb) on selecting relevant amenities. Additionally, most amenities with a split of more than 90/10 between 1/0 have been **removed (strikethrough in the list)** - except for some that were deemed substantial (24-hour check-in, breakfast, essentials, nature and views)\n",
    "\n",
    "| **NEW COLUMN** | **PREVIOUS AMENITY/IES** |\n",
    "| :----- | :----- |\n",
    "| <s>**am_check_in_24h**</s> | <s>24-hour check-in</s> |\n",
    "| **<s>am_air_con</s>** | <s>Air conditioning/central air conditioning</s> |\n",
    "| **am_balcony** | Balcony/patio or balcony |\n",
    "| **am_nature_and_views** | Beach view/beachfront/lake access/mountain view/ski-in ski-out/waterfront (i.e. great location/views) |\n",
    "| **am_breakfast** | Breakfast |\n",
    "| **am_tv** | Cable TV/TV |\n",
    "| **am_coffee_machine** | Coffee maker/espresso machine |\n",
    "| **am_cooking_basics** | Cooking basics |\n",
    "| **am_white_goods** | Dishwasher/Dryer/Washer/Washer and dryer |\n",
    "| **am_elevator** | Elevator |\n",
    "| <s>**am_gym**</s> | <s>Exercise equipment/gym/private gym/shared gym</s> |\n",
    "| **am_essentials** | Essentials |\n",
    "| **am_child_friendly** | Family/kid friendly, or anything containing 'children' |\n",
    "| **am_parking** | Free parking on premises/free street parking/outdoor parking/paid parking off premises/paid parking on premises |\n",
    "| <s>**am_outdoor_space**</s> | <s>Garden or backyard/outdoor seating/sun loungers/terrace</s> |\n",
    "| <s>**am_wellness**</s> | <s>Hot tub/jetted tub/private hot tub/sauna/shared hot tub/pool/private pool/shared pool</s> |\n",
    "| <s>**am_internet**</s> | <s>Internet/pocket wifi/wifi</s> |\n",
    "| **am_pets_allowed** | Pets allowed/cat(s)/dog(s)/pets live on this property/other pet(s) |\n",
    "| **am_private_entrance** | Private entrance |\n",
    "| <s>**am_secure**</s> | <s>Safe/security system</s> |\n",
    "| <s>**am_self_check_in**</s> | <s>Self check-in</s> |\n",
    "| **am_smoking_allowed** | Smoking allowed |"
   ]
  },
  {
   "cell_type": "code",
   "execution_count": null,
   "metadata": {
    "code_folding": [
     0
    ]
   },
   "outputs": [],
   "source": [
    "# Add select amenities as distinct columns to data\n",
    "\n",
    "#data.loc[data.amenities.str.contains('24-hour check-in'), 'am_check_in_24h'] = 1\n",
    "#data.am_check_in_24h.fillna(0, inplace=True)\n",
    "\n",
    "#data.loc[data.amenities.str.contains('Air conditioning|Central air conditioning'), 'am_air_con'] = 1\n",
    "#data.am_air_con.fillna(0, inplace=True)\n",
    "\n",
    "data.loc[data.amenities.str.contains('Balcony|Patio'), 'am_balcony'] = 1\n",
    "data.am_balcony.fillna(0, inplace=True)\n",
    "#print(data.am_balcony.value_counts())\n",
    "\n",
    "data.loc[data.amenities.str.contains('Beach view|Beachfront|Lake access|Mountain view|Ski-in/Ski-out|Waterfront'), 'am_nature_and_views'] = 1\n",
    "data.am_nature_and_views.fillna(0, inplace=True)\n",
    "#print(data.am_nature_and_views.value_counts())\n",
    "\n",
    "data.loc[data.amenities.str.contains('Breakfast'), 'am_breakfast'] = 1\n",
    "data.am_breakfast.fillna(0, inplace=True)\n",
    "#print(data.am_breakfast.value_counts())\n",
    "\n",
    "data.loc[data.amenities.str.contains('TV'), 'am_tv'] = 1\n",
    "data.am_tv.fillna(0, inplace=True)\n",
    "#print(data.am_tv.value_counts())\n",
    "\n",
    "data.loc[data.amenities.str.contains('Coffee maker|Espresso machine'), 'am_coffee_machine'] = 1\n",
    "data.am_coffee_machine.fillna(0, inplace=True)\n",
    "#print(data.am_coffee_machine.value_counts())\n",
    "\n",
    "data.loc[data.amenities.str.contains('Cooking basics'), 'am_cooking_basics'] = 1\n",
    "data.am_cooking_basics.fillna(0, inplace=True)\n",
    "#print(data.am_cooking_basics.value_counts())\n",
    "\n",
    "data.loc[data.amenities.str.contains('Dishwasher|Dryer|Washer'), 'am_white_goods'] = 1\n",
    "data.am_white_goods.fillna(0, inplace=True)\n",
    "#print(data.am_white_goods.value_counts())\n",
    "\n",
    "data.loc[data.amenities.str.contains('Elevator'), 'am_elevator'] = 1\n",
    "data.am_elevator.fillna(0, inplace=True)\n",
    "#print(data.am_elevator.value_counts())\n",
    "\n",
    "data.loc[data.amenities.str.contains('Essentials'), 'am_essentials'] = 1\n",
    "data.am_essentials.fillna(0, inplace=True)\n",
    "#print(data.am_essentials.value_counts())\n",
    "\n",
    "#data.loc[data.amenities.str.contains('Exercise equipment|Gym|gym'), 'am_gym'] = 1\n",
    "#data.am_gym.fillna(0, inplace=True)\n",
    "\n",
    "data.loc[data.amenities.str.contains('Family/kid friendly|Children|children'), 'am_child_friendly'] = 1\n",
    "data.am_child_friendly.fillna(0, inplace=True)\n",
    "#print(data.am_child_friendly.value_counts())\n",
    "\n",
    "data.loc[data.amenities.str.contains('parking'), 'am_parking'] = 1\n",
    "data.am_parking.fillna(0, inplace=True)\n",
    "#print(data.am_parking.value_counts())\n",
    "\n",
    "#data.loc[data.amenities.str.contains('Garden|Outdoor|Sun loungers|Terrace'), 'am_outdoor_space'] = 1\n",
    "#data.am_outdoor_space.fillna(0, inplace=True)\n",
    "\n",
    "#data.loc[data.amenities.str.contains('Hot tub|Jetted tub|hot tub|Sauna|Pool|pool'), 'am_wellness'] = 1\n",
    "#data.am_wellness.fillna(0, inplace=True)\n",
    "\n",
    "#data.loc[data.amenities.str.contains('Internet|Pocket wifi|Wifi'), 'am_internet'] = 1\n",
    "#data.am_internet.fillna(0, inplace=True)\n",
    "\n",
    "data.loc[data.amenities.str.contains('Pets|pet|Cat(s)|Dog(s)'), 'am_pets_allowed'] = 1\n",
    "data.am_pets_allowed.fillna(0, inplace=True)\n",
    "#print(data.am_pets_allowed.value_counts())\n",
    "\n",
    "data.loc[data.amenities.str.contains('Private entrance'), 'am_private_entrance'] = 1\n",
    "data.am_private_entrance.fillna(0, inplace=True)\n",
    "#print(data.am_private_entrance.value_counts())\n",
    "\n",
    "#data.loc[data.amenities.str.contains('Safe|Security system'), 'am_secure'] = 1\n",
    "#data.am_secure.fillna(0, inplace=True)\n",
    "\n",
    "#data.loc[data.amenities.str.contains('Self check-in'), 'am_self_check_in'] = 1\n",
    "#data.am_self_check_in.fillna(0, inplace=True)\n",
    "\n",
    "data.loc[data.amenities.str.contains('Smoking allowed'), 'am_smoking_allowed'] = 1\n",
    "data.am_smoking_allowed.fillna(0, inplace=True)\n",
    "#print(data.am_smoking_allowed.value_counts())\n"
   ]
  },
  {
   "cell_type": "markdown",
   "metadata": {},
   "source": [
    "**Remove low-frequency classes from categorical columns**"
   ]
  },
  {
   "cell_type": "code",
   "execution_count": null,
   "metadata": {
    "code_folding": [
     0
    ]
   },
   "outputs": [],
   "source": [
    "# Change neighbourhoods that make up <0.1% of data to \"other\"\n",
    "data = data.apply(lambda x: x.mask(x.map(x.value_counts())<(0.001*len(data)), 'nb_other') if x.name=='neighbourhood' else x)"
   ]
  },
  {
   "cell_type": "code",
   "execution_count": null,
   "metadata": {
    "code_folding": [
     0
    ]
   },
   "outputs": [],
   "source": [
    "# Change zipcodes that make up <0.1% of data to \"other\"\n",
    "data = data.apply(lambda x: x.mask(x.map(x.value_counts())<(0.001*len(data)), 'zip_other') if x.name=='zipcode' else x)"
   ]
  },
  {
   "cell_type": "markdown",
   "metadata": {},
   "source": [
    "**Drop irrelevant rows**"
   ]
  },
  {
   "cell_type": "code",
   "execution_count": null,
   "metadata": {
    "code_folding": []
   },
   "outputs": [],
   "source": [
    "# Drop irrelevant rows with few missing values\n",
    "data.dropna(subset=[\"name\", \"host_is_superhost\", \"bedrooms\", \"bathrooms\", \"neighbourhood\", \"zipcode\"], inplace=True)"
   ]
  },
  {
   "cell_type": "code",
   "execution_count": null,
   "metadata": {
    "code_folding": [
     0
    ]
   },
   "outputs": [],
   "source": [
    "# Remove non-residential property_types (e.g. hotels, hostels, ...) --> INSTEAD ENGINEERED IN 3 | FEATURE ENGINEERING\n",
    "#data = data[data.property_type.isin([\"Apartment\", \"Condominium\", \"Loft\", \"House\", \"Townhouse\", \n",
    "#                                     \"Guest suite\", \"Bed and breakfast\", \"Bungalow\", \"Villa\"])]"
   ]
  },
  {
   "cell_type": "code",
   "execution_count": null,
   "metadata": {
    "code_folding": [
     0
    ],
    "scrolled": true
   },
   "outputs": [],
   "source": [
    "# Remove \"poor\" listings (value above/below a certain threshold)\n",
    "data = data[data.price < 500]\n",
    "data = data[data.price >= 10]\n",
    "data = data[data.minimum_nights <= 100]"
   ]
  },
  {
   "cell_type": "code",
   "execution_count": null,
   "metadata": {
    "code_folding": [
     0
    ]
   },
   "outputs": [],
   "source": [
    "# Remove listings where \"accommodates\" is lower than \"guests_included\"\n",
    "data = data[data.accommodates-data.guests_included >= 0]"
   ]
  },
  {
   "cell_type": "code",
   "execution_count": null,
   "metadata": {
    "code_folding": [
     0
    ]
   },
   "outputs": [],
   "source": [
    "# Remove listings where \"bedrooms\" - \"beds\" > 2\n",
    "data = data[data.bedrooms-data.beds <= 2]"
   ]
  },
  {
   "cell_type": "code",
   "execution_count": null,
   "metadata": {
    "code_folding": [
     0
    ]
   },
   "outputs": [],
   "source": [
    "# Remove listings where \"beds\" - \"bedrooms\" > 10\n",
    "data = data[data.beds-data.bedrooms <= 10]"
   ]
  },
  {
   "cell_type": "code",
   "execution_count": null,
   "metadata": {
    "code_folding": [
     0
    ]
   },
   "outputs": [],
   "source": [
    "# Remove listings where \"accommodates\" - \"beds\" < 0\n",
    "data = data[data.accommodates-data.beds >= 0]"
   ]
  },
  {
   "cell_type": "code",
   "execution_count": null,
   "metadata": {
    "code_folding": [
     0
    ]
   },
   "outputs": [],
   "source": [
    "# Remove listings where \"monthly_price\" is more than 30x \"price\"\n",
    "data = data[data.monthly_price/data.price <= 30]"
   ]
  },
  {
   "cell_type": "code",
   "execution_count": null,
   "metadata": {
    "code_folding": []
   },
   "outputs": [],
   "source": [
    "# Remove listings where \"weekly_price\" is more than 7x \"price\"\n",
    "data = data[data.weekly_price/data.price <= 7]"
   ]
  },
  {
   "cell_type": "markdown",
   "metadata": {},
   "source": [
    "## Final Check, Cleaning and Export"
   ]
  },
  {
   "cell_type": "code",
   "execution_count": null,
   "metadata": {},
   "outputs": [],
   "source": [
    "data[(data.availability_365==0)&(data.last_review>\"2020-01-28\")]"
   ]
  },
  {
   "cell_type": "code",
   "execution_count": 1342,
   "metadata": {
    "code_folding": []
   },
   "outputs": [
    {
     "ename": "KeyError",
     "evalue": "\"['bed_type' 'experiences_offered' 'has_availability'\\n 'host_acceptance_rate' 'host_location' 'host_response_rate'\\n 'host_response_time' 'requires_license' 'is_business_travel_ready'\\n 'host_has_profile_pic' 'host_listings_count'\\n 'require_guest_profile_picture' 'require_guest_phone_verification'\\n 'reviews_per_month' 'square_feet'] not found in axis\"",
     "output_type": "error",
     "traceback": [
      "\u001b[0;31m---------------------------------------------------------------------------\u001b[0m",
      "\u001b[0;31mKeyError\u001b[0m                                  Traceback (most recent call last)",
      "\u001b[0;32m<ipython-input-1342-1719e696f0f9>\u001b[0m in \u001b[0;36m<module>\u001b[0;34m\u001b[0m\n\u001b[1;32m      4\u001b[0m            \u001b[0;34m\"requires_license\"\u001b[0m\u001b[0;34m,\u001b[0m \u001b[0;34m\"is_business_travel_ready\"\u001b[0m\u001b[0;34m,\u001b[0m \u001b[0;34m\"host_has_profile_pic\"\u001b[0m\u001b[0;34m,\u001b[0m \u001b[0;34m\"host_listings_count\"\u001b[0m\u001b[0;34m,\u001b[0m\u001b[0;34m\u001b[0m\u001b[0;34m\u001b[0m\u001b[0m\n\u001b[1;32m      5\u001b[0m            \u001b[0;34m\"require_guest_profile_picture\"\u001b[0m\u001b[0;34m,\u001b[0m \u001b[0;34m\"require_guest_phone_verification\"\u001b[0m\u001b[0;34m,\u001b[0m\u001b[0;34m\u001b[0m\u001b[0;34m\u001b[0m\u001b[0m\n\u001b[0;32m----> 6\u001b[0;31m            \"reviews_per_month\", \"square_feet\"], inplace=True, axis=1)\n\u001b[0m",
      "\u001b[0;32m/opt/anaconda3/envs/nf/lib/python3.6/site-packages/pandas/core/frame.py\u001b[0m in \u001b[0;36mdrop\u001b[0;34m(self, labels, axis, index, columns, level, inplace, errors)\u001b[0m\n\u001b[1;32m   3995\u001b[0m             \u001b[0mlevel\u001b[0m\u001b[0;34m=\u001b[0m\u001b[0mlevel\u001b[0m\u001b[0;34m,\u001b[0m\u001b[0;34m\u001b[0m\u001b[0;34m\u001b[0m\u001b[0m\n\u001b[1;32m   3996\u001b[0m             \u001b[0minplace\u001b[0m\u001b[0;34m=\u001b[0m\u001b[0minplace\u001b[0m\u001b[0;34m,\u001b[0m\u001b[0;34m\u001b[0m\u001b[0;34m\u001b[0m\u001b[0m\n\u001b[0;32m-> 3997\u001b[0;31m             \u001b[0merrors\u001b[0m\u001b[0;34m=\u001b[0m\u001b[0merrors\u001b[0m\u001b[0;34m,\u001b[0m\u001b[0;34m\u001b[0m\u001b[0;34m\u001b[0m\u001b[0m\n\u001b[0m\u001b[1;32m   3998\u001b[0m         )\n\u001b[1;32m   3999\u001b[0m \u001b[0;34m\u001b[0m\u001b[0m\n",
      "\u001b[0;32m/opt/anaconda3/envs/nf/lib/python3.6/site-packages/pandas/core/generic.py\u001b[0m in \u001b[0;36mdrop\u001b[0;34m(self, labels, axis, index, columns, level, inplace, errors)\u001b[0m\n\u001b[1;32m   3934\u001b[0m         \u001b[0;32mfor\u001b[0m \u001b[0maxis\u001b[0m\u001b[0;34m,\u001b[0m \u001b[0mlabels\u001b[0m \u001b[0;32min\u001b[0m \u001b[0maxes\u001b[0m\u001b[0;34m.\u001b[0m\u001b[0mitems\u001b[0m\u001b[0;34m(\u001b[0m\u001b[0;34m)\u001b[0m\u001b[0;34m:\u001b[0m\u001b[0;34m\u001b[0m\u001b[0;34m\u001b[0m\u001b[0m\n\u001b[1;32m   3935\u001b[0m             \u001b[0;32mif\u001b[0m \u001b[0mlabels\u001b[0m \u001b[0;32mis\u001b[0m \u001b[0;32mnot\u001b[0m \u001b[0;32mNone\u001b[0m\u001b[0;34m:\u001b[0m\u001b[0;34m\u001b[0m\u001b[0;34m\u001b[0m\u001b[0m\n\u001b[0;32m-> 3936\u001b[0;31m                 \u001b[0mobj\u001b[0m \u001b[0;34m=\u001b[0m \u001b[0mobj\u001b[0m\u001b[0;34m.\u001b[0m\u001b[0m_drop_axis\u001b[0m\u001b[0;34m(\u001b[0m\u001b[0mlabels\u001b[0m\u001b[0;34m,\u001b[0m \u001b[0maxis\u001b[0m\u001b[0;34m,\u001b[0m \u001b[0mlevel\u001b[0m\u001b[0;34m=\u001b[0m\u001b[0mlevel\u001b[0m\u001b[0;34m,\u001b[0m \u001b[0merrors\u001b[0m\u001b[0;34m=\u001b[0m\u001b[0merrors\u001b[0m\u001b[0;34m)\u001b[0m\u001b[0;34m\u001b[0m\u001b[0;34m\u001b[0m\u001b[0m\n\u001b[0m\u001b[1;32m   3937\u001b[0m \u001b[0;34m\u001b[0m\u001b[0m\n\u001b[1;32m   3938\u001b[0m         \u001b[0;32mif\u001b[0m \u001b[0minplace\u001b[0m\u001b[0;34m:\u001b[0m\u001b[0;34m\u001b[0m\u001b[0;34m\u001b[0m\u001b[0m\n",
      "\u001b[0;32m/opt/anaconda3/envs/nf/lib/python3.6/site-packages/pandas/core/generic.py\u001b[0m in \u001b[0;36m_drop_axis\u001b[0;34m(self, labels, axis, level, errors)\u001b[0m\n\u001b[1;32m   3968\u001b[0m                 \u001b[0mnew_axis\u001b[0m \u001b[0;34m=\u001b[0m \u001b[0maxis\u001b[0m\u001b[0;34m.\u001b[0m\u001b[0mdrop\u001b[0m\u001b[0;34m(\u001b[0m\u001b[0mlabels\u001b[0m\u001b[0;34m,\u001b[0m \u001b[0mlevel\u001b[0m\u001b[0;34m=\u001b[0m\u001b[0mlevel\u001b[0m\u001b[0;34m,\u001b[0m \u001b[0merrors\u001b[0m\u001b[0;34m=\u001b[0m\u001b[0merrors\u001b[0m\u001b[0;34m)\u001b[0m\u001b[0;34m\u001b[0m\u001b[0;34m\u001b[0m\u001b[0m\n\u001b[1;32m   3969\u001b[0m             \u001b[0;32melse\u001b[0m\u001b[0;34m:\u001b[0m\u001b[0;34m\u001b[0m\u001b[0;34m\u001b[0m\u001b[0m\n\u001b[0;32m-> 3970\u001b[0;31m                 \u001b[0mnew_axis\u001b[0m \u001b[0;34m=\u001b[0m \u001b[0maxis\u001b[0m\u001b[0;34m.\u001b[0m\u001b[0mdrop\u001b[0m\u001b[0;34m(\u001b[0m\u001b[0mlabels\u001b[0m\u001b[0;34m,\u001b[0m \u001b[0merrors\u001b[0m\u001b[0;34m=\u001b[0m\u001b[0merrors\u001b[0m\u001b[0;34m)\u001b[0m\u001b[0;34m\u001b[0m\u001b[0;34m\u001b[0m\u001b[0m\n\u001b[0m\u001b[1;32m   3971\u001b[0m             \u001b[0mresult\u001b[0m \u001b[0;34m=\u001b[0m \u001b[0mself\u001b[0m\u001b[0;34m.\u001b[0m\u001b[0mreindex\u001b[0m\u001b[0;34m(\u001b[0m\u001b[0;34m**\u001b[0m\u001b[0;34m{\u001b[0m\u001b[0maxis_name\u001b[0m\u001b[0;34m:\u001b[0m \u001b[0mnew_axis\u001b[0m\u001b[0;34m}\u001b[0m\u001b[0;34m)\u001b[0m\u001b[0;34m\u001b[0m\u001b[0;34m\u001b[0m\u001b[0m\n\u001b[1;32m   3972\u001b[0m \u001b[0;34m\u001b[0m\u001b[0m\n",
      "\u001b[0;32m/opt/anaconda3/envs/nf/lib/python3.6/site-packages/pandas/core/indexes/base.py\u001b[0m in \u001b[0;36mdrop\u001b[0;34m(self, labels, errors)\u001b[0m\n\u001b[1;32m   5016\u001b[0m         \u001b[0;32mif\u001b[0m \u001b[0mmask\u001b[0m\u001b[0;34m.\u001b[0m\u001b[0many\u001b[0m\u001b[0;34m(\u001b[0m\u001b[0;34m)\u001b[0m\u001b[0;34m:\u001b[0m\u001b[0;34m\u001b[0m\u001b[0;34m\u001b[0m\u001b[0m\n\u001b[1;32m   5017\u001b[0m             \u001b[0;32mif\u001b[0m \u001b[0merrors\u001b[0m \u001b[0;34m!=\u001b[0m \u001b[0;34m\"ignore\"\u001b[0m\u001b[0;34m:\u001b[0m\u001b[0;34m\u001b[0m\u001b[0;34m\u001b[0m\u001b[0m\n\u001b[0;32m-> 5018\u001b[0;31m                 \u001b[0;32mraise\u001b[0m \u001b[0mKeyError\u001b[0m\u001b[0;34m(\u001b[0m\u001b[0;34mf\"{labels[mask]} not found in axis\"\u001b[0m\u001b[0;34m)\u001b[0m\u001b[0;34m\u001b[0m\u001b[0;34m\u001b[0m\u001b[0m\n\u001b[0m\u001b[1;32m   5019\u001b[0m             \u001b[0mindexer\u001b[0m \u001b[0;34m=\u001b[0m \u001b[0mindexer\u001b[0m\u001b[0;34m[\u001b[0m\u001b[0;34m~\u001b[0m\u001b[0mmask\u001b[0m\u001b[0;34m]\u001b[0m\u001b[0;34m\u001b[0m\u001b[0;34m\u001b[0m\u001b[0m\n\u001b[1;32m   5020\u001b[0m         \u001b[0;32mreturn\u001b[0m \u001b[0mself\u001b[0m\u001b[0;34m.\u001b[0m\u001b[0mdelete\u001b[0m\u001b[0;34m(\u001b[0m\u001b[0mindexer\u001b[0m\u001b[0;34m)\u001b[0m\u001b[0;34m\u001b[0m\u001b[0;34m\u001b[0m\u001b[0m\n",
      "\u001b[0;31mKeyError\u001b[0m: \"['bed_type' 'experiences_offered' 'has_availability'\\n 'host_acceptance_rate' 'host_location' 'host_response_rate'\\n 'host_response_time' 'requires_license' 'is_business_travel_ready'\\n 'host_has_profile_pic' 'host_listings_count'\\n 'require_guest_profile_picture' 'require_guest_phone_verification'\\n 'reviews_per_month' 'square_feet'] not found in axis\""
     ]
    }
   ],
   "source": [
    "# Drop further columns\n",
    "data.drop([\"bed_type\", \"experiences_offered\", \"has_availability\", \"host_acceptance_rate\", \"host_location\", \n",
    "           \"host_response_rate\", \"host_response_time\", \"number_of_reviews\", \"number_of_reviews_ltm\",\n",
    "           \"requires_license\", \"is_business_travel_ready\", \"host_has_profile_pic\", \"host_listings_count\",\n",
    "           \"require_guest_profile_picture\", \"require_guest_phone_verification\",\n",
    "           \"reviews_per_month\", \"square_feet\"], inplace=True, axis=1)"
   ]
  },
  {
   "cell_type": "markdown",
   "metadata": {},
   "source": [
    "| **FEATURE(S)** | **NOTES** |\n",
    "| :----- | :----- | \n",
    "| **bed_type** | over 97% of values were \"Real Bed\", hence little added value |\n",
    "| **experiences_offered** | all values are \"none\" |\n",
    "| **has_availability** | all values are \"t\" |\n",
    "| **requires_license, host_has_profile_pic** | almost all values are \"t\" |\n",
    "| **is_business_travel_ready** | all values are \"f\" |\n",
    "| **require_guest_xxx** | almost all values are \"f\" |\n",
    "| **host_listings_count** | calculated_host_listings_count appears to be a sanitized version (ranges from 1 to 55) of host_listings_count (has values 0 and highest is 1397) |\n",
    " **other host_xyz** | too many missing values |\n",
    "| **reviews_per_month, number_of_reviews(_ltm)** | reviews in last 2 yrs are calculated in feature engineering |\n",
    "| **square_feet** | too many missing values |\n",
    "| <s>**property_type**</s> | <s>90% of values are \"apartment\", too many unique values to sensibly classify</s> kept instead |"
   ]
  },
  {
   "cell_type": "code",
   "execution_count": 1333,
   "metadata": {
    "code_folding": [
     0
    ]
   },
   "outputs": [
    {
     "name": "stdout",
     "output_type": "stream",
     "text": [
      "<class 'pandas.core.frame.DataFrame'>\n",
      "Int64Index: 23766 entries, 2015 to 41347401\n",
      "Data columns (total 51 columns):\n",
      " #   Column                          Non-Null Count  Dtype  \n",
      "---  ------                          --------------  -----  \n",
      " 0   name                            23766 non-null  object \n",
      " 1   summary                         23766 non-null  object \n",
      " 2   space                           23766 non-null  object \n",
      " 3   description                     23766 non-null  object \n",
      " 4   neighborhood_overview           23766 non-null  object \n",
      " 5   notes                           23766 non-null  object \n",
      " 6   transit                         23766 non-null  object \n",
      " 7   interaction                     23766 non-null  object \n",
      " 8   house_rules                     23766 non-null  object \n",
      " 9   host_is_superhost               23766 non-null  object \n",
      " 10  host_identity_verified          23766 non-null  object \n",
      " 11  neighbourhood                   23766 non-null  object \n",
      " 12  zipcode                         23766 non-null  object \n",
      " 13  latitude                        23766 non-null  float64\n",
      " 14  longitude                       23766 non-null  float64\n",
      " 15  is_location_exact               23766 non-null  object \n",
      " 16  property_type                   23766 non-null  object \n",
      " 17  room_type                       23766 non-null  object \n",
      " 18  accommodates                    23766 non-null  int64  \n",
      " 19  bathrooms                       23766 non-null  float64\n",
      " 20  bedrooms                        23766 non-null  float64\n",
      " 21  beds                            23766 non-null  float64\n",
      " 22  amenities                       23766 non-null  object \n",
      " 23  price                           23766 non-null  float64\n",
      " 24  weekly_price                    23766 non-null  float64\n",
      " 25  monthly_price                   23766 non-null  float64\n",
      " 26  security_deposit                23766 non-null  float64\n",
      " 27  cleaning_fee                    23766 non-null  float64\n",
      " 28  guests_included                 23766 non-null  int64  \n",
      " 29  extra_people                    23766 non-null  float64\n",
      " 30  minimum_nights                  23766 non-null  int64  \n",
      " 31  maximum_nights                  23766 non-null  int64  \n",
      " 32  availability_365                23766 non-null  int64  \n",
      " 33  review_scores_rating            23766 non-null  float64\n",
      " 34  instant_bookable                23766 non-null  object \n",
      " 35  cancellation_policy             23766 non-null  object \n",
      " 36  calculated_host_listings_count  23766 non-null  int64  \n",
      " 37  am_balcony                      23766 non-null  float64\n",
      " 38  am_nature_and_views             23766 non-null  float64\n",
      " 39  am_breakfast                    23766 non-null  float64\n",
      " 40  am_tv                           23766 non-null  float64\n",
      " 41  am_coffee_machine               23766 non-null  float64\n",
      " 42  am_cooking_basics               23766 non-null  float64\n",
      " 43  am_white_goods                  23766 non-null  float64\n",
      " 44  am_elevator                     23766 non-null  float64\n",
      " 45  am_essentials                   23766 non-null  float64\n",
      " 46  am_child_friendly               23766 non-null  float64\n",
      " 47  am_parking                      23766 non-null  float64\n",
      " 48  am_pets_allowed                 23766 non-null  float64\n",
      " 49  am_private_entrance             23766 non-null  float64\n",
      " 50  am_smoking_allowed              23766 non-null  float64\n",
      "dtypes: float64(26), int64(6), object(19)\n",
      "memory usage: 9.4+ MB\n"
     ]
    }
   ],
   "source": [
    "# List datatypes (data.info()) (post-cleaning)\n",
    "data.info()"
   ]
  },
  {
   "cell_type": "code",
   "execution_count": 1334,
   "metadata": {
    "code_folding": [
     0
    ],
    "scrolled": false
   },
   "outputs": [
    {
     "data": {
      "text/plain": [
       "name                              0\n",
       "summary                           0\n",
       "space                             0\n",
       "description                       0\n",
       "neighborhood_overview             0\n",
       "notes                             0\n",
       "transit                           0\n",
       "interaction                       0\n",
       "house_rules                       0\n",
       "host_is_superhost                 0\n",
       "host_identity_verified            0\n",
       "neighbourhood                     0\n",
       "zipcode                           0\n",
       "latitude                          0\n",
       "longitude                         0\n",
       "is_location_exact                 0\n",
       "property_type                     0\n",
       "room_type                         0\n",
       "accommodates                      0\n",
       "bathrooms                         0\n",
       "bedrooms                          0\n",
       "beds                              0\n",
       "amenities                         0\n",
       "price                             0\n",
       "weekly_price                      0\n",
       "monthly_price                     0\n",
       "security_deposit                  0\n",
       "cleaning_fee                      0\n",
       "guests_included                   0\n",
       "extra_people                      0\n",
       "minimum_nights                    0\n",
       "maximum_nights                    0\n",
       "availability_365                  0\n",
       "review_scores_rating              0\n",
       "instant_bookable                  0\n",
       "cancellation_policy               0\n",
       "calculated_host_listings_count    0\n",
       "am_balcony                        0\n",
       "am_nature_and_views               0\n",
       "am_breakfast                      0\n",
       "am_tv                             0\n",
       "am_coffee_machine                 0\n",
       "am_cooking_basics                 0\n",
       "am_white_goods                    0\n",
       "am_elevator                       0\n",
       "am_essentials                     0\n",
       "am_child_friendly                 0\n",
       "am_parking                        0\n",
       "am_pets_allowed                   0\n",
       "am_private_entrance               0\n",
       "am_smoking_allowed                0\n",
       "dtype: int64"
      ]
     },
     "execution_count": 1334,
     "metadata": {},
     "output_type": "execute_result"
    }
   ],
   "source": [
    "# List missing values (post-cleaning)\n",
    "\n",
    "#def count_missing(data):\n",
    "#    null_cols = data.columns[data.isnull().any(axis=0)]\n",
    "#    X_null = data[null_cols].isnull().sum()\n",
    "#    X_null = X_null.sort_values(ascending=False)\n",
    "#    print(X_null)\n",
    "    \n",
    "#count_missing(data)\n",
    "data.isnull().sum()"
   ]
  },
  {
   "cell_type": "markdown",
   "metadata": {},
   "source": [
    "As we can see, we got rid of all the missing values"
   ]
  },
  {
   "cell_type": "code",
   "execution_count": 1335,
   "metadata": {
    "code_folding": [
     0
    ]
   },
   "outputs": [],
   "source": [
    "# Sort columns in dataset\n",
    "data = data.reindex(sorted(data.columns, reverse=False), axis=1)"
   ]
  },
  {
   "cell_type": "code",
   "execution_count": 1336,
   "metadata": {
    "code_folding": [
     0
    ]
   },
   "outputs": [
    {
     "name": "stdout",
     "output_type": "stream",
     "text": [
      "(23766, 51)\n"
     ]
    },
    {
     "data": {
      "text/html": [
       "<div>\n",
       "<style scoped>\n",
       "    .dataframe tbody tr th:only-of-type {\n",
       "        vertical-align: middle;\n",
       "    }\n",
       "\n",
       "    .dataframe tbody tr th {\n",
       "        vertical-align: top;\n",
       "    }\n",
       "\n",
       "    .dataframe thead th {\n",
       "        text-align: right;\n",
       "    }\n",
       "</style>\n",
       "<table border=\"1\" class=\"dataframe\">\n",
       "  <thead>\n",
       "    <tr style=\"text-align: right;\">\n",
       "      <th></th>\n",
       "      <th>accommodates</th>\n",
       "      <th>am_balcony</th>\n",
       "      <th>am_breakfast</th>\n",
       "      <th>am_child_friendly</th>\n",
       "      <th>am_coffee_machine</th>\n",
       "      <th>am_cooking_basics</th>\n",
       "      <th>am_elevator</th>\n",
       "      <th>am_essentials</th>\n",
       "      <th>am_nature_and_views</th>\n",
       "      <th>am_parking</th>\n",
       "      <th>am_pets_allowed</th>\n",
       "      <th>am_private_entrance</th>\n",
       "      <th>am_smoking_allowed</th>\n",
       "      <th>am_tv</th>\n",
       "      <th>am_white_goods</th>\n",
       "      <th>amenities</th>\n",
       "      <th>availability_365</th>\n",
       "      <th>bathrooms</th>\n",
       "      <th>bedrooms</th>\n",
       "      <th>beds</th>\n",
       "      <th>calculated_host_listings_count</th>\n",
       "      <th>cancellation_policy</th>\n",
       "      <th>cleaning_fee</th>\n",
       "      <th>description</th>\n",
       "      <th>extra_people</th>\n",
       "      <th>guests_included</th>\n",
       "      <th>host_identity_verified</th>\n",
       "      <th>host_is_superhost</th>\n",
       "      <th>house_rules</th>\n",
       "      <th>instant_bookable</th>\n",
       "      <th>interaction</th>\n",
       "      <th>is_location_exact</th>\n",
       "      <th>latitude</th>\n",
       "      <th>longitude</th>\n",
       "      <th>maximum_nights</th>\n",
       "      <th>minimum_nights</th>\n",
       "      <th>monthly_price</th>\n",
       "      <th>name</th>\n",
       "      <th>neighborhood_overview</th>\n",
       "      <th>neighbourhood</th>\n",
       "      <th>notes</th>\n",
       "      <th>price</th>\n",
       "      <th>property_type</th>\n",
       "      <th>review_scores_rating</th>\n",
       "      <th>room_type</th>\n",
       "      <th>security_deposit</th>\n",
       "      <th>space</th>\n",
       "      <th>summary</th>\n",
       "      <th>transit</th>\n",
       "      <th>weekly_price</th>\n",
       "      <th>zipcode</th>\n",
       "    </tr>\n",
       "    <tr>\n",
       "      <th>id</th>\n",
       "      <th></th>\n",
       "      <th></th>\n",
       "      <th></th>\n",
       "      <th></th>\n",
       "      <th></th>\n",
       "      <th></th>\n",
       "      <th></th>\n",
       "      <th></th>\n",
       "      <th></th>\n",
       "      <th></th>\n",
       "      <th></th>\n",
       "      <th></th>\n",
       "      <th></th>\n",
       "      <th></th>\n",
       "      <th></th>\n",
       "      <th></th>\n",
       "      <th></th>\n",
       "      <th></th>\n",
       "      <th></th>\n",
       "      <th></th>\n",
       "      <th></th>\n",
       "      <th></th>\n",
       "      <th></th>\n",
       "      <th></th>\n",
       "      <th></th>\n",
       "      <th></th>\n",
       "      <th></th>\n",
       "      <th></th>\n",
       "      <th></th>\n",
       "      <th></th>\n",
       "      <th></th>\n",
       "      <th></th>\n",
       "      <th></th>\n",
       "      <th></th>\n",
       "      <th></th>\n",
       "      <th></th>\n",
       "      <th></th>\n",
       "      <th></th>\n",
       "      <th></th>\n",
       "      <th></th>\n",
       "      <th></th>\n",
       "      <th></th>\n",
       "      <th></th>\n",
       "      <th></th>\n",
       "      <th></th>\n",
       "      <th></th>\n",
       "      <th></th>\n",
       "      <th></th>\n",
       "      <th></th>\n",
       "      <th></th>\n",
       "      <th></th>\n",
       "    </tr>\n",
       "  </thead>\n",
       "  <tbody>\n",
       "    <tr>\n",
       "      <th>2015</th>\n",
       "      <td>3</td>\n",
       "      <td>0.0</td>\n",
       "      <td>0.0</td>\n",
       "      <td>1.0</td>\n",
       "      <td>1.0</td>\n",
       "      <td>1.0</td>\n",
       "      <td>0.0</td>\n",
       "      <td>1.0</td>\n",
       "      <td>0.0</td>\n",
       "      <td>1.0</td>\n",
       "      <td>0.0</td>\n",
       "      <td>0.0</td>\n",
       "      <td>0.0</td>\n",
       "      <td>1.0</td>\n",
       "      <td>1.0</td>\n",
       "      <td>{TV,\"Cable TV\",Wifi,Kitchen,Gym,\"Free street p...</td>\n",
       "      <td>194</td>\n",
       "      <td>1.0</td>\n",
       "      <td>1.0</td>\n",
       "      <td>1.0</td>\n",
       "      <td>6</td>\n",
       "      <td>strict_14_with_grace_period</td>\n",
       "      <td>30.0</td>\n",
       "      <td>Great location!  30 of 75 sq meters. This wood...</td>\n",
       "      <td>28.0</td>\n",
       "      <td>1</td>\n",
       "      <td>t</td>\n",
       "      <td>f</td>\n",
       "      <td>No parties No events No pets No smoking, not e...</td>\n",
       "      <td>f</td>\n",
       "      <td>Always available</td>\n",
       "      <td>f</td>\n",
       "      <td>52.53454</td>\n",
       "      <td>13.40256</td>\n",
       "      <td>1125</td>\n",
       "      <td>4</td>\n",
       "      <td>0.0</td>\n",
       "      <td>Berlin-Mitte Value! Quiet courtyard/very central</td>\n",
       "      <td>It is located in the former East Berlin area o...</td>\n",
       "      <td>Mitte</td>\n",
       "      <td>This is my home, not a hotel. I rent out occas...</td>\n",
       "      <td>60.0</td>\n",
       "      <td>Guesthouse</td>\n",
       "      <td>93.0</td>\n",
       "      <td>Entire home/apt</td>\n",
       "      <td>250.0</td>\n",
       "      <td>A+++ location! This „Einliegerwohnung“ is an e...</td>\n",
       "      <td>Great location!  30 of 75 sq meters. This wood...</td>\n",
       "      <td>Close to U-Bahn U8 and U2 (metro), Trams M12, ...</td>\n",
       "      <td>0.0</td>\n",
       "      <td>zip_10119</td>\n",
       "    </tr>\n",
       "    <tr>\n",
       "      <th>3176</th>\n",
       "      <td>4</td>\n",
       "      <td>0.0</td>\n",
       "      <td>0.0</td>\n",
       "      <td>1.0</td>\n",
       "      <td>0.0</td>\n",
       "      <td>0.0</td>\n",
       "      <td>0.0</td>\n",
       "      <td>1.0</td>\n",
       "      <td>0.0</td>\n",
       "      <td>0.0</td>\n",
       "      <td>0.0</td>\n",
       "      <td>0.0</td>\n",
       "      <td>0.0</td>\n",
       "      <td>0.0</td>\n",
       "      <td>1.0</td>\n",
       "      <td>{Internet,Wifi,Kitchen,\"Buzzer/wireless interc...</td>\n",
       "      <td>289</td>\n",
       "      <td>1.0</td>\n",
       "      <td>1.0</td>\n",
       "      <td>2.0</td>\n",
       "      <td>1</td>\n",
       "      <td>strict_14_with_grace_period</td>\n",
       "      <td>100.0</td>\n",
       "      <td>This beautiful first floor apartment  is situa...</td>\n",
       "      <td>20.0</td>\n",
       "      <td>2</td>\n",
       "      <td>t</td>\n",
       "      <td>f</td>\n",
       "      <td>It’s a non smoking flat, which likes to be tre...</td>\n",
       "      <td>f</td>\n",
       "      <td>Feel free to ask any questions prior to bookin...</td>\n",
       "      <td>t</td>\n",
       "      <td>52.53500</td>\n",
       "      <td>13.41758</td>\n",
       "      <td>1125</td>\n",
       "      <td>62</td>\n",
       "      <td>1900.0</td>\n",
       "      <td>Fabulous Flat in great Location</td>\n",
       "      <td>The neighbourhood is famous for its variety of...</td>\n",
       "      <td>Prenzlauer Berg</td>\n",
       "      <td>We welcome FAMILIES and cater especially for y...</td>\n",
       "      <td>90.0</td>\n",
       "      <td>Apartment</td>\n",
       "      <td>93.0</td>\n",
       "      <td>Entire home/apt</td>\n",
       "      <td>300.0</td>\n",
       "      <td>1st floor (68m2) apartment on Kollwitzplatz/ P...</td>\n",
       "      <td>This beautiful first floor apartment  is situa...</td>\n",
       "      <td>We are 5 min walk  away from the tram M2, whic...</td>\n",
       "      <td>520.0</td>\n",
       "      <td>zip_10405</td>\n",
       "    </tr>\n",
       "    <tr>\n",
       "      <th>3309</th>\n",
       "      <td>1</td>\n",
       "      <td>0.0</td>\n",
       "      <td>0.0</td>\n",
       "      <td>0.0</td>\n",
       "      <td>0.0</td>\n",
       "      <td>0.0</td>\n",
       "      <td>0.0</td>\n",
       "      <td>1.0</td>\n",
       "      <td>0.0</td>\n",
       "      <td>1.0</td>\n",
       "      <td>1.0</td>\n",
       "      <td>0.0</td>\n",
       "      <td>0.0</td>\n",
       "      <td>0.0</td>\n",
       "      <td>1.0</td>\n",
       "      <td>{Internet,Wifi,\"Pets live on this property\",Ca...</td>\n",
       "      <td>315</td>\n",
       "      <td>1.0</td>\n",
       "      <td>1.0</td>\n",
       "      <td>1.0</td>\n",
       "      <td>1</td>\n",
       "      <td>strict_14_with_grace_period</td>\n",
       "      <td>30.0</td>\n",
       "      <td>First of all: I prefer short-notice bookings. ...</td>\n",
       "      <td>18.0</td>\n",
       "      <td>1</td>\n",
       "      <td>f</td>\n",
       "      <td>f</td>\n",
       "      <td>House-Rules and Information ..............(deu...</td>\n",
       "      <td>f</td>\n",
       "      <td>I'm working as a freelancing photographer. My ...</td>\n",
       "      <td>t</td>\n",
       "      <td>52.49885</td>\n",
       "      <td>13.34906</td>\n",
       "      <td>35</td>\n",
       "      <td>7</td>\n",
       "      <td>599.0</td>\n",
       "      <td>BerlinSpot Schöneberg near KaDeWe</td>\n",
       "      <td>My flat is in the middle of West-Berlin, direc...</td>\n",
       "      <td>Schöneberg</td>\n",
       "      <td>The flat is a strictly non-smoking facility! A...</td>\n",
       "      <td>28.0</td>\n",
       "      <td>Apartment</td>\n",
       "      <td>89.0</td>\n",
       "      <td>Private room</td>\n",
       "      <td>250.0</td>\n",
       "      <td>Your room is really big and has 26 sqm, is ver...</td>\n",
       "      <td>First of all: I prefer short-notice bookings. ...</td>\n",
       "      <td>The public transportation is excellent: Severa...</td>\n",
       "      <td>175.0</td>\n",
       "      <td>zip_10777</td>\n",
       "    </tr>\n",
       "  </tbody>\n",
       "</table>\n",
       "</div>"
      ],
      "text/plain": [
       "      accommodates  am_balcony  am_breakfast  am_child_friendly  \\\n",
       "id                                                                \n",
       "2015             3         0.0           0.0                1.0   \n",
       "3176             4         0.0           0.0                1.0   \n",
       "3309             1         0.0           0.0                0.0   \n",
       "\n",
       "      am_coffee_machine  am_cooking_basics  am_elevator  am_essentials  \\\n",
       "id                                                                       \n",
       "2015                1.0                1.0          0.0            1.0   \n",
       "3176                0.0                0.0          0.0            1.0   \n",
       "3309                0.0                0.0          0.0            1.0   \n",
       "\n",
       "      am_nature_and_views  am_parking  am_pets_allowed  am_private_entrance  \\\n",
       "id                                                                            \n",
       "2015                  0.0         1.0              0.0                  0.0   \n",
       "3176                  0.0         0.0              0.0                  0.0   \n",
       "3309                  0.0         1.0              1.0                  0.0   \n",
       "\n",
       "      am_smoking_allowed  am_tv  am_white_goods  \\\n",
       "id                                                \n",
       "2015                 0.0    1.0             1.0   \n",
       "3176                 0.0    0.0             1.0   \n",
       "3309                 0.0    0.0             1.0   \n",
       "\n",
       "                                              amenities  availability_365  \\\n",
       "id                                                                          \n",
       "2015  {TV,\"Cable TV\",Wifi,Kitchen,Gym,\"Free street p...               194   \n",
       "3176  {Internet,Wifi,Kitchen,\"Buzzer/wireless interc...               289   \n",
       "3309  {Internet,Wifi,\"Pets live on this property\",Ca...               315   \n",
       "\n",
       "      bathrooms  bedrooms  beds  calculated_host_listings_count  \\\n",
       "id                                                                \n",
       "2015        1.0       1.0   1.0                               6   \n",
       "3176        1.0       1.0   2.0                               1   \n",
       "3309        1.0       1.0   1.0                               1   \n",
       "\n",
       "              cancellation_policy  cleaning_fee  \\\n",
       "id                                                \n",
       "2015  strict_14_with_grace_period          30.0   \n",
       "3176  strict_14_with_grace_period         100.0   \n",
       "3309  strict_14_with_grace_period          30.0   \n",
       "\n",
       "                                            description  extra_people  \\\n",
       "id                                                                      \n",
       "2015  Great location!  30 of 75 sq meters. This wood...          28.0   \n",
       "3176  This beautiful first floor apartment  is situa...          20.0   \n",
       "3309  First of all: I prefer short-notice bookings. ...          18.0   \n",
       "\n",
       "      guests_included host_identity_verified host_is_superhost  \\\n",
       "id                                                               \n",
       "2015                1                      t                 f   \n",
       "3176                2                      t                 f   \n",
       "3309                1                      f                 f   \n",
       "\n",
       "                                            house_rules instant_bookable  \\\n",
       "id                                                                         \n",
       "2015  No parties No events No pets No smoking, not e...                f   \n",
       "3176  It’s a non smoking flat, which likes to be tre...                f   \n",
       "3309  House-Rules and Information ..............(deu...                f   \n",
       "\n",
       "                                            interaction is_location_exact  \\\n",
       "id                                                                          \n",
       "2015                                   Always available                 f   \n",
       "3176  Feel free to ask any questions prior to bookin...                 t   \n",
       "3309  I'm working as a freelancing photographer. My ...                 t   \n",
       "\n",
       "      latitude  longitude  maximum_nights  minimum_nights  monthly_price  \\\n",
       "id                                                                         \n",
       "2015  52.53454   13.40256            1125               4            0.0   \n",
       "3176  52.53500   13.41758            1125              62         1900.0   \n",
       "3309  52.49885   13.34906              35               7          599.0   \n",
       "\n",
       "                                                  name  \\\n",
       "id                                                       \n",
       "2015  Berlin-Mitte Value! Quiet courtyard/very central   \n",
       "3176                   Fabulous Flat in great Location   \n",
       "3309                 BerlinSpot Schöneberg near KaDeWe   \n",
       "\n",
       "                                  neighborhood_overview    neighbourhood  \\\n",
       "id                                                                         \n",
       "2015  It is located in the former East Berlin area o...            Mitte   \n",
       "3176  The neighbourhood is famous for its variety of...  Prenzlauer Berg   \n",
       "3309  My flat is in the middle of West-Berlin, direc...       Schöneberg   \n",
       "\n",
       "                                                  notes  price property_type  \\\n",
       "id                                                                             \n",
       "2015  This is my home, not a hotel. I rent out occas...   60.0    Guesthouse   \n",
       "3176  We welcome FAMILIES and cater especially for y...   90.0     Apartment   \n",
       "3309  The flat is a strictly non-smoking facility! A...   28.0     Apartment   \n",
       "\n",
       "      review_scores_rating        room_type  security_deposit  \\\n",
       "id                                                              \n",
       "2015                  93.0  Entire home/apt             250.0   \n",
       "3176                  93.0  Entire home/apt             300.0   \n",
       "3309                  89.0     Private room             250.0   \n",
       "\n",
       "                                                  space  \\\n",
       "id                                                        \n",
       "2015  A+++ location! This „Einliegerwohnung“ is an e...   \n",
       "3176  1st floor (68m2) apartment on Kollwitzplatz/ P...   \n",
       "3309  Your room is really big and has 26 sqm, is ver...   \n",
       "\n",
       "                                                summary  \\\n",
       "id                                                        \n",
       "2015  Great location!  30 of 75 sq meters. This wood...   \n",
       "3176  This beautiful first floor apartment  is situa...   \n",
       "3309  First of all: I prefer short-notice bookings. ...   \n",
       "\n",
       "                                                transit  weekly_price  \\\n",
       "id                                                                      \n",
       "2015  Close to U-Bahn U8 and U2 (metro), Trams M12, ...           0.0   \n",
       "3176  We are 5 min walk  away from the tram M2, whic...         520.0   \n",
       "3309  The public transportation is excellent: Severa...         175.0   \n",
       "\n",
       "        zipcode  \n",
       "id               \n",
       "2015  zip_10119  \n",
       "3176  zip_10405  \n",
       "3309  zip_10777  "
      ]
     },
     "execution_count": 1336,
     "metadata": {},
     "output_type": "execute_result"
    }
   ],
   "source": [
    "# Display cleaned dataset\n",
    "print(data.shape)\n",
    "data.head(3)"
   ]
  },
  {
   "cell_type": "markdown",
   "metadata": {},
   "source": [
    "**Export data_clean**"
   ]
  },
  {
   "cell_type": "code",
   "execution_count": 1337,
   "metadata": {
    "code_folding": [
     0
    ]
   },
   "outputs": [],
   "source": [
    "# Export dataset for further use in 2_Airbnb_EDA and 3_Airbnb_Feature_Engineering\n",
    "data.to_pickle(\"saves/data_clean.pkl\")"
   ]
  },
  {
   "cell_type": "code",
   "execution_count": 1338,
   "metadata": {
    "code_folding": [
     0
    ]
   },
   "outputs": [],
   "source": [
    "# Alternative: Export with to_csv and save dtypes separately\n",
    "#data.to_csv(r'saves/data_clean.csv', index = True)\n",
    "#data.dtypes.to_frame('types').to_csv('saves/types_clean.csv')"
   ]
  },
  {
   "cell_type": "markdown",
   "metadata": {},
   "source": [
    "**BACKUP**"
   ]
  },
  {
   "cell_type": "code",
   "execution_count": 1339,
   "metadata": {
    "code_folding": [
     0
    ],
    "scrolled": true
   },
   "outputs": [],
   "source": [
    "# Import Airbnb listing data for the time period 04/2018-03/2020 (2 years)\n",
    "#all_files = glob.glob(os.path.join(\"data\", \"*.csv.gz\"))\n",
    "#all_df = []\n",
    "#for f in all_files:\n",
    "#    df = pd.read_csv(f, sep=',')\n",
    "#    df['file'] = f.split('/')[-1]\n",
    "#    all_df.append(df)\n",
    "#data_raw = pd.concat(all_df, ignore_index=True, sort=True)"
   ]
  },
  {
   "cell_type": "code",
   "execution_count": null,
   "metadata": {},
   "outputs": [],
   "source": []
  }
 ],
 "metadata": {
  "kernelspec": {
   "display_name": "Python [conda env:nf] *",
   "language": "python",
   "name": "conda-env-nf-py"
  },
  "language_info": {
   "codemirror_mode": {
    "name": "ipython",
    "version": 3
   },
   "file_extension": ".py",
   "mimetype": "text/x-python",
   "name": "python",
   "nbconvert_exporter": "python",
   "pygments_lexer": "ipython3",
   "version": "3.6.10"
  },
  "toc": {
   "base_numbering": 1,
   "nav_menu": {},
   "number_sections": true,
   "sideBar": true,
   "skip_h1_title": false,
   "title_cell": "Table of Contents",
   "title_sidebar": "Contents",
   "toc_cell": false,
   "toc_position": {
    "height": "calc(100% - 180px)",
    "left": "10px",
    "top": "150px",
    "width": "384px"
   },
   "toc_section_display": true,
   "toc_window_display": true
  }
 },
 "nbformat": 4,
 "nbformat_minor": 4
}
