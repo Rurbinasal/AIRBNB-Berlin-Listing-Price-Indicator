{
 "cells": [
  {
   "cell_type": "markdown",
   "metadata": {},
   "source": [
    "# Business Understanding and Set-up"
   ]
  },
  {
   "cell_type": "markdown",
   "metadata": {},
   "source": [
    "## Background and Key Question"
   ]
  },
  {
   "cell_type": "markdown",
   "metadata": {},
   "source": [
    "**Airbnb**\n",
    "\n",
    "Airbnb is an American online platform offering vacation rentals for travelers - primarily homestays - as an alternative to traditional hotel or hostel stays. Additionally, as of late Airbnb also offers \"experiences\" at popular tourist destinations. For both listings and experiences, Airbnb does not own or host themselves but instead act as an intermediary broker, earning commissions for each booking. Consequently, as many other groundbreaking innovative services Airbnb has not been without controversies, as it offers owners and renters with a great opportunity to make use of unused periods, but incentivizes the dedicated (ab)use of living space as full-time rentals.\n",
    "\n",
    "**Key Question**\n",
    "\n",
    "Taking data from a given specific listing time stamp of Berlin, **can we accurately predict its price** in order to provide future hosts with a solid pricing estimate without requiring an Airbnb account beforehand? (aim: offer a tool for new users to get a first pricing and potential earnings indication without requiring an account)\n",
    "\n",
    "**Assumptions**\n",
    "\n",
    "As the data is accessible information only and does not include data such as actual occupancy, several assumptions were necessary and prediction could not possibly be conducted with a precision matching a state of complete information. Nevertheless, the wealth of available features made it possible to experiment extensively and work productively on the basis of these assumptions.\n",
    "\n",
    "**Notes**\n",
    "\n",
    "The final key question was derived as an iterative process, adapting the target based on the insights from the analysis. Hence, the analysis focuses on evaluating all feasible features, as the decision to include only those that are known to a new user beforehand was made further down the road.\n",
    "\n",
    "Currently, predictive modeling is performed as a **regression on Target = PRICE_LOG**.\n",
    "\n",
    "This notebook previously contained predictive modeling for various distinct target options, namely:\n",
    "\n",
    "- Modeling: Binary Classification (**PRICE_BINARY**)\n",
    "- Modeling: Multi-Class Classification (**PRICE_CLASS**)\n",
    "- Modeling: Regression (**PRICE_LOG**)\n",
    "\n",
    "**As a consequence, the notebook includes target selection via the Dashboard, which is no longer a requirement for the code to be run. Instead, the target variable must be kept as PRICE_LOG (unless you would like to target another feature, which is, however, not intended)**"
   ]
  },
  {
   "cell_type": "markdown",
   "metadata": {},
   "source": [
    "## Feature Glossary"
   ]
  },
  {
   "cell_type": "markdown",
   "metadata": {},
   "source": [
    "This glossary only lists the key_features used for the final model prediction and does not cover all 105 original features of the dataset.\n",
    "\n",
    "| **FEATURE** | **DESCRIPTION** |\n",
    "| :----- | :----- |\n",
    "| **TARGET: price_log** | log of price per guests_included for a listing |\n",
    "| **accommodates_per_bed** | created from \"accommodates\" and \"beds\" - how many people the property accommodates per available bed |\n",
    "| **am_balcony** | created from \"amenities\" - does the listing have a balcony? |\n",
    "| **am_breakfast** | created from \"amenities\" - does the rent include breakfast? |\n",
    "| **am_child_friendly** | created from \"amenities\" - is the listing flagged as child friendly? |\n",
    "| **am_elevator** | created from \"amenities\" - does the listing have an elevator? |\n",
    "| **am_essentials** | created from \"amenities\" - does the host provide essentials (e.g. towels, bed linen, ...)? |\n",
    "| **am_pets_allowed** | created from \"amenities\" - are pets allowed at the location? |\n",
    "| **am_private_entrance** | created from \"amenities\" - do guests have a private entrance? |\n",
    "| **am_smoking_allowed** | created from \"amenities\" - is smoking allowed at the location? |\n",
    "| **am_tv** | created from \"amenities\" - is a TV available? |\n",
    "| **bathrooms_log** | log of number of shared (0.5) or dedicated (1.0) bathrooms available |\n",
    "| **bedrooms** | number of shared (0.5) or dedicated (1.0) bedrooms available |\n",
    "| **calc_host_lst_count_sqrt_log** | Log of sqrt of number of listings the host owns in total |\n",
    "| **cancellation_policy** | \"flexible\", \"moderate\", \"strict\" or \"super strict\" cancellation policies set by the host |\n",
    "| **guests_included_calc** | number of guests included in the listing price (not necessarily equal to \"accommodates\", as host may charge for extra_people) |\n",
    "| **host_is_superhost** | does the host fulfill the criteria and is flagged as a superhost (e.g. high ratings, response rate, ...)? |\n",
    "| **instant_bookable** | is the listing instant bookable (e.g. without manual confirmation by the host)? |\n",
    "| **maximum_nights** | what are the maximum  nights specified by the host? |\n",
    "| **minimum_nights_sqrt** | log of what are the minimum nights specified by the host? |\n",
    "| **property_type** | which type of property is the listing (e.g. apartment, house, hotel, ...)? |\n",
    "| **room_type** | which type of room is listed (e.g. entire home/apt, private room, shared room, ...)? |\n",
    "| **wk_mth_discount** | created from weekly_price and monthly_price - does the host offer a discount for weekly or monthly stays (in %)? |\n",
    "| **zipcode** | at which zipcode is the listing located? |"
   ]
  },
  {
   "cell_type": "markdown",
   "metadata": {},
   "source": [
    "## Dataset Glossary"
   ]
  },
  {
   "cell_type": "markdown",
   "metadata": {},
   "source": [
    "| **DATASET** | **DESCRIPTION** |\n",
    "| :----- | :----- |\n",
    "| **data_raw** | Originally imported dataset listings.csv.gz (February 2020) |\n",
    "| **data** | Naming for main working dataset throughout all notebooks |\n",
    "| **data_clean** | Export from Notebook 1_Clean, import for Notebooks 2_EDA_Clean and 3_Feature_Engineering |\n",
    "| **data_engineered** | Export from Notebook 3_Feature_Engineering, import for Notebook 4-EDA_Engineered and 5_Predictive_Modeling |\n",
    "| **best_model_xyz** | Saves of best models from various algorithms |\n",
    "\n"
   ]
  },
  {
   "cell_type": "markdown",
   "metadata": {},
   "source": [
    "## Target Feature(s) and Metric(s)"
   ]
  },
  {
   "cell_type": "markdown",
   "metadata": {},
   "source": [
    "**Target**:\n",
    "- Feature: price_log\n",
    "- Metric: neg_median_absolute_error"
   ]
  },
  {
   "cell_type": "markdown",
   "metadata": {},
   "source": [
    "## Libraries and Dashboard"
   ]
  },
  {
   "cell_type": "code",
   "execution_count": 1,
   "metadata": {
    "code_folding": [
     0
    ]
   },
   "outputs": [
    {
     "name": "stderr",
     "output_type": "stream",
     "text": [
      "Using TensorFlow backend.\n"
     ]
    }
   ],
   "source": [
    "# Import libraries\n",
    "\n",
    "# General / Cleaning / Feature Engineering\n",
    "import pandas as pd\n",
    "import numpy as np\n",
    "import seaborn as sns\n",
    "import matplotlib.pyplot as plt\n",
    "from matplotlib import pyplot\n",
    "import math\n",
    "import joblib\n",
    "from numpy import loadtxt\n",
    "import os, glob\n",
    "from datetime import datetime, timedelta\n",
    "%matplotlib inline\n",
    "\n",
    "# Preprocessing\n",
    "from sklearn.model_selection import train_test_split\n",
    "from sklearn.utils import resample\n",
    "from sklearn.preprocessing import OneHotEncoder, MinMaxScaler, StandardScaler, PolynomialFeatures, LabelEncoder\n",
    "from sklearn.impute import SimpleImputer\n",
    "from sklearn.feature_extraction import DictVectorizer\n",
    "from sklearn.pipeline import Pipeline, make_pipeline  # Same, but with the latter it is not necessary to name estimator and transformer\n",
    "from sklearn.compose import ColumnTransformer\n",
    "from sklearn.cluster import DBSCAN\n",
    "\n",
    "# Feature Selection\n",
    "from sklearn.feature_selection import SelectKBest, chi2, RFE, SelectFromModel\n",
    "from lightgbm import LGBMClassifier\n",
    "\n",
    "# Predictive Modeling (Models)\n",
    "from sklearn.dummy import DummyClassifier, DummyRegressor\n",
    "import statsmodels.api as sm\n",
    "import statsmodels.formula.api as smf\n",
    "from sklearn.model_selection import RandomizedSearchCV, GridSearchCV, cross_val_predict, cross_val_score, cross_validate, KFold\n",
    "from sklearn.tree import DecisionTreeClassifier, DecisionTreeRegressor\n",
    "from sklearn.svm import SVC, NuSVC, SVR\n",
    "from sklearn.linear_model import LinearRegression, LogisticRegression, PassiveAggressiveRegressor, ElasticNet, SGDRegressor, RANSACRegressor\n",
    "from sklearn.ensemble import AdaBoostClassifier, AdaBoostRegressor, GradientBoostingRegressor, VotingClassifier, RandomForestClassifier, RandomForestRegressor, GradientBoostingClassifier, IsolationForest\n",
    "from sklearn.neighbors import KNeighborsClassifier, KNeighborsRegressor\n",
    "from xgboost import XGBClassifier, XGBRegressor\n",
    "from scipy.stats import randint\n",
    "from sklearn.multiclass import OneVsRestClassifier\n",
    "from catboost import CatBoostRegressor\n",
    "\n",
    "# Evaluation Metrics\n",
    "from sklearn import metrics\n",
    "from sklearn.metrics import mean_absolute_error, mean_squared_error, r2_score, make_scorer, fbeta_score, accuracy_score, confusion_matrix, f1_score, precision_recall_curve, recall_score, precision_score, roc_auc_score\n",
    "from scipy.sparse import csr_matrix\n",
    "import scipy.stats as stats\n",
    "\n",
    "# Neural Networks\n",
    "from keras import models, layers, optimizers, regularizers\n",
    "from keras.utils.vis_utils import model_to_dot\n",
    "from keras.wrappers.scikit_learn import KerasRegressor\n",
    "from IPython.display import SVG"
   ]
  },
  {
   "cell_type": "code",
   "execution_count": 2,
   "metadata": {
    "code_folding": []
   },
   "outputs": [],
   "source": [
    "# Dashboard\n",
    "dataset_loc = \"paris\"  # \"berlin\", \"paris\", \"amsterdam\", \"barcelona\"\n",
    "dataset_date = \"2020-03-16\"  # berlin: \"2020-03-17\", paris: \"2020-03-16\", amsterdam: \"2020-03-14\", barcelona: \"2020-03-16\", \n",
    "model_run = \"2020-08-26\"               # date of dataset/model creation (determines subfolder for saves of datasets/models)\n",
    "target = 'price_log'             # for regression: 'occupancy_rate', 'price_log' | for classification: 'price_class', 'occupancy_class'\n",
    "# !Important: Please select features for prediction under \"Preprocessing\"!\n",
    "scoring = 'neg_median_absolute_error'  # for regression: 'neg_mean_squared_error', 'r2', 'neg_mean_poisson_deviance', 'neg_median_absolute_error' | for classification: \"f1(_micro, _macro, _weighted for multiclass)\", \"recall\", \"precision\", \"accuracy\", \"roc_auc\"\n",
    "test_size = 0.2\n",
    "random_state = 42\n",
    "\n",
    "#occ_thr = 0.3  # Threshold for when a listing is deemed a \"permanent rental\"\n",
    "review_rate = 0.5  # Assumed share of bookings that were followed up by a user review (feature engineering of occupancy)\n",
    "\n",
    "pd.set_option('display.max_columns', 150)\n",
    "pd.set_option('display.max_rows', 150)\n",
    "pd.options.display.max_seq_items = 300\n",
    "sns.set(style=\"white\")"
   ]
  },
  {
   "cell_type": "markdown",
   "metadata": {},
   "source": [
    "As mentioned further above, it is necessary to **explicitly declare target** as the notebook was previously set-up to enable analysis and modeling on varying target features."
   ]
  },
  {
   "cell_type": "markdown",
   "metadata": {},
   "source": [
    "## Global functions and variables"
   ]
  },
  {
   "cell_type": "code",
   "execution_count": 3,
   "metadata": {
    "code_folding": [
     0
    ]
   },
   "outputs": [],
   "source": [
    "# \"save_load\": Function for saving and loading datasets/models (joblib)\n",
    "def save_load(data=False, title=\"unknown\", file_format=\"pkl\", function=\"save\", dataset_loc=dataset_loc, dataset_date=dataset_date, model_run=model_run):\n",
    "    if function==\"save\":\n",
    "        if file_format==\"pkl\":\n",
    "            joblib.dump(data, f\"data/{dataset_loc}_{dataset_date}/{model_run}/{title}.pkl\")\n",
    "        elif file_format==\"app\":\n",
    "            joblib.dump(data, f\"data/{dataset_loc}_{dataset_date}/{title}.pkl\")\n",
    "        else:\n",
    "            print(\"Please enter a valid file_format (default is pkl; 'app' for data used in web app).\")\n",
    "    elif function==\"load\":\n",
    "        if file_format==\"pkl\":\n",
    "            return joblib.load(f\"data/{dataset_loc}_{dataset_date}/{model_run}/{title}.pkl\")\n",
    "        elif file_format==\"csv\":\n",
    "            return pd.read_csv(f\"data/{dataset_loc}_{dataset_date}/{title}.csv\")\n",
    "        elif file_format==\"csv.gz\":\n",
    "            return pd.read_csv(f\"data/{dataset_loc}_{dataset_date}/{title}.csv.gz\")\n",
    "        elif file_format==\"geojson\":\n",
    "            return pd.read_csv(f\"data/{dataset_loc}_{dataset_date}/{title}.geojson\")\n",
    "        else:\n",
    "            print(\"Please enter a valid file_format (default is pkl).\")"
   ]
  },
  {
   "cell_type": "code",
   "execution_count": 4,
   "metadata": {
    "code_folding": [
     0
    ]
   },
   "outputs": [],
   "source": [
    "# \"model_eval\": Function for final evaluation of \"best model\"\n",
    "def model_eval(y, y_pred, model=\"reg\"):\n",
    "    \"\"\"\n",
    "    Please always specify the type of model:\n",
    "    Regression: model=\"reg\"\n",
    "    Binary Classification: model=\"bclf\"\n",
    "    Multiclass Classification: model=\"clf\"\n",
    "    \"\"\"\n",
    "    if model==\"reg\":\n",
    "        print(\"MSE: {:.2f}\".format(mean_squared_error(y, y_pred)))\n",
    "        print(\"RMSE: {:.2f}\".format(\n",
    "        mean_squared_error(y, y_pred, squared=False)))\n",
    "        print(\"MAE: {:.2f}\".format(mean_absolute_error(y, y_pred)))\n",
    "        print(\"R2: {:.2f}\".format(r2_score(y, y_pred)))\n",
    "        print(\"MAPE: {:.2f}\".format(mean_absolute_percentage_error(y, y_pred)))\n",
    "        print(\"MAPE median: {:.2f}\".format(median_absolute_percentage_error(y, y_pred)))\n",
    "\n",
    "    elif model==\"bclf\":\n",
    "        print(\"Accuracy: {:.2f}\".format(accuracy_score(y, y_pred)))\n",
    "        print(\"Recall: {:.2f}\".format(recall_score(y, y_pred)))\n",
    "        print(\"Precision: {:.2f}\".format(precision_score(y, y_pred)))\n",
    "        print(\"F1 Score: {:.2f}\".format(f1_score(y, y_pred)))\n",
    "        print(\"ROC/AUC: {:.2f}\".format(roc_auc_score(y, y_pred)))\n",
    "        print(\"Confusion Matrix: \\n\" + str(confusion_matrix(y, y_pred)))\n",
    "\n",
    "    elif model==\"clf\":\n",
    "        print(\"Accuracy: {:.2f}\".format(accuracy_score(y, y_pred)))\n",
    "        print(\"Recall: {:.2f}\".format(recall_score(y, y_pred, average='weighted')))\n",
    "        print(\"Precision: {:.2f}\".format(precision_score(y, y_pred, average='weighted')))\n",
    "        print(\"F1 Score: {:.2f}\".format(f1_score(y, y_pred, average='weighted')))\n",
    "        print(\"Confusion Matrix: \\n\" + str(confusion_matrix(y, y_pred)))\n",
    "    \n",
    "    else:\n",
    "        print(\"Please revise your parameters (e.g. provide a valid model).\")"
   ]
  },
  {
   "cell_type": "code",
   "execution_count": 5,
   "metadata": {
    "code_folding": [
     0
    ]
   },
   "outputs": [],
   "source": [
    "# \"print_target_setting\": Function for printing current setting for TARGET and the corresponding features\n",
    "def print_target_setting():\n",
    "    target_upper = target.upper()\n",
    "    print(f\"You are currently using \\033[1m{target_upper}\\033[0m as the target and \\033[1m{scoring}\\033[0m for scoring to predict prices for \\033[1m{dataset_loc}\\033[0m on \\033[1m{dataset_date}\\033[0m\\n\")\n",
    "    print(f\"You are currently using these features for its prediction:\\n\\033[1m{pred_features}\\033[0m\\n\")\n",
    "    if 'price_class' in pred_features:\n",
    "        print(f\"WARNING: Please remove \\033[1m'price_class'\\033[0m from features before proceeding with target \\033[1m{target_upper}\\033[0m\")\n",
    "    if 'price_binary' in pred_features:\n",
    "        print(f\"WARNING: Please remove \\033[1m'price_binary'\\033[0m from features before proceeding with target \\033[1m{target_upper}\\033[0m\")\n",
    "    if \"occupancy_class\" in pred_features and \"occupancy_rate\" in pred_features:\n",
    "        print(f\"WARNING: Please remove \\033[1m'ocupancy_class'\\033[0m or \\033[1m'ocupancy_rate'\\033[0m from features before proceeding with target \\033[1m{target_upper}\\033[0m\")\n",
    "    else:\n",
    "        print(\"No issues with your selection of pred_features have been detected. Please make sure to manually check for correctness nevertheless.\")"
   ]
  },
  {
   "cell_type": "code",
   "execution_count": 6,
   "metadata": {
    "code_folding": [
     0
    ]
   },
   "outputs": [],
   "source": [
    "# \"mean_absolute_percentage_error\": Function for mean absolute percentage error (MAPE)\n",
    "def mean_absolute_percentage_error(y_true, y_pred): \n",
    "    y_true, y_pred = np.array(y_true), np.array(y_pred)\n",
    "    return np.mean(np.abs((y_true - y_pred) / y_true)) * 100"
   ]
  },
  {
   "cell_type": "code",
   "execution_count": 7,
   "metadata": {
    "code_folding": [
     0
    ]
   },
   "outputs": [],
   "source": [
    "# \"median_absolute_percentage_error\": Function for median absolute percentage error (MAPE median)\n",
    "def median_absolute_percentage_error(y_true, y_pred): \n",
    "    y_true, y_pred = np.array(y_true), np.array(y_pred)\n",
    "    return np.median(np.abs((y_true - y_pred) / y_true)) * 100"
   ]
  },
  {
   "cell_type": "code",
   "execution_count": 8,
   "metadata": {
    "code_folding": [
     0
    ]
   },
   "outputs": [],
   "source": [
    "# \"get_feat_importances\": Function for retrieving feature importances\n",
    "def get_feat_importances(model, column_names):\n",
    "    model=model\n",
    "    feat_importances = pd.DataFrame(model.feature_importances_,\n",
    "                 columns=['weight'],\n",
    "                 index=column_names)\n",
    "    feat_importances.sort_values('weight', inplace=True, ascending=False)\n",
    "    return feat_importances"
   ]
  },
  {
   "cell_type": "code",
   "execution_count": 9,
   "metadata": {
    "code_folding": [
     0
    ]
   },
   "outputs": [],
   "source": [
    "# \"clf_learning_curves\": Function to evaluate classification model based on learning curves\n",
    "def clf_learning_curves(model):\n",
    "# Fit model on training data\n",
    "    model = model\n",
    "    eval_set = [(X_train_prep, y_train), (X_test_prep, y_test)]\n",
    "    model.fit(X_train_prep, y_train, eval_metric=[\"error\", \"logloss\"], eval_set=eval_set, verbose=True)\n",
    "\n",
    "    # Make predictions for test data\n",
    "    y_pred = model.predict(X_test_prep)\n",
    "    predictions = [round(value) for value in y_pred]\n",
    "\n",
    "    # Evaluate predictions\n",
    "    accuracy = accuracy_score(y_test, predictions)\n",
    "    print(\"Accuracy: %.2f%%\" % (accuracy * 100.0))\n",
    "    \n",
    "    # Retrieve performance metrics\n",
    "    results = model.evals_result()\n",
    "    epochs = len(results['validation_0']['error'])\n",
    "    x_axis = range(0, epochs)\n",
    "    \n",
    "    # Plot log loss\n",
    "    fig, ax = pyplot.subplots()\n",
    "    ax.plot(x_axis, results['validation_0']['logloss'], label='Train')\n",
    "    ax.plot(x_axis, results['validation_1']['logloss'], label='Test')\n",
    "    ax.legend()\n",
    "    pyplot.ylabel('Log Loss')\n",
    "    pyplot.title('XGBoost Log Loss')\n",
    "    pyplot.show()\n",
    "    \n",
    "    # Plot classification error\n",
    "    fig, ax = pyplot.subplots()\n",
    "    ax.plot(x_axis, results['validation_0']['error'], label='Train')\n",
    "    ax.plot(x_axis, results['validation_1']['error'], label='Test')\n",
    "    ax.legend()\n",
    "    pyplot.ylabel('Classification Error')\n",
    "    pyplot.title('XGBoost Classification Error')\n",
    "    pyplot.show()"
   ]
  },
  {
   "cell_type": "markdown",
   "metadata": {},
   "source": [
    "# Data Mining"
   ]
  },
  {
   "cell_type": "markdown",
   "metadata": {},
   "source": [
    "## Data Checks"
   ]
  },
  {
   "cell_type": "markdown",
   "metadata": {},
   "source": [
    "The monthly data is composed of various files that are briefly visualized here (based on dataset_loc and dataset_date):\n",
    "\n",
    "- listings.csv.gz\n",
    "- listings.csv\n",
    "- reviews.csv.gz\n",
    "- reviews.csv\n",
    "- calendar.csv.gz\n",
    "- neighbourhoods.csv\n",
    "- neighbourhoods.geojson"
   ]
  },
  {
   "cell_type": "markdown",
   "metadata": {},
   "source": [
    "**listings.csv.gz**"
   ]
  },
  {
   "cell_type": "code",
   "execution_count": 10,
   "metadata": {
    "code_folding": [
     0
    ]
   },
   "outputs": [],
   "source": [
    "# Display contents of listings.csv.gz as well as its shape\n",
    "#data_listings_gz_insp = save_load(title=\"listings\", file_format=\"csv.gz\", function=\"load\")\n",
    "#print(data_listings_gz_insp.shape)\n",
    "#data_listings_gz_insp.head(3)"
   ]
  },
  {
   "cell_type": "markdown",
   "metadata": {},
   "source": [
    "**listings.csv**"
   ]
  },
  {
   "cell_type": "code",
   "execution_count": 11,
   "metadata": {
    "code_folding": [
     0
    ]
   },
   "outputs": [],
   "source": [
    "# Display contents of listings.csv as well as its shape\n",
    "#data_listings_insp = save_load(title=\"listings\", file_format=\"csv\", function=\"load\")\n",
    "#print(data_listings_insp.shape)\n",
    "#data_listings_insp.head(2)"
   ]
  },
  {
   "cell_type": "markdown",
   "metadata": {},
   "source": [
    "**reviews.csv.gz**"
   ]
  },
  {
   "cell_type": "code",
   "execution_count": 12,
   "metadata": {
    "code_folding": [
     0
    ]
   },
   "outputs": [],
   "source": [
    "# Display contents of reviews.csv.gz as well as its shape\n",
    "#data_reviews_gz_insp = save_load(title=\"reviews\", file_format=\"csv.gz\", function=\"load\")\n",
    "#print(data_reviews_gz_insp.shape)\n",
    "#data_reviews_gz_insp.head(2)"
   ]
  },
  {
   "cell_type": "markdown",
   "metadata": {},
   "source": [
    "**reviews.csv**"
   ]
  },
  {
   "cell_type": "code",
   "execution_count": 13,
   "metadata": {
    "code_folding": [
     0
    ]
   },
   "outputs": [],
   "source": [
    "# Display contents of reviews.csv as well as its shape\n",
    "#data_reviews_insp = save_load(title=\"reviews\", file_format=\"csv\", function=\"load\")\n",
    "#print(data_reviews_insp.shape)\n",
    "#data_reviews_insp.head(2)"
   ]
  },
  {
   "cell_type": "markdown",
   "metadata": {},
   "source": [
    "**calendar.csv.gz**"
   ]
  },
  {
   "cell_type": "code",
   "execution_count": 14,
   "metadata": {
    "code_folding": [
     0
    ]
   },
   "outputs": [],
   "source": [
    "# Display contents of calendar.csv.gz as well as its shape\n",
    "#data_cal_insp = save_load(title=\"calendar\", file_format=\"csv.gz\", function=\"load\")\n",
    "#print(data_cal_insp.shape)\n",
    "#data_cal_insp.head(2)"
   ]
  },
  {
   "cell_type": "markdown",
   "metadata": {},
   "source": [
    "**neighbourhoods.csv**"
   ]
  },
  {
   "cell_type": "code",
   "execution_count": 15,
   "metadata": {
    "code_folding": [
     0
    ]
   },
   "outputs": [],
   "source": [
    "# Display contents of neighbourhoods.csv as well as its shape\n",
    "#data_neighb_insp = save_load(title=\"neighbourhoods\", file_format=\"csv\", function=\"load\")\n",
    "#print(data_neighb_insp.shape)\n",
    "#data_neighb_insp.head(2)"
   ]
  },
  {
   "cell_type": "markdown",
   "metadata": {},
   "source": [
    "**neighbourhoods.geojson**"
   ]
  },
  {
   "cell_type": "code",
   "execution_count": 16,
   "metadata": {
    "code_folding": [
     0
    ]
   },
   "outputs": [],
   "source": [
    "# Display contents of neighbourhoods.geojson as well as its shape\n",
    "#data_neighb_geojson_insp = save_load(title=\"neighbourhoods\", file_format=\"geojson\", function=\"load\")\n",
    "#print(data_neighb_geojson_insp.shape)\n",
    "#data_neighb_geojson_insp.head(2)"
   ]
  },
  {
   "cell_type": "markdown",
   "metadata": {},
   "source": [
    "## Data Import"
   ]
  },
  {
   "cell_type": "markdown",
   "metadata": {},
   "source": [
    "**Create main dataset (listings on January 10th, i.e. pre-COVID-19)**"
   ]
  },
  {
   "cell_type": "code",
   "execution_count": 17,
   "metadata": {
    "code_folding": [
     0
    ]
   },
   "outputs": [
    {
     "name": "stderr",
     "output_type": "stream",
     "text": [
      "C:\\Users\\Mauricio\\anaconda3\\envs\\airbnb42\\lib\\site-packages\\IPython\\core\\interactiveshell.py:3263: DtypeWarning: Columns (43,61,62) have mixed types.Specify dtype option on import or set low_memory=False.\n",
      "  if (await self.run_code(code, result,  async_=asy)):\n"
     ]
    }
   ],
   "source": [
    "# Import dataset as DataFrame (as csv-file)\n",
    "data_raw = save_load(title=\"listings\", file_format=\"csv.gz\", function=\"load\")"
   ]
  },
  {
   "cell_type": "code",
   "execution_count": 18,
   "metadata": {
    "code_folding": [
     0
    ]
   },
   "outputs": [],
   "source": [
    "# Assign data_raw to data (in order to always keep a freshly imported data_raw) and set id as index\n",
    "data = data_raw.copy()\n",
    "data.set_index('id', inplace=True)"
   ]
  },
  {
   "cell_type": "code",
   "execution_count": 19,
   "metadata": {
    "code_folding": [
     0
    ]
   },
   "outputs": [],
   "source": [
    "# Create path for saving datasets/models (if not existing)\n",
    "if not os.path.exists(f\"data/{dataset_loc}_{dataset_date}/{model_run}/\"):\n",
    "    os.mkdir(f\"data/{dataset_loc}_{dataset_date}/{model_run}/\")"
   ]
  },
  {
   "cell_type": "markdown",
   "metadata": {},
   "source": [
    "# Data Cleaning"
   ]
  },
  {
   "cell_type": "markdown",
   "metadata": {},
   "source": [
    "## Pre-cleaning"
   ]
  },
  {
   "cell_type": "markdown",
   "metadata": {},
   "source": [
    "Before cleaning the main dataset, the columns were briefly reviewed and all those that were deemed unfruitful for further analysis eliminated beforehand, in order to focus time and effort on the relevant ones."
   ]
  },
  {
   "cell_type": "code",
   "execution_count": 20,
   "metadata": {
    "code_folding": [
     0
    ]
   },
   "outputs": [
    {
     "data": {
      "text/plain": [
       "(67323, 105)"
      ]
     },
     "execution_count": 20,
     "metadata": {},
     "output_type": "execute_result"
    }
   ],
   "source": [
    "# Display shape of \"data\"\n",
    "data.shape"
   ]
  },
  {
   "cell_type": "markdown",
   "metadata": {},
   "source": [
    "The dataset includes a whopping **105 features** and slightly over 25.000 listings for Berlin for March 2020."
   ]
  },
  {
   "cell_type": "code",
   "execution_count": 21,
   "metadata": {
    "code_folding": [
     0
    ],
    "scrolled": true
   },
   "outputs": [
    {
     "data": {
      "text/html": [
       "<div>\n",
       "<style scoped>\n",
       "    .dataframe tbody tr th:only-of-type {\n",
       "        vertical-align: middle;\n",
       "    }\n",
       "\n",
       "    .dataframe tbody tr th {\n",
       "        vertical-align: top;\n",
       "    }\n",
       "\n",
       "    .dataframe thead th {\n",
       "        text-align: right;\n",
       "    }\n",
       "</style>\n",
       "<table border=\"1\" class=\"dataframe\">\n",
       "  <thead>\n",
       "    <tr style=\"text-align: right;\">\n",
       "      <th></th>\n",
       "      <th>listing_url</th>\n",
       "      <th>scrape_id</th>\n",
       "      <th>last_scraped</th>\n",
       "      <th>name</th>\n",
       "      <th>summary</th>\n",
       "      <th>space</th>\n",
       "      <th>description</th>\n",
       "      <th>experiences_offered</th>\n",
       "      <th>neighborhood_overview</th>\n",
       "      <th>notes</th>\n",
       "      <th>transit</th>\n",
       "      <th>access</th>\n",
       "      <th>interaction</th>\n",
       "      <th>house_rules</th>\n",
       "      <th>thumbnail_url</th>\n",
       "      <th>medium_url</th>\n",
       "      <th>picture_url</th>\n",
       "      <th>xl_picture_url</th>\n",
       "      <th>host_id</th>\n",
       "      <th>host_url</th>\n",
       "      <th>host_name</th>\n",
       "      <th>host_since</th>\n",
       "      <th>host_location</th>\n",
       "      <th>host_about</th>\n",
       "      <th>host_response_time</th>\n",
       "      <th>host_response_rate</th>\n",
       "      <th>host_acceptance_rate</th>\n",
       "      <th>host_is_superhost</th>\n",
       "      <th>host_thumbnail_url</th>\n",
       "      <th>host_picture_url</th>\n",
       "      <th>host_neighbourhood</th>\n",
       "      <th>host_listings_count</th>\n",
       "      <th>host_total_listings_count</th>\n",
       "      <th>host_verifications</th>\n",
       "      <th>host_has_profile_pic</th>\n",
       "      <th>host_identity_verified</th>\n",
       "      <th>street</th>\n",
       "      <th>neighbourhood</th>\n",
       "      <th>neighbourhood_cleansed</th>\n",
       "      <th>neighbourhood_group_cleansed</th>\n",
       "      <th>city</th>\n",
       "      <th>state</th>\n",
       "      <th>zipcode</th>\n",
       "      <th>market</th>\n",
       "      <th>smart_location</th>\n",
       "      <th>country_code</th>\n",
       "      <th>country</th>\n",
       "      <th>latitude</th>\n",
       "      <th>longitude</th>\n",
       "      <th>is_location_exact</th>\n",
       "      <th>property_type</th>\n",
       "      <th>room_type</th>\n",
       "      <th>accommodates</th>\n",
       "      <th>bathrooms</th>\n",
       "      <th>bedrooms</th>\n",
       "      <th>beds</th>\n",
       "      <th>bed_type</th>\n",
       "      <th>amenities</th>\n",
       "      <th>square_feet</th>\n",
       "      <th>price</th>\n",
       "      <th>weekly_price</th>\n",
       "      <th>monthly_price</th>\n",
       "      <th>security_deposit</th>\n",
       "      <th>cleaning_fee</th>\n",
       "      <th>guests_included</th>\n",
       "      <th>extra_people</th>\n",
       "      <th>minimum_nights</th>\n",
       "      <th>maximum_nights</th>\n",
       "      <th>minimum_minimum_nights</th>\n",
       "      <th>maximum_minimum_nights</th>\n",
       "      <th>minimum_maximum_nights</th>\n",
       "      <th>maximum_maximum_nights</th>\n",
       "      <th>minimum_nights_avg_ntm</th>\n",
       "      <th>maximum_nights_avg_ntm</th>\n",
       "      <th>calendar_updated</th>\n",
       "      <th>has_availability</th>\n",
       "      <th>availability_30</th>\n",
       "      <th>availability_60</th>\n",
       "      <th>availability_90</th>\n",
       "      <th>availability_365</th>\n",
       "      <th>calendar_last_scraped</th>\n",
       "      <th>number_of_reviews</th>\n",
       "      <th>number_of_reviews_ltm</th>\n",
       "      <th>first_review</th>\n",
       "      <th>last_review</th>\n",
       "      <th>review_scores_rating</th>\n",
       "      <th>review_scores_accuracy</th>\n",
       "      <th>review_scores_cleanliness</th>\n",
       "      <th>review_scores_checkin</th>\n",
       "      <th>review_scores_communication</th>\n",
       "      <th>review_scores_location</th>\n",
       "      <th>review_scores_value</th>\n",
       "      <th>requires_license</th>\n",
       "      <th>license</th>\n",
       "      <th>jurisdiction_names</th>\n",
       "      <th>instant_bookable</th>\n",
       "      <th>is_business_travel_ready</th>\n",
       "      <th>cancellation_policy</th>\n",
       "      <th>require_guest_profile_picture</th>\n",
       "      <th>require_guest_phone_verification</th>\n",
       "      <th>calculated_host_listings_count</th>\n",
       "      <th>calculated_host_listings_count_entire_homes</th>\n",
       "      <th>calculated_host_listings_count_private_rooms</th>\n",
       "      <th>calculated_host_listings_count_shared_rooms</th>\n",
       "      <th>reviews_per_month</th>\n",
       "    </tr>\n",
       "    <tr>\n",
       "      <th>id</th>\n",
       "      <th></th>\n",
       "      <th></th>\n",
       "      <th></th>\n",
       "      <th></th>\n",
       "      <th></th>\n",
       "      <th></th>\n",
       "      <th></th>\n",
       "      <th></th>\n",
       "      <th></th>\n",
       "      <th></th>\n",
       "      <th></th>\n",
       "      <th></th>\n",
       "      <th></th>\n",
       "      <th></th>\n",
       "      <th></th>\n",
       "      <th></th>\n",
       "      <th></th>\n",
       "      <th></th>\n",
       "      <th></th>\n",
       "      <th></th>\n",
       "      <th></th>\n",
       "      <th></th>\n",
       "      <th></th>\n",
       "      <th></th>\n",
       "      <th></th>\n",
       "      <th></th>\n",
       "      <th></th>\n",
       "      <th></th>\n",
       "      <th></th>\n",
       "      <th></th>\n",
       "      <th></th>\n",
       "      <th></th>\n",
       "      <th></th>\n",
       "      <th></th>\n",
       "      <th></th>\n",
       "      <th></th>\n",
       "      <th></th>\n",
       "      <th></th>\n",
       "      <th></th>\n",
       "      <th></th>\n",
       "      <th></th>\n",
       "      <th></th>\n",
       "      <th></th>\n",
       "      <th></th>\n",
       "      <th></th>\n",
       "      <th></th>\n",
       "      <th></th>\n",
       "      <th></th>\n",
       "      <th></th>\n",
       "      <th></th>\n",
       "      <th></th>\n",
       "      <th></th>\n",
       "      <th></th>\n",
       "      <th></th>\n",
       "      <th></th>\n",
       "      <th></th>\n",
       "      <th></th>\n",
       "      <th></th>\n",
       "      <th></th>\n",
       "      <th></th>\n",
       "      <th></th>\n",
       "      <th></th>\n",
       "      <th></th>\n",
       "      <th></th>\n",
       "      <th></th>\n",
       "      <th></th>\n",
       "      <th></th>\n",
       "      <th></th>\n",
       "      <th></th>\n",
       "      <th></th>\n",
       "      <th></th>\n",
       "      <th></th>\n",
       "      <th></th>\n",
       "      <th></th>\n",
       "      <th></th>\n",
       "      <th></th>\n",
       "      <th></th>\n",
       "      <th></th>\n",
       "      <th></th>\n",
       "      <th></th>\n",
       "      <th></th>\n",
       "      <th></th>\n",
       "      <th></th>\n",
       "      <th></th>\n",
       "      <th></th>\n",
       "      <th></th>\n",
       "      <th></th>\n",
       "      <th></th>\n",
       "      <th></th>\n",
       "      <th></th>\n",
       "      <th></th>\n",
       "      <th></th>\n",
       "      <th></th>\n",
       "      <th></th>\n",
       "      <th></th>\n",
       "      <th></th>\n",
       "      <th></th>\n",
       "      <th></th>\n",
       "      <th></th>\n",
       "      <th></th>\n",
       "      <th></th>\n",
       "      <th></th>\n",
       "      <th></th>\n",
       "      <th></th>\n",
       "      <th></th>\n",
       "    </tr>\n",
       "  </thead>\n",
       "  <tbody>\n",
       "    <tr>\n",
       "      <th>3109</th>\n",
       "      <td>https://www.airbnb.com/rooms/3109</td>\n",
       "      <td>20200315231126</td>\n",
       "      <td>2020-03-16</td>\n",
       "      <td>zen and calm</td>\n",
       "      <td>Appartement très calme de 50M2 Utilisation de ...</td>\n",
       "      <td>I bedroom appartment in Paris 14</td>\n",
       "      <td>I bedroom appartment in Paris 14 Good restaura...</td>\n",
       "      <td>none</td>\n",
       "      <td>Good restaurants very close the Montparnasse S...</td>\n",
       "      <td>NaN</td>\n",
       "      <td>RER B Metro Ligne 13 Pernety Metro Ligne 13 Pl...</td>\n",
       "      <td>A la demande, vous pouvez avoir accès à la cha...</td>\n",
       "      <td>yes I can help you out</td>\n",
       "      <td>NaN</td>\n",
       "      <td>NaN</td>\n",
       "      <td>NaN</td>\n",
       "      <td>https://a0.muscache.com/im/pictures/baeae9e2-c...</td>\n",
       "      <td>NaN</td>\n",
       "      <td>3631</td>\n",
       "      <td>https://www.airbnb.com/users/show/3631</td>\n",
       "      <td>Anne</td>\n",
       "      <td>2008-10-14</td>\n",
       "      <td>Paris, Île-de-France, France</td>\n",
       "      <td>NaN</td>\n",
       "      <td>within a few hours</td>\n",
       "      <td>100%</td>\n",
       "      <td>40%</td>\n",
       "      <td>f</td>\n",
       "      <td>https://a0.muscache.com/im/users/3631/profile_...</td>\n",
       "      <td>https://a0.muscache.com/im/users/3631/profile_...</td>\n",
       "      <td>Alésia</td>\n",
       "      <td>1.0</td>\n",
       "      <td>1.0</td>\n",
       "      <td>['email', 'phone', 'facebook', 'reviews']</td>\n",
       "      <td>t</td>\n",
       "      <td>f</td>\n",
       "      <td>Paris, Île-de-France, France</td>\n",
       "      <td>XIV Arrondissement</td>\n",
       "      <td>Observatoire</td>\n",
       "      <td>NaN</td>\n",
       "      <td>Paris</td>\n",
       "      <td>Île-de-France</td>\n",
       "      <td>75014</td>\n",
       "      <td>Paris</td>\n",
       "      <td>Paris, France</td>\n",
       "      <td>FR</td>\n",
       "      <td>France</td>\n",
       "      <td>48.83349</td>\n",
       "      <td>2.31852</td>\n",
       "      <td>f</td>\n",
       "      <td>Apartment</td>\n",
       "      <td>Entire home/apt</td>\n",
       "      <td>2</td>\n",
       "      <td>1.0</td>\n",
       "      <td>0.0</td>\n",
       "      <td>1.0</td>\n",
       "      <td>Real Bed</td>\n",
       "      <td>{Internet,Wifi,Kitchen,\"Paid parking off premi...</td>\n",
       "      <td>NaN</td>\n",
       "      <td>$60.00</td>\n",
       "      <td>$490.00</td>\n",
       "      <td>NaN</td>\n",
       "      <td>$150.00</td>\n",
       "      <td>$60.00</td>\n",
       "      <td>1</td>\n",
       "      <td>$0.00</td>\n",
       "      <td>2</td>\n",
       "      <td>30</td>\n",
       "      <td>2</td>\n",
       "      <td>2</td>\n",
       "      <td>30</td>\n",
       "      <td>30</td>\n",
       "      <td>2.0</td>\n",
       "      <td>30.0</td>\n",
       "      <td>3 weeks ago</td>\n",
       "      <td>t</td>\n",
       "      <td>16</td>\n",
       "      <td>46</td>\n",
       "      <td>76</td>\n",
       "      <td>351</td>\n",
       "      <td>2020-03-16</td>\n",
       "      <td>9</td>\n",
       "      <td>1</td>\n",
       "      <td>2016-12-27</td>\n",
       "      <td>2019-10-24</td>\n",
       "      <td>100.0</td>\n",
       "      <td>10.0</td>\n",
       "      <td>10.0</td>\n",
       "      <td>10.0</td>\n",
       "      <td>10.0</td>\n",
       "      <td>10.0</td>\n",
       "      <td>10.0</td>\n",
       "      <td>t</td>\n",
       "      <td>NaN</td>\n",
       "      <td>{\"translation missing: en.occupancy.taxes.juri...</td>\n",
       "      <td>f</td>\n",
       "      <td>f</td>\n",
       "      <td>flexible</td>\n",
       "      <td>f</td>\n",
       "      <td>f</td>\n",
       "      <td>1</td>\n",
       "      <td>1</td>\n",
       "      <td>0</td>\n",
       "      <td>0</td>\n",
       "      <td>0.23</td>\n",
       "    </tr>\n",
       "  </tbody>\n",
       "</table>\n",
       "</div>"
      ],
      "text/plain": [
       "                            listing_url       scrape_id last_scraped  \\\n",
       "id                                                                     \n",
       "3109  https://www.airbnb.com/rooms/3109  20200315231126   2020-03-16   \n",
       "\n",
       "              name                                            summary  \\\n",
       "id                                                                      \n",
       "3109  zen and calm  Appartement très calme de 50M2 Utilisation de ...   \n",
       "\n",
       "                                 space  \\\n",
       "id                                       \n",
       "3109  I bedroom appartment in Paris 14   \n",
       "\n",
       "                                            description experiences_offered  \\\n",
       "id                                                                            \n",
       "3109  I bedroom appartment in Paris 14 Good restaura...                none   \n",
       "\n",
       "                                  neighborhood_overview notes  \\\n",
       "id                                                              \n",
       "3109  Good restaurants very close the Montparnasse S...   NaN   \n",
       "\n",
       "                                                transit  \\\n",
       "id                                                        \n",
       "3109  RER B Metro Ligne 13 Pernety Metro Ligne 13 Pl...   \n",
       "\n",
       "                                                 access  \\\n",
       "id                                                        \n",
       "3109  A la demande, vous pouvez avoir accès à la cha...   \n",
       "\n",
       "                 interaction house_rules  thumbnail_url  medium_url  \\\n",
       "id                                                                    \n",
       "3109  yes I can help you out         NaN            NaN         NaN   \n",
       "\n",
       "                                            picture_url  xl_picture_url  \\\n",
       "id                                                                        \n",
       "3109  https://a0.muscache.com/im/pictures/baeae9e2-c...             NaN   \n",
       "\n",
       "      host_id                                host_url host_name  host_since  \\\n",
       "id                                                                            \n",
       "3109     3631  https://www.airbnb.com/users/show/3631      Anne  2008-10-14   \n",
       "\n",
       "                     host_location host_about  host_response_time  \\\n",
       "id                                                                  \n",
       "3109  Paris, Île-de-France, France        NaN  within a few hours   \n",
       "\n",
       "     host_response_rate host_acceptance_rate host_is_superhost  \\\n",
       "id                                                               \n",
       "3109               100%                  40%                 f   \n",
       "\n",
       "                                     host_thumbnail_url  \\\n",
       "id                                                        \n",
       "3109  https://a0.muscache.com/im/users/3631/profile_...   \n",
       "\n",
       "                                       host_picture_url host_neighbourhood  \\\n",
       "id                                                                           \n",
       "3109  https://a0.muscache.com/im/users/3631/profile_...             Alésia   \n",
       "\n",
       "      host_listings_count  host_total_listings_count  \\\n",
       "id                                                     \n",
       "3109                  1.0                        1.0   \n",
       "\n",
       "                             host_verifications host_has_profile_pic  \\\n",
       "id                                                                     \n",
       "3109  ['email', 'phone', 'facebook', 'reviews']                    t   \n",
       "\n",
       "     host_identity_verified                        street       neighbourhood  \\\n",
       "id                                                                              \n",
       "3109                      f  Paris, Île-de-France, France  XIV Arrondissement   \n",
       "\n",
       "     neighbourhood_cleansed  neighbourhood_group_cleansed   city  \\\n",
       "id                                                                 \n",
       "3109           Observatoire                           NaN  Paris   \n",
       "\n",
       "              state zipcode market smart_location country_code country  \\\n",
       "id                                                                       \n",
       "3109  Île-de-France   75014  Paris  Paris, France           FR  France   \n",
       "\n",
       "      latitude  longitude is_location_exact property_type        room_type  \\\n",
       "id                                                                           \n",
       "3109  48.83349    2.31852                 f     Apartment  Entire home/apt   \n",
       "\n",
       "      accommodates  bathrooms  bedrooms  beds  bed_type  \\\n",
       "id                                                        \n",
       "3109             2        1.0       0.0   1.0  Real Bed   \n",
       "\n",
       "                                              amenities  square_feet   price  \\\n",
       "id                                                                             \n",
       "3109  {Internet,Wifi,Kitchen,\"Paid parking off premi...          NaN  $60.00   \n",
       "\n",
       "     weekly_price monthly_price security_deposit cleaning_fee  \\\n",
       "id                                                              \n",
       "3109      $490.00           NaN          $150.00       $60.00   \n",
       "\n",
       "      guests_included extra_people  minimum_nights  maximum_nights  \\\n",
       "id                                                                   \n",
       "3109                1        $0.00               2              30   \n",
       "\n",
       "      minimum_minimum_nights  maximum_minimum_nights  minimum_maximum_nights  \\\n",
       "id                                                                             \n",
       "3109                       2                       2                      30   \n",
       "\n",
       "      maximum_maximum_nights  minimum_nights_avg_ntm  maximum_nights_avg_ntm  \\\n",
       "id                                                                             \n",
       "3109                      30                     2.0                    30.0   \n",
       "\n",
       "     calendar_updated has_availability  availability_30  availability_60  \\\n",
       "id                                                                         \n",
       "3109      3 weeks ago                t               16               46   \n",
       "\n",
       "      availability_90  availability_365 calendar_last_scraped  \\\n",
       "id                                                              \n",
       "3109               76               351            2020-03-16   \n",
       "\n",
       "      number_of_reviews  number_of_reviews_ltm first_review last_review  \\\n",
       "id                                                                        \n",
       "3109                  9                      1   2016-12-27  2019-10-24   \n",
       "\n",
       "      review_scores_rating  review_scores_accuracy  review_scores_cleanliness  \\\n",
       "id                                                                              \n",
       "3109                 100.0                    10.0                       10.0   \n",
       "\n",
       "      review_scores_checkin  review_scores_communication  \\\n",
       "id                                                         \n",
       "3109                   10.0                         10.0   \n",
       "\n",
       "      review_scores_location  review_scores_value requires_license license  \\\n",
       "id                                                                           \n",
       "3109                    10.0                 10.0                t     NaN   \n",
       "\n",
       "                                     jurisdiction_names instant_bookable  \\\n",
       "id                                                                         \n",
       "3109  {\"translation missing: en.occupancy.taxes.juri...                f   \n",
       "\n",
       "     is_business_travel_ready cancellation_policy  \\\n",
       "id                                                  \n",
       "3109                        f            flexible   \n",
       "\n",
       "     require_guest_profile_picture require_guest_phone_verification  \\\n",
       "id                                                                    \n",
       "3109                             f                                f   \n",
       "\n",
       "      calculated_host_listings_count  \\\n",
       "id                                     \n",
       "3109                               1   \n",
       "\n",
       "      calculated_host_listings_count_entire_homes  \\\n",
       "id                                                  \n",
       "3109                                            1   \n",
       "\n",
       "      calculated_host_listings_count_private_rooms  \\\n",
       "id                                                   \n",
       "3109                                             0   \n",
       "\n",
       "      calculated_host_listings_count_shared_rooms  reviews_per_month  \n",
       "id                                                                    \n",
       "3109                                            0               0.23  "
      ]
     },
     "execution_count": 21,
     "metadata": {},
     "output_type": "execute_result"
    }
   ],
   "source": [
    "# Display head(1) of \"data\"\n",
    "data.head(1)"
   ]
  },
  {
   "cell_type": "markdown",
   "metadata": {},
   "source": [
    "On first sight, most features appear relatively informative and well-structured. **Amenities** stores lists as a string, which needs to be reviewed later on."
   ]
  },
  {
   "cell_type": "code",
   "execution_count": 22,
   "metadata": {
    "code_folding": [
     0
    ]
   },
   "outputs": [],
   "source": [
    "# Display columns of \"data\"\n",
    "#data.columns"
   ]
  },
  {
   "cell_type": "code",
   "execution_count": 23,
   "metadata": {
    "code_folding": [
     0
    ]
   },
   "outputs": [],
   "source": [
    "# Define columns to keep after pre-cleaning\n",
    "select_columns = [\n",
    "    'accommodates', 'amenities', 'availability_365', 'availability_90',\n",
    "    'bathrooms', 'bed_type', 'bedrooms', 'beds',\n",
    "    'calculated_host_listings_count', 'cancellation_policy', 'cleaning_fee',\n",
    "    'description', 'experiences_offered', 'extra_people', 'first_review',\n",
    "    'guests_included', 'has_availability', 'host_acceptance_rate',\n",
    "    'host_has_profile_pic', 'host_identity_verified', 'host_is_superhost',\n",
    "    'host_listings_count', 'host_location', 'host_response_rate',\n",
    "    'host_response_time', 'house_rules', 'instant_bookable', 'interaction',\n",
    "    'is_business_travel_ready', 'is_location_exact', 'last_review', 'latitude',\n",
    "    'listing_url', 'longitude', 'maximum_nights', 'minimum_nights',\n",
    "    'monthly_price', 'name', 'neighborhood_overview', 'neighbourhood_cleansed',\n",
    "    'notes', 'number_of_reviews', 'number_of_reviews_ltm', 'price',\n",
    "    'property_type', 'require_guest_phone_verification',\n",
    "    'require_guest_profile_picture', 'requires_license',\n",
    "    'review_scores_accuracy', 'review_scores_checkin',\n",
    "    'review_scores_cleanliness', 'review_scores_communication',\n",
    "    'review_scores_location', 'review_scores_rating', 'review_scores_value',\n",
    "    'reviews_per_month', 'room_type', 'security_deposit', 'space',\n",
    "    'square_feet', 'summary', 'transit', 'weekly_price', 'zipcode'\n",
    "]"
   ]
  },
  {
   "cell_type": "code",
   "execution_count": 24,
   "metadata": {
    "code_folding": [
     0
    ]
   },
   "outputs": [],
   "source": [
    "# Drop innecessary columns and sort dataset\n",
    "drop_columns = [el for el in data.columns if el not in select_columns]\n",
    "data.drop(labels=drop_columns, inplace=True, axis=1)\n",
    "data = data.reindex(sorted(data.columns, reverse=False), axis=1)"
   ]
  },
  {
   "cell_type": "markdown",
   "metadata": {},
   "source": [
    "As mentioned above, around half of the features are kept for further analysis and the rest is dropped - at least for the time being"
   ]
  },
  {
   "cell_type": "markdown",
   "metadata": {},
   "source": [
    "## Inspection"
   ]
  },
  {
   "cell_type": "code",
   "execution_count": 25,
   "metadata": {
    "code_folding": [
     0
    ]
   },
   "outputs": [
    {
     "data": {
      "text/plain": [
       "(67323, 64)"
      ]
     },
     "execution_count": 25,
     "metadata": {},
     "output_type": "execute_result"
    }
   ],
   "source": [
    "# Display shape of \"data\"\n",
    "data.shape"
   ]
  },
  {
   "cell_type": "markdown",
   "metadata": {},
   "source": [
    "The feature set is now reduced to **64 features**"
   ]
  },
  {
   "cell_type": "code",
   "execution_count": 26,
   "metadata": {
    "code_folding": [
     0
    ]
   },
   "outputs": [
    {
     "data": {
      "text/html": [
       "<div>\n",
       "<style scoped>\n",
       "    .dataframe tbody tr th:only-of-type {\n",
       "        vertical-align: middle;\n",
       "    }\n",
       "\n",
       "    .dataframe tbody tr th {\n",
       "        vertical-align: top;\n",
       "    }\n",
       "\n",
       "    .dataframe thead th {\n",
       "        text-align: right;\n",
       "    }\n",
       "</style>\n",
       "<table border=\"1\" class=\"dataframe\">\n",
       "  <thead>\n",
       "    <tr style=\"text-align: right;\">\n",
       "      <th></th>\n",
       "      <th>accommodates</th>\n",
       "      <th>amenities</th>\n",
       "      <th>availability_365</th>\n",
       "      <th>availability_90</th>\n",
       "      <th>bathrooms</th>\n",
       "      <th>bed_type</th>\n",
       "      <th>bedrooms</th>\n",
       "      <th>beds</th>\n",
       "      <th>calculated_host_listings_count</th>\n",
       "      <th>cancellation_policy</th>\n",
       "      <th>cleaning_fee</th>\n",
       "      <th>description</th>\n",
       "      <th>experiences_offered</th>\n",
       "      <th>extra_people</th>\n",
       "      <th>first_review</th>\n",
       "      <th>guests_included</th>\n",
       "      <th>has_availability</th>\n",
       "      <th>host_acceptance_rate</th>\n",
       "      <th>host_has_profile_pic</th>\n",
       "      <th>host_identity_verified</th>\n",
       "      <th>host_is_superhost</th>\n",
       "      <th>host_listings_count</th>\n",
       "      <th>host_location</th>\n",
       "      <th>host_response_rate</th>\n",
       "      <th>host_response_time</th>\n",
       "      <th>house_rules</th>\n",
       "      <th>instant_bookable</th>\n",
       "      <th>interaction</th>\n",
       "      <th>is_business_travel_ready</th>\n",
       "      <th>is_location_exact</th>\n",
       "      <th>last_review</th>\n",
       "      <th>latitude</th>\n",
       "      <th>listing_url</th>\n",
       "      <th>longitude</th>\n",
       "      <th>maximum_nights</th>\n",
       "      <th>minimum_nights</th>\n",
       "      <th>monthly_price</th>\n",
       "      <th>name</th>\n",
       "      <th>neighborhood_overview</th>\n",
       "      <th>neighbourhood_cleansed</th>\n",
       "      <th>notes</th>\n",
       "      <th>number_of_reviews</th>\n",
       "      <th>number_of_reviews_ltm</th>\n",
       "      <th>price</th>\n",
       "      <th>property_type</th>\n",
       "      <th>require_guest_phone_verification</th>\n",
       "      <th>require_guest_profile_picture</th>\n",
       "      <th>requires_license</th>\n",
       "      <th>review_scores_accuracy</th>\n",
       "      <th>review_scores_checkin</th>\n",
       "      <th>review_scores_cleanliness</th>\n",
       "      <th>review_scores_communication</th>\n",
       "      <th>review_scores_location</th>\n",
       "      <th>review_scores_rating</th>\n",
       "      <th>review_scores_value</th>\n",
       "      <th>reviews_per_month</th>\n",
       "      <th>room_type</th>\n",
       "      <th>security_deposit</th>\n",
       "      <th>space</th>\n",
       "      <th>square_feet</th>\n",
       "      <th>summary</th>\n",
       "      <th>transit</th>\n",
       "      <th>weekly_price</th>\n",
       "      <th>zipcode</th>\n",
       "    </tr>\n",
       "    <tr>\n",
       "      <th>id</th>\n",
       "      <th></th>\n",
       "      <th></th>\n",
       "      <th></th>\n",
       "      <th></th>\n",
       "      <th></th>\n",
       "      <th></th>\n",
       "      <th></th>\n",
       "      <th></th>\n",
       "      <th></th>\n",
       "      <th></th>\n",
       "      <th></th>\n",
       "      <th></th>\n",
       "      <th></th>\n",
       "      <th></th>\n",
       "      <th></th>\n",
       "      <th></th>\n",
       "      <th></th>\n",
       "      <th></th>\n",
       "      <th></th>\n",
       "      <th></th>\n",
       "      <th></th>\n",
       "      <th></th>\n",
       "      <th></th>\n",
       "      <th></th>\n",
       "      <th></th>\n",
       "      <th></th>\n",
       "      <th></th>\n",
       "      <th></th>\n",
       "      <th></th>\n",
       "      <th></th>\n",
       "      <th></th>\n",
       "      <th></th>\n",
       "      <th></th>\n",
       "      <th></th>\n",
       "      <th></th>\n",
       "      <th></th>\n",
       "      <th></th>\n",
       "      <th></th>\n",
       "      <th></th>\n",
       "      <th></th>\n",
       "      <th></th>\n",
       "      <th></th>\n",
       "      <th></th>\n",
       "      <th></th>\n",
       "      <th></th>\n",
       "      <th></th>\n",
       "      <th></th>\n",
       "      <th></th>\n",
       "      <th></th>\n",
       "      <th></th>\n",
       "      <th></th>\n",
       "      <th></th>\n",
       "      <th></th>\n",
       "      <th></th>\n",
       "      <th></th>\n",
       "      <th></th>\n",
       "      <th></th>\n",
       "      <th></th>\n",
       "      <th></th>\n",
       "      <th></th>\n",
       "      <th></th>\n",
       "      <th></th>\n",
       "      <th></th>\n",
       "      <th></th>\n",
       "    </tr>\n",
       "  </thead>\n",
       "  <tbody>\n",
       "    <tr>\n",
       "      <th>3109</th>\n",
       "      <td>2</td>\n",
       "      <td>{Internet,Wifi,Kitchen,\"Paid parking off premi...</td>\n",
       "      <td>351</td>\n",
       "      <td>76</td>\n",
       "      <td>1.0</td>\n",
       "      <td>Real Bed</td>\n",
       "      <td>0.0</td>\n",
       "      <td>1.0</td>\n",
       "      <td>1</td>\n",
       "      <td>flexible</td>\n",
       "      <td>$60.00</td>\n",
       "      <td>I bedroom appartment in Paris 14 Good restaura...</td>\n",
       "      <td>none</td>\n",
       "      <td>$0.00</td>\n",
       "      <td>2016-12-27</td>\n",
       "      <td>1</td>\n",
       "      <td>t</td>\n",
       "      <td>40%</td>\n",
       "      <td>t</td>\n",
       "      <td>f</td>\n",
       "      <td>f</td>\n",
       "      <td>1.0</td>\n",
       "      <td>Paris, Île-de-France, France</td>\n",
       "      <td>100%</td>\n",
       "      <td>within a few hours</td>\n",
       "      <td>NaN</td>\n",
       "      <td>f</td>\n",
       "      <td>yes I can help you out</td>\n",
       "      <td>f</td>\n",
       "      <td>f</td>\n",
       "      <td>2019-10-24</td>\n",
       "      <td>48.83349</td>\n",
       "      <td>https://www.airbnb.com/rooms/3109</td>\n",
       "      <td>2.31852</td>\n",
       "      <td>30</td>\n",
       "      <td>2</td>\n",
       "      <td>NaN</td>\n",
       "      <td>zen and calm</td>\n",
       "      <td>Good restaurants very close the Montparnasse S...</td>\n",
       "      <td>Observatoire</td>\n",
       "      <td>NaN</td>\n",
       "      <td>9</td>\n",
       "      <td>1</td>\n",
       "      <td>$60.00</td>\n",
       "      <td>Apartment</td>\n",
       "      <td>f</td>\n",
       "      <td>f</td>\n",
       "      <td>t</td>\n",
       "      <td>10.0</td>\n",
       "      <td>10.0</td>\n",
       "      <td>10.0</td>\n",
       "      <td>10.0</td>\n",
       "      <td>10.0</td>\n",
       "      <td>100.0</td>\n",
       "      <td>10.0</td>\n",
       "      <td>0.23</td>\n",
       "      <td>Entire home/apt</td>\n",
       "      <td>$150.00</td>\n",
       "      <td>I bedroom appartment in Paris 14</td>\n",
       "      <td>NaN</td>\n",
       "      <td>Appartement très calme de 50M2 Utilisation de ...</td>\n",
       "      <td>RER B Metro Ligne 13 Pernety Metro Ligne 13 Pl...</td>\n",
       "      <td>$490.00</td>\n",
       "      <td>75014</td>\n",
       "    </tr>\n",
       "    <tr>\n",
       "      <th>5396</th>\n",
       "      <td>2</td>\n",
       "      <td>{Internet,Wifi,Kitchen,Heating,Washer,\"Smoke d...</td>\n",
       "      <td>32</td>\n",
       "      <td>32</td>\n",
       "      <td>1.0</td>\n",
       "      <td>Pull-out Sofa</td>\n",
       "      <td>0.0</td>\n",
       "      <td>1.0</td>\n",
       "      <td>1</td>\n",
       "      <td>strict_14_with_grace_period</td>\n",
       "      <td>$36.00</td>\n",
       "      <td>Cozy, well-appointed and graciously designed s...</td>\n",
       "      <td>none</td>\n",
       "      <td>$0.00</td>\n",
       "      <td>2009-06-30</td>\n",
       "      <td>1</td>\n",
       "      <td>t</td>\n",
       "      <td>100%</td>\n",
       "      <td>t</td>\n",
       "      <td>t</td>\n",
       "      <td>f</td>\n",
       "      <td>1.0</td>\n",
       "      <td>Istanbul, İstanbul, Turkey</td>\n",
       "      <td>100%</td>\n",
       "      <td>within an hour</td>\n",
       "      <td>This is a small flat in a very old building th...</td>\n",
       "      <td>t</td>\n",
       "      <td>We expect guests to operate rather independent...</td>\n",
       "      <td>f</td>\n",
       "      <td>t</td>\n",
       "      <td>2020-03-01</td>\n",
       "      <td>48.85100</td>\n",
       "      <td>https://www.airbnb.com/rooms/5396</td>\n",
       "      <td>2.35869</td>\n",
       "      <td>2</td>\n",
       "      <td>1</td>\n",
       "      <td>$2,000.00</td>\n",
       "      <td>Explore the heart of old Paris</td>\n",
       "      <td>You are within walking distance to the Louvre,...</td>\n",
       "      <td>Hôtel-de-Ville</td>\n",
       "      <td>The staircase leading up to the apartment is n...</td>\n",
       "      <td>215</td>\n",
       "      <td>48</td>\n",
       "      <td>$115.00</td>\n",
       "      <td>Apartment</td>\n",
       "      <td>f</td>\n",
       "      <td>f</td>\n",
       "      <td>t</td>\n",
       "      <td>8.0</td>\n",
       "      <td>9.0</td>\n",
       "      <td>8.0</td>\n",
       "      <td>9.0</td>\n",
       "      <td>10.0</td>\n",
       "      <td>90.0</td>\n",
       "      <td>8.0</td>\n",
       "      <td>1.65</td>\n",
       "      <td>Entire home/apt</td>\n",
       "      <td>$0.00</td>\n",
       "      <td>Small, well appointed studio apartment at the ...</td>\n",
       "      <td>NaN</td>\n",
       "      <td>Cozy, well-appointed and graciously designed s...</td>\n",
       "      <td>The flat is close to two or three major metro ...</td>\n",
       "      <td>$600.00</td>\n",
       "      <td>75004</td>\n",
       "    </tr>\n",
       "    <tr>\n",
       "      <th>7397</th>\n",
       "      <td>4</td>\n",
       "      <td>{TV,\"Cable TV\",Internet,Wifi,Kitchen,\"Paid par...</td>\n",
       "      <td>238</td>\n",
       "      <td>45</td>\n",
       "      <td>1.0</td>\n",
       "      <td>Real Bed</td>\n",
       "      <td>2.0</td>\n",
       "      <td>2.0</td>\n",
       "      <td>1</td>\n",
       "      <td>moderate</td>\n",
       "      <td>$50.00</td>\n",
       "      <td>VERY CONVENIENT, WITH THE BEST LOCATION ! PLEA...</td>\n",
       "      <td>none</td>\n",
       "      <td>$10.00</td>\n",
       "      <td>2011-04-08</td>\n",
       "      <td>2</td>\n",
       "      <td>t</td>\n",
       "      <td>86%</td>\n",
       "      <td>t</td>\n",
       "      <td>t</td>\n",
       "      <td>t</td>\n",
       "      <td>2.0</td>\n",
       "      <td>Paris, Île-de-France, France</td>\n",
       "      <td>100%</td>\n",
       "      <td>within an hour</td>\n",
       "      <td>ELECTRICITY INCLUDED FOR NORMAL USING. PLEASE ...</td>\n",
       "      <td>f</td>\n",
       "      <td>NaN</td>\n",
       "      <td>f</td>\n",
       "      <td>t</td>\n",
       "      <td>2020-02-26</td>\n",
       "      <td>48.85758</td>\n",
       "      <td>https://www.airbnb.com/rooms/7397</td>\n",
       "      <td>2.35275</td>\n",
       "      <td>23</td>\n",
       "      <td>4</td>\n",
       "      <td>$2,200.00</td>\n",
       "      <td>MARAIS - 2ROOMS APT - 2/4 PEOPLE</td>\n",
       "      <td>NaN</td>\n",
       "      <td>Hôtel-de-Ville</td>\n",
       "      <td>Important: Be conscious that an apartment in a...</td>\n",
       "      <td>268</td>\n",
       "      <td>29</td>\n",
       "      <td>$119.00</td>\n",
       "      <td>Apartment</td>\n",
       "      <td>f</td>\n",
       "      <td>f</td>\n",
       "      <td>t</td>\n",
       "      <td>10.0</td>\n",
       "      <td>10.0</td>\n",
       "      <td>9.0</td>\n",
       "      <td>10.0</td>\n",
       "      <td>10.0</td>\n",
       "      <td>94.0</td>\n",
       "      <td>10.0</td>\n",
       "      <td>2.46</td>\n",
       "      <td>Entire home/apt</td>\n",
       "      <td>$200.00</td>\n",
       "      <td>PLEASE ASK ME BEFORE TO MAKE A REQUEST !!! No ...</td>\n",
       "      <td>NaN</td>\n",
       "      <td>VERY CONVENIENT, WITH THE BEST LOCATION !</td>\n",
       "      <td>Metro station HÖTEL-DE-VILLE is 100 meters close.</td>\n",
       "      <td>NaN</td>\n",
       "      <td>75004</td>\n",
       "    </tr>\n",
       "    <tr>\n",
       "      <th>7964</th>\n",
       "      <td>2</td>\n",
       "      <td>{TV,\"Cable TV\",Internet,Wifi,Kitchen,\"Buzzer/w...</td>\n",
       "      <td>274</td>\n",
       "      <td>1</td>\n",
       "      <td>1.0</td>\n",
       "      <td>Real Bed</td>\n",
       "      <td>1.0</td>\n",
       "      <td>1.0</td>\n",
       "      <td>1</td>\n",
       "      <td>strict_14_with_grace_period</td>\n",
       "      <td>$60.00</td>\n",
       "      <td>Very large &amp; nice apartment all for you!  - Su...</td>\n",
       "      <td>none</td>\n",
       "      <td>$20.00</td>\n",
       "      <td>2010-05-10</td>\n",
       "      <td>2</td>\n",
       "      <td>t</td>\n",
       "      <td>0%</td>\n",
       "      <td>t</td>\n",
       "      <td>t</td>\n",
       "      <td>f</td>\n",
       "      <td>0.0</td>\n",
       "      <td>Paris, Île-de-France, France</td>\n",
       "      <td>100%</td>\n",
       "      <td>within a few hours</td>\n",
       "      <td>Respect.</td>\n",
       "      <td>f</td>\n",
       "      <td>We are there to welcome you, give you keys and...</td>\n",
       "      <td>f</td>\n",
       "      <td>t</td>\n",
       "      <td>2015-09-14</td>\n",
       "      <td>48.87417</td>\n",
       "      <td>https://www.airbnb.com/rooms/7964</td>\n",
       "      <td>2.34245</td>\n",
       "      <td>365</td>\n",
       "      <td>6</td>\n",
       "      <td>NaN</td>\n",
       "      <td>Large &amp; sunny flat with balcony !</td>\n",
       "      <td>NaN</td>\n",
       "      <td>Opéra</td>\n",
       "      <td>NaN</td>\n",
       "      <td>6</td>\n",
       "      <td>0</td>\n",
       "      <td>$130.00</td>\n",
       "      <td>Apartment</td>\n",
       "      <td>f</td>\n",
       "      <td>f</td>\n",
       "      <td>t</td>\n",
       "      <td>10.0</td>\n",
       "      <td>10.0</td>\n",
       "      <td>10.0</td>\n",
       "      <td>10.0</td>\n",
       "      <td>10.0</td>\n",
       "      <td>96.0</td>\n",
       "      <td>10.0</td>\n",
       "      <td>0.05</td>\n",
       "      <td>Entire home/apt</td>\n",
       "      <td>$500.00</td>\n",
       "      <td>hello ! We have a great 75 square meter apartm...</td>\n",
       "      <td>0.0</td>\n",
       "      <td>Very large &amp; nice apartment all for you!  - Su...</td>\n",
       "      <td>NaN</td>\n",
       "      <td>NaN</td>\n",
       "      <td>75009</td>\n",
       "    </tr>\n",
       "    <tr>\n",
       "      <th>9359</th>\n",
       "      <td>2</td>\n",
       "      <td>{Internet,Wifi,Kitchen,Elevator,Heating,Essent...</td>\n",
       "      <td>15</td>\n",
       "      <td>0</td>\n",
       "      <td>1.0</td>\n",
       "      <td>Real Bed</td>\n",
       "      <td>1.0</td>\n",
       "      <td>1.0</td>\n",
       "      <td>1</td>\n",
       "      <td>strict_14_with_grace_period</td>\n",
       "      <td>$200.00</td>\n",
       "      <td>Location! Location! Location! Just bring your ...</td>\n",
       "      <td>none</td>\n",
       "      <td>$30.00</td>\n",
       "      <td>NaN</td>\n",
       "      <td>1</td>\n",
       "      <td>t</td>\n",
       "      <td>NaN</td>\n",
       "      <td>t</td>\n",
       "      <td>f</td>\n",
       "      <td>f</td>\n",
       "      <td>3.0</td>\n",
       "      <td>New York, New York, United States</td>\n",
       "      <td>100%</td>\n",
       "      <td>within a day</td>\n",
       "      <td>This residence is limited to TWO people and is...</td>\n",
       "      <td>f</td>\n",
       "      <td>I am available 18 hours a day by text, have lo...</td>\n",
       "      <td>f</td>\n",
       "      <td>t</td>\n",
       "      <td>NaN</td>\n",
       "      <td>48.85899</td>\n",
       "      <td>https://www.airbnb.com/rooms/9359</td>\n",
       "      <td>2.34735</td>\n",
       "      <td>365</td>\n",
       "      <td>180</td>\n",
       "      <td>$1,480.00</td>\n",
       "      <td>Cozy, Central Paris: WALK or VELIB EVERYWHERE !</td>\n",
       "      <td>NaN</td>\n",
       "      <td>Louvre</td>\n",
       "      <td>Velib station outside.</td>\n",
       "      <td>0</td>\n",
       "      <td>0</td>\n",
       "      <td>$75.00</td>\n",
       "      <td>Apartment</td>\n",
       "      <td>t</td>\n",
       "      <td>t</td>\n",
       "      <td>t</td>\n",
       "      <td>NaN</td>\n",
       "      <td>NaN</td>\n",
       "      <td>NaN</td>\n",
       "      <td>NaN</td>\n",
       "      <td>NaN</td>\n",
       "      <td>NaN</td>\n",
       "      <td>NaN</td>\n",
       "      <td>NaN</td>\n",
       "      <td>Entire home/apt</td>\n",
       "      <td>$1,500.00</td>\n",
       "      <td>Since I live in the USA, it is difficult to ma...</td>\n",
       "      <td>350.0</td>\n",
       "      <td>Location! Location! Location! Just bring your ...</td>\n",
       "      <td>All the major metros and RERs are at Les Halle...</td>\n",
       "      <td>NaN</td>\n",
       "      <td>75001</td>\n",
       "    </tr>\n",
       "  </tbody>\n",
       "</table>\n",
       "</div>"
      ],
      "text/plain": [
       "      accommodates                                          amenities  \\\n",
       "id                                                                      \n",
       "3109             2  {Internet,Wifi,Kitchen,\"Paid parking off premi...   \n",
       "5396             2  {Internet,Wifi,Kitchen,Heating,Washer,\"Smoke d...   \n",
       "7397             4  {TV,\"Cable TV\",Internet,Wifi,Kitchen,\"Paid par...   \n",
       "7964             2  {TV,\"Cable TV\",Internet,Wifi,Kitchen,\"Buzzer/w...   \n",
       "9359             2  {Internet,Wifi,Kitchen,Elevator,Heating,Essent...   \n",
       "\n",
       "      availability_365  availability_90  bathrooms       bed_type  bedrooms  \\\n",
       "id                                                                            \n",
       "3109               351               76        1.0       Real Bed       0.0   \n",
       "5396                32               32        1.0  Pull-out Sofa       0.0   \n",
       "7397               238               45        1.0       Real Bed       2.0   \n",
       "7964               274                1        1.0       Real Bed       1.0   \n",
       "9359                15                0        1.0       Real Bed       1.0   \n",
       "\n",
       "      beds  calculated_host_listings_count          cancellation_policy  \\\n",
       "id                                                                        \n",
       "3109   1.0                               1                     flexible   \n",
       "5396   1.0                               1  strict_14_with_grace_period   \n",
       "7397   2.0                               1                     moderate   \n",
       "7964   1.0                               1  strict_14_with_grace_period   \n",
       "9359   1.0                               1  strict_14_with_grace_period   \n",
       "\n",
       "     cleaning_fee                                        description  \\\n",
       "id                                                                     \n",
       "3109       $60.00  I bedroom appartment in Paris 14 Good restaura...   \n",
       "5396       $36.00  Cozy, well-appointed and graciously designed s...   \n",
       "7397       $50.00  VERY CONVENIENT, WITH THE BEST LOCATION ! PLEA...   \n",
       "7964       $60.00  Very large & nice apartment all for you!  - Su...   \n",
       "9359      $200.00  Location! Location! Location! Just bring your ...   \n",
       "\n",
       "     experiences_offered extra_people first_review  guests_included  \\\n",
       "id                                                                    \n",
       "3109                none        $0.00   2016-12-27                1   \n",
       "5396                none        $0.00   2009-06-30                1   \n",
       "7397                none       $10.00   2011-04-08                2   \n",
       "7964                none       $20.00   2010-05-10                2   \n",
       "9359                none       $30.00          NaN                1   \n",
       "\n",
       "     has_availability host_acceptance_rate host_has_profile_pic  \\\n",
       "id                                                                \n",
       "3109                t                  40%                    t   \n",
       "5396                t                 100%                    t   \n",
       "7397                t                  86%                    t   \n",
       "7964                t                   0%                    t   \n",
       "9359                t                  NaN                    t   \n",
       "\n",
       "     host_identity_verified host_is_superhost  host_listings_count  \\\n",
       "id                                                                   \n",
       "3109                      f                 f                  1.0   \n",
       "5396                      t                 f                  1.0   \n",
       "7397                      t                 t                  2.0   \n",
       "7964                      t                 f                  0.0   \n",
       "9359                      f                 f                  3.0   \n",
       "\n",
       "                          host_location host_response_rate  \\\n",
       "id                                                           \n",
       "3109       Paris, Île-de-France, France               100%   \n",
       "5396         Istanbul, İstanbul, Turkey               100%   \n",
       "7397       Paris, Île-de-France, France               100%   \n",
       "7964       Paris, Île-de-France, France               100%   \n",
       "9359  New York, New York, United States               100%   \n",
       "\n",
       "      host_response_time                                        house_rules  \\\n",
       "id                                                                            \n",
       "3109  within a few hours                                                NaN   \n",
       "5396      within an hour  This is a small flat in a very old building th...   \n",
       "7397      within an hour  ELECTRICITY INCLUDED FOR NORMAL USING. PLEASE ...   \n",
       "7964  within a few hours                                           Respect.   \n",
       "9359        within a day  This residence is limited to TWO people and is...   \n",
       "\n",
       "     instant_bookable                                        interaction  \\\n",
       "id                                                                         \n",
       "3109                f                             yes I can help you out   \n",
       "5396                t  We expect guests to operate rather independent...   \n",
       "7397                f                                                NaN   \n",
       "7964                f  We are there to welcome you, give you keys and...   \n",
       "9359                f  I am available 18 hours a day by text, have lo...   \n",
       "\n",
       "     is_business_travel_ready is_location_exact last_review  latitude  \\\n",
       "id                                                                      \n",
       "3109                        f                 f  2019-10-24  48.83349   \n",
       "5396                        f                 t  2020-03-01  48.85100   \n",
       "7397                        f                 t  2020-02-26  48.85758   \n",
       "7964                        f                 t  2015-09-14  48.87417   \n",
       "9359                        f                 t         NaN  48.85899   \n",
       "\n",
       "                            listing_url  longitude  maximum_nights  \\\n",
       "id                                                                   \n",
       "3109  https://www.airbnb.com/rooms/3109    2.31852              30   \n",
       "5396  https://www.airbnb.com/rooms/5396    2.35869               2   \n",
       "7397  https://www.airbnb.com/rooms/7397    2.35275              23   \n",
       "7964  https://www.airbnb.com/rooms/7964    2.34245             365   \n",
       "9359  https://www.airbnb.com/rooms/9359    2.34735             365   \n",
       "\n",
       "      minimum_nights monthly_price  \\\n",
       "id                                   \n",
       "3109               2           NaN   \n",
       "5396               1     $2,000.00   \n",
       "7397               4     $2,200.00   \n",
       "7964               6           NaN   \n",
       "9359             180     $1,480.00   \n",
       "\n",
       "                                                 name  \\\n",
       "id                                                      \n",
       "3109                                     zen and calm   \n",
       "5396                   Explore the heart of old Paris   \n",
       "7397                 MARAIS - 2ROOMS APT - 2/4 PEOPLE   \n",
       "7964                Large & sunny flat with balcony !   \n",
       "9359  Cozy, Central Paris: WALK or VELIB EVERYWHERE !   \n",
       "\n",
       "                                  neighborhood_overview  \\\n",
       "id                                                        \n",
       "3109  Good restaurants very close the Montparnasse S...   \n",
       "5396  You are within walking distance to the Louvre,...   \n",
       "7397                                                NaN   \n",
       "7964                                                NaN   \n",
       "9359                                                NaN   \n",
       "\n",
       "     neighbourhood_cleansed  \\\n",
       "id                            \n",
       "3109           Observatoire   \n",
       "5396         Hôtel-de-Ville   \n",
       "7397         Hôtel-de-Ville   \n",
       "7964                  Opéra   \n",
       "9359                 Louvre   \n",
       "\n",
       "                                                  notes  number_of_reviews  \\\n",
       "id                                                                           \n",
       "3109                                                NaN                  9   \n",
       "5396  The staircase leading up to the apartment is n...                215   \n",
       "7397  Important: Be conscious that an apartment in a...                268   \n",
       "7964                                                NaN                  6   \n",
       "9359                             Velib station outside.                  0   \n",
       "\n",
       "      number_of_reviews_ltm    price property_type  \\\n",
       "id                                                   \n",
       "3109                      1   $60.00     Apartment   \n",
       "5396                     48  $115.00     Apartment   \n",
       "7397                     29  $119.00     Apartment   \n",
       "7964                      0  $130.00     Apartment   \n",
       "9359                      0   $75.00     Apartment   \n",
       "\n",
       "     require_guest_phone_verification require_guest_profile_picture  \\\n",
       "id                                                                    \n",
       "3109                                f                             f   \n",
       "5396                                f                             f   \n",
       "7397                                f                             f   \n",
       "7964                                f                             f   \n",
       "9359                                t                             t   \n",
       "\n",
       "     requires_license  review_scores_accuracy  review_scores_checkin  \\\n",
       "id                                                                     \n",
       "3109                t                    10.0                   10.0   \n",
       "5396                t                     8.0                    9.0   \n",
       "7397                t                    10.0                   10.0   \n",
       "7964                t                    10.0                   10.0   \n",
       "9359                t                     NaN                    NaN   \n",
       "\n",
       "      review_scores_cleanliness  review_scores_communication  \\\n",
       "id                                                             \n",
       "3109                       10.0                         10.0   \n",
       "5396                        8.0                          9.0   \n",
       "7397                        9.0                         10.0   \n",
       "7964                       10.0                         10.0   \n",
       "9359                        NaN                          NaN   \n",
       "\n",
       "      review_scores_location  review_scores_rating  review_scores_value  \\\n",
       "id                                                                        \n",
       "3109                    10.0                 100.0                 10.0   \n",
       "5396                    10.0                  90.0                  8.0   \n",
       "7397                    10.0                  94.0                 10.0   \n",
       "7964                    10.0                  96.0                 10.0   \n",
       "9359                     NaN                   NaN                  NaN   \n",
       "\n",
       "      reviews_per_month        room_type security_deposit  \\\n",
       "id                                                          \n",
       "3109               0.23  Entire home/apt          $150.00   \n",
       "5396               1.65  Entire home/apt            $0.00   \n",
       "7397               2.46  Entire home/apt          $200.00   \n",
       "7964               0.05  Entire home/apt          $500.00   \n",
       "9359                NaN  Entire home/apt        $1,500.00   \n",
       "\n",
       "                                                  space  square_feet  \\\n",
       "id                                                                     \n",
       "3109                   I bedroom appartment in Paris 14          NaN   \n",
       "5396  Small, well appointed studio apartment at the ...          NaN   \n",
       "7397  PLEASE ASK ME BEFORE TO MAKE A REQUEST !!! No ...          NaN   \n",
       "7964  hello ! We have a great 75 square meter apartm...          0.0   \n",
       "9359  Since I live in the USA, it is difficult to ma...        350.0   \n",
       "\n",
       "                                                summary  \\\n",
       "id                                                        \n",
       "3109  Appartement très calme de 50M2 Utilisation de ...   \n",
       "5396  Cozy, well-appointed and graciously designed s...   \n",
       "7397          VERY CONVENIENT, WITH THE BEST LOCATION !   \n",
       "7964  Very large & nice apartment all for you!  - Su...   \n",
       "9359  Location! Location! Location! Just bring your ...   \n",
       "\n",
       "                                                transit weekly_price zipcode  \n",
       "id                                                                            \n",
       "3109  RER B Metro Ligne 13 Pernety Metro Ligne 13 Pl...      $490.00   75014  \n",
       "5396  The flat is close to two or three major metro ...      $600.00   75004  \n",
       "7397  Metro station HÖTEL-DE-VILLE is 100 meters close.          NaN   75004  \n",
       "7964                                                NaN          NaN   75009  \n",
       "9359  All the major metros and RERs are at Les Halle...          NaN   75001  "
      ]
     },
     "execution_count": 26,
     "metadata": {},
     "output_type": "execute_result"
    }
   ],
   "source": [
    "# Display head(5) of remaining \"data\"\n",
    "data.head(5)"
   ]
  },
  {
   "cell_type": "code",
   "execution_count": 27,
   "metadata": {
    "code_folding": [
     0
    ],
    "scrolled": true
   },
   "outputs": [
    {
     "data": {
      "text/html": [
       "<div>\n",
       "<style scoped>\n",
       "    .dataframe tbody tr th:only-of-type {\n",
       "        vertical-align: middle;\n",
       "    }\n",
       "\n",
       "    .dataframe tbody tr th {\n",
       "        vertical-align: top;\n",
       "    }\n",
       "\n",
       "    .dataframe thead th {\n",
       "        text-align: right;\n",
       "    }\n",
       "</style>\n",
       "<table border=\"1\" class=\"dataframe\">\n",
       "  <thead>\n",
       "    <tr style=\"text-align: right;\">\n",
       "      <th></th>\n",
       "      <th>count</th>\n",
       "      <th>mean</th>\n",
       "      <th>std</th>\n",
       "      <th>min</th>\n",
       "      <th>25%</th>\n",
       "      <th>50%</th>\n",
       "      <th>75%</th>\n",
       "      <th>max</th>\n",
       "    </tr>\n",
       "  </thead>\n",
       "  <tbody>\n",
       "    <tr>\n",
       "      <th>accommodates</th>\n",
       "      <td>67323.0</td>\n",
       "      <td>3.07</td>\n",
       "      <td>1.58</td>\n",
       "      <td>1.00</td>\n",
       "      <td>2.00</td>\n",
       "      <td>2.00</td>\n",
       "      <td>4.00</td>\n",
       "      <td>22.00</td>\n",
       "    </tr>\n",
       "    <tr>\n",
       "      <th>availability_365</th>\n",
       "      <td>67323.0</td>\n",
       "      <td>88.13</td>\n",
       "      <td>124.26</td>\n",
       "      <td>0.00</td>\n",
       "      <td>0.00</td>\n",
       "      <td>7.00</td>\n",
       "      <td>162.00</td>\n",
       "      <td>365.00</td>\n",
       "    </tr>\n",
       "    <tr>\n",
       "      <th>availability_90</th>\n",
       "      <td>67323.0</td>\n",
       "      <td>23.03</td>\n",
       "      <td>31.88</td>\n",
       "      <td>0.00</td>\n",
       "      <td>0.00</td>\n",
       "      <td>0.00</td>\n",
       "      <td>46.00</td>\n",
       "      <td>90.00</td>\n",
       "    </tr>\n",
       "    <tr>\n",
       "      <th>bathrooms</th>\n",
       "      <td>67272.0</td>\n",
       "      <td>1.13</td>\n",
       "      <td>0.65</td>\n",
       "      <td>0.00</td>\n",
       "      <td>1.00</td>\n",
       "      <td>1.00</td>\n",
       "      <td>1.00</td>\n",
       "      <td>50.00</td>\n",
       "    </tr>\n",
       "    <tr>\n",
       "      <th>bedrooms</th>\n",
       "      <td>67179.0</td>\n",
       "      <td>1.09</td>\n",
       "      <td>0.99</td>\n",
       "      <td>0.00</td>\n",
       "      <td>1.00</td>\n",
       "      <td>1.00</td>\n",
       "      <td>1.00</td>\n",
       "      <td>50.00</td>\n",
       "    </tr>\n",
       "    <tr>\n",
       "      <th>beds</th>\n",
       "      <td>66787.0</td>\n",
       "      <td>1.67</td>\n",
       "      <td>1.13</td>\n",
       "      <td>0.00</td>\n",
       "      <td>1.00</td>\n",
       "      <td>1.00</td>\n",
       "      <td>2.00</td>\n",
       "      <td>50.00</td>\n",
       "    </tr>\n",
       "    <tr>\n",
       "      <th>calculated_host_listings_count</th>\n",
       "      <td>67323.0</td>\n",
       "      <td>8.43</td>\n",
       "      <td>34.14</td>\n",
       "      <td>1.00</td>\n",
       "      <td>1.00</td>\n",
       "      <td>1.00</td>\n",
       "      <td>1.00</td>\n",
       "      <td>301.00</td>\n",
       "    </tr>\n",
       "    <tr>\n",
       "      <th>guests_included</th>\n",
       "      <td>67323.0</td>\n",
       "      <td>1.51</td>\n",
       "      <td>1.14</td>\n",
       "      <td>1.00</td>\n",
       "      <td>1.00</td>\n",
       "      <td>1.00</td>\n",
       "      <td>2.00</td>\n",
       "      <td>100.00</td>\n",
       "    </tr>\n",
       "    <tr>\n",
       "      <th>host_listings_count</th>\n",
       "      <td>67315.0</td>\n",
       "      <td>14.22</td>\n",
       "      <td>82.91</td>\n",
       "      <td>0.00</td>\n",
       "      <td>1.00</td>\n",
       "      <td>1.00</td>\n",
       "      <td>2.00</td>\n",
       "      <td>1232.00</td>\n",
       "    </tr>\n",
       "    <tr>\n",
       "      <th>latitude</th>\n",
       "      <td>67323.0</td>\n",
       "      <td>48.86</td>\n",
       "      <td>0.02</td>\n",
       "      <td>48.81</td>\n",
       "      <td>48.85</td>\n",
       "      <td>48.87</td>\n",
       "      <td>48.88</td>\n",
       "      <td>48.91</td>\n",
       "    </tr>\n",
       "    <tr>\n",
       "      <th>longitude</th>\n",
       "      <td>67323.0</td>\n",
       "      <td>2.35</td>\n",
       "      <td>0.03</td>\n",
       "      <td>2.23</td>\n",
       "      <td>2.32</td>\n",
       "      <td>2.35</td>\n",
       "      <td>2.37</td>\n",
       "      <td>2.47</td>\n",
       "    </tr>\n",
       "    <tr>\n",
       "      <th>maximum_nights</th>\n",
       "      <td>67323.0</td>\n",
       "      <td>859.59</td>\n",
       "      <td>38545.19</td>\n",
       "      <td>1.00</td>\n",
       "      <td>30.00</td>\n",
       "      <td>1125.00</td>\n",
       "      <td>1125.00</td>\n",
       "      <td>10000000.00</td>\n",
       "    </tr>\n",
       "    <tr>\n",
       "      <th>minimum_nights</th>\n",
       "      <td>67323.0</td>\n",
       "      <td>5.27</td>\n",
       "      <td>43.59</td>\n",
       "      <td>1.00</td>\n",
       "      <td>1.00</td>\n",
       "      <td>2.00</td>\n",
       "      <td>4.00</td>\n",
       "      <td>9999.00</td>\n",
       "    </tr>\n",
       "    <tr>\n",
       "      <th>number_of_reviews</th>\n",
       "      <td>67323.0</td>\n",
       "      <td>20.41</td>\n",
       "      <td>42.16</td>\n",
       "      <td>0.00</td>\n",
       "      <td>1.00</td>\n",
       "      <td>6.00</td>\n",
       "      <td>21.00</td>\n",
       "      <td>867.00</td>\n",
       "    </tr>\n",
       "    <tr>\n",
       "      <th>number_of_reviews_ltm</th>\n",
       "      <td>67323.0</td>\n",
       "      <td>7.06</td>\n",
       "      <td>13.63</td>\n",
       "      <td>0.00</td>\n",
       "      <td>0.00</td>\n",
       "      <td>2.00</td>\n",
       "      <td>9.00</td>\n",
       "      <td>639.00</td>\n",
       "    </tr>\n",
       "    <tr>\n",
       "      <th>review_scores_accuracy</th>\n",
       "      <td>52249.0</td>\n",
       "      <td>9.58</td>\n",
       "      <td>0.83</td>\n",
       "      <td>2.00</td>\n",
       "      <td>9.00</td>\n",
       "      <td>10.00</td>\n",
       "      <td>10.00</td>\n",
       "      <td>10.00</td>\n",
       "    </tr>\n",
       "    <tr>\n",
       "      <th>review_scores_checkin</th>\n",
       "      <td>52233.0</td>\n",
       "      <td>9.66</td>\n",
       "      <td>0.77</td>\n",
       "      <td>2.00</td>\n",
       "      <td>10.00</td>\n",
       "      <td>10.00</td>\n",
       "      <td>10.00</td>\n",
       "      <td>10.00</td>\n",
       "    </tr>\n",
       "    <tr>\n",
       "      <th>review_scores_cleanliness</th>\n",
       "      <td>52260.0</td>\n",
       "      <td>9.18</td>\n",
       "      <td>1.10</td>\n",
       "      <td>2.00</td>\n",
       "      <td>9.00</td>\n",
       "      <td>9.00</td>\n",
       "      <td>10.00</td>\n",
       "      <td>10.00</td>\n",
       "    </tr>\n",
       "    <tr>\n",
       "      <th>review_scores_communication</th>\n",
       "      <td>52255.0</td>\n",
       "      <td>9.70</td>\n",
       "      <td>0.75</td>\n",
       "      <td>2.00</td>\n",
       "      <td>10.00</td>\n",
       "      <td>10.00</td>\n",
       "      <td>10.00</td>\n",
       "      <td>10.00</td>\n",
       "    </tr>\n",
       "    <tr>\n",
       "      <th>review_scores_location</th>\n",
       "      <td>52234.0</td>\n",
       "      <td>9.67</td>\n",
       "      <td>0.68</td>\n",
       "      <td>2.00</td>\n",
       "      <td>9.00</td>\n",
       "      <td>10.00</td>\n",
       "      <td>10.00</td>\n",
       "      <td>10.00</td>\n",
       "    </tr>\n",
       "    <tr>\n",
       "      <th>review_scores_rating</th>\n",
       "      <td>52303.0</td>\n",
       "      <td>92.68</td>\n",
       "      <td>8.86</td>\n",
       "      <td>20.00</td>\n",
       "      <td>90.00</td>\n",
       "      <td>95.00</td>\n",
       "      <td>99.00</td>\n",
       "      <td>100.00</td>\n",
       "    </tr>\n",
       "    <tr>\n",
       "      <th>review_scores_value</th>\n",
       "      <td>52234.0</td>\n",
       "      <td>9.23</td>\n",
       "      <td>0.94</td>\n",
       "      <td>2.00</td>\n",
       "      <td>9.00</td>\n",
       "      <td>9.00</td>\n",
       "      <td>10.00</td>\n",
       "      <td>10.00</td>\n",
       "    </tr>\n",
       "    <tr>\n",
       "      <th>reviews_per_month</th>\n",
       "      <td>53400.0</td>\n",
       "      <td>1.08</td>\n",
       "      <td>1.36</td>\n",
       "      <td>0.01</td>\n",
       "      <td>0.21</td>\n",
       "      <td>0.61</td>\n",
       "      <td>1.42</td>\n",
       "      <td>39.78</td>\n",
       "    </tr>\n",
       "    <tr>\n",
       "      <th>square_feet</th>\n",
       "      <td>1032.0</td>\n",
       "      <td>407.26</td>\n",
       "      <td>449.06</td>\n",
       "      <td>0.00</td>\n",
       "      <td>0.00</td>\n",
       "      <td>344.00</td>\n",
       "      <td>592.00</td>\n",
       "      <td>6458.00</td>\n",
       "    </tr>\n",
       "  </tbody>\n",
       "</table>\n",
       "</div>"
      ],
      "text/plain": [
       "                                  count    mean       std    min    25%  \\\n",
       "accommodates                    67323.0    3.07      1.58   1.00   2.00   \n",
       "availability_365                67323.0   88.13    124.26   0.00   0.00   \n",
       "availability_90                 67323.0   23.03     31.88   0.00   0.00   \n",
       "bathrooms                       67272.0    1.13      0.65   0.00   1.00   \n",
       "bedrooms                        67179.0    1.09      0.99   0.00   1.00   \n",
       "beds                            66787.0    1.67      1.13   0.00   1.00   \n",
       "calculated_host_listings_count  67323.0    8.43     34.14   1.00   1.00   \n",
       "guests_included                 67323.0    1.51      1.14   1.00   1.00   \n",
       "host_listings_count             67315.0   14.22     82.91   0.00   1.00   \n",
       "latitude                        67323.0   48.86      0.02  48.81  48.85   \n",
       "longitude                       67323.0    2.35      0.03   2.23   2.32   \n",
       "maximum_nights                  67323.0  859.59  38545.19   1.00  30.00   \n",
       "minimum_nights                  67323.0    5.27     43.59   1.00   1.00   \n",
       "number_of_reviews               67323.0   20.41     42.16   0.00   1.00   \n",
       "number_of_reviews_ltm           67323.0    7.06     13.63   0.00   0.00   \n",
       "review_scores_accuracy          52249.0    9.58      0.83   2.00   9.00   \n",
       "review_scores_checkin           52233.0    9.66      0.77   2.00  10.00   \n",
       "review_scores_cleanliness       52260.0    9.18      1.10   2.00   9.00   \n",
       "review_scores_communication     52255.0    9.70      0.75   2.00  10.00   \n",
       "review_scores_location          52234.0    9.67      0.68   2.00   9.00   \n",
       "review_scores_rating            52303.0   92.68      8.86  20.00  90.00   \n",
       "review_scores_value             52234.0    9.23      0.94   2.00   9.00   \n",
       "reviews_per_month               53400.0    1.08      1.36   0.01   0.21   \n",
       "square_feet                      1032.0  407.26    449.06   0.00   0.00   \n",
       "\n",
       "                                    50%      75%          max  \n",
       "accommodates                       2.00     4.00        22.00  \n",
       "availability_365                   7.00   162.00       365.00  \n",
       "availability_90                    0.00    46.00        90.00  \n",
       "bathrooms                          1.00     1.00        50.00  \n",
       "bedrooms                           1.00     1.00        50.00  \n",
       "beds                               1.00     2.00        50.00  \n",
       "calculated_host_listings_count     1.00     1.00       301.00  \n",
       "guests_included                    1.00     2.00       100.00  \n",
       "host_listings_count                1.00     2.00      1232.00  \n",
       "latitude                          48.87    48.88        48.91  \n",
       "longitude                          2.35     2.37         2.47  \n",
       "maximum_nights                  1125.00  1125.00  10000000.00  \n",
       "minimum_nights                     2.00     4.00      9999.00  \n",
       "number_of_reviews                  6.00    21.00       867.00  \n",
       "number_of_reviews_ltm              2.00     9.00       639.00  \n",
       "review_scores_accuracy            10.00    10.00        10.00  \n",
       "review_scores_checkin             10.00    10.00        10.00  \n",
       "review_scores_cleanliness          9.00    10.00        10.00  \n",
       "review_scores_communication       10.00    10.00        10.00  \n",
       "review_scores_location            10.00    10.00        10.00  \n",
       "review_scores_rating              95.00    99.00       100.00  \n",
       "review_scores_value                9.00    10.00        10.00  \n",
       "reviews_per_month                  0.61     1.42        39.78  \n",
       "square_feet                      344.00   592.00      6458.00  "
      ]
     },
     "execution_count": 27,
     "metadata": {},
     "output_type": "execute_result"
    }
   ],
   "source": [
    "# Describe data (summary)\n",
    "data.describe().round(2).T"
   ]
  },
  {
   "cell_type": "markdown",
   "metadata": {},
   "source": [
    "Data.describe gives a positive impression of the dataset quality. Certain features have missing values and it is noticeable that not all features which should have numeric values show up, which indicates that there may be some issues with datatypes."
   ]
  },
  {
   "cell_type": "code",
   "execution_count": 28,
   "metadata": {
    "code_folding": [
     0
    ],
    "scrolled": true
   },
   "outputs": [
    {
     "name": "stdout",
     "output_type": "stream",
     "text": [
      "<class 'pandas.core.frame.DataFrame'>\n",
      "Int64Index: 67323 entries, 3109 to 42913034\n",
      "Data columns (total 64 columns):\n",
      " #   Column                            Non-Null Count  Dtype  \n",
      "---  ------                            --------------  -----  \n",
      " 0   accommodates                      67323 non-null  int64  \n",
      " 1   amenities                         67323 non-null  object \n",
      " 2   availability_365                  67323 non-null  int64  \n",
      " 3   availability_90                   67323 non-null  int64  \n",
      " 4   bathrooms                         67272 non-null  float64\n",
      " 5   bed_type                          67323 non-null  object \n",
      " 6   bedrooms                          67179 non-null  float64\n",
      " 7   beds                              66787 non-null  float64\n",
      " 8   calculated_host_listings_count    67323 non-null  int64  \n",
      " 9   cancellation_policy               67323 non-null  object \n",
      " 10  cleaning_fee                      50501 non-null  object \n",
      " 11  description                       66206 non-null  object \n",
      " 12  experiences_offered               67323 non-null  object \n",
      " 13  extra_people                      67323 non-null  object \n",
      " 14  first_review                      53400 non-null  object \n",
      " 15  guests_included                   67323 non-null  int64  \n",
      " 16  has_availability                  67323 non-null  object \n",
      " 17  host_acceptance_rate              47482 non-null  object \n",
      " 18  host_has_profile_pic              67315 non-null  object \n",
      " 19  host_identity_verified            67315 non-null  object \n",
      " 20  host_is_superhost                 67315 non-null  object \n",
      " 21  host_listings_count               67315 non-null  float64\n",
      " 22  host_location                     67155 non-null  object \n",
      " 23  host_response_rate                37207 non-null  object \n",
      " 24  host_response_time                37207 non-null  object \n",
      " 25  house_rules                       32716 non-null  object \n",
      " 26  instant_bookable                  67323 non-null  object \n",
      " 27  interaction                       35407 non-null  object \n",
      " 28  is_business_travel_ready          67323 non-null  object \n",
      " 29  is_location_exact                 67323 non-null  object \n",
      " 30  last_review                       53400 non-null  object \n",
      " 31  latitude                          67323 non-null  float64\n",
      " 32  listing_url                       67323 non-null  object \n",
      " 33  longitude                         67323 non-null  float64\n",
      " 34  maximum_nights                    67323 non-null  int64  \n",
      " 35  minimum_nights                    67323 non-null  int64  \n",
      " 36  monthly_price                     5844 non-null   object \n",
      " 37  name                              67257 non-null  object \n",
      " 38  neighborhood_overview             43413 non-null  object \n",
      " 39  neighbourhood_cleansed            67323 non-null  object \n",
      " 40  notes                             20121 non-null  object \n",
      " 41  number_of_reviews                 67323 non-null  int64  \n",
      " 42  number_of_reviews_ltm             67323 non-null  int64  \n",
      " 43  price                             67323 non-null  object \n",
      " 44  property_type                     67323 non-null  object \n",
      " 45  require_guest_phone_verification  67323 non-null  object \n",
      " 46  require_guest_profile_picture     67323 non-null  object \n",
      " 47  requires_license                  67323 non-null  object \n",
      " 48  review_scores_accuracy            52249 non-null  float64\n",
      " 49  review_scores_checkin             52233 non-null  float64\n",
      " 50  review_scores_cleanliness         52260 non-null  float64\n",
      " 51  review_scores_communication       52255 non-null  float64\n",
      " 52  review_scores_location            52234 non-null  float64\n",
      " 53  review_scores_rating              52303 non-null  float64\n",
      " 54  review_scores_value               52234 non-null  float64\n",
      " 55  reviews_per_month                 53400 non-null  float64\n",
      " 56  room_type                         67323 non-null  object \n",
      " 57  security_deposit                  47641 non-null  object \n",
      " 58  space                             47489 non-null  object \n",
      " 59  square_feet                       1032 non-null   float64\n",
      " 60  summary                           64486 non-null  object \n",
      " 61  transit                           45918 non-null  object \n",
      " 62  weekly_price                      9254 non-null   object \n",
      " 63  zipcode                           66715 non-null  object \n",
      "dtypes: float64(15), int64(9), object(40)\n",
      "memory usage: 33.4+ MB\n"
     ]
    }
   ],
   "source": [
    "# List datatypes (data.info()) (pre-cleaning)\n",
    "data.info()"
   ]
  },
  {
   "cell_type": "markdown",
   "metadata": {},
   "source": [
    "As expected, various numerical features are currently stored as objects and need to be transformed (e.g. cleaning_fee, extra_people, first_review, price, ...). Additionally, there are actually quite a few columns with missing values."
   ]
  },
  {
   "cell_type": "code",
   "execution_count": 29,
   "metadata": {
    "code_folding": [
     0
    ],
    "scrolled": true
   },
   "outputs": [],
   "source": [
    "# Show maximum/minimum value for each numerical column\n",
    "#num_features = list(data.columns[data.dtypes!=object])\n",
    "#data[num_features].max()\n",
    "#data[num_features].min()"
   ]
  },
  {
   "cell_type": "markdown",
   "metadata": {},
   "source": [
    "Several rows with unusually high values can be identified and may in some cases be dropped at a certain threshold during data handling. Some particular features include:\n",
    "\n",
    "| **FEATURE** | **MAX_VALUE** |\n",
    "| :----- | :----- |\n",
    "| **calculated_host_listings_count** | 57 |\n",
    "| **accommodates** | 24 |\n",
    "| **bedrooms** | 12 |\n",
    "| **beds** | 24 |\n",
    "| **minimum_nights** | 1.124 |\n",
    "| **maximum_nights** | 10.000 |\n",
    "| **number_of_reviews_ltm** | 590 (potentially misleading; actually had less reviews on Airbnb |"
   ]
  },
  {
   "cell_type": "code",
   "execution_count": 30,
   "metadata": {
    "code_folding": [
     0
    ]
   },
   "outputs": [
    {
     "data": {
      "text/plain": [
       "accommodates                           19\n",
       "amenities                           59492\n",
       "availability_365                      366\n",
       "availability_90                        91\n",
       "bathrooms                              19\n",
       "bed_type                                5\n",
       "bedrooms                               14\n",
       "beds                                   19\n",
       "calculated_host_listings_count         67\n",
       "cancellation_policy                     8\n",
       "cleaning_fee                          214\n",
       "description                         65140\n",
       "experiences_offered                     1\n",
       "extra_people                          102\n",
       "first_review                         2981\n",
       "guests_included                        17\n",
       "has_availability                        1\n",
       "host_acceptance_rate                   99\n",
       "host_has_profile_pic                    2\n",
       "host_identity_verified                  2\n",
       "host_is_superhost                       2\n",
       "host_listings_count                    96\n",
       "host_location                        2193\n",
       "host_response_rate                     73\n",
       "host_response_time                      4\n",
       "house_rules                         23478\n",
       "instant_bookable                        2\n",
       "interaction                         27036\n",
       "is_business_travel_ready                1\n",
       "is_location_exact                       2\n",
       "last_review                          2010\n",
       "latitude                             7832\n",
       "listing_url                         67323\n",
       "longitude                           14130\n",
       "maximum_nights                        258\n",
       "minimum_nights                         99\n",
       "monthly_price                         699\n",
       "name                                64267\n",
       "neighborhood_overview               37851\n",
       "neighbourhood_cleansed                 20\n",
       "notes                               16558\n",
       "number_of_reviews                     437\n",
       "number_of_reviews_ltm                 147\n",
       "price                                 790\n",
       "property_type                          33\n",
       "require_guest_phone_verification        2\n",
       "require_guest_profile_picture           2\n",
       "requires_license                        2\n",
       "review_scores_accuracy                  9\n",
       "review_scores_checkin                   9\n",
       "review_scores_cleanliness               9\n",
       "review_scores_communication             9\n",
       "review_scores_location                  9\n",
       "review_scores_rating                   58\n",
       "review_scores_value                     9\n",
       "reviews_per_month                     899\n",
       "room_type                               4\n",
       "security_deposit                      731\n",
       "space                               45966\n",
       "square_feet                           125\n",
       "summary                             62391\n",
       "transit                             43061\n",
       "weekly_price                          666\n",
       "zipcode                               122\n",
       "dtype: int64"
      ]
     },
     "execution_count": 30,
     "metadata": {},
     "output_type": "execute_result"
    }
   ],
   "source": [
    "# List unique entries per column\n",
    "data.nunique()"
   ]
  },
  {
   "cell_type": "markdown",
   "metadata": {},
   "source": [
    "Three main insights from unique values:\n",
    "\n",
    "- Some columns have only 1 value and can be dropped\n",
    "- Some other columns have 2 values and appear to be true/false (i.e. can be recoded as 1/0)\n",
    "- Certain columns have a high number of unique values, which can probably be clustered into a few relevant ones (e.g. cancellation_policy, property_type)"
   ]
  },
  {
   "cell_type": "code",
   "execution_count": 31,
   "metadata": {
    "code_folding": [
     0
    ]
   },
   "outputs": [
    {
     "name": "stdout",
     "output_type": "stream",
     "text": [
      "square_feet                    66291\n",
      "monthly_price                  61479\n",
      "weekly_price                   58069\n",
      "notes                          47202\n",
      "house_rules                    34607\n",
      "interaction                    31916\n",
      "host_response_rate             30116\n",
      "host_response_time             30116\n",
      "neighborhood_overview          23910\n",
      "transit                        21405\n",
      "host_acceptance_rate           19841\n",
      "space                          19834\n",
      "security_deposit               19682\n",
      "cleaning_fee                   16822\n",
      "review_scores_checkin          15090\n",
      "review_scores_location         15089\n",
      "review_scores_value            15089\n",
      "review_scores_accuracy         15074\n",
      "review_scores_communication    15068\n",
      "review_scores_cleanliness      15063\n",
      "review_scores_rating           15020\n",
      "last_review                    13923\n",
      "reviews_per_month              13923\n",
      "first_review                   13923\n",
      "summary                         2837\n",
      "description                     1117\n",
      "zipcode                          608\n",
      "beds                             536\n",
      "host_location                    168\n",
      "bedrooms                         144\n",
      "name                              66\n",
      "bathrooms                         51\n",
      "host_identity_verified             8\n",
      "host_has_profile_pic               8\n",
      "host_is_superhost                  8\n",
      "host_listings_count                8\n",
      "dtype: int64\n"
     ]
    }
   ],
   "source": [
    "# List missing values (pre-cleaning)\n",
    "\n",
    "\n",
    "def count_missing(data):\n",
    "    null_cols = data.columns[data.isnull().any(axis=0)]\n",
    "    X_null = data[null_cols].isnull().sum()\n",
    "    X_null = X_null.sort_values(ascending=False)\n",
    "    print(X_null)\n",
    "\n",
    "\n",
    "count_missing(data)"
   ]
  },
  {
   "cell_type": "markdown",
   "metadata": {},
   "source": [
    "Various features have a lot of missing values. In particular, there is an observable cut where many features have more than 4.500 missing values and the rest has less than 1.000. The former - except for review_scores - shall be removed, the latter imputed."
   ]
  },
  {
   "cell_type": "markdown",
   "metadata": {},
   "source": [
    "**Conclusions (selection)**"
   ]
  },
  {
   "cell_type": "markdown",
   "metadata": {},
   "source": [
    "- **host_response_rate** and **host_response_time** are unfortunately not available for half of the dataset and consequently the columns are removed\n",
    "- **review_scores** are difficult to replace if they do not exist, but at 0 they will distort the modeling. Hence, missing values are set to mean of the column\n",
    "- listings without **name** and the few rows without enhanced **host information** (e.g. superhost), **bedrooms** or **bathrooms** are removed and not substantial in number\n",
    "- missing values for **summary** and **description** are replaced with \"\" and kept in order to calculate length during feature engineering\n",
    "- several features with missing values will be directly converted to 1/0 for simplification (**house_rules, security_deposit, space, cleaning_fee, monthly_price, weekly_price**)"
   ]
  },
  {
   "cell_type": "markdown",
   "metadata": {},
   "source": [
    "## Define data cleaning functions"
   ]
  },
  {
   "cell_type": "markdown",
   "metadata": {},
   "source": [
    "**Handle missing/incorrect values**"
   ]
  },
  {
   "cell_type": "code",
   "execution_count": 32,
   "metadata": {
    "code_folding": [
     0
    ]
   },
   "outputs": [],
   "source": [
    "# Define function for filling missing/incorrect values\n",
    "\n",
    "def cln_fill_missing_val(data):\n",
    "   \n",
    "    # Convert columns with missing values to 1/0\n",
    "    data.security_deposit.fillna(\"0\", inplace=True)\n",
    "    data.cleaning_fee.fillna(\"0\", inplace=True)\n",
    "    data.monthly_price.fillna(\"0\", inplace=True)\n",
    "    data.weekly_price.fillna(\"0\", inplace=True)\n",
    "\n",
    "    \n",
    "    # Fill missing values of \"beds\" with 0 and then set all with \"bed_type\" Real Bed to at least 1, those with value \"0\" to 0.5\n",
    "    data.beds.fillna(0, inplace=True)\n",
    "    data.beds = np.where((data.beds == 0) & (data.bed_type == \"Real Bed\"), 1,\n",
    "                         data.beds)\n",
    "    data.beds = np.where((data.beds == 0), 0.5, data.beds)\n",
    "\n",
    "    \n",
    "    # Set all with \"bathrooms\" and \"bedrooms\" 0 to at least 0.5\n",
    "    data.bathrooms = np.where(data.bathrooms == 0, 0.5, data.bathrooms)\n",
    "    data.bedrooms = np.where(data.bedrooms == 0, 0.5, data.bedrooms)\n",
    "\n",
    "    \n",
    "    # Fill review_scores with median\n",
    "    data.review_scores_rating.fillna(data.review_scores_rating.median(),\n",
    "                                     inplace=True)\n",
    "    data.review_scores_value.fillna(data.review_scores_value.median(),\n",
    "                                    inplace=True)\n",
    "    data.review_scores_checkin.fillna(data.review_scores_checkin.median(),\n",
    "                                      inplace=True)\n",
    "    data.review_scores_location.fillna(data.review_scores_location.median(),\n",
    "                                       inplace=True)\n",
    "    data.review_scores_communication.fillna(\n",
    "        data.review_scores_communication.median(), inplace=True)\n",
    "    data.review_scores_accuracy.fillna(data.review_scores_accuracy.median(),\n",
    "                                       inplace=True)\n",
    "    data.review_scores_cleanliness.fillna(\n",
    "        data.review_scores_cleanliness.median(), inplace=True)\n",
    "\n",
    "    \n",
    "    # Fill host_response/acceptance columns with median/\"unknown\"\n",
    "    data.host_response_time.fillna(\"unknown\", inplace=True)\n",
    "    data.host_acceptance_rate.fillna(data.review_scores_rating.median(),\n",
    "                                     inplace=True)\n",
    "    data.host_response_rate.fillna(data.review_scores_rating.median(),\n",
    "                                   inplace=True)\n",
    "\n",
    "    \n",
    "    # Fill missing text values with \"\"\n",
    "    data.description.fillna(\"\", inplace=True)\n",
    "    data.interaction.fillna(\"\", inplace=True)\n",
    "    data.house_rules.fillna(\"\", inplace=True)\n",
    "    data.neighborhood_overview.fillna(\"\", inplace=True)\n",
    "    data.notes.fillna(\"\", inplace=True)\n",
    "    data.space.fillna(\"\", inplace=True)\n",
    "    data.summary.fillna(\"\", inplace=True)\n",
    "    data.transit.fillna(\"\", inplace=True)\n",
    "    \n",
    "    return data"
   ]
  },
  {
   "cell_type": "markdown",
   "metadata": {},
   "source": [
    "**Handle wrong/varying datatypes**"
   ]
  },
  {
   "cell_type": "code",
   "execution_count": 33,
   "metadata": {
    "code_folding": [
     0
    ]
   },
   "outputs": [],
   "source": [
    "# Define function for changing datatypes\n",
    "\n",
    "def cln_chg_datatypes(data):\n",
    "    \n",
    "    # Convert numeric objects to float\n",
    "    data.cleaning_fee = [\n",
    "        float(i.strip(\"$\").replace(\",\", \"\")) for i in data.cleaning_fee\n",
    "    ]\n",
    "    data.extra_people = [\n",
    "        float(i.strip(\"$\").replace(\",\", \"\")) for i in data.extra_people\n",
    "    ]\n",
    "    data.host_acceptance_rate = [\n",
    "        float(str(i).strip(\"%\")) for i in data.host_acceptance_rate\n",
    "    ]\n",
    "    data.host_response_rate = [\n",
    "        float(str(i).strip(\"%\")) for i in data.host_response_rate\n",
    "    ]\n",
    "    data.monthly_price = [\n",
    "        float(i.strip(\"$\").replace(\",\", \"\")) for i in data.monthly_price\n",
    "    ]\n",
    "    data.price = [float(i.strip(\"$\").replace(\",\", \"\")) for i in data.price]\n",
    "    data.security_deposit = [\n",
    "        float(i.strip(\"$\").replace(\",\", \"\")) for i in data.security_deposit\n",
    "    ]\n",
    "    data.weekly_price = [\n",
    "        float(i.strip(\"$\").replace(\",\", \"\")) for i in data.weekly_price\n",
    "    ]\n",
    "\n",
    "    \n",
    "    # Convert varying zipcode datatypes to string\n",
    "    data.zipcode = [\"zip_\" + str(i)[:5] for i in data.zipcode]\n",
    "\n",
    "    \n",
    "    # Convert date objects to datetime\n",
    "    data.first_review = data.first_review.astype('datetime64[D]')\n",
    "    data.last_review = data.last_review.astype('datetime64[D]')\n",
    "    \n",
    "    return data"
   ]
  },
  {
   "cell_type": "markdown",
   "metadata": {},
   "source": [
    "**Add select amenities as column to data**"
   ]
  },
  {
   "cell_type": "code",
   "execution_count": 34,
   "metadata": {
    "code_folding": [
     0
    ]
   },
   "outputs": [],
   "source": [
    "# Define function for selecting amenities\n",
    "\n",
    "def cln_sel_amenities(data):\n",
    "  \n",
    "    # Create temporary list with all amenities per listing\n",
    "    amenities_temp = [\n",
    "        data.amenities[i].strip(\"{\").strip(\"}\").split(',') for i in data.index\n",
    "    ]\n",
    "\n",
    "    \n",
    "    # Add all amenities to single list in order to count occurrences\n",
    "    amenities = []\n",
    "    for lst in amenities_temp:\n",
    "        for item in lst:\n",
    "            amenities.append(item)\n",
    "    amenities = pd.Series(amenities)\n",
    "\n",
    "    \n",
    "    # Display count of individual amenities\n",
    "    #print(amenities.value_counts())\n",
    "\n",
    "    \n",
    "    # Add select amenities as distinct columns to data\n",
    "    data.loc[data.amenities.str.contains('Balcony|Patio'), 'am_balcony'] = 1\n",
    "    data.am_balcony.fillna(0, inplace=True)\n",
    "\n",
    "    data.loc[data.amenities.str.contains(\n",
    "        'Beach view|Beachfront|Lake access|Mountain view|Ski-in/Ski-out|Waterfront'\n",
    "    ), 'am_nature_and_views'] = 1\n",
    "    data.am_nature_and_views.fillna(0, inplace=True)\n",
    "\n",
    "    data.loc[data.amenities.str.contains('Breakfast'), 'am_breakfast'] = 1\n",
    "    data.am_breakfast.fillna(0, inplace=True)\n",
    "\n",
    "    data.loc[data.amenities.str.contains('TV'), 'am_tv'] = 1\n",
    "    data.am_tv.fillna(0, inplace=True)\n",
    "\n",
    "    data.loc[data.amenities.str.contains('Coffee maker|Espresso machine'),\n",
    "             'am_coffee_machine'] = 1\n",
    "    data.am_coffee_machine.fillna(0, inplace=True)\n",
    "\n",
    "    data.loc[data.amenities.str.contains('Cooking basics'),\n",
    "             'am_cooking_basics'] = 1\n",
    "    data.am_cooking_basics.fillna(0, inplace=True)\n",
    "\n",
    "    data.loc[data.amenities.str.contains('Dishwasher|Dryer|Washer'),\n",
    "             'am_white_goods'] = 1\n",
    "    data.am_white_goods.fillna(0, inplace=True)\n",
    "\n",
    "    data.loc[data.amenities.str.contains('Elevator'), 'am_elevator'] = 1\n",
    "    data.am_elevator.fillna(0, inplace=True)\n",
    "\n",
    "    data.loc[data.amenities.str.contains('Essentials'), 'am_essentials'] = 1\n",
    "    data.am_essentials.fillna(0, inplace=True)\n",
    "\n",
    "    data.loc[\n",
    "        data.amenities.str.contains('Family/kid friendly|Children|children'),\n",
    "        'am_child_friendly'] = 1\n",
    "    data.am_child_friendly.fillna(0, inplace=True)\n",
    "\n",
    "    data.loc[data.amenities.str.contains('parking'), 'am_parking'] = 1\n",
    "    data.am_parking.fillna(0, inplace=True)\n",
    "\n",
    "    data.loc[data.amenities.str.contains('Pets|pet|Cat(s)|Dog(s)'),\n",
    "             'am_pets_allowed'] = 1\n",
    "    data.am_pets_allowed.fillna(0, inplace=True)\n",
    "\n",
    "    data.loc[data.amenities.str.contains('Private entrance'),\n",
    "             'am_private_entrance'] = 1\n",
    "    data.am_private_entrance.fillna(0, inplace=True)\n",
    "\n",
    "    data.loc[data.amenities.str.contains('Smoking allowed'),\n",
    "             'am_smoking_allowed'] = 1\n",
    "    data.am_smoking_allowed.fillna(0, inplace=True)\n",
    "    \n",
    "    return data"
   ]
  },
  {
   "cell_type": "markdown",
   "metadata": {},
   "source": [
    "Out of the full list of amenities, not all will have a significant impact on the price. For the purpose of this analysis, an initial selection has been made and then enhanced by some great [previous work](https://github.com/L-Lewis/Airbnb-neural-network-price-prediction/blob/master/Airbnb-price-prediction.ipynb) on selecting relevant amenities. Additionally, most amenities with a split of more than 90/10 between 1/0 have been **removed (strikethrough in the list)** - except for some that were deemed substantial (24-hour check-in, breakfast, essentials, nature and views)\n",
    "\n",
    "| **NEW COLUMN** | **PREVIOUS AMENITY/IES** |\n",
    "| :----- | :----- |\n",
    "| <s>**am_check_in_24h**</s> | <s>24-hour check-in</s> |\n",
    "| **<s>am_air_con</s>** | <s>Air conditioning/central air conditioning</s> |\n",
    "| **am_balcony** | Balcony/patio or balcony |\n",
    "| **am_nature_and_views** | Beach view/beachfront/lake access/mountain view/ski-in ski-out/waterfront (i.e. great location/views) |\n",
    "| **am_breakfast** | Breakfast |\n",
    "| **am_tv** | Cable TV/TV |\n",
    "| **am_coffee_machine** | Coffee maker/espresso machine |\n",
    "| **am_cooking_basics** | Cooking basics |\n",
    "| **am_white_goods** | Dishwasher/Dryer/Washer/Washer and dryer |\n",
    "| **am_elevator** | Elevator |\n",
    "| <s>**am_gym**</s> | <s>Exercise equipment/gym/private gym/shared gym</s> |\n",
    "| **am_essentials** | Essentials |\n",
    "| **am_child_friendly** | Family/kid friendly, or anything containing 'children' |\n",
    "| **am_parking** | Free parking on premises/free street parking/outdoor parking/paid parking off premises/paid parking on premises |\n",
    "| <s>**am_outdoor_space**</s> | <s>Garden or backyard/outdoor seating/sun loungers/terrace</s> |\n",
    "| <s>**am_wellness**</s> | <s>Hot tub/jetted tub/private hot tub/sauna/shared hot tub/pool/private pool/shared pool</s> |\n",
    "| <s>**am_internet**</s> | <s>Internet/pocket wifi/wifi</s> |\n",
    "| **am_pets_allowed** | Pets allowed/cat(s)/dog(s)/pets live on this property/other pet(s) |\n",
    "| **am_private_entrance** | Private entrance |\n",
    "| <s>**am_secure**</s> | <s>Safe/security system</s> |\n",
    "| <s>**am_self_check_in**</s> | <s>Self check-in</s> |\n",
    "| **am_smoking_allowed** | Smoking allowed |"
   ]
  },
  {
   "cell_type": "markdown",
   "metadata": {},
   "source": [
    "**Drop irrelevant rows**\n",
    "\n",
    "Many of the decisions below are based on assumptions and judgement derived from the analysis, EDA and intuition."
   ]
  },
  {
   "cell_type": "code",
   "execution_count": 35,
   "metadata": {
    "code_folding": [
     0
    ]
   },
   "outputs": [],
   "source": [
    "# Define function for dropping irrelevant rows\n",
    "\n",
    "def cln_drop_rows(data):\n",
    "    \n",
    "    # Drop missing rows of features with few missing values\n",
    "    data.dropna(subset=[\n",
    "        \"name\", \"host_is_superhost\", \"bedrooms\", \"bathrooms\",\n",
    "        \"neighbourhood_cleansed\", \"zipcode\"\n",
    "    ],\n",
    "                inplace=True)\n",
    "\n",
    "    \n",
    "    # Drop missing rows of zipcode\n",
    "    data = data[data.zipcode != \"zip_nan\"]\n",
    "\n",
    "    \n",
    "    # Remove \"poor\" listings (value above/below a certain threshold)\n",
    "    data = data[data.price < 500]\n",
    "    data = data[data.price >= 10]\n",
    "    data = data[data.minimum_nights <= 100]\n",
    "\n",
    "    \n",
    "    # Remove listings where \"accommodates\" is lower than \"guests_included\"\n",
    "    data = data[data.accommodates - data.guests_included >= 0]\n",
    "\n",
    "    \n",
    "    # Remove listings where \"accommodates\" > 10 (outliers)\n",
    "    data = data[data.accommodates <= 10]\n",
    "\n",
    "    \n",
    "    # Remove listings where \"accommodates\" - \"beds\" < 0\n",
    "    data = data[data.accommodates - data.beds >= 0]\n",
    "\n",
    "    \n",
    "    # Remove listings where \"bedrooms\" - \"beds\" > 2\n",
    "    data = data[data.bedrooms - data.beds <= 2]\n",
    "\n",
    "    \n",
    "    # Remove listings where \"beds\" - \"bedrooms\" > 10\n",
    "    data = data[data.beds - data.bedrooms <= 10]\n",
    "\n",
    "    \n",
    "    # Remove listings where \"monthly_price\" is more than 30x \"price\"\n",
    "    data = data[data.monthly_price / data.price <= 30]\n",
    "\n",
    "    \n",
    "    # Remove listings where \"weekly_price\" is more than 7x \"price\"\n",
    "    data = data[data.weekly_price / data.price <= 7]\n",
    "\n",
    "    \n",
    "    # Remove \"inactive\" or \"new\" listings with no reviews in last twelve months\n",
    "    data = data[data.number_of_reviews_ltm != 0]\n",
    "\n",
    "    \n",
    "    # Remove listings with no \"availability_365\" and no reviews in last three months\n",
    "    data = data[(data.availability_365 != 0) |\n",
    "                (data.last_review > ((datetime.strptime(dataset_date, \"%Y-%m-%d\"))-timedelta(3 * 30)).strftime(\"%Y-%m-%d\"))] # Calculate 90 days backwards from dataset_date\n",
    "    \n",
    "    return data"
   ]
  },
  {
   "cell_type": "markdown",
   "metadata": {},
   "source": [
    "**Drop irrelevant columns**\n",
    "\n",
    "Remove low-frequency classes from categorical columns: Neighbourhoods_cleansed and zipcodes both have a high volume of unique values, many with under 10 occurrences. Hence, all with <0.25% share are bundled as \"other\"."
   ]
  },
  {
   "cell_type": "code",
   "execution_count": 36,
   "metadata": {
    "code_folding": [
     0
    ]
   },
   "outputs": [],
   "source": [
    "# Define function for dropping irrelevant columns\n",
    "\n",
    "def cln_drop_cols(data):    \n",
    "    \n",
    "    # Change neighbourhoods_cleansed that make up <0.25% of data to \"other\"\n",
    "    data = data.apply(lambda x: x.mask(\n",
    "        x.map(x.value_counts()) < (0.0025 * len(data)), 'nb_other')\n",
    "                      if x.name == 'neighbourhood_cleansed' else x)\n",
    "    \n",
    "    \n",
    "    # Change zipcodes that make up <0.25% of data to \"other\"\n",
    "    data = data.apply(lambda x: x.mask(\n",
    "        x.map(x.value_counts()) < (0.0025 * len(data)), 'zip_other')\n",
    "                      if x.name == 'zipcode' else x)\n",
    "    \n",
    "    \n",
    "    # Drop irrelevant columns\n",
    "    data.drop(\n",
    "        [\n",
    "            \"bed_type\",\n",
    "            \"experiences_offered\",\n",
    "            \"has_availability\",\n",
    "    #        \"host_acceptance_rate\",\n",
    "            \"host_location\",\n",
    "    #        \"host_response_rate\",\n",
    "    #        \"host_response_time\",  \n",
    "    #        \"number_of_reviews\", \n",
    "    #        \"number_of_reviews_ltm\",\n",
    "            \"requires_license\",\n",
    "            \"is_business_travel_ready\",\n",
    "            \"host_has_profile_pic\",\n",
    "            \"host_listings_count\",\n",
    "            \"require_guest_profile_picture\",\n",
    "            \"require_guest_phone_verification\",\n",
    "            \"reviews_per_month\",\n",
    "            \"square_feet\"\n",
    "        ],\n",
    "        inplace=True,\n",
    "        axis=1)\n",
    "    \n",
    "    return data"
   ]
  },
  {
   "cell_type": "markdown",
   "metadata": {},
   "source": [
    "Explanation for selection of dropped columns:\n",
    "\n",
    "| **FEATURE(S)** | **NOTES** |\n",
    "| :----- | :----- | \n",
    "| **bed_type** | over 97% of values were \"Real Bed\", hence little added value |\n",
    "| **experiences_offered** | all values are \"none\" |\n",
    "| **has_availability** | all values are \"t\" |\n",
    "| **requires_license, host_has_profile_pic** | almost all values are \"t\" |\n",
    "| **is_business_travel_ready** | all values are \"f\" |\n",
    "| **require_guest_xxx** | almost all values are \"f\" |\n",
    "| **host_listings_count** | calculated_host_listings_count appears to be a sanitized version (ranges from 1 to 55) of host_listings_count (has values 0 and highest is 1397) |\n",
    " **other host_xyz** | too many missing values |\n",
    "| **reviews_per_month** | number_of_reviews_ltm kept as better measure |\n",
    "| **square_feet** | too many missing values |\n",
    "| <s>**property_type**</s> | <s>90% of values are \"apartment\", too many unique values to sensibly classify</s> kept instead |"
   ]
  },
  {
   "cell_type": "markdown",
   "metadata": {},
   "source": [
    "## Apply data cleaning functions"
   ]
  },
  {
   "cell_type": "code",
   "execution_count": 37,
   "metadata": {
    "code_folding": [
     0
    ]
   },
   "outputs": [],
   "source": [
    "# Bundle data cleaning steps as function \"data_cleaning\"\n",
    "def data_cleaning(data):\n",
    "    data = cln_fill_missing_val(data)\n",
    "    data = cln_chg_datatypes(data)\n",
    "    data = cln_sel_amenities(data)\n",
    "    data = cln_drop_rows(data)\n",
    "    data = cln_drop_cols(data)\n",
    "    \n",
    "    return data"
   ]
  },
  {
   "cell_type": "code",
   "execution_count": 38,
   "metadata": {
    "code_folding": [
     0
    ]
   },
   "outputs": [
    {
     "name": "stderr",
     "output_type": "stream",
     "text": [
      "C:\\Users\\Mauricio\\anaconda3\\envs\\airbnb42\\lib\\site-packages\\pandas\\core\\strings.py:2001: UserWarning: This pattern has match groups. To actually get the groups, use str.extract.\n",
      "  return func(self, *args, **kwargs)\n"
     ]
    }
   ],
   "source": [
    "# Apply data cleaning to dataset\n",
    "data = data_cleaning(data)"
   ]
  },
  {
   "cell_type": "markdown",
   "metadata": {},
   "source": [
    "## Final Check, Cleaning and Export"
   ]
  },
  {
   "cell_type": "code",
   "execution_count": 39,
   "metadata": {
    "code_folding": [
     0
    ]
   },
   "outputs": [],
   "source": [
    "# Sort columns in dataset\n",
    "data = data.reindex(sorted(data.columns, reverse=False), axis=1)"
   ]
  },
  {
   "cell_type": "code",
   "execution_count": 40,
   "metadata": {
    "code_folding": [
     0
    ]
   },
   "outputs": [
    {
     "name": "stdout",
     "output_type": "stream",
     "text": [
      "<class 'pandas.core.frame.DataFrame'>\n",
      "Int64Index: 29165 entries, 5396 to 42860297\n",
      "Data columns (total 66 columns):\n",
      " #   Column                          Non-Null Count  Dtype         \n",
      "---  ------                          --------------  -----         \n",
      " 0   accommodates                    29165 non-null  int64         \n",
      " 1   am_balcony                      29165 non-null  float64       \n",
      " 2   am_breakfast                    29165 non-null  float64       \n",
      " 3   am_child_friendly               29165 non-null  float64       \n",
      " 4   am_coffee_machine               29165 non-null  float64       \n",
      " 5   am_cooking_basics               29165 non-null  float64       \n",
      " 6   am_elevator                     29165 non-null  float64       \n",
      " 7   am_essentials                   29165 non-null  float64       \n",
      " 8   am_nature_and_views             29165 non-null  float64       \n",
      " 9   am_parking                      29165 non-null  float64       \n",
      " 10  am_pets_allowed                 29165 non-null  float64       \n",
      " 11  am_private_entrance             29165 non-null  float64       \n",
      " 12  am_smoking_allowed              29165 non-null  float64       \n",
      " 13  am_tv                           29165 non-null  float64       \n",
      " 14  am_white_goods                  29165 non-null  float64       \n",
      " 15  amenities                       29165 non-null  object        \n",
      " 16  availability_365                29165 non-null  int64         \n",
      " 17  availability_90                 29165 non-null  int64         \n",
      " 18  bathrooms                       29165 non-null  float64       \n",
      " 19  bedrooms                        29165 non-null  float64       \n",
      " 20  beds                            29165 non-null  float64       \n",
      " 21  calculated_host_listings_count  29165 non-null  int64         \n",
      " 22  cancellation_policy             29165 non-null  object        \n",
      " 23  cleaning_fee                    29165 non-null  float64       \n",
      " 24  description                     29165 non-null  object        \n",
      " 25  extra_people                    29165 non-null  float64       \n",
      " 26  first_review                    29165 non-null  datetime64[ns]\n",
      " 27  guests_included                 29165 non-null  int64         \n",
      " 28  host_acceptance_rate            29165 non-null  float64       \n",
      " 29  host_identity_verified          29165 non-null  object        \n",
      " 30  host_is_superhost               29165 non-null  object        \n",
      " 31  host_response_rate              29165 non-null  float64       \n",
      " 32  host_response_time              29165 non-null  object        \n",
      " 33  house_rules                     29165 non-null  object        \n",
      " 34  instant_bookable                29165 non-null  object        \n",
      " 35  interaction                     29165 non-null  object        \n",
      " 36  is_location_exact               29165 non-null  object        \n",
      " 37  last_review                     29165 non-null  datetime64[ns]\n",
      " 38  latitude                        29165 non-null  float64       \n",
      " 39  listing_url                     29165 non-null  object        \n",
      " 40  longitude                       29165 non-null  float64       \n",
      " 41  maximum_nights                  29165 non-null  int64         \n",
      " 42  minimum_nights                  29165 non-null  int64         \n",
      " 43  monthly_price                   29165 non-null  float64       \n",
      " 44  name                            29165 non-null  object        \n",
      " 45  neighborhood_overview           29165 non-null  object        \n",
      " 46  neighbourhood_cleansed          29165 non-null  object        \n",
      " 47  notes                           29165 non-null  object        \n",
      " 48  number_of_reviews               29165 non-null  int64         \n",
      " 49  number_of_reviews_ltm           29165 non-null  int64         \n",
      " 50  price                           29165 non-null  float64       \n",
      " 51  property_type                   29165 non-null  object        \n",
      " 52  review_scores_accuracy          29165 non-null  float64       \n",
      " 53  review_scores_checkin           29165 non-null  float64       \n",
      " 54  review_scores_cleanliness       29165 non-null  float64       \n",
      " 55  review_scores_communication     29165 non-null  float64       \n",
      " 56  review_scores_location          29165 non-null  float64       \n",
      " 57  review_scores_rating            29165 non-null  float64       \n",
      " 58  review_scores_value             29165 non-null  float64       \n",
      " 59  room_type                       29165 non-null  object        \n",
      " 60  security_deposit                29165 non-null  float64       \n",
      " 61  space                           29165 non-null  object        \n",
      " 62  summary                         29165 non-null  object        \n",
      " 63  transit                         29165 non-null  object        \n",
      " 64  weekly_price                    29165 non-null  float64       \n",
      " 65  zipcode                         29165 non-null  object        \n",
      "dtypes: datetime64[ns](2), float64(34), int64(9), object(21)\n",
      "memory usage: 14.9+ MB\n"
     ]
    }
   ],
   "source": [
    "# List datatypes (data.info()) (post-cleaning)\n",
    "data.info()"
   ]
  },
  {
   "cell_type": "markdown",
   "metadata": {},
   "source": [
    "Many columns are only kept for EDA or feature engineering and will be dropped afterwards. The remaining columns are prepared and ready for further processing."
   ]
  },
  {
   "cell_type": "code",
   "execution_count": 41,
   "metadata": {
    "code_folding": [
     0
    ]
   },
   "outputs": [
    {
     "name": "stdout",
     "output_type": "stream",
     "text": [
      "Series([], dtype: float64)\n"
     ]
    }
   ],
   "source": [
    "# List missing values (post-cleaning)\n",
    "\n",
    "def count_missing(data):\n",
    "    null_cols = data.columns[data.isnull().any(axis=0)]\n",
    "    X_null = data[null_cols].isnull().sum()\n",
    "    X_null = X_null.sort_values(ascending=False)\n",
    "    print(X_null)\n",
    "\n",
    "count_missing(data)\n",
    "#data.isnull().sum()"
   ]
  },
  {
   "cell_type": "markdown",
   "metadata": {},
   "source": [
    "As we can see, we got rid of all the missing values"
   ]
  },
  {
   "cell_type": "code",
   "execution_count": 42,
   "metadata": {
    "code_folding": [
     0
    ]
   },
   "outputs": [
    {
     "name": "stdout",
     "output_type": "stream",
     "text": [
      "(29165, 66)\n"
     ]
    },
    {
     "data": {
      "text/html": [
       "<div>\n",
       "<style scoped>\n",
       "    .dataframe tbody tr th:only-of-type {\n",
       "        vertical-align: middle;\n",
       "    }\n",
       "\n",
       "    .dataframe tbody tr th {\n",
       "        vertical-align: top;\n",
       "    }\n",
       "\n",
       "    .dataframe thead th {\n",
       "        text-align: right;\n",
       "    }\n",
       "</style>\n",
       "<table border=\"1\" class=\"dataframe\">\n",
       "  <thead>\n",
       "    <tr style=\"text-align: right;\">\n",
       "      <th></th>\n",
       "      <th>accommodates</th>\n",
       "      <th>am_balcony</th>\n",
       "      <th>am_breakfast</th>\n",
       "      <th>am_child_friendly</th>\n",
       "      <th>am_coffee_machine</th>\n",
       "      <th>am_cooking_basics</th>\n",
       "      <th>am_elevator</th>\n",
       "      <th>am_essentials</th>\n",
       "      <th>am_nature_and_views</th>\n",
       "      <th>am_parking</th>\n",
       "      <th>am_pets_allowed</th>\n",
       "      <th>am_private_entrance</th>\n",
       "      <th>am_smoking_allowed</th>\n",
       "      <th>am_tv</th>\n",
       "      <th>am_white_goods</th>\n",
       "      <th>amenities</th>\n",
       "      <th>availability_365</th>\n",
       "      <th>availability_90</th>\n",
       "      <th>bathrooms</th>\n",
       "      <th>bedrooms</th>\n",
       "      <th>beds</th>\n",
       "      <th>calculated_host_listings_count</th>\n",
       "      <th>cancellation_policy</th>\n",
       "      <th>cleaning_fee</th>\n",
       "      <th>description</th>\n",
       "      <th>extra_people</th>\n",
       "      <th>first_review</th>\n",
       "      <th>guests_included</th>\n",
       "      <th>host_acceptance_rate</th>\n",
       "      <th>host_identity_verified</th>\n",
       "      <th>host_is_superhost</th>\n",
       "      <th>host_response_rate</th>\n",
       "      <th>host_response_time</th>\n",
       "      <th>house_rules</th>\n",
       "      <th>instant_bookable</th>\n",
       "      <th>interaction</th>\n",
       "      <th>is_location_exact</th>\n",
       "      <th>last_review</th>\n",
       "      <th>latitude</th>\n",
       "      <th>listing_url</th>\n",
       "      <th>longitude</th>\n",
       "      <th>maximum_nights</th>\n",
       "      <th>minimum_nights</th>\n",
       "      <th>monthly_price</th>\n",
       "      <th>name</th>\n",
       "      <th>neighborhood_overview</th>\n",
       "      <th>neighbourhood_cleansed</th>\n",
       "      <th>notes</th>\n",
       "      <th>number_of_reviews</th>\n",
       "      <th>number_of_reviews_ltm</th>\n",
       "      <th>price</th>\n",
       "      <th>property_type</th>\n",
       "      <th>review_scores_accuracy</th>\n",
       "      <th>review_scores_checkin</th>\n",
       "      <th>review_scores_cleanliness</th>\n",
       "      <th>review_scores_communication</th>\n",
       "      <th>review_scores_location</th>\n",
       "      <th>review_scores_rating</th>\n",
       "      <th>review_scores_value</th>\n",
       "      <th>room_type</th>\n",
       "      <th>security_deposit</th>\n",
       "      <th>space</th>\n",
       "      <th>summary</th>\n",
       "      <th>transit</th>\n",
       "      <th>weekly_price</th>\n",
       "      <th>zipcode</th>\n",
       "    </tr>\n",
       "    <tr>\n",
       "      <th>id</th>\n",
       "      <th></th>\n",
       "      <th></th>\n",
       "      <th></th>\n",
       "      <th></th>\n",
       "      <th></th>\n",
       "      <th></th>\n",
       "      <th></th>\n",
       "      <th></th>\n",
       "      <th></th>\n",
       "      <th></th>\n",
       "      <th></th>\n",
       "      <th></th>\n",
       "      <th></th>\n",
       "      <th></th>\n",
       "      <th></th>\n",
       "      <th></th>\n",
       "      <th></th>\n",
       "      <th></th>\n",
       "      <th></th>\n",
       "      <th></th>\n",
       "      <th></th>\n",
       "      <th></th>\n",
       "      <th></th>\n",
       "      <th></th>\n",
       "      <th></th>\n",
       "      <th></th>\n",
       "      <th></th>\n",
       "      <th></th>\n",
       "      <th></th>\n",
       "      <th></th>\n",
       "      <th></th>\n",
       "      <th></th>\n",
       "      <th></th>\n",
       "      <th></th>\n",
       "      <th></th>\n",
       "      <th></th>\n",
       "      <th></th>\n",
       "      <th></th>\n",
       "      <th></th>\n",
       "      <th></th>\n",
       "      <th></th>\n",
       "      <th></th>\n",
       "      <th></th>\n",
       "      <th></th>\n",
       "      <th></th>\n",
       "      <th></th>\n",
       "      <th></th>\n",
       "      <th></th>\n",
       "      <th></th>\n",
       "      <th></th>\n",
       "      <th></th>\n",
       "      <th></th>\n",
       "      <th></th>\n",
       "      <th></th>\n",
       "      <th></th>\n",
       "      <th></th>\n",
       "      <th></th>\n",
       "      <th></th>\n",
       "      <th></th>\n",
       "      <th></th>\n",
       "      <th></th>\n",
       "      <th></th>\n",
       "      <th></th>\n",
       "      <th></th>\n",
       "      <th></th>\n",
       "      <th></th>\n",
       "    </tr>\n",
       "  </thead>\n",
       "  <tbody>\n",
       "    <tr>\n",
       "      <th>5396</th>\n",
       "      <td>2</td>\n",
       "      <td>0.0</td>\n",
       "      <td>0.0</td>\n",
       "      <td>0.0</td>\n",
       "      <td>0.0</td>\n",
       "      <td>0.0</td>\n",
       "      <td>0.0</td>\n",
       "      <td>1.0</td>\n",
       "      <td>0.0</td>\n",
       "      <td>0.0</td>\n",
       "      <td>0.0</td>\n",
       "      <td>0.0</td>\n",
       "      <td>0.0</td>\n",
       "      <td>0.0</td>\n",
       "      <td>1.0</td>\n",
       "      <td>{Internet,Wifi,Kitchen,Heating,Washer,\"Smoke d...</td>\n",
       "      <td>32</td>\n",
       "      <td>32</td>\n",
       "      <td>1.0</td>\n",
       "      <td>0.5</td>\n",
       "      <td>1.0</td>\n",
       "      <td>1</td>\n",
       "      <td>strict_14_with_grace_period</td>\n",
       "      <td>36.0</td>\n",
       "      <td>Cozy, well-appointed and graciously designed s...</td>\n",
       "      <td>0.0</td>\n",
       "      <td>2009-06-30</td>\n",
       "      <td>1</td>\n",
       "      <td>100.0</td>\n",
       "      <td>t</td>\n",
       "      <td>f</td>\n",
       "      <td>100.0</td>\n",
       "      <td>within an hour</td>\n",
       "      <td>This is a small flat in a very old building th...</td>\n",
       "      <td>t</td>\n",
       "      <td>We expect guests to operate rather independent...</td>\n",
       "      <td>t</td>\n",
       "      <td>2020-03-01</td>\n",
       "      <td>48.85100</td>\n",
       "      <td>https://www.airbnb.com/rooms/5396</td>\n",
       "      <td>2.35869</td>\n",
       "      <td>2</td>\n",
       "      <td>1</td>\n",
       "      <td>2000.0</td>\n",
       "      <td>Explore the heart of old Paris</td>\n",
       "      <td>You are within walking distance to the Louvre,...</td>\n",
       "      <td>Hôtel-de-Ville</td>\n",
       "      <td>The staircase leading up to the apartment is n...</td>\n",
       "      <td>215</td>\n",
       "      <td>48</td>\n",
       "      <td>115.0</td>\n",
       "      <td>Apartment</td>\n",
       "      <td>8.0</td>\n",
       "      <td>9.0</td>\n",
       "      <td>8.0</td>\n",
       "      <td>9.0</td>\n",
       "      <td>10.0</td>\n",
       "      <td>90.0</td>\n",
       "      <td>8.0</td>\n",
       "      <td>Entire home/apt</td>\n",
       "      <td>0.0</td>\n",
       "      <td>Small, well appointed studio apartment at the ...</td>\n",
       "      <td>Cozy, well-appointed and graciously designed s...</td>\n",
       "      <td>The flat is close to two or three major metro ...</td>\n",
       "      <td>600.0</td>\n",
       "      <td>zip_75004</td>\n",
       "    </tr>\n",
       "    <tr>\n",
       "      <th>7397</th>\n",
       "      <td>4</td>\n",
       "      <td>0.0</td>\n",
       "      <td>0.0</td>\n",
       "      <td>1.0</td>\n",
       "      <td>1.0</td>\n",
       "      <td>1.0</td>\n",
       "      <td>0.0</td>\n",
       "      <td>1.0</td>\n",
       "      <td>0.0</td>\n",
       "      <td>1.0</td>\n",
       "      <td>0.0</td>\n",
       "      <td>0.0</td>\n",
       "      <td>0.0</td>\n",
       "      <td>1.0</td>\n",
       "      <td>1.0</td>\n",
       "      <td>{TV,\"Cable TV\",Internet,Wifi,Kitchen,\"Paid par...</td>\n",
       "      <td>238</td>\n",
       "      <td>45</td>\n",
       "      <td>1.0</td>\n",
       "      <td>2.0</td>\n",
       "      <td>2.0</td>\n",
       "      <td>1</td>\n",
       "      <td>moderate</td>\n",
       "      <td>50.0</td>\n",
       "      <td>VERY CONVENIENT, WITH THE BEST LOCATION ! PLEA...</td>\n",
       "      <td>10.0</td>\n",
       "      <td>2011-04-08</td>\n",
       "      <td>2</td>\n",
       "      <td>86.0</td>\n",
       "      <td>t</td>\n",
       "      <td>t</td>\n",
       "      <td>100.0</td>\n",
       "      <td>within an hour</td>\n",
       "      <td>ELECTRICITY INCLUDED FOR NORMAL USING. PLEASE ...</td>\n",
       "      <td>f</td>\n",
       "      <td></td>\n",
       "      <td>t</td>\n",
       "      <td>2020-02-26</td>\n",
       "      <td>48.85758</td>\n",
       "      <td>https://www.airbnb.com/rooms/7397</td>\n",
       "      <td>2.35275</td>\n",
       "      <td>23</td>\n",
       "      <td>4</td>\n",
       "      <td>2200.0</td>\n",
       "      <td>MARAIS - 2ROOMS APT - 2/4 PEOPLE</td>\n",
       "      <td></td>\n",
       "      <td>Hôtel-de-Ville</td>\n",
       "      <td>Important: Be conscious that an apartment in a...</td>\n",
       "      <td>268</td>\n",
       "      <td>29</td>\n",
       "      <td>119.0</td>\n",
       "      <td>Apartment</td>\n",
       "      <td>10.0</td>\n",
       "      <td>10.0</td>\n",
       "      <td>9.0</td>\n",
       "      <td>10.0</td>\n",
       "      <td>10.0</td>\n",
       "      <td>94.0</td>\n",
       "      <td>10.0</td>\n",
       "      <td>Entire home/apt</td>\n",
       "      <td>200.0</td>\n",
       "      <td>PLEASE ASK ME BEFORE TO MAKE A REQUEST !!! No ...</td>\n",
       "      <td>VERY CONVENIENT, WITH THE BEST LOCATION !</td>\n",
       "      <td>Metro station HÖTEL-DE-VILLE is 100 meters close.</td>\n",
       "      <td>0.0</td>\n",
       "      <td>zip_75004</td>\n",
       "    </tr>\n",
       "    <tr>\n",
       "      <th>9952</th>\n",
       "      <td>2</td>\n",
       "      <td>0.0</td>\n",
       "      <td>0.0</td>\n",
       "      <td>0.0</td>\n",
       "      <td>1.0</td>\n",
       "      <td>1.0</td>\n",
       "      <td>0.0</td>\n",
       "      <td>1.0</td>\n",
       "      <td>0.0</td>\n",
       "      <td>1.0</td>\n",
       "      <td>0.0</td>\n",
       "      <td>0.0</td>\n",
       "      <td>0.0</td>\n",
       "      <td>1.0</td>\n",
       "      <td>0.0</td>\n",
       "      <td>{TV,Internet,Wifi,Kitchen,\"Paid parking off pr...</td>\n",
       "      <td>305</td>\n",
       "      <td>45</td>\n",
       "      <td>1.0</td>\n",
       "      <td>1.0</td>\n",
       "      <td>1.0</td>\n",
       "      <td>1</td>\n",
       "      <td>moderate</td>\n",
       "      <td>30.0</td>\n",
       "      <td>Je suis une dame retraitée, qui propose un agr...</td>\n",
       "      <td>0.0</td>\n",
       "      <td>2013-03-19</td>\n",
       "      <td>1</td>\n",
       "      <td>100.0</td>\n",
       "      <td>f</td>\n",
       "      <td>f</td>\n",
       "      <td>100.0</td>\n",
       "      <td>within an hour</td>\n",
       "      <td>DO NOT USE FIREPLACE</td>\n",
       "      <td>t</td>\n",
       "      <td>Host will only be present to hand the keys but...</td>\n",
       "      <td>t</td>\n",
       "      <td>2020-01-21</td>\n",
       "      <td>48.86227</td>\n",
       "      <td>https://www.airbnb.com/rooms/9952</td>\n",
       "      <td>2.37134</td>\n",
       "      <td>120</td>\n",
       "      <td>5</td>\n",
       "      <td>1300.0</td>\n",
       "      <td>Paris petit coin douillet</td>\n",
       "      <td>Vibrant neighborhood, full of bars, cafés, fre...</td>\n",
       "      <td>Popincourt</td>\n",
       "      <td></td>\n",
       "      <td>25</td>\n",
       "      <td>8</td>\n",
       "      <td>75.0</td>\n",
       "      <td>Apartment</td>\n",
       "      <td>10.0</td>\n",
       "      <td>10.0</td>\n",
       "      <td>10.0</td>\n",
       "      <td>10.0</td>\n",
       "      <td>10.0</td>\n",
       "      <td>98.0</td>\n",
       "      <td>10.0</td>\n",
       "      <td>Entire home/apt</td>\n",
       "      <td>250.0</td>\n",
       "      <td>Make your stay in Paris a perfect experience. ...</td>\n",
       "      <td>Je suis une dame retraitée, qui propose un agr...</td>\n",
       "      <td>The closest metro stations: Oberkampf (metro l...</td>\n",
       "      <td>0.0</td>\n",
       "      <td>zip_75011</td>\n",
       "    </tr>\n",
       "  </tbody>\n",
       "</table>\n",
       "</div>"
      ],
      "text/plain": [
       "      accommodates  am_balcony  am_breakfast  am_child_friendly  \\\n",
       "id                                                                \n",
       "5396             2         0.0           0.0                0.0   \n",
       "7397             4         0.0           0.0                1.0   \n",
       "9952             2         0.0           0.0                0.0   \n",
       "\n",
       "      am_coffee_machine  am_cooking_basics  am_elevator  am_essentials  \\\n",
       "id                                                                       \n",
       "5396                0.0                0.0          0.0            1.0   \n",
       "7397                1.0                1.0          0.0            1.0   \n",
       "9952                1.0                1.0          0.0            1.0   \n",
       "\n",
       "      am_nature_and_views  am_parking  am_pets_allowed  am_private_entrance  \\\n",
       "id                                                                            \n",
       "5396                  0.0         0.0              0.0                  0.0   \n",
       "7397                  0.0         1.0              0.0                  0.0   \n",
       "9952                  0.0         1.0              0.0                  0.0   \n",
       "\n",
       "      am_smoking_allowed  am_tv  am_white_goods  \\\n",
       "id                                                \n",
       "5396                 0.0    0.0             1.0   \n",
       "7397                 0.0    1.0             1.0   \n",
       "9952                 0.0    1.0             0.0   \n",
       "\n",
       "                                              amenities  availability_365  \\\n",
       "id                                                                          \n",
       "5396  {Internet,Wifi,Kitchen,Heating,Washer,\"Smoke d...                32   \n",
       "7397  {TV,\"Cable TV\",Internet,Wifi,Kitchen,\"Paid par...               238   \n",
       "9952  {TV,Internet,Wifi,Kitchen,\"Paid parking off pr...               305   \n",
       "\n",
       "      availability_90  bathrooms  bedrooms  beds  \\\n",
       "id                                                 \n",
       "5396               32        1.0       0.5   1.0   \n",
       "7397               45        1.0       2.0   2.0   \n",
       "9952               45        1.0       1.0   1.0   \n",
       "\n",
       "      calculated_host_listings_count          cancellation_policy  \\\n",
       "id                                                                  \n",
       "5396                               1  strict_14_with_grace_period   \n",
       "7397                               1                     moderate   \n",
       "9952                               1                     moderate   \n",
       "\n",
       "      cleaning_fee                                        description  \\\n",
       "id                                                                      \n",
       "5396          36.0  Cozy, well-appointed and graciously designed s...   \n",
       "7397          50.0  VERY CONVENIENT, WITH THE BEST LOCATION ! PLEA...   \n",
       "9952          30.0  Je suis une dame retraitée, qui propose un agr...   \n",
       "\n",
       "      extra_people first_review  guests_included  host_acceptance_rate  \\\n",
       "id                                                                       \n",
       "5396           0.0   2009-06-30                1                 100.0   \n",
       "7397          10.0   2011-04-08                2                  86.0   \n",
       "9952           0.0   2013-03-19                1                 100.0   \n",
       "\n",
       "     host_identity_verified host_is_superhost  host_response_rate  \\\n",
       "id                                                                  \n",
       "5396                      t                 f               100.0   \n",
       "7397                      t                 t               100.0   \n",
       "9952                      f                 f               100.0   \n",
       "\n",
       "     host_response_time                                        house_rules  \\\n",
       "id                                                                           \n",
       "5396     within an hour  This is a small flat in a very old building th...   \n",
       "7397     within an hour  ELECTRICITY INCLUDED FOR NORMAL USING. PLEASE ...   \n",
       "9952     within an hour                               DO NOT USE FIREPLACE   \n",
       "\n",
       "     instant_bookable                                        interaction  \\\n",
       "id                                                                         \n",
       "5396                t  We expect guests to operate rather independent...   \n",
       "7397                f                                                      \n",
       "9952                t  Host will only be present to hand the keys but...   \n",
       "\n",
       "     is_location_exact last_review  latitude  \\\n",
       "id                                             \n",
       "5396                 t  2020-03-01  48.85100   \n",
       "7397                 t  2020-02-26  48.85758   \n",
       "9952                 t  2020-01-21  48.86227   \n",
       "\n",
       "                            listing_url  longitude  maximum_nights  \\\n",
       "id                                                                   \n",
       "5396  https://www.airbnb.com/rooms/5396    2.35869               2   \n",
       "7397  https://www.airbnb.com/rooms/7397    2.35275              23   \n",
       "9952  https://www.airbnb.com/rooms/9952    2.37134             120   \n",
       "\n",
       "      minimum_nights  monthly_price                              name  \\\n",
       "id                                                                      \n",
       "5396               1         2000.0    Explore the heart of old Paris   \n",
       "7397               4         2200.0  MARAIS - 2ROOMS APT - 2/4 PEOPLE   \n",
       "9952               5         1300.0         Paris petit coin douillet   \n",
       "\n",
       "                                  neighborhood_overview  \\\n",
       "id                                                        \n",
       "5396  You are within walking distance to the Louvre,...   \n",
       "7397                                                      \n",
       "9952  Vibrant neighborhood, full of bars, cafés, fre...   \n",
       "\n",
       "     neighbourhood_cleansed  \\\n",
       "id                            \n",
       "5396         Hôtel-de-Ville   \n",
       "7397         Hôtel-de-Ville   \n",
       "9952             Popincourt   \n",
       "\n",
       "                                                  notes  number_of_reviews  \\\n",
       "id                                                                           \n",
       "5396  The staircase leading up to the apartment is n...                215   \n",
       "7397  Important: Be conscious that an apartment in a...                268   \n",
       "9952                                                                    25   \n",
       "\n",
       "      number_of_reviews_ltm  price property_type  review_scores_accuracy  \\\n",
       "id                                                                         \n",
       "5396                     48  115.0     Apartment                     8.0   \n",
       "7397                     29  119.0     Apartment                    10.0   \n",
       "9952                      8   75.0     Apartment                    10.0   \n",
       "\n",
       "      review_scores_checkin  review_scores_cleanliness  \\\n",
       "id                                                       \n",
       "5396                    9.0                        8.0   \n",
       "7397                   10.0                        9.0   \n",
       "9952                   10.0                       10.0   \n",
       "\n",
       "      review_scores_communication  review_scores_location  \\\n",
       "id                                                          \n",
       "5396                          9.0                    10.0   \n",
       "7397                         10.0                    10.0   \n",
       "9952                         10.0                    10.0   \n",
       "\n",
       "      review_scores_rating  review_scores_value        room_type  \\\n",
       "id                                                                 \n",
       "5396                  90.0                  8.0  Entire home/apt   \n",
       "7397                  94.0                 10.0  Entire home/apt   \n",
       "9952                  98.0                 10.0  Entire home/apt   \n",
       "\n",
       "      security_deposit                                              space  \\\n",
       "id                                                                          \n",
       "5396               0.0  Small, well appointed studio apartment at the ...   \n",
       "7397             200.0  PLEASE ASK ME BEFORE TO MAKE A REQUEST !!! No ...   \n",
       "9952             250.0  Make your stay in Paris a perfect experience. ...   \n",
       "\n",
       "                                                summary  \\\n",
       "id                                                        \n",
       "5396  Cozy, well-appointed and graciously designed s...   \n",
       "7397          VERY CONVENIENT, WITH THE BEST LOCATION !   \n",
       "9952  Je suis une dame retraitée, qui propose un agr...   \n",
       "\n",
       "                                                transit  weekly_price  \\\n",
       "id                                                                      \n",
       "5396  The flat is close to two or three major metro ...         600.0   \n",
       "7397  Metro station HÖTEL-DE-VILLE is 100 meters close.           0.0   \n",
       "9952  The closest metro stations: Oberkampf (metro l...           0.0   \n",
       "\n",
       "        zipcode  \n",
       "id               \n",
       "5396  zip_75004  \n",
       "7397  zip_75004  \n",
       "9952  zip_75011  "
      ]
     },
     "execution_count": 42,
     "metadata": {},
     "output_type": "execute_result"
    }
   ],
   "source": [
    "# Display cleaned dataset\n",
    "print(data.shape)\n",
    "data.head(3)"
   ]
  },
  {
   "cell_type": "markdown",
   "metadata": {},
   "source": [
    "The number of listings has been reduced substantially by removing rows deemed to be irrelevant or distorting."
   ]
  },
  {
   "cell_type": "markdown",
   "metadata": {},
   "source": [
    "**Export data_clean**"
   ]
  },
  {
   "cell_type": "code",
   "execution_count": 43,
   "metadata": {
    "code_folding": []
   },
   "outputs": [],
   "source": [
    "# Export dataset for further use in 2_EDA_Clean and 3_Feature_Engineering\n",
    "data_clean = data.copy()\n",
    "save_load(data_clean, title=\"data_clean\", function=\"save\")"
   ]
  },
  {
   "cell_type": "markdown",
   "metadata": {},
   "source": [
    "# Feature Engineering"
   ]
  },
  {
   "cell_type": "code",
   "execution_count": 44,
   "metadata": {
    "code_folding": [
     0
    ]
   },
   "outputs": [],
   "source": [
    "# Import data_clean\n",
    "data = save_load(title=\"data_clean\", function=\"load\")"
   ]
  },
  {
   "cell_type": "code",
   "execution_count": 45,
   "metadata": {
    "code_folding": [
     0
    ],
    "scrolled": true
   },
   "outputs": [],
   "source": [
    "# Import reviews.csv and convert date to datetime\n",
    "data_rev = save_load(title=\"reviews\", file_format=\"csv\", function=\"load\")\n",
    "data_rev.date = data_rev.date.astype('datetime64[D]')\n",
    "#print(data_rev.shape)\n",
    "#data_rev.head(3)"
   ]
  },
  {
   "cell_type": "markdown",
   "metadata": {},
   "source": [
    "## Define feature engineering functions"
   ]
  },
  {
   "cell_type": "markdown",
   "metadata": {},
   "source": [
    "**Change column content**\n",
    "\n",
    "- Reduce cancellation_policy and property_type classes\n",
    "- Replace \"0\" values in monthly_price and weekly_price\n",
    "- Recalculate guests_included (many listings specify guests_included=1 while accommodates is higher and no extra fee is charged)"
   ]
  },
  {
   "cell_type": "code",
   "execution_count": 46,
   "metadata": {
    "code_folding": [
     0
    ]
   },
   "outputs": [],
   "source": [
    "# Define function for adapting existing features\n",
    "\n",
    "def feat_adapt(data):\n",
    "\n",
    "    # Reduce cancellation_policy to 4 classes\n",
    "    data.cancellation_policy.replace(\n",
    "        [\"strict_14_with_grace_period\", \"super_strict_60\", \"super_strict_30\"],\n",
    "        [\"strict\", \"super_strict\", \"super_strict\"],\n",
    "        inplace=True)\n",
    "\n",
    "    \n",
    "    # Reduce property_type to 6 classes, as per Airbnb classification (see listing creation in pdf)\n",
    "    data.property_type.replace([\"Condominium\", \"Loft\", \"Vacation home\"],\n",
    "                               \"Apartment\",\n",
    "                               inplace=True)\n",
    "    data.property_type.replace(\n",
    "        [\"Aparthotel\", \"Hostel\", \"Hotel\", \"Resort\", \"Serviced apartment\"],\n",
    "        \"Boutique hotel\",\n",
    "        inplace=True)\n",
    "    data.property_type.replace([\n",
    "        \"Casa particular (Cuba)\", \"Farm stay\", \"Nature lodge\",\n",
    "        \"Pension (South Korea)\"\n",
    "    ],\n",
    "                               \"Bed and breakfast\",\n",
    "                               inplace=True)\n",
    "    data.property_type.replace([\n",
    "        \"Bungalow\", \"Cabin\", \"Chalet\", \"Cottage\", \"Dome house\", \"Earth house\",\n",
    "        \"Houseboat\", \"Hut\", \"Lighthouse\", \"Tiny house\", \"Townhouse\", \"Villa\"\n",
    "    ],\n",
    "                               \"House\",\n",
    "                               inplace=True)\n",
    "    data.property_type.replace([\"Guesthouse\", \"Guest suite\"],\n",
    "                               \"Secondary unit\",\n",
    "                               inplace=True)\n",
    "    data.property_type.replace([\n",
    "        \"Barn\", \"Boat\", \"Bus\", \"Camper/RV\", \"Campsite\", \"Castle\", \"Cave\",\n",
    "        \"Igloo\", \"Island\", \"Plane\", \"Tent\", \"Tipi\", \"Train\", \"Treehouse\",\n",
    "        \"Windmill\", \"Yurt\"\n",
    "    ],\n",
    "                               \"Unique space\",\n",
    "                               inplace=True)\n",
    "\n",
    "    \n",
    "    # Drop all listings that are not in the above 6 classes\n",
    "    data = data[data.property_type.isin([\n",
    "        \"Apartment\", \"Boutique hotel\", \"Bed and breakfast\", \"House\",\n",
    "        \"Secondary unit\", \"Unique space\"\n",
    "    ])]\n",
    "\n",
    "    \n",
    "    # Fill all columns with \"0\" of \"monthly_price\" and \"weekly_price\" with 7x/30x \"price\"\n",
    "    data[\"monthly_price\"] = np.where(data.monthly_price == 0, data.price * 30,\n",
    "                                     data.monthly_price)\n",
    "    data[\"weekly_price\"] = np.where(data.weekly_price == 0, data.price * 7,\n",
    "                                    data.weekly_price)\n",
    "\n",
    "    \n",
    "    # Re-calculate \"guests_included_calc\" to be identical to \"accommodates\" where \"extra_people\"==0\n",
    "    data[\"guests_included_calc\"] = np.where(data.extra_people == 0,\n",
    "                                            data.accommodates,\n",
    "                                            data.guests_included)\n",
    "    \n",
    "    return data"
   ]
  },
  {
   "cell_type": "markdown",
   "metadata": {},
   "source": [
    "**Convert binary features to 1/0**"
   ]
  },
  {
   "cell_type": "code",
   "execution_count": 47,
   "metadata": {
    "code_folding": [
     0
    ]
   },
   "outputs": [],
   "source": [
    "# Define function for engineering binary features\n",
    "\n",
    "def feat_bin(data):\n",
    "    \n",
    "    # Convert t/f to 1/0 for various features\n",
    "    data.host_is_superhost.replace([\"t\", \"f\"], [1, 0], inplace=True)\n",
    "    data.host_identity_verified.replace([\"t\", \"f\"], [1, 0], inplace=True)\n",
    "    data.is_location_exact.replace([\"t\", \"f\"], [1, 0], inplace=True)\n",
    "    data.instant_bookable.replace([\"t\", \"f\"], [1, 0], inplace=True)\n",
    "    \n",
    "    \n",
    "    # Change availability_365 to 1/0\n",
    "    data.availability_365 = np.where(data.availability_365 != 0, 1, 0)\n",
    "    \n",
    "    \n",
    "    # Create 1/0 for text descriptions\n",
    "    data[\"description_exist\"] = np.where(data.description != \"\", 1, 0)\n",
    "    data[\"house_rules_exist\"] = np.where(data.house_rules != \"\", 1, 0)\n",
    "    data[\"interaction_exist\"] = np.where(data.interaction != \"\", 1, 0)\n",
    "    data[\"neighborhood_overview_exist\"] = np.where(\n",
    "        data.neighborhood_overview != \"\", 1, 0)\n",
    "    data[\"notes_exist\"] = np.where(data.notes != \"\", 1, 0)\n",
    "    data[\"space_exist\"] = np.where(data.space != \"\", 1, 0)\n",
    "    data[\"summary_exist\"] = np.where(data.summary != \"\", 1, 0)\n",
    "    data[\"transit_exist\"] = np.where(data.transit != \"\", 1, 0)\n",
    "     \n",
    "    return data"
   ]
  },
  {
   "cell_type": "markdown",
   "metadata": {},
   "source": [
    "**Create numerical features**"
   ]
  },
  {
   "cell_type": "code",
   "execution_count": 48,
   "metadata": {
    "code_folding": [
     0
    ]
   },
   "outputs": [],
   "source": [
    "# Define function for engineering numerical features\n",
    "\n",
    "def feat_num(data):\n",
    "\n",
    "    # Retrieve \"listing_no\" from \"listing_url\"\n",
    "    data[\"listing_no\"] = [int(el.split(\"/\")[-1]) for el in data.listing_url]\n",
    "\n",
    "    \n",
    "    # Calculate \"price_calc\" for one person from \"price\", \"guests_included\", \"extra_people\" and remove listings where \"price_calc\" ends up being <= 5\n",
    "    data[\"price_calc\"] = data.price - 0.5 * data.extra_people * (\n",
    "        data.guests_included - 1)\n",
    "    data = data[data.price_calc > 5]\n",
    "\n",
    "    \n",
    "    # Calculate \"price_extra_people\" (price) for additional persons from \"price\", \"guests_included\", \"extra_people\" and \"accommodates\"\n",
    "    data[\"price_extra_people\"] = (\n",
    "        data.extra_people * (data.accommodates - data.guests_included) +\n",
    "        (0.5 * data.extra_people *\n",
    "         (data.guests_included - 1))) / (data.accommodates - 1)\n",
    "    data.price_extra_people.fillna(0, inplace=True)\n",
    "\n",
    "    \n",
    "    # Calculate occurrence of \"price_extra_fees\" from \"security_deposit\" and \"cleaning_fee\"\n",
    "    data[\"price_extra_fees\"] = 0 + data.security_deposit + data.cleaning_fee\n",
    "\n",
    "    \n",
    "    # Calculate \"descr_detail\" as measure for how well the listing is described\n",
    "    data[\n",
    "        \"descr_detail\"] = 0 + data.description_exist + data.house_rules_exist + data.interaction_exist + data.neighborhood_overview_exist + data.notes_exist + data.space_exist + data.summary_exist + data.transit_exist\n",
    "    \n",
    "    \n",
    "    # Calculate \"accommodates_per_bed\" as feature to de-correlate \"accommodates\", \"beds\" and \"bedrooms\"\n",
    "    data[\"accommodates_per_bed\"] = data.accommodates / data.beds\n",
    "    \n",
    "    \n",
    "    # Calculate \"wk_mth_discount\" from \"monthly_price\" and \"weekly_price\" with \"price\"\n",
    "    data[\"wk_mth_discount\"] = ((data.price * 30 - data.monthly_price) /\n",
    "                               (data.price * 30) +\n",
    "                               (data.price * 7 - data.weekly_price) /\n",
    "                               (data.price * 7)) / 2\n",
    "\n",
    "    \n",
    "    # Calculate days since \"first_review_days\"\n",
    "    data[\"first_review_days\"] = (datetime.strptime(dataset_date,\n",
    "                                                   '%Y-%m-%d')) - data.first_review\n",
    "    data.first_review_days = [i.days for i in data.first_review_days]\n",
    "    \n",
    "    \n",
    "    # Calculate days since \"last_review_days\"\n",
    "    data[\"last_review_days\"] = (datetime.strptime(dataset_date,\n",
    "                                                  '%Y-%m-%d')) - data.last_review\n",
    "    data.last_review_days = [i.days for i in data.last_review_days]\n",
    "    \n",
    "    \n",
    "    # Calculate \"review_scores_calc\" as proxy considering number of reviews and penalizing new/inactive listings\n",
    "    new_bias = [math.sqrt(el/50) for el in data.last_review_days]\n",
    "    data[\"review_scores_calc\"] = data.review_scores_rating - new_bias\n",
    "    new_bias = []\n",
    "    for reviews in data.number_of_reviews_ltm:\n",
    "        if reviews < 10:\n",
    "            new_bias.append(-3 + math.sqrt(reviews))\n",
    "        else:\n",
    "            new_bias.append(0)\n",
    "    data.review_scores_calc = data.review_scores_calc + new_bias\n",
    "        \n",
    "    return data"
   ]
  },
  {
   "cell_type": "markdown",
   "metadata": {},
   "source": [
    "**Create categorical features**"
   ]
  },
  {
   "cell_type": "code",
   "execution_count": 49,
   "metadata": {
    "code_folding": [
     0
    ]
   },
   "outputs": [],
   "source": [
    "# Define function for engineering categorical features\n",
    "\n",
    "def feat_cat(data):\n",
    "    \n",
    "    # Categorize listings by \"state\" (basic, moderate, luxurious)\n",
    "    \n",
    "    \n",
    "    # Create \"text_len\" as word count from text-based (.split().count)\n",
    "    data[\"description_len\"] = [len(i.split()) for i in data.description]\n",
    "    data[\"house_rules_len\"] = [len(i.split()) for i in data.house_rules]\n",
    "    data[\"interaction_len\"] = [len(i.split()) for i in data.interaction]\n",
    "    data[\"neighborhood_overview_len\"] = [\n",
    "        len(i.split()) for i in data.neighborhood_overview\n",
    "    ]\n",
    "    data[\"notes_len\"] = [len(i.split()) for i in data.notes]\n",
    "    data[\"space_len\"] = [len(i.split()) for i in data.space]\n",
    "    data[\"summary_len\"] = [len(i.split()) for i in data.summary]\n",
    "    data[\"transit_len\"] = [len(i.split()) for i in data.transit]\n",
    "    data[\"text_len\"] = (\n",
    "        data.description_len / data.description_len.max() +\n",
    "        data.house_rules_len / data.house_rules_len.max() +\n",
    "        data.interaction_len / data.interaction_len.max() +\n",
    "        data.neighborhood_overview_len / data.neighborhood_overview_len.max() +\n",
    "        data.notes_len / data.notes_len.max() + data.space_len /\n",
    "        data.space_len.max() + data.summary_len / data.summary_len.max() +\n",
    "        data.transit_len / data.transit_len.max()) / 8\n",
    "    data.text_len = data.text_len / data.text_len.max()\n",
    "    \n",
    "    \n",
    "    # Categorize listings as \"review_scores_class\" by \"review_scores_rating\"\n",
    "    review_scores_class = []\n",
    "    for score in data.review_scores_rating:\n",
    "        if score == 0:\n",
    "            review_scores_class.append(0)\n",
    "        elif score <= 89:\n",
    "            review_scores_class.append(1)\n",
    "        elif score <= 93:\n",
    "            review_scores_class.append(2)\n",
    "        elif score <= 96:\n",
    "            review_scores_class.append(3)\n",
    "        elif score <= 99:\n",
    "            review_scores_class.append(4)\n",
    "        else:\n",
    "            review_scores_class.append(5)\n",
    "    data[\"review_scores_class\"] = review_scores_class\n",
    "    \n",
    "    \n",
    "    # Categorize listings as \"review_scores_class_new\" by \"review_scores_calc\"\n",
    "    review_scores_class_new = []\n",
    "    for score in data.review_scores_calc:\n",
    "        if score == 0:\n",
    "            review_scores_class_new.append(0)\n",
    "        elif score <= 89:\n",
    "            review_scores_class_new.append(1)\n",
    "        elif score <= 92.5:\n",
    "            review_scores_class_new.append(2)\n",
    "        elif score <= 96:\n",
    "            review_scores_class_new.append(3)\n",
    "        elif score <= 98:\n",
    "            review_scores_class_new.append(4)\n",
    "        else:\n",
    "            review_scores_class_new.append(5)\n",
    "    data[\"review_scores_class_new\"] = review_scores_class_new\n",
    "    \n",
    "    \n",
    "    # Categorize listings as \"price_class\" by \"price_calc\"\n",
    "    price_class = []\n",
    "    for price in data.price_calc:\n",
    "        if price <= 20:\n",
    "            price_class.append(1)\n",
    "        elif price <= 30:\n",
    "            price_class.append(2)\n",
    "        elif price <= 40:\n",
    "            price_class.append(3)\n",
    "        elif price <= 50:\n",
    "            price_class.append(4)\n",
    "        elif price <= 60:\n",
    "            price_class.append(5)\n",
    "        elif price <= 70:\n",
    "            price_class.append(6)\n",
    "        elif price <= 80:\n",
    "            price_class.append(7)\n",
    "        elif price <= 90:\n",
    "            price_class.append(8)\n",
    "        elif price <= 100:\n",
    "            price_class.append(9)\n",
    "        elif price <= 150:\n",
    "            price_class.append(10)\n",
    "        else:\n",
    "            price_class.append(11)\n",
    "    data[\"price_class\"] = price_class\n",
    "        \n",
    "    return data"
   ]
  },
  {
   "cell_type": "markdown",
   "metadata": {},
   "source": [
    "**Convert text columns into meaningful information**"
   ]
  },
  {
   "cell_type": "code",
   "execution_count": 50,
   "metadata": {
    "code_folding": [
     0
    ]
   },
   "outputs": [],
   "source": [
    "# Define function for engineering text features\n",
    "\n",
    "def feat_text(data):\n",
    "\n",
    "    # FUTURE WORK: data.description.sample(5)\n",
    "    pass\n",
    "    \n",
    "    return data"
   ]
  },
  {
   "cell_type": "markdown",
   "metadata": {},
   "source": [
    "**Create log/sqrt from existing features**\n",
    "\n",
    "Now we will replace certain features, which have relatively high skew (see 2_Clean), with their log or sqrt"
   ]
  },
  {
   "cell_type": "code",
   "execution_count": 51,
   "metadata": {
    "code_folding": [
     0
    ]
   },
   "outputs": [],
   "source": [
    "# Define function for creating log/sqrt from skewed features\n",
    "\n",
    "def feat_log_sqrt(data):\n",
    "    \n",
    "    # Create log \"bathrooms_log\" for numerical feature \"bathrooms\"\n",
    "    data[\"bathrooms_log\"] = [math.log(el) for el in data[\"bathrooms\"]]\n",
    "    \n",
    "    \n",
    "    # Create sqrt and log \"calc_host_lst_count_sqrt_log\" for numerical feature \"calculated_host_listings_count\"\n",
    "    data[\"calc_host_lst_count_sqrt_log\"] = [\n",
    "        math.log(math.sqrt(el)) for el in data[\"calculated_host_listings_count\"]\n",
    "    ]\n",
    "    \n",
    "    \n",
    "    # Create sqrt \"first_review_days_sqrt\" for numerical feature \"first_review_days\"\n",
    "    data[\"first_review_days_sqrt\"] = [\n",
    "        math.sqrt(el) for el in data.first_review_days\n",
    "    ]\n",
    "    \n",
    "    \n",
    "    # Create sqrt \"last_review_days_sqrt\" for numerical feature \"last_review_days\"\n",
    "    data[\"last_review_days_sqrt\"] = [math.sqrt(el) for el in data.last_review_days]\n",
    "    \n",
    "    \n",
    "    # Create sqrt \"minimum_nights_sqrt\" for numerical feature \"minimum_nights\"\n",
    "    data[\"minimum_nights_sqrt\"] = [math.sqrt(el) for el in data[\"minimum_nights\"]]\n",
    "    \n",
    "    \n",
    "    # Create log \"number_of_reviews_ltm_log\" for numerical feature \"number_of_reviews_ltm\"\n",
    "    data[\"number_of_reviews_ltm_log\"] = [\n",
    "        math.sqrt(el) for el in data[\"number_of_reviews_ltm\"]\n",
    "    ]\n",
    "    \n",
    "    \n",
    "    # Create log \"price_extra_fees_sqrt\" for numerical feature \"price_extra_fees\"\n",
    "    data[\"price_extra_fees_sqrt\"] = [\n",
    "        math.sqrt(el) for el in data[\"price_extra_fees\"]\n",
    "    ]\n",
    "    \n",
    "    \n",
    "    # Create log \"price_log\" for numerical feature \"price\"\n",
    "    data[\"price_log\"] = [math.log(el) for el in data[\"price\"]]\n",
    "    \n",
    "    \n",
    "    # Create log \"price_calc_log\" for numerical feature \"price_calc\"\n",
    "    data[\"price_calc_log\"] = [math.log(el) for el in data[\"price_calc\"]]\n",
    "    \n",
    "    \n",
    "    # Create sqrt \"review_scores_rating_sqrt\" for numerical feature \"review_scores_rating\"\n",
    "    review_max = data.review_scores_rating.max()\n",
    "    data[\"review_scores_rating_sqrt\"] = [\n",
    "        math.sqrt(review_max - el) for el in data.review_scores_rating\n",
    "    ]\n",
    "    review_log_max = data.review_scores_rating_sqrt.max()\n",
    "    data[\"review_scores_rating_sqrt\"] = [(review_log_max - el)\n",
    "                                         for el in data.review_scores_rating_sqrt]\n",
    "    #data[\"review_scores_rating_sqrt\"].plot(kind='hist', bins=50, figsize=(12,6), facecolor='grey',edgecolor='black');\n",
    "    \n",
    "    \n",
    "    # Create log \"text_len_sqrt\" for numerical feature \"text_len\"\n",
    "    data[\"text_len_sqrt\"] = [math.sqrt(el) for el in data[\"text_len\"]]\n",
    "        \n",
    "    return data"
   ]
  },
  {
   "cell_type": "markdown",
   "metadata": {},
   "source": [
    "**Calculate occupancy rate**"
   ]
  },
  {
   "cell_type": "markdown",
   "metadata": {},
   "source": [
    "**Occupancy_rate initially played a major role in the consideration of creating the predictive model. It was, however, deemed too much of an insecure variable to be included in price prediction - or the other way around. It is still kept in this notebook for reference and potentially future work.**\n",
    "\n",
    "Calculation of **occupancy rate** is inspired by the **San Francisco model**, which is also applied by [Inside AirBnB](http://insideairbnb.com/about.html):\n",
    "\n",
    "- (**A**) Determine the **average length of stay for Berlin**\n",
    "- (**B**) Calculate **reviews relevant for considered timeframe**\n",
    "- (**C**) Determine **active months in timeframe** from price (not relevant if only 1 month)\n",
    "- (**D**) Estimate **# of bookings in considered timeframe** using (**B**)\n",
    "- (**E**) **Occupancy rate** = (**D**)x(**A**) / ((**C**)/months x time span)\n",
    "\n",
    "Read more about the core idea behind the calculations of the model [here](https://sfbos.org/sites/default/files/FileCenter/Documents/52601-BLA.ShortTermRentals.051315.pdf). Assumptions were adapted for the purpose of this analysis, mainly due to the core idea of considering only the two most recent years.\n",
    "\n",
    "**Notes**:\n",
    "- **(A)**: For the purpose of this model, around **3 nights** are assumed as average length of stay in Berlin and used as basis for calculation, unless a higher minimum length is specified. Back in 2016, [4.6](https://www.airbnbcitizen.com/wp-content/uploads/2016/04/airbnb-community-berlin-en.pdf) has been reported as the average length of stay. Inside AirBnB uses 3 nights for cities where no current data is available, but uses [6.3 nights](http://insideairbnb.com/berlin/#) for its Berlin visualization\n",
    "- **(D)**: Estimate **# of bookings in considered timeframe** by dividing (**B**) through an assumed 50% review rate (i.e. one review corresponds to two bookings)"
   ]
  },
  {
   "cell_type": "code",
   "execution_count": 52,
   "metadata": {
    "code_folding": [
     0
    ]
   },
   "outputs": [],
   "source": [
    "# Define function for calculating occupancy rate based on formula above\n",
    "\n",
    "def feat_occupancy(data): \n",
    "\n",
    "    # (**A**) Determine the **average length of stay for Berlin**\n",
    "    # Add column to main dataframe for avg length of stay, being either a) 5 nights or b) minimum_nights if higher than 5 or c) avg of min and max if max is 5 or lower\n",
    "    avg_nights = []\n",
    "    for idx in data.index:\n",
    "        if data.maximum_nights[idx] <= 5:\n",
    "            avg_nights.append(\n",
    "                (data.maximum_nights[idx] + data.minimum_nights[idx]) / 2)\n",
    "        elif data.minimum_nights[idx] > 3:\n",
    "            avg_nights.append(data.minimum_nights[idx])\n",
    "        else:\n",
    "            avg_nights.append(3)\n",
    "    data[\"avg_nights\"] = avg_nights\n",
    "    \n",
    "    \n",
    "    # (**B**) Calculate **reviews in considered timeframe**\n",
    "    # Keep only reviews within a specified timeframe (see Dashboard)\n",
    "    data_rev_count = data_rev[(data_rev.date > ((datetime.strptime(dataset_date, \"%Y-%m-%d\"))-timedelta(3 * 30)).strftime(\"%Y-%m-%d\"))\n",
    "                              & (data_rev.date < dataset_date)]\n",
    "    data_rev_count = pd.DataFrame(data_rev_count.listing_id.value_counts()\n",
    "                                  )  # Count reviews per listing and save as table\n",
    "    \n",
    "    # Merge review count to \"data\"\n",
    "    data_rev_count.rename(columns={\"listing_id\": \"reviews_3mth\"},\n",
    "                          inplace=True)  # Change column name\n",
    "    data = pd.merge(data,\n",
    "                    data_rev_count,\n",
    "                    how=\"left\",\n",
    "                    left_index=True,\n",
    "                    right_index=True)  # Add column to main dataset\n",
    "    data.reviews_3mth.fillna(0, inplace=True)\n",
    "    \n",
    "    \n",
    "    # (**C**) Determine **active months and relevant months** from price\n",
    "    # Count the months where listings were online with a price (not relevant if 1 mth)\n",
    "    data[\"active_months\"] = 1\n",
    "    relevant_mths = 1\n",
    "    \n",
    "    \n",
    "    # (**D**) Estimate **# of bookings in considered timeframe**\n",
    "    # Calculate bookings estimate and replace NaN with 0\n",
    "    data[\"bookings_est\"] = data.reviews_3mth / review_rate\n",
    "    data.bookings_est.fillna(0, inplace=True)\n",
    "    \n",
    "    \n",
    "    # (**E**) **Occupancy rate** = (**D**)x(**A**) / ((**C**)/months x time span)\n",
    "    # Calculate occupancy rate\n",
    "    data[\"occupancy_rate\"] = data.bookings_est * data.avg_nights / (\n",
    "        data.active_months / relevant_mths * 90)\n",
    "    \n",
    "    \n",
    "    # Modify occupancy rate\n",
    "    # Cap occupancy at 100%\n",
    "    occupancy_temp = []\n",
    "    for rate in data.occupancy_rate:\n",
    "        if rate < 1:\n",
    "            occupancy_temp.append(rate)\n",
    "        else:\n",
    "            occupancy_temp.append(1)\n",
    "    data.occupancy_rate = occupancy_temp\n",
    "    \n",
    "    # Split occupancy into 2 classes according to threshold (splitting into temporary and permanent rentals)\n",
    "    occupancy_class = []\n",
    "    for rate in data.occupancy_rate:\n",
    "        if rate < 0.3:\n",
    "            occupancy_class.append(0)\n",
    "        else:\n",
    "            occupancy_class.append(1)\n",
    "    data[\"occupancy_class\"] = occupancy_class\n",
    "    \n",
    "    # Show occupancy split\n",
    "    print(data.occupancy_class.value_counts())\n",
    "    \n",
    "    return data"
   ]
  },
  {
   "cell_type": "markdown",
   "metadata": {},
   "source": [
    "**Drop irrelevant columns**"
   ]
  },
  {
   "cell_type": "code",
   "execution_count": 53,
   "metadata": {
    "code_folding": [
     0
    ]
   },
   "outputs": [],
   "source": [
    "# Define function for dropping irrelevant columns\n",
    "\n",
    "def feat_drop_cols(data):\n",
    "    \n",
    "    # Drop further columns\n",
    "    data.drop(\n",
    "        [\n",
    "            \"active_months\",\n",
    "            \"amenities\",\n",
    "            \"am_coffee_machine\",\n",
    "            \"am_cooking_basics\",\n",
    "            \"am_parking\",\n",
    "            \"availability_365\",\n",
    "            \"avg_nights\",\n",
    "            \"bathrooms\",\n",
    "            \"beds\",\n",
    "            \"bookings_est\",\n",
    "            \"calculated_host_listings_count\",\n",
    "            \"cleaning_fee\",\n",
    "            \"descr_detail\",\n",
    "            \"description\",\n",
    "            \"description_exist\",\n",
    "            \"description_len\",\n",
    "            \"description_exist\",\n",
    "            \"extra_people\",\n",
    "            \"first_review\",\n",
    "            \"first_review_days\",\n",
    "            \"guests_included\",\n",
    "            \"host_identity_verified\",\n",
    "            \"house_rules\",\n",
    "            \"house_rules_exist\",\n",
    "            \"house_rules_len\",\n",
    "            \"interaction\",\n",
    "            \"interaction_exist\",\n",
    "            \"interaction_len\",\n",
    "            \"is_location_exact\",\n",
    "            \"last_review\",\n",
    "            \"last_review_days\",\n",
    "            \"listing_url\",\n",
    "            \"minimum_nights\",\n",
    "            \"monthly_price\",\n",
    "            \"name\",\n",
    "            \"neighborhood_overview\",\n",
    "            \"neighborhood_overview_exist\",\n",
    "            \"neighborhood_overview_len\",\n",
    "            \"notes\",\n",
    "            \"notes_exist\",\n",
    "            \"notes_len\",\n",
    "            \"number_of_reviews\",\n",
    "            \"number_of_reviews_ltm\",\n",
    "            #        \"occupancy_class\",\n",
    "            #        \"price\",\n",
    "            \"price_calc\",\n",
    "            #        \"price_avg\", \"price_diff\", \"price_diff_perc\",\n",
    "            \"price_extra_fees\",\n",
    "            'review_scores_accuracy',\n",
    "            'review_scores_checkin',\n",
    "            'review_scores_cleanliness',\n",
    "            'review_scores_communication',\n",
    "            \"review_scores_rating\",\n",
    "            'review_scores_value',\n",
    "            \"reviews_3mth\",\n",
    "            \"security_deposit\",\n",
    "            \"space\",\n",
    "            \"space_exist\",\n",
    "            \"space_len\",\n",
    "            \"summary\",\n",
    "            \"summary_exist\",\n",
    "            \"summary_len\",\n",
    "            \"text_len\",\n",
    "            \"transit\",\n",
    "            \"transit_exist\",\n",
    "            \"transit_len\",\n",
    "            \"weekly_price\"\n",
    "        ],\n",
    "        inplace=True,\n",
    "        axis=1)\n",
    "        \n",
    "    return data"
   ]
  },
  {
   "cell_type": "markdown",
   "metadata": {},
   "source": [
    "A large number of features are dropped - some as they have been replaced, some have been deemed irrelevant, some have turned out to be highly correlated with others during EDA. Just a few notes on specific features:\n",
    "\n",
    "| **DROPPED FEATURE** | **REASONING** |\n",
    "| :----- | :----- |\n",
    "| **am_coffee_machine** | high correlation (>0.3) with >5 other features |\n",
    "| **am_parking** | high correlation (>0.3) with >5 other features |\n",
    "| **availability_365** | high correlation (>0.3) with >5 other features |\n",
    "| **descr_detail** | dropped in favour of **text_len** |\n",
    "| **review_scores_xxx** | high correlation with review_scores_rating |\n"
   ]
  },
  {
   "cell_type": "markdown",
   "metadata": {},
   "source": [
    "## Apply feature engineering functions"
   ]
  },
  {
   "cell_type": "code",
   "execution_count": 54,
   "metadata": {
    "code_folding": [
     0
    ]
   },
   "outputs": [],
   "source": [
    "# Bundle feature engineering steps as function \"feature_engineering\"\n",
    "def feature_engineering(data):\n",
    "    data = feat_adapt(data)\n",
    "    data = feat_bin(data)\n",
    "    data = feat_num(data)\n",
    "    data = feat_cat(data)\n",
    "    data = feat_text(data)\n",
    "    data = feat_log_sqrt(data)\n",
    "    data = feat_occupancy(data)  \n",
    "    data = feat_drop_cols(data)  \n",
    "    return data"
   ]
  },
  {
   "cell_type": "code",
   "execution_count": 55,
   "metadata": {
    "code_folding": [
     0
    ]
   },
   "outputs": [
    {
     "name": "stderr",
     "output_type": "stream",
     "text": [
      "C:\\Users\\Mauricio\\anaconda3\\envs\\airbnb42\\lib\\site-packages\\ipykernel_launcher.py:53: SettingWithCopyWarning: \n",
      "A value is trying to be set on a copy of a slice from a DataFrame.\n",
      "Try using .loc[row_indexer,col_indexer] = value instead\n",
      "\n",
      "See the caveats in the documentation: https://pandas.pydata.org/pandas-docs/stable/user_guide/indexing.html#returning-a-view-versus-a-copy\n",
      "C:\\Users\\Mauricio\\anaconda3\\envs\\airbnb42\\lib\\site-packages\\ipykernel_launcher.py:55: SettingWithCopyWarning: \n",
      "A value is trying to be set on a copy of a slice from a DataFrame.\n",
      "Try using .loc[row_indexer,col_indexer] = value instead\n",
      "\n",
      "See the caveats in the documentation: https://pandas.pydata.org/pandas-docs/stable/user_guide/indexing.html#returning-a-view-versus-a-copy\n",
      "C:\\Users\\Mauricio\\anaconda3\\envs\\airbnb42\\lib\\site-packages\\ipykernel_launcher.py:61: SettingWithCopyWarning: \n",
      "A value is trying to be set on a copy of a slice from a DataFrame.\n",
      "Try using .loc[row_indexer,col_indexer] = value instead\n",
      "\n",
      "See the caveats in the documentation: https://pandas.pydata.org/pandas-docs/stable/user_guide/indexing.html#returning-a-view-versus-a-copy\n",
      "C:\\Users\\Mauricio\\anaconda3\\envs\\airbnb42\\lib\\site-packages\\pandas\\core\\series.py:4569: SettingWithCopyWarning: \n",
      "A value is trying to be set on a copy of a slice from a DataFrame\n",
      "\n",
      "See the caveats in the documentation: https://pandas.pydata.org/pandas-docs/stable/user_guide/indexing.html#returning-a-view-versus-a-copy\n",
      "  method=method,\n",
      "C:\\Users\\Mauricio\\anaconda3\\envs\\airbnb42\\lib\\site-packages\\pandas\\core\\generic.py:5159: SettingWithCopyWarning: \n",
      "A value is trying to be set on a copy of a slice from a DataFrame.\n",
      "Try using .loc[row_indexer,col_indexer] = value instead\n",
      "\n",
      "See the caveats in the documentation: https://pandas.pydata.org/pandas-docs/stable/user_guide/indexing.html#returning-a-view-versus-a-copy\n",
      "  self[name] = value\n",
      "C:\\Users\\Mauricio\\anaconda3\\envs\\airbnb42\\lib\\site-packages\\ipykernel_launcher.py:17: SettingWithCopyWarning: \n",
      "A value is trying to be set on a copy of a slice from a DataFrame.\n",
      "Try using .loc[row_indexer,col_indexer] = value instead\n",
      "\n",
      "See the caveats in the documentation: https://pandas.pydata.org/pandas-docs/stable/user_guide/indexing.html#returning-a-view-versus-a-copy\n",
      "C:\\Users\\Mauricio\\anaconda3\\envs\\airbnb42\\lib\\site-packages\\ipykernel_launcher.py:18: SettingWithCopyWarning: \n",
      "A value is trying to be set on a copy of a slice from a DataFrame.\n",
      "Try using .loc[row_indexer,col_indexer] = value instead\n",
      "\n",
      "See the caveats in the documentation: https://pandas.pydata.org/pandas-docs/stable/user_guide/indexing.html#returning-a-view-versus-a-copy\n",
      "C:\\Users\\Mauricio\\anaconda3\\envs\\airbnb42\\lib\\site-packages\\ipykernel_launcher.py:19: SettingWithCopyWarning: \n",
      "A value is trying to be set on a copy of a slice from a DataFrame.\n",
      "Try using .loc[row_indexer,col_indexer] = value instead\n",
      "\n",
      "See the caveats in the documentation: https://pandas.pydata.org/pandas-docs/stable/user_guide/indexing.html#returning-a-view-versus-a-copy\n",
      "C:\\Users\\Mauricio\\anaconda3\\envs\\airbnb42\\lib\\site-packages\\ipykernel_launcher.py:21: SettingWithCopyWarning: \n",
      "A value is trying to be set on a copy of a slice from a DataFrame.\n",
      "Try using .loc[row_indexer,col_indexer] = value instead\n",
      "\n",
      "See the caveats in the documentation: https://pandas.pydata.org/pandas-docs/stable/user_guide/indexing.html#returning-a-view-versus-a-copy\n",
      "C:\\Users\\Mauricio\\anaconda3\\envs\\airbnb42\\lib\\site-packages\\ipykernel_launcher.py:22: SettingWithCopyWarning: \n",
      "A value is trying to be set on a copy of a slice from a DataFrame.\n",
      "Try using .loc[row_indexer,col_indexer] = value instead\n",
      "\n",
      "See the caveats in the documentation: https://pandas.pydata.org/pandas-docs/stable/user_guide/indexing.html#returning-a-view-versus-a-copy\n",
      "C:\\Users\\Mauricio\\anaconda3\\envs\\airbnb42\\lib\\site-packages\\ipykernel_launcher.py:23: SettingWithCopyWarning: \n",
      "A value is trying to be set on a copy of a slice from a DataFrame.\n",
      "Try using .loc[row_indexer,col_indexer] = value instead\n",
      "\n",
      "See the caveats in the documentation: https://pandas.pydata.org/pandas-docs/stable/user_guide/indexing.html#returning-a-view-versus-a-copy\n",
      "C:\\Users\\Mauricio\\anaconda3\\envs\\airbnb42\\lib\\site-packages\\ipykernel_launcher.py:24: SettingWithCopyWarning: \n",
      "A value is trying to be set on a copy of a slice from a DataFrame.\n",
      "Try using .loc[row_indexer,col_indexer] = value instead\n",
      "\n",
      "See the caveats in the documentation: https://pandas.pydata.org/pandas-docs/stable/user_guide/indexing.html#returning-a-view-versus-a-copy\n",
      "C:\\Users\\Mauricio\\anaconda3\\envs\\airbnb42\\lib\\site-packages\\ipykernel_launcher.py:25: SettingWithCopyWarning: \n",
      "A value is trying to be set on a copy of a slice from a DataFrame.\n",
      "Try using .loc[row_indexer,col_indexer] = value instead\n",
      "\n",
      "See the caveats in the documentation: https://pandas.pydata.org/pandas-docs/stable/user_guide/indexing.html#returning-a-view-versus-a-copy\n",
      "C:\\Users\\Mauricio\\anaconda3\\envs\\airbnb42\\lib\\site-packages\\ipykernel_launcher.py:6: SettingWithCopyWarning: \n",
      "A value is trying to be set on a copy of a slice from a DataFrame.\n",
      "Try using .loc[row_indexer,col_indexer] = value instead\n",
      "\n",
      "See the caveats in the documentation: https://pandas.pydata.org/pandas-docs/stable/user_guide/indexing.html#returning-a-view-versus-a-copy\n",
      "  \n",
      "C:\\Users\\Mauricio\\anaconda3\\envs\\airbnb42\\lib\\site-packages\\ipykernel_launcher.py:11: SettingWithCopyWarning: \n",
      "A value is trying to be set on a copy of a slice from a DataFrame.\n",
      "Try using .loc[row_indexer,col_indexer] = value instead\n",
      "\n",
      "See the caveats in the documentation: https://pandas.pydata.org/pandas-docs/stable/user_guide/indexing.html#returning-a-view-versus-a-copy\n",
      "  # This is added back by InteractiveShellApp.init_path()\n",
      "C:\\Users\\Mauricio\\anaconda3\\envs\\airbnb42\\lib\\site-packages\\ipykernel_launcher.py:19: SettingWithCopyWarning: \n",
      "A value is trying to be set on a copy of a slice from a DataFrame.\n",
      "Try using .loc[row_indexer,col_indexer] = value instead\n",
      "\n",
      "See the caveats in the documentation: https://pandas.pydata.org/pandas-docs/stable/user_guide/indexing.html#returning-a-view-versus-a-copy\n",
      "C:\\Users\\Mauricio\\anaconda3\\envs\\airbnb42\\lib\\site-packages\\pandas\\core\\series.py:4523: SettingWithCopyWarning: \n",
      "A value is trying to be set on a copy of a slice from a DataFrame\n",
      "\n",
      "See the caveats in the documentation: https://pandas.pydata.org/pandas-docs/stable/user_guide/indexing.html#returning-a-view-versus-a-copy\n",
      "  downcast=downcast,\n",
      "C:\\Users\\Mauricio\\anaconda3\\envs\\airbnb42\\lib\\site-packages\\ipykernel_launcher.py:24: SettingWithCopyWarning: \n",
      "A value is trying to be set on a copy of a slice from a DataFrame.\n",
      "Try using .loc[row_indexer,col_indexer] = value instead\n",
      "\n",
      "See the caveats in the documentation: https://pandas.pydata.org/pandas-docs/stable/user_guide/indexing.html#returning-a-view-versus-a-copy\n",
      "C:\\Users\\Mauricio\\anaconda3\\envs\\airbnb42\\lib\\site-packages\\ipykernel_launcher.py:29: SettingWithCopyWarning: \n",
      "A value is trying to be set on a copy of a slice from a DataFrame.\n",
      "Try using .loc[row_indexer,col_indexer] = value instead\n",
      "\n",
      "See the caveats in the documentation: https://pandas.pydata.org/pandas-docs/stable/user_guide/indexing.html#returning-a-view-versus-a-copy\n",
      "C:\\Users\\Mauricio\\anaconda3\\envs\\airbnb42\\lib\\site-packages\\ipykernel_launcher.py:33: SettingWithCopyWarning: \n",
      "A value is trying to be set on a copy of a slice from a DataFrame.\n",
      "Try using .loc[row_indexer,col_indexer] = value instead\n",
      "\n",
      "See the caveats in the documentation: https://pandas.pydata.org/pandas-docs/stable/user_guide/indexing.html#returning-a-view-versus-a-copy\n",
      "C:\\Users\\Mauricio\\anaconda3\\envs\\airbnb42\\lib\\site-packages\\ipykernel_launcher.py:40: SettingWithCopyWarning: \n",
      "A value is trying to be set on a copy of a slice from a DataFrame.\n",
      "Try using .loc[row_indexer,col_indexer] = value instead\n",
      "\n",
      "See the caveats in the documentation: https://pandas.pydata.org/pandas-docs/stable/user_guide/indexing.html#returning-a-view-versus-a-copy\n",
      "C:\\Users\\Mauricio\\anaconda3\\envs\\airbnb42\\lib\\site-packages\\ipykernel_launcher.py:45: SettingWithCopyWarning: \n",
      "A value is trying to be set on a copy of a slice from a DataFrame.\n",
      "Try using .loc[row_indexer,col_indexer] = value instead\n",
      "\n",
      "See the caveats in the documentation: https://pandas.pydata.org/pandas-docs/stable/user_guide/indexing.html#returning-a-view-versus-a-copy\n"
     ]
    },
    {
     "name": "stderr",
     "output_type": "stream",
     "text": [
      "C:\\Users\\Mauricio\\anaconda3\\envs\\airbnb42\\lib\\site-packages\\pandas\\core\\generic.py:5159: SettingWithCopyWarning: \n",
      "A value is trying to be set on a copy of a slice from a DataFrame.\n",
      "Try using .loc[row_indexer,col_indexer] = value instead\n",
      "\n",
      "See the caveats in the documentation: https://pandas.pydata.org/pandas-docs/stable/user_guide/indexing.html#returning-a-view-versus-a-copy\n",
      "  self[name] = value\n",
      "C:\\Users\\Mauricio\\anaconda3\\envs\\airbnb42\\lib\\site-packages\\ipykernel_launcher.py:51: SettingWithCopyWarning: \n",
      "A value is trying to be set on a copy of a slice from a DataFrame.\n",
      "Try using .loc[row_indexer,col_indexer] = value instead\n",
      "\n",
      "See the caveats in the documentation: https://pandas.pydata.org/pandas-docs/stable/user_guide/indexing.html#returning-a-view-versus-a-copy\n",
      "C:\\Users\\Mauricio\\anaconda3\\envs\\airbnb42\\lib\\site-packages\\ipykernel_launcher.py:57: SettingWithCopyWarning: \n",
      "A value is trying to be set on a copy of a slice from a DataFrame.\n",
      "Try using .loc[row_indexer,col_indexer] = value instead\n",
      "\n",
      "See the caveats in the documentation: https://pandas.pydata.org/pandas-docs/stable/user_guide/indexing.html#returning-a-view-versus-a-copy\n"
     ]
    },
    {
     "name": "stdout",
     "output_type": "stream",
     "text": [
      "0    21084\n",
      "1     7990\n",
      "Name: occupancy_class, dtype: int64\n"
     ]
    }
   ],
   "source": [
    "# Apply feature engineering to dataset\n",
    "data = feature_engineering(data)"
   ]
  },
  {
   "cell_type": "markdown",
   "metadata": {},
   "source": [
    "## Final Check, Cleaning and Export"
   ]
  },
  {
   "cell_type": "code",
   "execution_count": 56,
   "metadata": {
    "code_folding": [
     0
    ]
   },
   "outputs": [],
   "source": [
    "# Sort columns in dataset\n",
    "data = data.reindex(sorted(data.columns, reverse=False), axis=1)"
   ]
  },
  {
   "cell_type": "code",
   "execution_count": 57,
   "metadata": {
    "code_folding": [
     0
    ]
   },
   "outputs": [
    {
     "name": "stdout",
     "output_type": "stream",
     "text": [
      "<class 'pandas.core.frame.DataFrame'>\n",
      "Int64Index: 29074 entries, 5396 to 42860297\n",
      "Data columns (total 51 columns):\n",
      " #   Column                        Non-Null Count  Dtype  \n",
      "---  ------                        --------------  -----  \n",
      " 0   accommodates                  29074 non-null  int64  \n",
      " 1   accommodates_per_bed          29074 non-null  float64\n",
      " 2   am_balcony                    29074 non-null  float64\n",
      " 3   am_breakfast                  29074 non-null  float64\n",
      " 4   am_child_friendly             29074 non-null  float64\n",
      " 5   am_elevator                   29074 non-null  float64\n",
      " 6   am_essentials                 29074 non-null  float64\n",
      " 7   am_nature_and_views           29074 non-null  float64\n",
      " 8   am_pets_allowed               29074 non-null  float64\n",
      " 9   am_private_entrance           29074 non-null  float64\n",
      " 10  am_smoking_allowed            29074 non-null  float64\n",
      " 11  am_tv                         29074 non-null  float64\n",
      " 12  am_white_goods                29074 non-null  float64\n",
      " 13  availability_90               29074 non-null  int64  \n",
      " 14  bathrooms_log                 29074 non-null  float64\n",
      " 15  bedrooms                      29074 non-null  float64\n",
      " 16  calc_host_lst_count_sqrt_log  29074 non-null  float64\n",
      " 17  cancellation_policy           29074 non-null  object \n",
      " 18  first_review_days_sqrt        29074 non-null  float64\n",
      " 19  guests_included_calc          29074 non-null  int64  \n",
      " 20  host_acceptance_rate          29074 non-null  float64\n",
      " 21  host_is_superhost             29074 non-null  int64  \n",
      " 22  host_response_rate            29074 non-null  float64\n",
      " 23  host_response_time            29074 non-null  object \n",
      " 24  instant_bookable              29074 non-null  int64  \n",
      " 25  last_review_days_sqrt         29074 non-null  float64\n",
      " 26  latitude                      29074 non-null  float64\n",
      " 27  listing_no                    29074 non-null  int64  \n",
      " 28  longitude                     29074 non-null  float64\n",
      " 29  maximum_nights                29074 non-null  int64  \n",
      " 30  minimum_nights_sqrt           29074 non-null  float64\n",
      " 31  neighbourhood_cleansed        29074 non-null  object \n",
      " 32  number_of_reviews_ltm_log     29074 non-null  float64\n",
      " 33  occupancy_class               29074 non-null  int64  \n",
      " 34  occupancy_rate                29074 non-null  float64\n",
      " 35  price                         29074 non-null  float64\n",
      " 36  price_calc_log                29074 non-null  float64\n",
      " 37  price_class                   29074 non-null  int64  \n",
      " 38  price_extra_fees_sqrt         29074 non-null  float64\n",
      " 39  price_extra_people            29074 non-null  float64\n",
      " 40  price_log                     29074 non-null  float64\n",
      " 41  property_type                 29074 non-null  object \n",
      " 42  review_scores_calc            29074 non-null  float64\n",
      " 43  review_scores_class           29074 non-null  int64  \n",
      " 44  review_scores_class_new       29074 non-null  int64  \n",
      " 45  review_scores_location        29074 non-null  float64\n",
      " 46  review_scores_rating_sqrt     29074 non-null  float64\n",
      " 47  room_type                     29074 non-null  object \n",
      " 48  text_len_sqrt                 29074 non-null  float64\n",
      " 49  wk_mth_discount               29074 non-null  float64\n",
      " 50  zipcode                       29074 non-null  object \n",
      "dtypes: float64(34), int64(11), object(6)\n",
      "memory usage: 12.8+ MB\n"
     ]
    }
   ],
   "source": [
    "# Review datatypes (data.info()) (post-engineering)\n",
    "data.info()"
   ]
  },
  {
   "cell_type": "code",
   "execution_count": 58,
   "metadata": {
    "code_folding": [
     0
    ]
   },
   "outputs": [
    {
     "name": "stdout",
     "output_type": "stream",
     "text": [
      "(29074, 51)\n"
     ]
    },
    {
     "data": {
      "text/html": [
       "<div>\n",
       "<style scoped>\n",
       "    .dataframe tbody tr th:only-of-type {\n",
       "        vertical-align: middle;\n",
       "    }\n",
       "\n",
       "    .dataframe tbody tr th {\n",
       "        vertical-align: top;\n",
       "    }\n",
       "\n",
       "    .dataframe thead th {\n",
       "        text-align: right;\n",
       "    }\n",
       "</style>\n",
       "<table border=\"1\" class=\"dataframe\">\n",
       "  <thead>\n",
       "    <tr style=\"text-align: right;\">\n",
       "      <th></th>\n",
       "      <th>accommodates</th>\n",
       "      <th>accommodates_per_bed</th>\n",
       "      <th>am_balcony</th>\n",
       "      <th>am_breakfast</th>\n",
       "      <th>am_child_friendly</th>\n",
       "      <th>am_elevator</th>\n",
       "      <th>am_essentials</th>\n",
       "      <th>am_nature_and_views</th>\n",
       "      <th>am_pets_allowed</th>\n",
       "      <th>am_private_entrance</th>\n",
       "      <th>am_smoking_allowed</th>\n",
       "      <th>am_tv</th>\n",
       "      <th>am_white_goods</th>\n",
       "      <th>availability_90</th>\n",
       "      <th>bathrooms_log</th>\n",
       "      <th>bedrooms</th>\n",
       "      <th>calc_host_lst_count_sqrt_log</th>\n",
       "      <th>cancellation_policy</th>\n",
       "      <th>first_review_days_sqrt</th>\n",
       "      <th>guests_included_calc</th>\n",
       "      <th>host_acceptance_rate</th>\n",
       "      <th>host_is_superhost</th>\n",
       "      <th>host_response_rate</th>\n",
       "      <th>host_response_time</th>\n",
       "      <th>instant_bookable</th>\n",
       "      <th>last_review_days_sqrt</th>\n",
       "      <th>latitude</th>\n",
       "      <th>listing_no</th>\n",
       "      <th>longitude</th>\n",
       "      <th>maximum_nights</th>\n",
       "      <th>minimum_nights_sqrt</th>\n",
       "      <th>neighbourhood_cleansed</th>\n",
       "      <th>number_of_reviews_ltm_log</th>\n",
       "      <th>occupancy_class</th>\n",
       "      <th>occupancy_rate</th>\n",
       "      <th>price</th>\n",
       "      <th>price_calc_log</th>\n",
       "      <th>price_class</th>\n",
       "      <th>price_extra_fees_sqrt</th>\n",
       "      <th>price_extra_people</th>\n",
       "      <th>price_log</th>\n",
       "      <th>property_type</th>\n",
       "      <th>review_scores_calc</th>\n",
       "      <th>review_scores_class</th>\n",
       "      <th>review_scores_class_new</th>\n",
       "      <th>review_scores_location</th>\n",
       "      <th>review_scores_rating_sqrt</th>\n",
       "      <th>room_type</th>\n",
       "      <th>text_len_sqrt</th>\n",
       "      <th>wk_mth_discount</th>\n",
       "      <th>zipcode</th>\n",
       "    </tr>\n",
       "    <tr>\n",
       "      <th>id</th>\n",
       "      <th></th>\n",
       "      <th></th>\n",
       "      <th></th>\n",
       "      <th></th>\n",
       "      <th></th>\n",
       "      <th></th>\n",
       "      <th></th>\n",
       "      <th></th>\n",
       "      <th></th>\n",
       "      <th></th>\n",
       "      <th></th>\n",
       "      <th></th>\n",
       "      <th></th>\n",
       "      <th></th>\n",
       "      <th></th>\n",
       "      <th></th>\n",
       "      <th></th>\n",
       "      <th></th>\n",
       "      <th></th>\n",
       "      <th></th>\n",
       "      <th></th>\n",
       "      <th></th>\n",
       "      <th></th>\n",
       "      <th></th>\n",
       "      <th></th>\n",
       "      <th></th>\n",
       "      <th></th>\n",
       "      <th></th>\n",
       "      <th></th>\n",
       "      <th></th>\n",
       "      <th></th>\n",
       "      <th></th>\n",
       "      <th></th>\n",
       "      <th></th>\n",
       "      <th></th>\n",
       "      <th></th>\n",
       "      <th></th>\n",
       "      <th></th>\n",
       "      <th></th>\n",
       "      <th></th>\n",
       "      <th></th>\n",
       "      <th></th>\n",
       "      <th></th>\n",
       "      <th></th>\n",
       "      <th></th>\n",
       "      <th></th>\n",
       "      <th></th>\n",
       "      <th></th>\n",
       "      <th></th>\n",
       "      <th></th>\n",
       "      <th></th>\n",
       "    </tr>\n",
       "  </thead>\n",
       "  <tbody>\n",
       "    <tr>\n",
       "      <th>5396</th>\n",
       "      <td>2</td>\n",
       "      <td>2.0</td>\n",
       "      <td>0.0</td>\n",
       "      <td>0.0</td>\n",
       "      <td>0.0</td>\n",
       "      <td>0.0</td>\n",
       "      <td>1.0</td>\n",
       "      <td>0.0</td>\n",
       "      <td>0.0</td>\n",
       "      <td>0.0</td>\n",
       "      <td>0.0</td>\n",
       "      <td>0.0</td>\n",
       "      <td>1.0</td>\n",
       "      <td>32</td>\n",
       "      <td>0.0</td>\n",
       "      <td>0.5</td>\n",
       "      <td>0.0</td>\n",
       "      <td>strict</td>\n",
       "      <td>62.545983</td>\n",
       "      <td>2</td>\n",
       "      <td>100.0</td>\n",
       "      <td>0</td>\n",
       "      <td>100.0</td>\n",
       "      <td>within an hour</td>\n",
       "      <td>1</td>\n",
       "      <td>3.872983</td>\n",
       "      <td>48.85100</td>\n",
       "      <td>5396</td>\n",
       "      <td>2.35869</td>\n",
       "      <td>2</td>\n",
       "      <td>1.000000</td>\n",
       "      <td>Hôtel-de-Ville</td>\n",
       "      <td>6.928203</td>\n",
       "      <td>0</td>\n",
       "      <td>0.266667</td>\n",
       "      <td>115.0</td>\n",
       "      <td>4.744932</td>\n",
       "      <td>10</td>\n",
       "      <td>6.000000</td>\n",
       "      <td>0.000000</td>\n",
       "      <td>4.744932</td>\n",
       "      <td>Apartment</td>\n",
       "      <td>89.452277</td>\n",
       "      <td>2</td>\n",
       "      <td>2</td>\n",
       "      <td>10.0</td>\n",
       "      <td>5.781994</td>\n",
       "      <td>Entire home/apt</td>\n",
       "      <td>0.630660</td>\n",
       "      <td>0.337474</td>\n",
       "      <td>zip_75004</td>\n",
       "    </tr>\n",
       "    <tr>\n",
       "      <th>7397</th>\n",
       "      <td>4</td>\n",
       "      <td>2.0</td>\n",
       "      <td>0.0</td>\n",
       "      <td>0.0</td>\n",
       "      <td>1.0</td>\n",
       "      <td>0.0</td>\n",
       "      <td>1.0</td>\n",
       "      <td>0.0</td>\n",
       "      <td>0.0</td>\n",
       "      <td>0.0</td>\n",
       "      <td>0.0</td>\n",
       "      <td>1.0</td>\n",
       "      <td>1.0</td>\n",
       "      <td>45</td>\n",
       "      <td>0.0</td>\n",
       "      <td>2.0</td>\n",
       "      <td>0.0</td>\n",
       "      <td>moderate</td>\n",
       "      <td>57.140179</td>\n",
       "      <td>2</td>\n",
       "      <td>86.0</td>\n",
       "      <td>1</td>\n",
       "      <td>100.0</td>\n",
       "      <td>within an hour</td>\n",
       "      <td>0</td>\n",
       "      <td>4.358899</td>\n",
       "      <td>48.85758</td>\n",
       "      <td>7397</td>\n",
       "      <td>2.35275</td>\n",
       "      <td>23</td>\n",
       "      <td>2.000000</td>\n",
       "      <td>Hôtel-de-Ville</td>\n",
       "      <td>5.385165</td>\n",
       "      <td>1</td>\n",
       "      <td>0.533333</td>\n",
       "      <td>119.0</td>\n",
       "      <td>4.736198</td>\n",
       "      <td>10</td>\n",
       "      <td>15.811388</td>\n",
       "      <td>8.333333</td>\n",
       "      <td>4.779123</td>\n",
       "      <td>Apartment</td>\n",
       "      <td>93.383559</td>\n",
       "      <td>3</td>\n",
       "      <td>3</td>\n",
       "      <td>10.0</td>\n",
       "      <td>6.494782</td>\n",
       "      <td>Entire home/apt</td>\n",
       "      <td>0.579981</td>\n",
       "      <td>0.191877</td>\n",
       "      <td>zip_75004</td>\n",
       "    </tr>\n",
       "    <tr>\n",
       "      <th>9952</th>\n",
       "      <td>2</td>\n",
       "      <td>2.0</td>\n",
       "      <td>0.0</td>\n",
       "      <td>0.0</td>\n",
       "      <td>0.0</td>\n",
       "      <td>0.0</td>\n",
       "      <td>1.0</td>\n",
       "      <td>0.0</td>\n",
       "      <td>0.0</td>\n",
       "      <td>0.0</td>\n",
       "      <td>0.0</td>\n",
       "      <td>1.0</td>\n",
       "      <td>0.0</td>\n",
       "      <td>45</td>\n",
       "      <td>0.0</td>\n",
       "      <td>1.0</td>\n",
       "      <td>0.0</td>\n",
       "      <td>moderate</td>\n",
       "      <td>50.537115</td>\n",
       "      <td>2</td>\n",
       "      <td>100.0</td>\n",
       "      <td>0</td>\n",
       "      <td>100.0</td>\n",
       "      <td>within an hour</td>\n",
       "      <td>1</td>\n",
       "      <td>7.416198</td>\n",
       "      <td>48.86227</td>\n",
       "      <td>9952</td>\n",
       "      <td>2.37134</td>\n",
       "      <td>120</td>\n",
       "      <td>2.236068</td>\n",
       "      <td>Popincourt</td>\n",
       "      <td>2.828427</td>\n",
       "      <td>0</td>\n",
       "      <td>0.222222</td>\n",
       "      <td>75.0</td>\n",
       "      <td>4.317488</td>\n",
       "      <td>7</td>\n",
       "      <td>16.733201</td>\n",
       "      <td>0.000000</td>\n",
       "      <td>4.317488</td>\n",
       "      <td>Apartment</td>\n",
       "      <td>96.779618</td>\n",
       "      <td>4</td>\n",
       "      <td>4</td>\n",
       "      <td>10.0</td>\n",
       "      <td>7.530058</td>\n",
       "      <td>Entire home/apt</td>\n",
       "      <td>0.607842</td>\n",
       "      <td>0.211111</td>\n",
       "      <td>zip_75011</td>\n",
       "    </tr>\n",
       "  </tbody>\n",
       "</table>\n",
       "</div>"
      ],
      "text/plain": [
       "      accommodates  accommodates_per_bed  am_balcony  am_breakfast  \\\n",
       "id                                                                   \n",
       "5396             2                   2.0         0.0           0.0   \n",
       "7397             4                   2.0         0.0           0.0   \n",
       "9952             2                   2.0         0.0           0.0   \n",
       "\n",
       "      am_child_friendly  am_elevator  am_essentials  am_nature_and_views  \\\n",
       "id                                                                         \n",
       "5396                0.0          0.0            1.0                  0.0   \n",
       "7397                1.0          0.0            1.0                  0.0   \n",
       "9952                0.0          0.0            1.0                  0.0   \n",
       "\n",
       "      am_pets_allowed  am_private_entrance  am_smoking_allowed  am_tv  \\\n",
       "id                                                                      \n",
       "5396              0.0                  0.0                 0.0    0.0   \n",
       "7397              0.0                  0.0                 0.0    1.0   \n",
       "9952              0.0                  0.0                 0.0    1.0   \n",
       "\n",
       "      am_white_goods  availability_90  bathrooms_log  bedrooms  \\\n",
       "id                                                               \n",
       "5396             1.0               32            0.0       0.5   \n",
       "7397             1.0               45            0.0       2.0   \n",
       "9952             0.0               45            0.0       1.0   \n",
       "\n",
       "      calc_host_lst_count_sqrt_log cancellation_policy  \\\n",
       "id                                                       \n",
       "5396                           0.0              strict   \n",
       "7397                           0.0            moderate   \n",
       "9952                           0.0            moderate   \n",
       "\n",
       "      first_review_days_sqrt  guests_included_calc  host_acceptance_rate  \\\n",
       "id                                                                         \n",
       "5396               62.545983                     2                 100.0   \n",
       "7397               57.140179                     2                  86.0   \n",
       "9952               50.537115                     2                 100.0   \n",
       "\n",
       "      host_is_superhost  host_response_rate host_response_time  \\\n",
       "id                                                               \n",
       "5396                  0               100.0     within an hour   \n",
       "7397                  1               100.0     within an hour   \n",
       "9952                  0               100.0     within an hour   \n",
       "\n",
       "      instant_bookable  last_review_days_sqrt  latitude  listing_no  \\\n",
       "id                                                                    \n",
       "5396                 1               3.872983  48.85100        5396   \n",
       "7397                 0               4.358899  48.85758        7397   \n",
       "9952                 1               7.416198  48.86227        9952   \n",
       "\n",
       "      longitude  maximum_nights  minimum_nights_sqrt neighbourhood_cleansed  \\\n",
       "id                                                                            \n",
       "5396    2.35869               2             1.000000         Hôtel-de-Ville   \n",
       "7397    2.35275              23             2.000000         Hôtel-de-Ville   \n",
       "9952    2.37134             120             2.236068             Popincourt   \n",
       "\n",
       "      number_of_reviews_ltm_log  occupancy_class  occupancy_rate  price  \\\n",
       "id                                                                        \n",
       "5396                   6.928203                0        0.266667  115.0   \n",
       "7397                   5.385165                1        0.533333  119.0   \n",
       "9952                   2.828427                0        0.222222   75.0   \n",
       "\n",
       "      price_calc_log  price_class  price_extra_fees_sqrt  price_extra_people  \\\n",
       "id                                                                             \n",
       "5396        4.744932           10               6.000000            0.000000   \n",
       "7397        4.736198           10              15.811388            8.333333   \n",
       "9952        4.317488            7              16.733201            0.000000   \n",
       "\n",
       "      price_log property_type  review_scores_calc  review_scores_class  \\\n",
       "id                                                                       \n",
       "5396   4.744932     Apartment           89.452277                    2   \n",
       "7397   4.779123     Apartment           93.383559                    3   \n",
       "9952   4.317488     Apartment           96.779618                    4   \n",
       "\n",
       "      review_scores_class_new  review_scores_location  \\\n",
       "id                                                      \n",
       "5396                        2                    10.0   \n",
       "7397                        3                    10.0   \n",
       "9952                        4                    10.0   \n",
       "\n",
       "      review_scores_rating_sqrt        room_type  text_len_sqrt  \\\n",
       "id                                                                \n",
       "5396                   5.781994  Entire home/apt       0.630660   \n",
       "7397                   6.494782  Entire home/apt       0.579981   \n",
       "9952                   7.530058  Entire home/apt       0.607842   \n",
       "\n",
       "      wk_mth_discount    zipcode  \n",
       "id                                \n",
       "5396         0.337474  zip_75004  \n",
       "7397         0.191877  zip_75004  \n",
       "9952         0.211111  zip_75011  "
      ]
     },
     "execution_count": 58,
     "metadata": {},
     "output_type": "execute_result"
    }
   ],
   "source": [
    "# Display engineered dataset\n",
    "print(data.shape)\n",
    "data.head(3)"
   ]
  },
  {
   "cell_type": "markdown",
   "metadata": {},
   "source": [
    "**Export data_engineered**"
   ]
  },
  {
   "cell_type": "code",
   "execution_count": 59,
   "metadata": {
    "code_folding": [
     0
    ]
   },
   "outputs": [],
   "source": [
    "# Export dataset for further use in 4_EDA_Engineered and 5_Predictive_Modeling\n",
    "data_engineered = data.copy()\n",
    "save_load(data_engineered, title=\"data_engineered\", function=\"save\")"
   ]
  },
  {
   "cell_type": "markdown",
   "metadata": {},
   "source": [
    "# Preprocessing (Train/Test Split and Pipeline)"
   ]
  },
  {
   "cell_type": "code",
   "execution_count": 60,
   "metadata": {
    "code_folding": []
   },
   "outputs": [],
   "source": [
    "# Import data_engineered\n",
    "data = save_load(title=\"data_engineered\", function=\"load\")"
   ]
  },
  {
   "cell_type": "code",
   "execution_count": 61,
   "metadata": {
    "code_folding": [
     0
    ]
   },
   "outputs": [],
   "source": [
    "# Feature selection\n",
    "\n",
    "#... by removing certain features\n",
    "all_features = [\n",
    "    el for el in data.columns if el not in [\n",
    "        'occupancy_rate', 'occupancy_class', 'listing_no', 'price_log',\n",
    "        'price_class', 'price_binary', \"review_scores_class_new\",\n",
    "        \"review_scores_class\", \"review_scores_calc\", \"neighbourhood_cleansed\"\n",
    "    ]\n",
    "]\n",
    "\n",
    "#... by only considering certain features\n",
    "key_features = [\n",
    "    \"accommodates_per_bed\", \"am_balcony\", \"am_breakfast\", \"am_child_friendly\",\n",
    "    \"am_elevator\", \"am_essentials\", \"am_pets_allowed\", \"am_private_entrance\",\n",
    "    \"am_smoking_allowed\", \"am_tv\", \"bathrooms_log\", \"bedrooms\",\n",
    "    \"calc_host_lst_count_sqrt_log\", \"cancellation_policy\",\n",
    "    \"guests_included_calc\", \"host_is_superhost\", \"instant_bookable\",\n",
    "    \"maximum_nights\", \"minimum_nights_sqrt\", \"property_type\", \"room_type\",\n",
    "    \"wk_mth_discount\", \"zipcode\"\n",
    "]\n",
    "\n",
    "# select features for predictive modeling from above: [all_features, key_features]\n",
    "pred_features = key_features\n",
    "\n",
    "#Display columns:\n",
    "#all_features\n",
    "#key_features"
   ]
  },
  {
   "cell_type": "markdown",
   "metadata": {},
   "source": [
    "Please make sure to carefully select the features you want to include in modeling via the cell above. Below you will see the output and potential issues with the selection, if detected."
   ]
  },
  {
   "cell_type": "code",
   "execution_count": 62,
   "metadata": {
    "code_folding": [
     0
    ]
   },
   "outputs": [
    {
     "name": "stdout",
     "output_type": "stream",
     "text": [
      "You are currently using \u001b[1mPRICE_LOG\u001b[0m as the target and \u001b[1mneg_median_absolute_error\u001b[0m for scoring to predict prices for \u001b[1mparis\u001b[0m on \u001b[1m2020-03-16\u001b[0m\n",
      "\n",
      "You are currently using these features for its prediction:\n",
      "\u001b[1m['accommodates_per_bed', 'am_balcony', 'am_breakfast', 'am_child_friendly', 'am_elevator', 'am_essentials', 'am_pets_allowed', 'am_private_entrance', 'am_smoking_allowed', 'am_tv', 'bathrooms_log', 'bedrooms', 'calc_host_lst_count_sqrt_log', 'cancellation_policy', 'guests_included_calc', 'host_is_superhost', 'instant_bookable', 'maximum_nights', 'minimum_nights_sqrt', 'property_type', 'room_type', 'wk_mth_discount', 'zipcode']\u001b[0m\n",
      "\n",
      "No issues with your selection of pred_features have been detected. Please make sure to manually check for correctness nevertheless.\n"
     ]
    }
   ],
   "source": [
    "# Print target setting and feature selection\n",
    "print_target_setting()"
   ]
  },
  {
   "cell_type": "code",
   "execution_count": 63,
   "metadata": {
    "code_folding": [
     0
    ]
   },
   "outputs": [],
   "source": [
    "# Drop columns\n",
    "drop_columns = [el for el in data.columns if el not in pred_features]\n",
    "drop_columns.remove(target)\n",
    "data.drop(labels=drop_columns, inplace=True, axis=1)"
   ]
  },
  {
   "cell_type": "code",
   "execution_count": 64,
   "metadata": {
    "code_folding": [
     0
    ]
   },
   "outputs": [],
   "source": [
    "# Drop rows (optional, just temporary)\n",
    "#data = data[data.number_of_reviews_ltm_log>1.7]"
   ]
  },
  {
   "cell_type": "markdown",
   "metadata": {},
   "source": [
    "## Preprocessing pipeline"
   ]
  },
  {
   "cell_type": "code",
   "execution_count": 65,
   "metadata": {
    "code_folding": [
     0
    ]
   },
   "outputs": [
    {
     "data": {
      "text/plain": [
       "['cancellation_policy', 'property_type', 'room_type', 'zipcode']"
      ]
     },
     "execution_count": 65,
     "metadata": {},
     "output_type": "execute_result"
    }
   ],
   "source": [
    "# Create list for categorical predictors/features (used in \"Scaling with Preprocessing Pipeline\")\n",
    "cat_features = list(data.columns[data.dtypes == object])\n",
    "#cat_features.remove(\"neighbourhood\")\n",
    "#cat_features.remove(\"zipcode\")\n",
    "cat_features"
   ]
  },
  {
   "cell_type": "code",
   "execution_count": 66,
   "metadata": {
    "code_folding": [
     0
    ]
   },
   "outputs": [
    {
     "data": {
      "text/plain": [
       "['accommodates_per_bed',\n",
       " 'am_balcony',\n",
       " 'am_breakfast',\n",
       " 'am_child_friendly',\n",
       " 'am_elevator',\n",
       " 'am_essentials',\n",
       " 'am_pets_allowed',\n",
       " 'am_private_entrance',\n",
       " 'am_smoking_allowed',\n",
       " 'am_tv',\n",
       " 'bathrooms_log',\n",
       " 'bedrooms',\n",
       " 'calc_host_lst_count_sqrt_log',\n",
       " 'guests_included_calc',\n",
       " 'host_is_superhost',\n",
       " 'instant_bookable',\n",
       " 'maximum_nights',\n",
       " 'minimum_nights_sqrt',\n",
       " 'wk_mth_discount']"
      ]
     },
     "execution_count": 66,
     "metadata": {},
     "output_type": "execute_result"
    }
   ],
   "source": [
    "# Create list for numerical predictors/features (removing target column, used in \"Scaling with Preprocessing Pipeline\")\n",
    "num_features = list(data.columns[data.dtypes != object])\n",
    "num_features.remove(target)\n",
    "num_features"
   ]
  },
  {
   "cell_type": "code",
   "execution_count": 67,
   "metadata": {
    "code_folding": [
     0
    ]
   },
   "outputs": [],
   "source": [
    "# Build preprocessor pipeline\n",
    "# Pipeline for numerical features\n",
    "num_pipeline = Pipeline([('imputer_num', SimpleImputer(strategy='median')),\n",
    "                         ('std_scaler', StandardScaler())])\n",
    "\n",
    "# Pipeline for categorical features\n",
    "cat_pipeline = Pipeline([\n",
    "    ('imputer_cat', SimpleImputer(strategy='constant', fill_value='missing')),\n",
    "    ('1hot', OneHotEncoder(drop='first', handle_unknown='error'))\n",
    "])\n",
    "\n",
    "# Complete pipeline\n",
    "preprocessor = ColumnTransformer([('num', num_pipeline, num_features),\n",
    "                                  ('cat', cat_pipeline, cat_features)])"
   ]
  },
  {
   "cell_type": "markdown",
   "metadata": {},
   "source": [
    "## Train/test split"
   ]
  },
  {
   "cell_type": "code",
   "execution_count": 68,
   "metadata": {
    "code_folding": [
     0
    ]
   },
   "outputs": [],
   "source": [
    "# Define predictors and target variable\n",
    "X = data.drop([target], axis=1)\n",
    "y = data[target]"
   ]
  },
  {
   "cell_type": "code",
   "execution_count": 69,
   "metadata": {
    "code_folding": [
     0
    ]
   },
   "outputs": [],
   "source": [
    "# Split data into training and testing sets\n",
    "X_train, X_test, y_train, y_test = train_test_split(X,\n",
    "                                                    y,\n",
    "                                                    test_size=test_size,\n",
    "                                                    random_state=random_state,\n",
    "                                                    shuffle=True)\n",
    "#                                                   stratify=y) # Use stratify=y if labels are inbalanced (e.g. most wines are 5 or 6; check with value_counts()!)"
   ]
  },
  {
   "cell_type": "code",
   "execution_count": 70,
   "metadata": {
    "code_folding": [],
    "scrolled": true
   },
   "outputs": [],
   "source": [
    "# Saving preprocessed X_train and X_test\n",
    "X_train_prep_preprocessor = preprocessor.fit(X_train)\n",
    "\n",
    "X_train_prep = X_train_prep_preprocessor.transform(X_train)\n",
    "X_train_num_prep = num_pipeline.fit_transform(X_train[num_features])\n",
    "X_test_prep = X_train_prep_preprocessor.transform(X_test)"
   ]
  },
  {
   "cell_type": "code",
   "execution_count": 71,
   "metadata": {
    "code_folding": [
     0
    ]
   },
   "outputs": [],
   "source": [
    "# Get feature names from pipeline after one-hot encoding as \"column_names\"\n",
    "onehot_columns = list(preprocessor.named_transformers_['cat']['1hot'].get_feature_names(cat_features))\n",
    "column_names = num_features + onehot_columns"
   ]
  },
  {
   "cell_type": "markdown",
   "metadata": {},
   "source": [
    "## Save preprocessor and X_test"
   ]
  },
  {
   "cell_type": "code",
   "execution_count": 72,
   "metadata": {},
   "outputs": [
    {
     "data": {
      "text/plain": [
       "array([[-0.73234519, -0.34477044, -0.37555558, ...,  0.        ,\n",
       "         0.        ,  0.        ],\n",
       "       [ 0.04692952, -0.34477044, -0.37555558, ...,  0.        ,\n",
       "         0.        ,  0.        ],\n",
       "       [ 1.60547894, -0.34477044,  2.66272172, ...,  0.        ,\n",
       "         0.        ,  0.        ],\n",
       "       ...,\n",
       "       [ 3.16402836,  2.90048071, -0.37555558, ...,  0.        ,\n",
       "         0.        ,  0.        ],\n",
       "       [-0.73234519, -0.34477044, -0.37555558, ...,  0.        ,\n",
       "         0.        ,  0.        ],\n",
       "       [ 0.04692952, -0.34477044, -0.37555558, ...,  0.        ,\n",
       "         0.        ,  0.        ]])"
      ]
     },
     "execution_count": 72,
     "metadata": {},
     "output_type": "execute_result"
    }
   ],
   "source": [
    "X_train_prep"
   ]
  },
  {
   "cell_type": "code",
   "execution_count": 73,
   "metadata": {
    "code_folding": []
   },
   "outputs": [],
   "source": [
    "# Save preprocessor\n",
    "save_load(X_train_prep_preprocessor, title=\"preprocessor\", function=\"save\")"
   ]
  },
  {
   "cell_type": "code",
   "execution_count": 74,
   "metadata": {
    "code_folding": [
     0
    ]
   },
   "outputs": [],
   "source": [
    "# Save X_test\n",
    "save_load(X_test, title=\"X_test\", function=\"save\")"
   ]
  },
  {
   "cell_type": "markdown",
   "metadata": {},
   "source": [
    "## Feature selection (optional, on classification)"
   ]
  },
  {
   "cell_type": "code",
   "execution_count": 75,
   "metadata": {
    "code_folding": [
     0
    ]
   },
   "outputs": [],
   "source": [
    "# Calculate \"y_sel\" from \"price_log\" (y) to get classification task\n",
    "price_feat_sel = []\n",
    "for price in y:\n",
    "    if price <= 3.4:\n",
    "        price_feat_sel.append(0)\n",
    "    elif price <= 3.7:\n",
    "        price_feat_sel.append(1)\n",
    "    elif price <= 4:\n",
    "        price_feat_sel.append(2)\n",
    "    elif price <= 4.3:\n",
    "        price_feat_sel.append(3)\n",
    "    elif price <= 4.6:\n",
    "        price_feat_sel.append(4)\n",
    "    elif price <= 4.9:\n",
    "        price_feat_sel.append(5)\n",
    "    else:\n",
    "        price_feat_sel.append(6)\n",
    "y_sel = price_feat_sel"
   ]
  },
  {
   "cell_type": "markdown",
   "metadata": {},
   "source": [
    "**Pearson's correlation**"
   ]
  },
  {
   "cell_type": "code",
   "execution_count": 76,
   "metadata": {
    "code_folding": [
     0
    ]
   },
   "outputs": [],
   "source": [
    "# Define function\n",
    "def cor_selector(X, y_sel):\n",
    "    cor_list = []\n",
    "    # calculate the correlation with y for each feature\n",
    "    for i in num_features:\n",
    "        cor = np.corrcoef(X[i], y)[0, 1]\n",
    "        cor_list.append(cor)\n",
    "    # replace NaN with 0\n",
    "    cor_list = [0 if np.isnan(i) else i for i in cor_list]\n",
    "    # feature name\n",
    "    cor_feature = X.iloc[:,np.argsort(np.abs(cor_list))].columns.tolist()\n",
    "    # feature selection? 0 for not select, 1 for select\n",
    "    cor_support = [True if i in cor_feature else False for i in num_features]\n",
    "    return cor_support, cor_feature"
   ]
  },
  {
   "cell_type": "code",
   "execution_count": 77,
   "metadata": {
    "code_folding": [
     0
    ]
   },
   "outputs": [
    {
     "name": "stdout",
     "output_type": "stream",
     "text": [
      "19 selected features\n"
     ]
    }
   ],
   "source": [
    "# Execute function\n",
    "cor_support, cor_feature = cor_selector(X, y_sel)\n",
    "print(str(len(cor_feature)), 'selected features')"
   ]
  },
  {
   "cell_type": "markdown",
   "metadata": {},
   "source": [
    "**Chi-squared**"
   ]
  },
  {
   "cell_type": "code",
   "execution_count": 78,
   "metadata": {
    "code_folding": [
     0
    ]
   },
   "outputs": [
    {
     "name": "stdout",
     "output_type": "stream",
     "text": [
      "10 selected features\n"
     ]
    }
   ],
   "source": [
    "# Perform chi-squared\n",
    "X_norm = MinMaxScaler().fit_transform(X[num_features])\n",
    "chi_selector = SelectKBest(chi2, k=10)\n",
    "chi_selector.fit(X_norm, y_sel)\n",
    "chi_support = chi_selector.get_support()\n",
    "chi_feature = X[num_features].loc[:,chi_support].columns.tolist()\n",
    "print(str(len(chi_feature)), 'selected features')"
   ]
  },
  {
   "cell_type": "markdown",
   "metadata": {},
   "source": [
    "**Recursive feature elimination**"
   ]
  },
  {
   "cell_type": "code",
   "execution_count": 79,
   "metadata": {
    "code_folding": [
     0
    ]
   },
   "outputs": [
    {
     "name": "stdout",
     "output_type": "stream",
     "text": [
      "Fitting estimator with 19 features.\n",
      "10 selected features\n"
     ]
    }
   ],
   "source": [
    "# Perform RFE\n",
    "rfe_selector = RFE(estimator=LogisticRegression(max_iter=3000), n_features_to_select=10, step=10, verbose=5)\n",
    "rfe_selector.fit(X_norm, y_sel)\n",
    "rfe_support = rfe_selector.get_support()\n",
    "rfe_feature = X[num_features].loc[:,rfe_support].columns.tolist()\n",
    "print(str(len(rfe_feature)), 'selected features')"
   ]
  },
  {
   "cell_type": "markdown",
   "metadata": {},
   "source": [
    "**SelectFromModel: Lasso**"
   ]
  },
  {
   "cell_type": "code",
   "execution_count": 80,
   "metadata": {
    "code_folding": [
     0
    ]
   },
   "outputs": [
    {
     "data": {
      "text/plain": [
       "SelectFromModel(estimator=LogisticRegression(max_iter=3000), max_features=10)"
      ]
     },
     "execution_count": 80,
     "metadata": {},
     "output_type": "execute_result"
    }
   ],
   "source": [
    "# Fit model\n",
    "embedded_lr_selector = SelectFromModel(LogisticRegression(penalty=\"l2\", max_iter=3000), max_features=10)\n",
    "embedded_lr_selector.fit(X_norm, y_sel)"
   ]
  },
  {
   "cell_type": "code",
   "execution_count": 81,
   "metadata": {
    "code_folding": [
     0
    ]
   },
   "outputs": [
    {
     "name": "stdout",
     "output_type": "stream",
     "text": [
      "5 selected features\n"
     ]
    }
   ],
   "source": [
    "# Evaluate features\n",
    "embedded_lr_support = embedded_lr_selector.get_support()\n",
    "embedded_lr_feature = X[num_features].loc[:,embedded_lr_support].columns.tolist()\n",
    "print(str(len(embedded_lr_feature)), 'selected features')"
   ]
  },
  {
   "cell_type": "markdown",
   "metadata": {},
   "source": [
    "**SelectFromModel: Tree-based**"
   ]
  },
  {
   "cell_type": "code",
   "execution_count": 82,
   "metadata": {
    "code_folding": [
     0
    ]
   },
   "outputs": [],
   "source": [
    "# Fit model\n",
    "embedded_rf_selector = SelectFromModel(RandomForestClassifier(n_estimators=100), max_features=10)\n",
    "embedded_rf_selector = embedded_rf_selector.fit(X_norm, y_sel)"
   ]
  },
  {
   "cell_type": "code",
   "execution_count": 83,
   "metadata": {
    "code_folding": [
     0
    ]
   },
   "outputs": [
    {
     "name": "stdout",
     "output_type": "stream",
     "text": [
      "6 selected features\n"
     ]
    }
   ],
   "source": [
    "# Evaluate features\n",
    "embedded_rf_support = embedded_rf_selector.get_support()\n",
    "embedded_rf_feature = X[num_features].loc[:,embedded_rf_support].columns.tolist()\n",
    "print(str(len(embedded_rf_feature)), 'selected features')"
   ]
  },
  {
   "cell_type": "markdown",
   "metadata": {},
   "source": [
    "**SelectFromModel: LightGBM**"
   ]
  },
  {
   "cell_type": "code",
   "execution_count": 84,
   "metadata": {
    "code_folding": [
     0
    ]
   },
   "outputs": [],
   "source": [
    "# Fit model\n",
    "lgbc=LGBMClassifier(n_estimators=500, learning_rate=0.05, num_leaves=32, colsample_bytree=0.2,\n",
    "            reg_alpha=3, reg_lambda=1, min_split_gain=0.01, min_child_weight=40)\n",
    "\n",
    "embedded_lgb_selector = SelectFromModel(lgbc, max_features=10)\n",
    "embedded_lgb_selector = embedded_lgb_selector.fit(X_norm, y_sel)"
   ]
  },
  {
   "cell_type": "code",
   "execution_count": 85,
   "metadata": {
    "code_folding": [
     0
    ]
   },
   "outputs": [
    {
     "name": "stdout",
     "output_type": "stream",
     "text": [
      "6 selected features\n"
     ]
    }
   ],
   "source": [
    "# Evaluate features\n",
    "embedded_lgb_support = embedded_lgb_selector.get_support()\n",
    "embedded_lgb_feature = X[num_features].loc[:,embedded_lgb_support].columns.tolist()\n",
    "print(str(len(embedded_lgb_feature)), 'selected features')"
   ]
  },
  {
   "cell_type": "markdown",
   "metadata": {},
   "source": [
    "**Feature evaluation**"
   ]
  },
  {
   "cell_type": "code",
   "execution_count": 86,
   "metadata": {
    "code_folding": []
   },
   "outputs": [],
   "source": [
    "# Put all selections together\n",
    "feature_selection_df = pd.DataFrame({'Feature':num_features, 'Pearson':cor_support, 'Chi-2':chi_support, 'RFE':rfe_support, 'Logistics':embedded_lr_support,\n",
    "                                    'Random Forest':embedded_rf_support, 'LightGBM':embedded_lgb_support})"
   ]
  },
  {
   "cell_type": "code",
   "execution_count": 87,
   "metadata": {
    "code_folding": [
     0
    ]
   },
   "outputs": [],
   "source": [
    "# count the selected times for each feature\n",
    "feature_selection_df['Total'] = np.sum(feature_selection_df, axis=1)"
   ]
  },
  {
   "cell_type": "code",
   "execution_count": 88,
   "metadata": {
    "code_folding": [
     0
    ]
   },
   "outputs": [
    {
     "data": {
      "text/html": [
       "<div>\n",
       "<style scoped>\n",
       "    .dataframe tbody tr th:only-of-type {\n",
       "        vertical-align: middle;\n",
       "    }\n",
       "\n",
       "    .dataframe tbody tr th {\n",
       "        vertical-align: top;\n",
       "    }\n",
       "\n",
       "    .dataframe thead th {\n",
       "        text-align: right;\n",
       "    }\n",
       "</style>\n",
       "<table border=\"1\" class=\"dataframe\">\n",
       "  <thead>\n",
       "    <tr style=\"text-align: right;\">\n",
       "      <th></th>\n",
       "      <th>Feature</th>\n",
       "      <th>Pearson</th>\n",
       "      <th>Chi-2</th>\n",
       "      <th>RFE</th>\n",
       "      <th>Logistics</th>\n",
       "      <th>Random Forest</th>\n",
       "      <th>LightGBM</th>\n",
       "      <th>Total</th>\n",
       "    </tr>\n",
       "  </thead>\n",
       "  <tbody>\n",
       "    <tr>\n",
       "      <th>1</th>\n",
       "      <td>guests_included_calc</td>\n",
       "      <td>True</td>\n",
       "      <td>True</td>\n",
       "      <td>True</td>\n",
       "      <td>True</td>\n",
       "      <td>True</td>\n",
       "      <td>True</td>\n",
       "      <td>6</td>\n",
       "    </tr>\n",
       "    <tr>\n",
       "      <th>2</th>\n",
       "      <td>calc_host_lst_count_sqrt_log</td>\n",
       "      <td>True</td>\n",
       "      <td>True</td>\n",
       "      <td>True</td>\n",
       "      <td>False</td>\n",
       "      <td>True</td>\n",
       "      <td>True</td>\n",
       "      <td>5</td>\n",
       "    </tr>\n",
       "    <tr>\n",
       "      <th>3</th>\n",
       "      <td>bedrooms</td>\n",
       "      <td>True</td>\n",
       "      <td>True</td>\n",
       "      <td>True</td>\n",
       "      <td>True</td>\n",
       "      <td>True</td>\n",
       "      <td>False</td>\n",
       "      <td>5</td>\n",
       "    </tr>\n",
       "    <tr>\n",
       "      <th>4</th>\n",
       "      <td>accommodates_per_bed</td>\n",
       "      <td>True</td>\n",
       "      <td>False</td>\n",
       "      <td>True</td>\n",
       "      <td>True</td>\n",
       "      <td>True</td>\n",
       "      <td>True</td>\n",
       "      <td>5</td>\n",
       "    </tr>\n",
       "    <tr>\n",
       "      <th>5</th>\n",
       "      <td>minimum_nights_sqrt</td>\n",
       "      <td>True</td>\n",
       "      <td>False</td>\n",
       "      <td>True</td>\n",
       "      <td>False</td>\n",
       "      <td>True</td>\n",
       "      <td>True</td>\n",
       "      <td>4</td>\n",
       "    </tr>\n",
       "    <tr>\n",
       "      <th>6</th>\n",
       "      <td>maximum_nights</td>\n",
       "      <td>True</td>\n",
       "      <td>False</td>\n",
       "      <td>True</td>\n",
       "      <td>False</td>\n",
       "      <td>True</td>\n",
       "      <td>True</td>\n",
       "      <td>4</td>\n",
       "    </tr>\n",
       "    <tr>\n",
       "      <th>7</th>\n",
       "      <td>wk_mth_discount</td>\n",
       "      <td>False</td>\n",
       "      <td>False</td>\n",
       "      <td>True</td>\n",
       "      <td>True</td>\n",
       "      <td>False</td>\n",
       "      <td>True</td>\n",
       "      <td>3</td>\n",
       "    </tr>\n",
       "    <tr>\n",
       "      <th>8</th>\n",
       "      <td>host_is_superhost</td>\n",
       "      <td>True</td>\n",
       "      <td>True</td>\n",
       "      <td>True</td>\n",
       "      <td>False</td>\n",
       "      <td>False</td>\n",
       "      <td>False</td>\n",
       "      <td>3</td>\n",
       "    </tr>\n",
       "    <tr>\n",
       "      <th>9</th>\n",
       "      <td>bathrooms_log</td>\n",
       "      <td>True</td>\n",
       "      <td>False</td>\n",
       "      <td>True</td>\n",
       "      <td>True</td>\n",
       "      <td>False</td>\n",
       "      <td>False</td>\n",
       "      <td>3</td>\n",
       "    </tr>\n",
       "    <tr>\n",
       "      <th>10</th>\n",
       "      <td>am_tv</td>\n",
       "      <td>True</td>\n",
       "      <td>True</td>\n",
       "      <td>True</td>\n",
       "      <td>False</td>\n",
       "      <td>False</td>\n",
       "      <td>False</td>\n",
       "      <td>3</td>\n",
       "    </tr>\n",
       "    <tr>\n",
       "      <th>11</th>\n",
       "      <td>instant_bookable</td>\n",
       "      <td>True</td>\n",
       "      <td>True</td>\n",
       "      <td>False</td>\n",
       "      <td>False</td>\n",
       "      <td>False</td>\n",
       "      <td>False</td>\n",
       "      <td>2</td>\n",
       "    </tr>\n",
       "    <tr>\n",
       "      <th>12</th>\n",
       "      <td>am_smoking_allowed</td>\n",
       "      <td>True</td>\n",
       "      <td>True</td>\n",
       "      <td>False</td>\n",
       "      <td>False</td>\n",
       "      <td>False</td>\n",
       "      <td>False</td>\n",
       "      <td>2</td>\n",
       "    </tr>\n",
       "    <tr>\n",
       "      <th>13</th>\n",
       "      <td>am_elevator</td>\n",
       "      <td>True</td>\n",
       "      <td>True</td>\n",
       "      <td>False</td>\n",
       "      <td>False</td>\n",
       "      <td>False</td>\n",
       "      <td>False</td>\n",
       "      <td>2</td>\n",
       "    </tr>\n",
       "    <tr>\n",
       "      <th>14</th>\n",
       "      <td>am_child_friendly</td>\n",
       "      <td>True</td>\n",
       "      <td>True</td>\n",
       "      <td>False</td>\n",
       "      <td>False</td>\n",
       "      <td>False</td>\n",
       "      <td>False</td>\n",
       "      <td>2</td>\n",
       "    </tr>\n",
       "    <tr>\n",
       "      <th>15</th>\n",
       "      <td>am_balcony</td>\n",
       "      <td>True</td>\n",
       "      <td>True</td>\n",
       "      <td>False</td>\n",
       "      <td>False</td>\n",
       "      <td>False</td>\n",
       "      <td>False</td>\n",
       "      <td>2</td>\n",
       "    </tr>\n",
       "  </tbody>\n",
       "</table>\n",
       "</div>"
      ],
      "text/plain": [
       "                         Feature  Pearson  Chi-2    RFE  Logistics  \\\n",
       "1           guests_included_calc     True   True   True       True   \n",
       "2   calc_host_lst_count_sqrt_log     True   True   True      False   \n",
       "3                       bedrooms     True   True   True       True   \n",
       "4           accommodates_per_bed     True  False   True       True   \n",
       "5            minimum_nights_sqrt     True  False   True      False   \n",
       "6                 maximum_nights     True  False   True      False   \n",
       "7                wk_mth_discount    False  False   True       True   \n",
       "8              host_is_superhost     True   True   True      False   \n",
       "9                  bathrooms_log     True  False   True       True   \n",
       "10                         am_tv     True   True   True      False   \n",
       "11              instant_bookable     True   True  False      False   \n",
       "12            am_smoking_allowed     True   True  False      False   \n",
       "13                   am_elevator     True   True  False      False   \n",
       "14             am_child_friendly     True   True  False      False   \n",
       "15                    am_balcony     True   True  False      False   \n",
       "\n",
       "    Random Forest  LightGBM  Total  \n",
       "1            True      True      6  \n",
       "2            True      True      5  \n",
       "3            True     False      5  \n",
       "4            True      True      5  \n",
       "5            True      True      4  \n",
       "6            True      True      4  \n",
       "7           False      True      3  \n",
       "8           False     False      3  \n",
       "9           False     False      3  \n",
       "10          False     False      3  \n",
       "11          False     False      2  \n",
       "12          False     False      2  \n",
       "13          False     False      2  \n",
       "14          False     False      2  \n",
       "15          False     False      2  "
      ]
     },
     "execution_count": 88,
     "metadata": {},
     "output_type": "execute_result"
    }
   ],
   "source": [
    "# display the top features\n",
    "feature_selection_df = feature_selection_df.sort_values(['Total','Feature'] , ascending=False)\n",
    "feature_selection_df.index = range(1, len(feature_selection_df)+1)\n",
    "feature_selection_df.head(15)"
   ]
  },
  {
   "cell_type": "markdown",
   "metadata": {},
   "source": [
    "# Modeling: Regression (\"price_log\")"
   ]
  },
  {
   "cell_type": "markdown",
   "metadata": {},
   "source": [
    "## Apply Regression Models"
   ]
  },
  {
   "cell_type": "code",
   "execution_count": 89,
   "metadata": {
    "code_folding": [
     0
    ]
   },
   "outputs": [
    {
     "name": "stdout",
     "output_type": "stream",
     "text": [
      "You are currently using \u001b[1mPRICE_LOG\u001b[0m as the target and \u001b[1mneg_median_absolute_error\u001b[0m for scoring to predict prices for \u001b[1mparis\u001b[0m on \u001b[1m2020-03-16\u001b[0m\n",
      "\n",
      "You are currently using these features for its prediction:\n",
      "\u001b[1m['accommodates_per_bed', 'am_balcony', 'am_breakfast', 'am_child_friendly', 'am_elevator', 'am_essentials', 'am_pets_allowed', 'am_private_entrance', 'am_smoking_allowed', 'am_tv', 'bathrooms_log', 'bedrooms', 'calc_host_lst_count_sqrt_log', 'cancellation_policy', 'guests_included_calc', 'host_is_superhost', 'instant_bookable', 'maximum_nights', 'minimum_nights_sqrt', 'property_type', 'room_type', 'wk_mth_discount', 'zipcode']\u001b[0m\n",
      "\n",
      "No issues with your selection of pred_features have been detected. Please make sure to manually check for correctness nevertheless.\n"
     ]
    }
   ],
   "source": [
    "# Print current setting for TARGET\n",
    "print_target_setting()"
   ]
  },
  {
   "cell_type": "code",
   "execution_count": 90,
   "metadata": {
    "code_folding": [
     0
    ]
   },
   "outputs": [],
   "source": [
    "# Select models for comparison\n",
    "regmodels = {\n",
    "    'Baseline':\n",
    "    DummyRegressor(strategy='mean'),\n",
    "    'LinReg':\n",
    "    LinearRegression(),\n",
    "    'Passive Aggressive':\n",
    "    PassiveAggressiveRegressor(),\n",
    "    #        'RANSAC' : RANSACRegressor(),\n",
    "    'ElasticNet':\n",
    "    ElasticNet(),\n",
    "    'Stochastic Gradient Descent':\n",
    "    SGDRegressor(max_iter=1000, tol=1e-3),\n",
    "    'Decision Tree':\n",
    "    DecisionTreeRegressor(criterion=\"mse\",\n",
    "                          max_depth=3,\n",
    "                          random_state=random_state),\n",
    "    'Random Forest':\n",
    "    RandomForestRegressor(random_state=random_state,\n",
    "                          max_features='sqrt',\n",
    "                          n_jobs=-1),\n",
    "    'Gradient Boost':\n",
    "    GradientBoostingRegressor(random_state=random_state),\n",
    "    'XGBoost':\n",
    "    XGBRegressor(),\n",
    "    'AdaBoost':\n",
    "    AdaBoostRegressor(random_state=random_state),\n",
    "    'SVR':\n",
    "    SVR(),\n",
    "    'CatBoost':\n",
    "    CatBoostRegressor()\n",
    "}"
   ]
  },
  {
   "cell_type": "code",
   "execution_count": 91,
   "metadata": {
    "code_folding": [
     0
    ]
   },
   "outputs": [
    {
     "name": "stderr",
     "output_type": "stream",
     "text": [
      "[Parallel(n_jobs=-1)]: Using backend LokyBackend with 4 concurrent workers.\n",
      "[Parallel(n_jobs=-1)]: Done   2 out of   5 | elapsed:    3.0s remaining:    4.6s\n",
      "[Parallel(n_jobs=-1)]: Done   5 out of   5 | elapsed:    3.2s finished\n",
      "[Parallel(n_jobs=-1)]: Using backend LokyBackend with 4 concurrent workers.\n",
      "[Parallel(n_jobs=-1)]: Done   2 out of   5 | elapsed:    0.3s remaining:    0.5s\n",
      "[Parallel(n_jobs=-1)]: Done   5 out of   5 | elapsed:    0.5s finished\n",
      "[Parallel(n_jobs=-1)]: Using backend LokyBackend with 4 concurrent workers.\n",
      "[Parallel(n_jobs=-1)]: Done   2 out of   5 | elapsed:    0.3s remaining:    0.5s\n",
      "[Parallel(n_jobs=-1)]: Done   5 out of   5 | elapsed:    0.4s finished\n",
      "[Parallel(n_jobs=-1)]: Using backend LokyBackend with 4 concurrent workers.\n",
      "[Parallel(n_jobs=-1)]: Done   2 out of   5 | elapsed:    0.3s remaining:    0.5s\n",
      "[Parallel(n_jobs=-1)]: Done   5 out of   5 | elapsed:    0.4s finished\n",
      "[Parallel(n_jobs=-1)]: Using backend LokyBackend with 4 concurrent workers.\n",
      "[Parallel(n_jobs=-1)]: Done   2 out of   5 | elapsed:    0.3s remaining:    0.4s\n",
      "[Parallel(n_jobs=-1)]: Done   5 out of   5 | elapsed:    0.4s finished\n",
      "[Parallel(n_jobs=-1)]: Using backend LokyBackend with 4 concurrent workers.\n",
      "[Parallel(n_jobs=-1)]: Done   2 out of   5 | elapsed:    0.3s remaining:    0.4s\n",
      "[Parallel(n_jobs=-1)]: Done   5 out of   5 | elapsed:    0.4s finished\n",
      "[Parallel(n_jobs=-1)]: Using backend LokyBackend with 4 concurrent workers.\n",
      "[Parallel(n_jobs=-1)]: Done   2 out of   5 | elapsed:    4.7s remaining:    7.0s\n",
      "[Parallel(n_jobs=-1)]: Done   5 out of   5 | elapsed:    6.1s finished\n",
      "[Parallel(n_jobs=-1)]: Using backend LokyBackend with 4 concurrent workers.\n",
      "[Parallel(n_jobs=-1)]: Done   2 out of   5 | elapsed:    8.2s remaining:   12.4s\n",
      "[Parallel(n_jobs=-1)]: Done   5 out of   5 | elapsed:   11.5s finished\n",
      "[Parallel(n_jobs=-1)]: Using backend LokyBackend with 4 concurrent workers.\n",
      "[Parallel(n_jobs=-1)]: Done   2 out of   5 | elapsed:    2.2s remaining:    3.4s\n",
      "[Parallel(n_jobs=-1)]: Done   5 out of   5 | elapsed:    4.0s finished\n",
      "[Parallel(n_jobs=-1)]: Using backend LokyBackend with 4 concurrent workers.\n",
      "[Parallel(n_jobs=-1)]: Done   2 out of   5 | elapsed:    3.8s remaining:    5.7s\n",
      "[Parallel(n_jobs=-1)]: Done   5 out of   5 | elapsed:    5.4s finished\n",
      "[Parallel(n_jobs=-1)]: Using backend LokyBackend with 4 concurrent workers.\n",
      "[Parallel(n_jobs=-1)]: Done   2 out of   5 | elapsed:  2.2min remaining:  3.2min\n",
      "[Parallel(n_jobs=-1)]: Done   5 out of   5 | elapsed:  3.0min finished\n",
      "[Parallel(n_jobs=-1)]: Using backend LokyBackend with 4 concurrent workers.\n",
      "[Parallel(n_jobs=-1)]: Done   2 out of   5 | elapsed:   31.7s remaining:   47.7s\n",
      "[Parallel(n_jobs=-1)]: Done   5 out of   5 | elapsed:   37.7s finished\n"
     ]
    },
    {
     "data": {
      "text/html": [
       "<div>\n",
       "<style scoped>\n",
       "    .dataframe tbody tr th:only-of-type {\n",
       "        vertical-align: middle;\n",
       "    }\n",
       "\n",
       "    .dataframe tbody tr th {\n",
       "        vertical-align: top;\n",
       "    }\n",
       "\n",
       "    .dataframe thead th {\n",
       "        text-align: right;\n",
       "    }\n",
       "</style>\n",
       "<table border=\"1\" class=\"dataframe\">\n",
       "  <thead>\n",
       "    <tr style=\"text-align: right;\">\n",
       "      <th></th>\n",
       "      <th>Model</th>\n",
       "      <th>MSE</th>\n",
       "      <th>RMSE</th>\n",
       "      <th>R2</th>\n",
       "      <th>MAE</th>\n",
       "      <th>MAPE</th>\n",
       "      <th>MAPE median</th>\n",
       "    </tr>\n",
       "  </thead>\n",
       "  <tbody>\n",
       "    <tr>\n",
       "      <th>0</th>\n",
       "      <td>Baseline</td>\n",
       "      <td>0.30</td>\n",
       "      <td>0.54</td>\n",
       "      <td>-0.00</td>\n",
       "      <td>0.43</td>\n",
       "      <td>9.375260</td>\n",
       "      <td>7.952435</td>\n",
       "    </tr>\n",
       "    <tr>\n",
       "      <th>1</th>\n",
       "      <td>LinReg</td>\n",
       "      <td>0.12</td>\n",
       "      <td>0.34</td>\n",
       "      <td>0.60</td>\n",
       "      <td>0.26</td>\n",
       "      <td>5.820351</td>\n",
       "      <td>4.701508</td>\n",
       "    </tr>\n",
       "    <tr>\n",
       "      <th>2</th>\n",
       "      <td>Passive Aggressive</td>\n",
       "      <td>0.25</td>\n",
       "      <td>0.50</td>\n",
       "      <td>0.14</td>\n",
       "      <td>0.39</td>\n",
       "      <td>8.656670</td>\n",
       "      <td>7.027504</td>\n",
       "    </tr>\n",
       "    <tr>\n",
       "      <th>3</th>\n",
       "      <td>ElasticNet</td>\n",
       "      <td>0.30</td>\n",
       "      <td>0.54</td>\n",
       "      <td>-0.00</td>\n",
       "      <td>0.43</td>\n",
       "      <td>9.375260</td>\n",
       "      <td>7.952435</td>\n",
       "    </tr>\n",
       "    <tr>\n",
       "      <th>4</th>\n",
       "      <td>Stochastic Gradient Descent</td>\n",
       "      <td>0.12</td>\n",
       "      <td>0.35</td>\n",
       "      <td>0.58</td>\n",
       "      <td>0.27</td>\n",
       "      <td>5.954404</td>\n",
       "      <td>4.772655</td>\n",
       "    </tr>\n",
       "    <tr>\n",
       "      <th>5</th>\n",
       "      <td>Decision Tree</td>\n",
       "      <td>0.17</td>\n",
       "      <td>0.41</td>\n",
       "      <td>0.42</td>\n",
       "      <td>0.32</td>\n",
       "      <td>7.174440</td>\n",
       "      <td>5.857215</td>\n",
       "    </tr>\n",
       "    <tr>\n",
       "      <th>6</th>\n",
       "      <td>Random Forest</td>\n",
       "      <td>0.11</td>\n",
       "      <td>0.33</td>\n",
       "      <td>0.63</td>\n",
       "      <td>0.26</td>\n",
       "      <td>5.637085</td>\n",
       "      <td>4.479338</td>\n",
       "    </tr>\n",
       "    <tr>\n",
       "      <th>7</th>\n",
       "      <td>Gradient Boost</td>\n",
       "      <td>0.12</td>\n",
       "      <td>0.34</td>\n",
       "      <td>0.61</td>\n",
       "      <td>0.26</td>\n",
       "      <td>5.805203</td>\n",
       "      <td>4.704215</td>\n",
       "    </tr>\n",
       "    <tr>\n",
       "      <th>8</th>\n",
       "      <td>XGBoost</td>\n",
       "      <td>0.12</td>\n",
       "      <td>0.34</td>\n",
       "      <td>0.61</td>\n",
       "      <td>0.26</td>\n",
       "      <td>5.808623</td>\n",
       "      <td>4.707482</td>\n",
       "    </tr>\n",
       "    <tr>\n",
       "      <th>9</th>\n",
       "      <td>AdaBoost</td>\n",
       "      <td>0.16</td>\n",
       "      <td>0.40</td>\n",
       "      <td>0.47</td>\n",
       "      <td>0.31</td>\n",
       "      <td>6.979245</td>\n",
       "      <td>5.704251</td>\n",
       "    </tr>\n",
       "    <tr>\n",
       "      <th>10</th>\n",
       "      <td>SVR</td>\n",
       "      <td>0.11</td>\n",
       "      <td>0.33</td>\n",
       "      <td>0.62</td>\n",
       "      <td>0.26</td>\n",
       "      <td>5.639332</td>\n",
       "      <td>4.438702</td>\n",
       "    </tr>\n",
       "    <tr>\n",
       "      <th>11</th>\n",
       "      <td>CatBoost</td>\n",
       "      <td>0.10</td>\n",
       "      <td>0.32</td>\n",
       "      <td>0.65</td>\n",
       "      <td>0.25</td>\n",
       "      <td>5.413890</td>\n",
       "      <td>4.273951</td>\n",
       "    </tr>\n",
       "  </tbody>\n",
       "</table>\n",
       "</div>"
      ],
      "text/plain": [
       "                          Model   MSE  RMSE     R2   MAE      MAPE  \\\n",
       "0                      Baseline  0.30  0.54  -0.00  0.43  9.375260   \n",
       "1                        LinReg  0.12  0.34   0.60  0.26  5.820351   \n",
       "2            Passive Aggressive  0.25  0.50   0.14  0.39  8.656670   \n",
       "3                    ElasticNet  0.30  0.54  -0.00  0.43  9.375260   \n",
       "4   Stochastic Gradient Descent  0.12  0.35   0.58  0.27  5.954404   \n",
       "5                 Decision Tree  0.17  0.41   0.42  0.32  7.174440   \n",
       "6                 Random Forest  0.11  0.33   0.63  0.26  5.637085   \n",
       "7                Gradient Boost  0.12  0.34   0.61  0.26  5.805203   \n",
       "8                       XGBoost  0.12  0.34   0.61  0.26  5.808623   \n",
       "9                      AdaBoost  0.16  0.40   0.47  0.31  6.979245   \n",
       "10                          SVR  0.11  0.33   0.62  0.26  5.639332   \n",
       "11                     CatBoost  0.10  0.32   0.65  0.25  5.413890   \n",
       "\n",
       "    MAPE median  \n",
       "0      7.952435  \n",
       "1      4.701508  \n",
       "2      7.027504  \n",
       "3      7.952435  \n",
       "4      4.772655  \n",
       "5      5.857215  \n",
       "6      4.479338  \n",
       "7      4.704215  \n",
       "8      4.707482  \n",
       "9      5.704251  \n",
       "10     4.438702  \n",
       "11     4.273951  "
      ]
     },
     "execution_count": 91,
     "metadata": {},
     "output_type": "execute_result"
    }
   ],
   "source": [
    "# Calculate and display results\n",
    "results = pd.DataFrame(columns=['Model', 'MSE', 'RMSE', 'R2', 'MAE', 'MAPE', 'MAPE median'])\n",
    "i = 0\n",
    "for m in regmodels.items():\n",
    "    # Building a full pipeline with our preprocessor and a Classifier\n",
    "    pipe = Pipeline([('preprocessor', preprocessor), (m[0], m[1])])\n",
    "    # Making predictions on the training set using cross validation as well as calculating the probabilities\n",
    "    y_train_pred = cross_val_predict(pipe,\n",
    "                                     X_train,\n",
    "                                     y_train.values.ravel(),\n",
    "                                     cv=5,\n",
    "                                     verbose=4,\n",
    "                                     n_jobs=-1)\n",
    "    # Calculating metrices\n",
    "    temp = pd.DataFrame(\n",
    "        {\n",
    "            'Model':\n",
    "            m[0],\n",
    "            'MSE':\n",
    "            \"{:.2f}\".format(mean_squared_error(y_train, y_train_pred)),\n",
    "            'RMSE':\n",
    "            \"{:.2f}\".format(\n",
    "                mean_squared_error(y_train, y_train_pred, squared=False)),\n",
    "            'R2':\n",
    "            \"{:.2f}\".format(r2_score(y_train, y_train_pred)),\n",
    "            'MAE':\n",
    "            \"{:.2f}\".format(mean_absolute_error(y_train, y_train_pred)),\n",
    "            'MAPE': mean_absolute_percentage_error(y_train, y_train_pred),\n",
    "            'MAPE median': median_absolute_percentage_error(y_train, y_train_pred)\n",
    "        },\n",
    "        index=[i])\n",
    "    i += 1\n",
    "    results = pd.concat([results, temp])\n",
    "results"
   ]
  },
  {
   "cell_type": "markdown",
   "metadata": {},
   "source": [
    "## Reg Model 1: XGBoost"
   ]
  },
  {
   "cell_type": "code",
   "execution_count": 92,
   "metadata": {
    "code_folding": [
     0
    ]
   },
   "outputs": [],
   "source": [
    "# Create pipeline to use in RandomizedSearchCV and GridSearchCV\n",
    "pipeline_xgb_reg = Pipeline([('preprocessor', preprocessor),\n",
    "                             ('xgb_reg',\n",
    "                              XGBRegressor(n_estimators=182,\n",
    "                                           learning_rate=0.45,\n",
    "                                           random_state=random_state,\n",
    "                                           max_depth=5,\n",
    "                                           gamma=0.3,\n",
    "                                           bootstrap=True,\n",
    "                                           max_features=21,\n",
    "                                           scoring=scoring,\n",
    "                                           n_jobs=-1))])"
   ]
  },
  {
   "cell_type": "markdown",
   "metadata": {},
   "source": [
    "### Hyperparameter Pre-Tuning with RandomizedSearchCV"
   ]
  },
  {
   "cell_type": "code",
   "execution_count": 93,
   "metadata": {
    "code_folding": [
     0
    ],
    "scrolled": true
   },
   "outputs": [
    {
     "data": {
      "text/plain": [
       "dict_keys(['base_score', 'booster', 'colsample_bylevel', 'colsample_bynode', 'colsample_bytree', 'gamma', 'importance_type', 'learning_rate', 'max_delta_step', 'max_depth', 'min_child_weight', 'missing', 'n_estimators', 'n_jobs', 'nthread', 'objective', 'random_state', 'reg_alpha', 'reg_lambda', 'scale_pos_weight', 'seed', 'silent', 'subsample', 'verbosity'])"
      ]
     },
     "execution_count": 93,
     "metadata": {},
     "output_type": "execute_result"
    }
   ],
   "source": [
    "# Display possible hyperparameters for XGBoost Regressor\n",
    "test_xgb_reg = XGBRegressor()\n",
    "test_xgb_reg.get_params().keys()"
   ]
  },
  {
   "cell_type": "markdown",
   "metadata": {},
   "source": [
    "**Default values for XGBRegressor** (as base for hyperparameter search):\n",
    "\n",
    "max_depth=3, learning_rate=0.1, n_estimators=100, verbosity=1, silent=None, objective='reg:linear', booster='gbtree', n_jobs=1, nthread=None, gamma=0, min_child_weight=1, max_delta_step=0, subsample=1, colsample_bytree=1, colsample_bylevel=1, colsample_bynode=1, reg_alpha=0, reg_lambda=1, scale_pos_weight=1, base_score=0.5, random_state=0, seed=None, missing=None, importance_type='gain'"
   ]
  },
  {
   "cell_type": "code",
   "execution_count": 94,
   "metadata": {
    "code_folding": [
     0
    ]
   },
   "outputs": [],
   "source": [
    "# Define hyperparameter distribution\n",
    "param_distribs_xgb_reg = {\n",
    "    'xgb_reg__n_estimators': randint(low=80, high=300),\n",
    "    'xgb_reg__bootstrap': [True, False],\n",
    "    'xgb_reg__gamma': [0, 0.1, 0.2, 0.3, 0.4, 0.5, 0.6, 0.7, 0.8, 0.9, 1],\n",
    "    'xgb_reg__max_depth': randint(low=1, high=7),\n",
    "    'xgb_reg__max_features': randint(low=1, high=40),\n",
    "    'xgb_reg__learning_rate': [0.01, 0.02, 0.05, 0.1, 0.15, 0.2, 0.25, 0.3, 0.35, 0.4, 0.45, 0.5]\n",
    "}"
   ]
  },
  {
   "cell_type": "code",
   "execution_count": 95,
   "metadata": {
    "code_folding": [
     0
    ]
   },
   "outputs": [
    {
     "name": "stdout",
     "output_type": "stream",
     "text": [
      "Fitting 5 folds for each of 10 candidates, totalling 50 fits\n"
     ]
    },
    {
     "name": "stderr",
     "output_type": "stream",
     "text": [
      "[Parallel(n_jobs=-1)]: Using backend LokyBackend with 4 concurrent workers.\n",
      "[Parallel(n_jobs=-1)]: Done  17 tasks      | elapsed:   56.7s\n",
      "[Parallel(n_jobs=-1)]: Done  50 out of  50 | elapsed:  1.9min finished\n"
     ]
    },
    {
     "name": "stdout",
     "output_type": "stream",
     "text": [
      "[22:36:46] WARNING: src/objective/regression_obj.cu:152: reg:linear is now deprecated in favor of reg:squarederror.\n"
     ]
    }
   ],
   "source": [
    "# Create and fit RandomizedSearchCV, save \"best_model\"\n",
    "rnd_xgb_reg = RandomizedSearchCV(pipeline_xgb_reg,\n",
    "                                 param_distribs_xgb_reg,\n",
    "                                 cv=5,\n",
    "                                 scoring=scoring,\n",
    "                                 n_iter=10,\n",
    "                                 return_train_score=True,\n",
    "                                 verbose=4,\n",
    "                                 n_jobs=-1,\n",
    "                                 random_state=random_state)\n",
    "\n",
    "best_model_rnd_xgb_reg = rnd_xgb_reg.fit(X_train, y_train)"
   ]
  },
  {
   "cell_type": "code",
   "execution_count": 96,
   "metadata": {
    "code_folding": [
     0
    ]
   },
   "outputs": [
    {
     "name": "stdout",
     "output_type": "stream",
     "text": [
      "Best score:\n",
      "-0.20\n",
      "Best parameters:\n",
      "{'xgb_reg__bootstrap': False, 'xgb_reg__gamma': 0.2, 'xgb_reg__learning_rate': 0.5, 'xgb_reg__max_depth': 4, 'xgb_reg__max_features': 3, 'xgb_reg__n_estimators': 130}\n"
     ]
    }
   ],
   "source": [
    "# Display best_score_, best_params_ and best_estimator_\n",
    "print('Best score:\\n{:.2f}'.format(rnd_xgb_reg.best_score_))\n",
    "print(\"Best parameters:\\n{}\".format(rnd_xgb_reg.best_params_))\n",
    "#print(\"Best estimator:\\n{}\".format(rnd_xgb_reg.best_estimator_))"
   ]
  },
  {
   "cell_type": "markdown",
   "metadata": {},
   "source": [
    "### Hyperparameter Tuning with GridSearchCV"
   ]
  },
  {
   "cell_type": "code",
   "execution_count": 97,
   "metadata": {
    "code_folding": [
     0
    ]
   },
   "outputs": [],
   "source": [
    "# Define hyperparameter grid\n",
    "param_grid_xgb_reg = {\n",
    "#    'xgb_reg__bootstrap': [True, False],\n",
    "#    'xgb_reg__n_estimators': [190, 230, 290],\n",
    "#    'xgb_reg__max_features': [40, 45],\n",
    "    'xgb_reg__max_depth': [4, 5],\n",
    "    'xgb_reg__learning_rate': [0.42, 0.45, 0.48]\n",
    "}"
   ]
  },
  {
   "cell_type": "code",
   "execution_count": 98,
   "metadata": {
    "code_folding": [
     0
    ]
   },
   "outputs": [
    {
     "name": "stdout",
     "output_type": "stream",
     "text": [
      "Fitting 5 folds for each of 6 candidates, totalling 30 fits\n"
     ]
    },
    {
     "name": "stderr",
     "output_type": "stream",
     "text": [
      "[Parallel(n_jobs=-1)]: Using backend LokyBackend with 4 concurrent workers.\n",
      "[Parallel(n_jobs=-1)]: Done  17 tasks      | elapsed:   36.0s\n",
      "[Parallel(n_jobs=-1)]: Done  30 out of  30 | elapsed:   51.8s finished\n"
     ]
    },
    {
     "name": "stdout",
     "output_type": "stream",
     "text": [
      "[22:37:41] WARNING: src/objective/regression_obj.cu:152: reg:linear is now deprecated in favor of reg:squarederror.\n"
     ]
    }
   ],
   "source": [
    "# Create and fit GridSearchCV, save \"best_model\"\n",
    "grid_xgb_reg = GridSearchCV(pipeline_xgb_reg,\n",
    "                            param_grid_xgb_reg,\n",
    "                            cv=5,\n",
    "                            scoring=scoring,\n",
    "                            return_train_score=True,\n",
    "                            verbose=4,\n",
    "                            n_jobs=-1)\n",
    "\n",
    "grid_xgb_reg = grid_xgb_reg.fit(X_train, y_train)"
   ]
  },
  {
   "cell_type": "code",
   "execution_count": 99,
   "metadata": {
    "code_folding": [
     0
    ]
   },
   "outputs": [],
   "source": [
    "# Assign result to best model\n",
    "best_model_xgb_reg = grid_xgb_reg.best_estimator_['xgb_reg']"
   ]
  },
  {
   "cell_type": "code",
   "execution_count": 100,
   "metadata": {
    "code_folding": [
     0
    ]
   },
   "outputs": [
    {
     "name": "stdout",
     "output_type": "stream",
     "text": [
      "Best score:\n",
      "-0.20\n",
      "Best parameters:\n",
      "{'xgb_reg__learning_rate': 0.45, 'xgb_reg__max_depth': 5}\n"
     ]
    }
   ],
   "source": [
    "# Display best_score_, best_params_ and best_estimator_\n",
    "print('Best score:\\n{:.2f}'.format(grid_xgb_reg.best_score_))\n",
    "print(\"Best parameters:\\n{}\".format(grid_xgb_reg.best_params_))\n",
    "#print(\"Best estimator:\\n{}\".format(grid_xgb_reg.best_estimator_))"
   ]
  },
  {
   "cell_type": "markdown",
   "metadata": {},
   "source": [
    "### Feature Importances"
   ]
  },
  {
   "cell_type": "code",
   "execution_count": 101,
   "metadata": {
    "code_folding": [
     0
    ],
    "scrolled": true
   },
   "outputs": [
    {
     "data": {
      "text/html": [
       "<div>\n",
       "<style scoped>\n",
       "    .dataframe tbody tr th:only-of-type {\n",
       "        vertical-align: middle;\n",
       "    }\n",
       "\n",
       "    .dataframe tbody tr th {\n",
       "        vertical-align: top;\n",
       "    }\n",
       "\n",
       "    .dataframe thead th {\n",
       "        text-align: right;\n",
       "    }\n",
       "</style>\n",
       "<table border=\"1\" class=\"dataframe\">\n",
       "  <thead>\n",
       "    <tr style=\"text-align: right;\">\n",
       "      <th></th>\n",
       "      <th>weight</th>\n",
       "    </tr>\n",
       "  </thead>\n",
       "  <tbody>\n",
       "    <tr>\n",
       "      <th>bedrooms</th>\n",
       "      <td>0.188327</td>\n",
       "    </tr>\n",
       "    <tr>\n",
       "      <th>guests_included_calc</th>\n",
       "      <td>0.073738</td>\n",
       "    </tr>\n",
       "    <tr>\n",
       "      <th>room_type_Private room</th>\n",
       "      <td>0.058437</td>\n",
       "    </tr>\n",
       "    <tr>\n",
       "      <th>am_tv</th>\n",
       "      <td>0.054736</td>\n",
       "    </tr>\n",
       "    <tr>\n",
       "      <th>bathrooms_log</th>\n",
       "      <td>0.046783</td>\n",
       "    </tr>\n",
       "    <tr>\n",
       "      <th>zipcode_zip_75003</th>\n",
       "      <td>0.038951</td>\n",
       "    </tr>\n",
       "    <tr>\n",
       "      <th>zipcode_zip_75019</th>\n",
       "      <td>0.036275</td>\n",
       "    </tr>\n",
       "    <tr>\n",
       "      <th>zipcode_zip_75020</th>\n",
       "      <td>0.034876</td>\n",
       "    </tr>\n",
       "    <tr>\n",
       "      <th>zipcode_zip_75007</th>\n",
       "      <td>0.033526</td>\n",
       "    </tr>\n",
       "    <tr>\n",
       "      <th>zipcode_zip_75004</th>\n",
       "      <td>0.033263</td>\n",
       "    </tr>\n",
       "    <tr>\n",
       "      <th>zipcode_zip_75006</th>\n",
       "      <td>0.031743</td>\n",
       "    </tr>\n",
       "    <tr>\n",
       "      <th>room_type_Shared room</th>\n",
       "      <td>0.028020</td>\n",
       "    </tr>\n",
       "    <tr>\n",
       "      <th>zipcode_zip_75018</th>\n",
       "      <td>0.022370</td>\n",
       "    </tr>\n",
       "    <tr>\n",
       "      <th>zipcode_zip_75008</th>\n",
       "      <td>0.021689</td>\n",
       "    </tr>\n",
       "    <tr>\n",
       "      <th>zipcode_zip_75002</th>\n",
       "      <td>0.020300</td>\n",
       "    </tr>\n",
       "    <tr>\n",
       "      <th>zipcode_zip_75013</th>\n",
       "      <td>0.016212</td>\n",
       "    </tr>\n",
       "    <tr>\n",
       "      <th>host_is_superhost</th>\n",
       "      <td>0.015865</td>\n",
       "    </tr>\n",
       "    <tr>\n",
       "      <th>zipcode_zip_75005</th>\n",
       "      <td>0.014663</td>\n",
       "    </tr>\n",
       "    <tr>\n",
       "      <th>property_type_Boutique hotel</th>\n",
       "      <td>0.013606</td>\n",
       "    </tr>\n",
       "    <tr>\n",
       "      <th>zipcode_zip_75116</th>\n",
       "      <td>0.013031</td>\n",
       "    </tr>\n",
       "    <tr>\n",
       "      <th>zipcode_zip_other</th>\n",
       "      <td>0.012658</td>\n",
       "    </tr>\n",
       "    <tr>\n",
       "      <th>calc_host_lst_count_sqrt_log</th>\n",
       "      <td>0.012572</td>\n",
       "    </tr>\n",
       "    <tr>\n",
       "      <th>am_balcony</th>\n",
       "      <td>0.011906</td>\n",
       "    </tr>\n",
       "    <tr>\n",
       "      <th>am_elevator</th>\n",
       "      <td>0.011557</td>\n",
       "    </tr>\n",
       "    <tr>\n",
       "      <th>zipcode_zip_75014</th>\n",
       "      <td>0.011291</td>\n",
       "    </tr>\n",
       "    <tr>\n",
       "      <th>zipcode_zip_75012</th>\n",
       "      <td>0.011111</td>\n",
       "    </tr>\n",
       "    <tr>\n",
       "      <th>cancellation_policy_super_strict</th>\n",
       "      <td>0.010231</td>\n",
       "    </tr>\n",
       "    <tr>\n",
       "      <th>zipcode_zip_75011</th>\n",
       "      <td>0.008468</td>\n",
       "    </tr>\n",
       "    <tr>\n",
       "      <th>cancellation_policy_strict</th>\n",
       "      <td>0.008068</td>\n",
       "    </tr>\n",
       "    <tr>\n",
       "      <th>am_private_entrance</th>\n",
       "      <td>0.007381</td>\n",
       "    </tr>\n",
       "    <tr>\n",
       "      <th>am_smoking_allowed</th>\n",
       "      <td>0.006915</td>\n",
       "    </tr>\n",
       "    <tr>\n",
       "      <th>zipcode_zip_75017</th>\n",
       "      <td>0.006816</td>\n",
       "    </tr>\n",
       "    <tr>\n",
       "      <th>minimum_nights_sqrt</th>\n",
       "      <td>0.006146</td>\n",
       "    </tr>\n",
       "    <tr>\n",
       "      <th>am_child_friendly</th>\n",
       "      <td>0.005958</td>\n",
       "    </tr>\n",
       "    <tr>\n",
       "      <th>property_type_House</th>\n",
       "      <td>0.005291</td>\n",
       "    </tr>\n",
       "    <tr>\n",
       "      <th>accommodates_per_bed</th>\n",
       "      <td>0.005206</td>\n",
       "    </tr>\n",
       "    <tr>\n",
       "      <th>zipcode_zip_75010</th>\n",
       "      <td>0.005165</td>\n",
       "    </tr>\n",
       "    <tr>\n",
       "      <th>room_type_Hotel room</th>\n",
       "      <td>0.004984</td>\n",
       "    </tr>\n",
       "    <tr>\n",
       "      <th>wk_mth_discount</th>\n",
       "      <td>0.004981</td>\n",
       "    </tr>\n",
       "    <tr>\n",
       "      <th>instant_bookable</th>\n",
       "      <td>0.004923</td>\n",
       "    </tr>\n",
       "    <tr>\n",
       "      <th>am_breakfast</th>\n",
       "      <td>0.004867</td>\n",
       "    </tr>\n",
       "    <tr>\n",
       "      <th>maximum_nights</th>\n",
       "      <td>0.004775</td>\n",
       "    </tr>\n",
       "    <tr>\n",
       "      <th>cancellation_policy_moderate</th>\n",
       "      <td>0.004610</td>\n",
       "    </tr>\n",
       "    <tr>\n",
       "      <th>zipcode_zip_75016</th>\n",
       "      <td>0.004157</td>\n",
       "    </tr>\n",
       "    <tr>\n",
       "      <th>zipcode_zip_75015</th>\n",
       "      <td>0.003951</td>\n",
       "    </tr>\n",
       "    <tr>\n",
       "      <th>am_essentials</th>\n",
       "      <td>0.003879</td>\n",
       "    </tr>\n",
       "    <tr>\n",
       "      <th>am_pets_allowed</th>\n",
       "      <td>0.003827</td>\n",
       "    </tr>\n",
       "    <tr>\n",
       "      <th>zipcode_zip_75009</th>\n",
       "      <td>0.003685</td>\n",
       "    </tr>\n",
       "    <tr>\n",
       "      <th>property_type_Bed and breakfast</th>\n",
       "      <td>0.003375</td>\n",
       "    </tr>\n",
       "    <tr>\n",
       "      <th>property_type_Secondary unit</th>\n",
       "      <td>0.002536</td>\n",
       "    </tr>\n",
       "    <tr>\n",
       "      <th>property_type_Unique space</th>\n",
       "      <td>0.002297</td>\n",
       "    </tr>\n",
       "  </tbody>\n",
       "</table>\n",
       "</div>"
      ],
      "text/plain": [
       "                                    weight\n",
       "bedrooms                          0.188327\n",
       "guests_included_calc              0.073738\n",
       "room_type_Private room            0.058437\n",
       "am_tv                             0.054736\n",
       "bathrooms_log                     0.046783\n",
       "zipcode_zip_75003                 0.038951\n",
       "zipcode_zip_75019                 0.036275\n",
       "zipcode_zip_75020                 0.034876\n",
       "zipcode_zip_75007                 0.033526\n",
       "zipcode_zip_75004                 0.033263\n",
       "zipcode_zip_75006                 0.031743\n",
       "room_type_Shared room             0.028020\n",
       "zipcode_zip_75018                 0.022370\n",
       "zipcode_zip_75008                 0.021689\n",
       "zipcode_zip_75002                 0.020300\n",
       "zipcode_zip_75013                 0.016212\n",
       "host_is_superhost                 0.015865\n",
       "zipcode_zip_75005                 0.014663\n",
       "property_type_Boutique hotel      0.013606\n",
       "zipcode_zip_75116                 0.013031\n",
       "zipcode_zip_other                 0.012658\n",
       "calc_host_lst_count_sqrt_log      0.012572\n",
       "am_balcony                        0.011906\n",
       "am_elevator                       0.011557\n",
       "zipcode_zip_75014                 0.011291\n",
       "zipcode_zip_75012                 0.011111\n",
       "cancellation_policy_super_strict  0.010231\n",
       "zipcode_zip_75011                 0.008468\n",
       "cancellation_policy_strict        0.008068\n",
       "am_private_entrance               0.007381\n",
       "am_smoking_allowed                0.006915\n",
       "zipcode_zip_75017                 0.006816\n",
       "minimum_nights_sqrt               0.006146\n",
       "am_child_friendly                 0.005958\n",
       "property_type_House               0.005291\n",
       "accommodates_per_bed              0.005206\n",
       "zipcode_zip_75010                 0.005165\n",
       "room_type_Hotel room              0.004984\n",
       "wk_mth_discount                   0.004981\n",
       "instant_bookable                  0.004923\n",
       "am_breakfast                      0.004867\n",
       "maximum_nights                    0.004775\n",
       "cancellation_policy_moderate      0.004610\n",
       "zipcode_zip_75016                 0.004157\n",
       "zipcode_zip_75015                 0.003951\n",
       "am_essentials                     0.003879\n",
       "am_pets_allowed                   0.003827\n",
       "zipcode_zip_75009                 0.003685\n",
       "property_type_Bed and breakfast   0.003375\n",
       "property_type_Secondary unit      0.002536\n",
       "property_type_Unique space        0.002297"
      ]
     },
     "execution_count": 101,
     "metadata": {},
     "output_type": "execute_result"
    }
   ],
   "source": [
    "# Display feature importances\n",
    "fi_xgb_reg = get_feat_importances(best_model_xgb_reg, column_names=column_names)\n",
    "fi_xgb_reg"
   ]
  },
  {
   "cell_type": "markdown",
   "metadata": {},
   "source": [
    "### Final Evaluation Best Model"
   ]
  },
  {
   "cell_type": "code",
   "execution_count": 102,
   "metadata": {
    "code_folding": [
     0
    ]
   },
   "outputs": [],
   "source": [
    "# Load existing model\n",
    "#best_model_xgb_reg = save_load(title=\"best_model_xgb_reg\", function=\"load\")\n",
    "#load_best_cv = save_load(title=\"best_cv_xgb_reg\", function=\"load\")"
   ]
  },
  {
   "cell_type": "markdown",
   "metadata": {},
   "source": [
    "**Learning Curves (Overfitting)**"
   ]
  },
  {
   "cell_type": "markdown",
   "metadata": {},
   "source": [
    "**Training Set**"
   ]
  },
  {
   "cell_type": "code",
   "execution_count": 103,
   "metadata": {
    "code_folding": [
     0
    ]
   },
   "outputs": [],
   "source": [
    "# Predict target with \"best model\"\n",
    "y_train_pred_xgb_reg = best_model_xgb_reg.predict(X_train_prep)"
   ]
  },
  {
   "cell_type": "code",
   "execution_count": 104,
   "metadata": {
    "code_folding": [
     0
    ]
   },
   "outputs": [
    {
     "name": "stdout",
     "output_type": "stream",
     "text": [
      "MSE: 0.08\n",
      "RMSE: 0.29\n",
      "MAE: 0.22\n",
      "R2: 0.72\n",
      "MAPE: 4.87\n",
      "MAPE median: 3.88\n"
     ]
    }
   ],
   "source": [
    "# Final evaluation of \"best model\"\n",
    "model_eval(y_train, y_train_pred_xgb_reg, model=\"reg\")"
   ]
  },
  {
   "cell_type": "markdown",
   "metadata": {},
   "source": [
    "**Testing Set**"
   ]
  },
  {
   "cell_type": "code",
   "execution_count": 105,
   "metadata": {
    "code_folding": [
     0
    ]
   },
   "outputs": [],
   "source": [
    "# Predict target with \"best model\"\n",
    "y_test_pred_xgb_reg = best_model_xgb_reg.predict(X_test_prep)"
   ]
  },
  {
   "cell_type": "code",
   "execution_count": 106,
   "metadata": {
    "code_folding": [
     0
    ]
   },
   "outputs": [
    {
     "name": "stdout",
     "output_type": "stream",
     "text": [
      "MSE: 0.10\n",
      "RMSE: 0.32\n",
      "MAE: 0.24\n",
      "R2: 0.64\n",
      "MAPE: 5.38\n",
      "MAPE median: 4.21\n"
     ]
    }
   ],
   "source": [
    "# Final evaluation of \"best model\"\n",
    "model_eval(y_test, y_test_pred_xgb_reg, model=\"reg\")"
   ]
  },
  {
   "cell_type": "code",
   "execution_count": 107,
   "metadata": {
    "code_folding": [
     0
    ]
   },
   "outputs": [
    {
     "data": {
      "text/plain": [
       "array([0.31258574, 0.3273949 ])"
      ]
     },
     "execution_count": 107,
     "metadata": {},
     "output_type": "execute_result"
    }
   ],
   "source": [
    "# Display confidence interval (scipy stats)\n",
    "confidence = 0.95\n",
    "squared_errors = (y_test_pred_xgb_reg - y_test)**2\n",
    "np.sqrt(\n",
    "    stats.t.interval(confidence,\n",
    "                     len(squared_errors) - 1,\n",
    "                     loc=squared_errors.mean(),\n",
    "                     scale=stats.sem(squared_errors)))"
   ]
  },
  {
   "cell_type": "markdown",
   "metadata": {},
   "source": [
    "**Median Price Intervals**"
   ]
  },
  {
   "cell_type": "code",
   "execution_count": 108,
   "metadata": {
    "code_folding": [
     0
    ]
   },
   "outputs": [],
   "source": [
    "# Save MAPE_median as variable\n",
    "MAPE_median_xgb_reg = (median_absolute_percentage_error(y_test, y_test_pred_xgb_reg))/100"
   ]
  },
  {
   "cell_type": "code",
   "execution_count": 109,
   "metadata": {
    "code_folding": [
     0
    ]
   },
   "outputs": [
    {
     "data": {
      "text/plain": [
       "((67.14, 97.16),\n",
       " (68.72, 99.64),\n",
       " (61.74, 88.69),\n",
       " (72.18, 105.11),\n",
       " (59.87, 85.77),\n",
       " (98.98, 148.19),\n",
       " (53.48, 75.85),\n",
       " (62.05, 89.17),\n",
       " (107.83, 162.66),\n",
       " (73.97, 107.96),\n",
       " (225.05, 362.15),\n",
       " (63.4, 91.28),\n",
       " (51.74, 73.18),\n",
       " (66.45, 96.07),\n",
       " (98.05, 146.67),\n",
       " (71.22, 103.58),\n",
       " (85.45, 126.3),\n",
       " (83.05, 122.44),\n",
       " (144.96, 224.43),\n",
       " (93.12, 138.67),\n",
       " (66.19, 95.65),\n",
       " (75.78, 110.83),\n",
       " (62.74, 90.24),\n",
       " (111.34, 168.43),\n",
       " (89.31, 132.5),\n",
       " (66.23, 95.72),\n",
       " (102.24, 153.51),\n",
       " (218.72, 351.08),\n",
       " (123.59, 188.68),\n",
       " (167.27, 262.24),\n",
       " (91.55, 136.14),\n",
       " (80.95, 119.07),\n",
       " (147.7, 229.04),\n",
       " (105.72, 159.21),\n",
       " (60.7, 87.06),\n",
       " (230.89, 372.38),\n",
       " (46.98, 65.88),\n",
       " (96.11, 143.53),\n",
       " (74.93, 109.47),\n",
       " (152.07, 236.43),\n",
       " (129.98, 199.31),\n",
       " (47.99, 67.42),\n",
       " (68.81, 99.78),\n",
       " (89.36, 132.58),\n",
       " (65.14, 94.01),\n",
       " (92.92, 138.35),\n",
       " (50.5, 71.26),\n",
       " (56.71, 80.85),\n",
       " (74.46, 108.73),\n",
       " (150.93, 234.5),\n",
       " (56.35, 80.29),\n",
       " (122.89, 187.52),\n",
       " (100.87, 151.26),\n",
       " (35.03, 47.87),\n",
       " (89.43, 132.71),\n",
       " (182.9, 289.01),\n",
       " (83.55, 123.24),\n",
       " (57.7, 82.39),\n",
       " (165.95, 260.0),\n",
       " (105.43, 158.72),\n",
       " (48.73, 68.55),\n",
       " (95.08, 141.86),\n",
       " (90.61, 134.61),\n",
       " (76.1, 111.33),\n",
       " (146.71, 227.38),\n",
       " (64.25, 92.61),\n",
       " (45.6, 63.78),\n",
       " (120.49, 183.55),\n",
       " (55.76, 79.39),\n",
       " (43.17, 60.1),\n",
       " (80.72, 118.7),\n",
       " (55.94, 79.66),\n",
       " (87.13, 129.0),\n",
       " (67.24, 97.32),\n",
       " (258.87, 421.72),\n",
       " (103.44, 155.47),\n",
       " (82.84, 122.1),\n",
       " (80.46, 118.29),\n",
       " (74.52, 108.82),\n",
       " (159.24, 248.59),\n",
       " (86.81, 128.48),\n",
       " (87.69, 129.9),\n",
       " (68.1, 98.66),\n",
       " (112.05, 169.6),\n",
       " (51.4, 72.65),\n",
       " (20.35, 26.51),\n",
       " (96.71, 144.5),\n",
       " (120.48, 183.52),\n",
       " (95.41, 142.39),\n",
       " (74.61, 108.96),\n",
       " (46.71, 65.47),\n",
       " (53.31, 75.6),\n",
       " (63.24, 91.04),\n",
       " (106.67, 160.75),\n",
       " (106.49, 160.47),\n",
       " (71.06, 103.34),\n",
       " (119.4, 181.74),\n",
       " (50.19, 70.79),\n",
       " (64.42, 92.87),\n",
       " (49.87, 70.3),\n",
       " (59.57, 85.3),\n",
       " (45.31, 63.33),\n",
       " (85.34, 126.12),\n",
       " (97.63, 146.0),\n",
       " (76.68, 112.26),\n",
       " (84.03, 124.01),\n",
       " (143.24, 221.53),\n",
       " (40.63, 56.25),\n",
       " (101.73, 152.67),\n",
       " (63.03, 90.7),\n",
       " (50.77, 71.69),\n",
       " (287.75, 473.15),\n",
       " (118.19, 179.73),\n",
       " (68.25, 98.9),\n",
       " (86.51, 128.0),\n",
       " (66.18, 95.64),\n",
       " (117.71, 178.94),\n",
       " (38.24, 52.67),\n",
       " (101.35, 152.05),\n",
       " (141.89, 219.27),\n",
       " (64.22, 92.56),\n",
       " (66.08, 95.49),\n",
       " (62.9, 90.49),\n",
       " (45.74, 64.0),\n",
       " (53.92, 76.54),\n",
       " (285.15, 468.5),\n",
       " (53.21, 75.44),\n",
       " (65.37, 94.37),\n",
       " (89.7, 133.14),\n",
       " (100.86, 151.26),\n",
       " (62.97, 90.6),\n",
       " (47.38, 66.5),\n",
       " (179.93, 283.91),\n",
       " (61.01, 87.54),\n",
       " (77.23, 113.14),\n",
       " (62.62, 90.06),\n",
       " (90.91, 135.1),\n",
       " (59.14, 84.63),\n",
       " (43.93, 61.24),\n",
       " (136.1, 209.54),\n",
       " (69.96, 101.6),\n",
       " (65.82, 95.08),\n",
       " (81.7, 120.28),\n",
       " (69.28, 100.52),\n",
       " (71.28, 103.68),\n",
       " (93.93, 139.98),\n",
       " (68.32, 99.01),\n",
       " (101.28, 151.95),\n",
       " (68.59, 99.43),\n",
       " (50.29, 70.94),\n",
       " (46.6, 65.3),\n",
       " (186.74, 295.61),\n",
       " (49.74, 70.1),\n",
       " (42.19, 58.61),\n",
       " (85.66, 126.63),\n",
       " (65.53, 94.63),\n",
       " (85.74, 126.76),\n",
       " (51.19, 72.33),\n",
       " (99.11, 148.4),\n",
       " (122.64, 187.1),\n",
       " (128.21, 196.37),\n",
       " (50.2, 70.81),\n",
       " (56.33, 80.26),\n",
       " (95.02, 141.76),\n",
       " (66.86, 96.71),\n",
       " (128.01, 196.03),\n",
       " (35.6, 48.73),\n",
       " (98.44, 147.32),\n",
       " (50.71, 71.59),\n",
       " (72.58, 105.75),\n",
       " (65.69, 94.86),\n",
       " (133.9, 205.86),\n",
       " (86.4, 127.83),\n",
       " (82.28, 121.21),\n",
       " (217.75, 349.39),\n",
       " (142.67, 220.57),\n",
       " (53.21, 75.43),\n",
       " (58.28, 83.3),\n",
       " (86.59, 128.13),\n",
       " (60.47, 86.7),\n",
       " (83.76, 123.58),\n",
       " (120.79, 184.03),\n",
       " (60.86, 87.31),\n",
       " (50.61, 71.44),\n",
       " (57.0, 81.31),\n",
       " (59.13, 84.62),\n",
       " (56.36, 80.31),\n",
       " (190.7, 302.45),\n",
       " (156.39, 243.74),\n",
       " (110.65, 167.29),\n",
       " (58.3, 83.33),\n",
       " (176.67, 278.31),\n",
       " (200.69, 319.72),\n",
       " (48.56, 68.29),\n",
       " (59.85, 85.73),\n",
       " (33.12, 45.04),\n",
       " (107.23, 161.68),\n",
       " (76.66, 112.22),\n",
       " (163.97, 256.62),\n",
       " (64.56, 93.1),\n",
       " (64.78, 93.44),\n",
       " (61.34, 88.06),\n",
       " (124.34, 189.93),\n",
       " (71.05, 103.31),\n",
       " (53.88, 76.48),\n",
       " (40.76, 56.44),\n",
       " (52.98, 75.08),\n",
       " (150.61, 233.96),\n",
       " (156.84, 244.5),\n",
       " (73.33, 106.94),\n",
       " (62.01, 89.11),\n",
       " (75.84, 110.93),\n",
       " (43.79, 61.03),\n",
       " (229.7, 370.29),\n",
       " (67.35, 97.48),\n",
       " (81.95, 120.67),\n",
       " (66.98, 96.89),\n",
       " (84.4, 124.6),\n",
       " (68.28, 98.94),\n",
       " (62.71, 90.2),\n",
       " (110.25, 166.64),\n",
       " (23.97, 31.68),\n",
       " (173.45, 272.8),\n",
       " (50.88, 71.85),\n",
       " (67.87, 98.29),\n",
       " (61.97, 89.05),\n",
       " (59.45, 85.11),\n",
       " (138.02, 212.76),\n",
       " (78.28, 114.82),\n",
       " (73.48, 107.16),\n",
       " (187.57, 297.04),\n",
       " (256.09, 416.79),\n",
       " (68.23, 98.87),\n",
       " (112.65, 170.58),\n",
       " (38.53, 53.1),\n",
       " (60.59, 86.88),\n",
       " (71.43, 103.93),\n",
       " (54.09, 76.79),\n",
       " (169.52, 266.08),\n",
       " (82.66, 121.81),\n",
       " (102.14, 153.35),\n",
       " (99.73, 149.41),\n",
       " (97.06, 145.07),\n",
       " (108.7, 164.09),\n",
       " (53.2, 75.42),\n",
       " (99.41, 148.89),\n",
       " (279.66, 458.7),\n",
       " (65.14, 94.0),\n",
       " (138.51, 213.59),\n",
       " (66.44, 96.05),\n",
       " (67.57, 97.83),\n",
       " (50.91, 71.9),\n",
       " (114.54, 173.71),\n",
       " (104.74, 157.6),\n",
       " (55.41, 78.83),\n",
       " (73.66, 107.46),\n",
       " (62.46, 89.81),\n",
       " (77.15, 113.0),\n",
       " (62.18, 89.37),\n",
       " (74.2, 108.31),\n",
       " (68.02, 98.54),\n",
       " (114.55, 173.72),\n",
       " (77.23, 113.14),\n",
       " (100.3, 150.35),\n",
       " (101.56, 152.4),\n",
       " (205.37, 327.84),\n",
       " (86.23, 127.54),\n",
       " (88.48, 131.17),\n",
       " (77.15, 113.0),\n",
       " (195.42, 310.59),\n",
       " (56.29, 80.2),\n",
       " (78.13, 114.57),\n",
       " (66.39, 95.97),\n",
       " (226.1, 363.98),\n",
       " (45.9, 64.23),\n",
       " (92.1, 137.01),\n",
       " (63.75, 91.83),\n",
       " (105.18, 158.32),\n",
       " (125.75, 192.27),\n",
       " (46.23, 64.74),\n",
       " (60.54, 86.81),\n",
       " (126.85, 194.11),\n",
       " (143.1, 221.29),\n",
       " (90.05, 133.71),\n",
       " (57.58, 82.21),\n",
       " (66.4, 95.99),\n",
       " (103.27, 155.19),\n",
       " (88.41, 131.05),\n",
       " (131.92, 202.55),\n",
       " (111.94, 169.41),\n",
       " (152.35, 236.9),\n",
       " (63.4, 91.28),\n",
       " (57.89, 82.69),\n",
       " (48.82, 68.69),\n",
       " (63.13, 90.86),\n",
       " (62.67, 90.14),\n",
       " (40.83, 56.56),\n",
       " (143.28, 221.6),\n",
       " (67.98, 98.48),\n",
       " (75.47, 110.34),\n",
       " (55.03, 78.24),\n",
       " (66.9, 96.77),\n",
       " (118.71, 180.58),\n",
       " (67.55, 97.79),\n",
       " (62.3, 89.56),\n",
       " (78.91, 115.82),\n",
       " (44.65, 62.33),\n",
       " (116.36, 176.71),\n",
       " (110.24, 166.62),\n",
       " (70.58, 102.58),\n",
       " (95.29, 142.19),\n",
       " (54.02, 76.69),\n",
       " (41.65, 57.79),\n",
       " (47.57, 66.79),\n",
       " (76.77, 112.4),\n",
       " (222.22, 357.2),\n",
       " (63.61, 91.61),\n",
       " (100.66, 150.94),\n",
       " (61.82, 88.8),\n",
       " (70.2, 101.98),\n",
       " (61.39, 88.13),\n",
       " (50.46, 71.2),\n",
       " (243.25, 394.11),\n",
       " (48.61, 68.38),\n",
       " (80.63, 118.56),\n",
       " (66.21, 95.69),\n",
       " (68.28, 98.94),\n",
       " (55.9, 79.6),\n",
       " (122.31, 186.55),\n",
       " (64.22, 92.57),\n",
       " (51.9, 73.42),\n",
       " (77.97, 114.31),\n",
       " (94.61, 141.08),\n",
       " (61.79, 88.77),\n",
       " (52.41, 74.2),\n",
       " (53.64, 76.1),\n",
       " (68.31, 99.0),\n",
       " (57.6, 82.23),\n",
       " (56.71, 80.85),\n",
       " (47.58, 66.8),\n",
       " (102.67, 154.21),\n",
       " (140.55, 217.01),\n",
       " (71.17, 103.51),\n",
       " (250.69, 407.25),\n",
       " (119.16, 181.33),\n",
       " (54.4, 77.28),\n",
       " (96.25, 143.75),\n",
       " (101.09, 151.63),\n",
       " (47.67, 66.93),\n",
       " (108.46, 163.69),\n",
       " (73.45, 107.13),\n",
       " (126.51, 193.54),\n",
       " (66.16, 95.6),\n",
       " (59.6, 85.35),\n",
       " (63.26, 91.06),\n",
       " (70.29, 102.12),\n",
       " (383.45, 646.61),\n",
       " (79.3, 116.44),\n",
       " (59.09, 84.55),\n",
       " (84.94, 125.47),\n",
       " (102.1, 153.27),\n",
       " (110.85, 167.62),\n",
       " (50.61, 71.43),\n",
       " (53.22, 75.46),\n",
       " (72.48, 105.59),\n",
       " (118.55, 180.33),\n",
       " (36.26, 49.71),\n",
       " (76.04, 111.24),\n",
       " (80.17, 117.83),\n",
       " (64.21, 92.55),\n",
       " (96.16, 143.6),\n",
       " (80.67, 118.63),\n",
       " (60.07, 86.07),\n",
       " (62.75, 90.27),\n",
       " (59.38, 85.0),\n",
       " (57.81, 82.56),\n",
       " (81.73, 120.32),\n",
       " (64.27, 92.64),\n",
       " (57.33, 81.81),\n",
       " (123.22, 188.06),\n",
       " (99.82, 149.56),\n",
       " (73.31, 106.9),\n",
       " (211.82, 339.04),\n",
       " (179.02, 282.34),\n",
       " (79.15, 116.2),\n",
       " (141.51, 218.63),\n",
       " (43.45, 60.51),\n",
       " (273.08, 446.96),\n",
       " (79.93, 117.45),\n",
       " (75.26, 110.0),\n",
       " (77.3, 113.25),\n",
       " (69.36, 100.65),\n",
       " (84.34, 124.5),\n",
       " (108.56, 163.86),\n",
       " (64.85, 93.55),\n",
       " (68.31, 99.0),\n",
       " (63.67, 91.71),\n",
       " (65.35, 94.34),\n",
       " (85.01, 125.58),\n",
       " (95.78, 142.99),\n",
       " (67.87, 98.29),\n",
       " (62.2, 89.41),\n",
       " (78.82, 115.67),\n",
       " (76.87, 112.56),\n",
       " (173.08, 272.16),\n",
       " (50.06, 70.59),\n",
       " (83.69, 123.47),\n",
       " (60.05, 86.05),\n",
       " (45.55, 63.7),\n",
       " (59.08, 84.53),\n",
       " (49.23, 69.31),\n",
       " (123.32, 188.24),\n",
       " (90.35, 134.2),\n",
       " (63.52, 91.47),\n",
       " (70.5, 102.45),\n",
       " (133.36, 204.97),\n",
       " (47.75, 67.06),\n",
       " (48.56, 68.3),\n",
       " (38.66, 53.3),\n",
       " (55.02, 78.24),\n",
       " (43.4, 60.43),\n",
       " (43.91, 61.21),\n",
       " (69.85, 101.43),\n",
       " (90.82, 134.95),\n",
       " (112.72, 170.7),\n",
       " (63.77, 91.85),\n",
       " (92.74, 138.06),\n",
       " (72.68, 105.91),\n",
       " (71.92, 104.7),\n",
       " (84.8, 125.24),\n",
       " (79.99, 117.54),\n",
       " (281.13, 461.32),\n",
       " (48.19, 67.74),\n",
       " (84.63, 124.98),\n",
       " (158.05, 246.56),\n",
       " (65.84, 95.11),\n",
       " (71.92, 104.7),\n",
       " (141.07, 217.89),\n",
       " (89.32, 132.53),\n",
       " (51.3, 72.49),\n",
       " (54.69, 77.72),\n",
       " (63.39, 91.26),\n",
       " (90.48, 134.4),\n",
       " (75.02, 109.61),\n",
       " (278.61, 456.83),\n",
       " (119.21, 181.41),\n",
       " (115.73, 175.67),\n",
       " (63.34, 91.19),\n",
       " (51.57, 72.92),\n",
       " (81.34, 119.7),\n",
       " (53.91, 76.52),\n",
       " (77.25, 113.17),\n",
       " (200.93, 320.13),\n",
       " (137.75, 212.31),\n",
       " (56.73, 80.88),\n",
       " (115.77, 175.73),\n",
       " (64.47, 92.95),\n",
       " (64.23, 92.58),\n",
       " (52.25, 73.95),\n",
       " (46.43, 65.05),\n",
       " (91.15, 135.48),\n",
       " (46.75, 65.54),\n",
       " (63.49, 91.42),\n",
       " (81.74, 120.34),\n",
       " (60.48, 86.72),\n",
       " (73.76, 107.61),\n",
       " (99.98, 149.82),\n",
       " (80.67, 118.62),\n",
       " (60.66, 86.99),\n",
       " (45.66, 63.87),\n",
       " (160.5, 250.71),\n",
       " (56.35, 80.29),\n",
       " (145.39, 225.14),\n",
       " (63.57, 91.55),\n",
       " (58.79, 84.09),\n",
       " (67.93, 98.4),\n",
       " (105.81, 159.34),\n",
       " (39.3, 54.26),\n",
       " (72.95, 106.34),\n",
       " (243.82, 395.13),\n",
       " (62.21, 89.42),\n",
       " (49.4, 69.58),\n",
       " (41.96, 58.25),\n",
       " (69.58, 100.99),\n",
       " (83.41, 123.01),\n",
       " (94.13, 140.31),\n",
       " (61.41, 88.17),\n",
       " (59.79, 85.64),\n",
       " (64.9, 93.64),\n",
       " (209.52, 335.04),\n",
       " (76.01, 111.19),\n",
       " (44.87, 62.67),\n",
       " (38.25, 52.67),\n",
       " (45.35, 63.39),\n",
       " (117.16, 178.02),\n",
       " (108.94, 164.48),\n",
       " (92.59, 137.81),\n",
       " (65.44, 94.48),\n",
       " (98.74, 147.8),\n",
       " (68.01, 98.52),\n",
       " (72.02, 104.85),\n",
       " (59.72, 85.54),\n",
       " (80.24, 117.94),\n",
       " (134.33, 206.59),\n",
       " (117.71, 178.93),\n",
       " (71.03, 103.29),\n",
       " (98.27, 147.04),\n",
       " (78.35, 114.92),\n",
       " (62.92, 90.53),\n",
       " (56.54, 80.58),\n",
       " (78.97, 115.9),\n",
       " (64.18, 92.5),\n",
       " (77.25, 113.17),\n",
       " (124.19, 189.68),\n",
       " (50.72, 71.61),\n",
       " (100.64, 150.89),\n",
       " (46.64, 65.36),\n",
       " (86.41, 127.84),\n",
       " (66.06, 95.45),\n",
       " (60.29, 86.42),\n",
       " (68.67, 99.57),\n",
       " (93.87, 139.89),\n",
       " (65.89, 95.18),\n",
       " (65.14, 94.01),\n",
       " (60.1, 86.13),\n",
       " (118.0, 179.42),\n",
       " (63.21, 90.98),\n",
       " (102.98, 154.72),\n",
       " (47.18, 66.19),\n",
       " (72.73, 105.99),\n",
       " (48.72, 68.55),\n",
       " (132.41, 203.38),\n",
       " (101.04, 151.54),\n",
       " (57.24, 81.68),\n",
       " (109.4, 165.24),\n",
       " (160.98, 251.53),\n",
       " (122.73, 187.25),\n",
       " (118.04, 179.47),\n",
       " (166.47, 260.88),\n",
       " (69.67, 101.15),\n",
       " (88.55, 131.28),\n",
       " (60.41, 86.61),\n",
       " (62.62, 90.06),\n",
       " (73.51, 107.21),\n",
       " (113.77, 172.43),\n",
       " (70.0, 101.66),\n",
       " (43.45, 60.52),\n",
       " (39.1, 53.95),\n",
       " (90.81, 134.93),\n",
       " (130.85, 200.77),\n",
       " (78.12, 114.55),\n",
       " (93.39, 139.11),\n",
       " (94.44, 140.81),\n",
       " (49.82, 70.23),\n",
       " (48.91, 68.83),\n",
       " (65.25, 94.18),\n",
       " (226.41, 364.52),\n",
       " (68.91, 99.94),\n",
       " (283.12, 464.87),\n",
       " (90.13, 133.83),\n",
       " (79.93, 117.45),\n",
       " (140.34, 216.66),\n",
       " (69.33, 100.61),\n",
       " (61.33, 88.04),\n",
       " (47.48, 66.65),\n",
       " (59.08, 84.53),\n",
       " (92.76, 138.08),\n",
       " (105.38, 158.64),\n",
       " (71.63, 104.23),\n",
       " (98.27, 147.03),\n",
       " (89.77, 133.25),\n",
       " (205.26, 327.64),\n",
       " (197.14, 313.57),\n",
       " (60.24, 86.34),\n",
       " (140.99, 217.76),\n",
       " (92.13, 137.06),\n",
       " (49.8, 70.2),\n",
       " (93.64, 139.51),\n",
       " (73.42, 107.07),\n",
       " (80.36, 118.14),\n",
       " (206.44, 329.69),\n",
       " (52.85, 74.88),\n",
       " (94.36, 140.69),\n",
       " (55.89, 79.57),\n",
       " (112.31, 170.03),\n",
       " (79.48, 116.72),\n",
       " (44.41, 61.97),\n",
       " (130.95, 200.93),\n",
       " (87.28, 129.23),\n",
       " (70.95, 103.17),\n",
       " (54.03, 76.71),\n",
       " (78.26, 114.78),\n",
       " (63.91, 92.08),\n",
       " (102.92, 154.61),\n",
       " (79.27, 116.39),\n",
       " (178.74, 281.87),\n",
       " (121.96, 185.97),\n",
       " (44.08, 61.47),\n",
       " (78.05, 114.44),\n",
       " (71.14, 103.46),\n",
       " (57.51, 82.09),\n",
       " (38.28, 52.73),\n",
       " (72.03, 104.88),\n",
       " (64.12, 92.4),\n",
       " (52.78, 74.77),\n",
       " (49.51, 69.75),\n",
       " (51.43, 72.7),\n",
       " (70.42, 102.33),\n",
       " (72.54, 105.68),\n",
       " (52.58, 74.46),\n",
       " (60.54, 86.8),\n",
       " (76.39, 111.8),\n",
       " (67.73, 98.08),\n",
       " (64.55, 93.08),\n",
       " (59.34, 84.93),\n",
       " (52.15, 73.8),\n",
       " (186.19, 294.67),\n",
       " (75.17, 109.85),\n",
       " (35.31, 48.3),\n",
       " (136.33, 209.93),\n",
       " (62.37, 89.66),\n",
       " (130.47, 200.13),\n",
       " (98.77, 147.84),\n",
       " (48.93, 68.86),\n",
       " (69.39, 100.7),\n",
       " (80.63, 118.57),\n",
       " (62.85, 90.42),\n",
       " (89.08, 132.14),\n",
       " (64.06, 92.32),\n",
       " (46.82, 65.63),\n",
       " (52.63, 74.55),\n",
       " (80.75, 118.76),\n",
       " (90.55, 134.51),\n",
       " (109.16, 164.84),\n",
       " (67.97, 98.46),\n",
       " (80.87, 118.95),\n",
       " (171.59, 269.61),\n",
       " (72.28, 105.27),\n",
       " (85.96, 127.11),\n",
       " (67.03, 96.98),\n",
       " (72.89, 106.23),\n",
       " (63.19, 90.96),\n",
       " (81.61, 120.13),\n",
       " (64.35, 92.77),\n",
       " (147.3, 228.36),\n",
       " (99.86, 149.63),\n",
       " (174.84, 275.18),\n",
       " (70.53, 102.5),\n",
       " (81.53, 120.0),\n",
       " (44.42, 61.99),\n",
       " (68.16, 98.75),\n",
       " (84.94, 125.47),\n",
       " (41.9, 58.17),\n",
       " (80.46, 118.29),\n",
       " (86.72, 128.34),\n",
       " (45.2, 63.16),\n",
       " (60.34, 86.49),\n",
       " (48.07, 67.55),\n",
       " (64.56, 93.1),\n",
       " (76.04, 111.24),\n",
       " (46.45, 65.08),\n",
       " (67.97, 98.45),\n",
       " (127.03, 194.4),\n",
       " (162.67, 254.41),\n",
       " (153.89, 239.51),\n",
       " (111.48, 168.66),\n",
       " (67.38, 97.53),\n",
       " (71.56, 104.13),\n",
       " (94.18, 140.39),\n",
       " (55.87, 79.55),\n",
       " (84.84, 125.32),\n",
       " (69.05, 100.16),\n",
       " (65.1, 93.95),\n",
       " (131.46, 201.79),\n",
       " (108.79, 164.24),\n",
       " (116.15, 176.35),\n",
       " (74.8, 109.27),\n",
       " (45.03, 62.91),\n",
       " (84.83, 125.3),\n",
       " (39.13, 54.0),\n",
       " (109.55, 165.48),\n",
       " (86.44, 127.88),\n",
       " (53.07, 75.22),\n",
       " (192.18, 305.0),\n",
       " (32.46, 44.07),\n",
       " (83.17, 122.64),\n",
       " (60.8, 87.22),\n",
       " (64.16, 92.47),\n",
       " (63.73, 91.8),\n",
       " (54.46, 77.36),\n",
       " (63.73, 91.79),\n",
       " (120.41, 183.4),\n",
       " (172.27, 270.78),\n",
       " (51.19, 72.33),\n",
       " (51.96, 73.52),\n",
       " (125.62, 192.06),\n",
       " (99.95, 149.77),\n",
       " (55.95, 79.67),\n",
       " (107.68, 162.41),\n",
       " (108.51, 163.77),\n",
       " (49.39, 69.56),\n",
       " (81.34, 119.71),\n",
       " (153.34, 238.58),\n",
       " (57.9, 82.69),\n",
       " (143.23, 221.51),\n",
       " (108.39, 163.58),\n",
       " (59.08, 84.54),\n",
       " (79.29, 116.42),\n",
       " (73.69, 107.5),\n",
       " (124.38, 189.99),\n",
       " (55.21, 78.53),\n",
       " (116.16, 176.37),\n",
       " (61.05, 87.61),\n",
       " (65.3, 94.26),\n",
       " (91.63, 136.26),\n",
       " (60.14, 86.18),\n",
       " (88.08, 130.53),\n",
       " (72.77, 106.04),\n",
       " (253.09, 411.49),\n",
       " (69.33, 100.61),\n",
       " (93.6, 139.45),\n",
       " (55.86, 79.54),\n",
       " (90.63, 134.65),\n",
       " (90.53, 134.49),\n",
       " (80.86, 118.93),\n",
       " (63.02, 90.69),\n",
       " (96.81, 144.66),\n",
       " (343.23, 573.18),\n",
       " (122.51, 186.89),\n",
       " (122.64, 187.1),\n",
       " (88.79, 131.66),\n",
       " (43.52, 60.62),\n",
       " (102.61, 154.12),\n",
       " (110.65, 167.29),\n",
       " (48.53, 68.25),\n",
       " (157.34, 245.35),\n",
       " (83.58, 123.29),\n",
       " (61.41, 88.16),\n",
       " (52.62, 74.52),\n",
       " (72.78, 106.06),\n",
       " (55.97, 79.71),\n",
       " (89.0, 132.01),\n",
       " (115.35, 175.04),\n",
       " (83.04, 122.42),\n",
       " (97.0, 144.96),\n",
       " (90.25, 134.02),\n",
       " (96.78, 144.61),\n",
       " (68.04, 98.57),\n",
       " (49.86, 70.28),\n",
       " (61.06, 87.62),\n",
       " (59.94, 85.87),\n",
       " (57.69, 82.37),\n",
       " (84.16, 124.23),\n",
       " (73.01, 106.43),\n",
       " (46.35, 64.93),\n",
       " (48.01, 67.46),\n",
       " (64.49, 92.99),\n",
       " (80.3, 118.04),\n",
       " (69.78, 101.32),\n",
       " (220.07, 353.44),\n",
       " (127.3, 194.85),\n",
       " (63.74, 91.81),\n",
       " (78.89, 115.78),\n",
       " (70.09, 101.81),\n",
       " (159.47, 248.97),\n",
       " (62.41, 89.73),\n",
       " (30.27, 40.83),\n",
       " (135.75, 208.97),\n",
       " (45.52, 63.66),\n",
       " (42.14, 58.53),\n",
       " (81.5, 119.95),\n",
       " (41.94, 58.22),\n",
       " (51.51, 72.81),\n",
       " (56.52, 80.56),\n",
       " (119.78, 182.37),\n",
       " (150.1, 233.1),\n",
       " (62.01, 89.1),\n",
       " (162.61, 254.31),\n",
       " (46.19, 64.68),\n",
       " (74.16, 108.25),\n",
       " (85.34, 126.12),\n",
       " (47.88, 67.25),\n",
       " (72.6, 105.77),\n",
       " (71.02, 103.27),\n",
       " (57.93, 82.74),\n",
       " (38.85, 53.58),\n",
       " (81.5, 119.95),\n",
       " (97.66, 146.04),\n",
       " (70.04, 101.73),\n",
       " (67.64, 97.94),\n",
       " (105.43, 158.72),\n",
       " (70.15, 101.89),\n",
       " (140.46, 216.87),\n",
       " (74.42, 108.66),\n",
       " (98.64, 147.64),\n",
       " (73.25, 106.8),\n",
       " (67.38, 97.52),\n",
       " (53.09, 75.26),\n",
       " (58.32, 83.35),\n",
       " (250.13, 406.26),\n",
       " (51.65, 73.03),\n",
       " (53.19, 75.41),\n",
       " (108.98, 164.55),\n",
       " (135.48, 208.51),\n",
       " (93.93, 139.99),\n",
       " (79.28, 116.4),\n",
       " (75.46, 110.31),\n",
       " (59.54, 85.26),\n",
       " (59.22, 84.75),\n",
       " (111.33, 168.41),\n",
       " (99.53, 149.09),\n",
       " (58.19, 83.15),\n",
       " (72.16, 105.08),\n",
       " (80.6, 118.51),\n",
       " (80.85, 118.91),\n",
       " (55.9, 79.6),\n",
       " (67.68, 98.01),\n",
       " (49.45, 69.66),\n",
       " (162.55, 254.2),\n",
       " (301.0, 496.89),\n",
       " (81.98, 120.72),\n",
       " (59.53, 85.23),\n",
       " (84.72, 125.12),\n",
       " (121.92, 185.9),\n",
       " (57.18, 81.57),\n",
       " (50.59, 71.4),\n",
       " (68.13, 98.71),\n",
       " (60.57, 86.85),\n",
       " (98.47, 147.36),\n",
       " (86.55, 128.07),\n",
       " (108.69, 164.08),\n",
       " (72.28, 105.27),\n",
       " (215.04, 344.65),\n",
       " (204.83, 326.9),\n",
       " (39.64, 54.76),\n",
       " (80.93, 119.05),\n",
       " (157.4, 245.46),\n",
       " (110.56, 167.14),\n",
       " (108.64, 163.99),\n",
       " (62.46, 89.8),\n",
       " (75.98, 111.15),\n",
       " (95.2, 142.05),\n",
       " (53.44, 75.8),\n",
       " (75.99, 111.17),\n",
       " (69.62, 101.06),\n",
       " (54.94, 78.11),\n",
       " (113.99, 172.79),\n",
       " (49.54, 69.8),\n",
       " (117.0, 177.76),\n",
       " (130.27, 199.8),\n",
       " (98.01, 146.61),\n",
       " (253.0, 411.33),\n",
       " (42.43, 58.97),\n",
       " (35.97, 49.27),\n",
       " (97.05, 145.05),\n",
       " (109.66, 165.66),\n",
       " (68.65, 99.54),\n",
       " (83.17, 122.64),\n",
       " (103.5, 155.56),\n",
       " (41.14, 57.03),\n",
       " (66.1, 95.51),\n",
       " (62.14, 89.3),\n",
       " (71.51, 104.05),\n",
       " (99.7, 149.37),\n",
       " (53.27, 75.52),\n",
       " (58.86, 84.19),\n",
       " (64.36, 92.78),\n",
       " (94.08, 140.23),\n",
       " (67.48, 97.68),\n",
       " (71.1, 103.39),\n",
       " (54.41, 77.29),\n",
       " (84.99, 125.56),\n",
       " (77.6, 113.73),\n",
       " (212.61, 340.42),\n",
       " (79.18, 116.25),\n",
       " (59.86, 85.76),\n",
       " (76.8, 112.44),\n",
       " (92.9, 138.32),\n",
       " (71.37, 103.83),\n",
       " (43.97, 61.3),\n",
       " (77.44, 113.47),\n",
       " (45.71, 63.94),\n",
       " (69.47, 100.83),\n",
       " (92.05, 136.94),\n",
       " (115.46, 175.22),\n",
       " (47.15, 66.14),\n",
       " (46.45, 65.07),\n",
       " (76.54, 112.04),\n",
       " (75.16, 109.84),\n",
       " (138.28, 213.19),\n",
       " (60.13, 86.17),\n",
       " (119.76, 182.33),\n",
       " (59.62, 85.37),\n",
       " (56.96, 81.24),\n",
       " (80.79, 118.82),\n",
       " (125.0, 191.02),\n",
       " (92.43, 137.56),\n",
       " (74.22, 108.34),\n",
       " (54.03, 76.71),\n",
       " (43.24, 60.19),\n",
       " (89.95, 133.55),\n",
       " (113.28, 171.63),\n",
       " (67.75, 98.12),\n",
       " (145.56, 225.43),\n",
       " (55.0, 78.2),\n",
       " (95.54, 142.6),\n",
       " (121.75, 185.63),\n",
       " (55.73, 79.33),\n",
       " (144.44, 223.55),\n",
       " (133.52, 205.22),\n",
       " (70.32, 102.16),\n",
       " (51.41, 72.66),\n",
       " (92.71, 138.01),\n",
       " (120.63, 183.77),\n",
       " (59.62, 85.37),\n",
       " (52.19, 73.86),\n",
       " (77.6, 113.72),\n",
       " (74.29, 108.45),\n",
       " (170.84, 268.33),\n",
       " (116.39, 176.75),\n",
       " (86.56, 128.08),\n",
       " (123.7, 188.87),\n",
       " (90.14, 133.84),\n",
       " (88.85, 131.77),\n",
       " (66.66, 96.4),\n",
       " (97.05, 145.05),\n",
       " (67.22, 97.29),\n",
       " (168.99, 265.19),\n",
       " (75.76, 110.79),\n",
       " (41.22, 57.14),\n",
       " (78.42, 115.04),\n",
       " (109.28, 165.05),\n",
       " (76.69, 112.28),\n",
       " (85.53, 126.42),\n",
       " (90.44, 134.33),\n",
       " (49.49, 69.72),\n",
       " (107.73, 162.5),\n",
       " (80.33, 118.08),\n",
       " (117.12, 177.96),\n",
       " (137.23, 211.43),\n",
       " (201.35, 320.85),\n",
       " (122.08, 186.18),\n",
       " (67.48, 97.68),\n",
       " (59.8, 85.65),\n",
       " (71.53, 104.08),\n",
       " (174.66, 274.87),\n",
       " (66.69, 96.44),\n",
       " (73.77, 107.63),\n",
       " (74.38, 108.6),\n",
       " (84.17, 124.23),\n",
       " (96.86, 144.74),\n",
       " (52.63, 74.55),\n",
       " (77.65, 113.81),\n",
       " (84.14, 124.2),\n",
       " (113.5, 171.99),\n",
       " (163.41, 255.67),\n",
       " (116.55, 177.02),\n",
       " (163.16, 255.24),\n",
       " (144.65, 223.91),\n",
       " (104.24, 156.78),\n",
       " (46.07, 64.5),\n",
       " (52.32, 74.06),\n",
       " (72.7, 105.94),\n",
       " (91.62, 136.25),\n",
       " (47.96, 67.38),\n",
       " (66.98, 96.9),\n",
       " (48.56, 68.29),\n",
       " (198.01, 315.08),\n",
       " (123.32, 188.23),\n",
       " (212.44, 340.12),\n",
       " (84.11, 124.14),\n",
       " (51.13, 72.24),\n",
       " (66.92, 96.81),\n",
       " (74.45, 108.72),\n",
       " (71.57, 104.15),\n",
       " (102.53, 153.98),\n",
       " (88.98, 131.98),\n",
       " (60.11, 86.14),\n",
       " (66.17, 95.63),\n",
       " (82.8, 122.05),\n",
       " (47.71, 67.0),\n",
       " (68.27, 98.94),\n",
       " (20.14, 26.22),\n",
       " (63.38, 91.25),\n",
       " (57.16, 81.55),\n",
       " (117.27, 178.2),\n",
       " (47.34, 66.44),\n",
       " (179.91, 283.87),\n",
       " (146.63, 227.25),\n",
       " (109.2, 164.91),\n",
       " (49.18, 69.24),\n",
       " (88.19, 130.71),\n",
       " (68.14, 98.72),\n",
       " (107.94, 162.84),\n",
       " (64.98, 93.76),\n",
       " (59.32, 84.91),\n",
       " (90.62, 134.63),\n",
       " (58.69, 83.92),\n",
       " (69.32, 100.58),\n",
       " (218.05, 349.91),\n",
       " ...)"
      ]
     },
     "execution_count": 109,
     "metadata": {},
     "output_type": "execute_result"
    }
   ],
   "source": [
    "# Calculate price interval for MAPE median\n",
    "y_pred_interval_xgb_reg = tuple([(round(math.exp(el-el*MAPE_median_xgb_reg),2),round(math.exp(el+el*MAPE_median_xgb_reg),2)) for el in y_test_pred_xgb_reg])\n",
    "y_pred_interval_xgb_reg"
   ]
  },
  {
   "cell_type": "markdown",
   "metadata": {},
   "source": [
    "**Save Model and Params**"
   ]
  },
  {
   "cell_type": "code",
   "execution_count": 110,
   "metadata": {
    "code_folding": [
     0
    ]
   },
   "outputs": [],
   "source": [
    "# Save best model and cv\n",
    "save_load(best_model_xgb_reg, title=\"best_model_xgb_reg\", function=\"save\")\n",
    "save_load(grid_xgb_reg, title=\"best_cv_xgb_reg\", function=\"save\")"
   ]
  },
  {
   "cell_type": "markdown",
   "metadata": {},
   "source": [
    "## Reg Model 2: Support Vector Machines"
   ]
  },
  {
   "cell_type": "code",
   "execution_count": 111,
   "metadata": {
    "code_folding": [
     0
    ]
   },
   "outputs": [],
   "source": [
    "# Create pipeline to use in RandomizedSearchCV and GridSearchCV\n",
    "pipeline_svm_reg = Pipeline([('preprocessor', preprocessor),\n",
    "                             ('svm_reg',\n",
    "                              SVR(kernel='rbf',\n",
    "                                  C=50,\n",
    "                                  degree=4,\n",
    "                                  gamma=0.005,\n",
    "                                  epsilon=0.3))])"
   ]
  },
  {
   "cell_type": "markdown",
   "metadata": {},
   "source": [
    "### Hyperparameter Pre-Tuning with RandomizedSearchCV"
   ]
  },
  {
   "cell_type": "code",
   "execution_count": 112,
   "metadata": {
    "code_folding": [
     0
    ],
    "scrolled": true
   },
   "outputs": [
    {
     "data": {
      "text/plain": [
       "dict_keys(['C', 'cache_size', 'coef0', 'degree', 'epsilon', 'gamma', 'kernel', 'max_iter', 'shrinking', 'tol', 'verbose'])"
      ]
     },
     "execution_count": 112,
     "metadata": {},
     "output_type": "execute_result"
    }
   ],
   "source": [
    "# Display possible hyperparameters for Support Vector Machine\n",
    "test_svr_reg = SVR()\n",
    "test_svr_reg.get_params().keys()"
   ]
  },
  {
   "cell_type": "markdown",
   "metadata": {},
   "source": [
    "**Default values for Support Vector Machine** (as base for hyperparameter search):\n",
    "\n",
    "kernel='rbf', degree=3, gamma='scale', coef0=0.0, tol=0.001, C=1.0, epsilon=0.1, shrinking=True, cache_size=200, verbose=False, max_iter=-1"
   ]
  },
  {
   "cell_type": "code",
   "execution_count": 113,
   "metadata": {
    "code_folding": [
     0
    ]
   },
   "outputs": [],
   "source": [
    "# Define hyperparameter distribution\n",
    "param_distribs_svm_reg = {\n",
    "#    'svm_reg__kernel': ['linear', 'poly', 'rbf'],\n",
    "    'svm_reg__C': [0.1, 0.5, 0.8, 1, 1.5, 2, 3, 5, 10, 50, 100],        # initial: [0.1, 0.5, 1, 2, 5, 10, 50, 100, 500, 1000]\n",
    "    'svm_reg__gamma': [0.0001, 0.0005, 0.001, 0.005, 0.01, 0.05, 0.1, 1],   # initial: [0.0001, 0.0005, 0.001, 0.005, 0.01, 0.05, 0.1, 1]\n",
    "    'svm_reg__epsilon': [0, 0.1, 0.2, 0.3, 0.4, 0.5, 0.9],            # initial: [0, 0.1, 0.2, 0.3, 0.4, 0.5, 0.9]\n",
    "    'svm_reg__degree': randint(low=1, high=5)\n",
    "}"
   ]
  },
  {
   "cell_type": "code",
   "execution_count": 114,
   "metadata": {
    "code_folding": [
     0
    ],
    "scrolled": true
   },
   "outputs": [
    {
     "name": "stdout",
     "output_type": "stream",
     "text": [
      "Fitting 5 folds for each of 10 candidates, totalling 50 fits\n"
     ]
    },
    {
     "name": "stderr",
     "output_type": "stream",
     "text": [
      "[Parallel(n_jobs=-1)]: Using backend LokyBackend with 4 concurrent workers.\n",
      "[Parallel(n_jobs=-1)]: Done  17 tasks      | elapsed:  9.2min\n",
      "[Parallel(n_jobs=-1)]: Done  50 out of  50 | elapsed: 24.3min finished\n"
     ]
    }
   ],
   "source": [
    "# Create and fit RandomizedSearchCV, save \"best_model\"\n",
    "rnd_svm_reg = RandomizedSearchCV(pipeline_svm_reg,\n",
    "                                 param_distribs_svm_reg,\n",
    "                                 cv=5,\n",
    "                                 scoring=scoring,\n",
    "                                 n_iter=10,\n",
    "                                 return_train_score=True,\n",
    "                                 verbose=4,\n",
    "                                 n_jobs=-1,\n",
    "                                 random_state=random_state)\n",
    "\n",
    "best_model_rnd_svm_reg = rnd_svm_reg.fit(X_train, y_train)"
   ]
  },
  {
   "cell_type": "code",
   "execution_count": 115,
   "metadata": {
    "code_folding": [
     0
    ]
   },
   "outputs": [
    {
     "name": "stdout",
     "output_type": "stream",
     "text": [
      "Best score:\n",
      "-0.21\n",
      "Best parameters:\n",
      "{'svm_reg__C': 0.1, 'svm_reg__degree': 4, 'svm_reg__epsilon': 0.1, 'svm_reg__gamma': 0.05}\n"
     ]
    }
   ],
   "source": [
    "# Display best_score_, best_params_ and best_estimator_\n",
    "print('Best score:\\n{:.2f}'.format(rnd_svm_reg.best_score_))\n",
    "print(\"Best parameters:\\n{}\".format(rnd_svm_reg.best_params_))\n",
    "#print(\"Best estimator:\\n{}\".format(rnd_svm_reg.best_estimator_))"
   ]
  },
  {
   "cell_type": "markdown",
   "metadata": {},
   "source": [
    "### Hyperparameter Tuning with GridSearchCV"
   ]
  },
  {
   "cell_type": "code",
   "execution_count": 116,
   "metadata": {
    "code_folding": [
     0
    ]
   },
   "outputs": [],
   "source": [
    "# Define hyperparameter grid\n",
    "param_grid_svm_reg = {\n",
    "#    'svm_reg__kernel': ['linear', 'poly', 'rbf'],\n",
    "    'svm_reg__gamma': [0.003, 0.005, 0.007],\n",
    "    'svm_reg__C': [40, 50, 60],\n",
    "    'svm_reg__degree': [3, 4, 5]\n",
    "}"
   ]
  },
  {
   "cell_type": "code",
   "execution_count": null,
   "metadata": {
    "code_folding": [
     0
    ]
   },
   "outputs": [
    {
     "name": "stdout",
     "output_type": "stream",
     "text": [
      "Fitting 5 folds for each of 27 candidates, totalling 135 fits\n"
     ]
    },
    {
     "name": "stderr",
     "output_type": "stream",
     "text": [
      "[Parallel(n_jobs=-1)]: Using backend LokyBackend with 4 concurrent workers.\n",
      "[Parallel(n_jobs=-1)]: Done  17 tasks      | elapsed:  4.2min\n"
     ]
    }
   ],
   "source": [
    "# Create and fit GridSearchCV, save \"best_model\"\n",
    "grid_svm_reg = GridSearchCV(pipeline_svm_reg,\n",
    "                            param_grid_svm_reg,\n",
    "                            cv=5,\n",
    "                            scoring=scoring,\n",
    "                            return_train_score=True,\n",
    "                            verbose=4,\n",
    "                            n_jobs=-1)\n",
    "\n",
    "grid_svm_reg = grid_svm_reg.fit(X_train, y_train)"
   ]
  },
  {
   "cell_type": "code",
   "execution_count": null,
   "metadata": {
    "code_folding": [
     0
    ]
   },
   "outputs": [],
   "source": [
    "# Assign result to best model\n",
    "best_model_svm_reg = grid_svm_reg.best_estimator_[\"svm_reg\"]"
   ]
  },
  {
   "cell_type": "code",
   "execution_count": null,
   "metadata": {
    "code_folding": [
     0
    ]
   },
   "outputs": [],
   "source": [
    "# Display best_score_, best_params_ and best_estimator_\n",
    "print('Best score:\\n{:.2f}'.format(grid_svm_reg.best_score_))\n",
    "print(\"Best parameters:\\n{}\".format(grid_svm_reg.best_params_))\n",
    "#print(\"Best estimator:\\n{}\".format(grid_svm_reg.best_estimator_))"
   ]
  },
  {
   "cell_type": "markdown",
   "metadata": {},
   "source": [
    "### Feature Importances"
   ]
  },
  {
   "cell_type": "code",
   "execution_count": null,
   "metadata": {
    "code_folding": [
     0
    ],
    "scrolled": true
   },
   "outputs": [],
   "source": [
    "# Display feature importances\n",
    "#fi_svm_reg = get_feat_importances(best_model_svm_reg, column_names=column_names)\n",
    "#fi_svm_reg"
   ]
  },
  {
   "cell_type": "markdown",
   "metadata": {},
   "source": [
    "### Final Evaluation Best Model"
   ]
  },
  {
   "cell_type": "code",
   "execution_count": null,
   "metadata": {
    "code_folding": [
     0
    ]
   },
   "outputs": [],
   "source": [
    "# Load existing model\n",
    "#load_best_model = load_model(title=\"best_model_svm_reg_01\", dataset_loc=dataset_loc, dataset_date=dataset_date)\n",
    "#load_best_cv = load_model(title=\"best_cv_svm_reg_01\", dataset_loc=dataset_loc, dataset_date=dataset_date)"
   ]
  },
  {
   "cell_type": "markdown",
   "metadata": {},
   "source": [
    "**Learning Curves (Overfitting)**"
   ]
  },
  {
   "cell_type": "markdown",
   "metadata": {},
   "source": [
    "**Training Set**"
   ]
  },
  {
   "cell_type": "code",
   "execution_count": null,
   "metadata": {
    "code_folding": [
     0
    ]
   },
   "outputs": [],
   "source": [
    "# Predict target with \"best model\"\n",
    "y_train_pred_svm_reg = best_model_svm_reg.predict(X_train_prep)"
   ]
  },
  {
   "cell_type": "code",
   "execution_count": null,
   "metadata": {
    "code_folding": [
     0
    ]
   },
   "outputs": [],
   "source": [
    "# Final evaluation of \"best model\"\n",
    "model_eval(y_train, y_train_pred_svm_reg, model=\"reg\")"
   ]
  },
  {
   "cell_type": "markdown",
   "metadata": {},
   "source": [
    "**Testing Set**"
   ]
  },
  {
   "cell_type": "code",
   "execution_count": null,
   "metadata": {
    "code_folding": [
     0
    ]
   },
   "outputs": [],
   "source": [
    "# Predict target with \"best model\"\n",
    "y_test_pred_svm_reg = best_model_svm_reg.predict(X_test_prep)"
   ]
  },
  {
   "cell_type": "code",
   "execution_count": null,
   "metadata": {
    "code_folding": [
     0
    ],
    "scrolled": true
   },
   "outputs": [],
   "source": [
    "# Final evaluation of \"best model\"\n",
    "model_eval(y_test, y_test_pred_svm_reg, model=\"reg\")"
   ]
  },
  {
   "cell_type": "code",
   "execution_count": null,
   "metadata": {
    "code_folding": [
     0
    ]
   },
   "outputs": [],
   "source": [
    "# Display confidence interval (scipy stats)\n",
    "confidence = 0.95\n",
    "squared_errors = (y_test_pred_svm_reg - y_test)**2\n",
    "np.sqrt(\n",
    "    stats.t.interval(confidence,\n",
    "                     len(squared_errors) - 1,\n",
    "                     loc=squared_errors.mean(),\n",
    "                     scale=stats.sem(squared_errors)))"
   ]
  },
  {
   "cell_type": "markdown",
   "metadata": {},
   "source": [
    "**Median Price Intervals**"
   ]
  },
  {
   "cell_type": "code",
   "execution_count": null,
   "metadata": {
    "code_folding": [
     0
    ]
   },
   "outputs": [],
   "source": [
    "# Save MAPE_median as variable\n",
    "MAPE_median_svm_reg = (median_absolute_percentage_error(y_test, y_test_pred_svm_reg))/100"
   ]
  },
  {
   "cell_type": "code",
   "execution_count": null,
   "metadata": {
    "code_folding": [
     0
    ]
   },
   "outputs": [],
   "source": [
    "# Calculate price interval for MAPE median\n",
    "y_pred_interval_svm_reg = tuple([(round(math.exp(el-el*MAPE_median_svm_reg),2),round(math.exp(el+el*MAPE_median_svm_reg),2)) for el in y_test_pred_svm_reg])\n",
    "y_pred_interval_svm_reg"
   ]
  },
  {
   "cell_type": "markdown",
   "metadata": {},
   "source": [
    "**Save Model and Params**"
   ]
  },
  {
   "cell_type": "code",
   "execution_count": null,
   "metadata": {
    "code_folding": [
     0
    ]
   },
   "outputs": [],
   "source": [
    "# Save best model and cv\n",
    "save_load(best_model_svm_reg, title=\"best_model_svm_reg\", function=\"save\")\n",
    "save_load(grid_svm_reg, title=\"best_cv_svm_reg\", function=\"save\")"
   ]
  },
  {
   "cell_type": "markdown",
   "metadata": {},
   "source": [
    "## Reg Model 3: Random Forest"
   ]
  },
  {
   "cell_type": "code",
   "execution_count": null,
   "metadata": {
    "code_folding": [
     0
    ]
   },
   "outputs": [],
   "source": [
    "# Create pipeline to use in RandomizedSearchCV and GridSearchCV\n",
    "pipeline_rf_reg = Pipeline([('preprocessor', preprocessor),\n",
    "                            ('rf_reg',\n",
    "                             RandomForestRegressor(n_estimators=1500,\n",
    "                                                   max_features='sqrt',\n",
    "                                                   random_state=random_state,\n",
    "                                                   max_depth=4,\n",
    "                                                   min_samples_split=10,\n",
    "                                                   min_samples_leaf=1,\n",
    "                                                   bootstrap=False,\n",
    "                                                   n_jobs=-1))])"
   ]
  },
  {
   "cell_type": "markdown",
   "metadata": {},
   "source": [
    "### Hyperparameter Pre-Tuning with RandomizedSearchCV"
   ]
  },
  {
   "cell_type": "code",
   "execution_count": null,
   "metadata": {
    "code_folding": [
     0
    ],
    "scrolled": true
   },
   "outputs": [],
   "source": [
    "# Display possible hyperparameters for XGBoost Regressor\n",
    "test_rf_reg = RandomForestRegressor()\n",
    "test_rf_reg.get_params().keys()"
   ]
  },
  {
   "cell_type": "markdown",
   "metadata": {},
   "source": [
    "**Default values for Random Forest Regressor** (as base for hyperparameter search):\n",
    "\n",
    "n_estimators=100, criterion='mse', max_depth=None, min_samples_split=2, min_samples_leaf=1, min_weight_fraction_leaf=0.0, max_features='auto', max_leaf_nodes=None, min_impurity_decrease=0.0, min_impurity_split=None, bootstrap=True, oob_score=False, n_jobs=None, random_state=None, verbose=0, warm_start=False, ccp_alpha=0.0, max_samples=None"
   ]
  },
  {
   "cell_type": "code",
   "execution_count": null,
   "metadata": {
    "code_folding": [
     0
    ]
   },
   "outputs": [],
   "source": [
    "# Define hyperparameter distribution\n",
    "param_distribs_rf_reg = {\n",
    "    'rf_reg__n_estimators': [int(x) for x in np.linspace(start = 200, stop = 2000, num = 10)],\n",
    "    'rf_reg__max_features': ['auto', 'sqrt'],\n",
    "    'rf_reg__max_depth': [None, 1, 2, 3, 4, 5, 7, 10, 15, 20, 30, 40, 50, 75, 100],\n",
    "    'rf_reg__min_samples_split': [2, 5, 10],\n",
    "    'rf_reg__min_samples_leaf': [1, 2, 4],\n",
    "    'rf_reg__bootstrap': [True, False]\n",
    "}"
   ]
  },
  {
   "cell_type": "code",
   "execution_count": null,
   "metadata": {
    "code_folding": [
     0
    ]
   },
   "outputs": [],
   "source": [
    "# Create and fit RandomizedSearchCV, save \"best_model\"\n",
    "rnd_rf_reg = RandomizedSearchCV(pipeline_rf_reg,\n",
    "                                 param_distribs_rf_reg,\n",
    "                                 cv=4,\n",
    "                                 scoring=scoring,\n",
    "                                 n_iter=8,\n",
    "                                 return_train_score=True,\n",
    "                                 verbose=4,\n",
    "                                 n_jobs=-1,\n",
    "                                 random_state=random_state)\n",
    "\n",
    "rnd_rf_reg = rnd_rf_reg.fit(X_train, y_train)"
   ]
  },
  {
   "cell_type": "code",
   "execution_count": null,
   "metadata": {
    "code_folding": [
     0
    ]
   },
   "outputs": [],
   "source": [
    "# Assign result to best model\n",
    "best_model_rnd_rf_reg = rnd_rf_reg.best_estimator_['rf_reg']"
   ]
  },
  {
   "cell_type": "code",
   "execution_count": null,
   "metadata": {
    "code_folding": [
     0
    ]
   },
   "outputs": [],
   "source": [
    "# Display best_score_, best_params_ and best_estimator_\n",
    "print('Best score:\\n{:.2f}'.format(rnd_rf_reg.best_score_))\n",
    "print(\"Best parameters:\\n{}\".format(rnd_rf_reg.best_params_))\n",
    "#print(\"Best estimator:\\n{}\".format(rnd_rf_reg.best_estimator_))"
   ]
  },
  {
   "cell_type": "markdown",
   "metadata": {},
   "source": [
    "### Hyperparameter Tuning with GridSearchCV"
   ]
  },
  {
   "cell_type": "code",
   "execution_count": null,
   "metadata": {
    "code_folding": [
     0
    ]
   },
   "outputs": [],
   "source": [
    "# Define hyperparameter grid\n",
    "#param_grid_rf_reg = {\n",
    "#    'rf_reg__n_estimators': [1200, 2000],\n",
    "#    'rf_reg__max_features': ['auto', 'sqrt'],\n",
    "#    'rf_reg__max_depth': [10, 15],\n",
    "#    'rf_reg__min_samples_split': [6, 10],\n",
    "#    'rf_reg__min_samples_leaf': [1, 2],\n",
    "#    'rf_reg__bootstrap': [True, False]\n",
    "#}"
   ]
  },
  {
   "cell_type": "code",
   "execution_count": null,
   "metadata": {
    "code_folding": []
   },
   "outputs": [],
   "source": [
    "# Create and fit GridSearchCV, save \"best_model\"\n",
    "#grid_rf_reg = GridSearchCV(pipeline_rf_reg,\n",
    "#                            param_grid_rf_reg,\n",
    "#                            cv=5,\n",
    "#                            scoring=scoring,\n",
    "#                            return_train_score=True,\n",
    "#                            verbose=4,\n",
    "#                            n_jobs=-1)\n",
    "\n",
    "#grid_rf_reg = grid_rf_reg.fit(X_train, y_train)"
   ]
  },
  {
   "cell_type": "code",
   "execution_count": null,
   "metadata": {
    "code_folding": []
   },
   "outputs": [],
   "source": [
    "# Assign result to best model\n",
    "#best_model_rf_reg = grid_rf_reg.best_estimator_['rf_reg']"
   ]
  },
  {
   "cell_type": "code",
   "execution_count": null,
   "metadata": {
    "code_folding": [
     0
    ]
   },
   "outputs": [],
   "source": [
    "# Display best_score_, best_params_ and best_estimator_\n",
    "#print('Best score:\\n{:.2f}'.format(grid_rf_reg.best_score_))\n",
    "#print(\"Best parameters:\\n{}\".format(grid_rf_reg.best_params_))\n",
    "#print(\"Best estimator:\\n{}\".format(grid_rf_reg.best_estimator_))"
   ]
  },
  {
   "cell_type": "markdown",
   "metadata": {},
   "source": [
    "### Feature Importances"
   ]
  },
  {
   "cell_type": "code",
   "execution_count": null,
   "metadata": {
    "code_folding": [
     0
    ],
    "scrolled": true
   },
   "outputs": [],
   "source": [
    "# Display feature importances\n",
    "fi_rf_reg = get_feat_importances(best_model_rnd_rf_reg, column_names=column_names)\n",
    "fi_rf_reg"
   ]
  },
  {
   "cell_type": "markdown",
   "metadata": {},
   "source": [
    "### Final Evaluation Best Model"
   ]
  },
  {
   "cell_type": "code",
   "execution_count": null,
   "metadata": {
    "code_folding": [
     0
    ]
   },
   "outputs": [],
   "source": [
    "# Load existing model\n",
    "#load_best_model = save_load(title=\"best_model_rf_reg\", function=\"load\")\n",
    "#load_best_cv = save_load(title=\"best_cv_rf_reg\", function=\"load\")"
   ]
  },
  {
   "cell_type": "markdown",
   "metadata": {},
   "source": [
    "**Learning Curves (Overfitting)**"
   ]
  },
  {
   "cell_type": "markdown",
   "metadata": {},
   "source": [
    "**Training Set**"
   ]
  },
  {
   "cell_type": "code",
   "execution_count": null,
   "metadata": {
    "code_folding": [
     0
    ]
   },
   "outputs": [],
   "source": [
    "# Predict target with \"best model\"\n",
    "y_train_pred_rf_reg = best_model_rnd_rf_reg.predict(X_train_prep)"
   ]
  },
  {
   "cell_type": "code",
   "execution_count": null,
   "metadata": {
    "code_folding": [
     0
    ]
   },
   "outputs": [],
   "source": [
    "# Final evaluation of \"best model\"\n",
    "model_eval(y_train, y_train_pred_rf_reg, model=\"reg\")"
   ]
  },
  {
   "cell_type": "markdown",
   "metadata": {},
   "source": [
    "**Testing Set**"
   ]
  },
  {
   "cell_type": "code",
   "execution_count": null,
   "metadata": {
    "code_folding": [
     0
    ]
   },
   "outputs": [],
   "source": [
    "# Predict target with \"best model\"\n",
    "y_test_pred_rf_reg = best_model_rnd_rf_reg.predict(X_test_prep)"
   ]
  },
  {
   "cell_type": "code",
   "execution_count": null,
   "metadata": {
    "code_folding": [
     0
    ],
    "scrolled": true
   },
   "outputs": [],
   "source": [
    "# Final evaluation of \"best model\"\n",
    "model_eval(y_test, y_test_pred_rf_reg, model=\"reg\")"
   ]
  },
  {
   "cell_type": "code",
   "execution_count": null,
   "metadata": {
    "code_folding": [
     0
    ]
   },
   "outputs": [],
   "source": [
    "# Display confidence interval (scipy stats)\n",
    "confidence = 0.95\n",
    "squared_errors = (y_test_pred_rf_reg - y_test)**2\n",
    "np.sqrt(\n",
    "    stats.t.interval(confidence,\n",
    "                     len(squared_errors) - 1,\n",
    "                     loc=squared_errors.mean(),\n",
    "                     scale=stats.sem(squared_errors)))"
   ]
  },
  {
   "cell_type": "markdown",
   "metadata": {},
   "source": [
    "**Median Price Intervals**"
   ]
  },
  {
   "cell_type": "code",
   "execution_count": null,
   "metadata": {
    "code_folding": [
     0
    ]
   },
   "outputs": [],
   "source": [
    "# Save MAPE_median as variable\n",
    "MAPE_median_rf_reg = (median_absolute_percentage_error(y_test, y_test_pred_rf_reg))/100"
   ]
  },
  {
   "cell_type": "code",
   "execution_count": null,
   "metadata": {
    "code_folding": [
     0
    ]
   },
   "outputs": [],
   "source": [
    "# Calculate price interval for MAPE median\n",
    "y_pred_interval_rf_reg = tuple([(round(math.exp(el-el*MAPE_median_rf_reg),2),round(math.exp(el+el*MAPE_median_rf_reg),2)) for el in y_test_pred_rf_reg])\n",
    "y_pred_interval_rf_reg"
   ]
  },
  {
   "cell_type": "markdown",
   "metadata": {},
   "source": [
    "**Save Model and Params**"
   ]
  },
  {
   "cell_type": "code",
   "execution_count": null,
   "metadata": {
    "code_folding": [
     0
    ]
   },
   "outputs": [],
   "source": [
    "# Save best model and cv\n",
    "save_load(best_model_rnd_rf_reg, title=\"best_model_rf_reg\", function=\"save\")\n",
    "save_load(rnd_rf_reg, title=\"best_cv_rf_reg\", function=\"save\")"
   ]
  },
  {
   "cell_type": "markdown",
   "metadata": {},
   "source": [
    "## Reg Model 4: CatBoost"
   ]
  },
  {
   "cell_type": "code",
   "execution_count": null,
   "metadata": {
    "code_folding": [
     0
    ]
   },
   "outputs": [],
   "source": [
    "# Create pipeline to use in RandomizedSearchCV and GridSearchCV\n",
    "pipeline_cat_reg = Pipeline([('preprocessor', preprocessor),\n",
    "                             ('cat_reg',\n",
    "                              CatBoostRegressor(n_estimators=150,\n",
    "                                                learning_rate=0.3,\n",
    "                                                l2_leaf_reg=4,\n",
    "                                                loss_function=\"RMSE\",\n",
    "                                                random_state=random_state,\n",
    "                                                depth=4))])"
   ]
  },
  {
   "cell_type": "markdown",
   "metadata": {},
   "source": [
    "### Hyperparameter Pre-Tuning with RandomizedSearchCV"
   ]
  },
  {
   "cell_type": "code",
   "execution_count": null,
   "metadata": {
    "code_folding": [
     0
    ],
    "scrolled": true
   },
   "outputs": [],
   "source": [
    "# Display possible hyperparameters for XGBoost Regressor\n",
    "test_cat_reg = CatBoostRegressor()\n",
    "test_cat_reg.get_params().keys()"
   ]
  },
  {
   "cell_type": "markdown",
   "metadata": {},
   "source": [
    "**Default values for CatBoostRegressor** (as base for hyperparameter search):\n",
    "\n",
    "iterations=None, learning_rate=None, depth=None, l2_leaf_reg=None, model_size_reg=None, rsm=None, loss_function='RMSE', border_count=None, feature_border_type=None, per_float_feature_quantization=None, input_borders=None, output_borders=None, fold_permutation_block=None, od_pval=None, od_wait=None, od_type=None, nan_mode=None, counter_calc_method=None, leaf_estimation_iterations=None, leaf_estimation_method=None, thread_count=None, random_seed=None, use_best_model=None, best_model_min_trees=None, verbose=None, silent=None, logging_level=None, metric_period=None, ctr_leaf_count_limit=None, store_all_simple_ctr=None, max_ctr_complexity=None, has_time=None, allow_const_label=None, target_border=None, one_hot_max_size=None, random_strength=None, name=None, ignored_features=None, train_dir=None, custom_metric=None, eval_metric=None, bagging_temperature=None, save_snapshot=None, snapshot_file=None, snapshot_interval=None, fold_len_multiplier=None, used_ram_limit=None, gpu_ram_part=None, pinned_memory_size=None, allow_writing_files=None, final_ctr_computation_mode=None, approx_on_full_history=None, boosting_type=None, simple_ctr=None, combinations_ctr=None, per_feature_ctr=None, ctr_description=None, ctr_target_border_count=None, task_type=None, device_config=None, devices=None, bootstrap_type=None, subsample=None, mvs_reg=None, sampling_frequency=None, sampling_unit=None, dev_score_calc_obj_block_size=None, dev_efb_max_buckets=None, sparse_features_conflict_fraction=None, max_depth=None, n_estimators=None, num_boost_round=None, num_trees=None, colsample_bylevel=None, random_state=None, reg_lambda=None, objective=None, eta=None, max_bin=None, gpu_cat_features_storage=None, data_partition=None, metadata=None, early_stopping_rounds=None, cat_features=None, grow_policy=None, min_data_in_leaf=None, min_child_samples=None, max_leaves=None, num_leaves=None, score_function=None, leaf_estimation_backtracking=None, ctr_history_unit=None, monotone_constraints=None, feature_weights=None, penalties_coefficient=None, first_feature_use_penalties=None, per_object_feature_penalties=None, model_shrink_rate=None, model_shrink_mode=None, langevin=None, diffusion_temperature=None, boost_from_average=None"
   ]
  },
  {
   "cell_type": "code",
   "execution_count": null,
   "metadata": {
    "code_folding": [
     0
    ]
   },
   "outputs": [],
   "source": [
    "# Define hyperparameter distribution\n",
    "param_distribs_cat_reg = {\n",
    "    'cat_reg__n_estimators': randint(low=130, high=180),    # initial: randint(low=10, high=200)\n",
    "    'cat_reg__l2_leaf_reg': randint(low=2, high=11),       # initial: randint(low=1, high=15)\n",
    "    'cat_reg__depth': randint(low=4, high=6),             # initial: randint(low=1, high=15)\n",
    "    'cat_reg__learning_rate': [0.15, 0.18, 0.2, 0.22, 0.25, 0.27, 0.3] # initial: [0.01, 0.02, 0.05, 0.1, 0.2, 0.3]\n",
    "}"
   ]
  },
  {
   "cell_type": "code",
   "execution_count": null,
   "metadata": {
    "code_folding": [
     0
    ]
   },
   "outputs": [],
   "source": [
    "# Create and fit RandomizedSearchCV, save \"best_model\"\n",
    "rnd_cat_reg = RandomizedSearchCV(pipeline_cat_reg,\n",
    "                                 param_distribs_cat_reg,\n",
    "                                 cv=5,\n",
    "                                 scoring=scoring,\n",
    "                                 n_iter=15,\n",
    "                                 return_train_score=True,\n",
    "                                 verbose=4,\n",
    "                                 n_jobs=-1,\n",
    "                                 random_state=random_state)\n",
    "\n",
    "best_model_rnd_cat_reg = rnd_cat_reg.fit(X_train, y_train)"
   ]
  },
  {
   "cell_type": "code",
   "execution_count": null,
   "metadata": {
    "code_folding": [
     0
    ]
   },
   "outputs": [],
   "source": [
    "# Display best_score_, best_params_ and best_estimator_\n",
    "print('Best score:\\n{:.2f}'.format(rnd_cat_reg.best_score_))\n",
    "print(\"Best parameters:\\n{}\".format(rnd_cat_reg.best_params_))\n",
    "#print(\"Best estimator:\\n{}\".format(rnd_cat_reg.best_estimator_))"
   ]
  },
  {
   "cell_type": "markdown",
   "metadata": {},
   "source": [
    "### Hyperparameter Tuning with GridSearchCV"
   ]
  },
  {
   "cell_type": "code",
   "execution_count": null,
   "metadata": {
    "code_folding": [
     0
    ]
   },
   "outputs": [],
   "source": [
    "# Define hyperparameter grid\n",
    "param_grid_cat_reg = {\n",
    "#    'cat_reg__n_estimators': [150, 155],\n",
    "#    'cat_reg__l2_leaf_reg': [3, 4],\n",
    "    'cat_reg__depth': [4, 5],\n",
    "#    'cat_reg__learning_rate': [0.15, 0.2, 0.25]\n",
    "}"
   ]
  },
  {
   "cell_type": "code",
   "execution_count": null,
   "metadata": {
    "code_folding": [
     0
    ]
   },
   "outputs": [],
   "source": [
    "# Create and fit GridSearchCV, save \"best_model\"\n",
    "grid_cat_reg = GridSearchCV(pipeline_cat_reg,\n",
    "                            param_grid_cat_reg,\n",
    "                            cv=5,\n",
    "                            scoring=scoring,\n",
    "                            return_train_score=True,\n",
    "                            verbose=4,\n",
    "                            n_jobs=-1)\n",
    "\n",
    "grid_cat_reg = grid_cat_reg.fit(X_train, y_train)"
   ]
  },
  {
   "cell_type": "code",
   "execution_count": null,
   "metadata": {
    "code_folding": [
     0
    ]
   },
   "outputs": [],
   "source": [
    "# Assign result to best model\n",
    "best_model_cat_reg = grid_cat_reg.best_estimator_['cat_reg']"
   ]
  },
  {
   "cell_type": "code",
   "execution_count": null,
   "metadata": {
    "code_folding": [
     0
    ]
   },
   "outputs": [],
   "source": [
    "# Display best_score_, best_params_ and best_estimator_\n",
    "print('Best score:\\n{:.2f}'.format(grid_cat_reg.best_score_))\n",
    "print(\"Best parameters:\\n{}\".format(grid_cat_reg.best_params_))\n",
    "#print(\"Best estimator:\\n{}\".format(grid_xgb_reg.best_estimator_))"
   ]
  },
  {
   "cell_type": "markdown",
   "metadata": {},
   "source": [
    "### Feature Importances"
   ]
  },
  {
   "cell_type": "code",
   "execution_count": null,
   "metadata": {
    "code_folding": [
     0
    ],
    "scrolled": true
   },
   "outputs": [],
   "source": [
    "# Display feature importances\n",
    "fi_cat_reg = get_feat_importances(best_model_cat_reg, column_names=column_names)\n",
    "fi_cat_reg"
   ]
  },
  {
   "cell_type": "markdown",
   "metadata": {},
   "source": [
    "### Final Evaluation Best Model"
   ]
  },
  {
   "cell_type": "code",
   "execution_count": null,
   "metadata": {
    "code_folding": [
     0
    ]
   },
   "outputs": [],
   "source": [
    "# Load existing model\n",
    "#load_best_model = save_load(title=\"best_model_cat_reg\", function=\"load\")\n",
    "#load_best_cv = save_load(title=\"best_cv_cat_reg\", function=\"load\")"
   ]
  },
  {
   "cell_type": "markdown",
   "metadata": {},
   "source": [
    "**Learning Curves (Overfitting)**"
   ]
  },
  {
   "cell_type": "markdown",
   "metadata": {},
   "source": [
    "**Training Set**"
   ]
  },
  {
   "cell_type": "code",
   "execution_count": null,
   "metadata": {
    "code_folding": [
     0
    ]
   },
   "outputs": [],
   "source": [
    "# Predict target with \"best model\"\n",
    "y_train_pred_cat_reg = best_model_cat_reg.predict(X_train_prep)"
   ]
  },
  {
   "cell_type": "code",
   "execution_count": null,
   "metadata": {
    "code_folding": [
     0
    ]
   },
   "outputs": [],
   "source": [
    "# Final evaluation of \"best model\"\n",
    "model_eval(y_train, y_train_pred_cat_reg, model=\"reg\")"
   ]
  },
  {
   "cell_type": "markdown",
   "metadata": {},
   "source": [
    "**Testing Set**"
   ]
  },
  {
   "cell_type": "code",
   "execution_count": null,
   "metadata": {
    "code_folding": [
     0
    ]
   },
   "outputs": [],
   "source": [
    "# Predict target with \"best model\"\n",
    "y_test_pred_cat_reg = best_model_cat_reg.predict(X_test_prep)"
   ]
  },
  {
   "cell_type": "code",
   "execution_count": null,
   "metadata": {
    "code_folding": [
     0
    ],
    "scrolled": true
   },
   "outputs": [],
   "source": [
    "# Final evaluation of \"best model\"\n",
    "model_eval(y_test, y_test_pred_cat_reg, model=\"reg\")"
   ]
  },
  {
   "cell_type": "code",
   "execution_count": null,
   "metadata": {
    "code_folding": [
     0
    ]
   },
   "outputs": [],
   "source": [
    "# Display confidence interval (scipy stats)\n",
    "confidence = 0.95\n",
    "squared_errors = (y_test_pred_cat_reg - y_test)**2\n",
    "np.sqrt(\n",
    "    stats.t.interval(confidence,\n",
    "                     len(squared_errors) - 1,\n",
    "                     loc=squared_errors.mean(),\n",
    "                     scale=stats.sem(squared_errors)))"
   ]
  },
  {
   "cell_type": "markdown",
   "metadata": {},
   "source": [
    "**Median Price Intervals**"
   ]
  },
  {
   "cell_type": "code",
   "execution_count": null,
   "metadata": {
    "code_folding": [
     0
    ]
   },
   "outputs": [],
   "source": [
    "# Save MAPE_median as variable\n",
    "MAPE_median_cat_reg = (median_absolute_percentage_error(y_test, y_test_pred_cat_reg))/100"
   ]
  },
  {
   "cell_type": "code",
   "execution_count": null,
   "metadata": {
    "code_folding": [
     0
    ]
   },
   "outputs": [],
   "source": [
    "# Calculate price interval for MAPE median\n",
    "y_pred_interval_cat_reg = tuple([(round(math.exp(el-el*MAPE_median_cat_reg),2),round(math.exp(el+el*MAPE_median_cat_reg),2)) for el in y_test_pred_cat_reg])\n",
    "y_pred_interval_cat_reg"
   ]
  },
  {
   "cell_type": "markdown",
   "metadata": {},
   "source": [
    "**Save Model and Params**"
   ]
  },
  {
   "cell_type": "code",
   "execution_count": null,
   "metadata": {
    "code_folding": [
     0
    ]
   },
   "outputs": [],
   "source": [
    "# Save best model and cv\n",
    "save_load(best_model_cat_reg, title=\"best_model_cat_reg\", function=\"save\")\n",
    "save_load(grid_cat_reg, title=\"best_cv_cat_reg\", function=\"save\")"
   ]
  },
  {
   "cell_type": "markdown",
   "metadata": {},
   "source": [
    "## NN Model 1: Neural Networks"
   ]
  },
  {
   "cell_type": "code",
   "execution_count": null,
   "metadata": {
    "code_folding": [
     0
    ],
    "scrolled": true
   },
   "outputs": [],
   "source": [
    "# Build the model\n",
    "model_nn_seq = models.Sequential()\n",
    "\n",
    "# Input Layer\n",
    "model_nn_seq.add(\n",
    "    layers.Dense(128,\n",
    "                 input_shape=(X_train_prep.shape[1], ),\n",
    "                 kernel_regularizer=regularizers.l1(0.005),\n",
    "                 activation='relu'))\n",
    "\n",
    "# Hidden Layers\n",
    "model_nn_seq.add(\n",
    "    layers.Dense(256,\n",
    "                 kernel_regularizer=regularizers.l1(0.005),\n",
    "                 activation='relu'))\n",
    "model_nn_seq.add(\n",
    "    layers.Dense(256,\n",
    "                 kernel_regularizer=regularizers.l1(0.005),\n",
    "                 activation='relu'))\n",
    "model_nn_seq.add(\n",
    "    layers.Dense(512,\n",
    "                 kernel_regularizer=regularizers.l1(0.005),\n",
    "                 activation='relu'))\n",
    "\n",
    "# Output Layer\n",
    "model_nn_seq.add(layers.Dense(1, activation='linear'))\n",
    "\n",
    "# Compile the model\n",
    "model_nn_seq.compile(loss='mean_absolute_percentage_error',\n",
    "                     optimizer='adam',\n",
    "                     metrics=['mean_absolute_percentage_error'])\n",
    "\n",
    "# Model summary\n",
    "print(model_nn_seq.summary())\n",
    "\n",
    "# Visualize the neural network\n",
    "#SVG(model_to_dot(model_nn_seq, show_layer_names=False, show_shapes=True).create(prog='dot', format='svg'))"
   ]
  },
  {
   "cell_type": "code",
   "execution_count": null,
   "metadata": {
    "code_folding": [
     0
    ]
   },
   "outputs": [],
   "source": [
    "# Create pipeline with preprocessing\n",
    "#pipeline_nn_reg = Pipeline([('preprocessor', preprocessor),\n",
    "#                             ('nn_reg',\n",
    "#                              KerasRegressor(build_fn=model_nn_seq, epochs=20, batch_size=250))])"
   ]
  },
  {
   "cell_type": "code",
   "execution_count": null,
   "metadata": {
    "code_folding": [
     0
    ]
   },
   "outputs": [],
   "source": [
    "# Define hyperparameter grid\n",
    "#param_grid_nn_reg = {\n",
    "#    'xgb_reg__bootstrap': [True, False],\n",
    "#    'nn_reg__epochs': [10, 20]\n",
    "#}"
   ]
  },
  {
   "cell_type": "code",
   "execution_count": null,
   "metadata": {
    "code_folding": [
     0
    ]
   },
   "outputs": [],
   "source": [
    "# Create and fit GridSearchCV, save \"best_model\"\n",
    "#grid_nn_reg = GridSearchCV(pipeline_nn_reg,\n",
    "#                            param_grid_nn_reg,\n",
    "#                            cv=5,\n",
    "#                            scoring=scoring,\n",
    "#                            return_train_score=True,\n",
    "#                            verbose=4,\n",
    "#                            n_jobs=-1)\n",
    "\n",
    "#grid_nn_reg = grid_nn_reg.fit(X_train, y_train)"
   ]
  },
  {
   "cell_type": "code",
   "execution_count": null,
   "metadata": {
    "code_folding": [
     0
    ]
   },
   "outputs": [],
   "source": [
    "# Train the model\n",
    "#model_nn_seq_start = time.time()\n",
    "\n",
    "best_model_nn_reg = model_nn_seq.fit(X_train_prep,\n",
    "                                        y_train,\n",
    "                                        epochs=20,\n",
    "                                        batch_size=256,\n",
    "                                        validation_split=0.2)\n",
    "\n",
    "#model_nn_seq_end = time.time()\n",
    "\n",
    "#print(f\"Time taken to run: {round((model_nn_seq_end - model_nn_seq_start)/60,1)} minutes\")"
   ]
  },
  {
   "cell_type": "markdown",
   "metadata": {},
   "source": [
    "**Training Set**"
   ]
  },
  {
   "cell_type": "code",
   "execution_count": null,
   "metadata": {
    "code_folding": [
     0
    ]
   },
   "outputs": [],
   "source": [
    "# Predict target with \"best model\"\n",
    "y_train_pred_nn_reg = model_nn_seq.predict(X_train_prep).ravel()"
   ]
  },
  {
   "cell_type": "code",
   "execution_count": null,
   "metadata": {
    "code_folding": [
     0
    ],
    "scrolled": true
   },
   "outputs": [],
   "source": [
    "# Final evaluation of \"best model\"\n",
    "model_eval(y_train, y_train_pred_nn_reg, model=\"reg\")"
   ]
  },
  {
   "cell_type": "markdown",
   "metadata": {},
   "source": [
    "**Testing Set**"
   ]
  },
  {
   "cell_type": "code",
   "execution_count": null,
   "metadata": {
    "code_folding": [
     0
    ]
   },
   "outputs": [],
   "source": [
    "# Predict target with \"best model\"\n",
    "y_test_pred_nn_reg = model_nn_seq.predict(X_test_prep).ravel()"
   ]
  },
  {
   "cell_type": "code",
   "execution_count": null,
   "metadata": {
    "code_folding": [
     0
    ]
   },
   "outputs": [],
   "source": [
    "# Final evaluation of \"best model\"\n",
    "model_eval(y_test, y_test_pred_nn_reg, model=\"reg\")"
   ]
  },
  {
   "cell_type": "code",
   "execution_count": null,
   "metadata": {
    "code_folding": [
     0
    ]
   },
   "outputs": [],
   "source": [
    "# Display confidence interval (scipy stats)\n",
    "confidence = 0.95\n",
    "squared_errors = (y_test_pred_nn_reg - y_test)**2\n",
    "np.sqrt(\n",
    "    stats.t.interval(confidence,\n",
    "                     len(squared_errors) - 1,\n",
    "                     loc=squared_errors.mean(),\n",
    "                     scale=stats.sem(squared_errors)))"
   ]
  },
  {
   "cell_type": "markdown",
   "metadata": {},
   "source": [
    "**Median Price Intervals**"
   ]
  },
  {
   "cell_type": "code",
   "execution_count": null,
   "metadata": {
    "code_folding": [
     0
    ]
   },
   "outputs": [],
   "source": [
    "# Save MAPE_median as variable\n",
    "MAPE_median_nn_reg = (median_absolute_percentage_error(y_test, y_test_pred_nn_reg))/100"
   ]
  },
  {
   "cell_type": "code",
   "execution_count": null,
   "metadata": {
    "code_folding": [
     0
    ]
   },
   "outputs": [],
   "source": [
    "# Calculate price interval for MAPE median\n",
    "y_pred_interval_nn_reg = tuple([(round(math.exp(el-el*MAPE_median_nn_reg),2),round(math.exp(el+el*MAPE_median_nn_reg),2)) for el in y_test_pred_nn_reg])\n",
    "y_pred_interval_nn_reg"
   ]
  },
  {
   "cell_type": "code",
   "execution_count": null,
   "metadata": {
    "code_folding": [
     0
    ]
   },
   "outputs": [],
   "source": [
    "# Evaluate the model\n",
    "#model_nn_seq.model_evaluation(model_nn_seq, skip_epochs=2, X_train=X_train, X_test=X_test)\n",
    "\n",
    "#score_nn_seq = model_nn_seq.evaluate(X_train_prep, y_train,verbose=1)\n",
    "#print(score_nn_seq)"
   ]
  },
  {
   "cell_type": "markdown",
   "metadata": {},
   "source": [
    "**Save Model and Params**"
   ]
  },
  {
   "cell_type": "code",
   "execution_count": null,
   "metadata": {
    "code_folding": [
     0
    ]
   },
   "outputs": [],
   "source": [
    "# Save best model and cv\n",
    "save_load(best_model_nn_reg, title=\"best_model_nn_reg\", function=\"save\")"
   ]
  },
  {
   "cell_type": "markdown",
   "metadata": {
    "heading_collapsed": true
   },
   "source": [
    "## Final Evaluation with Testing Set"
   ]
  },
  {
   "cell_type": "code",
   "execution_count": null,
   "metadata": {
    "hidden": true
   },
   "outputs": [],
   "source": [
    "#best_models_reg = [best_model_xgb_reg, best_model_svm_reg]"
   ]
  },
  {
   "cell_type": "code",
   "execution_count": null,
   "metadata": {
    "code_folding": [
     0
    ],
    "hidden": true
   },
   "outputs": [],
   "source": [
    "# Transform X_test for final evaluation\n",
    "#X_test_prep = preprocessor.transform(X_test)"
   ]
  },
  {
   "cell_type": "code",
   "execution_count": null,
   "metadata": {
    "code_folding": [
     0
    ],
    "hidden": true
   },
   "outputs": [],
   "source": [
    "# Predict target with \"best model\"\n",
    "#y_pred_rf_reg = best_model_rf_reg.predict(X_test_prep)"
   ]
  },
  {
   "cell_type": "code",
   "execution_count": null,
   "metadata": {
    "code_folding": [
     0
    ],
    "hidden": true
   },
   "outputs": [],
   "source": [
    "# Final evaluation of \"best model\"\n",
    "#print(\"MSE: {:.2f}\".format(mean_squared_error(y_test, y_pred_rf_reg))),\n",
    "#print(\"RMSE: {:.2f}\".format(mean_squared_error(y_test, y_pred_rf_reg, squared=False))),\n",
    "#print(\"MAE: {:.2f}\".format(mean_absolute_error(y_test, y_pred_rf_reg))),\n",
    "#print(\"R2: {:.2f}\".format(r2_score(y_test, y_pred_rf_reg))),"
   ]
  },
  {
   "cell_type": "code",
   "execution_count": null,
   "metadata": {
    "code_folding": [
     0
    ],
    "hidden": true
   },
   "outputs": [],
   "source": [
    "# Illustrate best model\n",
    "#fig, axes = plt.subplots(1, 2, figsize = (14, 6))\n",
    "#axes = axes.flatten()\n",
    "\n",
    "#y_pred = best_model.predict(X_test_prep)\n",
    "#axes[0].scatter(y_test, y_pred)\n",
    "#axes[0].set_xlabel('y_test')\n",
    "#axes[0].set_ylabel('y_pred')\n",
    "\n",
    "#coef = best_model.best_estimator_.named_steps['xgb'].coef_\n",
    "#mean_coef = np.mean(coef)\n",
    "#axes[1].plot(coef, 'o')\n",
    "#axes[1].set_xlabel('coefficient index')\n",
    "#axes[1].set_ylabel('coefficient size')\n",
    "#axes[1].axhline(y = mean_coef, color = 'red', linestyle = '--', alpha = 0.5)\n",
    "#plt.show()"
   ]
  },
  {
   "cell_type": "code",
   "execution_count": null,
   "metadata": {
    "code_folding": [
     0
    ],
    "hidden": true
   },
   "outputs": [],
   "source": [
    "# Display confidence interval (scipy stats)\n",
    "#confidence = 0.95\n",
    "#squared_errors = (y_pred_rf_reg - y_test) ** 2\n",
    "#np.sqrt(stats.t.interval(confidence, len(squared_errors) - 1,\n",
    "#                         loc=squared_errors.mean(),\n",
    "#                         scale=stats.sem(squared_errors)))"
   ]
  },
  {
   "cell_type": "markdown",
   "metadata": {},
   "source": [
    "# Model Selection for Web App"
   ]
  },
  {
   "cell_type": "markdown",
   "metadata": {},
   "source": [
    "**Best model**"
   ]
  },
  {
   "cell_type": "code",
   "execution_count": null,
   "metadata": {
    "code_folding": [
     0
    ]
   },
   "outputs": [],
   "source": [
    "# Load or assign best model\n",
    "#APP_best_model = save_load(title=\"best_model_xgb_reg\", function=\"load\", dataset_loc=dataset_loc, dataset_date=dataset_date, model_run=model_run)\n",
    "APP_best_model = best_model_xgb_reg"
   ]
  },
  {
   "cell_type": "code",
   "execution_count": null,
   "metadata": {
    "code_folding": [
     0
    ]
   },
   "outputs": [],
   "source": [
    "# Save best model and cv\n",
    "save_load(APP_best_model, title=\"APP_best_model\", file_format=\"app\", function=\"save\")"
   ]
  },
  {
   "cell_type": "markdown",
   "metadata": {},
   "source": [
    "**Preprocessor**"
   ]
  },
  {
   "cell_type": "code",
   "execution_count": null,
   "metadata": {
    "code_folding": [
     0
    ]
   },
   "outputs": [],
   "source": [
    "# Load or assign preprocessor\n",
    "#APP_preprocessor = save_load(title=\"preprocessor\", function=\"load\", dataset_loc=dataset_loc, dataset_date=dataset_date, model_run=model_run)\n",
    "APP_preprocessor = preprocessor"
   ]
  },
  {
   "cell_type": "code",
   "execution_count": null,
   "metadata": {
    "code_folding": [
     0
    ]
   },
   "outputs": [],
   "source": [
    "# Save preprocessor\n",
    "save_load(APP_preprocessor, title=\"APP_preprocessor\", file_format=\"app\", function=\"save\")"
   ]
  },
  {
   "cell_type": "markdown",
   "metadata": {},
   "source": [
    "**X_test**"
   ]
  },
  {
   "cell_type": "code",
   "execution_count": null,
   "metadata": {
    "code_folding": [
     0
    ]
   },
   "outputs": [],
   "source": [
    "# Load or assign X_test\n",
    "#APP_X_test = save_load(title=\"X_test\", function=\"load\", dataset_loc=dataset_loc, dataset_date=dataset_date, model_run=model_run)\n",
    "APP_X_test = X_test"
   ]
  },
  {
   "cell_type": "code",
   "execution_count": null,
   "metadata": {
    "code_folding": [
     0
    ]
   },
   "outputs": [],
   "source": [
    "# Save X_test\n",
    "save_load(APP_X_test, title=\"APP_X_test\", file_format=\"app\", function=\"save\")"
   ]
  },
  {
   "cell_type": "markdown",
   "metadata": {},
   "source": [
    "**MAPE_median**"
   ]
  },
  {
   "cell_type": "code",
   "execution_count": null,
   "metadata": {
    "code_folding": [
     0
    ]
   },
   "outputs": [],
   "source": [
    "# Load or assign MAPE_median\n",
    "#APP_MAPE_median = save_load(title=\"MAPE_median_xgb_reg\", function=\"load\", dataset_loc=dataset_loc, dataset_date=dataset_date, model_run=model_run)\n",
    "APP_MAPE_median = MAPE_median_xgb_reg"
   ]
  },
  {
   "cell_type": "code",
   "execution_count": null,
   "metadata": {
    "code_folding": [
     0
    ]
   },
   "outputs": [],
   "source": [
    "# Save MAPE_median\n",
    "save_load(APP_MAPE_median, title=\"APP_MAPE_median\", file_format=\"app\", function=\"save\")"
   ]
  },
  {
   "cell_type": "markdown",
   "metadata": {},
   "source": [
    "# Future Work"
   ]
  },
  {
   "cell_type": "markdown",
   "metadata": {},
   "source": [
    "**Predictive modeling**\n",
    "- Apply further models and adapt current ones (e.g. NN)\n",
    "- Examine other prediction targets (e.g. occupancy rate)\n",
    "\n",
    "**Feature engineering**\n",
    "- Explore NLP for text fields (descriptions, reviews, ...)\n",
    "- Scrape listing photos and analyze quality\n",
    "- Enhance current feature set\n",
    "\n",
    "**Lean structure**\n",
    "- Remove remaining redundancies wherever possible (e.g. pack repeated steps into functions, apply more pipelines, ...)\n",
    "\n",
    "**Cloud**\n",
    "- Move both model creation and app into the cloud (GCP)\n",
    "\n",
    "**Automatization and replicability**\n",
    "- Build a workflow to automatically retrain model monthly with new datasets\n",
    "- Use automated outlier detection\n",
    "- Use automated feature engineering\n",
    "\n",
    "**Replicability**\n",
    "- Reduce redundancies wherever possible (e.g. pack repeated steps into functions, apply more pipelines, ...)\n",
    "- Apply analysis to other cities and compare results"
   ]
  }
 ],
 "metadata": {
  "kernelspec": {
   "display_name": "Python [conda env:airbnb42] *",
   "language": "python",
   "name": "conda-env-airbnb42-py"
  },
  "language_info": {
   "codemirror_mode": {
    "name": "ipython",
    "version": 3
   },
   "file_extension": ".py",
   "mimetype": "text/x-python",
   "name": "python",
   "nbconvert_exporter": "python",
   "pygments_lexer": "ipython3",
   "version": "3.6.10"
  },
  "toc": {
   "base_numbering": 1,
   "nav_menu": {},
   "number_sections": true,
   "sideBar": true,
   "skip_h1_title": false,
   "title_cell": "Table of Contents",
   "title_sidebar": "Contents",
   "toc_cell": false,
   "toc_position": {
    "height": "calc(100% - 180px)",
    "left": "10px",
    "top": "150px",
    "width": "384px"
   },
   "toc_section_display": true,
   "toc_window_display": true
  }
 },
 "nbformat": 4,
 "nbformat_minor": 4
}
