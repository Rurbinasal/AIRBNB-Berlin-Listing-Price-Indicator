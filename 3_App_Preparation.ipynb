{
 "cells": [
  {
   "cell_type": "markdown",
   "metadata": {},
   "source": [
    "# Business understanding and set-up"
   ]
  },
  {
   "cell_type": "markdown",
   "metadata": {},
   "source": [
    "This notebook provides a simplified way to **load, inspect, evaluate and save existing datasets and models** that may be used for the interactive web app."
   ]
  },
  {
   "cell_type": "markdown",
   "metadata": {},
   "source": [
    "## Libraries and dashboard"
   ]
  },
  {
   "cell_type": "code",
   "execution_count": 1,
   "metadata": {
    "code_folding": [
     0
    ]
   },
   "outputs": [],
   "source": [
    "# Import libraries\n",
    "import pandas as pd\n",
    "import numpy as np\n",
    "import joblib\n",
    "import os, glob\n",
    "import math\n",
    "\n",
    "# Evaluation Metrics\n",
    "from sklearn import metrics\n",
    "from sklearn.metrics import mean_absolute_error, mean_squared_error, r2_score, make_scorer, fbeta_score, accuracy_score, confusion_matrix, f1_score, precision_recall_curve, recall_score, precision_score, roc_auc_score\n",
    "from scipy.sparse import csr_matrix\n",
    "import scipy.stats as stats"
   ]
  },
  {
   "cell_type": "code",
   "execution_count": 2,
   "metadata": {
    "code_folding": []
   },
   "outputs": [],
   "source": [
    "# Dashboard\n",
    "dataset_loc = \"paris\"   # \"berlin\", \"paris\", \"amsterdam\", \"barcelona\"\n",
    "dataset_date = \"2020-03-16\"  # berlin: \"2020-03-17\", paris: \"2020-03-16\", amsterdam: \"2020-03-14\", barcelona: \"2020-03-16\", \n",
    "model_run = \"2020-08-26\"     # date of dataset/model creation (determines subfolder for saves of datasets/models)\n",
    "\n",
    "pd.set_option('display.max_columns', 150)\n",
    "pd.set_option('display.max_rows', 150)\n",
    "pd.options.display.max_seq_items = 300"
   ]
  },
  {
   "cell_type": "markdown",
   "metadata": {},
   "source": [
    "As mentioned further above, it is necessary to **explicitly declare target** as the notebook was previously set-up to enable analysis and modeling on varying target features."
   ]
  },
  {
   "cell_type": "markdown",
   "metadata": {},
   "source": [
    "## Global functions and variables"
   ]
  },
  {
   "cell_type": "code",
   "execution_count": 3,
   "metadata": {
    "code_folding": [
     0
    ]
   },
   "outputs": [],
   "source": [
    "# \"save_load\": Function for saving and loading datasets/models (joblib)\n",
    "def save_load(data=False, title=\"unknown\", file_format=\"pkl\", function=\"save\", dataset_loc=dataset_loc, dataset_date=dataset_date, model_run=model_run):\n",
    "    if function==\"save\":\n",
    "        if file_format==\"pkl\":\n",
    "            joblib.dump(data, f\"data/{dataset_loc}_{dataset_date}/{model_run}/{title}.pkl\")\n",
    "        elif file_format==\"app\":\n",
    "            joblib.dump(data, f\"data/{dataset_loc}_{dataset_date}/{title}.pkl\")\n",
    "        else:\n",
    "            print(\"Please enter a valid file_format (default is pkl; 'app' for data used in web app).\")\n",
    "    elif function==\"load\":\n",
    "        if file_format==\"pkl\":\n",
    "            return joblib.load(f\"data/{dataset_loc}_{dataset_date}/{model_run}/{title}.pkl\")\n",
    "        elif file_format==\"csv\":\n",
    "            return pd.read_csv(f\"data/{dataset_loc}_{dataset_date}/{title}.csv\")\n",
    "        elif file_format==\"csv.gz\":\n",
    "            return pd.read_csv(f\"data/{dataset_loc}_{dataset_date}/{title}.csv.gz\")\n",
    "        elif file_format==\"geojson\":\n",
    "            return pd.read_csv(f\"data/{dataset_loc}_{dataset_date}/{title}.geojson\")\n",
    "        else:\n",
    "            print(\"Please enter a valid file_format (default is pkl).\")"
   ]
  },
  {
   "cell_type": "code",
   "execution_count": 4,
   "metadata": {
    "code_folding": [
     0
    ]
   },
   "outputs": [],
   "source": [
    "# \"model_eval\": Function for final evaluation of \"best model\"\n",
    "def model_eval(y, y_pred, model=\"reg\"):\n",
    "    \"\"\"\n",
    "    Please always specify the type of model:\n",
    "    Regression: model=\"reg\"\n",
    "    Binary Classification: model=\"bclf\"\n",
    "    Multiclass Classification: model=\"clf\"\n",
    "    \"\"\"\n",
    "    if model==\"reg\":\n",
    "        print(\"MSE: {:.2f}\".format(mean_squared_error(y, y_pred)))\n",
    "        print(\"RMSE: {:.2f}\".format(\n",
    "        mean_squared_error(y, y_pred, squared=False)))\n",
    "        print(\"MAE: {:.2f}\".format(mean_absolute_error(y, y_pred)))\n",
    "        print(\"R2: {:.2f}\".format(r2_score(y, y_pred)))\n",
    "        print(\"MAPE: {:.2f}\".format(mean_absolute_percentage_error(y, y_pred)))\n",
    "        print(\"MAPE median: {:.2f}\".format(median_absolute_percentage_error(y, y_pred)))\n",
    "\n",
    "    elif model==\"bclf\":\n",
    "        print(\"Accuracy: {:.2f}\".format(accuracy_score(y, y_pred)))\n",
    "        print(\"Recall: {:.2f}\".format(recall_score(y, y_pred)))\n",
    "        print(\"Precision: {:.2f}\".format(precision_score(y, y_pred)))\n",
    "        print(\"F1 Score: {:.2f}\".format(f1_score(y, y_pred)))\n",
    "        print(\"ROC/AUC: {:.2f}\".format(roc_auc_score(y, y_pred)))\n",
    "        print(\"Confusion Matrix: \\n\" + str(confusion_matrix(y, y_pred)))\n",
    "\n",
    "    elif model==\"clf\":\n",
    "        print(\"Accuracy: {:.2f}\".format(accuracy_score(y, y_pred)))\n",
    "        print(\"Recall: {:.2f}\".format(recall_score(y, y_pred, average='weighted')))\n",
    "        print(\"Precision: {:.2f}\".format(precision_score(y, y_pred, average='weighted')))\n",
    "        print(\"F1 Score: {:.2f}\".format(f1_score(y, y_pred, average='weighted')))\n",
    "        print(\"Confusion Matrix: \\n\" + str(confusion_matrix(y, y_pred)))\n",
    "    \n",
    "    else:\n",
    "        print(\"Please revise your parameters (e.g. provide a valid model).\")"
   ]
  },
  {
   "cell_type": "code",
   "execution_count": 5,
   "metadata": {
    "code_folding": [
     0
    ]
   },
   "outputs": [],
   "source": [
    "# \"mean_absolute_percentage_error\": Function for mean absolute percentage error (MAPE)\n",
    "def mean_absolute_percentage_error(y_true, y_pred): \n",
    "    y_true, y_pred = np.array(y_true), np.array(y_pred)\n",
    "    return np.mean(np.abs((y_true - y_pred) / y_true)) * 100"
   ]
  },
  {
   "cell_type": "code",
   "execution_count": 6,
   "metadata": {
    "code_folding": [
     0
    ]
   },
   "outputs": [],
   "source": [
    "# \"median_absolute_percentage_error\": Function for median absolute percentage error (MAPE median)\n",
    "def median_absolute_percentage_error(y_true, y_pred): \n",
    "    y_true, y_pred = np.array(y_true), np.array(y_pred)\n",
    "    return np.median(np.abs((y_true - y_pred) / y_true)) * 100"
   ]
  },
  {
   "cell_type": "code",
   "execution_count": 7,
   "metadata": {
    "code_folding": [
     0
    ]
   },
   "outputs": [],
   "source": [
    "# \"get_feat_importances\": Function for retrieving feature importances\n",
    "def get_feat_importances(model, column_names):\n",
    "    model=model\n",
    "    feat_importances = pd.DataFrame(model.feature_importances_,\n",
    "                 columns=['weight'],\n",
    "                 index=column_names)\n",
    "    feat_importances.sort_values('weight', inplace=True, ascending=False)\n",
    "    return feat_importances"
   ]
  },
  {
   "cell_type": "markdown",
   "metadata": {},
   "source": [
    "## Inspect datasets"
   ]
  },
  {
   "cell_type": "markdown",
   "metadata": {},
   "source": [
    "**Import raw dataset**"
   ]
  },
  {
   "cell_type": "code",
   "execution_count": 8,
   "metadata": {
    "code_folding": []
   },
   "outputs": [
    {
     "name": "stderr",
     "output_type": "stream",
     "text": [
      "C:\\Users\\Mauricio\\anaconda3\\envs\\airbnb42\\lib\\site-packages\\IPython\\core\\interactiveshell.py:3263: DtypeWarning: Columns (43,61,62) have mixed types.Specify dtype option on import or set low_memory=False.\n",
      "  if (await self.run_code(code, result,  async_=asy)):\n"
     ]
    }
   ],
   "source": [
    "# Import raw dataset as DataFrame (as csv-file)\n",
    "data_raw = save_load(title=\"listings\", file_format=\"csv.gz\", function=\"load\")"
   ]
  },
  {
   "cell_type": "code",
   "execution_count": 9,
   "metadata": {
    "code_folding": [
     0
    ]
   },
   "outputs": [],
   "source": [
    "# Assign data_raw to data (in order to always keep a freshly imported data_raw) and set id as index\n",
    "data = data_raw.copy()\n",
    "data.set_index('id', inplace=True)"
   ]
  },
  {
   "cell_type": "markdown",
   "metadata": {},
   "source": [
    "**Import data_clean or data_engineered**"
   ]
  },
  {
   "cell_type": "code",
   "execution_count": 10,
   "metadata": {
    "code_folding": []
   },
   "outputs": [],
   "source": [
    "# Import data_engineered\n",
    "data_engineered = save_load(title=\"data_engineered\", function=\"load\")"
   ]
  },
  {
   "cell_type": "markdown",
   "metadata": {},
   "source": [
    "**Import X_test and preprocessor**"
   ]
  },
  {
   "cell_type": "code",
   "execution_count": 11,
   "metadata": {},
   "outputs": [],
   "source": [
    "X_test = save_load(title=\"X_test\", function=\"load\")\n",
    "preprocessor = save_load(title=\"preprocessor\", function=\"load\")\n",
    "X_test_prep = preprocessor.transform(X_test)"
   ]
  },
  {
   "cell_type": "markdown",
   "metadata": {},
   "source": [
    "**Import existing model**"
   ]
  },
  {
   "cell_type": "code",
   "execution_count": 12,
   "metadata": {
    "code_folding": [
     0
    ]
   },
   "outputs": [],
   "source": [
    "# Load existing model\n",
    "#best_model = save_load(title=\"best_model_xgb_reg\", function=\"load\")\n",
    "#best_cv = save_load(title=\"best_cv_xgb_reg\", function=\"load\")"
   ]
  },
  {
   "cell_type": "markdown",
   "metadata": {},
   "source": [
    "**Inspect datasets**"
   ]
  },
  {
   "cell_type": "code",
   "execution_count": 26,
   "metadata": {},
   "outputs": [
    {
     "data": {
      "text/plain": [
       "['zip_75012',\n",
       " 'zip_75019',\n",
       " 'zip_75013',\n",
       " 'zip_75005',\n",
       " 'zip_75016',\n",
       " 'zip_75006',\n",
       " 'zip_75015',\n",
       " 'zip_75116',\n",
       " 'zip_75001',\n",
       " 'zip_75003',\n",
       " 'zip_75017',\n",
       " 'zip_75002',\n",
       " 'zip_75011',\n",
       " 'zip_75009',\n",
       " 'zip_75018',\n",
       " 'zip_75020',\n",
       " 'zip_75004',\n",
       " 'zip_other',\n",
       " 'zip_75010',\n",
       " 'zip_75014',\n",
       " 'zip_75008',\n",
       " 'zip_75007']"
      ]
     },
     "execution_count": 26,
     "metadata": {},
     "output_type": "execute_result"
    }
   ],
   "source": [
    "list(set(data_engineered.zipcode))"
   ]
  },
  {
   "cell_type": "markdown",
   "metadata": {},
   "source": [
    "# Model selection for web application"
   ]
  },
  {
   "cell_type": "markdown",
   "metadata": {},
   "source": [
    "**data_engineered**"
   ]
  },
  {
   "cell_type": "code",
   "execution_count": 14,
   "metadata": {
    "code_folding": []
   },
   "outputs": [],
   "source": [
    "# Load or assign data_engineered\n",
    "#APP_data_engineered = save_load(title=\"data_engineered\", function=\"load\", dataset_loc=dataset_loc, dataset_date=dataset_date, model_run=model_run)\n",
    "#APP_data_engineered = data_engineered.copy()"
   ]
  },
  {
   "cell_type": "code",
   "execution_count": 15,
   "metadata": {
    "code_folding": []
   },
   "outputs": [],
   "source": [
    "# Save best model and cv\n",
    "#save_load(APP_data_engineered, title=\"APP_data_engineered\", file_format=\"app\", function=\"save\")"
   ]
  },
  {
   "cell_type": "markdown",
   "metadata": {},
   "source": [
    "**Best model**"
   ]
  },
  {
   "cell_type": "code",
   "execution_count": 16,
   "metadata": {
    "code_folding": []
   },
   "outputs": [],
   "source": [
    "# Load or assign best model\n",
    "#APP_best_model = save_load(title=\"best_model_xgb_reg\", function=\"load\", dataset_loc=dataset_loc, dataset_date=dataset_date, model_run=model_run)\n",
    "#APP_best_model = best_model_xgb_reg"
   ]
  },
  {
   "cell_type": "code",
   "execution_count": 17,
   "metadata": {
    "code_folding": []
   },
   "outputs": [],
   "source": [
    "# Save best model and cv\n",
    "#save_load(APP_best_model, title=\"APP_best_model\", file_format=\"app\", function=\"save\")"
   ]
  },
  {
   "cell_type": "markdown",
   "metadata": {},
   "source": [
    "**Preprocessor**"
   ]
  },
  {
   "cell_type": "code",
   "execution_count": 18,
   "metadata": {
    "code_folding": []
   },
   "outputs": [],
   "source": [
    "# Load or assign preprocessor\n",
    "#APP_preprocessor = save_load(title=\"preprocessor\", function=\"load\", dataset_loc=dataset_loc, dataset_date=dataset_date, model_run=model_run)\n",
    "#APP_preprocessor = X_train_prep_preprocessor"
   ]
  },
  {
   "cell_type": "code",
   "execution_count": 19,
   "metadata": {
    "code_folding": []
   },
   "outputs": [],
   "source": [
    "# Save preprocessor\n",
    "#save_load(APP_preprocessor, title=\"APP_preprocessor\", file_format=\"app\", function=\"save\")"
   ]
  },
  {
   "cell_type": "markdown",
   "metadata": {},
   "source": [
    "**X_test**"
   ]
  },
  {
   "cell_type": "code",
   "execution_count": 20,
   "metadata": {
    "code_folding": []
   },
   "outputs": [],
   "source": [
    "# Load or assign X_test\n",
    "#APP_X_test = save_load(title=\"X_test\", function=\"load\", dataset_loc=dataset_loc, dataset_date=dataset_date, model_run=model_run)\n",
    "#APP_X_test = X_test"
   ]
  },
  {
   "cell_type": "code",
   "execution_count": 21,
   "metadata": {
    "code_folding": []
   },
   "outputs": [],
   "source": [
    "# Save X_test\n",
    "#save_load(APP_X_test, title=\"APP_X_test\", file_format=\"app\", function=\"save\")"
   ]
  },
  {
   "cell_type": "markdown",
   "metadata": {},
   "source": [
    "**MAPE_median**"
   ]
  },
  {
   "cell_type": "code",
   "execution_count": 22,
   "metadata": {
    "code_folding": []
   },
   "outputs": [],
   "source": [
    "# Load or assign MAPE_median\n",
    "#APP_MAPE_median = save_load(title=\"MAPE_median_xgb_reg\", function=\"load\", dataset_loc=dataset_loc, dataset_date=dataset_date, model_run=model_run)\n",
    "#APP_MAPE_median = MAPE_median_xgb_reg"
   ]
  },
  {
   "cell_type": "code",
   "execution_count": 23,
   "metadata": {
    "code_folding": []
   },
   "outputs": [],
   "source": [
    "# Save MAPE_median\n",
    "#save_load(APP_MAPE_median, title=\"APP_MAPE_median\", file_format=\"app\", function=\"save\")"
   ]
  },
  {
   "cell_type": "markdown",
   "metadata": {},
   "source": [
    "**Zipcode**"
   ]
  },
  {
   "cell_type": "code",
   "execution_count": 27,
   "metadata": {
    "code_folding": [
     0
    ]
   },
   "outputs": [],
   "source": [
    "# Load or assign zipcode\n",
    "#APP_zipcode = save_load(title=\"MAPE_median_xgb_reg\", function=\"load\", dataset_loc=dataset_loc, dataset_date=dataset_date, model_run=model_run)\n",
    "#APP_zipcode = list(set(data_engineered.zipcode))\n",
    "#APP_zipcode.sort()"
   ]
  },
  {
   "cell_type": "code",
   "execution_count": 29,
   "metadata": {
    "code_folding": []
   },
   "outputs": [],
   "source": [
    "# Save zipcode\n",
    "#save_load(APP_zipcode, title=\"APP_zipcode\", file_format=\"app\", function=\"save\")"
   ]
  },
  {
   "cell_type": "code",
   "execution_count": null,
   "metadata": {},
   "outputs": [],
   "source": []
  }
 ],
 "metadata": {
  "kernelspec": {
   "display_name": "Python [conda env:airbnb42] *",
   "language": "python",
   "name": "conda-env-airbnb42-py"
  },
  "language_info": {
   "codemirror_mode": {
    "name": "ipython",
    "version": 3
   },
   "file_extension": ".py",
   "mimetype": "text/x-python",
   "name": "python",
   "nbconvert_exporter": "python",
   "pygments_lexer": "ipython3",
   "version": "3.6.10"
  },
  "toc": {
   "base_numbering": 1,
   "nav_menu": {},
   "number_sections": true,
   "sideBar": true,
   "skip_h1_title": false,
   "title_cell": "Table of Contents",
   "title_sidebar": "Contents",
   "toc_cell": false,
   "toc_position": {
    "height": "calc(100% - 180px)",
    "left": "10px",
    "top": "150px",
    "width": "384px"
   },
   "toc_section_display": true,
   "toc_window_display": false
  }
 },
 "nbformat": 4,
 "nbformat_minor": 4
}
